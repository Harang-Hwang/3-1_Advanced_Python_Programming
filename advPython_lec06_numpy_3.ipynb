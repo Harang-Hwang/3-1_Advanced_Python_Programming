{
  "cells": [
    {
      "cell_type": "markdown",
      "metadata": {
        "id": "bZLnz7EEqxaX"
      },
      "source": [
        "### 4월 11일"
      ]
    },
    {
      "cell_type": "code",
      "execution_count": null,
      "metadata": {
        "id": "Fe970X1-qwVi"
      },
      "outputs": [],
      "source": [
        "import numpy as np"
      ]
    },
    {
      "cell_type": "code",
      "execution_count": null,
      "metadata": {
        "colab": {
          "base_uri": "https://localhost:8080/"
        },
        "id": "Byct44n-KZHy",
        "outputId": "c2f00d73-11ca-4318-f393-16d03687e289"
      },
      "outputs": [
        {
          "name": "stdout",
          "output_type": "stream",
          "text": [
            "[[1 2]\n",
            " [3 4]\n",
            " [5 6]]\n",
            "==============================\n",
            "[1 4 5]\n"
          ]
        }
      ],
      "source": [
        "# 고급 인덱싱 (1)\n",
        "\n",
        "# 고급 인덱싱\n",
        "\n",
        "arr = np.array([[1, 2], [3, 4], [5, 6]])\n",
        "\n",
        "print(arr)\n",
        "print('='*30)\n",
        "\n",
        "print(arr[[0, 1, 2], [0, 1, 0]])   # arr[[행 인덱스], [열 인덱스]]\n"
      ]
    },
    {
      "cell_type": "code",
      "execution_count": null,
      "metadata": {
        "colab": {
          "base_uri": "https://localhost:8080/"
        },
        "id": "LS0suK9XK0FL",
        "outputId": "d70dc343-b155-408e-e18e-7d70042e637f"
      },
      "outputs": [
        {
          "name": "stdout",
          "output_type": "stream",
          "text": [
            "[[ 0  1  2]\n",
            " [ 3  4  5]\n",
            " [ 6  7  8]\n",
            " [ 9 10 11]]\n",
            "==============================\n",
            "[[ 0  2]\n",
            " [ 9 11]]\n"
          ]
        }
      ],
      "source": [
        "# 고급 인덱싱 (2)\n",
        "\n",
        "# 4x3 배열 객체에서 고급 인덱싱 사용\n",
        "\n",
        "arr = np.array([[0, 1, 2], [3, 4, 5], [6, 7, 8], [9, 10, 11]])\n",
        "print(arr), print('='*30)\n",
        "\n",
        "rows = np.array([[0, 0], [3, 3]], dtype=np.intp)\n",
        "columns = np.array([[0, 2], [0, 2]], dtype=np.intp)\n",
        "print(arr[rows, columns])"
      ]
    },
    {
      "cell_type": "code",
      "execution_count": null,
      "metadata": {
        "colab": {
          "base_uri": "https://localhost:8080/"
        },
        "id": "s7ATyQWPJMVu",
        "outputId": "f9a5fff7-9813-41c5-ec9d-a3ade040cacc"
      },
      "outputs": [
        {
          "name": "stdout",
          "output_type": "stream",
          "text": [
            "[[1 2 3]\n",
            " [4 5 6]\n",
            " [7 8 9]]\n",
            "==============================\n",
            "[[1 2]\n",
            " [4 5]]\n",
            "==============================\n",
            "[[100   2]\n",
            " [  4   5]]\n",
            "==============================\n",
            "[[100   2   3]\n",
            " [  4   5   6]\n",
            " [  7   8   9]]\n"
          ]
        }
      ],
      "source": [
        "## 기본 인덱싱 (basic indexing) vs. 고급 인덱싱 (advanced indexing) (1)\n",
        "\n",
        "# 기본 인덱싱: 원본 배열도 변경\n",
        "\n",
        "arr = np.array([[1, 2, 3], [4, 5, 6], [7, 8, 9]])\n",
        "print(arr), print('='*30)\n",
        "\n",
        "view = arr[:2, :2]  # 기본 인덱싱\n",
        "print(view), print('='*30)  # [[1 2], [4 5]]\n",
        "\n",
        "view[0, 0] = 100  # 변경\n",
        "print(view), print('='*30)  # [[100 2], [4 5]]\n",
        "print(arr)   # 원본 배열도 변경 [[100 2 3], [4 5 6], [7 8 9]]\n"
      ]
    },
    {
      "cell_type": "code",
      "execution_count": null,
      "metadata": {
        "colab": {
          "base_uri": "https://localhost:8080/"
        },
        "id": "50ksUaIAKxWb",
        "outputId": "52ab7c90-58eb-493a-dd17-016b4ddb81c7"
      },
      "outputs": [
        {
          "name": "stdout",
          "output_type": "stream",
          "text": [
            "[2 6]\n",
            "[100   6]\n",
            "[[1 2 3]\n",
            " [4 5 6]\n",
            " [7 8 9]]\n"
          ]
        }
      ],
      "source": [
        "## 기본 인덱싱 (basic indexing) vs. 고급 인덱싱 (advanced indexing) (2)\n",
        "\n",
        "# 고급 인덱싱: 원본 배열은 그대로 유지\n",
        "\n",
        "arr = np.array([[1, 2, 3], [4, 5, 6], [7, 8, 9]])\n",
        "arr_indexed = arr[[0, 1], [1, 2]]  # 정수 배열 인덱싱 -> 고급 인덱싱\n",
        "\n",
        "print(arr_indexed) # [2 6]\n",
        "\n",
        "arr_indexed[0] = 100  # 변경\n",
        "print(arr_indexed) # [100 6]\n",
        "print(arr)  # 원본 배열은 그대로 임 [[1 2 3], [4 5 6], [7 8 9]]"
      ]
    },
    {
      "cell_type": "code",
      "execution_count": null,
      "metadata": {
        "id": "6ICYa_5NrrTm"
      },
      "outputs": [],
      "source": [
        "'''\n",
        "v = arange(100)\n",
        "w = [2 2 2 2 2 ... 2 2 2 ] 2가 100개\n",
        "x = 2\n",
        "\n",
        "v + x = 102 ... 102 100개 나옴\n",
        "'''"
      ]
    },
    {
      "cell_type": "code",
      "execution_count": null,
      "metadata": {
        "colab": {
          "base_uri": "https://localhost:8080/"
        },
        "id": "kIFuQ6L7b9V2",
        "outputId": "a4f5af76-f6eb-4547-cba0-e02cd790c4f5"
      },
      "outputs": [
        {
          "name": "stdout",
          "output_type": "stream",
          "text": [
            "v + w = [3 4 5]\n",
            "v - w = [ 1  0 -1]\n",
            "v * w = [2 4 6]\n",
            "w / v = [0.5 1.  1.5]\n",
            "--------------------\n",
            "alpha + w = [3 4 5]\n",
            "alpha - w = [ 1  0 -1]\n",
            "alpha * w = [2 4 6]\n",
            "w / alpha = [0.5 1.  1.5]\n"
          ]
        }
      ],
      "source": [
        "# 참고) 브로드캐스팅: 조건1 (스칼라 연산)\n",
        "\n",
        "v = np.array([2, 2, 2])\n",
        "w = np.array([1, 2, 3]) # shape = (3,)\n",
        "alpha = 2  # 스칼라 shape = ()\n",
        "\n",
        "# 일반적인 연산\n",
        "print(f'v + w = {v + w}')   # 벡터 + 벡터\n",
        "print(f'v - w = {v - w}')   # 벡터 - 벡터\n",
        "print(f'v * w = {v * w}')   # 벡터 * 벡터\n",
        "print(f'w / v = {w / v}')   # 벡터 / 벡터\n",
        "print('-'*20)\n",
        "\n",
        "# 브로드캐스팅\n",
        "print(f'alpha + w = {alpha + w}')   # 스칼라 + 행렬\n",
        "print(f'alpha - w = {alpha - w}')   # 스칼라 - 행렬\n",
        "print(f'alpha * w = {alpha * w}')   # 스칼라 - 행렬\n",
        "print(f'w / alpha = {w / alpha}')   # 스칼라 - 행렬"
      ]
    },
    {
      "cell_type": "code",
      "execution_count": null,
      "metadata": {
        "colab": {
          "base_uri": "https://localhost:8080/"
        },
        "id": "DyzHLZKecxsf",
        "outputId": "35a87655-36ea-4a2f-f874-157583f512ff"
      },
      "outputs": [
        {
          "name": "stdout",
          "output_type": "stream",
          "text": [
            "[[11 22 33]\n",
            " [14 25 36]]\n"
          ]
        }
      ],
      "source": [
        "# 참고) 브로드캐스팅: 조건2 (벡터와 행렬 연산)\n",
        "\n",
        "arr1 = np.array([[1, 2, 3], [4, 5, 6]])   # (2, 3)\n",
        "arr2 = np.array([10, 20, 30])             # (3,)\n",
        "    # [10 20 30] -> [[10 20 30]]  ((3,)이 (1,3)으로 자동 확장)\n",
        "\n",
        "result = arr1 + arr2  # (2, 3) + (1, 3) -> (2, 3)\n",
        "    # arr2의 (1,3)이 (2,3)으로 변환된 후, 연산 수행\n",
        "\n",
        "print(result)"
      ]
    },
    {
      "cell_type": "code",
      "execution_count": null,
      "metadata": {
        "colab": {
          "base_uri": "https://localhost:8080/"
        },
        "id": "xRhtML4--kmp",
        "outputId": "b3444512-cd9e-4aed-c2db-ece07b1ab7bb"
      },
      "outputs": [
        {
          "name": "stdout",
          "output_type": "stream",
          "text": [
            "(4, 3) (3,) (4, 3)\n",
            "[[ 0  1  2]\n",
            " [10 11 12]\n",
            " [20 21 22]\n",
            " [30 31 32]]\n"
          ]
        }
      ],
      "source": [
        "# 참고) 브로드캐스팅: 조건2 (벡터와 행렬 연산)\n",
        "\n",
        "a = np.array([[0, 0, 0],\n",
        "              [10, 10, 10],\n",
        "              [20, 20, 20],\n",
        "              [30, 30, 30]])  # (4,3)\n",
        "b = np.array([0, 1, 2])       # (3,) -> (1,3) -> (4,3)\n",
        "c = a + b\n",
        "\n",
        "print(a.shape, b.shape, c.shape)\n",
        "print(c)\n"
      ]
    },
    {
      "cell_type": "code",
      "execution_count": null,
      "metadata": {
        "colab": {
          "base_uri": "https://localhost:8080/"
        },
        "id": "MOcIOgwIcNDg",
        "outputId": "2ebbab79-93a4-4ca4-f602-4c01435cd318"
      },
      "outputs": [
        {
          "name": "stdout",
          "output_type": "stream",
          "text": [
            "[[11 21 31]\n",
            " [12 22 32]\n",
            " [13 23 33]]\n"
          ]
        }
      ],
      "source": [
        "# 참고) 브로드캐스팅 3-1: 차원이 다른 행렬 간 브로드캐스팅\n",
        "\n",
        "arr1 = np.array([[1], [2], [3]])  # (3,1)\n",
        "arr2 = np.array([10, 20, 30])     # (3,)\n",
        "            # [10 20 30] -> [[10 20 30]]  ((3,)이 (1,3)으로 자동 확장)\n",
        "\n",
        "result = arr1 + arr2  # (3,1) + (1,3) → (3,3)\n",
        "\n",
        "print(result)"
      ]
    },
    {
      "cell_type": "code",
      "execution_count": null,
      "metadata": {
        "colab": {
          "base_uri": "https://localhost:8080/"
        },
        "id": "ViIyrOTqcOzG",
        "outputId": "f9428299-8782-4715-e720-5a6cd0c77ecb"
      },
      "outputs": [
        {
          "name": "stdout",
          "output_type": "stream",
          "text": [
            "(3, 2, 4)\n",
            "[[[13  6  9  9]\n",
            "  [ 9 11  6  4]]\n",
            "\n",
            " [[17 12 13 10]\n",
            "  [13 17 10  5]]\n",
            "\n",
            " [[13  8 16  7]\n",
            "  [ 9 13 13  2]]]\n"
          ]
        }
      ],
      "source": [
        "# 참고) 브로드캐스팅 3-2: 차원이 다른 행렬 간 브로드캐스팅\n",
        "\n",
        "arr1 = np.random.randint(0, 10, (3, 1, 4))  # (3, 1, 4)\n",
        "arr2 = np.random.randint(0, 10, (1, 2, 4))  # (1, 2, 4)\n",
        "\n",
        "result = arr1 + arr2\n",
        "\n",
        "print(result.shape)  # (3, 2, 4)\n",
        "print(result)"
      ]
    },
    {
      "cell_type": "code",
      "execution_count": null,
      "metadata": {
        "colab": {
          "base_uri": "https://localhost:8080/",
          "height": 182
        },
        "id": "NiSUJINAc_QQ",
        "outputId": "fdf1a0ca-b263-4446-c0bd-2d8b071d4897"
      },
      "outputs": [
        {
          "ename": "ValueError",
          "evalue": "operands could not be broadcast together with shapes (2,3) (2,) ",
          "output_type": "error",
          "traceback": [
            "\u001b[0;31m---------------------------------------------------------------------------\u001b[0m",
            "\u001b[0;31mValueError\u001b[0m                                Traceback (most recent call last)",
            "\u001b[0;32m<ipython-input-12-6c8a4c01a6c2>\u001b[0m in \u001b[0;36m<cell line: 0>\u001b[0;34m()\u001b[0m\n\u001b[1;32m      5\u001b[0m             \u001b[0;31m# [10 20] -> [[10 20]]  ((2,)이 (1,2)으로 자동 확장)\u001b[0m\u001b[0;34m\u001b[0m\u001b[0;34m\u001b[0m\u001b[0m\n\u001b[1;32m      6\u001b[0m \u001b[0;34m\u001b[0m\u001b[0m\n\u001b[0;32m----> 7\u001b[0;31m \u001b[0mprint\u001b[0m\u001b[0;34m(\u001b[0m\u001b[0marr1\u001b[0m \u001b[0;34m+\u001b[0m \u001b[0marr2\u001b[0m\u001b[0;34m)\u001b[0m  \u001b[0;31m# 마지막 차원이 다르므로 브로드캐스팅 불가능!\u001b[0m\u001b[0;34m\u001b[0m\u001b[0;34m\u001b[0m\u001b[0m\n\u001b[0m",
            "\u001b[0;31mValueError\u001b[0m: operands could not be broadcast together with shapes (2,3) (2,) "
          ]
        }
      ],
      "source": [
        "# 참고) 브로드캐스팅 4: 실패 사례\n",
        "\n",
        "arr1 = np.array([[1, 2, 3], [4, 5, 6]]) # 2x3     (2,3)    (2,3)\n",
        "arr2 = np.array([10, 20])               # (2,) -> (1,2) -> (2,2)\n",
        "            # [10 20] -> [[10 20]]  ((2,)이 (1,2)으로 자동 확장)\n",
        "\n",
        "print(arr1 + arr2)  # 마지막 차원이 다르므로 브로드캐스팅 불가능!"
      ]
    },
    {
      "cell_type": "code",
      "execution_count": null,
      "metadata": {
        "colab": {
          "base_uri": "https://localhost:8080/"
        },
        "id": "PLhs5ZPj_kOn",
        "outputId": "90d7663a-3a7e-4b29-8f6e-ff5a38335a08"
      },
      "outputs": [
        {
          "name": "stdout",
          "output_type": "stream",
          "text": [
            "arr1 shape: (4,)\n",
            "arr2 shape: (4, 1)\n",
            "arr3 shape: (5,)\n",
            "arr4 shape: (3, 4)\n",
            "------------------------------\n",
            "arr1 + arr2: \n",
            "[[0 1 2 3]\n",
            " [1 2 3 4]\n",
            " [2 3 4 5]\n",
            " [3 4 5 6]]\n",
            "(arr1 + arr2).shape : (4, 4)\n",
            "------------------------------\n",
            "arr2 + arr3: \n",
            "[[1. 1. 1. 1. 1.]\n",
            " [2. 2. 2. 2. 2.]\n",
            " [3. 3. 3. 3. 3.]\n",
            " [4. 4. 4. 4. 4.]]\n",
            "(arr2 + arr3).shape : (4, 5)\n",
            "------------------------------\n",
            "arr1 + arr4: \n",
            "[[1. 2. 3. 4.]\n",
            " [1. 2. 3. 4.]\n",
            " [1. 2. 3. 4.]]\n",
            "(arr1 + arr4).shape : (3, 4)\n",
            "------------------------------\n"
          ]
        }
      ],
      "source": [
        "# 브로드캐스팅 규칙의 적용\n",
        "\n",
        "arr1 = np.arange(4)\n",
        "arr2 = arr1.reshape(4, 1)\n",
        "arr3 = np.ones(5)\n",
        "arr4 = np.ones((3, 4))\n",
        "\n",
        "print(f'arr1 shape: {arr1.shape}')\n",
        "print(f'arr2 shape: {arr2.shape}')\n",
        "print(f'arr3 shape: {arr3.shape}')\n",
        "print(f'arr4 shape: {arr4.shape}')\n",
        "print('-'*30)\n",
        "\n",
        "print(f'arr1 + arr2: \\n{arr1 + arr2}')\n",
        "print(f'(arr1 + arr2).shape : {(arr1+arr2).shape}')\n",
        "print('-'*30)\n",
        "\n",
        "print(f'arr2 + arr3: \\n{arr2 + arr3}')\n",
        "print(f'(arr2 + arr3).shape : {(arr2+arr3).shape}')\n",
        "print('-'*30)\n",
        "\n",
        "print(f'arr1 + arr4: \\n{arr1 + arr4}')\n",
        "print(f'(arr1 + arr4).shape : {(arr1+arr4).shape}')\n"
      ]
    },
    {
      "cell_type": "code",
      "execution_count": null,
      "metadata": {
        "colab": {
          "base_uri": "https://localhost:8080/",
          "height": 309
        },
        "id": "bIEsomCZJvxc",
        "outputId": "223a99cf-6617-4e65-ee13-a016df750e5d"
      },
      "outputs": [
        {
          "name": "stdout",
          "output_type": "stream",
          "text": [
            "(3, 5)\n",
            "[[-0.16383578  1.3296262   2.16888122 -1.1692853   0.69852644]\n",
            " [ 0.06469208 -0.13174202 -1.40494402 -0.31559151 -0.10909433]\n",
            " [ 1.16437893 -0.9603978   2.06007737 -1.4971195  -0.41434194]]\n"
          ]
        },
        {
          "ename": "ValueError",
          "evalue": "matmul: Input operand 1 has a mismatch in its core dimension 0, with gufunc signature (n?,k),(k,m?)->(n?,m?) (size 3 is different from 4)",
          "output_type": "error",
          "traceback": [
            "\u001b[1;31m---------------------------------------------------------------------------\u001b[0m",
            "\u001b[1;31mValueError\u001b[0m                                Traceback (most recent call last)",
            "Cell \u001b[1;32mIn[7], line 20\u001b[0m\n\u001b[0;32m     18\u001b[0m D \u001b[38;5;241m=\u001b[39m np\u001b[38;5;241m.\u001b[39mrandom\u001b[38;5;241m.\u001b[39mrandn(\u001b[38;5;241m3\u001b[39m, \u001b[38;5;241m4\u001b[39m) \u001b[38;5;66;03m# (3,4)\u001b[39;00m\n\u001b[0;32m     19\u001b[0m E \u001b[38;5;241m=\u001b[39m np\u001b[38;5;241m.\u001b[39mrandom\u001b[38;5;241m.\u001b[39mrandn(\u001b[38;5;241m3\u001b[39m, \u001b[38;5;241m4\u001b[39m) \u001b[38;5;66;03m# (3,4)\u001b[39;00m\n\u001b[1;32m---> 20\u001b[0m F \u001b[38;5;241m=\u001b[39m D\u001b[38;5;129m@E\u001b[39m\n\u001b[0;32m     21\u001b[0m \u001b[38;5;28mprint\u001b[39m(F\u001b[38;5;241m.\u001b[39mshape)  \u001b[38;5;66;03m# 실행 불가\u001b[39;00m\n\u001b[0;32m     22\u001b[0m \u001b[38;5;28mprint\u001b[39m(F)\n",
            "\u001b[1;31mValueError\u001b[0m: matmul: Input operand 1 has a mismatch in its core dimension 0, with gufunc signature (n?,k),(k,m?)->(n?,m?) (size 3 is different from 4)"
          ]
        }
      ],
      "source": [
        "# 브로드캐스팅: 행렬곱(@ or np.matmul() 사용) (1)\n",
        "\n",
        "# 행렬과 행렬의 행렬곱\n",
        "# A.shape: (..., m, n)\n",
        "# B.shape: (..., n, k)\n",
        "# A@B shape: (..., m, k)\n",
        "# 앞부분(...)은 브로드캐스팅 규칙을 따름\n",
        "# 마지막 두 축을 유심히 보자 !!!\n",
        "\n",
        "# 2D x 2D\n",
        "A = np.random.randn(3, 4) # (3, 4)\n",
        "B = np.random.randn(4, 5) # (4, 5)\n",
        "C = A@B\n",
        "print(C.shape)  # shape = (3, 5)\n",
        "print(C)\n",
        "\n",
        "# ----------------------------------#\n",
        "D = np.random.randn(3, 4) # (3,4)\n",
        "E = np.random.randn(3, 4) # (3,4)\n",
        "F = D@E\n",
        "print(F.shape)  # 실행 불가\n",
        "print(F)"
      ]
    },
    {
      "cell_type": "code",
      "execution_count": null,
      "metadata": {
        "colab": {
          "base_uri": "https://localhost:8080/"
        },
        "id": "SpH53JahKvJ8",
        "outputId": "4e4bc06f-5f22-4129-e853-79a8f0383ebe"
      },
      "outputs": [
        {
          "name": "stdout",
          "output_type": "stream",
          "text": [
            "(10, 3, 5)\n",
            "(2, 3, 5)\n"
          ]
        }
      ],
      "source": [
        "# 브로드캐스팅: 행렬곱(@ or np.matmul() 사용) (2)\n",
        "\n",
        "# 행렬과 행렬의 행렬곱\n",
        "\n",
        "# 3D × 2D (배치 행렬곱)\n",
        "A = np.random.randn(10, 3, 4)\n",
        "B = np.random.randn(4, 5) # (4,5) -> (1,4,5) -> (10,4,5)\n",
        "C = A@B\n",
        "print(C.shape)  # shape = (10, 3, 5)\n",
        "\n",
        "# B행렬에서 batch에 해당하는 부분이 없는데,\n",
        "# 그 부분이 브로드캐스팅으로 10이 되어, (10,4,5)가 됨\n",
        "\n",
        "# 3D × 3D (브로드캐스트 + 행렬곱)\n",
        "D = np.random.randn(2, 3, 4)\n",
        "E = np.random.randn(1, 4, 5)\n",
        "F = D@E\n",
        "print(F.shape)  # shape = (2, 3, 5)\n"
      ]
    },
    {
      "cell_type": "code",
      "execution_count": null,
      "metadata": {
        "colab": {
          "base_uri": "https://localhost:8080/",
          "height": 255
        },
        "id": "8ItRK556LQsK",
        "outputId": "ba04e3a1-881a-410d-e19d-9faafd1b31d9"
      },
      "outputs": [
        {
          "ename": "ValueError",
          "evalue": "operands could not be broadcast together with remapped shapes [original->remapped]: (10,3,4)->(10,newaxis,newaxis) (2,4,5)->(2,newaxis,newaxis)  and requested shape (3,5)",
          "output_type": "error",
          "traceback": [
            "\u001b[1;31m---------------------------------------------------------------------------\u001b[0m",
            "\u001b[1;31mValueError\u001b[0m                                Traceback (most recent call last)",
            "Cell \u001b[1;32mIn[8], line 8\u001b[0m\n\u001b[0;32m      6\u001b[0m A \u001b[38;5;241m=\u001b[39m np\u001b[38;5;241m.\u001b[39mrandom\u001b[38;5;241m.\u001b[39mrandn(\u001b[38;5;241m10\u001b[39m, \u001b[38;5;241m3\u001b[39m, \u001b[38;5;241m4\u001b[39m)\n\u001b[0;32m      7\u001b[0m B \u001b[38;5;241m=\u001b[39m np\u001b[38;5;241m.\u001b[39mrandom\u001b[38;5;241m.\u001b[39mrandn(\u001b[38;5;241m2\u001b[39m, \u001b[38;5;241m4\u001b[39m, \u001b[38;5;241m5\u001b[39m)\n\u001b[1;32m----> 8\u001b[0m C \u001b[38;5;241m=\u001b[39m A\u001b[38;5;129m@B\u001b[39m   \u001b[38;5;66;03m# 면(depth)의 크기가 달라서 행렬곱이 불가능\u001b[39;00m\n\u001b[0;32m      9\u001b[0m \u001b[38;5;28mprint\u001b[39m(C\u001b[38;5;241m.\u001b[39mshape)\n",
            "\u001b[1;31mValueError\u001b[0m: operands could not be broadcast together with remapped shapes [original->remapped]: (10,3,4)->(10,newaxis,newaxis) (2,4,5)->(2,newaxis,newaxis)  and requested shape (3,5)"
          ]
        }
      ],
      "source": [
        "# 브로드캐스팅: 행렬곱(@ or np.matmul() 사용) (3)\n",
        "\n",
        "# 행렬과 행렬의 행렬곱 (실패사례)\n",
        "\n",
        "# 3D × 2D (배치 행렬곱)\n",
        "A = np.random.randn(10, 3, 4)\n",
        "B = np.random.randn(2, 4, 5)\n",
        "C = A@B   # 면(depth)의 크기가 달라서 행렬곱이 불가능\n",
        "print(C.shape)"
      ]
    },
    {
      "cell_type": "code",
      "execution_count": null,
      "metadata": {
        "colab": {
          "base_uri": "https://localhost:8080/"
        },
        "id": "jhXpdzKiL2d7",
        "outputId": "0ec24619-54e9-4646-8617-19eb75c9efa8"
      },
      "outputs": [
        {
          "name": "stdout",
          "output_type": "stream",
          "text": [
            "(2,) [13 16]\n",
            "(2,) [11 17]\n"
          ]
        }
      ],
      "source": [
        "# 브로드캐스팅: 행렬곱(@ or np.matmul() 사용) (4)\n",
        "\n",
        "# 행렬과 벡터의 행렬곱\n",
        "# 중요1) (m,) @ (m,n) -> 결과 (n,) : (m,)은 행 벡터로 간주\n",
        "#    -> (1,m) @ (m,n) -> (1,n)이 아니고 (n,)\n",
        "# 중요2) (m,n) @ (n,) -> 결과 (m,) : (n,)은 열 벡터로 간주\n",
        "#    -> (m,n) @ (n,1) -> (m,1)이 아니고 (m,)\n",
        "# 중요3) 행렬곱에서 (m,)은 행/열 개념이 명확하지 않음\n",
        "#         -> .reshape()으로 명확하게 차원을 지정하는 것을 추천\n",
        "#            or 뒤에서 배울 np.newaxis을 이용하는 것도 좋음\n",
        "\n",
        "a = np.array([1, 2])       # shape (2,)\n",
        "b = np.array([[3, 4],\n",
        "              [5, 6]])     # shape (2, 2)\n",
        "\n",
        "c = a @ b  # a -> (1,2)처럼 다룸\n",
        "d = b @ a  # a -> (2,1)처럼 다룸\n",
        "\n",
        "print(c.shape, c)  # shape (2,), [13 16]\n",
        "print(d.shape, d)  # shape (2,), [11 17]\n",
        "\n"
      ]
    },
    {
      "cell_type": "code",
      "execution_count": null,
      "metadata": {
        "colab": {
          "base_uri": "https://localhost:8080/",
          "height": 219
        },
        "id": "F-zFOtSuMpQV",
        "outputId": "644b55ef-da6d-4eee-b2e6-8317e48fdff6"
      },
      "outputs": [
        {
          "name": "stdout",
          "output_type": "stream",
          "text": [
            "(3,) [11 17 23]\n"
          ]
        },
        {
          "ename": "ValueError",
          "evalue": "matmul: Input operand 1 has a mismatch in its core dimension 0, with gufunc signature (n?,k),(k,m?)->(n?,m?) (size 3 is different from 2)",
          "output_type": "error",
          "traceback": [
            "\u001b[1;31m---------------------------------------------------------------------------\u001b[0m",
            "\u001b[1;31mValueError\u001b[0m                                Traceback (most recent call last)",
            "Cell \u001b[1;32mIn[15], line 20\u001b[0m\n\u001b[0;32m     17\u001b[0m \u001b[38;5;28mprint\u001b[39m(c\u001b[38;5;241m.\u001b[39mshape, c)\n\u001b[0;32m     19\u001b[0m \u001b[38;5;66;03m# 실행 안됨\u001b[39;00m\n\u001b[1;32m---> 20\u001b[0m d \u001b[38;5;241m=\u001b[39m a \u001b[38;5;241m@\u001b[39m b\n",
            "\u001b[1;31mValueError\u001b[0m: matmul: Input operand 1 has a mismatch in its core dimension 0, with gufunc signature (n?,k),(k,m?)->(n?,m?) (size 3 is different from 2)"
          ]
        }
      ],
      "source": [
        "# 브로드캐스팅: 행렬곱(@ or np.matmul() 사용) (5)\n",
        "\n",
        "# 행렬과 벡터의 행렬곱\n",
        "# 중요1) (m,) @ (m,n) -> 결과 (n,) : (m,)은 행 벡터로 간주\n",
        "# 중요2) (m,n) @ (n,) -> 결과 (m,) : (n,)은 열 벡터로 간주\n",
        "# 중요3) 행렬곱에서 (m,)은 행/열 개념이 명확하지 않음\n",
        "#         -> .reshape()으로 명확하게 차원을 지정하는 것을 추천\n",
        "#            or 뒤에서 배울 np.newaxis을 이용하는 것도 좋음\n",
        "\n",
        "# 실패사례 (1)\n",
        "a = np.array([1, 2])         # shape (2,)\n",
        "b = np.array([[3, 4],\n",
        "              [5, 6],\n",
        "              [7, 8]])       # shape (3, 2)\n",
        "\n",
        "c = b @ a  # a -> (2,1) 처럼 다룸\n",
        "print(c.shape, c)\n",
        "\n",
        "# 실행 안됨\n",
        "d = a @ b   # a -> (1,2)처럼 다룸 : (1,2)@(3,2)"
      ]
    },
    {
      "cell_type": "code",
      "execution_count": null,
      "metadata": {
        "colab": {
          "base_uri": "https://localhost:8080/",
          "height": 273
        },
        "id": "84gNeL5zQg4v",
        "outputId": "76b21121-703d-4e1f-9784-542d52bfaa34"
      },
      "outputs": [
        {
          "name": "stdout",
          "output_type": "stream",
          "text": [
            "(2,)\n",
            "(2, 1)\n",
            "(1,) [5]\n"
          ]
        },
        {
          "ename": "ValueError",
          "evalue": "matmul: Input operand 1 has a mismatch in its core dimension 0, with gufunc signature (n?,k),(k,m?)->(n?,m?) (size 2 is different from 1)",
          "output_type": "error",
          "traceback": [
            "\u001b[1;31m---------------------------------------------------------------------------\u001b[0m",
            "\u001b[1;31mValueError\u001b[0m                                Traceback (most recent call last)",
            "Cell \u001b[1;32mIn[17], line 19\u001b[0m\n\u001b[0;32m     16\u001b[0m result1 \u001b[38;5;241m=\u001b[39m x \u001b[38;5;241m@\u001b[39m y  \u001b[38;5;66;03m# x -> (1,2): (1,2)@(2,1) => (1,)\u001b[39;00m\n\u001b[0;32m     17\u001b[0m \u001b[38;5;28mprint\u001b[39m(result1\u001b[38;5;241m.\u001b[39mshape, result1)\n\u001b[1;32m---> 19\u001b[0m result \u001b[38;5;241m=\u001b[39m y \u001b[38;5;241m@\u001b[39m x\n",
            "\u001b[1;31mValueError\u001b[0m: matmul: Input operand 1 has a mismatch in its core dimension 0, with gufunc signature (n?,k),(k,m?)->(n?,m?) (size 2 is different from 1)"
          ]
        }
      ],
      "source": [
        "# 브로드캐스팅: 행렬곱(@ or np.matmul() 사용) (6)\n",
        "\n",
        "# 행렬과 벡터의 행렬곱\n",
        "# 중요1) (m,) @ (m,n) -> 결과 (n,) : (m,)은 행 벡터로 간주\n",
        "# 중요2) (m,n) @ (n,) -> 결과 (m,) : (n,)은 열 벡터로 간주\n",
        "# 중요3) 행렬곱에서 (m,)은 행/열 개념이 명확하지 않음\n",
        "#         -> .reshape()으로 명확하게 차원을 지정하는 것을 추천\n",
        "#            or 뒤에서 배울 np.newaxis을 이용하는 것도 좋음\n",
        "\n",
        "# 실패사례 (2)\n",
        "x = np.array([2, 1])\n",
        "y = x.reshape(-1,1)\n",
        "print(x.shape)       # (2,)\n",
        "print(y.shape)       # (2,1)\n",
        "\n",
        "result1 = x @ y  # x -> (1,2): (1,2)@(2,1) => (1,)\n",
        "print(result1.shape, result1)\n",
        "\n",
        "result = y @ x  # x -> (2,1): (2,1)@(2,1) 실행안됨"
      ]
    },
    {
      "cell_type": "code",
      "execution_count": null,
      "metadata": {
        "colab": {
          "base_uri": "https://localhost:8080/"
        },
        "id": "z4UhCvWXZs9m",
        "outputId": "1437286d-980e-4a57-b3ba-0c072eaa6ab6"
      },
      "outputs": [
        {
          "name": "stdout",
          "output_type": "stream",
          "text": [
            "(3,)\n",
            "(3, 1)\n",
            "[[1]\n",
            " [2]\n",
            " [3]]\n",
            "====================\n",
            "(3, 1)\n",
            "====================\n",
            "(2, 3)\n",
            "--------------------\n",
            "(1, 2, 3)\n",
            "--------------------\n",
            "(2, 1, 3)\n"
          ]
        }
      ],
      "source": [
        "# 고급 인덱싱 (3)\n",
        "\n",
        "# numpy.newaxis\n",
        "\n",
        "arr = np.array([1, 2, 3])\n",
        "print(arr.shape)      # (3,) -> 1D 배열\n",
        "\n",
        "arr_new = arr[:, np.newaxis]  # 열 벡터 (3,1)로 변환\n",
        "print(arr_new.shape)  # (3,1)\n",
        "print(arr_new)        # [[1], [2], [3]]\n",
        "print('='*20)\n",
        "\n",
        "arr_reshape = arr.reshape(-1,1)\n",
        "print(arr_reshape.shape)\n",
        "print('='*20)\n",
        "\n",
        "arr2 = np.array([[1, 2, 3], [4, 5, 6]])\n",
        "print(arr2.shape)     # (2,3) -> 2D 배열\n",
        "print('-'*20)\n",
        "\n",
        "arr_new2 = arr2[np.newaxis, :, :]  # 첫 번째 축(면) 차원 추가\n",
        "print(arr_new2.shape) # (1,2,3)\n",
        "print('-'*20)\n",
        "\n",
        "arr_new3 = arr2[:, np.newaxis, :]  # 두 번째 축(행) 차원 추가\n",
        "print(arr_new3.shape) # (2,1,3)"
      ]
    },
    {
      "cell_type": "code",
      "execution_count": null,
      "metadata": {
        "colab": {
          "base_uri": "https://localhost:8080/"
        },
        "id": "w2FzjxTXaNix",
        "outputId": "0e0387c3-4285-49c9-f45d-1fe2eac38e24"
      },
      "outputs": [
        {
          "data": {
            "text/plain": [
              "True"
            ]
          },
          "execution_count": 18,
          "metadata": {},
          "output_type": "execute_result"
        }
      ],
      "source": [
        "# np.newaxis는 값이 None으로 상수로 취급\n",
        "# 만약 함수이면 np.newaxis() 이런식으로 다뤄야겠지만,\n",
        "# 실제로는 그냥 np.newaxis로 다룸\n",
        "np.newaxis is None"
      ]
    },
    {
      "cell_type": "code",
      "execution_count": null,
      "metadata": {
        "colab": {
          "base_uri": "https://localhost:8080/"
        },
        "id": "ioWPTwtQLmDF",
        "outputId": "fbcd4ad1-f4e2-488f-d869-5e5f9be1bef9"
      },
      "outputs": [
        {
          "name": "stdout",
          "output_type": "stream",
          "text": [
            "(5, 5)\n",
            "(1, 5, 5)\n",
            "(5, 1, 5)\n",
            "(5, 5, 1)\n",
            "==========\n",
            "(10,)\n",
            "(1, 10)\n",
            "(10, 1)\n"
          ]
        }
      ],
      "source": [
        "# 고급 인덱싱 (4)\n",
        "\n",
        "# numpy.newaxis\n",
        "\n",
        "arr = np.arange(25).reshape(5, 5)\n",
        "print(arr.shape)     # (5,5)\n",
        "\n",
        "# 특별한 언급이 없으면, 기존 배열 앞에 차원이 하나 추가됨.\n",
        "# 즉, axis=0에 새 축 생김.\n",
        "arr_3d_0 = arr[np.newaxis] # axis=0축에 새 축을 만듦\n",
        "print(arr_3d_0.shape)  # (1, 5, 5) 3차원 행렬\n",
        "\n",
        "arr_3d_1 = arr[:, np.newaxis, :]\n",
        "print(arr_3d_1.shape)  # (5, 1, 5) 3차원 행렬\n",
        "\n",
        "arr_3d_2 = arr[:, :, np.newaxis]\n",
        "print(arr_3d_2.shape)  # (5, 5, 1) 3차원 행렬\n",
        "print('='*10)\n",
        "\n",
        "\n",
        "arr = np.arange(10)\n",
        "print(arr.shape)     # (10,)\n",
        "\n",
        "arr_row = arr[np.newaxis, :]\n",
        "print(arr_row.shape) # (1, 10)\n",
        "\n",
        "arr_col = arr[:, np.newaxis]\n",
        "print(arr_col.shape) # (10, 1)"
      ]
    },
    {
      "cell_type": "code",
      "execution_count": null,
      "metadata": {
        "colab": {
          "base_uri": "https://localhost:8080/"
        },
        "id": "Y-plFBD2MK6C",
        "outputId": "c0505c23-2a47-4aae-e552-f19b9707ec94"
      },
      "outputs": [
        {
          "name": "stdout",
          "output_type": "stream",
          "text": [
            "[[ 0  1  2]\n",
            " [ 3  4  5]\n",
            " [ 6  7  8]\n",
            " [ 9 10 11]]\n",
            "--------------------\n",
            "[ 0 11]\n",
            "--------------------\n",
            "[[0]\n",
            " [3]]\n",
            "[[ 0  2]\n",
            " [ 9 11]]\n"
          ]
        }
      ],
      "source": [
        "# 고급 인덱싱 (5)\n",
        "\n",
        "# numpy.newaxis, 브로드캐스팅, 고급 인덱싱\n",
        "\n",
        "arr = np.array([[0, 1, 2],\n",
        "                [3, 4, 5],\n",
        "                [6, 7, 8],\n",
        "                [9,10,11]])  # (4,3)\n",
        "print(arr), print('-'*20)\n",
        "\n",
        "rows = np.array([0, 3], dtype=np.intp)    # shape=(2,)\n",
        "columns = np.array([0, 2], dtype=np.intp) # shape=(2,)\n",
        "a = arr[rows, columns]\n",
        "print(a), print('-'*20)\n",
        "\n",
        "\n",
        "print(rows[:, np.newaxis])                # shape=(2,1)\n",
        "\n",
        "# 행의 shape (2,1) x 열의 shape (2,)\n",
        "#         -> (2,1) x (1,2) -> (2,2) x (2,2)\n",
        "# 행 [[0,0],[3,3]] x 열 [[0,2],[0,2]]\n",
        "# [[0,0], [0,2],\n",
        "#  [3,0], [3,2]]\n",
        "print(arr[rows[:, np.newaxis], columns])  # shape=(2,2)\n"
      ]
    },
    {
      "cell_type": "code",
      "execution_count": null,
      "metadata": {
        "colab": {
          "base_uri": "https://localhost:8080/"
        },
        "id": "0147HB14NXdC",
        "outputId": "42ec895d-379e-4f7f-d9ed-efb5841389b5"
      },
      "outputs": [
        {
          "name": "stdout",
          "output_type": "stream",
          "text": [
            "[[ 0  1  2  3  4]\n",
            " [ 5  6  7  8  9]\n",
            " [10 11 12 13 14]]\n",
            "--------------------\n",
            "[ 3 13]\n"
          ]
        }
      ],
      "source": [
        "# 고급 인덱싱 (6)\n",
        "\n",
        "arr = np.arange(15).reshape(3,5)\n",
        "\n",
        "print(arr), print('-'*20)\n",
        "print(arr[np.array([0, 2]), 3]) # 브로드캐스팅 [0,2] x [3,3]\n",
        "# (2,) x 스칼라 -> (2,) x (2,)\n",
        "# 실제로는 행: [0, 2] // 열: [3, 3]\n",
        "# 인덱싱: (0,3), (2,3) 위치를 인덱싱"
      ]
    },
    {
      "cell_type": "code",
      "execution_count": null,
      "metadata": {
        "colab": {
          "base_uri": "https://localhost:8080/",
          "height": 182
        },
        "id": "9ZeRif6QNAnu",
        "outputId": "5a838e06-d5a1-4ad7-861c-bce8961113f2"
      },
      "outputs": [
        {
          "ename": "ValueError",
          "evalue": "operands could not be broadcast together with shapes (5,) (3,) ",
          "output_type": "error",
          "traceback": [
            "\u001b[0;31m---------------------------------------------------------------------------\u001b[0m",
            "\u001b[0;31mValueError\u001b[0m                                Traceback (most recent call last)",
            "\u001b[0;32m<ipython-input-3-b55dabfd7dcc>\u001b[0m in \u001b[0;36m<cell line: 0>\u001b[0;34m()\u001b[0m\n\u001b[1;32m      3\u001b[0m \u001b[0marr1\u001b[0m\u001b[0;34m=\u001b[0m \u001b[0mnp\u001b[0m\u001b[0;34m.\u001b[0m\u001b[0marray\u001b[0m\u001b[0;34m(\u001b[0m\u001b[0;34m[\u001b[0m\u001b[0;36m1\u001b[0m\u001b[0;34m,\u001b[0m \u001b[0;36m2\u001b[0m\u001b[0;34m,\u001b[0m \u001b[0;36m3\u001b[0m\u001b[0;34m,\u001b[0m \u001b[0;36m4\u001b[0m\u001b[0;34m,\u001b[0m \u001b[0;36m5\u001b[0m\u001b[0;34m]\u001b[0m\u001b[0;34m)\u001b[0m\u001b[0;34m\u001b[0m\u001b[0;34m\u001b[0m\u001b[0m\n\u001b[1;32m      4\u001b[0m \u001b[0marr2\u001b[0m \u001b[0;34m=\u001b[0m \u001b[0mnp\u001b[0m\u001b[0;34m.\u001b[0m\u001b[0marray\u001b[0m\u001b[0;34m(\u001b[0m\u001b[0;34m[\u001b[0m\u001b[0;36m11\u001b[0m\u001b[0;34m,\u001b[0m \u001b[0;36m12\u001b[0m\u001b[0;34m,\u001b[0m \u001b[0;36m13\u001b[0m\u001b[0;34m]\u001b[0m\u001b[0;34m)\u001b[0m\u001b[0;34m\u001b[0m\u001b[0;34m\u001b[0m\u001b[0m\n\u001b[0;32m----> 5\u001b[0;31m \u001b[0marr1\u001b[0m \u001b[0;34m+\u001b[0m \u001b[0marr2\u001b[0m\u001b[0;34m\u001b[0m\u001b[0;34m\u001b[0m\u001b[0m\n\u001b[0m",
            "\u001b[0;31mValueError\u001b[0m: operands could not be broadcast together with shapes (5,) (3,) "
          ]
        }
      ],
      "source": [
        "# 고급 인덱싱 (6)-1\n",
        "\n",
        "# numpy.newaxis의 사용으로 차원 증가시켜 호환성 확보 후 브로드캐스팅\n",
        "\n",
        "arr1 = np.array([1, 2, 3, 4, 5]) # (5,) -> (1,5)\n",
        "arr2 = np.array([11, 12, 13])    # (3,) -> (1,3)\n",
        "arr1 + arr2\n"
      ]
    },
    {
      "cell_type": "code",
      "execution_count": null,
      "metadata": {
        "colab": {
          "base_uri": "https://localhost:8080/"
        },
        "id": "pQT567iFNoJV",
        "outputId": "85b5fc94-62b1-43dc-cac9-7b1f23e95e82"
      },
      "outputs": [
        {
          "name": "stdout",
          "output_type": "stream",
          "text": [
            "arr1 shape: (5,)\n",
            "arr2 shape: (3,)\n",
            "arr1_nx shape: (5, 1)\n",
            "arr2_nx shape: (3, 1)\n",
            "==============================\n",
            "[[1]\n",
            " [2]\n",
            " [3]\n",
            " [4]\n",
            " [5]]\n",
            "==============================\n",
            "[[11]\n",
            " [12]\n",
            " [13]]\n",
            "==============================\n",
            "[[12 13 14]\n",
            " [13 14 15]\n",
            " [14 15 16]\n",
            " [15 16 17]\n",
            " [16 17 18]]\n",
            "==============================\n",
            "[[12 13 14 15 16]\n",
            " [13 14 15 16 17]\n",
            " [14 15 16 17 18]]\n",
            "==============================\n"
          ]
        }
      ],
      "source": [
        "# 고급 인덱싱 (6)-2\n",
        "\n",
        "# numpy.newaxis의 사용으로 차원 증가시켜 호환성 확보 후 브로드캐스팅\n",
        "\n",
        "arr1= np.array([1, 2, 3, 4, 5]) # (5,)\n",
        "arr2 = np.array([11, 12, 13])   # (3,)\n",
        "\n",
        "arr1_nx = arr1[:, np.newaxis]   # (5,1)\n",
        "arr2_nx = arr2[:, np.newaxis]   # (3,1)\n",
        "print(f'arr1 shape: {arr1.shape}')\n",
        "print(f'arr2 shape: {arr2.shape}')\n",
        "print(f'arr1_nx shape: {arr1_nx.shape}')\n",
        "print(f'arr2_nx shape: {arr2_nx.shape}')\n",
        "print('='*30)\n",
        "\n",
        "print(arr1_nx), print('='*30)\n",
        "print(arr2_nx), print('='*30)\n",
        "print(arr1_nx + arr2) # (5,1)x(3,) -> (5,1)x(1,3) -> (5,3)\n",
        "print('='*30)\n",
        "\n",
        "print(arr2_nx + arr1) # (3,1)x(5,) -> (3,1)x(1,5) -> (3,5)\n",
        "print('='*30)"
      ]
    },
    {
      "cell_type": "code",
      "execution_count": null,
      "metadata": {
        "colab": {
          "base_uri": "https://localhost:8080/"
        },
        "id": "pub9ACeHDo-H",
        "outputId": "066643f6-72fc-438e-c764-7a429c199191"
      },
      "outputs": [
        {
          "name": "stdout",
          "output_type": "stream",
          "text": [
            "(4,)\n",
            "(1, 4)\n",
            "(4, 1)\n",
            "(3,)\n",
            "(4, 3)\n",
            "[[10 20 30]\n",
            " [11 21 31]\n",
            " [12 22 32]\n",
            " [13 23 33]]\n"
          ]
        }
      ],
      "source": [
        "# 고급 인덱싱 (6)-3\n",
        "\n",
        "arr1 = np.array([0, 1, 2, 3])\n",
        "print(arr1.shape)       # shape (4,)\n",
        "\n",
        "arr1_row = arr1[np.newaxis, :]\n",
        "arr1_col = arr1[:, np.newaxis]\n",
        "print(arr1_row.shape)   # shape (1,4)\n",
        "print(arr1_col.shape)   # shape (4,1)\n",
        "\n",
        "arr2 = np.array([10, 20, 30])\n",
        "print(arr2.shape)       # shape (3,)\n",
        "\n",
        "arr12 = arr1_col + arr2\n",
        "print(arr12.shape)      # shape (4,3)\n",
        "print(arr12)"
      ]
    },
    {
      "cell_type": "code",
      "execution_count": null,
      "metadata": {
        "colab": {
          "base_uri": "https://localhost:8080/"
        },
        "id": "MJvLZnXPOWDt",
        "outputId": "c46bfc90-5f8d-4d6b-aa9c-6e838ccd7c13"
      },
      "outputs": [
        {
          "name": "stdout",
          "output_type": "stream",
          "text": [
            "[[ 0  1  2  3]\n",
            " [ 4  5  6  7]\n",
            " [ 8  9 10 11]]\n",
            "==============================\n",
            "[[False False False False]\n",
            " [False False  True  True]\n",
            " [ True  True  True  True]]\n",
            "==============================\n",
            "[ 6  7  8  9 10 11]\n",
            "==============================\n",
            "[False False  True]\n",
            "==============================\n",
            "[[ 8  9 10 11]]\n"
          ]
        }
      ],
      "source": [
        "# 불리언 배열로 인덱싱\n",
        "\n",
        "arr = np.arange(12).reshape(3,4)\n",
        "print(arr), print('='*30)\n",
        "\n",
        "ind = arr > 5\n",
        "print(ind), print('='*30)\n",
        "\n",
        "# boolean indexing\n",
        "print(arr[ind]), print('='*30)\n",
        "\n",
        "print(ind[:, 1]), print('='*30)\n",
        "\n",
        "# 2차원 arr 배열의 인덱싱 배열로 처리된 결과는 2차원 배열\n",
        "print(arr[ind[:, 1]]) # [[ 8  9 10 11]]"
      ]
    },
    {
      "cell_type": "code",
      "execution_count": null,
      "metadata": {
        "colab": {
          "base_uri": "https://localhost:8080/"
        },
        "id": "WRNpzHbnQeAd",
        "outputId": "50e616a2-8c4d-4356-bf5b-a17dcb8af07f"
      },
      "outputs": [
        {
          "name": "stdout",
          "output_type": "stream",
          "text": [
            "[[ 0  1  2  3]\n",
            " [ 4  5  6  7]\n",
            " [ 8  9 10 11]]\n",
            "==============================\n",
            "[[ 5  6]\n",
            " [ 9 10]]\n",
            "[[False False False False]\n",
            " [False False  True  True]\n",
            " [ True  True  True  True]]\n",
            "==============================\n",
            "[False  True  True]\n",
            "==============================\n",
            "[[ 5  6]\n",
            " [ 9 10]]\n"
          ]
        }
      ],
      "source": [
        "# 슬라이싱과 인덱스 배열 처리\n",
        "\n",
        "arr = np.arange(12).reshape(3,4)\n",
        "print(arr), print('='*30)\n",
        "print(arr[np.array([1, 2]), 1:3])\n",
        "\n",
        "ind = arr > 5\n",
        "print(ind), print('='*30)\n",
        "print(ind[:, 2]), print('='*30)\n",
        "print(arr[ind[:, 2], 1:3])"
      ]
    },
    {
      "cell_type": "code",
      "execution_count": null,
      "metadata": {
        "colab": {
          "base_uri": "https://localhost:8080/"
        },
        "id": "pQIwvhD3RJ6Q",
        "outputId": "f04bab3a-cb98-4f7e-fb21-9076a71d6a17"
      },
      "outputs": [
        {
          "name": "stdout",
          "output_type": "stream",
          "text": [
            "[[1 0 0]\n",
            " [0 2 0]\n",
            " [1 1 0]]\n",
            "==================================================\n",
            "(array([0, 1, 2, 2]), array([0, 1, 0, 1]))\n",
            "==================================================\n",
            "[1 2 1 1]\n",
            "==================================================\n",
            "(array([0, 1, 2, 2]), array([0, 1, 0, 1]))\n",
            "==================================================\n",
            "[[0 0]\n",
            " [1 1]\n",
            " [2 0]\n",
            " [2 1]]\n"
          ]
        }
      ],
      "source": [
        "# 인덱스를 반환하는 numpy.nonzero와 numpy.transpose 함수 (1)\n",
        "\n",
        "arr = np.array([[1, 0, 0],\n",
        "                [0, 2, 0],\n",
        "                [1, 1, 0]])\n",
        "print(arr), print('-'*50)\n",
        "print(np.nonzero(arr)) # nonzero요소의 (튜플로) 인덱스 반환\n",
        "print('='*50)\n",
        "\n",
        "print(arr[np.nonzero(arr)]), print('-'*50)\n",
        "print(np.nonzero(arr)), print('='*50)\n",
        "print(np.transpose(np.nonzero(arr)))\n"
      ]
    },
    {
      "cell_type": "code",
      "execution_count": null,
      "metadata": {
        "colab": {
          "base_uri": "https://localhost:8080/"
        },
        "id": "Q_zFAjFBUHWN",
        "outputId": "01aa08af-406c-4c53-b2ae-42d8c90bc09a"
      },
      "outputs": [
        {
          "name": "stdout",
          "output_type": "stream",
          "text": [
            "[[0 1 2]\n",
            " [3 4 5]\n",
            " [6 7 8]]\n",
            "==============================\n",
            "[[False False False]\n",
            " [False  True  True]\n",
            " [ True  True  True]]\n",
            "==============================\n",
            "(array([1, 1, 2, 2, 2]), array([1, 2, 0, 1, 2]))\n",
            "==============================\n",
            "(array([1, 1, 2, 2, 2]), array([1, 2, 0, 1, 2]))\n"
          ]
        }
      ],
      "source": [
        "# 인덱스를 반환하는 numpy.nonzero와 numpy.transpose 함수 (2)\n",
        "\n",
        "arr = np.arange(9).reshape(3,3)\n",
        "print(arr), print('='*30)\n",
        "\n",
        "print(arr > 3), print('='*30)\n",
        "\n",
        "# Nonzero함수를 불리언 조건으로 적용하여 True인 색인을 반환\n",
        "print(np.nonzero(arr > 3)), print('='*30)\n",
        "\n",
        "# 불리언 배열의 nonzero메소드를 적용 (위 결과와 같음)\n",
        "print((arr > 3).nonzero())"
      ]
    },
    {
      "cell_type": "code",
      "execution_count": null,
      "metadata": {
        "colab": {
          "base_uri": "https://localhost:8080/"
        },
        "id": "nr2Ru6G2R5uK",
        "outputId": "ff63632d-70c5-46c5-c86e-06a5bc6956bf"
      },
      "outputs": [
        {
          "name": "stdout",
          "output_type": "stream",
          "text": [
            "[[0 1]\n",
            " [2 3]]\n",
            "------------------------------\n",
            "[[0 2]\n",
            " [1 3]]\n",
            "==============================\n",
            "[[[1. 1. 1.]\n",
            "  [1. 1. 1.]]]\n",
            "------------------------------\n",
            "arr1 shape: (1, 2, 3)\n",
            "------------------------------\n",
            "arr2 shape: (2, 1, 3)\n",
            "[[[1. 1. 1.]]\n",
            "\n",
            " [[1. 1. 1.]]]\n",
            "------------------------------\n",
            "arr3 shape: (1, 3, 2)\n",
            "[[[1. 1.]\n",
            "  [1. 1.]\n",
            "  [1. 1.]]]\n",
            "------------------------------\n",
            "arr4 shape: (3, 2, 1)\n",
            "[[[1.]\n",
            "  [1.]]\n",
            "\n",
            " [[1.]\n",
            "  [1.]]\n",
            "\n",
            " [[1.]\n",
            "  [1.]]]\n",
            "------------------------------\n",
            "arr5 shape: (3, 2, 1)\n",
            "[[[1.]\n",
            "  [1.]]\n",
            "\n",
            " [[1.]\n",
            "  [1.]]\n",
            "\n",
            " [[1.]\n",
            "  [1.]]]\n"
          ]
        }
      ],
      "source": [
        "# 인덱스를 반환하는 numpy.nonzero와 numpy.transpose 함수 (3)\n",
        "\n",
        "# 2, 3차원 배열의 전치\n",
        "arr = np.arange(4).reshape((2, 2))\n",
        "print(arr), print('-'*30)\n",
        "print(np.transpose(arr)), print('='*30)\n",
        "\n",
        "arr1 = np.ones((1, 2, 3))\n",
        "print(arr1), print('-'*30)\n",
        "print(f'arr1 shape: {arr1.shape}'), print('-'*30)\n",
        "\n",
        "# np.transpose(arr, (arr 행렬을 (a,b,c) 차원으로 전치))\n",
        "# 기존 arr1은 (면, 행, 열)의 형태 -> (0, 1, 2)라는 순서를 가짐\n",
        "arr2 = np.transpose(arr1, (1, 0, 2)) # 면과 행을 바꿔라\n",
        "print(f'arr2 shape: {arr2.shape}')\n",
        "print(arr2), print('-'*30)\n",
        "\n",
        "arr3 = np.transpose(arr1, (0, 2, 1)) # 행과 열을 바꿔라\n",
        "print(f'arr3 shape: {arr3.shape}')\n",
        "print(arr3), print('-'*30)\n",
        "\n",
        "# 실제 arr1.T 과 같은 결과를 가짐\n",
        "arr4 = np.transpose(arr1, (2, 1, 0)) # 면과 열을 바꿔라\n",
        "print(f'arr4 shape: {arr4.shape}')\n",
        "print(arr4), print('-'*30)\n",
        "\n",
        "arr5 = arr1.T\n",
        "print(f'arr5 shape: {arr5.shape}')\n",
        "print(arr5)"
      ]
    },
    {
      "cell_type": "code",
      "execution_count": null,
      "metadata": {
        "colab": {
          "base_uri": "https://localhost:8080/"
        },
        "id": "SL9scMhOSRtE",
        "outputId": "b5c71fd1-df96-4465-f290-cde37b3fd782"
      },
      "outputs": [
        {
          "name": "stdout",
          "output_type": "stream",
          "text": [
            "[1 2 3]\n",
            "------------------------------\n",
            "[1 2 3]\n",
            "------------------------------\n",
            "b shape: (3,)\n",
            "b.T shape: (3,)\n",
            "==============================\n",
            "[[1 2 3]]\n",
            "------------------------------\n",
            "[[1]\n",
            " [2]\n",
            " [3]]\n",
            "------------------------------\n",
            "arr shape: (1, 3)\n",
            "arr.T shape: (3, 1)\n"
          ]
        }
      ],
      "source": [
        "# 인덱스를 반환하는 numpy.nonzero와 numpy.transpose 함수 (4)\n",
        "\n",
        "# 1차원 배열은 전치 처리가 되지 않는다?\n",
        "a = [1, 2, 3]\n",
        "b = np.array(a) # (3,)\n",
        "\n",
        "print(b), print('-'*30)\n",
        "print(b.T), print('-'*30)\n",
        "print(f'b shape: {b.shape}')\n",
        "print(f'b.T shape: {b.T.shape}')\n",
        "print('='*30)\n",
        "\n",
        "arr = np.array([a]) # np.array([[1,2,3]])\n",
        "print(arr), print('-'*30)\n",
        "print(arr.transpose()), print('-'*30)\n",
        "print(f'arr shape: {arr.shape}')\n",
        "print(f'arr.T shape: {arr.T.shape}')\n",
        "\n"
      ]
    },
    {
      "cell_type": "code",
      "execution_count": null,
      "metadata": {
        "colab": {
          "base_uri": "https://localhost:8080/"
        },
        "id": "i4CwKUSpSsD2",
        "outputId": "0ad53126-aafd-45cf-e4fd-ef7b30c0839c"
      },
      "outputs": [
        {
          "name": "stdout",
          "output_type": "stream",
          "text": [
            "[[[ 0  1  2  3]\n",
            "  [ 4  5  6  7]]\n",
            "\n",
            " [[ 8  9 10 11]\n",
            "  [12 13 14 15]]]\n",
            "(2, 2, 4)\n",
            "==============================\n",
            "[[[ 0  1  2  3]\n",
            "  [ 8  9 10 11]]\n",
            "\n",
            " [[ 4  5  6  7]\n",
            "  [12 13 14 15]]]\n",
            "(2, 2, 4)\n",
            "==============================\n",
            "[[[ 0  1  2  3]\n",
            "  [ 8  9 10 11]]\n",
            "\n",
            " [[ 4  5  6  7]\n",
            "  [12 13 14 15]]]\n",
            "(2, 2, 4)\n",
            "==============================\n",
            "[[[ 0  1  2  3]\n",
            "  [ 4  5  6  7]]\n",
            "\n",
            " [[ 8  9 10 11]\n",
            "  [12 13 14 15]]]\n",
            "[[[ 0  8]\n",
            "  [ 4 12]]\n",
            "\n",
            " [[ 1  9]\n",
            "  [ 5 13]]\n",
            "\n",
            " [[ 2 10]\n",
            "  [ 6 14]]\n",
            "\n",
            " [[ 3 11]\n",
            "  [ 7 15]]]\n",
            "(4, 2, 2)\n"
          ]
        }
      ],
      "source": [
        "# 다차원 배열의 전치 1: 면(depth) x 행 x 열\n",
        "\n",
        "arr1 = np.array([[[0, 1, 2, 3],\n",
        "                  [4, 5, 6, 7]],\n",
        "                 [[8, 9, 10, 11],\n",
        "                  [12, 13, 14, 15]]])\n",
        "\n",
        "print(arr1)\n",
        "print(arr1.shape) # (2,2,4)\n",
        "print('='*30)\n",
        "\n",
        "# 면과 행을 바꿈\n",
        "arr2 = np.transpose(arr1, (1, 0, 2))\n",
        "print(arr2)\n",
        "print(arr2.shape)\n",
        "print('='*30)\n",
        "\n",
        "arr3 = arr1.transpose((1, 0, 2)) # arr2의 결과와 같음\n",
        "print(arr3)\n",
        "print(arr3.shape)\n",
        "print('='*30)\n",
        "\n",
        "arr4 = arr1.T       # np.transpose(arr1, (2,1,0)) 같음\n",
        "print(arr1)\n",
        "print(arr4)\n",
        "print(arr4.shape)\n"
      ]
    },
    {
      "cell_type": "code",
      "execution_count": null,
      "metadata": {
        "colab": {
          "base_uri": "https://localhost:8080/"
        },
        "id": "HfPFt_JgwIza",
        "outputId": "a8910050-d13f-4679-f315-54a36acd3b6e"
      },
      "outputs": [
        {
          "name": "stdout",
          "output_type": "stream",
          "text": [
            "[[[ 0  1  2  3]\n",
            "  [ 4  5  6  7]\n",
            "  [ 8  9 10 11]]\n",
            "\n",
            " [[12 13 14 15]\n",
            "  [16 17 18 19]\n",
            "  [20 21 22 23]]]\n",
            "shape of a is (2, 3, 4) \n",
            " --------------------------------------------------\n",
            "[[[ 0 12]\n",
            "  [ 4 16]\n",
            "  [ 8 20]]\n",
            "\n",
            " [[ 1 13]\n",
            "  [ 5 17]\n",
            "  [ 9 21]]\n",
            "\n",
            " [[ 2 14]\n",
            "  [ 6 18]\n",
            "  [10 22]]\n",
            "\n",
            " [[ 3 15]\n",
            "  [ 7 19]\n",
            "  [11 23]]]\n",
            "shape of b is (4, 3, 2) \n",
            " --------------------------------------------------\n",
            "[[[ 0 12]\n",
            "  [ 4 16]\n",
            "  [ 8 20]]\n",
            "\n",
            " [[ 1 13]\n",
            "  [ 5 17]\n",
            "  [ 9 21]]\n",
            "\n",
            " [[ 2 14]\n",
            "  [ 6 18]\n",
            "  [10 22]]\n",
            "\n",
            " [[ 3 15]\n",
            "  [ 7 19]\n",
            "  [11 23]]]\n",
            "shape of c is (4, 3, 2) \n",
            " --------------------------------------------------\n",
            "[[[ 0  1  2  3]\n",
            "  [12 13 14 15]]\n",
            "\n",
            " [[ 4  5  6  7]\n",
            "  [16 17 18 19]]\n",
            "\n",
            " [[ 8  9 10 11]\n",
            "  [20 21 22 23]]]\n",
            "shape of d is (3, 2, 4) \n",
            " --------------------------------------------------\n"
          ]
        }
      ],
      "source": [
        "# 다차원 배열의 전치 2: 면(depth) x 행 x 열\n",
        "\n",
        "# 행렬의 전치는 행과 열을 바꾸기만 하면 되지만,\n",
        "# 3차원 텐서의 전치는 열 x 행 x 면의 순서로 바뀜\n",
        "\n",
        "a = np.arange(24).reshape(2,3,4)\n",
        "print(a)\n",
        "print(f'shape of a is {a.shape}', '\\n', '-'*50)\n",
        "\n",
        "b = a.T\n",
        "print(b)\n",
        "print(f'shape of b is {b.shape}', '\\n', '-'*50)\n",
        "\n",
        "# 아래와 같이 축의 순서를 원하는대로 바꿀 수 있음\n",
        "c = np.transpose(a, (2,1,0))\n",
        "print(c)\n",
        "print(f'shape of c is {c.shape}', '\\n', '-'*50)\n",
        "\n",
        "d = np.transpose(a, (1,0,2))\n",
        "print(d)\n",
        "print(f'shape of d is {d.shape}', '\\n', '-'*50)"
      ]
    },
    {
      "cell_type": "code",
      "execution_count": null,
      "metadata": {
        "colab": {
          "base_uri": "https://localhost:8080/"
        },
        "id": "0X3x8C9tq5lQ",
        "outputId": "bfde7b31-39fd-4d3d-b8ff-944d2b01199d"
      },
      "outputs": [
        {
          "name": "stdout",
          "output_type": "stream",
          "text": [
            "[1, 4, 9, 16]\n",
            "[ 1  4  9 16]\n"
          ]
        }
      ],
      "source": [
        "# universal function\n",
        "\n",
        "# 일반 파이썬 for 문 vs 넘파이 벡터화\n",
        "\n",
        "# 일반 파이썬 : 리스트 a의 원소별 제곱\n",
        "a = [1, 2, 3, 4]\n",
        "b = []\n",
        "for x in a:\n",
        "    b.append(x ** 2)\n",
        "print(b)  # [1, 4, 9, 16]\n",
        "\n",
        "\n",
        "# 넘파이 벡터화\n",
        "a = np.array([1, 2, 3, 4])\n",
        "b = a ** 2  # 벡터화된 연산\n",
        "print(b)    # [1 4 9 16]\n"
      ]
    },
    {
      "cell_type": "code",
      "execution_count": null,
      "metadata": {
        "colab": {
          "base_uri": "https://localhost:8080/"
        },
        "id": "bHhmPBVcvIbO",
        "outputId": "d80faaa3-4c82-480f-9e98-6ddeeb90ff33"
      },
      "outputs": [
        {
          "name": "stdout",
          "output_type": "stream",
          "text": [
            "(이항 연산) np.add.nin : 2\n",
            "(이항 연산) np.add.nout : 1\n",
            "==============================\n",
            "(단항 연산) np.exp.nin : 1\n",
            "(단항 연산) np.exp.nout : 1\n"
          ]
        }
      ],
      "source": [
        "# class numpy.ufunc\n",
        "\n",
        "# 유니버셜 함수가 취급하는 입력 / 출력 인수 개수는 다음과 같이 확인\n",
        "print(f'(이항 연산) np.add.nin : {np.add.nin}')\n",
        "print(f'(이항 연산) np.add.nout : {np.add.nout}')\n",
        "print('='*30)\n",
        "\n",
        "print(f'(단항 연산) np.exp.nin : {np.exp.nin}')\n",
        "print(f'(단항 연산) np.exp.nout : {np.exp.nout}')\n"
      ]
    },
    {
      "cell_type": "code",
      "execution_count": null,
      "metadata": {
        "colab": {
          "base_uri": "https://localhost:8080/"
        },
        "id": "i6seqXxQ6tgt",
        "outputId": "3ecdd807-926c-42c4-89b7-a17839ea5058"
      },
      "outputs": [
        {
          "name": "stdout",
          "output_type": "stream",
          "text": [
            "[ 2  4  6  8 10]\n",
            "--------------------\n",
            "15\n",
            "--------------------\n",
            "[[1 2 3]\n",
            " [4 5 6]]\n",
            "--------------------\n",
            "[5 7 9]\n",
            "--------------------\n",
            "[ 6 15]\n"
          ]
        }
      ],
      "source": [
        "# ufunc - reduce() 메소드 (1) : '줄이다' -> 차원을 줄임\n",
        "\n",
        "print(np.add([1, 2, 3, 4, 5], [1, 2, 3, 4, 5]))\n",
        "print('-'*20)\n",
        "\n",
        "arr1 = np.array([1, 2, 3, 4, 5]) # (5,)\n",
        "print(np.add.reduce(arr1))   # 스칼라 ()\n",
        "print('-'*20)\n",
        "\n",
        "arr2 = np.array(([1, 2, 3], [4, 5, 6]))\n",
        "print(arr2)\n",
        "print('-'*20)\n",
        "\n",
        "# 행단위 연산 shape: (2,3) -> (3,)\n",
        "print(np.add.reduce(arr2)) # default(axis = 0): axis=0에 대해 축 감소 (2,3) -> (3,)\n",
        "print('-'*20)\n",
        "\n",
        "# 열단위 연산 shape: (2,3) -> (2,)\n",
        "print(np.add.reduce(arr2, axis=1)) # axis=1: axis=1에 대해 축 감소 (2,3) -> (2,)\n",
        "# [[6],\n",
        "#  [15]] 이렇게 출력이 안나오고, [6,15] 이런식으로 (2,) shape가짐"
      ]
    },
    {
      "cell_type": "code",
      "execution_count": null,
      "metadata": {
        "colab": {
          "base_uri": "https://localhost:8080/"
        },
        "id": "PijB-OO39tNR",
        "outputId": "a021bc08-0817-4a54-83d5-86d77a06d918"
      },
      "outputs": [
        {
          "name": "stdout",
          "output_type": "stream",
          "text": [
            "[[[1 2 3 4 5]]] (1, 1, 5)\n",
            "--------------------\n",
            "[[1 2 3 4 5]] (1, 5)\n",
            "--------------------\n",
            "[1 2 3 4 5] (5,)\n",
            "--------------------\n",
            "15 ()\n"
          ]
        }
      ],
      "source": [
        "# ufunc - reduce() 메소드 (2)\n",
        "\n",
        "arr3 = np.array([[[1, 2, 3, 4, 5]]])\n",
        "print(arr3, arr3.shape)     # [[[1 2 3 4 5]]] (1, 1, 5)\n",
        "print('-'*20)\n",
        "\n",
        "arr4 = np.add.reduce(arr3)\n",
        "print(arr4, arr4.shape)     # [[1 2 3 4 5]] (1, 5)\n",
        "print('-'*20)\n",
        "\n",
        "arr5 = np.add.reduce(arr4)\n",
        "print(arr5, arr5.shape)     # [1 2 3 4 5] (5,)\n",
        "print('-'*20)\n",
        "\n",
        "arr6 = np.add.reduce(arr5)\n",
        "print(arr6, arr6.shape)     # 15 shape: ()"
      ]
    },
    {
      "cell_type": "code",
      "execution_count": null,
      "metadata": {
        "colab": {
          "base_uri": "https://localhost:8080/"
        },
        "id": "Peq2Gp0N9MNu",
        "outputId": "483dde0d-428d-4a68-eaf8-cff3c5f30375"
      },
      "outputs": [
        {
          "name": "stdout",
          "output_type": "stream",
          "text": [
            "[1, 2, 3, 4, 5]\n",
            "[ 1  3  6 10 15]\n",
            "--------------------\n",
            "[  1   2   6  24 120]\n",
            "====================\n",
            "[[ 0  1  2  3]\n",
            " [ 4  5  6  7]\n",
            " [ 8  9 10 11]]\n",
            "--------------------\n",
            "[[ 0  1  2  3]\n",
            " [ 4  6  8 10]\n",
            " [12 15 18 21]]\n",
            "--------------------\n",
            "[[ 0  1  3  6]\n",
            " [ 4  9 15 22]\n",
            " [ 8 17 27 38]]\n"
          ]
        }
      ],
      "source": [
        "# ufunc - accumulate() 메소드 // 원래 차원이 그대로 유지됨\n",
        "\n",
        "arr0 = [1, 2, 3, 4, 5]\n",
        "print(arr0)\n",
        "print(np.add.accumulate(arr0))\n",
        "print('-'*20)\n",
        "\n",
        "print(np.multiply.accumulate(arr0))\n",
        "print('='*20)\n",
        "\n",
        "# 2D 행렬\n",
        "arr = np.arange(12).reshape((3, 4))\n",
        "print(arr)\n",
        "print('-'*20)\n",
        "\n",
        "print(np.add.accumulate(arr)) # axis=0에 대해서\n",
        "print('-'*20)\n",
        "print(np.add.accumulate(arr, axis=1)) # 열에대해서 더한 후 축적\n"
      ]
    },
    {
      "cell_type": "code",
      "execution_count": null,
      "metadata": {
        "colab": {
          "base_uri": "https://localhost:8080/"
        },
        "id": "S46eD6PUC5nW",
        "outputId": "21c5c9db-5872-4e4f-ee1e-d964d3b2a4d2"
      },
      "outputs": [
        {
          "name": "stdout",
          "output_type": "stream",
          "text": [
            "[0 1 2 3 4 5 6]\n",
            "[3 7 5 6]\n",
            "==============================\n",
            "[[ 0.  1.  2.  3.]\n",
            " [ 4.  5.  6.  7.]\n",
            " [ 8.  9. 10. 11.]\n",
            " [12. 13. 14. 15.]]\n",
            "------------------------------\n",
            "[[12. 15. 18. 21.]\n",
            " [12. 13. 14. 15.]\n",
            " [ 4.  5.  6.  7.]\n",
            " [ 8.  9. 10. 11.]\n",
            " [24. 28. 32. 36.]]\n",
            "------------------------------\n",
            "[[ 3.  3.  1.  2.  6.]\n",
            " [15.  7.  5.  6. 22.]\n",
            " [27. 11.  9. 10. 38.]\n",
            " [39. 15. 13. 14. 54.]]\n"
          ]
        }
      ],
      "source": [
        "# ufunc - reduceat() 메소드\n",
        "\n",
        "arr = np.arange(7)\n",
        "print(arr)\n",
        "\n",
        "# arr[0:3], arr[3:5], arr[5:6], arr[6:]에\n",
        "# 해당하는 요소를 각각 더한 값을 반환\n",
        "print(np.add.reduceat(arr, [0, 3, 5, 6]))\n",
        "print('='*30)\n",
        "\n",
        "\n",
        "arr1 = np.linspace(0, 15, 16).reshape(4, 4)\n",
        "print(arr1)\n",
        "print('-'*30)\n",
        "\n",
        "# axis=0 (기본값)이므로, 행 기준으로 연산\n",
        "# 0:3 -> 0행~2행 // 3:1 -> 빈 범위라서 해당 위치 행(3행) 그대로 사용\n",
        "# 1:2 -> 1행     // 2:0 -> 빈 범위라서 해당 위치 행(2행) 그대로 사용\n",
        "# 0: - > 0행~끝\n",
        "print(np.add.reduceat(arr1, [0, 3, 1, 2, 0]))\n",
        "print('-'*30)\n",
        "\n",
        "print(np.add.reduceat(arr1, [0, 3, 1, 2, 0], axis=1))\n"
      ]
    },
    {
      "cell_type": "code",
      "execution_count": null,
      "metadata": {
        "colab": {
          "base_uri": "https://localhost:8080/"
        },
        "id": "2f15sq4rJckE",
        "outputId": "05dd12b9-2b6f-49b9-a415-8528176da6d8"
      },
      "outputs": [
        {
          "name": "stdout",
          "output_type": "stream",
          "text": [
            "(3,) (3,) (3, 3)\n",
            "[[5 6 7]\n",
            " [6 7 8]\n",
            " [7 8 9]]\n",
            "==============================\n",
            "(2, 3) (4,) (2, 3, 4)\n",
            "[[[ 2  3  4  5]\n",
            "  [ 3  4  5  6]\n",
            "  [ 4  5  6  7]]\n",
            "\n",
            " [[ 5  6  7  8]\n",
            "  [ 6  7  8  9]\n",
            "  [ 7  8  9 10]]]\n",
            "==============================\n",
            "(2, 3) (4,) (2, 3, 4)\n",
            "[[[ 1  2  3  4]\n",
            "  [ 2  4  6  8]\n",
            "  [ 3  6  9 12]]\n",
            "\n",
            " [[ 4  8 12 16]\n",
            "  [ 5 10 15 20]\n",
            "  [ 6 12 18 24]]]\n",
            "==============================\n",
            "(2, 3) (4,) (6, 4)\n",
            "[[ 1  2  3  4]\n",
            " [ 2  4  6  8]\n",
            " [ 3  6  9 12]\n",
            " [ 4  8 12 16]\n",
            " [ 5 10 15 20]\n",
            " [ 6 12 18 24]]\n",
            "------------------------------\n",
            "(2, 3) (2, 2) (6, 4)\n",
            "[[ 1  2  3  4]\n",
            " [ 2  4  6  8]\n",
            " [ 3  6  9 12]\n",
            " [ 4  8 12 16]\n",
            " [ 5 10 15 20]\n",
            " [ 6 12 18 24]]\n"
          ]
        }
      ],
      "source": [
        "# ufunc - outer() 메소드\n",
        "\n",
        "# 배열 A에서 a, 배열 B에서 b를 가지는 모든 쌍인 (a, b)에 ufunc op를 적용\n",
        "\n",
        "# add.outer\n",
        "a = np.array([1, 2, 3])\n",
        "b = np.array([4, 5, 6])\n",
        "c = np.add.outer(a, b)\n",
        "print(a.shape, b.shape, c.shape) # (3,) (3,) (3, 3)\n",
        "print(c)              # [[5 6 7], [6 7 8], [7 8 9]]\n",
        "print('='*30)\n",
        "\n",
        "# add.outer\n",
        "arr1 = np.array([[1, 2, 3], [4, 5, 6]])\n",
        "arr2 = np.array([1, 2, 3, 4])\n",
        "arr3 = np.add.outer(arr1, arr2)\n",
        "print(arr1.shape, arr2.shape, arr3.shape) # (2, 3) (4,) (2, 3, 4)\n",
        "print(arr3)\n",
        "print('='*30)\n",
        "\n",
        "# multiply.outer\n",
        "arr1 = np.array([[1, 2, 3], [4, 5, 6]])\n",
        "arr2 = np.array([1, 2, 3, 4])\n",
        "arr3 = np.multiply.outer(arr1, arr2)\n",
        "print(arr1.shape, arr2.shape, arr3.shape) # (2, 3) (4,) (2, 3, 4)\n",
        "print(arr3)\n",
        "print('='*30)\n",
        "\n",
        "# outer (참고만...)\n",
        "# 입력 배열을 먼저 1차원으로 평탄화 (flatten)한 다음, 외적 연산을 함\n",
        "arr1 = np.array([[1, 2, 3], [4, 5, 6]])\n",
        "arr2 = np.array([1, 2, 3, 4])\n",
        "arr4 = np.outer(arr1, arr2)\n",
        "print(arr1.shape, arr2.shape, arr4.shape) # (2, 3) (4,) (6, 4)\n",
        "print(arr4)\n",
        "print('-'*30)\n",
        "\n",
        "arr1 = np.array([[1, 2, 3], [4, 5, 6]])\n",
        "arr5 = np.array([[1, 2], [3, 4]])\n",
        "arr6 = np.outer(arr1, arr5)\n",
        "print(arr1.shape, arr5.shape, arr6.shape) # (2, 3) (2, 2) (6, 4)\n",
        "print(arr6) # 위의 결과와 같음"
      ]
    },
    {
      "cell_type": "code",
      "execution_count": null,
      "metadata": {
        "colab": {
          "base_uri": "https://localhost:8080/"
        },
        "id": "r6GeoND_U6Du",
        "outputId": "c11a2746-6415-490c-f41d-981b3d1b32c5"
      },
      "outputs": [
        {
          "name": "stdout",
          "output_type": "stream",
          "text": [
            "-3.0\n",
            "==============================\n",
            "[[0. 1. 2.]\n",
            " [3. 4. 5.]\n",
            " [6. 7. 8.]]\n",
            "------------------------------\n",
            "[0. 1. 2.]\n",
            "------------------------------\n",
            "[[0. 0. 0.]\n",
            " [3. 3. 3.]\n",
            " [6. 6. 6.]]\n"
          ]
        }
      ],
      "source": [
        "# 유용한 ufunc (1)\n",
        "\n",
        "# np.subtract\n",
        "print(np.subtract(1.0, 4.0))\n",
        "print('='*30)\n",
        "\n",
        "arr1 = np.arange(9.0).reshape((3, 3))\n",
        "arr2 = np.arange(3.0)\n",
        "print(arr1), print('-'*30)\n",
        "print(arr2), print('-'*30)\n",
        "\n",
        "print(np.subtract(arr1, arr2))"
      ]
    },
    {
      "cell_type": "code",
      "execution_count": null,
      "metadata": {
        "colab": {
          "base_uri": "https://localhost:8080/"
        },
        "id": "5pRjmxkDWwmx",
        "outputId": "eee60c29-50dd-414d-b4a2-b32197022f6b"
      },
      "outputs": [
        {
          "name": "stdout",
          "output_type": "stream",
          "text": [
            "[0, 1, 2, 3, 4, 5]\n",
            "------------------------------\n",
            "[  0   1   8  27  64 125]\n",
            "==============================\n",
            "[0, 1, 2, 3, 4, 5]\n",
            "------------------------------\n",
            "[1.0, 2.0, 3.0, 3.0, 2.0, 1.0]\n",
            "------------------------------\n",
            "[ 0.  1.  8. 27. 16.  5.]\n",
            "==============================\n",
            "[[1 2 3 3 2 1]\n",
            " [1 2 3 3 2 1]]\n",
            "------------------------------\n",
            "[[ 0  1  8 27 16  5]\n",
            " [ 0  1  8 27 16  5]]\n"
          ]
        }
      ],
      "source": [
        "# 유용한 ufunc (2)\n",
        "\n",
        "# np.power\n",
        "arr1 = range(6)\n",
        "a = np.power(arr1, 3)\n",
        "print(list(arr1)), print('-'*30)\n",
        "print(a), print('='*30)\n",
        "\n",
        "arr2 = [1.0, 2.0, 3.0, 3.0, 2.0, 1.0]\n",
        "b = np.power(arr1, arr2)\n",
        "print(list(arr1)), print('-'*30)\n",
        "print(arr2), print('-'*30)\n",
        "print(b), print('='*30)\n",
        "\n",
        "# 유니버셜 함수에 브로드캐스팅을 적용할 수 있음\n",
        "arr3 = np.array([[1, 2, 3, 3, 2, 1],\n",
        "                 [1, 2, 3, 3, 2, 1]])\n",
        "c = np.power(arr1, arr3)\n",
        "print(arr3), print('-'*30)\n",
        "print(c)"
      ]
    },
    {
      "cell_type": "code",
      "execution_count": null,
      "metadata": {
        "colab": {
          "base_uri": "https://localhost:8080/"
        },
        "id": "j6nI8B02YSE8",
        "outputId": "8db4b8d9-7fe4-410b-8882-f6404ffd7218"
      },
      "outputs": [
        {
          "name": "stdout",
          "output_type": "stream",
          "text": [
            "np.sin(np.pi/2): 1.0\n",
            "np.cos(np.pi): -1.0\n",
            "------------------------------------------------------------\n",
            "np.sin(np.deg2rad(0)): 0.0\n",
            "np.tan(np.deg2rad(90)): 1.633123935319537e+16\n",
            "------------------------------------------------------------\n",
            "np.cos(np.rad2deg(np.pi)): -0.5984600690578581\n",
            "------------------------------------------------------------\n",
            "[0.         0.5        0.70710678 0.8660254  1.        ]\n"
          ]
        },
        {
          "data": {
            "text/plain": [
              "np.float64(180.0)"
            ]
          },
          "execution_count": 49,
          "metadata": {},
          "output_type": "execute_result"
        }
      ],
      "source": [
        "# 유용한 ufunc (3)\n",
        "\n",
        "# 삼각 함수\n",
        "\n",
        "# np.sin, np.cos, np.tan\n",
        "print(f'np.sin(np.pi/2): {np.sin(np.pi/2)}')\n",
        "print(f'np.cos(np.pi): {np.cos(np.pi)}')\n",
        "print('-'*60)\n",
        "\n",
        "# deg2rad\n",
        "print(f'np.sin(np.deg2rad(0)): {np.sin(np.deg2rad(0))}')\n",
        "print(f'np.tan(np.deg2rad(90)): {np.tan(np.deg2rad(90))}')\n",
        "print('-'*60)\n",
        "\n",
        "# rad2deg (예상했던 결과는 -1인데...)\n",
        "print(f'np.cos(np.rad2deg(np.pi)): {np.cos(np.rad2deg(np.pi))}')\n",
        "print('-'*60)\n",
        "\n",
        "print(np.sin(np.array((0., 30., 45., 60., 90.)) * np.pi/180.))"
      ]
    },
    {
      "cell_type": "code",
      "execution_count": null,
      "metadata": {
        "colab": {
          "base_uri": "https://localhost:8080/"
        },
        "id": "WHgM8EMPbwbb",
        "outputId": "dc92695c-6b10-490c-c4e3-bf707a5e39b2"
      },
      "outputs": [
        {
          "name": "stdout",
          "output_type": "stream",
          "text": [
            "a: 1, b: 29, c: 28\n",
            "--------------------\n",
            "10001\n",
            "00010001\n",
            "--------------------\n",
            "[12  1]\n"
          ]
        }
      ],
      "source": [
        "# 유용한 ufunc (4)\n",
        "\n",
        "# binary 연산\n",
        "\n",
        "# 13 : 0000 1101\n",
        "# 17 : 0001 0001\n",
        "a = np.bitwise_and(13, 17)  # 1\n",
        "b = np.bitwise_or(13, 17)   # 29\n",
        "c = np.bitwise_xor(13, 17)  # 28\n",
        "print(f'a: {a}, b: {b}, c: {c}')\n",
        "print('-'*20)\n",
        "\n",
        "# binary_repr (representation)은 10진수를 2진수로 변환\n",
        "# 비트 수(width)를 지정하지 않으면 가장 짧은 형태로 표현\n",
        "print(np.binary_repr(17))\n",
        "print(np.binary_repr(17, width=8))\n",
        "print('-'*20)\n",
        "\n",
        "# 14 : 0000 1110\n",
        "# 3  : 0000 0011\n",
        "# 13 : 0000 1101\n",
        "print(np.bitwise_and([14, 3], 13)) # 브로트캐스팅 14 & 13, 3 & 13\n"
      ]
    }
  ],
  "metadata": {
    "colab": {
      "provenance": []
    },
    "kernelspec": {
      "display_name": "Python 3 (ipykernel)",
      "language": "python",
      "name": "python3"
    },
    "language_info": {
      "codemirror_mode": {
        "name": "ipython",
        "version": 3
      },
      "file_extension": ".py",
      "mimetype": "text/x-python",
      "name": "python",
      "nbconvert_exporter": "python",
      "pygments_lexer": "ipython3",
      "version": "3.12.7"
    }
  },
  "nbformat": 4,
  "nbformat_minor": 0
}