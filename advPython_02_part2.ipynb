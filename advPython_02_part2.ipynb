{
 "cells": [
  {
   "cell_type": "markdown",
   "metadata": {
    "id": "Y3gNKRBw6BFR"
   },
   "source": [
    "### 파이썬 코딩 도장: https://dojang.io/course/view.php?id=7\n",
    "### 점프 투 파이썬: https://wikidocs.net/book/1"
   ]
  },
  {
   "cell_type": "code",
   "execution_count": null,
   "metadata": {
    "colab": {
     "base_uri": "https://localhost:8080/"
    },
    "id": "jQt_E5czHhr7",
    "outputId": "170954ef-19a0-42eb-956e-f99a150c8a70"
   },
   "outputs": [
    {
     "name": "stdout",
     "output_type": "stream",
     "text": [
      "10입니다\n",
      "aaa\n",
      "---------------\n",
      "aaa\n"
     ]
    }
   ],
   "source": [
    "# if 문 1\n",
    "\n",
    "# if 조건문:\n",
    "#    조건이 true일 때 실행할 코드 (앞 부분은 들여쓰기 되어 있음)\n",
    "\n",
    "a = 10\n",
    "if a == 10:\n",
    "    print('10입니다')\n",
    "\n",
    "print('aaa')\n",
    "print('-'*15)\n",
    "\n",
    "a = 5\n",
    "if a == 10:\n",
    "    print('10입니다')\n",
    "\n",
    "print('aaa')"
   ]
  },
  {
   "cell_type": "code",
   "execution_count": null,
   "metadata": {
    "colab": {
     "base_uri": "https://localhost:8080/",
     "height": 110
    },
    "id": "d2D7kvLNjVnJ",
    "outputId": "3b35ecb3-ce05-4aa7-9472-da377dc6015e"
   },
   "outputs": [
    {
     "ename": "IndentationError",
     "evalue": "unexpected indent (3066235646.py, line 17)",
     "output_type": "error",
     "traceback": [
      "\u001b[1;36m  Cell \u001b[1;32mIn[78], line 17\u001b[1;36m\u001b[0m\n\u001b[1;33m    print('')\u001b[0m\n\u001b[1;37m    ^\u001b[0m\n\u001b[1;31mIndentationError\u001b[0m\u001b[1;31m:\u001b[0m unexpected indent\n"
     ]
    }
   ],
   "source": [
    "# 코드 블록:\n",
    "# - 특정한 동작을 위해서 코드가 모여 있는 상태\n",
    "# - 파이썬은 들여쓰기를 기준으로 코드 블록을 구성\n",
    "# - 같은 블록은 들여쓰기 칸 수가 같아야 하고, space와 tab을 섞어 쓰면 안됨\n",
    "\n",
    "a = 10\n",
    "\n",
    "if a == 10:\n",
    "    print('10입니다')\n",
    "    print('10입니다')\n",
    "    print('10입니다')\n",
    "    print('10입니다')\n",
    "    print('10입니다')\n",
    "\n",
    "if a != 9:\n",
    "    print('9가 아닙니다')\n",
    "      print('')"
   ]
  },
  {
   "cell_type": "code",
   "execution_count": null,
   "metadata": {
    "colab": {
     "base_uri": "https://localhost:8080/"
    },
    "id": "rhJ-UyIXIHqI",
    "outputId": "e0b63981-c701-4f76-e030-22226699dc6d"
   },
   "outputs": [
    {
     "name": "stdout",
     "output_type": "stream",
     "text": [
      "10입니다\n"
     ]
    }
   ],
   "source": [
    "# if 문 2\n",
    "\n",
    "x = 5\n",
    "\n",
    "if x == 10:\n",
    "    print('x에 들어있는 숫자는')\n",
    "print('10입니다')\n",
    "\n",
    "if x == 10:\n",
    "    print('x에 들어있는 숫자는')\n",
    "    print('10입니다')"
   ]
  },
  {
   "cell_type": "code",
   "execution_count": null,
   "metadata": {
    "colab": {
     "base_uri": "https://localhost:8080/"
    },
    "id": "MiTlVS1zIt6Z",
    "outputId": "3694b0f5-d79f-4d14-fa34-bac70ed3102a"
   },
   "outputs": [
    {
     "name": "stdout",
     "output_type": "stream",
     "text": [
      "참\n"
     ]
    }
   ],
   "source": [
    "# if-else 구문\n",
    "\n",
    "x = 10\n",
    "y = 20\n",
    "\n",
    "if x == 10 and y == 20:  # x == 10 and y == 20 이 조건문\n",
    "    print('참')    # 조건문이 참이면 실행\n",
    "else:\n",
    "    print('거짓')  # 조건문이 거짓이면 실행"
   ]
  },
  {
   "cell_type": "code",
   "execution_count": null,
   "metadata": {
    "colab": {
     "base_uri": "https://localhost:8080/"
    },
    "id": "Zp-6bmpXKHNG",
    "outputId": "ec4bee89-7430-449e-d2eb-cee406363169"
   },
   "outputs": [
    {
     "name": "stdout",
     "output_type": "stream",
     "text": [
      "20보다 작은 양수입니다\n",
      "20보다 작은 양수입니다\n",
      "20보다 작은 양수입니다\n"
     ]
    }
   ],
   "source": [
    "# 중첩 if문과 논리 연산자\n",
    "\n",
    "x = 10\n",
    "\n",
    "if x > 0:\n",
    "    if x < 20:\n",
    "        print('20보다 작은 양수입니다')\n",
    "\n",
    "if x > 0 and x < 20:\n",
    "    print('20보다 작은 양수입니다')\n",
    "\n",
    "if 0 < x < 20:\n",
    "    print('20보다 작은 양수입니다')"
   ]
  },
  {
   "cell_type": "code",
   "execution_count": null,
   "metadata": {
    "id": "JKPwKjcuH6qn"
   },
   "outputs": [],
   "source": [
    "# if 조건문에서 코드 생략하기\n",
    "\n",
    "a = 5\n",
    "\n",
    "if a == 10:\n",
    "    print('a는 10')\n",
    "else:\n",
    "    pass"
   ]
  },
  {
   "cell_type": "code",
   "execution_count": null,
   "metadata": {
    "id": "f2U-eWfnLqzz"
   },
   "outputs": [],
   "source": [
    "'''\n",
    "S기업의 입사시험은 필기시험(written_test) 점수가 80점 이상이면서 코딩시험(coding_test)을\n",
    "통과해야 합격이라고 한다. 코딩시험 통과 여부는 True, False로 구분한다.\n",
    "written_test = 85이고, coding_test = True일 때, 'pass', 'fail'을 판정하는 코드를\n",
    "작성하시오.\n",
    "'''"
   ]
  },
  {
   "cell_type": "code",
   "execution_count": null,
   "metadata": {
    "id": "d6mGv_RgMBf2",
    "outputId": "1261a3bb-ca15-4158-d1a3-f39bcad55dd0"
   },
   "outputs": [
    {
     "name": "stdout",
     "output_type": "stream",
     "text": [
      "pass\n"
     ]
    }
   ],
   "source": [
    "written_test = 85\n",
    "coding_test = True\n",
    "\n",
    "if (written_test >= 80 and coding_test):\n",
    "    print('pass')\n",
    "else:\n",
    "    print('fail')"
   ]
  },
  {
   "cell_type": "code",
   "execution_count": null,
   "metadata": {
    "id": "99E9HgeqMZWt"
   },
   "outputs": [],
   "source": [
    "# if-elif\n",
    "\n",
    "a, b, c = 10, 20, 30\n",
    "\n",
    "if a == 10:        # 조건식이 참\n",
    "    print('10')    # 출력\n",
    "elif b == 20:      # 첫 번째 조건식이 True라서, 조건식을 검사하지 않고 건너뜀\n",
    "    print('20')\n",
    "elif c == 30:      # 첫 번째 조건식이 True라서, 조건식을 검사하지 않고 건너뜀\n",
    "    print('30')"
   ]
  },
  {
   "cell_type": "code",
   "execution_count": null,
   "metadata": {
    "colab": {
     "base_uri": "https://localhost:8080/"
    },
    "id": "ROTgEydUIu1V",
    "outputId": "fa681d07-e7c9-4cee-fbf4-3ee6b4258fb5"
   },
   "outputs": [
    {
     "name": "stdout",
     "output_type": "stream",
     "text": [
      "10도 20도 아닙니다.\n"
     ]
    }
   ],
   "source": [
    "# if-elif-else\n",
    "\n",
    "x = 30\n",
    "\n",
    "if x == 10:             # x가 10일 때\n",
    "    print('10입니다.')\n",
    "elif x == 20:           # x가 20일 때\n",
    "    print('20입니다.')\n",
    "else:                   # 앞의 조건식에 모두 만족하지 않을 때\n",
    "    print('10도 20도 아닙니다.')"
   ]
  },
  {
   "cell_type": "code",
   "execution_count": null,
   "metadata": {
    "id": "JWjPqJfcMfdw"
   },
   "outputs": [],
   "source": [
    "'''\n",
    "나이를 입력 받아서, 나이가 0~12살이면, '알파세대'\n",
    "13~28살이면 'Z 세대', 29~44살이면 'Y 세대', 45~이상이면 'X 세대'를\n",
    "출력하는 코드를 작성하시오.\n",
    "'''"
   ]
  },
  {
   "cell_type": "code",
   "execution_count": 6,
   "metadata": {
    "id": "tC7PsjZGNWfI"
   },
   "outputs": [
    {
     "name": "stdin",
     "output_type": "stream",
     "text": [
      "나이를 입력하시오: 10\n"
     ]
    },
    {
     "name": "stdout",
     "output_type": "stream",
     "text": [
      "alpha gen\n"
     ]
    }
   ],
   "source": [
    "age = int(input('나이를 입력하시오:'))\n",
    "\n",
    "if age <= 12:\n",
    "    print('alpha gen')\n",
    "elif age <= 28:    \n",
    "    print('Z gen')\n",
    "elif age <= 44: \n",
    "    print('Y gen')\n",
    "else:        \n",
    "    print('X gen')\n",
    "    "
   ]
  },
  {
   "cell_type": "code",
   "execution_count": null,
   "metadata": {
    "id": "aJGYMLh7NWc2"
   },
   "outputs": [],
   "source": []
  },
  {
   "cell_type": "code",
   "execution_count": null,
   "metadata": {
    "id": "jLYUmD1vNWam"
   },
   "outputs": [],
   "source": []
  },
  {
   "cell_type": "code",
   "execution_count": null,
   "metadata": {
    "id": "V-ohceS4NWYM"
   },
   "outputs": [],
   "source": []
  },
  {
   "cell_type": "code",
   "execution_count": null,
   "metadata": {
    "id": "X2d0JzEfNWVs"
   },
   "outputs": [],
   "source": []
  },
  {
   "cell_type": "code",
   "execution_count": null,
   "metadata": {
    "id": "0YfV-MKpNWTC"
   },
   "outputs": [],
   "source": []
  },
  {
   "cell_type": "code",
   "execution_count": null,
   "metadata": {
    "colab": {
     "base_uri": "https://localhost:8080/"
    },
    "id": "rOpksl0BNWQe",
    "outputId": "659db6e3-3d27-4bc9-b8cd-feb2ea84bc58"
   },
   "outputs": [
    {
     "name": "stdout",
     "output_type": "stream",
     "text": [
      "나이를 입력하시오: 10\n",
      "알파세대\n"
     ]
    }
   ],
   "source": [
    "age = int(input('나이를 입력하시오: '))\n",
    "\n",
    "if age <= 12:\n",
    "    print('알파세대')\n",
    "elif age <= 28:\n",
    "    print('Z 세대')\n",
    "elif age <= 44:\n",
    "    print('Y 세대')\n",
    "else:\n",
    "    print('X 세대')"
   ]
  },
  {
   "cell_type": "code",
   "execution_count": 7,
   "metadata": {
    "colab": {
     "base_uri": "https://localhost:8080/"
    },
    "id": "Eh5VjEibNxV8",
    "outputId": "7471e0ae-35bd-46e3-dfd7-35d197bc622e"
   },
   "outputs": [
    {
     "name": "stdout",
     "output_type": "stream",
     "text": [
      "hello world\n",
      "hello world\n",
      "hello world\n"
     ]
    }
   ],
   "source": [
    "# for 문: range와 같이 사용 1\n",
    "# range(start=0, end, inc=1)\n",
    "\n",
    "for i in range(3):\n",
    "    print('hello world')"
   ]
  },
  {
   "cell_type": "code",
   "execution_count": 8,
   "metadata": {
    "colab": {
     "base_uri": "https://localhost:8080/"
    },
    "id": "Wk08WdpCObJI",
    "outputId": "e6bd5b82-3358-4bb1-a3cc-96b9d3d8b6b9"
   },
   "outputs": [
    {
     "name": "stdout",
     "output_type": "stream",
     "text": [
      "hello world\n",
      "hello world\n",
      "hello world\n"
     ]
    }
   ],
   "source": [
    "# for 문: range와 같이 사용 2\n",
    "\n",
    "for _ in range(3):\n",
    "    print('hello world')"
   ]
  },
  {
   "cell_type": "code",
   "execution_count": null,
   "metadata": {
    "colab": {
     "base_uri": "https://localhost:8080/"
    },
    "id": "pIgSaJMcOjWR",
    "outputId": "194a5fc7-7d10-4dbe-b091-a9ef2a5c8bc9"
   },
   "outputs": [
    {
     "name": "stdout",
     "output_type": "stream",
     "text": [
      "hello world, 0\n",
      "hello world, 1\n",
      "hello world, 2\n",
      "hello world, 3\n",
      "hello world, 4\n"
     ]
    }
   ],
   "source": [
    "# for 문: range와 같이 사용 3\n",
    "\n",
    "for i in range(5):\n",
    "    print(f'hello world, {i}')"
   ]
  },
  {
   "cell_type": "code",
   "execution_count": null,
   "metadata": {
    "colab": {
     "base_uri": "https://localhost:8080/"
    },
    "id": "NTcW4ZVyO9NP",
    "outputId": "f2d44c44-3250-4146-a114-5c805da4ba7c"
   },
   "outputs": [
    {
     "name": "stdout",
     "output_type": "stream",
     "text": [
      "hello world, 0\n",
      "hello world, 2\n",
      "hello world, 4\n",
      "hello world, 6\n",
      "hello world, 8\n"
     ]
    }
   ],
   "source": [
    "# for 문: range와 같이 사용 4\n",
    "# range(start=0, end, inc=1)\n",
    "\n",
    "for i in range(0, 10, 2):\n",
    "    print(f'hello world, {i}')"
   ]
  },
  {
   "cell_type": "code",
   "execution_count": 10,
   "metadata": {
    "id": "6qtLjoKyPBON"
   },
   "outputs": [],
   "source": [
    "# for 문: range와 같이 사용 5-1\n",
    "# range(start=0, end, inc=1)\n",
    "\n",
    "#for i in range(5, 0):\n",
    "for i in range(5, 0, 1): # 위의 for문과 같은 문장임\n",
    "    print(f'hello world, {i}')"
   ]
  },
  {
   "cell_type": "code",
   "execution_count": null,
   "metadata": {
    "colab": {
     "base_uri": "https://localhost:8080/"
    },
    "id": "wSmclX2oPLCb",
    "outputId": "38d6ae64-9f78-43a9-eaf6-33defff5c077"
   },
   "outputs": [
    {
     "name": "stdout",
     "output_type": "stream",
     "text": [
      "hello world, 5\n",
      "hello world, 4\n",
      "hello world, 3\n",
      "hello world, 2\n",
      "hello world, 1\n"
     ]
    }
   ],
   "source": [
    "# for 문: range와 같이 사용 5-2\n",
    "\n",
    "# (위의 예제) 5-1의 코드의 결과가 출력되지 않는 이유는\n",
    "# range의 숫자 증가 기본값은 1이기 때문임\n",
    "# 아래와 같이 감소를 할 때는 -1을 추가해야 함\n",
    "\n",
    "for i in range(5, 0, -1):\n",
    "    print(f'hello world, {i}')"
   ]
  },
  {
   "cell_type": "code",
   "execution_count": 18,
   "metadata": {
    "colab": {
     "base_uri": "https://localhost:8080/"
    },
    "id": "heYUY46QPnFF",
    "outputId": "ae5ef8d4-0975-4f85-aa4c-901dbdbad228"
   },
   "outputs": [
    {
     "name": "stdout",
     "output_type": "stream",
     "text": [
      "10 20 30 40 50 \n",
      "\n",
      "----------------------------------------\n",
      "10 20 30 40 50 "
     ]
    }
   ],
   "source": [
    "# for 문: 시퀀스 객체로 반복하기 1\n",
    "\n",
    "a = [10, 20, 30, 40, 50]\n",
    "for i in a:\n",
    "    print(i, end=' ')\n",
    "\n",
    "print('\\n')\n",
    "print('-'*40)\n",
    "\n",
    "for i in [10, 20, 30, 40, 50]:\n",
    "    print(i, end=' ')"
   ]
  },
  {
   "cell_type": "code",
   "execution_count": null,
   "metadata": {
    "colab": {
     "base_uri": "https://localhost:8080/"
    },
    "id": "wHuTNfNMPzKk",
    "outputId": "48af5b1e-f74e-4881-8d3a-0386ba9cc830"
   },
   "outputs": [
    {
     "name": "stdout",
     "output_type": "stream",
     "text": [
      "apple\n",
      "orange\n",
      "grape\n",
      "--------------------\n",
      "['h', 'e', 'l', 'l', 'o']\n",
      "--------------------\n",
      "P\n",
      "y\n",
      "t\n",
      "h\n",
      "o\n",
      "n\n",
      "--------------------\n",
      "Python\n",
      "\n",
      "P y t h o n \n",
      "\n",
      "P-y-t-h-o-n-\n",
      "\n",
      "P\ty\tt\th\to\tn\t"
     ]
    }
   ],
   "source": [
    "# for 문: 시퀀스 객체로 반복하기 2\n",
    "\n",
    "fruits = ('apple', 'orange', 'grape')\n",
    "\n",
    "for f in fruits:\n",
    "    print(f)\n",
    "\n",
    "print('-'*20)\n",
    "\n",
    "a = 'hello'\n",
    "print(list(a))\n",
    "print('-'*20)\n",
    "\n",
    "\n",
    "# print('', end='')\n",
    "for b in 'Python':\n",
    "    print(b) # default -> print(b, end='\\n') 과 같음 (개행)\n",
    "\n",
    "print('-'*20)\n",
    "\n",
    "for b in 'Python':\n",
    "    print(b, end = '') # 줄바꿈 없이 출력\n",
    "print('\\n')\n",
    "\n",
    "for b in 'Python':\n",
    "    print(b, end = ' ') # 출력 사이에 공백 추가\n",
    "print('\\n')\n",
    "\n",
    "for b in 'Python':\n",
    "    print(b, end = '-') # 출력 사이에 - 추가\n",
    "print('\\n')\n",
    "\n",
    "\n",
    "for b in 'Python':\n",
    "    print(b, end = '\\t') # 출력 사이에 tab 추가"
   ]
  },
  {
   "cell_type": "code",
   "execution_count": null,
   "metadata": {
    "colab": {
     "base_uri": "https://localhost:8080/"
    },
    "id": "o773QV7dP7Sl",
    "outputId": "50f16e3f-5f7c-416f-a5ae-fa39a6c1b4ff"
   },
   "outputs": [
    {
     "name": "stdout",
     "output_type": "stream",
     "text": [
      "hello: 0\n",
      "hello: 1\n",
      "hello: 2\n",
      "hello: 3\n",
      "hello: 4\n",
      "hello: 5\n",
      "hello: 6\n",
      "hello: 7\n",
      "hello: 8\n",
      "hello: 9\n"
     ]
    }
   ],
   "source": [
    "# while 문 1\n",
    "# while 조건:\n",
    "#    조건이 true이면, block을 실행한다\n",
    "\n",
    "i = 0\n",
    "while i < 10:\n",
    "    print('hello:', i)\n",
    "    i += 1    # i = i+1\n",
    " "
   ]
  },
  {
   "cell_type": "code",
   "execution_count": null,
   "metadata": {
    "colab": {
     "base_uri": "https://localhost:8080/"
    },
    "id": "gi2vP1PfQyIr",
    "outputId": "429950e1-b4ab-4bfb-dfcb-07f736eaf53a"
   },
   "outputs": [
    {
     "name": "stdout",
     "output_type": "stream",
     "text": [
      "hello: 10\n",
      "hello: 9\n",
      "hello: 8\n",
      "hello: 7\n",
      "hello: 6\n",
      "hello: 5\n",
      "hello: 4\n",
      "hello: 3\n",
      "hello: 2\n",
      "hello: 1\n"
     ]
    }
   ],
   "source": [
    "# while 문 2\n",
    "\n",
    "i = 10\n",
    "\n",
    "while i > 0:\n",
    "    print('hello:', i)\n",
    "    i -= 1  # i = i-1\n"
   ]
  },
  {
   "cell_type": "code",
   "execution_count": null,
   "metadata": {
    "id": "whnZV5OOQ62f"
   },
   "outputs": [],
   "source": [
    "# while 문 3: 무한루프 1 (Ctrl + C를 입력하여 탈출)\n",
    "\n",
    "# 실행하지 않기 !!!\n",
    "\n",
    "while True:\n",
    "    print('')\n",
    "\n",
    "while 2:  # 0, 0.0, 0j를 제외한 숫자는 True\n",
    "    print('')\n",
    "\n",
    "while 'abc':  # 내용이 있는 문자열은 True로 취급하여 무한 루프로 동작\n",
    "    print('')\n",
    "\n",
    "# 참고) boolean : Ture / False\n",
    "# 1. 정수 0, 실수 0.0, 복소수 0j 이외의 모든 숫자는 true\n",
    "# 2. 빈 문자열 '', \"\", None을 제외한 모든 문자열은 true\n",
    "# 3. 빈 리스트, 빈 튜플, 빈 딕셔너리, 빈 세트(집합)를 제외한 나머지는 true"
   ]
  },
  {
   "cell_type": "markdown",
   "metadata": {
    "id": "9U_hAb2VJTvo"
   },
   "source": [
    "##### break, contunue로 반복문 제어하기 -> for와 while 문에서 벗어날 때 사용\n",
    "\n",
    "##### break: 제어 흐름을 중단하고 빠져나옴\n",
    "##### continue: 제어 흐름을 유지한 상태에서 코드의 실행만 건너뜀"
   ]
  },
  {
   "cell_type": "code",
   "execution_count": 21,
   "metadata": {
    "colab": {
     "base_uri": "https://localhost:8080/"
    },
    "id": "wR_S0OckR3Oh",
    "outputId": "a3f8c2ef-35cd-4022-d6c0-7f05dc63abca"
   },
   "outputs": [
    {
     "name": "stdout",
     "output_type": "stream",
     "text": [
      "0 1 2 3 4 5 6 7 8 9 10 11 12 13 14 15 16 17 18 19 20 21 22 23 24 25 26 27 28 29 30 31 32 33 34 35 36 37 38 39 40 41 42 43 44 45 46 47 48 49 50 51 52 53 54 55 56 57 58 59 60 61 62 63 64 65 66 67 68 69 70 71 72 73 74 75 76 77 78 79 80 81 82 83 84 85 86 87 88 89 90 91 92 93 94 95 96 97 98 99 100 101 102 103 104 105 106 107 108 109 110 111 112 113 114 115 116 117 118 119 120 121 122 123 124 125 126 127 128 129 130 131 132 133 134 135 136 137 138 139 140 141 142 143 144 145 146 147 148 149 150 151 152 153 154 155 156 157 158 159 160 161 162 163 164 165 166 167 168 169 170 171 172 173 174 175 176 177 178 179 180 181 182 183 184 185 186 187 188 189 190 191 192 193 194 195 196 197 198 199 "
     ]
    }
   ],
   "source": [
    "# while 문에서 break로 빠져나오기\n",
    "\n",
    "i = 0\n",
    "while True:   # 무한루프\n",
    "    print(i, end=' ')\n",
    "    i = i+1\n",
    "\n",
    "    if i == 200:\n",
    "        break"
   ]
  },
  {
   "cell_type": "code",
   "execution_count": 24,
   "metadata": {
    "colab": {
     "base_uri": "https://localhost:8080/"
    },
    "id": "Gcj7-vzQNJBa",
    "outputId": "b6d446aa-8f72-4216-e8c1-7f6e96d5c49b"
   },
   "outputs": [
    {
     "name": "stdout",
     "output_type": "stream",
     "text": [
      "0 1 2 3 4 5 6 7 8 9 10 \n",
      "\n",
      "0 1 2 3 4 5 6 7 8 9 10 "
     ]
    }
   ],
   "source": [
    "# for 문에서 break로 빠져나오기\n",
    "\n",
    "for i in range(1000):\n",
    "    print(i, end= ' ')\n",
    "    \n",
    "    if i == 10:\n",
    "        break\n",
    "\n",
    "print('\\n')     \n",
    "\n",
    "# 위의 코드와 같은 코드임(그러니 굳이 for문에 break를 넣을 필요는 없다)\n",
    "for i in range(11):\n",
    "    print(i, end= ' ')"
   ]
  },
  {
   "cell_type": "code",
   "execution_count": 26,
   "metadata": {
    "colab": {
     "base_uri": "https://localhost:8080/"
    },
    "id": "Y5ZE8_9yNZAJ",
    "outputId": "b082ba79-b7f8-4158-8638-82d186485ac3"
   },
   "outputs": [
    {
     "name": "stdout",
     "output_type": "stream",
     "text": [
      "1 3 5 7 9 \n",
      "\n",
      "-----\n",
      "0 1 2 3 4 5 6 7 8 9 "
     ]
    }
   ],
   "source": [
    "# for 문에서 continue로 코드 실행 건너뛰기\n",
    "\n",
    "for i in range(10):\n",
    "    if i % 2 == 0:  # i가 짝수이면 true (%는 나머지연산)\n",
    "        continue \n",
    "    print(i,end=' ')\n",
    "    #for j in range(100):\n",
    "    #    print(j)\n",
    "    #if j % 2 == 1:\n",
    "    #    print(j)\n",
    "\n",
    "print('\\n')\n",
    "print('-'*5)\n",
    "\n",
    "# continue 대신 pass 사용\n",
    "for i in range(10):\n",
    "    if i % 2 == 0:\n",
    "        pass\n",
    "    print(i,end=' ')"
   ]
  },
  {
   "cell_type": "code",
   "execution_count": null,
   "metadata": {
    "colab": {
     "base_uri": "https://localhost:8080/"
    },
    "id": "NaP9ql46Nriu",
    "outputId": "89288a10-1933-4916-89c8-ba901b0c58fe"
   },
   "outputs": [
    {
     "name": "stdout",
     "output_type": "stream",
     "text": [
      "1\n",
      "3\n",
      "5\n",
      "7\n",
      "9\n"
     ]
    }
   ],
   "source": [
    "# while 문에서 continue로 코드 실행 건너뛰기\n",
    "\n",
    "i = 0\n",
    "while i < 10:\n",
    "    i += 1\n",
    "    if i % 2 == 0:\n",
    "        continue\n",
    "    print(i)"
   ]
  },
  {
   "cell_type": "code",
   "execution_count": 28,
   "metadata": {
    "colab": {
     "base_uri": "https://localhost:8080/"
    },
    "id": "wWE9ktWJN0zV",
    "outputId": "3f844220-668c-4bdb-a8b7-0e02a0fa6784"
   },
   "outputs": [
    {
     "name": "stdout",
     "output_type": "stream",
     "text": [
      "index 0:, value: 38\n",
      "index 1:, value: 21\n",
      "index 2:, value: 53\n",
      "index 3:, value: 62\n",
      "index 4:, value: 19\n",
      "----------\n",
      "10 38\n",
      "11 21\n",
      "12 53\n",
      "13 62\n",
      "14 19\n"
     ]
    }
   ],
   "source": [
    "# 인덱스와 요소 함께 출력하기: enumerate (열거하다)\n",
    "\n",
    "a = [38, 21, 53, 62, 19]\n",
    "\n",
    "for idx, value in enumerate(a):\n",
    "    print(f'index {idx}:, value: {value}')\n",
    "\n",
    "print('-'*10)\n",
    "\n",
    "for idx, value in enumerate(a, start=10):\n",
    "    print(idx, value)"
   ]
  },
  {
   "cell_type": "code",
   "execution_count": 30,
   "metadata": {
    "colab": {
     "base_uri": "https://localhost:8080/"
    },
    "id": "3UtjRkt3KZ0E",
    "outputId": "37ccfa43-d12c-4c4a-94fb-55b57eb01e9d"
   },
   "outputs": [
    {
     "name": "stdout",
     "output_type": "stream",
     "text": [
      "[('Jenny', 30), ('Rose', 29), ('Jisoo', 31)]\n",
      "<zip object at 0x00000144C863BD40>\n"
     ]
    }
   ],
   "source": [
    "# zip: 여러 개의 이터러블(리스트, 튜플 등)을 묶어서 요소들을 튜플로 묶어주는 함수\n",
    "\n",
    "# zip 1\n",
    "\n",
    "#names = [\"Jenny\", \"Rose\", \"Jisoo\", \"Lisa\"]\n",
    "names = [\"Jenny\", \"Rose\", \"Jisoo\"]\n",
    "ages = [30, 29, 31]\n",
    "\n",
    "zipped = zip(names, ages)  # 각 요소를 튜플로 묶음\n",
    "print(list(zipped))\n",
    "\n",
    "print(zipped) # zip은 실제 리스트가 아니라 이터레이터 객체를 생성"
   ]
  },
  {
   "cell_type": "code",
   "execution_count": 33,
   "metadata": {
    "colab": {
     "base_uri": "https://localhost:8080/"
    },
    "id": "-ouuy9XgKpZ0",
    "outputId": "065e6616-9516-4cf3-aa98-305e640132fa"
   },
   "outputs": [
    {
     "name": "stdout",
     "output_type": "stream",
     "text": [
      "Hanni의 점수는 87입니다.\n",
      "Danielle의 점수는 85입니다.\n",
      "Haerin의 점수는 92입니다.\n",
      "Hanni의 점수는 87입니다.\n",
      "Danielle의 점수는 85입니다.\n",
      "Haerin의 점수는 92입니다.\n"
     ]
    }
   ],
   "source": [
    "# zip 2: for문에서 사용\n",
    "\n",
    "students = [\"Hanni\", \"Danielle\", \"Haerin\"]\n",
    "scores = [87, 85, 92]\n",
    "\n",
    "for i in range(len(students)):\n",
    "    print(f\"{students[i]}의 점수는 {scores[i]}입니다.\")\n",
    "    \n",
    "for student, score in zip(students, scores):\n",
    "    print(f\"{student}의 점수는 {score}입니다.\")\n"
   ]
  },
  {
   "cell_type": "code",
   "execution_count": 34,
   "metadata": {},
   "outputs": [
    {
     "name": "stdout",
     "output_type": "stream",
     "text": [
      "[0, 1, 2, 3, 4, 5, 6, 7, 8, 9] "
     ]
    }
   ],
   "source": [
    "aa = [] # 빈 리스트\n",
    "for i in range(10):\n",
    "    aa.append(i)\n",
    "print(aa,end=' ')"
   ]
  },
  {
   "cell_type": "code",
   "execution_count": null,
   "metadata": {
    "colab": {
     "base_uri": "https://localhost:8080/"
    },
    "id": "AtnBoQw5Qedp",
    "outputId": "7f8f69a9-59d8-45ce-e9b4-653dc47a19ad"
   },
   "outputs": [
    {
     "name": "stdout",
     "output_type": "stream",
     "text": [
      "[0, 1, 2, 3, 4, 5, 6, 7, 8, 9]\n",
      "----------------------------------------\n",
      "[0, 1, 2, 3, 4, 5, 6, 7, 8, 9]\n",
      "----------------------------------------\n",
      "[0, 2, 4, 6, 8, 10, 12, 14, 16, 18]\n"
     ]
    }
   ],
   "source": [
    "# list comprehension (리스트 표현식, 리스트 내포, 리스트 내장)\n",
    "# list안에 for 문 사용\n",
    "# format1: [식 for 변수 in list] \n",
    "# format2: list(식 for 변수 in list)\n",
    "\n",
    "aa = [] # 빈 리스트\n",
    "for i in range(10):\n",
    "    aa.append(i)\n",
    "print(aa,end=' ')\n",
    "\n",
    "print('='*30)\n",
    "\n",
    "a = [i for i in range(10)]\n",
    "print(a)\n",
    "\n",
    "print('-'*40)\n",
    "\n",
    "\n",
    "b = []\n",
    "for i in range(10):\n",
    "    b.append(i)\n",
    "print(b)\n",
    "\n",
    "print('-'*40)\n",
    "\n",
    "\n",
    "c = [i*2 for i in range(10)]\n",
    "print(c)"
   ]
  },
  {
   "cell_type": "markdown",
   "metadata": {
    "id": "fnMyIi5L73sg"
   },
   "source": [
    "### list 자료형이 가지는 대표적인 메소드(함수)\n",
    "\n",
    "##### a = [ ] 를 리스트라고 두면,\n",
    "##### a.append(x): 리스트 끝에 요소 추가\n",
    "##### a.extend(iterable): 다른 리스트나 반복 가능한 객체를 확장하여 추가\n",
    "##### a.insert(index, x): index 위치에 요소 삽입\n",
    "##### a.remove(x): 리스트에서 첫 번째로 등장하는 x 삭제\n",
    "##### a.pop(index): index 위치의 요소를 꺼내고 삭제 (기본값: 마지막 요소)\n",
    "##### a.index(x): 리스트에서 x의 첫 번째 등장 위치 반환\n",
    "##### a.count(x): 리스트에서 x의 개수 반환\n",
    "##### a.sort(): 리스트를 오름차순 정렬 (내림차순: sort(reverse=True) )"
   ]
  },
  {
   "cell_type": "code",
   "execution_count": 36,
   "metadata": {
    "colab": {
     "base_uri": "https://localhost:8080/"
    },
    "id": "y9mKe8wiQ9ZO",
    "outputId": "bdf67ed3-2cd2-4c94-aba7-5f5730aca70e"
   },
   "outputs": [
    {
     "name": "stdout",
     "output_type": "stream",
     "text": [
      "[0, 2, 4, 6, 8] ----------------------------------------\n",
      "[0, 2, 4, 6, 8] ----------------------------------------\n",
      "[0, 2, 4, 6, 8]\n",
      "----------------------------------------\n"
     ]
    }
   ],
   "source": [
    "# list comprehension (리스트 표현식, 리스트 내포, 리스트 내장)\n",
    "# list안에 for 문과 if 문을 사용\n",
    "\n",
    "# pythonic code\n",
    "a = [i for i in range(10) if i % 2 == 0]\n",
    "print(a, end=' ')\n",
    "print('-'*40)\n",
    "\n",
    "aa = []\n",
    "for i in range(10):\n",
    "    if i % 2 == 0:\n",
    "        aa.append(i)\n",
    "print(aa, end=' ')        \n",
    "\n",
    "print('-'*40)\n",
    "\n",
    "b = []\n",
    "for i in range(10):\n",
    "    if i % 2 == 0:\n",
    "        b.append(i)\n",
    "print(b)\n",
    "\n",
    "print('-'*40)\n",
    "\n",
    "\n"
   ]
  },
  {
   "cell_type": "code",
   "execution_count": 37,
   "metadata": {},
   "outputs": [
    {
     "name": "stdout",
     "output_type": "stream",
     "text": [
      "[2, 4, 6, 3, 6, 9, 4, 8, 12] ----------------------------------------\n",
      "[2, 4, 6, 3, 6, 9, 4, 8, 12] "
     ]
    }
   ],
   "source": [
    "# list comprehension (리스트 표현식, 리스트 내포, 리스트 내장)\n",
    "# list안에 for문 중첩\n",
    "\n",
    "c = [i*j for j in range(2,5) for i in range(1,4)]\n",
    "print(c, end = ' ')\n",
    "\n",
    "print('-'*40)\n",
    "\n",
    "d = []\n",
    "for j in range(2,5):\n",
    "    for i in range(1,4):\n",
    "        d.append(i*j)\n",
    "print(d, end = ' ')"
   ]
  },
  {
   "cell_type": "code",
   "execution_count": 38,
   "metadata": {
    "colab": {
     "base_uri": "https://localhost:8080/"
    },
    "id": "P5yS9S4wTHka",
    "outputId": "ecdba3a5-d113-4ef7-ce4e-42c950bbbb19"
   },
   "outputs": [
    {
     "name": "stdout",
     "output_type": "stream",
     "text": [
      "hello~~~\n"
     ]
    }
   ],
   "source": [
    "# 함수 1 (매개변수와 반환 값이 없는 경우)\n",
    "\n",
    "# def 함수명():       def는 define의 약자\n",
    "#     들여쓰기    \n",
    "\n",
    "def hello():\n",
    "    print('hello~~~')\n",
    "\n",
    "hello()"
   ]
  },
  {
   "cell_type": "code",
   "execution_count": 39,
   "metadata": {
    "colab": {
     "base_uri": "https://localhost:8080/"
    },
    "id": "5nESwY2DTgsu",
    "outputId": "cd3ac875-9c59-4c27-e66b-9dca2e671d3b"
   },
   "outputs": [
    {
     "name": "stdout",
     "output_type": "stream",
     "text": [
      "30\n",
      "----------\n",
      "3\n"
     ]
    }
   ],
   "source": [
    "# 함수 2 (매개변수)\n",
    "\n",
    "def add(a, b):\n",
    "    print(a + b)\n",
    "\n",
    "def add2(a, b):\n",
    "    \"\"\"\n",
    "    이 부분은 함수의 설명 부분(docstring)\n",
    "    \"\"\"\n",
    "    print(a + b)\n",
    "\n",
    "add(10, 20)\n",
    "\n",
    "print('-'*10)\n",
    "\n",
    "add2(1, 2)"
   ]
  },
  {
   "cell_type": "code",
   "execution_count": 40,
   "metadata": {},
   "outputs": [
    {
     "name": "stdout",
     "output_type": "stream",
     "text": [
      "Help on function add2 in module __main__:\n",
      "\n",
      "add2(a, b)\n",
      "    이 부분은 함수의 설명 부분(docstring)\n",
      "\n"
     ]
    }
   ],
   "source": [
    "help(add2)"
   ]
  },
  {
   "cell_type": "code",
   "execution_count": 41,
   "metadata": {},
   "outputs": [
    {
     "name": "stdout",
     "output_type": "stream",
     "text": [
      "\n",
      "    이 부분은 함수의 설명 부분(docstring)\n",
      "    \n"
     ]
    }
   ],
   "source": [
    "print(add2.__doc__)"
   ]
  },
  {
   "cell_type": "code",
   "execution_count": 42,
   "metadata": {},
   "outputs": [
    {
     "data": {
      "text/plain": [
       "\u001b[1;31mSignature:\u001b[0m \u001b[0madd2\u001b[0m\u001b[1;33m(\u001b[0m\u001b[0ma\u001b[0m\u001b[1;33m,\u001b[0m \u001b[0mb\u001b[0m\u001b[1;33m)\u001b[0m\u001b[1;33m\u001b[0m\u001b[1;33m\u001b[0m\u001b[0m\n",
       "\u001b[1;31mDocstring:\u001b[0m 이 부분은 함수의 설명 부분(docstring)\n",
       "\u001b[1;31mFile:\u001b[0m      c:\\users\\sungshin\\appdata\\local\\temp\\ipykernel_5732\\2091695124.py\n",
       "\u001b[1;31mType:\u001b[0m      function"
      ]
     },
     "metadata": {},
     "output_type": "display_data"
    }
   ],
   "source": [
    "add2?"
   ]
  },
  {
   "cell_type": "code",
   "execution_count": null,
   "metadata": {
    "colab": {
     "base_uri": "https://localhost:8080/"
    },
    "id": "8sW0fHfCtptE",
    "outputId": "cc477ada-db3f-4281-8d24-2e029b06251d"
   },
   "outputs": [
    {
     "name": "stdout",
     "output_type": "stream",
     "text": [
      "Help on function add2 in module __main__:\n",
      "\n",
      "add2(a, b)\n",
      "    이 부분은 함수의 설명 부분(docstring)\n",
      "\n",
      "----------------------------------------\n",
      "\n",
      "    이 부분은 함수의 설명 부분(docstring)\n",
      "    \n"
     ]
    }
   ],
   "source": [
    "# documentation string\n",
    "\n",
    "help(add2)\n",
    "\n",
    "print('-'*40)\n",
    "\n",
    "print(add2.__doc__)\n",
    "\n",
    "add2?"
   ]
  },
  {
   "cell_type": "code",
   "execution_count": 45,
   "metadata": {
    "colab": {
     "base_uri": "https://localhost:8080/"
    },
    "id": "6GLWAjXXtb7-",
    "outputId": "23650126-1f09-4cd6-d71e-bad2b40da3c8"
   },
   "outputs": [
    {
     "name": "stdout",
     "output_type": "stream",
     "text": [
      "30\n",
      "----------\n",
      "30\n",
      "-10\n",
      "----------\n",
      "30\n",
      "10\n",
      "----------\n",
      "(30, -10)\n"
     ]
    }
   ],
   "source": [
    "# 함수 3 (결과 반환)\n",
    "# def hello():\n",
    "#     print('hello')\n",
    "# def add(a,b):\n",
    "#     print(a+b)\n",
    "    \n",
    "def add(a, b):\n",
    "    return a+b\n",
    "\n",
    "x = add(10, 20)\n",
    "print(x)\n",
    "\n",
    "print('-'*10)\n",
    "\n",
    "\n",
    "def add_sub(a, b):\n",
    "    return a+b, a-b # 실제로는 이렇게 (a+b, a-b) 반환됨\n",
    "\n",
    "x, y = add_sub(10,20)\n",
    "\n",
    "(x1, y1) = add_sub(20,10)\n",
    "\n",
    "# 결과가 하나의 튜플로 반환된다는 것을 보여주는 예\n",
    "z  = add_sub(10,20)\n",
    "\n",
    "print(x)\n",
    "print(y)\n",
    "print('-'*10)\n",
    "\n",
    "print(x1)\n",
    "print(y1)\n",
    "print('-'*10)\n",
    "\n",
    "print(z)    # 결과를 변수 한 개에 저장해서 튜플로 출력"
   ]
  },
  {
   "cell_type": "code",
   "execution_count": 48,
   "metadata": {
    "colab": {
     "base_uri": "https://localhost:8080/"
    },
    "id": "Ivl9xTpI6hEp",
    "outputId": "e1090fce-52e8-447d-d975-8f4967ceb45d"
   },
   "outputs": [
    {
     "name": "stdout",
     "output_type": "stream",
     "text": [
      "3\n",
      "7\n"
     ]
    }
   ],
   "source": [
    "# (덧셈) 계산기 1개 만드는 함수\n",
    "\n",
    "result = 0\n",
    "def add(num):\n",
    "    # 이제 result는 전역변수가 되어서 \n",
    "    # 함수 안에서도 밖의 값과 같은 값을 가짐\n",
    "    global result \n",
    "    \n",
    "    result = result + num\n",
    "    return result\n",
    "\n",
    "print(add(3))\n",
    "print(add(4))"
   ]
  },
  {
   "cell_type": "code",
   "execution_count": 50,
   "metadata": {
    "colab": {
     "base_uri": "https://localhost:8080/"
    },
    "id": "kvIglSoJ6_lW",
    "outputId": "59bc3f99-d2ba-4a21-89e5-b172a82c50ae"
   },
   "outputs": [
    {
     "name": "stdout",
     "output_type": "stream",
     "text": [
      "3\n",
      "7\n",
      "----------\n",
      "1\n",
      "7\n"
     ]
    }
   ],
   "source": [
    "# (덧셈) 계산기 2개 함수\n",
    "\n",
    "result1 = 0\n",
    "result2 = 0\n",
    "\n",
    "def adder1(num):\n",
    "\n",
    "    global result1\n",
    "\n",
    "    result1 += num\n",
    "    return result1\n",
    "\n",
    "def adder2(num):\n",
    "\n",
    "    global result2\n",
    "\n",
    "    result2 += num\n",
    "    return result2\n",
    "\n",
    "print(adder1(3))\n",
    "print(adder1(4))\n",
    "print('-'*10)\n",
    "\n",
    "print(adder2(1))\n",
    "print(adder2(6))"
   ]
  },
  {
   "cell_type": "code",
   "execution_count": 51,
   "metadata": {
    "colab": {
     "base_uri": "https://localhost:8080/"
    },
    "id": "pJqs0jyt7k4T",
    "outputId": "ed2bc7e2-069c-4bad-f7ba-630041e3b826"
   },
   "outputs": [
    {
     "name": "stdout",
     "output_type": "stream",
     "text": [
      "3\n",
      "7\n",
      "----------\n",
      "1\n",
      "7\n"
     ]
    }
   ],
   "source": [
    "# 계산기 클래스\n",
    "# class 클래스명: # 참고로, 클래스명은 첫글자를 대문자로 암묵적으로 사용함\n",
    "#     들여쓰기\n",
    "\n",
    "a1 = [1,2,3] # 리스트도 사실 클래스다. 그리고 a는 리스트 객체, instance이다\n",
    "a2 = []\n",
    "a3 = []\n",
    "a1.append(10)  # [1,2,3,10]\n",
    "a1.index(1)\n",
    "\n",
    "class Calculator:\n",
    "    # __init__(): 생성자이고, 클래스로 instance를 만들때,\n",
    "    #              그 instance를 초기화하는 역할을 한다\n",
    "    def __init__(self):   \n",
    "        self.result = 0\n",
    "\n",
    "    # 클래스 안에 정의된 함수를 다른말로 method(메소드)라고도 부른다\n",
    "    def add(self, num):      \n",
    "        self.result += num\n",
    "        return self.result\n",
    "\n",
    "cal1 = Calculator()\n",
    "cal2 = Calculator()\n",
    "\n",
    "print(cal1.add(3))\n",
    "print(cal1.add(4))\n",
    "print('-'*10)\n",
    "\n",
    "print(cal2.add(1))\n",
    "print(cal2.add(6))"
   ]
  },
  {
   "cell_type": "code",
   "execution_count": 55,
   "metadata": {
    "colab": {
     "base_uri": "https://localhost:8080/"
    },
    "id": "6D_uDvse8dG1",
    "outputId": "9616af6e-5fb9-4f04-f44d-5ce4f6e41eb6"
   },
   "outputs": [
    {
     "name": "stdout",
     "output_type": "stream",
     "text": [
      "6\n",
      "2\n",
      "8\n",
      "2.0\n",
      "----------\n",
      "12\n",
      "8\n",
      "20\n",
      "5.0\n",
      "----------------------------------------\n",
      "<class '__main__.FourCal'>\n",
      "----------------------------------------\n",
      "<__main__.FourCal object at 0x00000144C8FB7D40>\n"
     ]
    }
   ],
   "source": [
    "# 사칙연산 계산기 클래스 1\n",
    "\n",
    "class FourCal:\n",
    "    def setdata(self, first, second):\n",
    "        self.first = first\n",
    "        self.second = second\n",
    "\n",
    "    def add(self):\n",
    "        result = self.first + self.second\n",
    "        return result\n",
    "\n",
    "    def sub(self):\n",
    "        result = self.first - self.second\n",
    "        return result\n",
    "\n",
    "    def mul(self):\n",
    "        result = self.first * self.second\n",
    "        return result\n",
    "\n",
    "    def div(self):\n",
    "        result = self.first / self.second\n",
    "        return result\n",
    "\n",
    "\n",
    "a = FourCal()\n",
    "a.setdata(4, 2)\n",
    "\n",
    "print(a.add())\n",
    "print(a.sub())\n",
    "print(a.mul())\n",
    "print(a.div())\n",
    "print('-'*10)\n",
    "\n",
    "\n",
    "b = FourCal()\n",
    "b.setdata(10, 2)\n",
    "\n",
    "print(b.add())\n",
    "print(b.sub())\n",
    "print(b.mul())\n",
    "print(b.div())\n",
    "print('-'*40)\n",
    "\n",
    "c = FourCal   # 객체가 생성되지 않고, 클래스가 c에 할당됨\n",
    "print(c)      # <class '__main__.FourCal'> => 즉 c는 클래스 자체를 가리킴\n",
    "print('-'*40)\n",
    "\n",
    "print(b)      # b는 FourCal의 객체이므로, 객체의 메모리 주소를 가리킴"
   ]
  },
  {
   "cell_type": "code",
   "execution_count": 57,
   "metadata": {
    "colab": {
     "base_uri": "https://localhost:8080/",
     "height": 317
    },
    "id": "qsHZ_fHT9Gvj",
    "outputId": "acbad413-e221-4d44-b5cc-a999e93faae9"
   },
   "outputs": [
    {
     "ename": "AttributeError",
     "evalue": "'FourCal' object has no attribute 'first'",
     "output_type": "error",
     "traceback": [
      "\u001b[1;31m---------------------------------------------------------------------------\u001b[0m",
      "\u001b[1;31mAttributeError\u001b[0m                            Traceback (most recent call last)",
      "Cell \u001b[1;32mIn[57], line 6\u001b[0m\n\u001b[0;32m      1\u001b[0m \u001b[38;5;66;03m# 사칙연산 계산기 클래스 2 (a.setdata() 없이 사용할 경우)\u001b[39;00m\n\u001b[0;32m      2\u001b[0m \n\u001b[0;32m      3\u001b[0m \u001b[38;5;66;03m# 현재는 FourCal()이 __init__없이, 메소드만으로만 이루어져 있음\u001b[39;00m\n\u001b[0;32m      4\u001b[0m a \u001b[38;5;241m=\u001b[39m FourCal()\n\u001b[1;32m----> 6\u001b[0m \u001b[38;5;28mprint\u001b[39m(a\u001b[38;5;241m.\u001b[39madd())\n",
      "Cell \u001b[1;32mIn[55], line 9\u001b[0m, in \u001b[0;36mFourCal.add\u001b[1;34m(self)\u001b[0m\n\u001b[0;32m      8\u001b[0m \u001b[38;5;28;01mdef\u001b[39;00m \u001b[38;5;21madd\u001b[39m(\u001b[38;5;28mself\u001b[39m):\n\u001b[1;32m----> 9\u001b[0m     result \u001b[38;5;241m=\u001b[39m \u001b[38;5;28mself\u001b[39m\u001b[38;5;241m.\u001b[39mfirst \u001b[38;5;241m+\u001b[39m \u001b[38;5;28mself\u001b[39m\u001b[38;5;241m.\u001b[39msecond\n\u001b[0;32m     10\u001b[0m     \u001b[38;5;28;01mreturn\u001b[39;00m result\n",
      "\u001b[1;31mAttributeError\u001b[0m: 'FourCal' object has no attribute 'first'"
     ]
    }
   ],
   "source": [
    "# 사칙연산 계산기 클래스 2 (a.setdata() 없이 사용할 경우)\n",
    "\n",
    "# 현재는 FourCal()이 __init__없이, 메소드만으로만 이루어져 있음\n",
    "a = FourCal()\n",
    "\n",
    "print(a.add())  # setdata 메서드를 수행하지 않고 add 메서드를 먼저 수행하면 에러발생"
   ]
  },
  {
   "cell_type": "code",
   "execution_count": 60,
   "metadata": {
    "colab": {
     "base_uri": "https://localhost:8080/",
     "height": 187
    },
    "id": "QaB3dq_U9b-h",
    "outputId": "03c1b21f-4ea2-4196-e013-5228dcd0f549"
   },
   "outputs": [],
   "source": [
    "# 사칙연산 계산기 클래스 3\n",
    "\n",
    "# 생성자(constructor): __init__()\n",
    "# 이전 셀의 코드에서는 setdata 메서드로 객체를 생성할 때마다\n",
    "# 객체의 변수인 first, second를 매번 초기화해야 함\n",
    "# 생성자는 객체가 생성될 때 자동으로 호출 됨\n",
    "\n",
    "# def setdata(self, first, second):\n",
    "\n",
    "class FourCal:\n",
    "    def __init__(self, first, second):\n",
    "        self.first = first\n",
    "        self.second = second\n",
    "\n",
    "#a = FourCal() # 매개변수를 전달하지 않아서 에러 발생\n",
    "a = FourCal(10, 20)"
   ]
  },
  {
   "cell_type": "code",
   "execution_count": 61,
   "metadata": {
    "colab": {
     "base_uri": "https://localhost:8080/"
    },
    "id": "cST8SUBY9hoo",
    "outputId": "9b7e7408-ec63-406e-ad83-c902112734f0"
   },
   "outputs": [
    {
     "name": "stdout",
     "output_type": "stream",
     "text": [
      "<__main__.FourCal object at 0x00000144C8ED7EC0>\n",
      "4\n",
      "----------\n",
      "2\n"
     ]
    }
   ],
   "source": [
    "# 사칙연산 계산기 클래스 4\n",
    "\n",
    "a = FourCal(4,2)\n",
    "\n",
    "print(a)\n",
    "print(a.first)\n",
    "print('-'*10)\n",
    "\n",
    "print(a.second)"
   ]
  },
  {
   "cell_type": "code",
   "execution_count": null,
   "metadata": {
    "colab": {
     "base_uri": "https://localhost:8080/"
    },
    "id": "J8U1cNVs967S",
    "outputId": "6ad76d34-69d4-4ed1-f426-bd4f4b1c2bd6"
   },
   "outputs": [
    {
     "name": "stdout",
     "output_type": "stream",
     "text": [
      "6\n",
      "2\n",
      "8\n",
      "2.0\n",
      "----------\n",
      "20\n",
      "2\n",
      "99\n",
      "1.2222222222222223\n"
     ]
    }
   ],
   "source": [
    "# 사칙연산 계산기 클래스 5\n",
    "\n",
    "class FourCal:\n",
    "    def __init__(self, first, second):\n",
    "        self.first = first\n",
    "        self.second = second\n",
    "\n",
    "    def add(self):\n",
    "        result = self.first + self.second\n",
    "        return result\n",
    "\n",
    "    def sub(self):\n",
    "        result = self.first - self.second\n",
    "        return result\n",
    "\n",
    "    def mul(self):\n",
    "        result = self.first * self.second\n",
    "        return result\n",
    "\n",
    "    def div(self):\n",
    "        result = self.first / self.second\n",
    "        return result\n",
    "\n",
    "a = FourCal(4,2)\n",
    "print(a.add())\n",
    "print(a.sub())\n",
    "print(a.mul())\n",
    "print(a.div())\n",
    "print('-'*10)\n",
    "\n",
    "\n",
    "b = FourCal(11,9)\n",
    "\n",
    "print(b.add())\n",
    "print(b.sub())\n",
    "print(b.mul())\n",
    "print(b.div())\n"
   ]
  },
  {
   "cell_type": "code",
   "execution_count": 62,
   "metadata": {
    "colab": {
     "base_uri": "https://localhost:8080/"
    },
    "id": "xPGIA_qWvXt3",
    "outputId": "02c45ec5-5940-46db-a7dc-94d6d16418d2"
   },
   "outputs": [
    {
     "name": "stdout",
     "output_type": "stream",
     "text": [
      "안녕!! 나는 럭키비키 장원영이야.\n",
      "------------------------------\n",
      "이름: 장원영\n",
      "나이: 20\n",
      "주소: 서울시 서초구 반포동\n"
     ]
    }
   ],
   "source": [
    "# class 예제\n",
    "\n",
    "class Person:\n",
    "    def __init__(self, name, age, address):\n",
    "        self.hello = '안녕!!'\n",
    "        self.name = name\n",
    "        self.age = age\n",
    "        self.address = address\n",
    "\n",
    "    def greeting(self):\n",
    "        print(f'{self.hello} 나는 럭키비키 {self.name}이야.')\n",
    "\n",
    "nameCard = Person('장원영', 20, '서울시 서초구 반포동')\n",
    "nameCard.greeting()\n",
    "print('-'*30)\n",
    "\n",
    "print('이름:', nameCard.name)\n",
    "print('나이:', nameCard.age)\n",
    "print('주소:', nameCard.address)"
   ]
  },
  {
   "cell_type": "code",
   "execution_count": 63,
   "metadata": {
    "colab": {
     "base_uri": "https://localhost:8080/"
    },
    "id": "4N7GoO3G5-Hh",
    "outputId": "542fb512-3a8a-471a-d7fb-aa5f9a216c49"
   },
   "outputs": [
    {
     "name": "stdout",
     "output_type": "stream",
     "text": [
      "['책']\n",
      "==============================\n",
      "['책', '열쇠']\n",
      "['책', '열쇠']\n",
      "['책', '열쇠']\n"
     ]
    }
   ],
   "source": [
    "# 클래스 속성(attribute)\n",
    "\n",
    "class Person2:\n",
    "\n",
    "    bag = []  # 클래스 속성(attribute)\n",
    "\n",
    "    def put_bag(self, stuff):\n",
    "        self.bag.append(stuff)\n",
    "\n",
    "karina = Person2()\n",
    "karina.put_bag('책')\n",
    "print(karina.bag)\n",
    "print('='*30)\n",
    "\n",
    "winter = Person2()\n",
    "winter.put_bag('열쇠')\n",
    "\n",
    "print(karina.bag)\n",
    "print(winter.bag)\n",
    "\n",
    "print(Person2.bag)"
   ]
  },
  {
   "cell_type": "markdown",
   "metadata": {
    "id": "h_aqKO2Azxau"
   },
   "source": [
    "##### 위의 Person2.bag = [ ]는 클래스 속성임\n",
    "##### 클래스 속성은 모든 인스턴스에 공통으로 적용\n",
    "\n",
    "--------------\n",
    "##### 인스턴스마다 독립적인 속성을 부여하고 싶으면 인스턴스 속성을 사용하면 됨\n",
    "##### 인스턴스 속성은 생성자(__init__)에서 정의함"
   ]
  },
  {
   "cell_type": "code",
   "execution_count": null,
   "metadata": {
    "colab": {
     "base_uri": "https://localhost:8080/"
    },
    "id": "s_jWWYpS6akt",
    "outputId": "62be56b9-81fb-40de-e691-e5ac09235e9d"
   },
   "outputs": [
    {
     "name": "stdout",
     "output_type": "stream",
     "text": [
      "['책']\n",
      "['열쇠']\n"
     ]
    }
   ],
   "source": [
    "# 인스턴스 속성\n",
    "\n",
    "class Person3:\n",
    "\n",
    "    def __init__(self):\n",
    "        self.bag = []  # 인스턴스 속성\n",
    "\n",
    "    def put_bag(self, stuff):\n",
    "        self.bag.append(stuff)\n",
    "\n",
    "karina = Person3()\n",
    "karina.put_bag('책')\n",
    "\n",
    "winter = Person3()\n",
    "winter.put_bag('열쇠')\n",
    "\n",
    "print(karina.bag)\n",
    "print(winter.bag)"
   ]
  }
 ],
 "metadata": {
  "colab": {
   "provenance": []
  },
  "kernelspec": {
   "display_name": "Python 3 (ipykernel)",
   "language": "python",
   "name": "python3"
  },
  "language_info": {
   "codemirror_mode": {
    "name": "ipython",
    "version": 3
   },
   "file_extension": ".py",
   "mimetype": "text/x-python",
   "name": "python",
   "nbconvert_exporter": "python",
   "pygments_lexer": "ipython3",
   "version": "3.12.7"
  }
 },
 "nbformat": 4,
 "nbformat_minor": 4
}
