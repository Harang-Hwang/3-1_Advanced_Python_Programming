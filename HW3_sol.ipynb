{
  "nbformat": 4,
  "nbformat_minor": 0,
  "metadata": {
    "colab": {
      "provenance": []
    },
    "kernelspec": {
      "name": "python3",
      "display_name": "Python 3"
    },
    "language_info": {
      "name": "python"
    }
  },
  "cells": [
    {
      "cell_type": "code",
      "execution_count": 2,
      "metadata": {
        "id": "tqxicw0j87PZ"
      },
      "outputs": [],
      "source": [
        "import pandas as pd\n",
        "import numpy as np"
      ]
    },
    {
      "cell_type": "code",
      "source": [
        "# HW3-1\n",
        "'''\n",
        "다음 데이터를 기반으로 '리스트 기반 딕셔너리','구조화된 배열' 기반 방식으로\n",
        "DataFrame을 각각 생성한 후 출력하는 코드를 작성하시오.\n",
        "name = ['Wonyoung', 'Soyeon', 'Jisoo', 'Hyori']\n",
        "group = ['IVE', 'GIdle', 'BlackPink', 'FinKL']\n",
        "age = [22, 28, 31, 47]\n",
        "MBTI = ['ENTJ', 'INTP', 'INTP', 'ENFP']\n",
        "'''\n",
        "\n",
        "# 1. 리스트 기반 딕셔너리\n",
        "data1 = {'name': ['Wonyoung', 'Soyeon', 'Jisoo', 'Hyori'],\n",
        "        'group': ['IVE', 'GIdle',  'BlackPink', 'FinKL'],\n",
        "        'age': [22, 28, 31, 47],\n",
        "        'MBTI': ['ENTJ', 'INTP', 'INTP', 'ENFP']}\n",
        "\n",
        "df1 = pd.DataFrame(data1)\n",
        "print(f'1. 리스트 기반 딕셔너리: \\n{df1}'), print('='*40)\n",
        "\n",
        "\n",
        "# 2. 구조화 배열 기반\n",
        "dtype = np.dtype([('name', 'U10'), ('group', 'U10'), ('age', 'i4'), ('MBTI', 'U10')])\n",
        "data2 = np.array([('Wonyoung', 'IVE', 22, 'ENTJ'), ('Soyeon', 'GIdle', 28, 'ENTJ'),\n",
        "                ('Jisoo', 'BlackPink', 31, 'ENTJ'), ('Hyori', 'FinKL', 47, 'ENTJ')], dtype=dtype)\n",
        "df2 = pd.DataFrame(data2)\n",
        "print(f'2. 구조화 배열 기반: \\n{df2}')\n"
      ],
      "metadata": {
        "colab": {
          "base_uri": "https://localhost:8080/"
        },
        "id": "xo2ODaoY8_Ku",
        "outputId": "c1e1ee08-cab9-484d-ed9d-4afe71dd67ae"
      },
      "execution_count": 9,
      "outputs": [
        {
          "output_type": "stream",
          "name": "stdout",
          "text": [
            "1. 리스트 기반 딕셔너리: \n",
            "       name      group  age  MBTI\n",
            "0  Wonyoung        IVE   22  ENTJ\n",
            "1    Soyeon      GIdle   28  INTP\n",
            "2     Jisoo  BlackPink   31  INTP\n",
            "3     Hyori      FinKL   47  ENFP\n",
            "========================================\n",
            "2. 구조화 배열 기반: \n",
            "       name      group  age  MBTI\n",
            "0  Wonyoung        IVE   22  ENTJ\n",
            "1    Soyeon      GIdle   28  ENTJ\n",
            "2     Jisoo  BlackPink   31  ENTJ\n",
            "3     Hyori      FinKL   47  ENTJ\n"
          ]
        }
      ]
    },
    {
      "cell_type": "code",
      "source": [
        "# HW3-2\n",
        "'''\n",
        "Q1에서 만든 DataFrame을 기반으로, 아래 조건에 맞는 값을 선택하는 코드를 작성하시오.\n",
        "조건1. 나이가 30 이상인 사람만 출력\n",
        "조건2. MBTI가 ‘INTP’인 사람만 출력\n",
        "조건3. 첫 번째 행에서 세 번째 행까지 출력 (세 번째 행 포함)\n",
        "'''\n",
        "\n",
        "# 1. 나이가 30 이상인 사람\n",
        "print(f\"1. 나이가 30 이상인 사람: \\n{df1.loc[df1['age'] >= 30]}\")\n",
        "print('='*40)\n",
        "\n",
        "# 2. MBTI가 'INTP'인 사람\n",
        "print(f\"2. MBTI가 'INTP'인 사람: \\n{df1[df1['MBTI'] == 'INTP']}\")\n",
        "print('='*40)\n",
        "\n",
        "# 3. 첫 번째~세 번째 행\n",
        "print(f\"3. 첫~세 번째 행: \\n{df1.iloc[0:4]}\")"
      ],
      "metadata": {
        "colab": {
          "base_uri": "https://localhost:8080/"
        },
        "id": "glgUhM90A192",
        "outputId": "466904b6-fa23-4696-f9e6-c33e110e6934"
      },
      "execution_count": 12,
      "outputs": [
        {
          "output_type": "stream",
          "name": "stdout",
          "text": [
            "1. 나이가 30 이상인 사람: \n",
            "    name      group  age  MBTI\n",
            "2  Jisoo  BlackPink   31  INTP\n",
            "3  Hyori      FinKL   47  ENFP\n",
            "========================================\n",
            "2. MBTI가 'INTP'인 사람: \n",
            "     name      group  age  MBTI\n",
            "1  Soyeon      GIdle   28  INTP\n",
            "2   Jisoo  BlackPink   31  INTP\n",
            "========================================\n",
            "3. 첫~세 번째 행: \n",
            "       name      group  age  MBTI\n",
            "0  Wonyoung        IVE   22  ENTJ\n",
            "1    Soyeon      GIdle   28  INTP\n",
            "2     Jisoo  BlackPink   31  INTP\n",
            "3     Hyori      FinKL   47  ENFP\n"
          ]
        }
      ]
    },
    {
      "cell_type": "code",
      "source": [
        "# HW3-3\n",
        "'''\n",
        "다음 데이터를 기반으로, 조건 1, 2, 3, 4를 만족하는 코드를 작성하시오.\n",
        "\n",
        "ID = [1, 2, 3, 4],\n",
        "Score = [88, 92, 75, 95],\n",
        "Grade = ['B', 'A', 'C', 'A']\n",
        "\n",
        "조건1. 위 데이터에서 각 학생을 구분하기 위해 's1', 's2', 's3', 's4'라는\n",
        "       고유한 코드를 인덱스로 사용하는 DataFrame을 생성하고 출력하시오.\n",
        "조건2. 새로운 학생 's5'의 정보 (ID: 5, Score: 80, Grade: 'B')를 DataFrame에\n",
        "       새로운 행으로 추가하시오.\n",
        "조건3. DataFrame에서 학생들의 시험 점수를 나타내는 'Score' 열을 완전히 제거하시오.\n",
        "조건4. DataFrame에서 학생 코드 's3'과 's4'에 해당하는 행을 제거하고,\n",
        "       동시에 학생들의 학점을 나타내는 'Grade' 열도 제거하시오. (최종적으로 'ID' 열만 남아야 함.)\n",
        "\n",
        "'''\n",
        "\n",
        "# 1. DataFrame을 생성하고 출력\n",
        "data = {'ID': [1, 2, 3, 4],\n",
        "        'Score': [88, 92, 75, 95],\n",
        "        'Grade': ['B', 'A', 'C', 'A']}\n",
        "\n",
        "df = pd.DataFrame(data, index=['s1', 's2', 's3', 's4'])\n",
        "print(f\"1. DataFrame을 생성하고 출력: \\n{df}\")\n",
        "print('='*40)\n",
        "\n",
        "# 2. 행 추가: s5\n",
        "df.loc['s5'] = [5, 80, 'B']\n",
        "print(f\"2. 행 추가: \\n{df}\")\n",
        "print('='*40)\n",
        "\n",
        "# 3. Score 열 제거\n",
        "print(f\"3. Score 열 제거: \\n{df.drop('Score', axis=1)}\")\n",
        "print('='*40)\n",
        "\n",
        "# 4. s3, s4 행과 Grade 열 삭제\n",
        "print(f\"4. s3, s4 행과 Grade 열 삭제: \\n{df.drop(index=['s3', 's4'], columns=['Grade'])}\")\n",
        "\n"
      ],
      "metadata": {
        "colab": {
          "base_uri": "https://localhost:8080/"
        },
        "id": "6gYmK23TE0EK",
        "outputId": "7db0ec11-281f-4deb-f7d0-2c495a66a1d0"
      },
      "execution_count": 20,
      "outputs": [
        {
          "output_type": "stream",
          "name": "stdout",
          "text": [
            "1. DataFrame을 생성하고 출력: \n",
            "    ID  Score Grade\n",
            "s1   1     88     B\n",
            "s2   2     92     A\n",
            "s3   3     75     C\n",
            "s4   4     95     A\n",
            "========================================\n",
            "2. 행 추가: \n",
            "    ID  Score Grade\n",
            "s1   1     88     B\n",
            "s2   2     92     A\n",
            "s3   3     75     C\n",
            "s4   4     95     A\n",
            "s5   5     80     B\n",
            "========================================\n",
            "3. Score 열 제거: \n",
            "    ID Grade\n",
            "s1   1     B\n",
            "s2   2     A\n",
            "s3   3     C\n",
            "s4   4     A\n",
            "s5   5     B\n",
            "========================================\n",
            "4. s3, s4 행과 Grade 열 삭제: \n",
            "    ID  Score\n",
            "s1   1     88\n",
            "s2   2     92\n",
            "s5   5     80\n"
          ]
        }
      ]
    }
  ]
}