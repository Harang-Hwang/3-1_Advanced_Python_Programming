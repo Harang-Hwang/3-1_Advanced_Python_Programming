{
  "cells": [
    {
      "cell_type": "markdown",
      "metadata": {
        "id": "PNHiQKqA82SA"
      },
      "source": [
        "###### 구조화된 데이터 필드는 기본적으로 다음 세 가지 형태로 정의됨\n",
        "1. 리스트 (list) 형태 (일반적인 방식)\n",
        " - 각 필드는 튜플 (필드 이름, 데이터 타입, shape) 로 구성되며, 여러 필드를 리스트로 묶음\n",
        "2. comma-separated 문자열 형태\n",
        " - 쉼표 ( , )로 구분하여 필드 타입만 지정하며, 자동으로 필드 이름이 f0, f1, f2, ... 형태로 부여됨\n",
        "3. 딕셔너리 (dictionary) 형태\n",
        " - names와 formats 키를 사용하여 필드 이름과 데이터 타입을 각각 지정함\n"
      ]
    },
    {
      "cell_type": "code",
      "execution_count": null,
      "metadata": {
        "id": "hU3sg3SHy0Xs"
      },
      "outputs": [],
      "source": [
        "import numpy as np"
      ]
    },
    {
      "cell_type": "code",
      "execution_count": null,
      "metadata": {
        "colab": {
          "base_uri": "https://localhost:8080/"
        },
        "id": "F1rzzzS2LpLc",
        "outputId": "e5f9b782-3105-4450-a063-668e4d6bd17b"
      },
      "outputs": [
        {
          "name": "stdout",
          "output_type": "stream",
          "text": [
            "['하츠투하츠' '이프아이' '키키']\n",
            "[18 20 17]\n",
            "[165.5 160.2 170.8]\n",
            "==============================\n",
            "[b'GIdle' b'kiiikiii']\n",
            "[5 5]\n",
            "[162.5 165.2]\n"
          ]
        }
      ],
      "source": [
        "# 3. 구조화된 데이터의 필드 정보\n",
        "\n",
        "# 각 필드는 하나의 튜플로 구성되며, 이러한 튜플들이 리스트 형태로 나열됨\n",
        "# 튜플의 구성 요소는 (필드 이름, 데이터 타입, shape) 이며, shape은 옵션\n",
        "\n",
        "# (구조화된 데이터 구조가 아님)\n",
        "# 일반적으로 저장하면 따로따로 관리해야 함\n",
        "names = [\"하츠투하츠\", \"이프아이\", \"키키\"]\n",
        "ages = [18, 20, 17]\n",
        "heights = [165.5, 160.2, 170.8]\n",
        "\n",
        "\n",
        "\n",
        "# 구조화된 데이터를 사용하면 하나로 묶을 수 있음\n",
        "students1 = np.array([(\"하츠투하츠\", 18, 165.5), # 하나의 필드\n",
        "                     (\"이프아이\", 20, 160.2),    # 하나의 필드\n",
        "                     (\"키키\", 17, 170.8)],       # 하나의 필드\n",
        "        # 각 필드는 하나의 튜플로 구성 (필드 이름, 데이터 타입, shape)\n",
        "        dtype=[(\"name\", \"U10\"), (\"age\", np.int32), (\"height\", np.float32)])\n",
        "\n",
        "# students1과 students2는 같음 -------------------------------------------\n",
        "\n",
        "# 구조체 데이터 타입 정의\n",
        "dt = np.dtype([(\"name\", \"U10\"), (\"age\", np.int32), (\"height\", np.float32)])\n",
        "\n",
        "# 구조화된 배열 생성\n",
        "students2 = np.array([(\"하츠투하츠\", 18, 168.5),\n",
        "                     (\"이프아이\", 20, 160.2),\n",
        "                     (\"키키\", 17, 165.2)], dtype=dt)\n",
        "\n",
        "# 특정 필드(속성) 조회\n",
        "print(students1[\"name\"])   # ['하츠투하츠' '이프아이' '키키']\n",
        "print(students1[\"age\"])    # [18 20 17]\n",
        "print(students1[\"height\"]) # [168.5 160.2 165.2]\n",
        "print('='*30)\n",
        "\n",
        "# ------------------------------------------------------------------------\n",
        "\n",
        "# S10: 바이트 문자열 (byte string) 타입, 총 10바이트까지 저장 가능\n",
        "# 참고) 한글 한 글자는 보통 UTF-8에서 3바이트, UTF-16에서는 2바이트\n",
        "# U10: 유니코드 문자열 (unicode string) 타입, 최대 10글자까지 저장 가능\n",
        "\n",
        "# np.dtype([(), (), ()])\n",
        "dt = np.dtype([('name', 'S10'), ('member', np.int32), ('height', np.float64)])\n",
        "\n",
        "data = np.array([('GIdle', 5, 162.5), ('kiiikiii', 5, 165.2)], dtype=dt)\n",
        "\n",
        "print(data['name'])   # [b'GIdle' b'kiiikiii']\n",
        "print(data['member']) # [5 5]\n",
        "print(data['height']) # [162.5 165.2]\n"
      ]
    },
    {
      "cell_type": "code",
      "execution_count": null,
      "metadata": {
        "colab": {
          "base_uri": "https://localhost:8080/"
        },
        "id": "ju2I01A6QyBq",
        "outputId": "f06a2eee-a0c3-448c-c50c-fdc6a88330f6"
      },
      "outputs": [
        {
          "name": "stdout",
          "output_type": "stream",
          "text": [
            "int16\n",
            "[(10,) (20,) (30,)]\n",
            "[10 20 30]\n",
            "[('f1', '<i2')]\n"
          ]
        }
      ],
      "source": [
        "# 3. 구조화된 데이터의 필드 정보\n",
        "\n",
        "# 데이터 타입 np.int16\n",
        "print(np.dtype(np.int16))\n",
        "\n",
        "\n",
        "# np.int16를 포함하고 필드 이름 'f1'의 구조화된 타입\n",
        "\n",
        "dt1 = np.dtype([('f1', np.int16)])\n",
        "arr1 = np.array([(10,), (20,), (30,)], dtype=dt1)\n",
        "\n",
        "print(arr1)\n",
        "print(arr1['f1'])  # [10 20 30]\n",
        "print(arr1.dtype)  # [('f1', '<i2')]    < little endian\n",
        "# > big endian (메모리에 데이터를 저장할 때 MSB부터 저장)\n",
        "# < little endian (메모리에 데이터를 저장할 때 LSB부터 저장)\n",
        "# Intel (x86, x86-64) 시스템은 리틀 엔디안(Little-endian)을 따름"
      ]
    },
    {
      "cell_type": "code",
      "execution_count": null,
      "metadata": {
        "colab": {
          "base_uri": "https://localhost:8080/"
        },
        "id": "xTvXd5MrRqnz",
        "outputId": "8eb00c62-ff80-4b1f-d59f-c7b86f332c9c"
      },
      "outputs": [
        {
          "name": "stdout",
          "output_type": "stream",
          "text": [
            "[((10,),) ((20,),)]\n",
            "==============================\n",
            "[(10,) (20,)]\n",
            "[10 20]\n",
            "[('f1', [('f2', '<i2')])]\n"
          ]
        }
      ],
      "source": [
        "# 3. 구조화된 데이터의 필드 정보\n",
        "\n",
        "# 중첩된 구조화 데이터 타입 (Nested dtype) : 이건 보지마....\n",
        "\n",
        "dt2 = np.dtype([('f1', [('f2', np.int16)])])\n",
        "arr2 = np.array([( (10,), ), ( (20,), )], dtype=dt2)\n",
        "\n",
        "print(arr2), print('='*30)\n",
        "print(arr2['f1'])        # [(10,) (20,)]\n",
        "print(arr2['f1']['f2'])  # [10 20]\n",
        "print(arr2.dtype)        # [('f1', [('f1', '<i2')])]\n"
      ]
    },
    {
      "cell_type": "code",
      "execution_count": null,
      "metadata": {
        "colab": {
          "base_uri": "https://localhost:8080/"
        },
        "id": "DOBXwJNTUBVb",
        "outputId": "3021d52f-a878-4642-c3d7-d29488a68189"
      },
      "outputs": [
        {
          "name": "stdout",
          "output_type": "stream",
          "text": [
            "[10 20]\n",
            "[ -5 -10]\n",
            "[('f1', '<u4'), ('f2', '<i4')]\n"
          ]
        }
      ],
      "source": [
        "# 3. 구조화된 데이터의 필드 정보\n",
        "\n",
        "# 첫 번째 필드 unsigned int, 두 번째 필드는 int32의 구조화 타입\n",
        "# uint: unsigned integer (0을 포함한 양의 정수)\n",
        "dt1 = np.dtype([('f1', np.uint), ('f2', np.int32)]) # np.uint는 np.uint32로 해석됨\n",
        "arr1 = np.array([(10, -5), (20, -10)], dtype=dt1)\n",
        "\n",
        "print(arr1['f1'])  # [10 20]\n",
        "print(arr1['f2'])  # [-5 -10]\n",
        "print(arr1.dtype)"
      ]
    },
    {
      "cell_type": "code",
      "execution_count": null,
      "metadata": {
        "colab": {
          "base_uri": "https://localhost:8080/"
        },
        "id": "5c1NbxFjUBTB",
        "outputId": "fa3eaaf4-fbb6-466c-ffe1-2881cc71be56"
      },
      "outputs": [
        {
          "name": "stdout",
          "output_type": "stream",
          "text": [
            "[3.14 2.71]\n",
            "[b'hello' b'world']\n"
          ]
        }
      ],
      "source": [
        "# 3. 구조화된 데이터의 필드 정보\n",
        "\n",
        "# Array-protocol type strings\n",
        "# => Numpy에서 데이터 타입을 문자열로 표현하는 방식\n",
        "\n",
        "# dt2 = np.dtype([('a', 'f8'), ('b', 'S10')])\n",
        "# 'f8' -> 64비트 부동소수점 (np.float64)\n",
        "# 'S10' -> 길이 10의 문자열 데이터 (np.string_)\n",
        "\n",
        "dt2 = np.dtype([('a', 'f8'), ('b', 'S10')])\n",
        "arr2 = np.array([(3.14, 'hello'), (2.71, 'world')], dtype=dt2)\n",
        "\n",
        "print(arr2['a'])  # [3.14 2.71]\n",
        "print(arr2['b'])  # [b'hello' b'world']\n"
      ]
    },
    {
      "cell_type": "code",
      "execution_count": null,
      "metadata": {
        "colab": {
          "base_uri": "https://localhost:8080/"
        },
        "id": "yh9BLWQRUBNv",
        "outputId": "9b3f9851-91ad-4707-b131-0eeec187bad0"
      },
      "outputs": [
        {
          "name": "stdout",
          "output_type": "stream",
          "text": [
            "[[1 2 3]]\n",
            "[b'\\x61\\x62\\x63\\x64\\x65\\x66\\x67\\x68\\x69\\x6A']\n",
            "abcdefghij\n"
          ]
        }
      ],
      "source": [
        "# 3. 구조화된 데이터의 필드 정보\n",
        "\n",
        "# int는 고정형, 3은 필드의 shape, void는 크기가 10인 가변형의 튜플을 사용\n",
        "\n",
        "# dt4 = np.dtype([('hello', (int, 3)), ('world', np.void, 10)])\n",
        "# 'hello' 필드는 길이 3의 정수 배열\n",
        "# 'world' 필드는 10바이트의 원시 데이터(바이너리 블록, np.void)를 저장\n",
        "\n",
        "# dt4 = np.dtype([('hello', (int, 3)), ('world', np.void, 10)])\n",
        "dt4 = np.dtype([('hello', int, 3), ('world', np.void, 10)])\n",
        "arr4 = np.array([([1, 2, 3], b'abcdefghij')], dtype=dt4)\n",
        "\n",
        "print(arr4['hello'])  # [[1 2 3]]\n",
        "print(arr4['world'])  # 결과가 [b'abcdefghij'] 나오지 않고, 16진수 바이트로 나옴\n",
        "                      # np.void는 타입 변환 없이 메모리에 저장된 값을 그대로 유지\n",
        "\n",
        "print(arr4['world'].tobytes().decode())"
      ]
    },
    {
      "cell_type": "code",
      "execution_count": null,
      "metadata": {
        "colab": {
          "base_uri": "https://localhost:8080/"
        },
        "id": "L_hGRqJiUBQX",
        "outputId": "950bdde6-85e4-48ae-be72-15ea54f1cf3a"
      },
      "outputs": [
        {
          "name": "stdout",
          "output_type": "stream",
          "text": [
            "[(1, [[1.1, 2.2, 3.3], [4.4, 5.5, 6.6]])]\n",
            "(1, [[1.1, 2.2, 3.3], [4.4, 5.5, 6.6]])\n",
            "[1]\n",
            "[[[1.1 2.2 3.3]\n",
            "  [4.4 5.5 6.6]]]\n",
            "========================================\n",
            "(1, [[1.1, 2.2, 3.3], [4.4, 5.5, 6.6]])\n",
            "[1]\n",
            "[[[1.1 2.2 3.3]\n",
            "  [4.4 5.5 6.6]]]\n"
          ]
        }
      ],
      "source": [
        "# 3. 구조화된 데이터의 필드 정보\n",
        "\n",
        "# comma-separated 포맷을 사용 => comma로 데이터 타입을 정의\n",
        "\n",
        "# dt3 = np.dtype('i4, (2, 3)f8') : 필드이름이 없으면 f0, f1 순으로 명명\n",
        "# 'i4' -> 4바이트 정수(np.int32)\n",
        "# '(2, 3)f8' -> 2×3 크기의 부동소수점 배열(np.float64)\n",
        "\n",
        "# list 형태에서는 np.dtype([(필드명, 데이터타입, shape)])\n",
        "dt3 = np.dtype('i4, (2,3)f8') # 데이터 타입만 넣음\n",
        "arr3 = np.array([(1, [[1.1, 2.2, 3.3],\n",
        "                      [4.4, 5.5, 6.6]])], dtype=dt3)\n",
        "print(arr3)\n",
        "print(arr3[0])     # (1, [[1.1 2.2 3.3] [4.4 5.5 6.6]])\n",
        "print(arr3['f0'])  # [1] (정수 필드)\n",
        "print(arr3['f1'])  # [[[1.1 2.2 3.3] [4.4 5.5 6.6]]] (2x3 부동소수점 배열)\n",
        "print('='*40)\n",
        "\n",
        "# comma-separate 대신 list 형태로 표현 (위와 결과가 같음)\n",
        "dt0 = np.dtype([('f2','i4'), ('b','(2, 3)f8')])\n",
        "arr0 = np.array([(1, [[1.1, 2.2, 3.3],\n",
        "                      [4.4, 5.5, 6.6]])], dtype=dt0)\n",
        "\n",
        "print(arr0[0])     # (1, [[1.1 2.2 3.3] [4.4 5.5 6.6]])\n",
        "print(arr0['f2'])  # [1] (정수 필드)\n",
        "print(arr0['b'])   # [[[1.1 2.2 3.3] [4.4 5.5 6.6]]] (2x3 부동소수점 배열)"
      ]
    },
    {
      "cell_type": "code",
      "execution_count": null,
      "metadata": {
        "colab": {
          "base_uri": "https://localhost:8080/"
        },
        "id": "cxr51BjLUBK9",
        "outputId": "e287a55b-f762-4c74-e2c7-04e8f753caaa"
      },
      "outputs": [
        {
          "name": "stdout",
          "output_type": "stream",
          "text": [
            "[[4660]]\n",
            "[[52]]\n",
            "[[18]]\n"
          ]
        }
      ],
      "source": [
        "# 3. 구조화된 데이터의 필드 정보\n",
        "\n",
        "# int16을 x와 y의 2개의 int8로 분할하고 0과 1은 바이트로 된 옵셋\n",
        "\n",
        "# x는 int16의 첫 번째 바이트(0번 인덱스), y는 두 번째 바이트(1번 인덱스)\n",
        "dt1 = np.dtype((np.int16, {'x': (np.int8, 0), 'y': (np.int8, 1)}))\n",
        "arr = np.array([(0x1234,)], dtype=dt1)  # 0x1234 = 4660 in decimal\n",
        "\n",
        "# 0x1234는 16진수 -> 0001 0010 0011 0100 (2바이트)\n",
        "# 리틀엔디안 기준으로 위의 2바이트는 메모리에 이렇게 저장됨\n",
        "# - Byte 0: 0x34 (52 in decimal)\n",
        "# - Byte 1: 0x12 (18 in decimal)\n",
        "\n",
        "print(arr)         # [[4660]]\n",
        "print(arr['x'])    # [[52]]\n",
        "print(arr['y'])    # [[18]]"
      ]
    },
    {
      "cell_type": "code",
      "execution_count": null,
      "metadata": {
        "colab": {
          "base_uri": "https://localhost:8080/"
        },
        "id": "8ZAAlLl0UBHk",
        "outputId": "e9947019-8220-436e-a8fe-ce9c9dc691f0"
      },
      "outputs": [
        {
          "name": "stdout",
          "output_type": "stream",
          "text": [
            "[(b'M', 25) (b'F', 30)]\n",
            "[b'M' b'F']\n",
            "[25 30]\n"
          ]
        }
      ],
      "source": [
        "# 3. 구조화된 데이터의 필드 정보\n",
        "\n",
        "# 딕셔너리 형태\n",
        "# - names & formats 방식\n",
        "# --- names: 필드 이름 리스트 (필드명 'gender'와 'age')\n",
        "# --- formats: 각 필드의 데이터 타입 리스트\n",
        "dt2 = np.dtype({'names': ['gender', 'age'], 'formats': ['S1', np.uint8]})\n",
        "\n",
        "arr2 = np.array([('M', 25), ('F', 30)], dtype=dt2)\n",
        "\n",
        "print(arr2)\n",
        "print(arr2['gender'])  # [b'M' b'F']\n",
        "print(arr2['age'])     # [25 30]"
      ]
    },
    {
      "cell_type": "code",
      "execution_count": null,
      "metadata": {
        "colab": {
          "base_uri": "https://localhost:8080/"
        },
        "id": "5etqrfprHVK8",
        "outputId": "14b6c345-9ab0-43ca-d580-eef2cea353a9"
      },
      "outputs": [
        {
          "name": "stdout",
          "output_type": "stream",
          "text": [
            "[(b'Jang', 20) (b'Ahn', 22)]\n",
            "[b'Jang' b'Ahn']\n",
            "[20 22]\n"
          ]
        }
      ],
      "source": [
        "# 3. 구조화된 데이터의 필드 정보\n",
        "\n",
        "# 오프셋 0과 25바이트\n",
        "# (dtype, offset) 방식\n",
        "dt = np.dtype({'surname': ('S25', 0), 'age': (np.uint8, 25)})\n",
        "arr = np.array([(\"Jang\", 20), (\"Ahn\", 22)], dtype=dt)\n",
        "\n",
        "print(arr)\n",
        "print(arr['surname'])  # 성(surname) 필드 출력\n",
        "print(arr['age'])      # 나이(age) 필드 출력"
      ]
    },
    {
      "cell_type": "markdown",
      "metadata": {
        "id": "VPGJjM7XpdOo"
      },
      "source": [
        "### --------------------------------------------------------------------------------------------------------------------------------"
      ]
    },
    {
      "cell_type": "code",
      "execution_count": null,
      "metadata": {
        "colab": {
          "base_uri": "https://localhost:8080/"
        },
        "id": "2r9jzmsfHUmI",
        "outputId": "45976463-eca1-4be6-a2cf-3312be7bbf8e"
      },
      "outputs": [
        {
          "name": "stdout",
          "output_type": "stream",
          "text": [
            "<class 'numpy.float32'>\n",
            "<class 'numpy.ndarray'>\n",
            "<class 'numpy.ndarray'>\n"
          ]
        }
      ],
      "source": [
        "# 넘파이 배열 스칼라 타입의 연산\n",
        "\n",
        "a = np.float32(5.0)     # 스칼라\n",
        "print(type(a))\n",
        "\n",
        "b = np.int_([1, 2, 3])  # 배열\n",
        "print(type(b))\n",
        "\n",
        "c = np.arange(5, dtype=np.uint16)   # 배열\n",
        "print(type(c))\n"
      ]
    },
    {
      "cell_type": "code",
      "execution_count": null,
      "metadata": {
        "colab": {
          "base_uri": "https://localhost:8080/"
        },
        "id": "i5FB5m01wJ99",
        "outputId": "61b95e13-061c-4f57-bd80-0e1cb86666c5"
      },
      "outputs": [
        {
          "name": "stdout",
          "output_type": "stream",
          "text": [
            ">\n",
            "int32\n",
            "4\n",
            "True\n"
          ]
        }
      ],
      "source": [
        "# big-endian의 32비트의 정수를 가지는 데이터 타입\n",
        "\n",
        "dt = np.dtype('>i4')\n",
        "\n",
        "print(dt.byteorder)   # >\n",
        "print(dt.name)  # int32, name 속성은 데이터 타입의 이름을 반환\n",
        "print(dt.itemsize) # 4\n",
        "print(dt.type is np.int32) # True"
      ]
    },
    {
      "cell_type": "code",
      "execution_count": null,
      "metadata": {
        "colab": {
          "base_uri": "https://localhost:8080/"
        },
        "id": "4-5nkskBpek0",
        "outputId": "8f709564-ac34-44cc-da2c-288c8f02b526"
      },
      "outputs": [
        {
          "name": "stdout",
          "output_type": "stream",
          "text": [
            "[('Jang', [90., 95.])]\n",
            "['Jang']\n",
            "[[90. 95.]]\n",
            "<U16\n",
            "('<f8', (2,))\n"
          ]
        }
      ],
      "source": [
        "# 16문자 string을 포함하는 구조화 데이터 타입과 2개의 64비트 sub_array\n",
        "\n",
        "# (필드 이름, 데이터 타입, shape)\n",
        "dt = np.dtype([('name', np.str_, 16), ('grades', np.float64, (2,))])\n",
        "arr = np.array([('Jang', [90, 95])], dtype=dt)\n",
        "\n",
        "# 2개가 들어가야 하는데, 3개를 입력해서 에러 발생\n",
        "#arr = np.array([('Jang', [90, 95, 100])], dtype=dt)\n",
        "\n",
        "print(arr)\n",
        "print(arr['name'])\n",
        "print(arr['grades'])\n",
        "print(dt['name'])   # <U16\n",
        "print(dt['grades']) # ('<f8', (2,))\n"
      ]
    },
    {
      "cell_type": "code",
      "execution_count": null,
      "metadata": {
        "id": "2q1AdhZ_pehw"
      },
      "outputs": [],
      "source": []
    },
    {
      "cell_type": "code",
      "execution_count": null,
      "metadata": {
        "colab": {
          "base_uri": "https://localhost:8080/"
        },
        "id": "Fh0XwK01peeq",
        "outputId": "1169c243-c557-47e1-af17-bbae891947d0"
      },
      "outputs": [
        {
          "name": "stdout",
          "output_type": "stream",
          "text": [
            "[('jin', 25, 67. ) ('suho', 35, 77.5)]\n",
            "('suho', 35, 77.5)\n",
            "==================================================\n",
            "['jin' 'suho']\n",
            "jin\n",
            "==================================================\n",
            "[('jin', 20, 67. ) ('suho', 20, 77.5)]\n",
            "==================================================\n",
            "[('jin', 34, 67. ) ('suho', 20, 77.5)]\n"
          ]
        }
      ],
      "source": [
        "# 구조화 배열 ndarray의 데이터 타입\n",
        "\n",
        "# 'name': 문자열(최대 10자), 'age': 4바이트 정수, 'weight': 4바이트 실수\n",
        "dt = np.dtype([('name', 'U10'), ('age', 'i4'), ('weight', 'f4')])\n",
        "\n",
        "arr = np.array([('jin', 25, 67.0), ('suho', 35, 77.5)], dtype=dt)\n",
        "\n",
        "print(arr)\n",
        "print(arr[1])\n",
        "print('='*50)\n",
        "\n",
        "print(arr['name'])\n",
        "print(arr['name'][0])\n",
        "print('='*50)\n",
        "\n",
        "arr['age'] = 20\n",
        "print(arr)\n",
        "print('='*50)\n",
        "\n",
        "arr['age'][0] = 34\n",
        "print(arr)"
      ]
    },
    {
      "cell_type": "code",
      "execution_count": null,
      "metadata": {
        "colab": {
          "base_uri": "https://localhost:8080/"
        },
        "id": "r5PZxbV_Ud0g",
        "outputId": "5a2fc708-641d-4e83-e2b0-a1ad5d2f89a8"
      },
      "outputs": [
        {
          "name": "stdout",
          "output_type": "stream",
          "text": [
            "[1. 3.]\n",
            "[2. 4.]\n",
            "[[[1.1 1.2]\n",
            "  [1.3 1.4]]\n",
            "\n",
            " [[2.1 2.2]\n",
            "  [2.3 2.4]]]\n"
          ]
        }
      ],
      "source": [
        "# 구조화된 데이터 타입의 생성\n",
        "\n",
        "# 리스트 (list) 형태 (일반적인 방식) (1)\n",
        "\n",
        "dt = np.dtype([\n",
        "    ('a', 'f4'),         # 필드 'a': float32\n",
        "    ('b', np.float32),   # 필드 'b': float32\n",
        "    ('c', 'f4', (2,2))   # 필드 'c': 2x2 float32 배열\n",
        "])\n",
        "\n",
        "arr = np.array([\n",
        "    (1.0, 2.0, [[1.1, 1.2], [1.3, 1.4]]),\n",
        "    (3.0, 4.0, [[2.1, 2.2], [2.3, 2.4]])\n",
        "], dtype=dt)\n",
        "\n",
        "'''\n",
        "# dtype을 지정하지 않으면 에러가 발생함\n",
        "arr = np.array([\n",
        "    (1.0, 2.0, [[1.1, 1.2], [1.3, 1.4]]),\n",
        "    (3.0, 4.0, [[2.1, 2.2], [2.3, 2.4]]) ])\n",
        "'''\n",
        "\n",
        "print(arr['a'])\n",
        "print(arr['b'])\n",
        "print(arr['c'])\n"
      ]
    },
    {
      "cell_type": "code",
      "execution_count": null,
      "metadata": {
        "colab": {
          "base_uri": "https://localhost:8080/"
        },
        "id": "uKUGdpkzU-MT",
        "outputId": "c991ef7a-af30-4275-ad2d-531aaa83076a"
      },
      "outputs": [
        {
          "name": "stdout",
          "output_type": "stream",
          "text": [
            "[(1.5, 2, 100) (3.2, 4, 200)]\n",
            "[1.5 3.2]\n",
            "[2 4]\n",
            "[100 200]\n"
          ]
        }
      ],
      "source": [
        "# 구조화된 데이터 타입의 생성\n",
        "\n",
        "# 리스트 (list) 형태 (일반적인 방식) (2)\n",
        "\n",
        "# 필드 이름이 빈 string인 ''이면 f#의 형태를 가지고 #은 필드의 정수 인덱스\n",
        "\n",
        "dt = np.dtype([\n",
        "    ('a', 'f4'),  # 필드 'a': float32\n",
        "    ('', 'i4'),   # 이름 없는 필드: int32\n",
        "    ('c', 'i8')   # 필드 'c': int64\n",
        "])\n",
        "\n",
        "arr = np.array([\n",
        "    (1.5, 2, 100),\n",
        "    (3.2, 4, 200)\n",
        "], dtype=dt)\n",
        "\n",
        "print(arr)         # 전체 배열 출력\n",
        "print(arr['a'])    # 'a' 필드 접근\n",
        "print(arr['f1'])   # 'f1' 필드 접근 (f0로 접근하면 에러 발생)\n",
        "print(arr['c'])    # 'c' 필드 접근"
      ]
    },
    {
      "cell_type": "code",
      "execution_count": null,
      "metadata": {
        "colab": {
          "base_uri": "https://localhost:8080/"
        },
        "id": "56n2lGxKpebI",
        "outputId": "4ca09b66-061b-4a8a-dec0-bd1cc4e81406"
      },
      "outputs": [
        {
          "name": "stdout",
          "output_type": "stream",
          "text": [
            "[(1234567890123, 45.67, b'abc')]\n",
            "[([1, 2, 3], 4.5, [[1., 1., 1.], [1., 1., 1.]])\n",
            " ([4, 5, 6], 7.8, [[1., 1., 1.], [1., 1., 1.]])]\n"
          ]
        }
      ],
      "source": [
        "# 구조화된 데이터 타입의 생성\n",
        "\n",
        "# 컴마로 구분하는(comma-separated) dtype string\n",
        "\n",
        "dt = np.dtype('i8, f4, S3')\n",
        "arr = np.array([(1234567890123, 45.67, 'abc')], dtype=dt)\n",
        "print(arr)\n",
        "\n",
        "# 3int8: 3개의 int8 (8비트 정수)를 갖는 배열 (크기 3, 각 값은 int8)\n",
        "# float32: 32비트 부동 소수점 (float32) 타입\n",
        "# (2, 3)float64: 2x3 크기의 float64 (64비트 부동 소수점) 배열\n",
        "dt2 = np.dtype('3int8, float32, (2,3)float64')\n",
        "#dt2 = np.dtype('(3,)int8, float32, (2,3)float64') # 위의 결과와 같음\n",
        "\n",
        "arr2 = np.array([([1, 2, 3], 4.5, np.ones((2, 3))),\n",
        "                 ([4, 5, 6], 7.8, np.ones((2, 3)))], dtype=dt2)\n",
        "print(arr2)\n"
      ]
    },
    {
      "cell_type": "code",
      "execution_count": null,
      "metadata": {
        "colab": {
          "base_uri": "https://localhost:8080/"
        },
        "id": "HyEZIVynPydG",
        "outputId": "ec4ffef7-b517-44a2-a063-944c1adb4010"
      },
      "outputs": [
        {
          "name": "stdout",
          "output_type": "stream",
          "text": [
            "[(1, 2.5) (3, 4.5)]\n",
            "[(1, 2.5) (3, 4.5)]\n"
          ]
        }
      ],
      "source": [
        "# 구조화된 데이터 타입의 생성\n",
        "\n",
        "# 필드 매개변수 배열의 딕셔너리\n",
        "\n",
        "# names: 필드의 이름을 지정\n",
        "# formats: 각 필드에 대한 데이터 타입을 지정\n",
        "dt = np.dtype({'names': ['col1', 'col2'], 'formats': ['i4', 'f4']})\n",
        "arr = np.array([(1, 2.5), (3, 4.5)], dtype=dt)\n",
        "\n",
        "print(arr)\n",
        "\n",
        "# offsets: 각 필드가 시작하는 위치(메모리 내에서의 오프셋)를 지정\n",
        "#          이 방식은 메모리 배치를 명확히 조정할 때 사용됨\n",
        "dt2 = np.dtype({'names': ['col1', 'col2'], 'formats': ['i4', 'f4'],\n",
        "                'offsets': [0, 4], 'itemsize': 12})\n",
        "arr2 = np.array([(1, 2.5), (3, 4.5)], dtype=dt2)\n",
        "\n",
        "print(arr2)\n"
      ]
    },
    {
      "cell_type": "code",
      "execution_count": null,
      "metadata": {
        "colab": {
          "base_uri": "https://localhost:8080/"
        },
        "id": "tJD4bOLzQNgQ",
        "outputId": "91eb2fcb-f35d-4751-9c07-c7ef93eee2e5"
      },
      "outputs": [
        {
          "name": "stdout",
          "output_type": "stream",
          "text": [
            "[(1, 2.5) (3, 4.5)]\n"
          ]
        }
      ],
      "source": [
        "# 구조화된 데이터 타입의 생성\n",
        "\n",
        "# 필드 이름이 딕셔너리\n",
        "\n",
        "# 'col1': 필드 이름은 'col1'이고, 데이터 타입은 i1 (1바이트 정수)\n",
        "#         이 필드는 메모리에서 0번째 바이트부터 시작\n",
        "# 'col2': 필드 이름은 'col2'이고, 데이터 타입은 f4 (4바이트 부동소수점)\n",
        "#         이 필드는 메모리에서 1번째 바이트부터 시작\n",
        "dt = np.dtype({'col1': ('i1', 0), 'col2': ('f4', 1)})\n",
        "arr = np.array([(1, 2.5), (3, 4.5)], dtype=dt)\n",
        "\n",
        "print(arr)\n"
      ]
    },
    {
      "cell_type": "code",
      "execution_count": null,
      "metadata": {
        "colab": {
          "base_uri": "https://localhost:8080/"
        },
        "id": "uDWgZ_6ZRTDH",
        "outputId": "c4e99976-954c-4abf-e4e0-185936f1e6e2"
      },
      "outputs": [
        {
          "name": "stdout",
          "output_type": "stream",
          "text": [
            "('a', 'b')\n",
            "{'a': (dtype('int64'), 0), 'b': (dtype('float32'), 8)}\n"
          ]
        }
      ],
      "source": [
        "# 구조화된 데이터 타입의 조작 및 표시\n",
        "\n",
        "# 필드 이름의 list는 dtype객체의 names 속성에서 구함\n",
        "dt = np.dtype([('a', 'i8'), ('b', 'f4')])\n",
        "\n",
        "# dtype의 속성 fields의 키는 필드 이름, 값은 dtype과 바이트 옵셋을 포함한 tuples\n",
        "print(dt.names)  # ('a', 'b')\n",
        "print(dt.fields)  # 'a': (dtype('int64'), 0), 'b': (dtype('float32'), 8)}"
      ]
    },
    {
      "cell_type": "code",
      "execution_count": null,
      "metadata": {
        "colab": {
          "base_uri": "https://localhost:8080/"
        },
        "id": "-qFwAhWND736",
        "outputId": "e986b2b2-38b2-4785-90b6-cec6ccdbb595"
      },
      "outputs": [
        {
          "name": "stdout",
          "output_type": "stream",
          "text": [
            "('f0', 'f1', 'f2', 'f3', 'f4', 'f5') 32\n",
            "(dtype('uint8'), 0)\n",
            "(dtype('uint8'), 1)\n",
            "(dtype('int32'), 4)\n"
          ]
        }
      ],
      "source": [
        "dt2 = np.dtype('u1,u1,i4,u1,i8,u2', align=True)\n",
        "\n",
        "print(dt2.names, dt2.itemsize)\n",
        "print(dt2.fields['f0'])\n",
        "print(dt2.fields['f1'])\n",
        "print(dt2.fields['f2'])"
      ]
    },
    {
      "cell_type": "code",
      "execution_count": null,
      "metadata": {
        "colab": {
          "base_uri": "https://localhost:8080/"
        },
        "id": "g-9N0nIsRS_V",
        "outputId": "652bea25-b748-4fcc-d50c-a22b5a656556"
      },
      "outputs": [
        {
          "name": "stdout",
          "output_type": "stream",
          "text": [
            "offsets: [0, 1, 2, 6, 7, 15]\n",
            "itemsize: 17\n",
            "====================================================================================================\n",
            "dt: \n",
            " [('f0', 'u1'), ('f1', 'u1'), ('f2', '<i4'), ('f3', 'u1'), ('f4', '<i8'), ('f5', '<u2')]\n",
            "dt.itemsize: 17\n",
            "dt.fields: \n",
            " {'f0': (dtype('uint8'), 0), 'f1': (dtype('uint8'), 1), 'f2': (dtype('int32'), 2), 'f3': (dtype('uint8'), 6), 'f4': (dtype('int64'), 7), 'f5': (dtype('uint16'), 15)}\n",
            "dt.names: \n",
            " ('f0', 'f1', 'f2', 'f3', 'f4', 'f5')\n",
            "dt.fields['f0']: \n",
            " (dtype('uint8'), 0)\n",
            "dt.fields['f0'][1]: \n",
            " 0\n",
            "====================================================================================================\n",
            "offsets: [0, 1, 4, 8, 16, 24]\n",
            "itemsize: 32\n"
          ]
        }
      ],
      "source": [
        "# 자동 바이트 옵셋과 정렬\n",
        "\n",
        "def print_offsets(d):\n",
        "\n",
        "    # 각 필드의 정보는 튜플 형태로 (type, offset)으로 저장되며,\n",
        "    # offset은 그 필드가 메모리에서 시작하는 바이트 위치\n",
        "    print(\"offsets:\", [d.fields[name][1] for name in d.names])\n",
        "    print(\"itemsize:\", d.itemsize)\n",
        "\n",
        "## 1번: 바이트 옵셋을 align 하지 않은 경우 -------------------\n",
        "dt = np.dtype('u1,u1,i4,u1,i8,u2') # 복합 데이터 타입 정의\n",
        "print_offsets(dt)\n",
        "print('='*100)\n",
        "\n",
        "# 객체 출력\n",
        "print(f'dt: \\n {dt}')\n",
        "print(f'dt.itemsize: {dt.itemsize}')\n",
        "print(f'dt.fields: \\n {dt.fields}') # 각 필드는 (타입, 오프셋) 쌍으로 저장\n",
        "print(f'dt.names: \\n {dt.names}') # names는 데이터 타입의 필드 이름을 포함하는 리스트임\n",
        "print(f\"dt.fields['f0']: \\n {dt.fields['f0']}\") # 필드 'f0'에 대한 (타입, 오프셋) 정보를 출력\n",
        "print(f\"dt.fields['f0'][1]: \\n {dt.fields['f0'][1]}\") # f0 필드의 오프셋만 출력\n",
        "print('='*100)\n",
        "\n",
        "## 2번 바이트 옵셋을 align 한 경우 -------------------\n",
        "# 정렬된 방식(align=True 옵션 사용)으로 dtype 정의 후 print_offsets 호출\n",
        "# 정렬된 dtype은 필드가 특정 바이트 경계에서 시작하도록 배열을 정렬.\n",
        "# 예를 들어, 4바이트 경계를 맞추기 위해 각 필드가 적절한 오프셋을 가질 수 있음\n",
        "dt2 = np.dtype('u1,u1,i4,u1,i8,u2', align=True)\n",
        "print_offsets(dt2)\n"
      ]
    },
    {
      "cell_type": "code",
      "execution_count": null,
      "metadata": {
        "colab": {
          "base_uri": "https://localhost:8080/"
        },
        "id": "8g9yxx3lbjrV",
        "outputId": "d0495bb2-8219-4387-b62e-90ea8f2469e4"
      },
      "outputs": [
        {
          "name": "stdout",
          "output_type": "stream",
          "text": [
            "5\n",
            "8\n"
          ]
        }
      ],
      "source": [
        "dt = np.dtype([('a', 'i1'), ('b', 'i4')], align=False)\n",
        "print(dt.itemsize)  # 패딩 없이 메모리 크기\n",
        "\n",
        "dt = np.dtype([('a', 'i1'), ('b', 'i4')], align=True)\n",
        "print(dt.itemsize)  # 패딩을 고려한 전체 메모리 크기"
      ]
    },
    {
      "cell_type": "code",
      "execution_count": null,
      "metadata": {
        "colab": {
          "base_uri": "https://localhost:8080/"
        },
        "id": "lrmgVG8URS7-",
        "outputId": "3f414d8b-3ca5-4a16-f151-ca6284eade0c"
      },
      "outputs": [
        {
          "name": "stdout",
          "output_type": "stream",
          "text": [
            "{'name': (dtype('float32'), 0, 'my title'), 'my title': (dtype('float32'), 0, 'my title')}\n",
            "('name',)\n"
          ]
        },
        {
          "data": {
            "text/plain": [
              "dtype([(('my title', 'name'), '<i4')])"
            ]
          },
          "execution_count": 26,
          "metadata": {},
          "output_type": "execute_result"
        }
      ],
      "source": [
        "# 필드 제목 (Field Titles)\n",
        "\n",
        "x = np.dtype([(('my title', 'name'), 'f4')])\n",
        "print(x.fields)\n",
        "print(x.names)\n",
        "\n",
        "np.dtype({'name': ('i4', 0, 'my title')})\n"
      ]
    },
    {
      "cell_type": "code",
      "execution_count": null,
      "metadata": {
        "colab": {
          "base_uri": "https://localhost:8080/"
        },
        "id": "FSOIPKaKH7lK",
        "outputId": "1a4c833c-d86f-4f57-ff88-77dcad49f9fc"
      },
      "outputs": [
        {
          "name": "stdout",
          "output_type": "stream",
          "text": [
            "[(1, 2., 3.) (4, 5., 6.)]\n",
            "------------------------------\n",
            "[(1, 2., 3.) (7, 8., 9.)]\n"
          ]
        }
      ],
      "source": [
        "# 파이썬 고유의 타입인 튜플로 할당\n",
        "\n",
        "a = np.array([(1, 2, 3), (4, 5, 6)], dtype='i8, f4, f8')\n",
        "print(a), print('-'*30)\n",
        "\n",
        "a[1] = (7, 8, 9)\n",
        "# a[1] = [7, 8, 9] # 리스트 형태로 값을 넣으면 에러가 발생\n",
        "\n",
        "print(a)  # [(1, 2., 3.) (7, 8., 9.)]\n"
      ]
    },
    {
      "cell_type": "code",
      "execution_count": null,
      "metadata": {
        "colab": {
          "base_uri": "https://localhost:8080/"
        },
        "id": "d79i2SJeINc5",
        "outputId": "fbdf00f0-f0d7-4e4a-f2dc-503287be8542"
      },
      "outputs": [
        {
          "name": "stdout",
          "output_type": "stream",
          "text": [
            "[0. 0.]\n",
            "[(7, 7.,  True, b'7') (7, 7.,  True, b'7')]\n",
            "[(0, 0., False, b'0') (1, 1.,  True, b'1')]\n"
          ]
        }
      ],
      "source": [
        "# 스칼라 값으로 할당\n",
        "\n",
        "print(np.zeros(2))\n",
        "\n",
        "'''\n",
        "# a는 4개의 필드를 가지는 구조화된 타입을 가진 요소 2개로 구성된 배열\n",
        "a = np.zeros(2, dtype= 'i8, f4, ?, S1')   # '?': 불리언 값 (True/False)\n",
        "print(a)  # [(0, 0., False, b'') (0, 0., False, b'')]\n",
        "'''\n",
        "\n",
        "a[:] = 7\n",
        "print(a)  # [(7, 7.,  True, b'7') (7, 7.,  True, b'7')]\n",
        "\n",
        "a[:] = np.arange(2)\n",
        "print(a)  # [(0, 0., False, b'0') (1, 1.,  True, b'1')]\n"
      ]
    },
    {
      "cell_type": "code",
      "execution_count": null,
      "metadata": {
        "colab": {
          "base_uri": "https://localhost:8080/"
        },
        "id": "liaEAN9kIcxj",
        "outputId": "d7529aa5-ec2a-4110-e799-26544324a184"
      },
      "outputs": [
        {
          "name": "stdout",
          "output_type": "stream",
          "text": [
            "[(0, 0., b'') (0, 0., b'') (0, 0., b'')]\n",
            "[(1., b'1', 1) (1., b'1', 1) (1., b'1', 1)]\n",
            "[(0., b'0.0', b'') (0., b'0.0', b'') (0., b'0.0', b'')]\n"
          ]
        }
      ],
      "source": [
        "# 다른 구조화된 배열로부터 할당\n",
        "\n",
        "# 'O': ojbject를 의미하는 객체 타입 -> 아무 값이나 저장 가능\n",
        "a = np.zeros(3, dtype=[('a', 'i8'), ('b', 'f4'), ('c', 'S3')])\n",
        "b = np.ones(3, dtype=[('x', 'f4'), ('y', 'S3'), ('z', 'O')])\n",
        "print(a) # [(0, 0., b'') (0, 0., b'') (0, 0., b'')]\n",
        "print(b) # [(1., b'1', 1) (1., b'1', 1) (1., b'1', 1)]\n",
        "\n",
        "b[:] = a # 넘파이는 구조화 배열 간 대입 시 대상의 dtype을 유지하면서 값만 복사\n",
        "print(b) # [(0., b'0.0', b'') (0., b'0.0', b'') (0., b'0.0', b'')]\n"
      ]
    },
    {
      "cell_type": "markdown",
      "metadata": {
        "id": "wZxOewAEpe__"
      },
      "source": [
        "### --------------------------------------------------------------------------------------------------------------------------------"
      ]
    },
    {
      "cell_type": "code",
      "execution_count": null,
      "metadata": {
        "colab": {
          "base_uri": "https://localhost:8080/"
        },
        "id": "mjBwXswmFyxo",
        "outputId": "3cb8e040-5bcd-4a27-9d6b-b1b52ddab3bc"
      },
      "outputs": [
        {
          "name": "stdout",
          "output_type": "stream",
          "text": [
            "arr1: [0 1 2 3 4 5 6 7 8 9]\n",
            "arr1[1]: 1\n",
            "arr1[:6]: [0 1 2 3 4 5]\n",
            "arr1[0:5]: [0 1 2 3 4]\n",
            "arr1[::2]: [0 2 4 6 8]\n",
            "arr1[1::2]: [1 3 5 7 9]\n",
            "arr1[1:7:2]: [1 3 5]\n",
            "arr1[-3:9]: [7 8]\n",
            "arr1[:-3]: [0 1 2 3 4 5 6]\n",
            "arr1[-3:2:-1]: [7 6 5 4 3]\n",
            "arr1[5:2]: []\n",
            "arr1[:-1]: [0 1 2 3 4 5 6 7 8]\n",
            "arr1[1::-1]: [1 0]\n",
            "arr1[-3::-1]: [7 6 5 4 3 2 1 0]\n"
          ]
        }
      ],
      "source": [
        "# 기본 자르기 (Basic Slicing)와 색인 처리 (indexing)\n",
        "\n",
        "arr1 = np.arange(10)\n",
        "\n",
        "print(f'arr1: {arr1}')                  # [0 1 2 3 4 5 6 7 8 9]\n",
        "print(f'arr1[1]: {arr1[1]}')            # 1\n",
        "print(f'arr1[:6]: {arr1[:6]}')          # [0 1 2 3 4 5]\n",
        "print(f'arr1[0:5]: {arr1[0:5]}')        # [0 1 2 3 4]\n",
        "print(f'arr1[::2]: {arr1[::2]}')        # [0 2 4 6 8]\n",
        "print(f'arr1[1::2]: {arr1[1::2]}')      # [1 3 5 7 9]\n",
        "print(f'arr1[1:7:2]: {arr1[1:7:2]}')    # [1 3 5]\n",
        "print(f'arr1[-3:9]: {arr1[-3:9]}')      # [7 8]\n",
        "print(f'arr1[:-3]: {arr1[:-3]}')        # [0 1 2 3 4 5 6]\n",
        "print(f'arr1[-3:2:-1]: {arr1[-3:2:-1]}')# [7 6 5 4 3]\n",
        "print(f'arr1[5:2]: {arr1[5:2]}')        # [ ]\n",
        "print(f'arr1[:-1]: {arr1[:-1]}')        # [0 1 2 3 4 5 6 7 8]\n",
        "print(f'arr1[1::-1]: {arr1[1::-1]}')    # ::-1 역순 [1 0]\n",
        "print(f'arr1[-3::-1]: {arr1[-3::-1]}')  # [7 6 5 4 3 2 1 0]"
      ]
    },
    {
      "cell_type": "code",
      "execution_count": null,
      "metadata": {
        "colab": {
          "base_uri": "https://localhost:8080/"
        },
        "id": "kWx-7BefHTCX",
        "outputId": "ceb87e43-e82f-499c-d909-c7085a72ee91"
      },
      "outputs": [
        {
          "name": "stdout",
          "output_type": "stream",
          "text": [
            "[0 1 2]\n",
            "arr2: \n",
            "[[0 1 2]\n",
            " [3 4 5]\n",
            " [6 7 8]]\n",
            "\n",
            "arr2[2]: \n",
            "[6 7 8]\n",
            "\n",
            "arr2[2,1]: 7\n",
            "\n",
            "arr2[1:]: \n",
            "[[3 4 5]\n",
            " [6 7 8]]\n",
            "\n",
            "arr2[:2, :2]: \n",
            "[[0 1]\n",
            " [3 4]]\n",
            "\n",
            "arr2[:, ::-1]: \n",
            "[[2 1 0]\n",
            " [5 4 3]\n",
            " [8 7 6]]\n",
            "\n",
            "arr2[:,:]: \n",
            "[[0 1 2]\n",
            " [3 4 5]\n",
            " [6 7 8]]\n",
            "\n",
            "arr2[1, :]: [3 4 5]\n"
          ]
        }
      ],
      "source": [
        "# 기본 자르기 (Basic Slicing)와 색인 처리 (indexing)\n",
        "\n",
        "arr2 = np.arange(9).reshape(3,3)\n",
        "print(arr2[0])\n",
        "print(f'arr2: \\n{arr2}\\n')\n",
        "print(f'arr2[2]: \\n{arr2[2]}\\n')           # [6 7 8]\n",
        "print(f'arr2[2,1]: {arr2[2,1]}\\n')         # 7\n",
        "print(f'arr2[1:]: \\n{arr2[1:]}\\n')         # [[3 4 5], [6 7 8]]\n",
        "print(f'arr2[:2, :2]: \\n{arr2[:2, :2]}\\n') # [[0 1], [3 4]]\n",
        "print(f'arr2[:, ::-1]: \\n{arr2[:, ::-1]}\\n')\n",
        "print(f'arr2[:,:]: \\n{arr2[:,:]}\\n')  # arr2[:] 와 같음\n",
        "print(f'arr2[1, :]: {arr2[1, :]}')    # arr2[1] 와 같음"
      ]
    },
    {
      "cell_type": "code",
      "execution_count": null,
      "metadata": {
        "colab": {
          "base_uri": "https://localhost:8080/"
        },
        "id": "mNGIZR3BIXfm",
        "outputId": "d5de823c-337d-448d-e23c-b0d809552d63"
      },
      "outputs": [
        {
          "name": "stdout",
          "output_type": "stream",
          "text": [
            "arr3: \n",
            "[[[ 0  1  2  3]\n",
            "  [ 4  5  6  7]\n",
            "  [ 8  9 10 11]]\n",
            "\n",
            " [[12 13 14 15]\n",
            "  [16 17 18 19]\n",
            "  [20 21 22 23]]]\n",
            "\n",
            "arr3[1]: \n",
            "[[12 13 14 15]\n",
            " [16 17 18 19]\n",
            " [20 21 22 23]]\n",
            "\n",
            "arr3[1,1]: [16 17 18 19]\n",
            "\n",
            "arr3[:2, 1:, :2]: \n",
            "[[[ 4  5]\n",
            "  [ 8  9]]\n",
            "\n",
            " [[16 17]\n",
            "  [20 21]]]\n",
            "\n",
            "arr3[0, 1:, :2]: \n",
            "[[4 5]\n",
            " [8 9]]\n"
          ]
        }
      ],
      "source": [
        "# 기본 자르기 (Basic Slicing)와 색인 처리 (indexing)\n",
        "\n",
        "arr3 = np.reshape(np.arange(24), (2,3,4)) # depth(면,깊이)xrow(행)xcol(열)\n",
        "\n",
        "print(f'arr3: \\n{arr3}\\n')\n",
        "print(f'arr3[1]: \\n{arr3[1]}\\n')\n",
        "print(f'arr3[1,1]: {arr3[1,1]}\\n')\n",
        "print(f'arr3[:2, 1:, :2]: \\n{arr3[:2, 1:, :2]}\\n')\n",
        "print(f'arr3[0, 1:, :2]: \\n{arr3[0, 1:, :2]}')\n"
      ]
    },
    {
      "cell_type": "code",
      "execution_count": null,
      "metadata": {
        "colab": {
          "base_uri": "https://localhost:8080/"
        },
        "id": "Byct44n-KZHy",
        "outputId": "c2f00d73-11ca-4318-f393-16d03687e289"
      },
      "outputs": [
        {
          "name": "stdout",
          "output_type": "stream",
          "text": [
            "[[1 2]\n",
            " [3 4]\n",
            " [5 6]]\n",
            "==============================\n",
            "[1 4 5]\n"
          ]
        }
      ],
      "source": [
        "# 고급 인덱싱 (1)\n",
        "\n",
        "# 고급 색인 (인덱싱)\n",
        "\n",
        "arr = np.array([[1, 2], [3, 4], [5, 6]])\n",
        "\n",
        "print(arr)\n",
        "print('='*30)\n",
        "\n",
        "print(arr[[0, 1, 2], [0, 1, 0]])   # arr[[행 인덱스], [열 인덱스]]\n"
      ]
    },
    {
      "cell_type": "code",
      "execution_count": null,
      "metadata": {
        "colab": {
          "base_uri": "https://localhost:8080/"
        },
        "id": "LS0suK9XK0FL",
        "outputId": "d70dc343-b155-408e-e18e-7d70042e637f"
      },
      "outputs": [
        {
          "name": "stdout",
          "output_type": "stream",
          "text": [
            "[[ 0  1  2]\n",
            " [ 3  4  5]\n",
            " [ 6  7  8]\n",
            " [ 9 10 11]]\n",
            "==============================\n",
            "[[0 0]\n",
            " [3 3]]\n",
            "==============================\n",
            "[[0 2]\n",
            " [0 2]]\n",
            "==============================\n",
            "[[ 0  2]\n",
            " [ 9 11]]\n"
          ]
        }
      ],
      "source": [
        "# 고급 인덱싱 (2)\n",
        "\n",
        "# 4x3배열 객체에서 고급 색인 처리의 사용\n",
        "\n",
        "arr = np.array([[0, 1, 2], [3, 4, 5], [6, 7, 8], [9, 10, 11]])\n",
        "print(arr), print('='*30)\n",
        "\n",
        "rows = np.array([[0, 0], [3, 3]], dtype=np.intp)\n",
        "columns = np.array([[0, 2], [0, 2]], dtype=np.intp)\n",
        "print(rows), print('='*30)\n",
        "print(columns), print('='*30)\n",
        "print(arr[rows, columns])"
      ]
    }
  ],
  "metadata": {
    "colab": {
      "provenance": []
    },
    "kernelspec": {
      "display_name": "Python 3 (ipykernel)",
      "language": "python",
      "name": "python3"
    },
    "language_info": {
      "codemirror_mode": {
        "name": "ipython",
        "version": 3
      },
      "file_extension": ".py",
      "mimetype": "text/x-python",
      "name": "python",
      "nbconvert_exporter": "python",
      "pygments_lexer": "ipython3",
      "version": "3.12.7"
    }
  },
  "nbformat": 4,
  "nbformat_minor": 0
}