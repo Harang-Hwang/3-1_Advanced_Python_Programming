{
  "nbformat": 4,
  "nbformat_minor": 0,
  "metadata": {
    "colab": {
      "provenance": []
    },
    "kernelspec": {
      "name": "python3",
      "display_name": "Python 3"
    },
    "language_info": {
      "name": "python"
    }
  },
  "cells": [
    {
      "cell_type": "markdown",
      "source": [
        "### 11주차 강의"
      ],
      "metadata": {
        "id": "CsX5ii6ILijl"
      }
    },
    {
      "cell_type": "code",
      "source": [
        "# 요약과 통계 연산\n",
        "\n",
        "d = {'one': [1., 2., np.nan], 'two': [3., 2., 1.], 'three': [np.nan, 1., 1.]}\n",
        "df = pd.DataFrame(d, index = list('abc'))\n",
        "print(df), print('='*20)\n",
        "\n",
        "print(df.mean(axis=0)), print('-'*20)\n",
        "print(df.mean(1)), print('='*20)\n",
        "\n",
        "# np.mean(), np.std(), np.sum()과 같은 넘파이 함수들은 손실 값을 기본으로 제외\n",
        "print(np.mean(df['one'])), print('='*20)\n",
        "\n",
        "# skipna 옵션: 손실 데이터를 배제할지 결정하는 옵션. 기본값은 True\n",
        "print(df.sum(0, skipna=False)), print('-'*20)\n",
        "# print(df.sum(axis=0, skipna=False)), print('-'*20) 위와 같음\n",
        "print(df.sum(1, skipna=True))"
      ],
      "metadata": {
        "colab": {
          "base_uri": "https://localhost:8080/"
        },
        "id": "OJFSg-7-MtG5",
        "outputId": "3ba6e607-9095-4807-ffe1-711df676fe7e"
      },
      "execution_count": null,
      "outputs": [
        {
          "output_type": "stream",
          "name": "stdout",
          "text": [
            "   one  two  three\n",
            "a  1.0  3.0    NaN\n",
            "b  2.0  2.0    1.0\n",
            "c  NaN  1.0    1.0\n",
            "====================\n",
            "one      1.5\n",
            "two      2.0\n",
            "three    1.0\n",
            "dtype: float64\n",
            "--------------------\n",
            "a    2.000000\n",
            "b    1.666667\n",
            "c    1.000000\n",
            "dtype: float64\n",
            "====================\n",
            "1.5\n",
            "====================\n",
            "one      NaN\n",
            "two      6.0\n",
            "three    NaN\n",
            "dtype: float64\n",
            "--------------------\n",
            "a    4.0\n",
            "b    5.0\n",
            "c    2.0\n",
            "dtype: float64\n"
          ]
        }
      ]
    },
    {
      "cell_type": "code",
      "source": [
        "# 요약과 통계 연산\n",
        "print(df), print('='*20)\n",
        "\n",
        "# std()의 인수 ddof: 데이터프레임에서의 ddof 기본값=1, 넘파이에서의 ddof 기본값=0\n",
        "print(df.std()), print('-'*20)\n",
        "print(df.std(axis=1)), print('-'*20)        # 데이터프레임에서의 기본값 ddof=1 (표본 표준편차)\n",
        "print(np.std(df, axis=1)), print('-'*20)    # 넘파이에서의 기본값 ddof=0 (모집단 표준편차)\n",
        "print(np.std(df, ddof=1, axis=1)), print('-'*20)\n",
        "print(df[['one', 'two', 'three']].std())"
      ],
      "metadata": {
        "colab": {
          "base_uri": "https://localhost:8080/"
        },
        "id": "ZHNIw9PGPUyq",
        "outputId": "2fc67e13-935f-4f04-f7a6-f3b377a2f67f"
      },
      "execution_count": null,
      "outputs": [
        {
          "output_type": "stream",
          "name": "stdout",
          "text": [
            "   one  two  three\n",
            "a  1.0  3.0    NaN\n",
            "b  2.0  2.0    1.0\n",
            "c  NaN  1.0    1.0\n",
            "====================\n",
            "one      0.707107\n",
            "two      1.000000\n",
            "three    0.000000\n",
            "dtype: float64\n",
            "--------------------\n",
            "a    1.414214\n",
            "b    0.577350\n",
            "c    0.000000\n",
            "dtype: float64\n",
            "--------------------\n",
            "a    1.000000\n",
            "b    0.471405\n",
            "c    0.000000\n",
            "dtype: float64\n",
            "--------------------\n",
            "a    1.414214\n",
            "b    0.577350\n",
            "c    0.000000\n",
            "dtype: float64\n",
            "--------------------\n",
            "one      0.707107\n",
            "two      1.000000\n",
            "three    0.000000\n",
            "dtype: float64\n"
          ]
        }
      ]
    },
    {
      "cell_type": "code",
      "source": [
        "# 요약과 통계 연산\n",
        "\n",
        "# cumsum() 메소드(누적 합): 기본으로 NaN 무시, but 결과배열에서는 NaN 유지\n",
        "print(df), print('-'*20)\n",
        "print(df.cumsum()), print('-'*20)\n",
        "print(df.cumsum(axis=1)), print('-'*20)"
      ],
      "metadata": {
        "colab": {
          "base_uri": "https://localhost:8080/"
        },
        "id": "esufgvzYPeN7",
        "outputId": "673ef1ae-4782-4f02-e16e-8f4ab063d922"
      },
      "execution_count": null,
      "outputs": [
        {
          "output_type": "stream",
          "name": "stdout",
          "text": [
            "   one  two  three\n",
            "a  1.0  3.0    NaN\n",
            "b  2.0  2.0    1.0\n",
            "c  NaN  1.0    1.0\n",
            "--------------------\n",
            "   one  two  three\n",
            "a  1.0  3.0    NaN\n",
            "b  3.0  5.0    1.0\n",
            "c  NaN  6.0    2.0\n",
            "--------------------\n",
            "   one  two  three\n",
            "a  1.0  4.0    NaN\n",
            "b  2.0  4.0    5.0\n",
            "c  NaN  1.0    2.0\n",
            "--------------------\n",
            "one      2.0\n",
            "two      6.0\n",
            "three    1.0\n",
            "dtype: float64\n"
          ]
        }
      ]
    },
    {
      "cell_type": "code",
      "source": [
        "# 요약과 통계 연산\n",
        "\n",
        "# Series.nunique(): 고유한 값의 개수를 반\n",
        "s1 = pd.Series(np.random.randn(500))\n",
        "s1[20:500] = np.nan\n",
        "s1[10:20] = 5\n",
        "print(s1.nunique()), print('-'*20)\n",
        "print(s1), print('-'*20)\n",
        "\n",
        "print(np.unique(s1))\n",
        "print(np.unique(s1).size)\n",
        "# # 출력 개수 늘리기 (예: 20개까지 출력)\n",
        "# pd.set_option('display.max_rows', 40)\n",
        "# print(s1)\n",
        "\n",
        "# # 모든 행을 출력하도록 설정\n",
        "# pd.set_option('display.max_rows', None)\n",
        "# print(s1)\n"
      ],
      "metadata": {
        "colab": {
          "base_uri": "https://localhost:8080/"
        },
        "id": "rWa-LgOLQsv4",
        "outputId": "fa1ccd6a-2723-4ecd-952b-075e2596e502"
      },
      "execution_count": null,
      "outputs": [
        {
          "output_type": "stream",
          "name": "stdout",
          "text": [
            "11\n",
            "--------------------\n",
            "0      0.181285\n",
            "1     -2.050039\n",
            "2      1.708496\n",
            "3     -1.036937\n",
            "4      0.515096\n",
            "         ...   \n",
            "495         NaN\n",
            "496         NaN\n",
            "497         NaN\n",
            "498         NaN\n",
            "499         NaN\n",
            "Length: 500, dtype: float64\n",
            "--------------------\n",
            "[-2.05003864 -1.0369371  -1.00410389 -0.74040423 -0.61226158  0.13634265\n",
            "  0.18128508  0.51509615  0.7713619   1.70849561  5.                 nan]\n",
            "12\n"
          ]
        }
      ]
    },
    {
      "cell_type": "code",
      "source": [
        "# 요약과 통계 연산\n",
        "\n",
        "# describe()\n",
        "s2 = pd.Series(np.random.randn(1000))\n",
        "s2[::2] = np.nan\n",
        "print(s2.describe()), print('-'*30)\n",
        "\n",
        "# 출력에 포함할 특정 백분위수를 선택할 수 있음\n",
        "print(s2.describe(percentiles=[0.05, 0.25, 0.75, 0.95])), print('-'*30)\n",
        "\n",
        "\n",
        "df = pd.DataFrame(np.random.randn(1000,4), columns=['a','b','c','d'])\n",
        "df.iloc[::2] = np.nan\n",
        "print(df.describe())"
      ],
      "metadata": {
        "colab": {
          "base_uri": "https://localhost:8080/"
        },
        "id": "TRxLZVL3TPXW",
        "outputId": "c910e046-eee1-4345-9c5e-ccd03a66cbf4"
      },
      "execution_count": null,
      "outputs": [
        {
          "output_type": "stream",
          "name": "stdout",
          "text": [
            "count    500.000000\n",
            "mean      -0.016282\n",
            "std        0.925681\n",
            "min       -2.853213\n",
            "25%       -0.681221\n",
            "50%       -0.048098\n",
            "75%        0.611231\n",
            "max        2.633256\n",
            "dtype: float64\n",
            "------------------------------\n",
            "count    500.000000\n",
            "mean      -0.016282\n",
            "std        0.925681\n",
            "min       -2.853213\n",
            "5%        -1.403101\n",
            "25%       -0.681221\n",
            "50%       -0.048098\n",
            "75%        0.611231\n",
            "95%        1.484673\n",
            "max        2.633256\n",
            "dtype: float64\n",
            "------------------------------\n",
            "                a           b           c           d\n",
            "count  500.000000  500.000000  500.000000  500.000000\n",
            "mean    -0.014791   -0.060565    0.052240    0.078893\n",
            "std      1.070563    0.944839    1.024369    1.038375\n",
            "min     -3.152755   -2.753698   -2.920871   -3.115698\n",
            "25%     -0.746640   -0.755098   -0.603881   -0.607735\n",
            "50%     -0.027622   -0.015279    0.104951    0.071106\n",
            "75%      0.694156    0.599519    0.671132    0.798520\n",
            "max      3.148538    2.643058    3.195628    3.101007\n"
          ]
        }
      ]
    },
    {
      "cell_type": "code",
      "source": [
        "# 요약과 통계 연산\n",
        "\n",
        "# describe()\n",
        "# 수치가 아닌 객체에 describe() 메소드를 적용하면, 유일값 수와 가장 빈번히 발생하는 값 요약\n",
        "s3 = pd.Series(['a','a','b','c','c',np.nan,'c','d'])\n",
        "print(s3.describe()), print('-'*30)\n",
        "\n",
        "# 범주형과 수치가 혼합된 타입의 데이터프레임 객체에 describe() 메소드를 적용하면 수치로 이루어진 열만 반환\n",
        "df = pd.DataFrame({'a': ['Yes','Yes','No','No'], 'b': range(4)})\n",
        "print(df.describe()), print('-'*30)\n",
        "\n",
        "# describe()에 include와 exclude (적용하지 않을 열 전달) 인수 적용 가능\n",
        "print(df.describe(include=['object'])), print('-'*30)\n",
        "print(df.describe(include=['number'])), print('-'*30)\n",
        "print(df.describe(include='all'))"
      ],
      "metadata": {
        "colab": {
          "base_uri": "https://localhost:8080/"
        },
        "id": "SjRUPh6BVjAn",
        "outputId": "af80618c-8bda-492c-87a9-85434dcf3fda"
      },
      "execution_count": null,
      "outputs": [
        {
          "output_type": "stream",
          "name": "stdout",
          "text": [
            "count     7\n",
            "unique    4\n",
            "top       c\n",
            "freq      3\n",
            "dtype: object\n",
            "------------------------------\n",
            "              b\n",
            "count  4.000000\n",
            "mean   1.500000\n",
            "std    1.290994\n",
            "min    0.000000\n",
            "25%    0.750000\n",
            "50%    1.500000\n",
            "75%    2.250000\n",
            "max    3.000000\n",
            "------------------------------\n",
            "          a\n",
            "count     4\n",
            "unique    2\n",
            "top     Yes\n",
            "freq      2\n",
            "------------------------------\n",
            "              b\n",
            "count  4.000000\n",
            "mean   1.500000\n",
            "std    1.290994\n",
            "min    0.000000\n",
            "25%    0.750000\n",
            "50%    1.500000\n",
            "75%    2.250000\n",
            "max    3.000000\n",
            "------------------------------\n",
            "          a         b\n",
            "count     4  4.000000\n",
            "unique    2       NaN\n",
            "top     Yes       NaN\n",
            "freq      2       NaN\n",
            "mean    NaN  1.500000\n",
            "std     NaN  1.290994\n",
            "min     NaN  0.000000\n",
            "25%     NaN  0.750000\n",
            "50%     NaN  1.500000\n",
            "75%     NaN  2.250000\n",
            "max     NaN  3.000000\n"
          ]
        }
      ]
    },
    {
      "cell_type": "code",
      "source": [
        "# 요약과 통계 연산\n",
        "\n",
        "# idxmax()와 idxmin() 메소드\n",
        "s1 = pd.Series(np.random.randn(5))\n",
        "print(s1), print('-'*20)\n",
        "\n",
        "print(s1.idxmin(), s1.idxmax()) # 최소값과 최대값의 인덱스 반환\n",
        "\n",
        "df = pd.DataFrame(np.random.randn(4,3), columns=['A', 'B', 'C'])\n",
        "print(df), print('-'*30)\n",
        "print(df.idxmin(axis=0)), print('-'*30)\n",
        "print(df.idxmin()), print('-'*30)\n",
        "print(df.idxmax(axis=1)), print('='*30)\n",
        "\n",
        "# 최소값과 최대값에 일치하는 행이나 열이 다수라면 첫 번째로 일치하는 인덱스 반환\n",
        "df1 = pd.DataFrame([2, 1, 1, 3, np.nan], columns=['A'], index=list('edcba'))\n",
        "print(df1), print('-'*30)\n",
        "\n",
        "print(df1['A'].idxmin())"
      ],
      "metadata": {
        "colab": {
          "base_uri": "https://localhost:8080/"
        },
        "id": "IxrSFGy9VoFM",
        "outputId": "7eefd38c-4616-43fc-b056-c7d353369d37"
      },
      "execution_count": null,
      "outputs": [
        {
          "output_type": "stream",
          "name": "stdout",
          "text": [
            "0   -0.746161\n",
            "1    0.074425\n",
            "2   -0.025729\n",
            "3    0.663635\n",
            "4    1.731401\n",
            "dtype: float64\n",
            "--------------------\n",
            "0 4\n",
            "          A         B         C\n",
            "0 -1.248322 -1.619103  0.471988\n",
            "1 -1.662002  1.227801  1.003069\n",
            "2  0.569126  1.077331  1.275057\n",
            "3  1.123960  0.861832 -0.173069\n",
            "------------------------------\n",
            "A    1\n",
            "B    0\n",
            "C    3\n",
            "dtype: int64\n",
            "------------------------------\n",
            "A    1\n",
            "B    0\n",
            "C    3\n",
            "dtype: int64\n",
            "------------------------------\n",
            "0    C\n",
            "1    B\n",
            "2    C\n",
            "3    A\n",
            "dtype: object\n",
            "==============================\n",
            "     A\n",
            "e  2.0\n",
            "d  1.0\n",
            "c  1.0\n",
            "b  3.0\n",
            "a  NaN\n",
            "------------------------------\n",
            "d\n"
          ]
        }
      ]
    },
    {
      "cell_type": "code",
      "source": [
        "# 요약과 통계 연산\n",
        "\n",
        "# value_counts() 메소드\n",
        "data = np.random.randint(0, 7, size=30)\n",
        "print(data), print('-'*60)\n",
        "\n",
        "s1 = pd.Series(data)\n",
        "print(s1.value_counts()), print('-'*30)\n",
        "\n",
        "print(pd.value_counts(data))    # FutureWaring\n",
        "\n",
        "## 참고만...\n",
        "# 넘파이의 np.unique with return_counts=True\n",
        "unique_values, counts = np.unique(s1, return_counts=True)\n",
        "\n",
        "print(\"고유한 값:\", unique_values)\n",
        "print(\"빈도수:\", counts)\n",
        "\n",
        "# 빈도수를 기준으로 내림차순 정렬하기 위한 인덱스 얻기\n",
        "sorted_indices = np.argsort(counts)[::-1]\n",
        "\n",
        "# 정렬된 고유한 값과 빈도수 얻기\n",
        "sorted_unique_values = unique_values[sorted_indices]\n",
        "sorted_counts = counts[sorted_indices]\n",
        "\n",
        "print(\"정렬된 고유한 값 (빈도수 내림차순):\", sorted_unique_values)\n",
        "print(\"정렬된 빈도수 (내림차순):\", sorted_counts)"
      ],
      "metadata": {
        "colab": {
          "base_uri": "https://localhost:8080/"
        },
        "id": "H9quu6gMYFGT",
        "outputId": "49b33eea-e83d-4eb2-ced9-8460cb0352bf"
      },
      "execution_count": null,
      "outputs": [
        {
          "output_type": "stream",
          "name": "stdout",
          "text": [
            "[3 4 0 3 4 2 0 3 5 4 6 5 0 1 6 5 4 6 5 0 2 3 4 3 0 5 5 0 6 6]\n",
            "------------------------------------------------------------\n",
            "0    6\n",
            "5    6\n",
            "3    5\n",
            "4    5\n",
            "6    5\n",
            "2    2\n",
            "1    1\n",
            "Name: count, dtype: int64\n",
            "------------------------------\n",
            "0    6\n",
            "5    6\n",
            "3    5\n",
            "4    5\n",
            "6    5\n",
            "2    2\n",
            "1    1\n",
            "Name: count, dtype: int64\n",
            "고유한 값: [0 1 2 3 4 5 6]\n",
            "빈도수: [6 1 2 5 5 6 5]\n",
            "정렬된 고유한 값 (빈도수 내림차순): [5 0 6 4 3 2 1]\n",
            "정렬된 빈도수 (내림차순): [6 6 5 5 5 2 1]\n"
          ]
        },
        {
          "output_type": "stream",
          "name": "stderr",
          "text": [
            "<ipython-input-11-9a12170dc8c5>:10: FutureWarning: pandas.value_counts is deprecated and will be removed in a future version. Use pd.Series(obj).value_counts() instead.\n",
            "  print(pd.value_counts(data))    # FutureWaring\n"
          ]
        }
      ]
    },
    {
      "cell_type": "code",
      "source": [
        "# 요약과 통계 연산\n",
        "\n",
        "# cut() 함수\n",
        "print(pd.cut(np.array([1, 7, 5, 4, 6, 3]), bins=3)), print('='*80)\n",
        "\n",
        "# 인수 retbins=True는 구간 값을 반환\n",
        "print(pd.cut(np.array([1, 7, 5, 4, 6, 3]), 3, retbins=True)), print('='*80)\n",
        "\n",
        "# 구간에 특정 라벨 ('bad', 'medium', 'good')을 할당하여 labels 범주를 반환하는 예\n",
        "print(pd.cut(np.array([1, 7, 5, 4, 6, 3]), 3, labels=['bad','medium','good'])), print('='*80)\n",
        "\n",
        "# labels=False를 입력하면 범주형 시리즈나 정수 배열을 반환\n",
        "print(pd.cut([0, 1, 1, 2], bins=4)), print('='*80)\n",
        "print(pd.cut([0, 1, 1, 2], bins=4, labels=False)), print('='*80)\n",
        "\n",
        "# cut()함수에 시리즈를 입력하면 categorical dtype인 시리즈를 반환\n",
        "s1 = pd.Series(np.array([2,4,6,8,10]), index=['a','b','c','d','e'])\n",
        "print(pd.cut(s1, bins=3))"
      ],
      "metadata": {
        "colab": {
          "base_uri": "https://localhost:8080/"
        },
        "id": "L4fsLz1cZSV2",
        "outputId": "3b0f2efa-cbc0-4b99-98cb-63e557c2ec50"
      },
      "execution_count": null,
      "outputs": [
        {
          "output_type": "stream",
          "name": "stdout",
          "text": [
            "[(0.994, 3.0], (5.0, 7.0], (3.0, 5.0], (3.0, 5.0], (5.0, 7.0], (0.994, 3.0]]\n",
            "Categories (3, interval[float64, right]): [(0.994, 3.0] < (3.0, 5.0] < (5.0, 7.0]]\n",
            "================================================================================\n",
            "([(0.994, 3.0], (5.0, 7.0], (3.0, 5.0], (3.0, 5.0], (5.0, 7.0], (0.994, 3.0]]\n",
            "Categories (3, interval[float64, right]): [(0.994, 3.0] < (3.0, 5.0] < (5.0, 7.0]], array([0.994, 3.   , 5.   , 7.   ]))\n",
            "================================================================================\n",
            "['bad', 'good', 'medium', 'medium', 'good', 'bad']\n",
            "Categories (3, object): ['bad' < 'medium' < 'good']\n",
            "================================================================================\n",
            "[(-0.002, 0.5], (0.5, 1.0], (0.5, 1.0], (1.5, 2.0]]\n",
            "Categories (4, interval[float64, right]): [(-0.002, 0.5] < (0.5, 1.0] < (1.0, 1.5] < (1.5, 2.0]]\n",
            "================================================================================\n",
            "[0 1 1 3]\n",
            "================================================================================\n",
            "a    (1.992, 4.667]\n",
            "b    (1.992, 4.667]\n",
            "c    (4.667, 7.333]\n",
            "d     (7.333, 10.0]\n",
            "e     (7.333, 10.0]\n",
            "dtype: category\n",
            "Categories (3, interval[float64, right]): [(1.992, 4.667] < (4.667, 7.333] < (7.333, 10.0]]\n"
          ]
        }
      ]
    },
    {
      "cell_type": "code",
      "source": [
        "# 요약과 통계 연산\n",
        "\n",
        "# qcut() 함수\n",
        "print(pd.qcut(range(5),4)), print('-'*70)\n",
        "\n",
        "print(pd.qcut(range(5), 3, labels=['good','medium','bad'])), print('-'*70)\n",
        "\n",
        "print(pd.qcut(range(5), 4, labels=False))"
      ],
      "metadata": {
        "colab": {
          "base_uri": "https://localhost:8080/"
        },
        "id": "P53N8wYTbhfR",
        "outputId": "efd1c832-bda2-4a0b-bb7d-232d0902639f"
      },
      "execution_count": null,
      "outputs": [
        {
          "output_type": "stream",
          "name": "stdout",
          "text": [
            "[(-0.001, 1.0], (-0.001, 1.0], (1.0, 2.0], (2.0, 3.0], (3.0, 4.0]]\n",
            "Categories (4, interval[float64, right]): [(-0.001, 1.0] < (1.0, 2.0] < (2.0, 3.0] < (3.0, 4.0]]\n",
            "----------------------------------------------------------------------\n",
            "['good', 'good', 'medium', 'bad', 'bad']\n",
            "Categories (3, object): ['good' < 'medium' < 'bad']\n",
            "----------------------------------------------------------------------\n",
            "[0 0 1 2 3]\n"
          ]
        }
      ]
    },
    {
      "cell_type": "code",
      "source": [
        "# 요약과 통계 연산\n",
        "\n",
        "# cut()과 qcut() 함수 차이\n",
        "random_sample = np.random.randn(25)\n",
        "print(pd.cut(random_sample, 5).value_counts())\n",
        "\n",
        "print(pd.qcut(random_sample, 5).value_counts())"
      ],
      "metadata": {
        "colab": {
          "base_uri": "https://localhost:8080/"
        },
        "id": "EELdEECUceQE",
        "outputId": "0e3dd1d9-6478-4c08-f669-3811762a2e68"
      },
      "execution_count": null,
      "outputs": [
        {
          "output_type": "stream",
          "name": "stdout",
          "text": [
            "(-1.821, -1.228]      5\n",
            "(-1.228, -0.637]      0\n",
            "(-0.637, -0.0474]     2\n",
            "(-0.0474, 0.543]     10\n",
            "(0.543, 1.133]        8\n",
            "Name: count, dtype: int64\n",
            "(-1.819, -0.614]    5\n",
            "(-0.614, 0.169]     5\n",
            "(0.169, 0.385]      5\n",
            "(0.385, 0.71]       5\n",
            "(0.71, 1.133]       5\n",
            "Name: count, dtype: int64\n"
          ]
        }
      ]
    },
    {
      "cell_type": "code",
      "source": [
        "# 함수 적용\n",
        "\n",
        "# 1. 테이블 전체 함수 적용: pipe()\n",
        "data = pd.DataFrame([[1, 1, 1,], [2, 2, 2], [3, 3, 3]],\n",
        "                    index=['A','B','C'], columns=['one','two','three'])\n",
        "\n",
        "print(data), print('='*50)\n",
        "\n",
        "# 사용자 정의 함수를 사용한 사칙 연산\n",
        "def add(data, arg):\n",
        "    return data + arg\n",
        "\n",
        "def div(data, arg):\n",
        "    return data / arg\n",
        "\n",
        "def mul(data, arg):\n",
        "    return data * arg\n",
        "\n",
        "def sub(data, arg):\n",
        "    return data - arg\n",
        "\n",
        "# data 객체에 사용자 정의함수를 pipe()메소드를 이용해 체인 형태로 묶어 실행\n",
        "result = (data.pipe(add, arg=2)     # data에 2를 더하기\n",
        "            .pipe(div, arg=3)      # 위 결과에 3으로 나누기\n",
        "            .pipe(mul, arg=5)      # 위 결과에 5를 곱하기\n",
        "            .pipe(sub, arg=1))     # 위 결과에서 1을 빼기\n",
        "print(result)"
      ],
      "metadata": {
        "colab": {
          "base_uri": "https://localhost:8080/"
        },
        "id": "GUMFaPuWNYU-",
        "outputId": "50c7d741-f358-43a7-c649-0cdbb26ef168"
      },
      "execution_count": null,
      "outputs": [
        {
          "output_type": "stream",
          "name": "stdout",
          "text": [
            "   one  two  three\n",
            "A    1    1      1\n",
            "B    2    2      2\n",
            "C    3    3      3\n",
            "==================================================\n",
            "        one       two     three\n",
            "A  4.000000  4.000000  4.000000\n",
            "B  5.666667  5.666667  5.666667\n",
            "C  7.333333  7.333333  7.333333\n"
          ]
        }
      ]
    },
    {
      "cell_type": "code",
      "source": [
        "# 함수 적용\n",
        "\n",
        "# 2. 행 또는 열 단위의 함수를 적용: apply()\n",
        "data = [{'one': 1.0, 'two': 1.2},\n",
        "        {'one': 0.5, 'two': 1.1, 'three': 0.7},\n",
        "        {'one': 0.7, 'two': 0.9, 'three': -1.6},\n",
        "                    {'two':1.4, 'three': -1.2}]\n",
        "\n",
        "df = pd.DataFrame(data)\n",
        "print(df), print('='*30)\n",
        "\n",
        "# apply() 메소드를 사용해 np.mean을 적용하면 열을 중심으로 평균값 구함\n",
        "# 인수 axis=1을 설정하면 행을 기준으로 연산함\n",
        "print(df.apply(np.mean)), print('='*30)\n",
        "print(df.apply(np.mean, axis=1)), print('='*30)\n",
        "\n",
        "# lambda 함수 적용하여 최대값과 최소값의 차이 구함\n",
        "print(df.apply(lambda x: x.max() - x.min())), print('='*30)\n",
        "\n",
        "# np.cumsum을 적용하여 누적합 구함\n",
        "print(df.apply(np.cumsum)), print('='*30)\n",
        "\n",
        "# np.exp를 적용하여 지수를 계산\n",
        "print(df.apply(np.exp))"
      ],
      "metadata": {
        "colab": {
          "base_uri": "https://localhost:8080/"
        },
        "id": "PRT3yHb7eTWQ",
        "outputId": "38bae070-c978-4f7e-af83-b89365bafb1b"
      },
      "execution_count": null,
      "outputs": [
        {
          "output_type": "stream",
          "name": "stdout",
          "text": [
            "   one  two  three\n",
            "0  1.0  1.2    NaN\n",
            "1  0.5  1.1    0.7\n",
            "2  0.7  0.9   -1.6\n",
            "3  NaN  1.4   -1.2\n",
            "==============================\n",
            "one      0.733333\n",
            "two      1.150000\n",
            "three   -0.700000\n",
            "dtype: float64\n",
            "==============================\n",
            "0    1.100000\n",
            "1    0.766667\n",
            "2    0.000000\n",
            "3    0.100000\n",
            "dtype: float64\n",
            "==============================\n",
            "one      0.5\n",
            "two      0.5\n",
            "three    2.3\n",
            "dtype: float64\n",
            "==============================\n",
            "   one  two  three\n",
            "0  1.0  1.2    NaN\n",
            "1  1.5  2.3    0.7\n",
            "2  2.2  3.2   -0.9\n",
            "3  NaN  4.6   -2.1\n",
            "==============================\n",
            "        one       two     three\n",
            "0  2.718282  3.320117       NaN\n",
            "1  1.648721  3.004166  2.013753\n",
            "2  2.013753  2.459603  0.201897\n",
            "3       NaN  4.055200  0.301194\n"
          ]
        }
      ]
    },
    {
      "cell_type": "code",
      "source": [
        "# 일반 함수 vs. lambda 함수\n",
        "\n",
        "# 일반 함수\n",
        "def add(x, y):\n",
        "    return x + y\n",
        "\n",
        "# lambda 함수\n",
        "# add_lambda는 함수 이름이 아니고, lambda 익명함수를 참조하는 변수 이름임\n",
        "add_lambda = lambda x, y: x + y\n",
        "\n",
        "print(add(3, 5))         # 8\n",
        "print(add_lambda(3, 5))  # 8\n"
      ],
      "metadata": {
        "colab": {
          "base_uri": "https://localhost:8080/"
        },
        "id": "X6BfIKAxhukk",
        "outputId": "3f7d0137-a3ce-4a5b-f062-3bbd77a8c4b3"
      },
      "execution_count": null,
      "outputs": [
        {
          "output_type": "stream",
          "name": "stdout",
          "text": [
            "8\n",
            "8\n"
          ]
        }
      ]
    },
    {
      "cell_type": "code",
      "source": [
        "# 함수 적용\n",
        "\n",
        "# 3. Aggregation API: agg()\n",
        "df = pd.DataFrame([[1, 2, 3],\n",
        "                   [4, 5, 6],\n",
        "                   [7, 8, 9],\n",
        "                   [np.nan, np.nan, np.nan]], columns=['A', 'B', 'C'])\n",
        "\n",
        "print(df), print('='*30)\n",
        "\n",
        "# agg()에 축을 명시하지 않으면 각 열에 각기 다른 종합 연산을 실행\n",
        "print(df.agg(['sum', 'min'])), print('='*30)\n",
        "print(df.agg(['sum', 'min'])['A']), print('='*30)\n",
        "\n",
        "# axis='columns'인 경우, 행에 연산을 실행\n",
        "print(df.agg(['sum', 'min'], axis='columns')), print('='*30)\n",
        "print(df.agg(['sum', 'min'], axis=1))\n"
      ],
      "metadata": {
        "colab": {
          "base_uri": "https://localhost:8080/"
        },
        "id": "XjDYIn0qixD0",
        "outputId": "9e2069cb-f30a-46a2-8902-d408a6086b05"
      },
      "execution_count": null,
      "outputs": [
        {
          "output_type": "stream",
          "name": "stdout",
          "text": [
            "     A    B    C\n",
            "0  1.0  2.0  3.0\n",
            "1  4.0  5.0  6.0\n",
            "2  7.0  8.0  9.0\n",
            "3  NaN  NaN  NaN\n",
            "==============================\n",
            "        A     B     C\n",
            "sum  12.0  15.0  18.0\n",
            "min   1.0   2.0   3.0\n",
            "==============================\n",
            "sum    12.0\n",
            "min     1.0\n",
            "Name: A, dtype: float64\n",
            "==============================\n",
            "    sum  min\n",
            "0   6.0  1.0\n",
            "1  15.0  4.0\n",
            "2  24.0  7.0\n",
            "3   0.0  NaN\n",
            "==============================\n",
            "    sum  min\n",
            "0   6.0  1.0\n",
            "1  15.0  4.0\n",
            "2  24.0  7.0\n",
            "3   0.0  NaN\n"
          ]
        }
      ]
    },
    {
      "cell_type": "code",
      "source": [
        "# 함수 적용\n",
        "\n",
        "# 3. Aggregation API: agg()\n",
        "adf = pd.DataFrame(np.random.randn(6,3), columns=['A','B','C'],\n",
        "                  index=pd.date_range('7/1/2021', periods=6))\n",
        "\n",
        "adf.iloc[2:4] = np.nan\n",
        "print(adf), print('='*40)\n",
        "\n",
        "# 단일 함수 사용시 apply() 메소드를 사용하는 방법과 동일\n",
        "print(adf.agg(np.sum)), print('='*40) # FutureWarning\n",
        "\n",
        "print(adf.agg('sum')), print('='*40)\n",
        "\n",
        "print(adf.sum()), print('='*40)\n",
        "\n",
        "# 시리즈에 단일 종합 연산을 실행하면 스칼라 값을 반환\n",
        "print(adf.A.agg('sum'))"
      ],
      "metadata": {
        "colab": {
          "base_uri": "https://localhost:8080/"
        },
        "id": "0gqC32GCj7eJ",
        "outputId": "27ec7db6-1fc3-4370-e21c-3237b7ce2684"
      },
      "execution_count": null,
      "outputs": [
        {
          "output_type": "stream",
          "name": "stdout",
          "text": [
            "                   A         B         C\n",
            "2021-07-01 -0.507650 -0.178433  0.628265\n",
            "2021-07-02  1.188533 -0.100612  0.899260\n",
            "2021-07-03       NaN       NaN       NaN\n",
            "2021-07-04       NaN       NaN       NaN\n",
            "2021-07-05  0.018694  0.456312  0.823443\n",
            "2021-07-06  1.442214 -1.156142 -0.088366\n",
            "========================================\n",
            "A    2.141792\n",
            "B   -0.978875\n",
            "C    2.262602\n",
            "dtype: float64\n",
            "========================================\n",
            "A    2.141792\n",
            "B   -0.978875\n",
            "C    2.262602\n",
            "dtype: float64\n",
            "========================================\n",
            "A    2.141792\n",
            "B   -0.978875\n",
            "C    2.262602\n",
            "dtype: float64\n",
            "========================================\n",
            "2.1417919118391087\n"
          ]
        },
        {
          "output_type": "stream",
          "name": "stderr",
          "text": [
            "<ipython-input-17-5ae4ee4633af>:11: FutureWarning: The provided callable <function sum at 0x795018604cc0> is currently using DataFrame.sum. In a future version of pandas, the provided callable will be used directly. To keep current behavior pass the string \"sum\" instead.\n",
            "  print(adf.agg(np.sum)), print('='*40) # FutureWarning\n"
          ]
        }
      ]
    },
    {
      "cell_type": "code",
      "source": [
        "# 함수 적용\n",
        "\n",
        "# 3. Aggregation API: agg()\n",
        "\n",
        "# 복수의 함수로 종합 연산을 실행할 때 여러 인수를 리스트로 전달할 수 있음\n",
        "print(adf.agg(['sum'])), print('='*40)\n",
        "\n",
        "# 복수의 함수를 사용하면, 복수의 행을 반환\n",
        "print(adf.agg(['sum', 'mean'])), print('='*40)\n",
        "\n",
        "# lambda 함수를 입력하면 <lambda> 이름의 행을 반환\n",
        "print(adf.A.agg(['sum', lambda x: x.mean()])), print('='*40)\n",
        "\n",
        "# 사용자 정의 함수를 입력하면 행에 그 함수의 이름을 반환\n",
        "def mymean(x):\n",
        "    return x.mean()\n",
        "\n",
        "print(adf.A.agg(['sum', mymean])), print('='*40)\n",
        "\n",
        "# DataFrame.agg()로 각 열에 함수 이름을 딕셔너리형으로 전달하면 각 열에 해당 함수를 적용함\n",
        "print(adf.agg({'A': 'mean', 'B': 'sum'})), print('='*40)\n",
        "\n",
        "# 열 라벨에 유사 리스트로 함수를 전달하면 데이터프레임 형태로 출력됨\n",
        "print(adf.agg({'A': ['mean', 'min'], 'B': 'sum'}))"
      ],
      "metadata": {
        "colab": {
          "base_uri": "https://localhost:8080/"
        },
        "id": "uzlV3Ca7mkUB",
        "outputId": "56aa6989-e9f2-410d-d0de-9510311256fa"
      },
      "execution_count": null,
      "outputs": [
        {
          "output_type": "stream",
          "name": "stdout",
          "text": [
            "            A         B         C\n",
            "sum  0.845429 -1.772702 -2.159888\n",
            "========================================\n",
            "             A         B         C\n",
            "sum   0.845429 -1.772702 -2.159888\n",
            "mean  0.211357 -0.443175 -0.539972\n",
            "========================================\n",
            "sum         0.845429\n",
            "<lambda>    0.211357\n",
            "Name: A, dtype: float64\n",
            "========================================\n",
            "sum       0.845429\n",
            "mymean    0.211357\n",
            "Name: A, dtype: float64\n",
            "========================================\n",
            "A    0.211357\n",
            "B   -1.772702\n",
            "dtype: float64\n",
            "========================================\n",
            "             A         B\n",
            "mean  0.211357       NaN\n",
            "min  -1.448441       NaN\n",
            "sum        NaN -1.772702\n"
          ]
        }
      ]
    },
    {
      "cell_type": "code",
      "source": [
        "# 함수 적용\n",
        "\n",
        "# 3. Aggregation API: transform()\n",
        "\n",
        "df = pd.DataFrame({'A': range(3), 'B': range(1, 4)})\n",
        "\n",
        "print(df), print('-'*30)\n",
        "\n",
        "result = df.transform(lambda x: x+1)\n",
        "print(result)"
      ],
      "metadata": {
        "colab": {
          "base_uri": "https://localhost:8080/"
        },
        "id": "MN9l-A1vi2sO",
        "outputId": "b14d735b-87c6-4d5c-d2e7-5a2a0a9eb740"
      },
      "execution_count": null,
      "outputs": [
        {
          "output_type": "stream",
          "name": "stdout",
          "text": [
            "   A  B\n",
            "0  0  1\n",
            "1  1  2\n",
            "2  2  3\n",
            "------------------------------\n",
            "   A  B\n",
            "0  1  2\n",
            "1  2  3\n",
            "2  3  4\n"
          ]
        }
      ]
    },
    {
      "cell_type": "code",
      "source": [
        "# 함수 적용\n",
        "\n",
        "# 3. Aggregation API: transform()\n",
        "# transform() 메소드에는 넘파이 함수, 문자열인 함수이름 or\n",
        "# 사용자 정의함수를 입력할 수 있으며 전체 프레임을 반환함\n",
        "adf = pd.DataFrame(np.random.randn(6,3), columns=['A','B','C'],\n",
        "                  index=pd.date_range('7/1/2021', periods=6))\n",
        "adf.iloc[2:4] = np.nan\n",
        "print(adf), print('='*40)\n",
        "\n",
        "# np.abs는 집계함수가 아니고 요소함수라서 agg()의 DataFrame의 형태가 유지됨\n",
        "print(adf.agg(np.abs)), print('-'*40)       # 아래와 같은 결과\n",
        "print(adf.transform(np.abs)), print('='*40) # 위와 같은 결과\n",
        "\n",
        "# 시리즈에 함수 하나를 입력하면 단일 시리즈를 반환\n",
        "print(adf.A.transform(np.abs))"
      ],
      "metadata": {
        "colab": {
          "base_uri": "https://localhost:8080/"
        },
        "id": "1aH7EUxktN1G",
        "outputId": "43171d52-c746-4718-df83-8aec61a4b0c5"
      },
      "execution_count": null,
      "outputs": [
        {
          "output_type": "stream",
          "name": "stdout",
          "text": [
            "                   A         B         C\n",
            "2021-07-01 -0.581825 -0.344163  1.743990\n",
            "2021-07-02  0.181776  0.436731  0.505913\n",
            "2021-07-03       NaN       NaN       NaN\n",
            "2021-07-04       NaN       NaN       NaN\n",
            "2021-07-05 -0.140522 -1.231325  0.130688\n",
            "2021-07-06 -0.330145  0.447075  1.109982\n",
            "========================================\n",
            "                   A         B         C\n",
            "2021-07-01  0.581825  0.344163  1.743990\n",
            "2021-07-02  0.181776  0.436731  0.505913\n",
            "2021-07-03       NaN       NaN       NaN\n",
            "2021-07-04       NaN       NaN       NaN\n",
            "2021-07-05  0.140522  1.231325  0.130688\n",
            "2021-07-06  0.330145  0.447075  1.109982\n",
            "----------------------------------------\n",
            "                   A         B         C\n",
            "2021-07-01  0.581825  0.344163  1.743990\n",
            "2021-07-02  0.181776  0.436731  0.505913\n",
            "2021-07-03       NaN       NaN       NaN\n",
            "2021-07-04       NaN       NaN       NaN\n",
            "2021-07-05  0.140522  1.231325  0.130688\n",
            "2021-07-06  0.330145  0.447075  1.109982\n",
            "========================================\n",
            "2021-07-01    0.581825\n",
            "2021-07-02    0.181776\n",
            "2021-07-03         NaN\n",
            "2021-07-04         NaN\n",
            "2021-07-05    0.140522\n",
            "2021-07-06    0.330145\n",
            "Freq: D, Name: A, dtype: float64\n"
          ]
        }
      ]
    },
    {
      "cell_type": "code",
      "source": [
        "# 함수 적용\n",
        "\n",
        "# 3. Aggregation API: transform()\n",
        "# transform() 메소드에는 넘파이 함수, 문자열인 함수이름 or\n",
        "# 사용자 정의함수를 입력할 수 있으며 전체 프레임을 반환함\n",
        "adf = pd.DataFrame(np.random.randn(6,3), columns=['A','B','C'],\n",
        "                  index=pd.date_range('7/1/2021', periods=6))\n",
        "adf.iloc[2:4] = np.nan\n",
        "print(adf), print('='*40)\n",
        "\n",
        "# 복수의 함수를 전달하면 멀티인덱스를 가진 열로 이루어진 데이터프레임을 반환\n",
        "# 첫번째 레벨은 원래 데이터프레임 열 이름이고, 두번째 레벨은 변환하는 함수의 이름\n",
        "print(adf.transform([np.abs, lambda x: x+1])), print('='*70)\n",
        "\n",
        "# 복수의 함수를 시리즈로 입력하면 데이터프레임을 반환\n",
        "print(adf.A.transform([np.abs, lambda x: x+1])), print('='*40)\n",
        "\n",
        "# 함수들로 이루어진 딕셔너리를 전달하면 각 열마다 연산을 적용\n",
        "print(adf.transform({'A': np.abs, 'B': lambda x: x+1})), print('='*40)\n",
        "\n",
        "# 리스트가 있는 딕셔너리를 전달하면 각 열에 함수를 호출하여 연산을 실행하며\n",
        "# 멀티인덱스를 가진 데이터프레임을 생성 (음수에 sqrt적용하면 NaN 출력)\n",
        "print(adf.transform({'A': np.abs, 'B': [lambda x: x+1, 'sqrt']}))"
      ],
      "metadata": {
        "colab": {
          "base_uri": "https://localhost:8080/"
        },
        "id": "lvV86Jm-mJtx",
        "outputId": "d779536d-fd99-4319-9b9b-469133e89077"
      },
      "execution_count": null,
      "outputs": [
        {
          "output_type": "stream",
          "name": "stdout",
          "text": [
            "                   A         B         C\n",
            "2021-07-01  0.772104 -0.197569  0.654297\n",
            "2021-07-02  1.406169 -0.006265  1.427475\n",
            "2021-07-03       NaN       NaN       NaN\n",
            "2021-07-04       NaN       NaN       NaN\n",
            "2021-07-05 -0.219543 -0.049936 -0.741405\n",
            "2021-07-06  0.066093 -1.163254  0.514730\n",
            "========================================\n",
            "                   A                   B                   C          \n",
            "            absolute  <lambda>  absolute  <lambda>  absolute  <lambda>\n",
            "2021-07-01  0.772104  1.772104  0.197569  0.802431  0.654297  1.654297\n",
            "2021-07-02  1.406169  2.406169  0.006265  0.993735  1.427475  2.427475\n",
            "2021-07-03       NaN       NaN       NaN       NaN       NaN       NaN\n",
            "2021-07-04       NaN       NaN       NaN       NaN       NaN       NaN\n",
            "2021-07-05  0.219543  0.780457  0.049936  0.950064  0.741405  0.258595\n",
            "2021-07-06  0.066093  1.066093  1.163254 -0.163254  0.514730  1.514730\n",
            "======================================================================\n",
            "            absolute  <lambda>\n",
            "2021-07-01  0.772104  1.772104\n",
            "2021-07-02  1.406169  2.406169\n",
            "2021-07-03       NaN       NaN\n",
            "2021-07-04       NaN       NaN\n",
            "2021-07-05  0.219543  0.780457\n",
            "2021-07-06  0.066093  1.066093\n",
            "========================================\n",
            "                   A         B\n",
            "2021-07-01  0.772104  0.802431\n",
            "2021-07-02  1.406169  0.993735\n",
            "2021-07-03       NaN       NaN\n",
            "2021-07-04       NaN       NaN\n",
            "2021-07-05  0.219543  0.950064\n",
            "2021-07-06  0.066093 -0.163254\n",
            "========================================\n",
            "                   A         B     \n",
            "            absolute  <lambda> sqrt\n",
            "2021-07-01  0.772104  0.802431  NaN\n",
            "2021-07-02  1.406169  0.993735  NaN\n",
            "2021-07-03       NaN       NaN  NaN\n",
            "2021-07-04       NaN       NaN  NaN\n",
            "2021-07-05  0.219543  0.950064  NaN\n",
            "2021-07-06  0.066093 -0.163254  NaN\n"
          ]
        },
        {
          "output_type": "stream",
          "name": "stderr",
          "text": [
            "/usr/local/lib/python3.11/dist-packages/pandas/core/arraylike.py:399: RuntimeWarning: invalid value encountered in sqrt\n",
            "  result = getattr(ufunc, method)(*inputs, **kwargs)\n"
          ]
        }
      ]
    },
    {
      "cell_type": "code",
      "source": [
        "# 함수 적용\n",
        "\n",
        "# 4. 요소 단위 함수 적용\n",
        "\n",
        "# 데이터프레임 df에 lambda 함수를 적용하거나 제곱 연산을 실행한 예제\n",
        "print(df.applymap(lambda x: x**2)), print('-'*30)\n",
        "print(df**2), print('='*30)\n",
        "\n",
        "\n",
        "s1 = pd.Series(['cat', 'dog', np.nan, 'rabbit'])\n",
        "print(s1), print('-'*30)\n",
        "\n",
        "# 인수가 딕셔너리형일 때, 딕셔너리 내에 키로써 존재하지 않는 시리즈 값들은 NaN으로 반환\n",
        "# map( ) 메소드는 딕셔너리, 시리즈, 사용자 정의 함수를 인수로 가질 수 있음\n",
        "result = s1.map({'cat': 'kitten', 'dog': 'puppy'})\n",
        "print(result), print('-'*30)\n",
        "print(s1.map('I am a {}'.format)), print('-'*30)\n",
        "\n",
        "print(s1.map('I am a {}'.format, na_action='ignore'))"
      ],
      "metadata": {
        "colab": {
          "base_uri": "https://localhost:8080/"
        },
        "id": "baO0S1kBvPKI",
        "outputId": "83cfcd25-d0d3-4c9b-c15c-fc6d32b9fff8"
      },
      "execution_count": null,
      "outputs": [
        {
          "output_type": "stream",
          "name": "stdout",
          "text": [
            "       0      1\n",
            "0  1.000  2.120\n",
            "1  3.356  4.567\n",
            "------------------------------\n",
            "       0      1\n",
            "0  1.000  2.120\n",
            "1  3.356  4.567\n",
            "   0  1\n",
            "0  3  4\n",
            "1  5  5\n",
            "------------------------------\n",
            "           0          1\n",
            "0   1.000000   4.494400\n",
            "1  11.262736  20.857489\n",
            "------------------------------\n",
            "           0          1\n",
            "0   1.000000   4.494400\n",
            "1  11.262736  20.857489\n",
            "==============================\n",
            "0       cat\n",
            "1       dog\n",
            "2       NaN\n",
            "3    rabbit\n",
            "dtype: object\n",
            "------------------------------\n",
            "0    kitten\n",
            "1     puppy\n",
            "2       NaN\n",
            "3       NaN\n",
            "dtype: object\n",
            "------------------------------\n",
            "0       I am a cat\n",
            "1       I am a dog\n",
            "2       I am a nan\n",
            "3    I am a rabbit\n",
            "dtype: object\n",
            "------------------------------\n",
            "0       I am a cat\n",
            "1       I am a dog\n",
            "2              NaN\n",
            "3    I am a rabbit\n",
            "dtype: object\n"
          ]
        },
        {
          "output_type": "stream",
          "name": "stderr",
          "text": [
            "<ipython-input-18-d972b08495cc>:10: FutureWarning: DataFrame.applymap has been deprecated. Use DataFrame.map instead.\n",
            "  print(df.applymap(lambda x: len(str(x)))), print('-'*30)\n",
            "<ipython-input-18-d972b08495cc>:13: FutureWarning: DataFrame.applymap has been deprecated. Use DataFrame.map instead.\n",
            "  print(df.applymap(lambda x: x**2)), print('-'*30)\n"
          ]
        }
      ]
    },
    {
      "cell_type": "code",
      "source": [
        "# FutureWarning: DataFrame.applymap has been deprecated. Use DataFrame.map instead.\n",
        "\n",
        "# 최근에는 map()함수가 applymap()함수의 기능을 겸함\n",
        "\n",
        "df1 = pd.DataFrame([[1, 2.12], [3.356, 4.567]])\n",
        "print(df1), print('='*30)\n",
        "\n",
        "# 데이터프레임 df에 lambda 함수를 적용하거나 제곱 연산을 실행한 예제\n",
        "print(df1.applymap(lambda x: x**2)), print('='*30)\n",
        "print(df1.map(lambda x: x**2))"
      ],
      "metadata": {
        "colab": {
          "base_uri": "https://localhost:8080/"
        },
        "id": "9Iy_3nBTyNKK",
        "outputId": "6c817587-81f9-4bb9-8cd0-4680bb280c67"
      },
      "execution_count": null,
      "outputs": [
        {
          "output_type": "stream",
          "name": "stdout",
          "text": [
            "       0      1\n",
            "0  1.000  2.120\n",
            "1  3.356  4.567\n",
            "==============================\n",
            "           0          1\n",
            "0   1.000000   4.494400\n",
            "1  11.262736  20.857489\n",
            "==============================\n",
            "           0          1\n",
            "0   1.000000   4.494400\n",
            "1  11.262736  20.857489\n"
          ]
        },
        {
          "output_type": "stream",
          "name": "stderr",
          "text": [
            "<ipython-input-20-d2b680f087ea>:9: FutureWarning: DataFrame.applymap has been deprecated. Use DataFrame.map instead.\n",
            "  print(df1.applymap(lambda x: x**2)), print('='*30)\n"
          ]
        }
      ]
    },
    {
      "cell_type": "code",
      "source": [
        "# 3. 데이터 처리\n",
        "\n",
        "# 데이터 선택: 1. 라벨로 데이터 선택 (.loc)\n",
        "df1 = pd.DataFrame(np.random.randn(5, 4), columns=list('ABCD'),\n",
        "index=pd.date_range('20210701', periods=5))\n",
        "print(df1), print('='*50)\n",
        "\n",
        "print(df1.loc['20210702':'20210703'])"
      ],
      "metadata": {
        "colab": {
          "base_uri": "https://localhost:8080/"
        },
        "id": "Zlz5XTo1h-o-",
        "outputId": "33b8b632-b980-4064-81bd-3519f3c73175"
      },
      "execution_count": null,
      "outputs": [
        {
          "output_type": "stream",
          "name": "stdout",
          "text": [
            "                   A         B         C         D\n",
            "2021-07-01 -0.235171 -0.598080  0.339699 -0.695867\n",
            "2021-07-02  1.248476  0.884360 -2.005549 -0.483929\n",
            "2021-07-03 -0.792522 -0.167767  0.126749  0.107258\n",
            "2021-07-04 -0.503368  0.543597  0.711808  0.914394\n",
            "2021-07-05  0.801306 -0.351158 -0.358795 -0.207540\n",
            "==================================================\n",
            "                   A         B         C         D\n",
            "2021-07-02  1.248476  0.884360 -2.005549 -0.483929\n",
            "2021-07-03 -0.792522 -0.167767  0.126749  0.107258\n"
          ]
        }
      ]
    },
    {
      "cell_type": "code",
      "source": [
        "# 3. 데이터 처리\n",
        "\n",
        "# 데이터 선택: 1. 라벨로 데이터 선택 (.loc)\n",
        "ser1 = pd.Series(np.random.randn(4), index=list('abcd'))\n",
        "print(ser1), print('-'*30)\n",
        "\n",
        "print(ser1.loc['c':]), print('-'*30)  ###\n",
        "\n",
        "print(ser1.loc['b']), print('-'*30)\n",
        "\n",
        "# 시리즈 객체에 동적할당\n",
        "ser1.loc['c':] = 0\n",
        "print(ser1)"
      ],
      "metadata": {
        "colab": {
          "base_uri": "https://localhost:8080/"
        },
        "id": "D0BV_U_el6Kq",
        "outputId": "d3c2f93d-81a8-4721-bf01-4ed94704b53c"
      },
      "execution_count": null,
      "outputs": [
        {
          "output_type": "stream",
          "name": "stdout",
          "text": [
            "a    0.478186\n",
            "b    2.530093\n",
            "c   -0.829002\n",
            "d    1.428844\n",
            "dtype: float64\n",
            "------------------------------\n",
            "c   -0.829002\n",
            "d    1.428844\n",
            "dtype: float64\n",
            "------------------------------\n",
            "2.530092500286559\n",
            "------------------------------\n",
            "a    0.478186\n",
            "b    2.530093\n",
            "c    0.000000\n",
            "d    0.000000\n",
            "dtype: float64\n"
          ]
        }
      ]
    },
    {
      "cell_type": "code",
      "source": [
        "# 3. 데이터 처리\n",
        "\n",
        "# 데이터 선택: 1. 라벨로 데이터 선택 (.loc) ###\n",
        "df1 = pd.DataFrame(np.random.randn(5, 4), index=list('abcde'), columns=list('ABCD'))\n",
        "print(df1), print('='*50)\n",
        "\n",
        "print(df1.loc[['a', 'b', 'd'], :]), print('='*50)\n",
        "#print(df1.loc[['a', 'b', 'd']]), print('='*50) # 같은 결과를 만듦\n",
        "\n",
        "print(df1.loc['c':, 'A':'C']), print('='*50)\n",
        "\n",
        "print(df1.loc['a'])"
      ],
      "metadata": {
        "colab": {
          "base_uri": "https://localhost:8080/"
        },
        "id": "5wpbCl-lnufQ",
        "outputId": "c580814f-4404-476a-8ee1-d1bb1e69fbe5"
      },
      "execution_count": null,
      "outputs": [
        {
          "output_type": "stream",
          "name": "stdout",
          "text": [
            "          A         B         C         D\n",
            "a -0.192857 -0.470817  1.976665 -1.091990\n",
            "b  1.975813 -0.146923  0.260850 -1.144161\n",
            "c  0.339173 -0.594188  0.345793 -0.233776\n",
            "d -0.375220 -0.697178  0.079878  0.018531\n",
            "e  0.033227 -0.499076 -0.216982 -0.315706\n",
            "==================================================\n",
            "          A         B         C         D\n",
            "a -0.192857 -0.470817  1.976665 -1.091990\n",
            "b  1.975813 -0.146923  0.260850 -1.144161\n",
            "d -0.375220 -0.697178  0.079878  0.018531\n",
            "==================================================\n",
            "          A         B         C\n",
            "c  0.339173 -0.594188  0.345793\n",
            "d -0.375220 -0.697178  0.079878\n",
            "e  0.033227 -0.499076 -0.216982\n",
            "==================================================\n",
            "A   -0.192857\n",
            "B   -0.470817\n",
            "C    1.976665\n",
            "D   -1.091990\n",
            "Name: a, dtype: float64\n"
          ]
        }
      ]
    },
    {
      "cell_type": "code",
      "source": [
        "# 3. 데이터 처리\n",
        "\n",
        "# 데이터 선택: 1. 라벨로 데이터 선택 (.loc) ###\n",
        "\n",
        "# 인덱스가 정렬되어 있지 Series 생성\n",
        "ser = pd.Series(list('abcde'), index=[0, 3, 2, 5, 4])\n",
        "print(ser), print('-'*30)\n",
        "\n",
        "# 인덱스 레이블이 3부터 5사이의 값(5포함)을 갖는 요소들을 선택\n",
        "print(ser.loc[3:5]), print('-'*30)\n",
        "print(ser.loc[2:3]), print('-'*30)\n",
        "\n",
        "#print(ser.loc[1:6]), print('-'*30) # 에러 발생: 라벨 1과 6이이 없어서\n",
        "\n",
        "# sort_index(): 인덱스 레이블을 오름차순(default)으로 정렬된 새로운 Series를 반환\n",
        "print(ser.sort_index()), print('-'*30)\n",
        "\n",
        "# 정렬된 인덱스 중에서 1과 6은 없지만, 슬라이싱은 존재하는 레이블을 기준으로 작동\n",
        "print(ser.sort_index().loc[1:6]), print('-'*30)\n",
        "\n",
        "# 인덱스 레이블을 내림차순으로 정렬된 새로운 Series를 반환\n",
        "print(ser.sort_index(ascending=False)), print('-'*30)\n",
        "print(ser.sort_index(ascending=False).loc[1:6])"
      ],
      "metadata": {
        "colab": {
          "base_uri": "https://localhost:8080/"
        },
        "id": "ZZmIJFA3oTEb",
        "outputId": "46225bef-a9f8-4489-a3ca-aa9b3abfdb48"
      },
      "execution_count": null,
      "outputs": [
        {
          "output_type": "stream",
          "name": "stdout",
          "text": [
            "0    a\n",
            "3    b\n",
            "2    c\n",
            "5    d\n",
            "4    e\n",
            "dtype: object\n",
            "------------------------------\n",
            "3    b\n",
            "2    c\n",
            "5    d\n",
            "dtype: object\n",
            "------------------------------\n",
            "Series([], dtype: object)\n",
            "------------------------------\n",
            "0    a\n",
            "2    c\n",
            "3    b\n",
            "4    e\n",
            "5    d\n",
            "dtype: object\n",
            "------------------------------\n",
            "2    c\n",
            "3    b\n",
            "4    e\n",
            "5    d\n",
            "dtype: object\n",
            "------------------------------\n",
            "5    d\n",
            "4    e\n",
            "3    b\n",
            "2    c\n",
            "0    a\n",
            "dtype: object\n",
            "------------------------------\n",
            "Series([], dtype: object)\n"
          ]
        }
      ]
    },
    {
      "cell_type": "code",
      "source": [
        "# 3. 데이터 처리\n",
        "\n",
        "# 데이터 선택: 1. 라벨로 데이터 선택 (.loc) ###\n",
        "df = pd.DataFrame(np.random.randn(3, 4), columns=['D', 'A', 'C', 'B'])\n",
        "print(df), print('='*50)\n",
        "\n",
        "\n",
        "# 열 이름을 기준으로 오름차순 정렬\n",
        "df_sorted_columns_asc = df.sort_index(axis=1)\n",
        "print(\"열 이름 기준 오름차순 정렬:\\n\", df_sorted_columns_asc), print('='*50)\n",
        "\n",
        "# 열 이름을 기준으로 내림차순 정렬\n",
        "df_sorted_columns_desc = df.sort_index(axis=1, ascending=False)\n",
        "print(\"열 이름 기준 내림차순 정렬:\\n\", df_sorted_columns_desc)"
      ],
      "metadata": {
        "colab": {
          "base_uri": "https://localhost:8080/"
        },
        "id": "TW070_h6tJFS",
        "outputId": "2f862de7-2a01-4878-c6fc-81216babe1d6"
      },
      "execution_count": null,
      "outputs": [
        {
          "output_type": "stream",
          "name": "stdout",
          "text": [
            "          D         A         C         B\n",
            "0  0.094547  0.474441 -0.018056 -0.111837\n",
            "1 -2.099567 -0.522914 -0.648402 -0.722722\n",
            "2  0.866296  0.295099 -2.109674 -1.611819\n",
            "==================================================\n",
            "열 이름 기준 오름차순 정렬:\n",
            "           A         B         C         D\n",
            "0  0.474441 -0.111837 -0.018056  0.094547\n",
            "1 -0.522914 -0.722722 -0.648402 -2.099567\n",
            "2  0.295099 -1.611819 -2.109674  0.866296\n",
            "==================================================\n",
            "열 이름 기준 내림차순 정렬:\n",
            "           D         C         B         A\n",
            "0  0.094547 -0.018056 -0.111837  0.474441\n",
            "1 -2.099567 -0.648402 -0.722722 -0.522914\n",
            "2  0.866296 -2.109674 -1.611819  0.295099\n"
          ]
        }
      ]
    },
    {
      "cell_type": "code",
      "source": [
        "# 3. 데이터 처리\n",
        "\n",
        "# 데이터 선택: 2. 위치로 데이터 선택 (.iloc)\n",
        "ser1 = pd.Series(np.random.randn(5), index=list(range(0, 10, 2)))\n",
        "print(ser1), print('-'*30)\n",
        "\n",
        "print(ser1.iloc[:3]), print('-'*30)\n",
        "\n",
        "print(ser1.iloc[3])"
      ],
      "metadata": {
        "colab": {
          "base_uri": "https://localhost:8080/"
        },
        "id": "EnKweTDovCRr",
        "outputId": "857ad014-4422-4462-f2a6-2b17a3e52490"
      },
      "execution_count": null,
      "outputs": [
        {
          "output_type": "stream",
          "name": "stdout",
          "text": [
            "0   -2.112487\n",
            "2   -2.098365\n",
            "4    2.197695\n",
            "6   -0.866636\n",
            "8   -0.391818\n",
            "dtype: float64\n",
            "------------------------------\n",
            "0   -2.112487\n",
            "2   -2.098365\n",
            "4    2.197695\n",
            "dtype: float64\n",
            "------------------------------\n",
            "-0.8666361064046363\n",
            "------------------------------\n"
          ]
        },
        {
          "output_type": "execute_result",
          "data": {
            "text/plain": [
              "(None, None)"
            ]
          },
          "metadata": {},
          "execution_count": 26
        }
      ]
    },
    {
      "cell_type": "code",
      "source": [
        "# 3. 데이터 처리\n",
        "\n",
        "# 데이터 선택: 2. 위치로 데이터 선택 (.iloc)\n",
        "df1 = pd.DataFrame( np.random.randn(5, 4), index=list(range(0, 10, 2)), columns=list(range(0, 8, 2)))\n",
        "print(df1), print('='*50)\n",
        "\n",
        "print(df1.iloc[:2]), print('='*50)\n",
        "\n",
        "print(df1.iloc[1:3, 0:3]), print('='*50)\n",
        "\n",
        "print(df1.iloc[[0, 2, 3], [1, 3]]), print('='*50)\n",
        "\n",
        "print(df1.iloc[1])"
      ],
      "metadata": {
        "colab": {
          "base_uri": "https://localhost:8080/"
        },
        "id": "9YFMhZrTvXIf",
        "outputId": "b922739c-6333-416f-e60b-d01c488153a1"
      },
      "execution_count": null,
      "outputs": [
        {
          "output_type": "stream",
          "name": "stdout",
          "text": [
            "          0         2         4         6\n",
            "0 -1.910830  0.842011  0.170975 -1.428571\n",
            "2  0.772548  1.039879  0.042004 -1.190900\n",
            "4  0.885613 -0.725073 -0.868190  1.029059\n",
            "6  0.088641 -0.813369 -1.074061  0.602078\n",
            "8 -0.266482  0.508120  0.050744  0.259292\n",
            "==================================================\n",
            "          0         2         4         6\n",
            "0 -1.910830  0.842011  0.170975 -1.428571\n",
            "2  0.772548  1.039879  0.042004 -1.190900\n",
            "==================================================\n",
            "          0         2         4\n",
            "2  0.772548  1.039879  0.042004\n",
            "4  0.885613 -0.725073 -0.868190\n",
            "==================================================\n",
            "          2         6\n",
            "0  0.842011 -1.428571\n",
            "4 -0.725073  1.029059\n",
            "6 -0.813369  0.602078\n",
            "==================================================\n",
            "0    0.772548\n",
            "2    1.039879\n",
            "4    0.042004\n",
            "6   -1.190900\n",
            "Name: 2, dtype: float64\n"
          ]
        }
      ]
    },
    {
      "cell_type": "code",
      "source": [
        "# 3. 데이터 처리\n",
        "\n",
        "# 데이터 선택: 3. 호출로 데이터 선택\n",
        "df1 = pd.DataFrame(np.random.randn(5, 4), index=list('abcde'), columns=list('ABCD'))\n",
        "print(df1), print('='*50)\n",
        "\n",
        "print(df1.loc[lambda df: df.A>0, :]), print('='*50)\n",
        "#print(df1.loc[lambda df: df.A>0]), print('='*50) # 위와 같은 결과\n",
        "\n",
        "print(df1.loc[:, lambda df: ['A', 'B']]), print('='*50)\n",
        "\n",
        "print(df1.iloc[:, lambda df: [0, 1]]), print('='*50)\n",
        "\n",
        "print(df1[lambda df: df.columns[0]]), print('='*50)\n",
        "\n",
        "print(df1.A.loc[lambda ser: ser > 0])"
      ],
      "metadata": {
        "colab": {
          "base_uri": "https://localhost:8080/"
        },
        "id": "Bd9ePD4StMYq",
        "outputId": "d9b99cf1-0f8a-43c4-fc3f-122240c6b654"
      },
      "execution_count": null,
      "outputs": [
        {
          "output_type": "stream",
          "name": "stdout",
          "text": [
            "          A         B         C         D\n",
            "a -1.058404 -0.432219 -0.430031 -0.800542\n",
            "b  1.397816 -0.208975  0.146818  0.598320\n",
            "c  1.435913 -0.549842  1.392211 -0.463083\n",
            "d  0.294567 -0.639996 -0.908162  1.204938\n",
            "e  0.262261  1.057673  1.010982  0.287572\n",
            "==================================================\n",
            "          A         B         C         D\n",
            "b  1.397816 -0.208975  0.146818  0.598320\n",
            "c  1.435913 -0.549842  1.392211 -0.463083\n",
            "d  0.294567 -0.639996 -0.908162  1.204938\n",
            "e  0.262261  1.057673  1.010982  0.287572\n",
            "==================================================\n",
            "          A         B\n",
            "a -1.058404 -0.432219\n",
            "b  1.397816 -0.208975\n",
            "c  1.435913 -0.549842\n",
            "d  0.294567 -0.639996\n",
            "e  0.262261  1.057673\n",
            "==================================================\n",
            "          A         B\n",
            "a -1.058404 -0.432219\n",
            "b  1.397816 -0.208975\n",
            "c  1.435913 -0.549842\n",
            "d  0.294567 -0.639996\n",
            "e  0.262261  1.057673\n",
            "==================================================\n",
            "a   -1.058404\n",
            "b    1.397816\n",
            "c    1.435913\n",
            "d    0.294567\n",
            "e    0.262261\n",
            "Name: A, dtype: float64\n",
            "==================================================\n",
            "b    1.397816\n",
            "c    1.435913\n",
            "d    0.294567\n",
            "e    0.262261\n",
            "Name: A, dtype: float64\n"
          ]
        }
      ]
    },
    {
      "cell_type": "code",
      "source": [
        "# 3. 데이터 처리\n",
        "\n",
        "# 데이터 설정과 검색: 1. 데이터 확장 및 변경\n",
        "ser = pd.Series(np.arange(3))\n",
        "print(ser), print('='*20)\n",
        "\n",
        "ser[5] = 7\n",
        "print(ser), print('='*20)\n",
        "\n",
        "\n",
        "df = pd.DataFrame(np.arange(9).reshape(3, 3), columns=['A', 'B', 'C'])\n",
        "print(df), print('='*20)\n",
        "\n",
        "df.loc[:, 'D'] = df.loc[:, 'A']\n",
        "print(df), print('='*20)\n",
        "\n",
        "df.loc[3] = 7\n",
        "print(df), print('='*20)\n",
        "\n",
        "# at, iat 메소드\n",
        "print(ser.iat[3]), print('='*20)\n",
        "print(ser.at[5]), print('='*20)\n",
        "df.at[3, 'E'] = 7\n",
        "df.iat[3, 0] = 2\n",
        "print(df)"
      ],
      "metadata": {
        "colab": {
          "base_uri": "https://localhost:8080/"
        },
        "id": "p4M8UOKnwuH_",
        "outputId": "b74943c3-cf39-4dc7-fcf9-dd04df86cae9"
      },
      "execution_count": null,
      "outputs": [
        {
          "output_type": "stream",
          "name": "stdout",
          "text": [
            "0    0\n",
            "1    1\n",
            "2    2\n",
            "dtype: int64\n",
            "====================\n",
            "0    0\n",
            "1    1\n",
            "2    2\n",
            "5    7\n",
            "dtype: int64\n",
            "====================\n",
            "   A  B  C\n",
            "0  0  1  2\n",
            "1  3  4  5\n",
            "2  6  7  8\n",
            "====================\n",
            "   A  B  C  D\n",
            "0  0  1  2  0\n",
            "1  3  4  5  3\n",
            "2  6  7  8  6\n",
            "====================\n",
            "   A  B  C  D\n",
            "0  0  1  2  0\n",
            "1  3  4  5  3\n",
            "2  6  7  8  6\n",
            "3  7  7  7  7\n",
            "====================\n",
            "7\n",
            "====================\n",
            "7\n",
            "====================\n",
            "   A  B  C  D    E\n",
            "0  0  1  2  0  NaN\n",
            "1  3  4  5  3  NaN\n",
            "2  6  7  8  6  NaN\n",
            "3  2  7  7  7  7.0\n"
          ]
        }
      ]
    },
    {
      "cell_type": "code",
      "source": [
        "# 3. 데이터 처리\n",
        "\n",
        "# 데이터 설정과 검색: 2. 불리언 벡터로 데이터 필터링\n",
        "ser = pd.Series(range(-3, 3))\n",
        "print(ser), print('='*20)\n",
        "\n",
        "print(ser[ser > 0]), print('='*20)\n",
        "\n",
        "print(ser[(ser < -1) | (ser > 1)]), print('='*20)\n",
        "\n",
        "print(ser[~(ser < 2)])"
      ],
      "metadata": {
        "colab": {
          "base_uri": "https://localhost:8080/"
        },
        "id": "vDcIJedB1TBD",
        "outputId": "bb2fdfce-1ab3-4a14-b920-d14d9a8d226a"
      },
      "execution_count": null,
      "outputs": [
        {
          "output_type": "stream",
          "name": "stdout",
          "text": [
            "0   -3\n",
            "1   -2\n",
            "2   -1\n",
            "3    0\n",
            "4    1\n",
            "5    2\n",
            "dtype: int64\n",
            "====================\n",
            "4    1\n",
            "5    2\n",
            "dtype: int64\n",
            "====================\n",
            "0   -3\n",
            "1   -2\n",
            "5    2\n",
            "dtype: int64\n",
            "====================\n",
            "5    2\n",
            "dtype: int64\n"
          ]
        }
      ]
    },
    {
      "cell_type": "code",
      "source": [
        "# 3. 데이터 처리\n",
        "\n",
        "# 데이터 설정과 검색: 2. 불리언 벡터로 데이터 필터링\n",
        "ser = pd.Series(range(-3, 3))\n",
        "print(ser), print('='*20)\n",
        "\n",
        "# isin 메소드\n",
        "print(ser[::-1].isin([-3, -1, 2])), print('='*20)\n",
        "\n",
        "print(ser[ser[::-1].isin([-3, -1, 2])]), print('='*20)\n",
        "\n",
        "print(ser.index.isin([2, 4, 6])), print('='*20)\n",
        "\n",
        "print(ser[ser.index.isin([2, 4, 6])]), print('='*40)\n",
        "\n",
        "\n",
        "df = pd.DataFrame(np.arange(9).reshape(3, 3), columns=['A', 'B', 'C'])\n",
        "print(df), print('='*20)\n",
        "\n",
        "print(df[df['A'] < 3])"
      ],
      "metadata": {
        "colab": {
          "base_uri": "https://localhost:8080/"
        },
        "id": "0sAAkVALnLvK",
        "outputId": "f8496938-b13e-4c5e-e008-795e8d793da6"
      },
      "execution_count": null,
      "outputs": [
        {
          "output_type": "stream",
          "name": "stdout",
          "text": [
            "0   -3\n",
            "1   -2\n",
            "2   -1\n",
            "3    0\n",
            "4    1\n",
            "5    2\n",
            "dtype: int64\n",
            "====================\n",
            "5     True\n",
            "4    False\n",
            "3    False\n",
            "2     True\n",
            "1    False\n",
            "0     True\n",
            "dtype: bool\n",
            "====================\n",
            "0   -3\n",
            "2   -1\n",
            "5    2\n",
            "dtype: int64\n",
            "====================\n",
            "[False False  True False  True False]\n",
            "====================\n",
            "2   -1\n",
            "4    1\n",
            "dtype: int64\n",
            "========================================\n",
            "   A  B  C\n",
            "0  0  1  2\n",
            "1  3  4  5\n",
            "2  6  7  8\n",
            "====================\n",
            "   A  B  C\n",
            "0  0  1  2\n"
          ]
        }
      ]
    },
    {
      "cell_type": "code",
      "source": [
        "# 3. 데이터 처리\n",
        "\n",
        "# 데이터 설정과 검색: 2. 불리언 벡터로 데이터 필터링\n",
        "df = pd.DataFrame({'no': [1, 2, 3], 'ha': ['a', 'b', 'c'], 'hi': ['m', 'n', 'o']})\n",
        "print(df), print('='*50)\n",
        "\n",
        "val = ['a', 'n', 1, 3]\n",
        "print(df.isin(val)), print('='*50)\n",
        "\n",
        "val = {'ha': ['a', 'c'], 'no': [1, 2]}\n",
        "print(df.isin(val)), print('='*50)\n",
        "\n",
        "val = {'ha': ['a', 'c'], 'hi': ['m', 'o'], 'no': [1, 2]}\n",
        "print(df.isin(val)), print('='*50)\n",
        "\n",
        "mask = df.isin(val).all(1)  # 모두가 True인 것만 True\n",
        "print(df[mask])"
      ],
      "metadata": {
        "colab": {
          "base_uri": "https://localhost:8080/"
        },
        "id": "d7nOtISz2wEK",
        "outputId": "266cf3ea-284d-4ef3-f255-6f51a489c2e3"
      },
      "execution_count": null,
      "outputs": [
        {
          "output_type": "stream",
          "name": "stdout",
          "text": [
            "   no ha hi\n",
            "0   1  a  m\n",
            "1   2  b  n\n",
            "2   3  c  o\n",
            "==================================================\n",
            "      no     ha     hi\n",
            "0   True   True  False\n",
            "1  False  False   True\n",
            "2   True  False  False\n",
            "==================================================\n",
            "      no     ha     hi\n",
            "0   True   True  False\n",
            "1   True  False  False\n",
            "2  False   True  False\n",
            "==================================================\n",
            "      no     ha     hi\n",
            "0   True   True   True\n",
            "1   True  False  False\n",
            "2  False   True   True\n",
            "==================================================\n",
            "   no ha hi\n",
            "0   1  a  m\n"
          ]
        }
      ]
    },
    {
      "cell_type": "code",
      "source": [
        "# 3. 데이터 처리\n",
        "\n",
        "# 데이터 설정과 검색: 3. take 메소드로 검색\n",
        "\n",
        "index = pd.Index(np.random.randint(0, 1000, 6))\n",
        "print(index), print('='*50)\n",
        "\n",
        "positions = [0, 2, 5]\n",
        "print(index[positions]), print('='*50)\n",
        "\n",
        "print(index.take(positions)), print('='*50)\n",
        "\n",
        "\n",
        "ser = pd.Series(np.random.randn(10))\n",
        "print(ser.iloc[positions]), print('='*50)\n",
        "\n",
        "print(ser.take(positions)), print('='*50)\n",
        "\n",
        "\n",
        "df = pd.DataFrame(np.random.randn(5, 3))\n",
        "print(df.take([1, 4, 3])), print('='*50)\n",
        "\n",
        "print(df.take([0, 2], axis=1))\n"
      ],
      "metadata": {
        "colab": {
          "base_uri": "https://localhost:8080/"
        },
        "id": "7HZEbBvXBGEz",
        "outputId": "2f2baf59-9d7e-45b2-afc2-b443b7ff45b1"
      },
      "execution_count": null,
      "outputs": [
        {
          "output_type": "stream",
          "name": "stdout",
          "text": [
            "Index([628, 131, 102, 173, 713, 723], dtype='int64')\n",
            "==================================================\n",
            "Index([628, 102, 723], dtype='int64')\n",
            "==================================================\n",
            "Index([628, 102, 723], dtype='int64')\n",
            "==================================================\n",
            "0   -1.198533\n",
            "2    0.022278\n",
            "5   -1.002791\n",
            "dtype: float64\n",
            "==================================================\n",
            "0   -1.198533\n",
            "2    0.022278\n",
            "5   -1.002791\n",
            "dtype: float64\n",
            "==================================================\n",
            "          0         1         2\n",
            "1 -0.962585 -0.072540 -1.994170\n",
            "4 -0.961239 -1.734835  1.826933\n",
            "3  0.208758 -0.393414  1.361795\n",
            "==================================================\n",
            "          0         2\n",
            "0 -0.046307  0.627359\n",
            "1 -0.962585 -1.994170\n",
            "2 -0.121522  0.635596\n",
            "3  0.208758  1.361795\n",
            "4 -0.961239  1.826933\n"
          ]
        }
      ]
    },
    {
      "cell_type": "code",
      "source": [
        "# 3. 데이터 처리\n",
        "\n",
        "# 손실 데이터 처리\n",
        "d = {'one': [1.5, 2.2, -3.0], 'two': [1.0, -1.2, 5.0], 'three': [-1.1, 2.0, 4.0]}\n",
        "df = pd.DataFrame(d, index = ['a', 'c', 'f'])\n",
        "df['four'] = 'ha'\n",
        "df['five'] = df['one'] > 0\n",
        "print(df), print('='*30)\n",
        "\n",
        "df1 = df.reindex(['a', 'b', 'c', 'd', 'e', 'f'])\n",
        "print(df1), print('='*30)\n",
        "\n",
        "print(df1['one']), print('='*30)\n",
        "\n",
        "print(pd.isna(df1['one'])), print('='*30)\n",
        "\n",
        "print(df1['four'].notna()), print('='*30)\n",
        "\n",
        "print(None == None) # None은 파이썬 내장 상수로 하나만 존재함\n",
        "\n",
        "print(np.nan == np.nan) # NaN는 그 어떤 값과도 같지 않도록 정의됨"
      ],
      "metadata": {
        "colab": {
          "base_uri": "https://localhost:8080/"
        },
        "id": "PAfrOGtPEVNz",
        "outputId": "cd91b514-ce2f-494b-b99f-f5f1664c495a"
      },
      "execution_count": null,
      "outputs": [
        {
          "output_type": "stream",
          "name": "stdout",
          "text": [
            "   one  two  three four   five\n",
            "a  1.5  1.0   -1.1   ha   True\n",
            "c  2.2 -1.2    2.0   ha   True\n",
            "f -3.0  5.0    4.0   ha  False\n",
            "==============================\n",
            "   one  two  three four   five\n",
            "a  1.5  1.0   -1.1   ha   True\n",
            "b  NaN  NaN    NaN  NaN    NaN\n",
            "c  2.2 -1.2    2.0   ha   True\n",
            "d  NaN  NaN    NaN  NaN    NaN\n",
            "e  NaN  NaN    NaN  NaN    NaN\n",
            "f -3.0  5.0    4.0   ha  False\n",
            "==============================\n",
            "a    1.5\n",
            "b    NaN\n",
            "c    2.2\n",
            "d    NaN\n",
            "e    NaN\n",
            "f   -3.0\n",
            "Name: one, dtype: float64\n",
            "==============================\n",
            "a    False\n",
            "b     True\n",
            "c    False\n",
            "d     True\n",
            "e     True\n",
            "f    False\n",
            "Name: one, dtype: bool\n",
            "==============================\n",
            "a     True\n",
            "b    False\n",
            "c     True\n",
            "d    False\n",
            "e    False\n",
            "f     True\n",
            "Name: four, dtype: bool\n",
            "==============================\n",
            "True\n",
            "False\n"
          ]
        }
      ]
    },
    {
      "cell_type": "code",
      "source": [
        "# 3. 데이터 처리\n",
        "\n",
        "# 손실 데이터 처리: reindexed (1)\n",
        "df = pd.DataFrame({'col1': [1, 2], 'col2': [3, 4]}, index=['row1', 'row2'])\n",
        "print(\"원본 DataFrame: \\n\", df), print('='*50)\n",
        "\n",
        "# 새로운 인덱스 및 컬럼으로 재인덱싱\n",
        "new_index = ['row1', 'row3', 'row2', 'row4']\n",
        "new_columns = ['col2', 'col3', 'col1']\n",
        "df2 = df.reindex(index=new_index, columns=new_columns)\n",
        "print(\"\\n새로운 인덱스 및 컬럼으로 재인덱싱: \\n\", df2), print('='*50)\n",
        "\n",
        "# fill_value로 누락된 값 채우기\n",
        "df2_filled = df2.reindex(index=new_index, columns=new_columns, fill_value=1e6)\n",
        "print(\"\\nfill_value로 채우기: \\n\", df2_filled)"
      ],
      "metadata": {
        "colab": {
          "base_uri": "https://localhost:8080/"
        },
        "id": "mFb63MK4HwSS",
        "outputId": "4a338a43-db1a-4e16-848b-6479af8c7bf8"
      },
      "execution_count": null,
      "outputs": [
        {
          "output_type": "stream",
          "name": "stdout",
          "text": [
            "원본 DataFrame: \n",
            "       col1  col2\n",
            "row1     1     3\n",
            "row2     2     4\n",
            "==================================================\n",
            "\n",
            "새로운 인덱스 및 컬럼으로 재인덱싱: \n",
            "       col2  col3  col1\n",
            "row1   3.0   NaN   1.0\n",
            "row3   NaN   NaN   NaN\n",
            "row2   4.0   NaN   2.0\n",
            "row4   NaN   NaN   NaN\n",
            "==================================================\n",
            "\n",
            "fill_value로 채우기: \n",
            "       col2  col3  col1\n",
            "row1   3.0   NaN   1.0\n",
            "row3   NaN   NaN   NaN\n",
            "row2   4.0   NaN   2.0\n",
            "row4   NaN   NaN   NaN\n"
          ]
        }
      ]
    },
    {
      "cell_type": "code",
      "source": [
        "# 3. 데이터 처리\n",
        "\n",
        "# 손실 데이터 처리: reindexed (2)\n",
        "# 행 방향으로 method='bfill' (backward fill, 다음 유효값) 적용\n",
        "# 참고: method='backfill'과 같음\n",
        "df3 = pd.DataFrame({'price': [10, 11, np.nan, 12]}, index=[1, 2, 3, 4])\n",
        "print(\"\\ndf3: \\n\", df3), print('='*50)\n",
        "\n",
        "df3_bfill = df3.reindex(range(6), method='bfill')\n",
        "print(\"\\n행 방향으로 method='bfill' 적용: \\n\", df3_bfill), print('='*50)\n",
        "\n",
        "# 행 방향으로 method='ffill' (forward fill, 이전 유효값) 적용\n",
        "# 참고: method='pad'와 같음\n",
        "df3_ffill = df3.reindex(range(6), method='ffill')\n",
        "print(\"\\n행 방향으로 method='ffill' 적용: \\n\", df3_ffill)"
      ],
      "metadata": {
        "colab": {
          "base_uri": "https://localhost:8080/"
        },
        "id": "4mFtJjyvrrNP",
        "outputId": "2d1be23a-0c48-475a-b871-9ca5a4c78a21"
      },
      "execution_count": null,
      "outputs": [
        {
          "output_type": "stream",
          "name": "stdout",
          "text": [
            "\n",
            "df3: \n",
            "    price\n",
            "1   10.0\n",
            "2   11.0\n",
            "3    NaN\n",
            "4   12.0\n",
            "==================================================\n",
            "\n",
            "행 방향으로 method='bfill' 적용: \n",
            "    price\n",
            "0   10.0\n",
            "1   10.0\n",
            "2   11.0\n",
            "3    NaN\n",
            "4   12.0\n",
            "5    NaN\n",
            "==================================================\n",
            "\n",
            "행 방향으로 method='ffill' 적용: \n",
            "    price\n",
            "0    NaN\n",
            "1   10.0\n",
            "2   11.0\n",
            "3    NaN\n",
            "4   12.0\n",
            "5   12.0\n"
          ]
        }
      ]
    },
    {
      "cell_type": "code",
      "source": [
        "# 3. 데이터 처리\n",
        "\n",
        "# 손실 데이터 처리: 손실 데이터 계산\n",
        "df1 = pd.DataFrame({'one':[1.0, 2.0, 3.0], 'two':[4.0, 5.0, 6.0]}, index=['a','b','c'])\n",
        "df2 = df1.copy()\n",
        "df2.loc['d'] = np.nan\n",
        "df2['three'] = 2.0\n",
        "df2.iloc[1:2, 1:2] = np.nan\n",
        "\n",
        "print(df1), print('='*50)\n",
        "print(df2), print('='*50)\n",
        "# DataFrame간 산술 연산은 인덱스와 컬럼 레이블을 정렬 후, 대응하는 라벨에 대해 연산\n",
        "print(f'df1 + df2: \\n{df1 + df2}'), print('='*50)\n",
        "\n",
        "# groupby에서 NaN는 자동으로 제외됨\n",
        "# 'two' 컬럼의 값을 기준으로 df2를 그룹화\n",
        "print(df2.groupby('two').mean()), print('='*50)\n",
        "\n",
        "# 값이 비어있거나 모두 NaN인 시리즈의 합은 0이고 곱은 1임\n",
        "print(pd.Series([np.nan]).sum()), print('='*50)\n",
        "print(pd.Series([], dtype=object).sum()), print('='*50)\n",
        "\n",
        "print(pd.Series([np.nan]).prod()), print('='*50)\n",
        "print(pd.Series([], dtype=object).prod())"
      ],
      "metadata": {
        "colab": {
          "base_uri": "https://localhost:8080/"
        },
        "id": "09JGKGc4Mg19",
        "outputId": "c65bb52f-a3d9-4aec-f3a1-6e587019e721"
      },
      "execution_count": null,
      "outputs": [
        {
          "output_type": "stream",
          "name": "stdout",
          "text": [
            "   one  two\n",
            "a  1.0  4.0\n",
            "b  2.0  5.0\n",
            "c  3.0  6.0\n",
            "==================================================\n",
            "   one  two  three\n",
            "a  1.0  4.0    2.0\n",
            "b  2.0  NaN    2.0\n",
            "c  3.0  6.0    2.0\n",
            "d  NaN  NaN    2.0\n",
            "==================================================\n",
            "df1 + df2: \n",
            "   one  three   two\n",
            "a  2.0    NaN   8.0\n",
            "b  4.0    NaN   NaN\n",
            "c  6.0    NaN  12.0\n",
            "d  NaN    NaN   NaN\n",
            "==================================================\n",
            "     one  three\n",
            "two            \n",
            "4.0  1.0    2.0\n",
            "6.0  3.0    2.0\n",
            "==================================================\n",
            "0.0\n",
            "==================================================\n",
            "0\n",
            "==================================================\n",
            "1.0\n",
            "==================================================\n",
            "1\n"
          ]
        }
      ]
    },
    {
      "cell_type": "code",
      "source": [
        "# 3. 데이터 처리\n",
        "\n",
        "# 손실 데이터 처리: 손실 데이터 채우기 (1)\n",
        "df2 = pd.DataFrame({'one':[1.0, 2.0, 3.0], 'two':[4.0, 5.0, 6.0]}, index=['a','b','c'])\n",
        "df2.loc['d'] = np.nan\n",
        "df2['three'] = 2\n",
        "df2.iloc[1:2, 1:2] = np.nan\n",
        "print(df2), print('='*50)\n",
        "\n",
        "print(df2.fillna(0)), print('='*50)\n",
        "\n",
        "print(df2['one'].fillna('missing')), print('='*50)\n",
        "\n",
        "# 'pad'는 'ffill'과 같이 바로 이전의 유효한 값으로 채움\n",
        "print(df2.fillna(method='pad')), print('='*50)  # FutureWarning\n",
        "\n",
        "df2.loc['c', 'three'] = np.nan\n",
        "print(df2), print('='*50)\n",
        "\n",
        "print(df2.mean()), print('='*50)\n",
        "\n",
        "print(df2.fillna(df2.mean()))"
      ],
      "metadata": {
        "colab": {
          "base_uri": "https://localhost:8080/"
        },
        "id": "V5RH2_EFMjfh",
        "outputId": "55872e25-bb87-40ab-bf9c-e8f74621616d"
      },
      "execution_count": null,
      "outputs": [
        {
          "output_type": "stream",
          "name": "stdout",
          "text": [
            "   one  two  three\n",
            "a  1.0  4.0      2\n",
            "b  2.0  NaN      2\n",
            "c  3.0  6.0      2\n",
            "d  NaN  NaN      2\n",
            "==================================================\n",
            "   one  two  three\n",
            "a  1.0  4.0      2\n",
            "b  2.0  0.0      2\n",
            "c  3.0  6.0      2\n",
            "d  0.0  0.0      2\n",
            "==================================================\n",
            "a        1.0\n",
            "b        2.0\n",
            "c        3.0\n",
            "d    missing\n",
            "Name: one, dtype: object\n",
            "==================================================\n",
            "   one  two  three\n",
            "a  1.0  4.0      2\n",
            "b  2.0  4.0      2\n",
            "c  3.0  6.0      2\n",
            "d  3.0  6.0      2\n",
            "==================================================\n",
            "   one  two  three\n",
            "a  1.0  4.0    2.0\n",
            "b  2.0  NaN    2.0\n",
            "c  3.0  6.0    NaN\n",
            "d  NaN  NaN    2.0\n",
            "==================================================\n",
            "one      2.0\n",
            "two      5.0\n",
            "three    2.0\n",
            "dtype: float64\n",
            "==================================================\n",
            "   one  two  three\n",
            "a  1.0  4.0    2.0\n",
            "b  2.0  5.0    2.0\n",
            "c  3.0  6.0    2.0\n",
            "d  2.0  5.0    2.0\n"
          ]
        },
        {
          "output_type": "stream",
          "name": "stderr",
          "text": [
            "<ipython-input-28-759e6e7260ca>:15: FutureWarning: DataFrame.fillna with 'method' is deprecated and will raise in a future version. Use obj.ffill() or obj.bfill() instead.\n",
            "  print(df2.fillna(method='pad')), print('='*50)\n"
          ]
        }
      ]
    },
    {
      "cell_type": "code",
      "source": [
        "# 3. 데이터 처리\n",
        "\n",
        "# 손실 데이터 처리: 손실 데이터 채우기 (2)\n",
        "data=[[np.nan, 2, 0, np.nan], [3, 4, np.nan, 1], [np.nan, 5, np.nan, 2], [np.nan, 1, 2, 3]]\n",
        "df = pd.DataFrame(data, columns=list('ABCD'))\n",
        "print(df), print('='*50)\n",
        "\n",
        "print(df.fillna(method='ffill')), print('='*50) # FutureWarning\n",
        "\n",
        "val = {'A': 0, 'B': 1, 'C': 2, 'D': 3}\n",
        "print(df.fillna(value=val)), print('='*50)\n",
        "\n",
        "# limit=1 파라미터 때문에 각 컬럼별로 최대 1개의 결측치만 채움\n",
        "print(df.fillna(value=val, limit=1))\n"
      ],
      "metadata": {
        "colab": {
          "base_uri": "https://localhost:8080/"
        },
        "id": "T1CodYL2Q0cE",
        "outputId": "567de49b-7193-4f6e-b67f-dd16c02fafcd"
      },
      "execution_count": null,
      "outputs": [
        {
          "output_type": "stream",
          "name": "stdout",
          "text": [
            "     A  B    C    D\n",
            "0  NaN  2  0.0  NaN\n",
            "1  3.0  4  NaN  1.0\n",
            "2  NaN  5  NaN  2.0\n",
            "3  NaN  1  2.0  3.0\n",
            "==================================================\n",
            "     A  B    C    D\n",
            "0  NaN  2  0.0  NaN\n",
            "1  3.0  4  0.0  1.0\n",
            "2  3.0  5  0.0  2.0\n",
            "3  3.0  1  2.0  3.0\n",
            "==================================================\n",
            "     A  B    C    D\n",
            "0  0.0  2  0.0  3.0\n",
            "1  3.0  4  2.0  1.0\n",
            "2  0.0  5  2.0  2.0\n",
            "3  0.0  1  2.0  3.0\n",
            "==================================================\n",
            "     A  B    C    D\n",
            "0  0.0  2  0.0  3.0\n",
            "1  3.0  4  2.0  1.0\n",
            "2  NaN  5  NaN  2.0\n",
            "3  NaN  1  2.0  3.0\n"
          ]
        },
        {
          "output_type": "stream",
          "name": "stderr",
          "text": [
            "<ipython-input-52-1c9676f4307b>:8: FutureWarning: DataFrame.fillna with 'method' is deprecated and will raise in a future version. Use obj.ffill() or obj.bfill() instead.\n",
            "  print(df.fillna(method='ffill')), print('='*50)\n"
          ]
        }
      ]
    },
    {
      "cell_type": "code",
      "source": [
        "# 3. 데이터 처리\n",
        "\n",
        "# 손실 데이터 처리: 손실 데이터 채우기 (3)\n",
        "df2 = pd.DataFrame({'one':[1.0, 2.0, 3.0], 'two':[4.0, 5.0, 6.0]}, index=['a','b','c'])\n",
        "df2.loc['d'] = np.nan\n",
        "df2['three'] = 2.0\n",
        "df2.iloc[1:2, 1:2] = np.nan\n",
        "print(df2), print('='*50)\n",
        "\n",
        "df2.iloc[1:2, 1:2] = 2.0\n",
        "print(df2), print('='*50)\n",
        "\n",
        "print(df2.dropna(axis=0)), print('='*50)\n",
        "\n",
        "print(df2.dropna(axis=1)), print('='*50)\n",
        "\n",
        "print(df2['two'].dropna())"
      ],
      "metadata": {
        "colab": {
          "base_uri": "https://localhost:8080/"
        },
        "id": "zxsm_nVBbFdp",
        "outputId": "b507dc11-7a5a-4650-beed-73e8bdb2ac08"
      },
      "execution_count": null,
      "outputs": [
        {
          "output_type": "stream",
          "name": "stdout",
          "text": [
            "   one  two  three\n",
            "a  1.0  4.0    2.0\n",
            "b  2.0  NaN    2.0\n",
            "c  3.0  6.0    2.0\n",
            "d  NaN  NaN    2.0\n",
            "==================================================\n",
            "   one  two  three\n",
            "a  1.0  4.0    2.0\n",
            "b  2.0  2.0    2.0\n",
            "c  3.0  6.0    2.0\n",
            "d  NaN  NaN    2.0\n",
            "==================================================\n",
            "   one  two  three\n",
            "a  1.0  4.0    2.0\n",
            "b  2.0  2.0    2.0\n",
            "c  3.0  6.0    2.0\n",
            "==================================================\n",
            "   three\n",
            "a    2.0\n",
            "b    2.0\n",
            "c    2.0\n",
            "d    2.0\n",
            "==================================================\n",
            "a    4.0\n",
            "b    2.0\n",
            "c    6.0\n",
            "Name: two, dtype: float64\n"
          ]
        }
      ]
    },
    {
      "cell_type": "code",
      "source": [
        "# 3. 데이터 처리\n",
        "\n",
        "# 손실 데이터 처리: 손실 데이터 채우기 (4)\n",
        "# NaT(Not a Time): 시계열 데이터의 결측치\n",
        "df = pd.DataFrame({ 'name': ['haena', 'suho', 'naeun'],\n",
        "                    'hobby': ['jogging', 'reading', np.nan],\n",
        "                    'born': [pd.NaT, pd.Timestamp('2001-01-01'), pd.NaT]})\n",
        "                   #'born': [np.nan, pd.Timestamp('2001-01-01'), np.nan]})\n",
        "print(df), print('='*50)\n",
        "\n",
        "print(df.dropna()), print('='*50)\n",
        "print(df.dropna(axis='columns')), print('='*50)\n",
        "\n",
        "# how='any' (default): 하나라도 결측치가 있으면 해당 행 또는 열을 제거\n",
        "# how='all': 행 또는 열의 모든 값이 결측치여야 해당 행 또는 열을 제거\n",
        "print(df.dropna(how='all')), print('='*50)\n",
        "\n",
        "# 결측치가 아닌 값의 개수가 최소 2개 이상인 행만 남김\n",
        "print(df.dropna(thresh=2)), print('='*50)\n",
        "print(df.dropna(subset=['name', 'born'])), print('='*50)\n",
        "print(df.dropna(subset=['hobby'])), print('='*50)\n",
        "\n",
        "# 결측치가 있는 행을 제거하고 그 결과를 원본 df에 직접 반영\n",
        "# inplace=True이므로 새로운 DataFrame을 반환하지 않고 None을 반환\n",
        "print(df.dropna(inplace=True)), print('='*50)\n",
        "print(df)"
      ],
      "metadata": {
        "colab": {
          "base_uri": "https://localhost:8080/"
        },
        "id": "XpUdePUpRBL6",
        "outputId": "b39d9985-e911-4247-90b9-7f5bfb51ddda"
      },
      "execution_count": null,
      "outputs": [
        {
          "output_type": "stream",
          "name": "stdout",
          "text": [
            "    name    hobby       born\n",
            "0  haena  jogging        NaT\n",
            "1   suho  reading 2001-01-01\n",
            "2  naeun      NaN        NaT\n",
            "==================================================\n",
            "   name    hobby       born\n",
            "1  suho  reading 2001-01-01\n",
            "==================================================\n",
            "    name\n",
            "0  haena\n",
            "1   suho\n",
            "2  naeun\n",
            "==================================================\n",
            "    name    hobby       born\n",
            "0  haena  jogging        NaT\n",
            "1   suho  reading 2001-01-01\n",
            "2  naeun      NaN        NaT\n",
            "==================================================\n",
            "    name    hobby       born\n",
            "0  haena  jogging        NaT\n",
            "1   suho  reading 2001-01-01\n",
            "==================================================\n",
            "   name    hobby       born\n",
            "1  suho  reading 2001-01-01\n",
            "==================================================\n",
            "    name    hobby       born\n",
            "0  haena  jogging        NaT\n",
            "1   suho  reading 2001-01-01\n",
            "==================================================\n",
            "None\n",
            "==================================================\n",
            "   name    hobby       born\n",
            "1  suho  reading 2001-01-01\n"
          ]
        }
      ]
    },
    {
      "cell_type": "code",
      "source": [
        "# 3. 데이터 처리\n",
        "\n",
        "# 손실 데이터 처리: 손실 데이터 채우기 (5)\n",
        "ser = pd.Series([0, np.nan, 2, 3, 5])\n",
        "print(ser), print('='*50)\n",
        "\n",
        "# ser.replace(치환할 값, 대체할 값, inplace=False)\n",
        "# 치환할 값: 스칼라, 리스트, 딕셔너리{old_value : new_value}\n",
        "# 대체할 값: 스칼라, 리스트, 딕셔너리{old_value : new_value}\n",
        "print(ser.replace(np.nan, 1.0)), print('='*50)\n",
        "\n",
        "print(ser.replace({np.nan: 1, 5: 4})), print('='*50)\n",
        "\n",
        "print(ser.replace([0, 2], 1)), print('='*50)\n",
        "\n",
        "print(ser.replace([np.nan, 5], [1, np.nan])) # 같은 위치의 값으로 순서대로"
      ],
      "metadata": {
        "colab": {
          "base_uri": "https://localhost:8080/"
        },
        "id": "8IxsCkjaRHvK",
        "outputId": "31d18770-1fe1-4394-d590-48a31d6c1bc4"
      },
      "execution_count": null,
      "outputs": [
        {
          "output_type": "stream",
          "name": "stdout",
          "text": [
            "0    0.0\n",
            "1    NaN\n",
            "2    2.0\n",
            "3    3.0\n",
            "4    5.0\n",
            "dtype: float64\n",
            "==================================================\n",
            "0    0.0\n",
            "1    1.0\n",
            "2    2.0\n",
            "3    3.0\n",
            "4    5.0\n",
            "dtype: float64\n",
            "==================================================\n",
            "0    0.0\n",
            "1    1.0\n",
            "2    2.0\n",
            "3    3.0\n",
            "4    4.0\n",
            "dtype: float64\n",
            "==================================================\n",
            "0    1.0\n",
            "1    NaN\n",
            "2    1.0\n",
            "3    3.0\n",
            "4    5.0\n",
            "dtype: float64\n",
            "==================================================\n",
            "0    0.0\n",
            "1    1.0\n",
            "2    2.0\n",
            "3    3.0\n",
            "4    NaN\n",
            "dtype: float64\n"
          ]
        }
      ]
    },
    {
      "cell_type": "code",
      "source": [
        "# 3. 데이터 처리\n",
        "\n",
        "# 멀티인덱스: 객체 생성 (1) from_arrays\n",
        "arrays = [['IVE', 'IVE', 'AESPA', 'AESPA'],         # 레벨0\n",
        "          ['Wonyoung', 'Liz', 'Winter', 'Karina']]  # 레벨1\n",
        "\n",
        "multi_index_arrays = pd.MultiIndex.from_arrays(arrays, names=['그룹', '이름'])\n",
        "print(multi_index_arrays)\n"
      ],
      "metadata": {
        "colab": {
          "base_uri": "https://localhost:8080/"
        },
        "id": "PJonaqruhnAF",
        "outputId": "3cfe1ace-02f3-4f17-eb6f-ae7fa7cfee7b"
      },
      "execution_count": null,
      "outputs": [
        {
          "output_type": "stream",
          "name": "stdout",
          "text": [
            "MultiIndex([(  'IVE', 'Wonyoung'),\n",
            "            (  'IVE',      'Liz'),\n",
            "            ('AESPA',   'Winter'),\n",
            "            ('AESPA',   'Karina')],\n",
            "           names=['그룹', '이름'])\n"
          ]
        }
      ]
    },
    {
      "cell_type": "code",
      "source": [
        "# 3. 데이터 처리\n",
        "\n",
        "# 멀티인덱스: 객체 생성 (2) from_frame\n",
        "df = pd.DataFrame([['ha', 'one'], ['ha', 'two'], ['ho', 'one'], ['ho', 'two']],columns=['1st', '2nd'])\n",
        "pd.MultiIndex.from_frame(df)"
      ],
      "metadata": {
        "colab": {
          "base_uri": "https://localhost:8080/"
        },
        "id": "kSKwwBNuh7Dg",
        "outputId": "8d64b800-0d87-4d13-a6b2-8d4499f4a0c9"
      },
      "execution_count": null,
      "outputs": [
        {
          "output_type": "execute_result",
          "data": {
            "text/plain": [
              "MultiIndex([('ha', 'one'),\n",
              "            ('ha', 'two'),\n",
              "            ('ho', 'one'),\n",
              "            ('ho', 'two')],\n",
              "           names=['1st', '2nd'])"
            ]
          },
          "metadata": {},
          "execution_count": 72
        }
      ]
    },
    {
      "cell_type": "code",
      "source": [
        "# 3. 데이터 처리\n",
        "\n",
        "# 멀티인덱스: 객체 생성 (3) from_tuples\n",
        "tuples = [('IVE', 'Wonyoung'), ('IVE', 'Liz'), ('AESPA', 'Winter'), ('AESPA', 'Karina')]\n",
        "print(tuples), print('='*80)\n",
        "\n",
        "multi_index_tuples = pd.MultiIndex.from_tuples(tuples, names=['그룹', '이름'])\n",
        "print(multi_index_tuples), print('='*80)\n",
        "\n",
        "\n",
        "li = [['ha', 'ha', 'hi', 'hi', 'ho', 'ho'], ['one', 'two', 'one', 'two', 'one', 'two']]\n",
        "li1 = list(zip(*li))  # *는 언패킹(unpacking) 연산자, zip()은 같은 위치에 있는 요소들끼리 짝지어 튜플을 만듦\n",
        "print(li1), print('='*80)\n",
        "\n",
        "ind = pd.MultiIndex.from_tuples(li1, names=['1st', '2nd'])\n",
        "print(ind), print('='*80)\n",
        "\n",
        "ser = pd.Series(np.random.randn(6), index=ind)\n",
        "print(ser)"
      ],
      "metadata": {
        "colab": {
          "base_uri": "https://localhost:8080/"
        },
        "id": "6Wi761-ph7IK",
        "outputId": "a64ded9b-d626-4041-ae5c-973a86d46006"
      },
      "execution_count": null,
      "outputs": [
        {
          "output_type": "stream",
          "name": "stdout",
          "text": [
            "[('IVE', 'Wonyoung'), ('IVE', 'Liz'), ('AESPA', 'Winter'), ('AESPA', 'Karina')]\n",
            "================================================================================\n",
            "MultiIndex([(  'IVE', 'Wonyoung'),\n",
            "            (  'IVE',      'Liz'),\n",
            "            ('AESPA',   'Winter'),\n",
            "            ('AESPA',   'Karina')],\n",
            "           names=['그룹', '이름'])\n",
            "================================================================================\n",
            "[('ha', 'one'), ('ha', 'two'), ('hi', 'one'), ('hi', 'two'), ('ho', 'one'), ('ho', 'two')]\n",
            "================================================================================\n",
            "MultiIndex([('ha', 'one'),\n",
            "            ('ha', 'two'),\n",
            "            ('hi', 'one'),\n",
            "            ('hi', 'two'),\n",
            "            ('ho', 'one'),\n",
            "            ('ho', 'two')],\n",
            "           names=['1st', '2nd'])\n",
            "================================================================================\n",
            "1st  2nd\n",
            "ha   one    0.436787\n",
            "     two   -0.145452\n",
            "hi   one   -0.935653\n",
            "     two    1.410856\n",
            "ho   one   -0.607751\n",
            "     two    1.115869\n",
            "dtype: float64\n"
          ]
        }
      ]
    },
    {
      "cell_type": "code",
      "source": [
        "# 3. 데이터 처리\n",
        "\n",
        "# 멀티인덱스: 객체 생성 (4) from_product\n",
        "groups = ['IVE', 'AESPA']                           # 레벨0\n",
        "names = ['Wonyoung', 'Liz', 'Winter', 'Karina']     # 레벨1\n",
        "multi_index_product = pd.MultiIndex.from_product([groups, names], names=['그룹', '이름'])\n",
        "print(multi_index_product), print('='*80)\n",
        "\n",
        "iter = [['ha', 'hi', 'ho'], ['one', 'two']]\n",
        "print(pd.MultiIndex.from_product(iter, names=['1st', '2nd']))"
      ],
      "metadata": {
        "colab": {
          "base_uri": "https://localhost:8080/"
        },
        "id": "l4LuxiwRh7GA",
        "outputId": "05000127-187f-4ee2-e30f-862aaca30fe0"
      },
      "execution_count": null,
      "outputs": [
        {
          "output_type": "stream",
          "name": "stdout",
          "text": [
            "MultiIndex([(  'IVE', 'Wonyoung'),\n",
            "            (  'IVE',      'Liz'),\n",
            "            (  'IVE',   'Winter'),\n",
            "            (  'IVE',   'Karina'),\n",
            "            ('AESPA', 'Wonyoung'),\n",
            "            ('AESPA',      'Liz'),\n",
            "            ('AESPA',   'Winter'),\n",
            "            ('AESPA',   'Karina')],\n",
            "           names=['그룹', '이름'])\n",
            "================================================================================\n",
            "MultiIndex([('ha', 'one'),\n",
            "            ('ha', 'two'),\n",
            "            ('hi', 'one'),\n",
            "            ('hi', 'two'),\n",
            "            ('ho', 'one'),\n",
            "            ('ho', 'two')],\n",
            "           names=['1st', '2nd'])\n"
          ]
        }
      ]
    },
    {
      "cell_type": "code",
      "source": [
        "# 3. 데이터 처리\n",
        "\n",
        "# 멀티인덱스:배열 리스트를 직접 시리즈나 데이터프레임에 입력하여 멀티인덱스를 자동으로 생성\n",
        "arr = [np.array(['ha', 'ha', 'hi', 'hi', 'ho', 'ho']),        # 레벨0\n",
        "       np.array(['one', 'two', 'one', 'two', 'one', 'two'])]  # 레벨1\n",
        "print(arr), print('='*50)\n",
        "\n",
        "ser = pd.Series(np.random.randn(6), index=arr)\n",
        "print(ser), print('='*50)\n",
        "\n",
        "df = pd.DataFrame(np.random.randn(6, 3), index=arr)\n",
        "print(df), print('='*50)\n",
        "\n",
        "df = pd.DataFrame(np.random.randn(3, 6), index=['A', 'B', 'C'], columns=arr)\n",
        "print(df)"
      ],
      "metadata": {
        "colab": {
          "base_uri": "https://localhost:8080/"
        },
        "id": "x25p3xovh7A2",
        "outputId": "b58a49f6-5333-4b2d-87d0-ad539c931da7"
      },
      "execution_count": null,
      "outputs": [
        {
          "output_type": "stream",
          "name": "stdout",
          "text": [
            "[array(['ha', 'ha', 'hi', 'hi', 'ho', 'ho'], dtype='<U2'), array(['one', 'two', 'one', 'two', 'one', 'two'], dtype='<U3')]\n",
            "==================================================\n",
            "ha  one    1.635420\n",
            "    two   -1.417831\n",
            "hi  one   -1.042384\n",
            "    two   -1.748646\n",
            "ho  one   -0.055148\n",
            "    two   -0.600543\n",
            "dtype: float64\n",
            "==================================================\n",
            "               0         1         2\n",
            "ha one  0.857689 -1.503627 -0.681263\n",
            "   two -1.006823  0.708220 -1.831113\n",
            "hi one -0.254959  0.584394  0.182880\n",
            "   two  0.613934 -0.154850  0.778190\n",
            "ho one  1.326810  1.410717 -0.978157\n",
            "   two -0.783925 -1.109910 -0.344919\n",
            "==================================================\n",
            "         ha                  hi                  ho          \n",
            "        one       two       one       two       one       two\n",
            "A -0.695038  1.377937 -1.420908 -1.133828  1.615536 -0.843474\n",
            "B  1.199036  1.077299  0.838108  0.960821 -1.732538 -0.377530\n",
            "C -0.235057 -0.165980 -2.929994  0.572567 -0.412517 -0.293438\n"
          ]
        }
      ]
    },
    {
      "cell_type": "code",
      "source": [
        "# 3. 데이터 처리\n",
        "\n",
        "# 멀티인덱스: 인덱싱 (1)\n",
        "df = pd.DataFrame(np.random.randn(3, 6), index=['A', 'B', 'C'], columns=arr)\n",
        "print(df), print('='*50)\n",
        "\n",
        "print(df['ha']), print('='*50)\n",
        "\n",
        "print(df['ha']['one']), print('='*50)\n",
        "\n",
        "\n",
        "ser = pd.Series(np.random.randn(6), index=arr)\n",
        "print(ser), print('='*50)\n",
        "\n",
        "print(ser.reindex([('ho', 'one'), ('ha', 'two')]))"
      ],
      "metadata": {
        "colab": {
          "base_uri": "https://localhost:8080/"
        },
        "id": "Nz-elbbwh69k",
        "outputId": "9c472968-0f3b-4f89-c884-1e20da5cf187"
      },
      "execution_count": null,
      "outputs": [
        {
          "output_type": "stream",
          "name": "stdout",
          "text": [
            "         ha                  hi                  ho          \n",
            "        one       two       one       two       one       two\n",
            "A -0.636044  0.155594 -1.114541  1.179070  0.344082  0.987630\n",
            "B  0.484571 -0.452022 -0.451587 -2.487041 -0.287674 -0.410189\n",
            "C -1.636216  1.071907  1.191265  0.880473  0.331345  0.050189\n",
            "==================================================\n",
            "        one       two\n",
            "A -0.636044  0.155594\n",
            "B  0.484571 -0.452022\n",
            "C -1.636216  1.071907\n",
            "==================================================\n",
            "A   -0.636044\n",
            "B    0.484571\n",
            "C   -1.636216\n",
            "Name: one, dtype: float64\n",
            "==================================================\n",
            "ha  one    0.417842\n",
            "    two    0.552320\n",
            "hi  one   -0.714970\n",
            "    two    0.106901\n",
            "ho  one    1.476040\n",
            "    two    0.743375\n",
            "dtype: float64\n",
            "==================================================\n",
            "ho  one    1.47604\n",
            "ha  two    0.55232\n",
            "dtype: float64\n"
          ]
        }
      ]
    },
    {
      "cell_type": "code",
      "source": [
        "# 3. 데이터 처리\n",
        "\n",
        "# 멀티인덱스: 인덱싱 (2)\n",
        "df = pd.DataFrame(np.random.randn(3, 6), index=['A', 'B', 'C'], columns=arr)\n",
        "print(df), print('='*50)\n",
        "\n",
        "df = df.T\n",
        "print(df), print('='*50)\n",
        "\n",
        "print(df.loc[('ha', 'two')]), print('='*50)\n",
        "print(df.loc[('ha', 'two'), 'A']), print('='*50)\n",
        "print(df.loc['ha']), print('='*50)\n",
        "print(df.loc['ha':'hi']), print('='*50)\n",
        "print(df.loc[('hi', 'two'):('ho', 'one')]), print('='*50)\n",
        "print(df.loc[('hi', 'two'):'ho']), print('='*50)\n",
        "print(df.loc[[('ha', 'two'), ('ho', 'one')]])"
      ],
      "metadata": {
        "colab": {
          "base_uri": "https://localhost:8080/"
        },
        "id": "P2Dluu63h66m",
        "outputId": "69609e45-4643-4a37-8672-b4c442d47e75"
      },
      "execution_count": null,
      "outputs": [
        {
          "output_type": "stream",
          "name": "stdout",
          "text": [
            "         ha                  hi                  ho          \n",
            "        one       two       one       two       one       two\n",
            "A  0.186847 -1.184557  1.250534 -1.283592  0.009752 -0.835926\n",
            "B  0.195396 -1.376633  0.677585 -0.154793 -0.846654 -0.680803\n",
            "C  0.899658  1.289674  0.820775  1.070275  0.103825  0.091563\n",
            "==================================================\n",
            "               A         B         C\n",
            "ha one  0.186847  0.195396  0.899658\n",
            "   two -1.184557 -1.376633  1.289674\n",
            "hi one  1.250534  0.677585  0.820775\n",
            "   two -1.283592 -0.154793  1.070275\n",
            "ho one  0.009752 -0.846654  0.103825\n",
            "   two -0.835926 -0.680803  0.091563\n",
            "==================================================\n",
            "A   -1.184557\n",
            "B   -1.376633\n",
            "C    1.289674\n",
            "Name: (ha, two), dtype: float64\n",
            "==================================================\n",
            "-1.1845568498145098\n",
            "==================================================\n",
            "            A         B         C\n",
            "one  0.186847  0.195396  0.899658\n",
            "two -1.184557 -1.376633  1.289674\n",
            "==================================================\n",
            "               A         B         C\n",
            "ha one  0.186847  0.195396  0.899658\n",
            "   two -1.184557 -1.376633  1.289674\n",
            "hi one  1.250534  0.677585  0.820775\n",
            "   two -1.283592 -0.154793  1.070275\n",
            "==================================================\n",
            "               A         B         C\n",
            "hi two -1.283592 -0.154793  1.070275\n",
            "ho one  0.009752 -0.846654  0.103825\n",
            "==================================================\n",
            "               A         B         C\n",
            "hi two -1.283592 -0.154793  1.070275\n",
            "ho one  0.009752 -0.846654  0.103825\n",
            "   two -0.835926 -0.680803  0.091563\n",
            "==================================================\n",
            "               A         B         C\n",
            "ha two -1.184557 -1.376633  1.289674\n",
            "ho one  0.009752 -0.846654  0.103825\n"
          ]
        }
      ]
    },
    {
      "cell_type": "code",
      "source": [
        "# 3. 데이터 처리\n",
        "\n",
        "# 멀티인덱스: 순서정렬\n",
        "print(li1), print('='*50)\n",
        "\n",
        "np.random.shuffle(li1)\n",
        "print(li1), print('='*50)\n",
        "\n",
        "ser = pd.Series(np.random.randn(6), index=pd.MultiIndex.from_tuples(li1))\n",
        "print(ser), print('='*50)\n",
        "\n",
        "print(ser.sort_index()), print('='*50)\n",
        "\n",
        "print(ser.sort_index(level=0)), print('='*50)\n",
        "print(ser.sort_index(level=1)), print('='*50)\n",
        "\n",
        "ser.index.set_names(['1st', '2nd'], inplace=True)\n",
        "print(ser.sort_index(level='1st')), print('='*50)\n",
        "print(ser.sort_index(level='2nd')), print('='*50)\n",
        "\n",
        "print(df), print('='*50)\n",
        "print(df.T.sort_index(level=1, axis=1))"
      ],
      "metadata": {
        "colab": {
          "base_uri": "https://localhost:8080/"
        },
        "id": "qyASJWttpdus",
        "outputId": "0ccbe8d3-473e-4163-da8d-489ddcf385a9"
      },
      "execution_count": null,
      "outputs": [
        {
          "output_type": "stream",
          "name": "stdout",
          "text": [
            "[('ho', 'two'), ('ho', 'one'), ('hi', 'one'), ('ha', 'two'), ('ha', 'one'), ('hi', 'two')]\n",
            "==================================================\n",
            "[('hi', 'one'), ('ha', 'one'), ('ha', 'two'), ('ho', 'one'), ('ho', 'two'), ('hi', 'two')]\n",
            "==================================================\n",
            "hi  one   -0.025014\n",
            "ha  one   -2.114292\n",
            "    two    0.082206\n",
            "ho  one    0.954045\n",
            "    two   -0.037451\n",
            "hi  two    0.726539\n",
            "dtype: float64\n",
            "==================================================\n",
            "ha  one   -2.114292\n",
            "    two    0.082206\n",
            "hi  one   -0.025014\n",
            "    two    0.726539\n",
            "ho  one    0.954045\n",
            "    two   -0.037451\n",
            "dtype: float64\n",
            "==================================================\n",
            "ha  one   -2.114292\n",
            "    two    0.082206\n",
            "hi  one   -0.025014\n",
            "    two    0.726539\n",
            "ho  one    0.954045\n",
            "    two   -0.037451\n",
            "dtype: float64\n",
            "==================================================\n",
            "ha  one   -2.114292\n",
            "hi  one   -0.025014\n",
            "ho  one    0.954045\n",
            "ha  two    0.082206\n",
            "hi  two    0.726539\n",
            "ho  two   -0.037451\n",
            "dtype: float64\n",
            "==================================================\n",
            "1st  2nd\n",
            "ha   one   -2.114292\n",
            "     two    0.082206\n",
            "hi   one   -0.025014\n",
            "     two    0.726539\n",
            "ho   one    0.954045\n",
            "     two   -0.037451\n",
            "dtype: float64\n",
            "==================================================\n",
            "1st  2nd\n",
            "ha   one   -2.114292\n",
            "hi   one   -0.025014\n",
            "ho   one    0.954045\n",
            "ha   two    0.082206\n",
            "hi   two    0.726539\n",
            "ho   two   -0.037451\n",
            "dtype: float64\n",
            "==================================================\n",
            "               A         B         C\n",
            "ha one  0.186847  0.195396  0.899658\n",
            "   two -1.184557 -1.376633  1.289674\n",
            "hi one  1.250534  0.677585  0.820775\n",
            "   two -1.283592 -0.154793  1.070275\n",
            "ho one  0.009752 -0.846654  0.103825\n",
            "   two -0.835926 -0.680803  0.091563\n",
            "==================================================\n",
            "         ha        hi        ho        ha        hi        ho\n",
            "        one       one       one       two       two       two\n",
            "A  0.186847  1.250534  0.009752 -1.184557 -1.283592 -0.835926\n",
            "B  0.195396  0.677585 -0.846654 -1.376633 -0.154793 -0.680803\n",
            "C  0.899658  0.820775  0.103825  1.289674  1.070275  0.091563\n"
          ]
        }
      ]
    }
  ]
}