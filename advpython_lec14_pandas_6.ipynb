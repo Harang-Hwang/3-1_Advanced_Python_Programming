{
 "cells": [
  {
   "cell_type": "code",
   "execution_count": 7,
   "metadata": {
    "id": "KOsjS8Mvkmp4"
   },
   "outputs": [],
   "source": [
    "import numpy as np\n",
    "import pandas as pd"
   ]
  },
  {
   "cell_type": "code",
   "execution_count": 15,
   "metadata": {
    "colab": {
     "base_uri": "https://localhost:8080/"
    },
    "id": "mFnEiLPCrwaB",
    "outputId": "a86ee84d-c8ac-47fd-e8d5-97f7b1ba718f"
   },
   "outputs": [
    {
     "name": "stdout",
     "output_type": "stream",
     "text": [
      "    A    B     Data1     Data2\n",
      "0  ha  one -2.248812 -0.835524\n",
      "1  hi  two  1.285709 -0.457976\n",
      "2  ho  one  0.355776  0.344194\n",
      "3  ha  one -0.135937 -0.138679\n",
      "4  ho  two -1.489563  1.010608\n",
      "==================================================\n",
      "<pandas.core.groupby.generic.DataFrameGroupBy object at 0x000001A923547EC0>\n",
      "==================================================\n",
      "list(grouped1)의 첫 번째 요소 (키, DataFrame):\n",
      "('ha',     A    B     Data1     Data2\n",
      "0  ha  one -2.248812 -0.835524\n",
      "3  ha  one -0.135937 -0.138679)\n",
      "==================================================\n",
      "dict(list_of_groups):\n",
      "{'ha':     A    B     Data1     Data2\n",
      "0  ha  one -2.248812 -0.835524\n",
      "3  ha  one -0.135937 -0.138679, 'hi':     A    B     Data1     Data2\n",
      "1  hi  two  1.285709 -0.457976, 'ho':     A    B     Data1     Data2\n",
      "2  ho  one  0.355776  0.344194\n",
      "4  ho  two -1.489563  1.010608}\n",
      "==================================================\n",
      "{'ha': [0, 3], 'hi': [1], 'ho': [2, 4]}\n"
     ]
    }
   ],
   "source": [
    "# 2. 데이터의 그룹 연산\n",
    "\n",
    "# 데이터 객체를 그룹 연산: GroupBy 객체 속성\n",
    "df = pd.DataFrame({'A': ['ha', 'hi', 'ho', 'ha', 'ho'],\n",
    "                   'B': ['one', 'two', 'one', 'one', 'two'],\n",
    "                   'Data1': np.random.randn(5),\n",
    "                   'Data2': np.random.randn(5)})\n",
    "print(df), print('='*50)\n",
    "\n",
    "# DataFrameGroupBy 객체가 생성되었을 뿐, 아직 눈으로 그룹들을 직접 볼 수는 없음\n",
    "# 이 DataFrameGroupBy 객체는 파이썬의 이터러블(iterable)한 특성을 가지고 있음\n",
    "# 이터러블 객체는 for 루프와 같이 요소를 하나씩 꺼내서 반복적으로 처리할 수 있음\n",
    "grouped1 = df.groupby('A')\n",
    "print(grouped1), print('='*50)\n",
    "\n",
    "# grouped1을 list로 변환하면 각 그룹의 키와 해당 DataFrame을 볼 수 있음\n",
    "list_of_groups = list(grouped1)\n",
    "print(f\"list(grouped1)의 첫 번째 요소 (키, DataFrame):\\n{list_of_groups[0]}\")\n",
    "print('='*50)\n",
    "\n",
    "# 딕셔너리로 변환하여 그룹 키를 딕셔너리 키로, 그룹 DataFrame을 딕셔너리 값으로 저장\n",
    "gr_dict = dict(list_of_groups)\n",
    "print(f\"dict(list_of_groups):\\n{gr_dict}\"), print('='*50)\n",
    "\n",
    "print(grouped1.groups)"
   ]
  },
  {
   "cell_type": "code",
   "execution_count": 7,
   "metadata": {
    "colab": {
     "base_uri": "https://localhost:8080/"
    },
    "id": "oI3M8bTlsqlM",
    "outputId": "33f0b701-cbdd-4e19-bf99-de3e94a16122"
   },
   "outputs": [
    {
     "name": "stdout",
     "output_type": "stream",
     "text": [
      "    A    B     Data1     Data2\n",
      "2  ho  one  0.070154  0.891122\n",
      "4  ho  two  0.501409  0.682108\n",
      "==================================================\n",
      "    A    B     Data1     Data2\n",
      "2  ho  one -0.231873 -0.387598\n",
      "4  ho  two  0.053033  0.180301\n"
     ]
    }
   ],
   "source": [
    "# 2. 데이터의 그룹 연산\n",
    "\n",
    "# 데이터 객체를 그룹 연산: GroupBy 객체 속성\n",
    "\n",
    "# 특정 그룹 (예: 'ho')은 선택해 해당 데이터를 구하는 방법1\n",
    "print(gr_dict['ho']), print('='*50)\n",
    "\n",
    "# 특정 그룹 (예: 'ho')은 선택해 해당 데이터를 구하는 방법2\n",
    "print(grouped1.get_group('ho'))\n"
   ]
  },
  {
   "cell_type": "code",
   "execution_count": 19,
   "metadata": {
    "colab": {
     "base_uri": "https://localhost:8080/"
    },
    "id": "5ch_y0mOsrma",
    "outputId": "e4f3d814-e06e-4ea6-8abd-8e2a44609b25"
   },
   "outputs": [
    {
     "name": "stdout",
     "output_type": "stream",
     "text": [
      "    A    B     Data1     Data2\n",
      "0  ha  one -0.169027  0.136886\n",
      "1  hi  two -0.477366 -0.422816\n",
      "2  ho  one -0.068780  0.415388\n",
      "3  ha  one  1.020587  0.594460\n",
      "4  ho  two  1.377188 -0.334472\n",
      "==================================================\n",
      "<pandas.core.groupby.generic.DataFrameGroupBy object at 0x000001A92383A120>\n",
      "==================================================\n",
      "ha\n",
      "hi\n",
      "ho\n",
      "==================================================\n",
      "ha\n",
      "    A    B     Data1     Data2\n",
      "0  ha  one -0.169027  0.136886\n",
      "3  ha  one  1.020587  0.594460\n",
      "--------------------------------------------------\n",
      "hi\n",
      "    A    B     Data1     Data2\n",
      "1  hi  two -0.477366 -0.422816\n",
      "--------------------------------------------------\n",
      "ho\n",
      "    A    B     Data1     Data2\n",
      "2  ho  one -0.068780  0.415388\n",
      "4  ho  two  1.377188 -0.334472\n",
      "--------------------------------------------------\n"
     ]
    }
   ],
   "source": [
    "# 2. 데이터의 그룹 연산\n",
    "\n",
    "# 데이터 객체를 그룹 연산: 그룹 객체의 반복처리\n",
    "df = pd.DataFrame({'A': ['ha', 'hi', 'ho', 'ha', 'ho'],\n",
    "                   'B': ['one', 'two', 'one', 'one', 'two'],\n",
    "                   'Data1': np.random.randn(5),\n",
    "                   'Data2': np.random.randn(5)})\n",
    "print(df), print('='*50)\n",
    "\n",
    "grouped1 = df.groupby('A')\n",
    "print(grouped1), print('='*50)\n",
    "\n",
    "for name, group in grouped1:\n",
    "    print(name)\n",
    "\n",
    "print('='*50)\n",
    "\n",
    "for name, group in grouped1:\n",
    "    print(name)\n",
    "    print(group)\n",
    "    print('-'*50)"
   ]
  },
  {
   "cell_type": "code",
   "execution_count": 23,
   "metadata": {
    "colab": {
     "base_uri": "https://localhost:8080/"
    },
    "id": "K6tmbJIgsrj4",
    "outputId": "0396d4eb-7f1d-4a28-b824-c712e1cf4562"
   },
   "outputs": [
    {
     "name": "stdout",
     "output_type": "stream",
     "text": [
      "    A    B     Data1     Data2\n",
      "0  ha  one -0.169027  0.136886\n",
      "1  hi  two -0.477366 -0.422816\n",
      "2  ho  one -0.068780  0.415388\n",
      "3  ha  one  1.020587  0.594460\n",
      "4  ho  two  1.377188 -0.334472\n",
      "==================================================\n",
      "('ha', 'one')\n",
      "--------------------\n",
      "    A    B     Data1     Data2\n",
      "0  ha  one -0.169027  0.136886\n",
      "3  ha  one  1.020587  0.594460\n",
      "--------------------------------------------------\n",
      "('hi', 'two')\n",
      "--------------------\n",
      "    A    B     Data1     Data2\n",
      "1  hi  two -0.477366 -0.422816\n",
      "--------------------------------------------------\n",
      "('ho', 'one')\n",
      "--------------------\n",
      "    A    B    Data1     Data2\n",
      "2  ho  one -0.06878  0.415388\n",
      "--------------------------------------------------\n",
      "('ho', 'two')\n",
      "--------------------\n",
      "    A    B     Data1     Data2\n",
      "4  ho  two  1.377188 -0.334472\n",
      "--------------------------------------------------\n"
     ]
    }
   ],
   "source": [
    "# 2. 데이터의 그룹 연산\n",
    "\n",
    "# 데이터 객체를 그룹 연산\n",
    "print(df), print('='*50)\n",
    "\n",
    "# n1은 첫 번째 그룹화 기준 컬럼('A')의 값을 받음\n",
    "# n2는 두 번째 그룹화 기준 컬럼('B')의 값을 받음\n",
    "for (n1, n2), group in df.groupby(['A', 'B']):\n",
    "    print((n1, n2)), print('-'*20)\n",
    "    print(group), print('-'*50)"
   ]
  },
  {
   "cell_type": "code",
   "execution_count": 27,
   "metadata": {
    "colab": {
     "base_uri": "https://localhost:8080/"
    },
    "id": "IbTjP_k4sr0E",
    "outputId": "f485a3ba-73a4-470a-b8c4-5381df27b9a5"
   },
   "outputs": [
    {
     "name": "stdout",
     "output_type": "stream",
     "text": [
      "    A    B     Data1     Data2\n",
      "0  ha  one -0.169027  0.136886\n",
      "1  hi  two -0.477366 -0.422816\n",
      "2  ho  one -0.068780  0.415388\n",
      "3  ha  one  1.020587  0.594460\n",
      "4  ho  two  1.377188 -0.334472\n",
      "==================================================\n",
      "0    0.136886\n",
      "1   -0.422816\n",
      "2    0.415388\n",
      "3    0.594460\n",
      "4   -0.334472\n",
      "Name: Data2, dtype: float64\n",
      "==================================================\n",
      "<pandas.core.groupby.generic.SeriesGroupBy object at 0x000001A923B59910>\n",
      "==================================================\n",
      "A\n",
      "ha    0.365673\n",
      "hi   -0.422816\n",
      "ho    0.040458\n",
      "Name: Data2, dtype: float64\n",
      "==================================================\n",
      "{('ha', 'one'): [0, 3], ('hi', 'two'): [1], ('ho', 'one'): [2], ('ho', 'two'): [4]}\n",
      "==================================================\n",
      "A   B  \n",
      "ha  one    0.425780\n",
      "hi  two   -0.477366\n",
      "ho  one   -0.068780\n",
      "    two    1.377188\n",
      "Name: Data1, dtype: float64\n"
     ]
    }
   ],
   "source": [
    "# 2. 데이터의 그룹 연산\n",
    "\n",
    "# 데이터 객체를 그룹 연산: GroupBy 객체 속성\n",
    "print(df), print('='*50)\n",
    "\n",
    "print(df['Data2']), print('='*50)\n",
    "\n",
    "grouped2 = df['Data2'].groupby(df['A'])\n",
    "print(grouped2), print('='*50)\n",
    "print(grouped2.mean()), print('='*50)\n",
    "\n",
    "grouped3 = df['Data1'].groupby([df['A'], df['B']])\n",
    "print(grouped3.groups), print('='*50)\n",
    "print(grouped3.mean())"
   ]
  },
  {
   "cell_type": "code",
   "execution_count": 37,
   "metadata": {
    "colab": {
     "base_uri": "https://localhost:8080/"
    },
    "id": "yHMfFWoHsru6",
    "outputId": "b2bc67a8-34c8-49cf-b64e-4bf9b8dec059"
   },
   "outputs": [
    {
     "name": "stdout",
     "output_type": "stream",
     "text": [
      "    A    B     Data1     Data2\n",
      "0  ha  one -0.169027  0.136886\n",
      "1  hi  two -0.477366 -0.422816\n",
      "2  ho  one -0.068780  0.415388\n",
      "3  ha  one  1.020587  0.594460\n",
      "4  ho  two  1.377188 -0.334472\n",
      "==================================================\n",
      "['water' 'oil' 'oil' 'water' 'oil']\n",
      "==================================================\n",
      "['1hr', '1hr', '2hr', '2hr', '1hr']\n",
      "==================================================\n",
      "oil    1hr    0.449911\n",
      "       2hr   -0.068780\n",
      "water  1hr   -0.169027\n",
      "       2hr    1.020587\n",
      "Name: Data1, dtype: float64\n"
     ]
    }
   ],
   "source": [
    "# 2. 데이터의 그룹 연산\n",
    "\n",
    "# 데이터 객체를 그룹 연산: GroupBy 객체 속성\n",
    "\n",
    "# df와 길이가 같은 배열로 이루어진 시리즈 객체와 리스트를\n",
    "# groupby( )에 전달하여 연산을 실행할 수도 있음\n",
    "material = np.array(['water', 'oil', 'oil' ,'water', 'oil'])\n",
    "time = ['1hr', '1hr', '2hr', '2hr', '1hr']\n",
    "\n",
    "print(df), print('='*50)\n",
    "print(material), print('='*50)\n",
    "print(time), print('='*50)\n",
    "print(df['Data1'].groupby([material, time]).mean())\n",
    "\n",
    "# df_aug = df.copy()\n",
    "# print(df_aug), print('='*50)\n",
    "# df_aug['Material'] = material\n",
    "# df_aug['Time'] = time\n",
    "# print(df_aug), print('='*50)\n",
    "# print(df_aug['Data1'].groupby([material, time]).mean())"
   ]
  },
  {
   "cell_type": "code",
   "execution_count": 41,
   "metadata": {
    "colab": {
     "base_uri": "https://localhost:8080/"
    },
    "id": "eVrsVxKAsrsS",
    "outputId": "f499b7a0-569a-4d71-97f0-33772b683840"
   },
   "outputs": [
    {
     "name": "stdout",
     "output_type": "stream",
     "text": [
      "    A    B     Data1\n",
      "0  ho  two  0.490391\n",
      "1  hi  one -0.135906\n",
      "2  ha  two -0.677599\n",
      "3  ha  two  0.908525\n",
      "==================================================\n",
      "         B     Data1\n",
      "A                   \n",
      "ha  twotwo  0.230926\n",
      "hi     one -0.135906\n",
      "ho     two  0.490391\n",
      "==================================================\n",
      "         B     Data1\n",
      "A                   \n",
      "ho     two  0.490391\n",
      "hi     one -0.135906\n",
      "ha  twotwo  0.230926\n"
     ]
    }
   ],
   "source": [
    "# 2. 데이터의 그룹 연산\n",
    "\n",
    "# 데이터 객체를 그룹 연산: GroupBy 순서 정렬\n",
    "df2 = pd.DataFrame({'A': ['ho', 'hi', 'ha', 'ha'],\n",
    "                    'B': ['two', 'one', 'two', 'two'],\n",
    "                    'Data1': np.random.randn(4)})\n",
    "\n",
    "print(df2), print('='*50)\n",
    "print(df2.groupby('A').sum()), print('='*50)\n",
    "print(df2.groupby('A', sort=False).sum())\n",
    "\n",
    "# mean()을 사용할 때는 주의\n",
    "#print(df2.groupby(['A']).mean())"
   ]
  },
  {
   "cell_type": "code",
   "execution_count": 45,
   "metadata": {
    "colab": {
     "base_uri": "https://localhost:8080/"
    },
    "id": "f8XOXg43srpS",
    "outputId": "2ea1b825-9c61-4e38-9245-af0fd966d456"
   },
   "outputs": [
    {
     "name": "stdout",
     "output_type": "stream",
     "text": [
      "1st  2nd\n",
      "ha   one   -0.749425\n",
      "     two    0.175374\n",
      "hi   one   -0.015161\n",
      "     one   -1.496129\n",
      "ho   two    0.668025\n",
      "     two   -0.764227\n",
      "dtype: float64\n",
      "==================================================\n",
      "MultiIndex([('ha', 'one'),\n",
      "            ('ha', 'two'),\n",
      "            ('hi', 'one'),\n",
      "            ('hi', 'one'),\n",
      "            ('ho', 'two'),\n",
      "            ('ho', 'two')],\n",
      "           names=['1st', '2nd'])\n",
      "==================================================\n",
      "1st\n",
      "ha   -0.287026\n",
      "hi   -0.755645\n",
      "ho   -0.048101\n",
      "dtype: float64\n",
      "==================================================\n",
      "2nd\n",
      "one   -0.753572\n",
      "two    0.026390\n",
      "dtype: float64\n",
      "==================================================\n",
      "2nd\n",
      "one   -0.753572\n",
      "two    0.026390\n",
      "dtype: float64\n"
     ]
    }
   ],
   "source": [
    "# 2. 데이터의 그룹 연산\n",
    "\n",
    "# 데이터 객체를 그룹 연산: 멀티인덱스가 있는 개체를 그룹 연산\n",
    "arr = [['ha', 'ha', 'hi', 'hi', 'ho', 'ho'], ['one', 'two', 'one', 'one', 'two', 'two']]\n",
    "ind = pd.MultiIndex.from_arrays(arr, names=['1st', '2nd'])\n",
    "\n",
    "ser = pd.Series(np.random.randn(6), index=ind)\n",
    "print(ser), print('='*50)\n",
    "print(ser.index), print('='*50)\n",
    "\n",
    "grouped = ser.groupby(level=0)\n",
    "print(grouped.mean()), print('='*50)\n",
    "\n",
    "print(ser.groupby(level=1).mean()), print('='*50)\n",
    "print(ser.groupby(level='2nd').mean())"
   ]
  },
  {
   "cell_type": "code",
   "execution_count": 51,
   "metadata": {
    "colab": {
     "base_uri": "https://localhost:8080/"
    },
    "id": "WmQV3apBsrg8",
    "outputId": "d4033ef7-d894-4f04-9b1d-8c2fb8308cc5"
   },
   "outputs": [
    {
     "name": "stdout",
     "output_type": "stream",
     "text": [
      "    A    B     Data1     Data2\n",
      "0  ha  one  0.424156 -0.038641\n",
      "1  hi  two  1.025926  0.236049\n",
      "2  ho  one  0.055039  0.168925\n",
      "3  ha  one  0.319258 -0.517434\n",
      "4  ho  two  0.776229 -0.348690\n",
      "==================================================\n",
      "         B     Data1     Data2\n",
      "A                             \n",
      "ha  oneone  0.743415 -0.556076\n",
      "hi     two  1.025926  0.236049\n",
      "ho  onetwo  0.831268 -0.179765\n",
      "==================================================\n",
      "grouped.size(): \n",
      "A   B  \n",
      "ha  one    2\n",
      "hi  two    1\n",
      "ho  one    1\n",
      "    two    1\n",
      "dtype: int64\n",
      "==================================================\n",
      "           Data1     Data2\n",
      "A  B                      \n",
      "ha one  0.743415 -0.556076\n",
      "hi two  1.025926  0.236049\n",
      "ho one  0.055039  0.168925\n",
      "   two  0.776229 -0.348690\n",
      "==================================================\n",
      "    A    B     Data1     Data2\n",
      "0  ha  one  0.743415 -0.556076\n",
      "1  hi  two  1.025926  0.236049\n",
      "2  ho  one  0.055039  0.168925\n",
      "3  ho  two  0.776229 -0.348690\n"
     ]
    },
    {
     "name": "stderr",
     "output_type": "stream",
     "text": [
      "C:\\Users\\User\\AppData\\Local\\Temp\\ipykernel_17168\\1918079573.py:12: FutureWarning: The provided callable <function sum at 0x000001A921195620> is currently using DataFrameGroupBy.sum. In a future version of pandas, the provided callable will be used directly. To keep current behavior pass the string \"sum\" instead.\n",
      "  print(grouped1.agg(np.sum)), print('='*50)\n",
      "C:\\Users\\User\\AppData\\Local\\Temp\\ipykernel_17168\\1918079573.py:21: FutureWarning: The provided callable <function sum at 0x000001A921195620> is currently using DataFrameGroupBy.sum. In a future version of pandas, the provided callable will be used directly. To keep current behavior pass the string \"sum\" instead.\n",
      "  print(grouped3.agg(np.sum)) # grouped2.agg('sum')과 결과는 같지만, 인덱스가 다름\n"
     ]
    }
   ],
   "source": [
    "# 2. 데이터의 그룹 연산\n",
    "\n",
    "# GroupBy 객체를 그룹별 연산 및 변환: 데이터 집계하기\n",
    "df = pd.DataFrame({'A': ['ha', 'hi', 'ho', 'ha', 'ho'],\n",
    "                   'B': ['one', 'two', 'one', 'one', 'two'],\n",
    "                   'Data1': np.random.randn(5),\n",
    "                   'Data2': np.random.randn(5)})\n",
    "\n",
    "print(df), print('='*50)\n",
    "\n",
    "grouped1 = df.groupby('A')\n",
    "print(grouped1.agg(np.sum)), print('='*50)\n",
    "#print(grouped1.agg('sum')), print('='*50) # 위와 같은 결과\n",
    "\n",
    "grouped2 = df.groupby(['A', 'B'])\n",
    "print(f'grouped.size(): \\n{grouped2.size()}'), print('='*50)\n",
    "print(grouped2.agg('sum')), print('='*50)\n",
    "\n",
    "# as_index=False: 그룹 키가 일반 컬럼으로 유지되고, 새로운 정수 인덱스가 생성\n",
    "grouped3 = df.groupby(['A', 'B'], as_index=False)\n",
    "print(grouped3.agg(np.sum)) # grouped2.agg('sum')과 결과는 같지만, 인덱스가 다름"
   ]
  },
  {
   "cell_type": "code",
   "execution_count": 28,
   "metadata": {
    "colab": {
     "base_uri": "https://localhost:8080/"
    },
    "id": "952bziQesrd2",
    "outputId": "d058a7c0-1a2d-44a6-ac3f-06615da747df"
   },
   "outputs": [
    {
     "name": "stdout",
     "output_type": "stream",
     "text": [
      "    A     Data1     Data2\n",
      "0  ha  0.715189 -0.203570\n",
      "1  hi  0.144084 -0.706190\n",
      "2  ho -1.569879  0.812396\n",
      "3  ha  0.107967  0.344885\n",
      "4  ho -0.623013  0.173615\n",
      "==================================================\n",
      "         sum      mean       std\n",
      "A                               \n",
      "ha  0.823156  0.411578  0.429371\n",
      "hi  0.144084  0.144084       NaN\n",
      "ho -2.192893 -1.096446  0.669535\n",
      "==================================================\n",
      "          합계        평균\n",
      "A                     \n",
      "ha  0.823156  0.411578\n",
      "hi  0.144084  0.144084\n",
      "ho -2.192893 -1.096446\n",
      "==================================================\n",
      "       Data1               Data2          \n",
      "         sum      mean       sum      mean\n",
      "A                                         \n",
      "ha  0.823156  0.411578  0.141315  0.070658\n",
      "hi  0.144084  0.144084 -0.706190 -0.706190\n",
      "ho -2.192893 -1.096446  0.986011  0.493005\n",
      "==================================================\n",
      "       Data1               Data2          \n",
      "          합계        평균        합계        평균\n",
      "A                                         \n",
      "ha  0.823156  0.411578  0.141315  0.070658\n",
      "hi  0.144084  0.144084 -0.706190 -0.706190\n",
      "ho -2.192893 -1.096446  0.986011  0.493005\n"
     ]
    }
   ],
   "source": [
    "# 2. 데이터의 그룹 연산\n",
    "\n",
    "# GroupBy 객체를 그룹별 연산 및 변환: 한 번에 여러 함수 적용하기\n",
    "df = pd.DataFrame({'A': ['ha', 'hi', 'ho', 'ha', 'ho'],\n",
    "                   'Data1': np.random.randn(5),\n",
    "                   'Data2': np.random.randn(5)})\n",
    "print(df), print('='*50)\n",
    "\n",
    "grouped = df.groupby('A')\n",
    "result = grouped['Data1'].agg(['sum', 'mean', 'std'])\n",
    "#result = df.groupby('A')['Data1'].agg([np.sum, np.mean, np.std]) # 위 코드와 같음\n",
    "print(result), print('='*50)\n",
    "\n",
    "# 함수 자체가 열의 이름이 되는데, 이름을 변경하고 싶으면 rename()메소드를 실행\n",
    "result2 = grouped['Data1'].agg(['sum','mean']).rename(columns={'sum':'합계', 'mean':'평균'})\n",
    "print(result2), print('='*50)\n",
    "\n",
    "# 집계 연산으로 처리된 결과는 멀티인덱스를 가짐\n",
    "result3 = grouped.agg(['sum', 'mean'])\n",
    "print(result3), print('='*50)\n",
    "\n",
    "# rename()메소드를 실행\n",
    "result4 = grouped.agg(['sum', 'mean']).rename(columns={'sum': '합계','mean': '평균'})\n",
    "print(result4)"
   ]
  },
  {
   "cell_type": "code",
   "execution_count": 32,
   "metadata": {
    "colab": {
     "base_uri": "https://localhost:8080/"
    },
    "id": "XyZ9Ru78tbfw",
    "outputId": "a4a001e4-ee12-46d8-e986-468dc490f41c"
   },
   "outputs": [
    {
     "name": "stdout",
     "output_type": "stream",
     "text": [
      "    A     Data1     Data2\n",
      "0  ha -0.651225 -1.391641\n",
      "1  hi  0.578765  0.751849\n",
      "2  ho -2.113492 -2.257368\n",
      "3  ha -0.096680 -0.264105\n",
      "4  ho  1.167026  1.027779\n",
      "==================================================\n",
      "       Data1     Data2\n",
      "A                     \n",
      "ha -0.373952 -1.655746\n",
      "hi  0.578765  0.751849\n",
      "ho -0.473233 -1.229590\n",
      "==================================================\n",
      "       Data1     Data2\n",
      "A                     \n",
      "ha -0.747905 -0.827873\n",
      "hi  0.578765  0.751849\n",
      "ho -0.946466 -0.614795\n",
      "==================================================\n",
      "       Data2     Data1\n",
      "A                     \n",
      "ha -0.827873 -0.747905\n",
      "hi  0.751849  0.578765\n",
      "ho -0.614795 -0.946466\n",
      "==================================================\n",
      "           Data2     Data1\n",
      "gold   -1.442668 -1.694371\n",
      "silver  0.751849  0.578765\n"
     ]
    }
   ],
   "source": [
    "# 2. 데이터의 그룹 연산\n",
    "\n",
    "# GroupBy 객체를 그룹별 연산 및 변환: 데이터프레임 열들에 각각 다른 함수 적용하기\n",
    "df = pd.DataFrame({'A': ['ha', 'hi', 'ho', 'ha', 'ho'],\n",
    "                   'Data1': np.random.randn(5),\n",
    "                   'Data2': np.random.randn(5)})\n",
    "\n",
    "print(df), print('='*50)\n",
    "\n",
    "grouped = df.groupby('A')\n",
    "result = grouped.agg({'Data1': 'mean', 'Data2': lambda x: np.sum(x)})\n",
    "print(result), print('='*50)\n",
    "\n",
    "\n",
    "from collections import OrderedDict\n",
    "\n",
    "# agg() 함수에 딕셔너리를 전달하면 열의 순서를 임의로 출력함\n",
    "result1 = grouped.agg({'Data1': 'sum', 'Data2': 'mean'})\n",
    "print(result1), print('='*50)\n",
    "\n",
    "# OrderedDict() 메소드로 열을 특정 순서로 정렬함\n",
    "result2 = grouped.agg(OrderedDict([('Data2', 'mean'), ('Data1', 'sum')]))\n",
    "print(result2), print('='*50)\n",
    "\n",
    "# 인덱스 'ha'를 'gold', 'hi'를 'silver', 'ho'를 'gold'로 변경 후, 각각 합계구함\n",
    "ind = ['gold', 'silver', 'gold']\n",
    "print(result2.groupby(ind).sum())"
   ]
  },
  {
   "cell_type": "code",
   "execution_count": 55,
   "metadata": {
    "colab": {
     "base_uri": "https://localhost:8080/"
    },
    "id": "ntc9G_zgtbaG",
    "outputId": "135641a9-9f2e-4f52-b0d7-b109903c603d"
   },
   "outputs": [
    {
     "name": "stdout",
     "output_type": "stream",
     "text": [
      "    Branch  Car Name  Quantity  Unit Price  Ext Price\n",
      "0  Yeonnam  Grandeur         7          35        245\n",
      "1  Yeonnam    Sonata        11          20        220\n",
      "2  Yeonnam    Avante         3          15         45\n",
      "3  Sungsan  Grandeur         5          36        180\n",
      "4  Sungsan    Sonata        19          19        361\n",
      "5  Sungsan    Avante         9          14        126\n",
      "6   Yeonhi  Grandeur        10          34        340\n",
      "7   Yeonhi    Sonata        13          19        247\n",
      "8   Yeonhi    Avante        15          13        195\n",
      "==================================================\n",
      "Branch\n",
      "Sungsan    667\n",
      "Yeonhi     782\n",
      "Yeonnam    510\n",
      "Name: Ext Price, dtype: int64\n",
      "==================================================\n",
      "Branch\n",
      "Sungsan    667\n",
      "Yeonhi     782\n",
      "Yeonnam    510\n",
      "Name: Br_Total, dtype: int64\n",
      "==================================================\n",
      "    Branch  Br_Total\n",
      "0  Sungsan       667\n",
      "1   Yeonhi       782\n",
      "2  Yeonnam       510\n",
      "==================================================\n",
      "    Branch  Car Name  Quantity  Unit Price  Ext Price  Br_Total\n",
      "0  Yeonnam  Grandeur         7          35        245       510\n",
      "1  Yeonnam    Sonata        11          20        220       510\n",
      "2  Yeonnam    Avante         3          15         45       510\n",
      "3  Sungsan  Grandeur         5          36        180       667\n",
      "4  Sungsan    Sonata        19          19        361       667\n",
      "5  Sungsan    Avante         9          14        126       667\n",
      "6   Yeonhi  Grandeur        10          34        340       782\n",
      "7   Yeonhi    Sonata        13          19        247       782\n",
      "8   Yeonhi    Avante        15          13        195       782\n"
     ]
    }
   ],
   "source": [
    "# 2. 데이터의 그룹 연산\n",
    "\n",
    "# GroupBy 객체를 그룹별 연산 및 변환: 자동차 판매 대리점별 영업 현황 데이터 연산과 변환\n",
    "df = pd.read_excel('car_sales.xlsx')\n",
    "print(df), print('='*50)\n",
    "\n",
    "# Branch로 그룹화하고 Ext Price 열을 기준으로 그룹별로 sum\n",
    "result1 = df.groupby('Branch')['Ext Price'].agg('sum')\n",
    "print(result1), print('='*50)\n",
    "\n",
    "# result11 = df.groupby('Branch')['Ext Price'].apply('sum')\n",
    "# print(result11), print('='*50)\n",
    "\n",
    "# rename 메소드로 컬럼 이름 변경\n",
    "result2 = df.groupby('Branch')['Ext Price'].agg('sum').rename('Br_Total')\n",
    "print(result2), print('='*50)\n",
    "\n",
    "# 인덱스 초기화\n",
    "br_total = df.groupby('Branch')['Ext Price'].agg('sum').rename('Br_Total').reset_index()\n",
    "print(br_total), print('='*50)\n",
    "\n",
    "df_m = df.merge(br_total)\n",
    "print(df_m)"
   ]
  },
  {
   "cell_type": "code",
   "execution_count": 57,
   "metadata": {
    "colab": {
     "base_uri": "https://localhost:8080/"
    },
    "id": "W1eUs2VyK1HW",
    "outputId": "ffc073e5-4481-4344-e503-83adb8d731c0"
   },
   "outputs": [
    {
     "name": "stdout",
     "output_type": "stream",
     "text": [
      "    Branch  Car Name  Quantity  Unit Price  Ext Price  Br_Total\n",
      "0  Yeonnam  Grandeur         7          35        245       510\n",
      "1  Yeonnam    Sonata        11          20        220       510\n",
      "2  Yeonnam    Avante         3          15         45       510\n",
      "3  Sungsan  Grandeur         5          36        180       667\n",
      "4  Sungsan    Sonata        19          19        361       667\n",
      "5  Sungsan    Avante         9          14        126       667\n",
      "6   Yeonhi  Grandeur        10          34        340       782\n",
      "7   Yeonhi    Sonata        13          19        247       782\n",
      "8   Yeonhi    Avante        15          13        195       782\n",
      "==================================================\n",
      "    Branch  Car Name  Quantity  Unit Price  Ext Price  Br_Total    Br_Pct\n",
      "0  Yeonnam  Grandeur         7          35        245       510  0.480392\n",
      "1  Yeonnam    Sonata        11          20        220       510  0.431373\n",
      "2  Yeonnam    Avante         3          15         45       510  0.088235\n",
      "3  Sungsan  Grandeur         5          36        180       667  0.269865\n",
      "4  Sungsan    Sonata        19          19        361       667  0.541229\n",
      "5  Sungsan    Avante         9          14        126       667  0.188906\n",
      "6   Yeonhi  Grandeur        10          34        340       782  0.434783\n",
      "7   Yeonhi    Sonata        13          19        247       782  0.315857\n",
      "8   Yeonhi    Avante        15          13        195       782  0.249361\n",
      "==================================================\n",
      "Branch\n",
      "Sungsan    667\n",
      "Yeonhi     782\n",
      "Yeonnam    510\n",
      "Name: Ext Price, dtype: int64\n",
      "==================================================\n",
      "Branch\n",
      "Sungsan    667\n",
      "Yeonhi     782\n",
      "Yeonnam    510\n",
      "Name: Ext Price, dtype: int64\n",
      "==================================================\n",
      "0    510\n",
      "1    510\n",
      "2    510\n",
      "3    667\n",
      "4    667\n",
      "5    667\n",
      "6    782\n",
      "7    782\n",
      "8    782\n",
      "Name: Ext Price, dtype: int64\n",
      "==================================================\n",
      "    Branch  Car Name  Quantity  Unit Price  Ext Price  Br_Total\n",
      "0  Yeonnam  Grandeur         7          35        245       510\n",
      "1  Yeonnam    Sonata        11          20        220       510\n",
      "2  Yeonnam    Avante         3          15         45       510\n",
      "3  Sungsan  Grandeur         5          36        180       667\n",
      "4  Sungsan    Sonata        19          19        361       667\n",
      "5  Sungsan    Avante         9          14        126       667\n",
      "6   Yeonhi  Grandeur        10          34        340       782\n",
      "7   Yeonhi    Sonata        13          19        247       782\n",
      "8   Yeonhi    Avante        15          13        195       782\n",
      "==================================================\n",
      "    Branch  Car Name  Quantity  Unit Price  Ext Price  Br_Total    Br_Pct\n",
      "0  Yeonnam  Grandeur         7          35        245       510  0.480392\n",
      "1  Yeonnam    Sonata        11          20        220       510  0.431373\n",
      "2  Yeonnam    Avante         3          15         45       510  0.088235\n",
      "3  Sungsan  Grandeur         5          36        180       667  0.269865\n",
      "4  Sungsan    Sonata        19          19        361       667  0.541229\n",
      "5  Sungsan    Avante         9          14        126       667  0.188906\n",
      "6   Yeonhi  Grandeur        10          34        340       782  0.434783\n",
      "7   Yeonhi    Sonata        13          19        247       782  0.315857\n",
      "8   Yeonhi    Avante        15          13        195       782  0.249361\n"
     ]
    }
   ],
   "source": [
    "# 2. 데이터의 그룹 연산\n",
    "\n",
    "# GroupBy 객체를 그룹별 연산 및 변환: 자동차 판매 대리점별 영업 현황 데이터 연산과 변환\n",
    "print(df_m), print('='*50)\n",
    "\n",
    "# 각 대리점의 차종별 매출액 비율 계산\n",
    "df_m['Br_Pct'] = df_m['Ext Price'] / df_m['Br_Total']\n",
    "print(df_m), print('='*50)\n",
    "\n",
    "### transform(), apply(), agg() 결과 비교\n",
    "# Branch로 그룹화하고 Ext Price 열을 기준으로 그룹별로 sum\n",
    "result1 = df.groupby('Branch')['Ext Price'].agg('sum')\n",
    "print(result1), print('='*50)\n",
    "\n",
    "result2 = df.groupby('Branch')['Ext Price'].apply('sum')\n",
    "print(result2), print('='*50)\n",
    "\n",
    "# transform() 메소드를 이용해 shape이 같은 데이터 반환\n",
    "result3 = df.groupby('Branch')['Ext Price'].transform('sum')\n",
    "print(result3), print('='*50)\n",
    "\n",
    "df['Br_Total'] = df.groupby('Branch')['Ext Price'].transform('sum')\n",
    "print(df), print('='*50)\n",
    "\n",
    "df['Br_Pct'] = df['Ext Price'] / df['Br_Total']\n",
    "print(df)"
   ]
  },
  {
   "cell_type": "code",
   "execution_count": 65,
   "metadata": {
    "colab": {
     "base_uri": "https://localhost:8080/"
    },
    "id": "YcGOT6pktqwy",
    "outputId": "36489b1c-5739-426f-c811-20ce49766419"
   },
   "outputs": [
    {
     "name": "stdout",
     "output_type": "stream",
     "text": [
      "    School   Name  Math_S\n",
      "0   Yeonhi  Haena      92\n",
      "1   Yeonhi   Gisu      71\n",
      "2  Sungsan    Una      88\n",
      "3  Sungsan  Naeun      92\n",
      "4  Sungsan   Ziho      70\n",
      "==================================================\n",
      "School\n",
      "Sungsan    83.333333\n",
      "Yeonhi     81.500000\n",
      "Name: Math_S, dtype: float64\n",
      "==================================================\n",
      "School\n",
      "Sungsan    83.333333\n",
      "Yeonhi     81.500000\n",
      "Name: Avg_S, dtype: float64\n",
      "==================================================\n",
      "    School      Avg_S\n",
      "0  Sungsan  83.333333\n",
      "1   Yeonhi  81.500000\n",
      "==================================================\n",
      "    School   Name  Math_S      Avg_S\n",
      "0   Yeonhi  Haena      92  81.500000\n",
      "1   Yeonhi   Gisu      71  81.500000\n",
      "2  Sungsan    Una      88  83.333333\n",
      "3  Sungsan  Naeun      92  83.333333\n",
      "4  Sungsan   Ziho      70  83.333333\n",
      "==================================================\n",
      "    School   Name  Math_S  Rating_S\n",
      "0   Yeonhi  Haena      92      0.92\n",
      "1   Yeonhi   Gisu      71      0.71\n",
      "2  Sungsan    Una      88      0.88\n",
      "3  Sungsan  Naeun      92      0.92\n",
      "4  Sungsan   Ziho      70      0.70\n"
     ]
    }
   ],
   "source": [
    "# 2. 데이터의 그룹 연산\n",
    "\n",
    "# GroupBy 객체를 그룹별 연산 및 변환: 학교별 수학 성적에 분할, 적용, 통합 연산 실행\n",
    "df = pd.DataFrame({'School': ['Yeonhi', 'Yeonhi', 'Sungsan', 'Sungsan', 'Sungsan'],\n",
    "                   'Name': ['Haena', 'Gisu', 'Una', 'Naeun', 'Ziho'],\n",
    "                   'Math_S': [92, 71, 88, 92, 70]})\n",
    "print(df), print('='*50)\n",
    "\n",
    "mean_s = df.groupby('School')['Math_S'].agg('mean')\n",
    "print(mean_s), print('='*50)\n",
    "\n",
    "print(mean_s.rename('Avg_S')), print('='*50)\n",
    "\n",
    "avg_score = mean_s.rename('Avg_S').reset_index()\n",
    "print(avg_score), print('='*50)\n",
    "\n",
    "# df 객체에 avg_score를 병항\n",
    "df_new = df.merge(avg_score)\n",
    "print(df_new), print('='*50)\n",
    "\n",
    "# apply() 메소드 적용\n",
    "df['Rating_S'] = df['Math_S'].apply(lambda x: x/100)\n",
    "print(df)"
   ]
  },
  {
   "cell_type": "code",
   "execution_count": 67,
   "metadata": {
    "colab": {
     "base_uri": "https://localhost:8080/"
    },
    "id": "tZMzdMTatbXU",
    "outputId": "3e2bc496-30cc-46b9-9cbb-98d68769dfc3"
   },
   "outputs": [
    {
     "name": "stdout",
     "output_type": "stream",
     "text": [
      "    School   Name  Math_S  Rating_S\n",
      "0   Yeonhi  Haena      92      0.92\n",
      "1   Yeonhi   Gisu      71      0.71\n",
      "2  Sungsan    Una      88      0.88\n",
      "3  Sungsan  Naeun      92      0.92\n",
      "4  Sungsan   Ziho      70      0.70\n",
      "==================================================\n",
      "['A', 'C', 'B', 'A', 'F']\n",
      "==================================================\n",
      "    School   Name  Math_S  Rating_S Grade\n",
      "0   Yeonhi  Haena      92      0.92     A\n",
      "1   Yeonhi   Gisu      71      0.71     C\n",
      "2  Sungsan    Una      88      0.88     B\n",
      "3  Sungsan  Naeun      92      0.92     A\n",
      "4  Sungsan   Ziho      70      0.70     F\n"
     ]
    }
   ],
   "source": [
    "# 2. 데이터의 그룹 연산\n",
    "\n",
    "# GroupBy 객체를 그룹별 연산 및 변환: 학교별 수학 성적에 분할, 적용, 통합 연산 실행\n",
    "print(df), print('='*50)\n",
    "\n",
    "math_score = df['Math_S']\n",
    "grade = []\n",
    "for x in math_score:\n",
    "    if x > 90:\n",
    "        grade.append('A')\n",
    "    elif x > 80:\n",
    "        grade.append('B')\n",
    "    elif x > 70:\n",
    "        grade.append('C')\n",
    "    else:\n",
    "        grade.append('F')\n",
    "\n",
    "print(grade), print('='*50)\n",
    "\n",
    "df['Grade'] = grade\n",
    "print(df)"
   ]
  },
  {
   "cell_type": "code",
   "execution_count": null,
   "metadata": {
    "colab": {
     "base_uri": "https://localhost:8080/"
    },
    "id": "0-mG0qtutbUs",
    "outputId": "266f16dd-d01f-4e6d-9269-af8e26892859"
   },
   "outputs": [
    {
     "name": "stdout",
     "output_type": "stream",
     "text": [
      "    School   Name  Math_S  Rating_S Grade\n",
      "0   Yeonhi  Haena      92      0.92     A\n",
      "1   Yeonhi   Gisu      70      0.70     F\n",
      "2  Sungsan    Una      88      0.88     B\n",
      "3  Sungsan  Naeun      92      0.92     A\n",
      "4  Sungsan   Ziho      70      0.70     F\n",
      "==================================================\n",
      "0    81.000000\n",
      "1    81.000000\n",
      "2    83.333333\n",
      "3    83.333333\n",
      "4    83.333333\n",
      "Name: Math_S, dtype: float64\n",
      "==================================================\n",
      "    School   Name  Math_S  Rating_S Grade      Avg_S\n",
      "0   Yeonhi  Haena      92      0.92     A  81.000000\n",
      "1   Yeonhi   Gisu      70      0.70     F  81.000000\n",
      "2  Sungsan    Una      88      0.88     B  83.333333\n",
      "3  Sungsan  Naeun      92      0.92     A  83.333333\n",
      "4  Sungsan   Ziho      70      0.70     F  83.333333\n",
      "==================================================\n",
      "    School   Name  Math_S  Rating_S Grade      Avg_S  Above_Avg\n",
      "0   Yeonhi  Haena      92      0.92     A  81.000000       True\n",
      "1   Yeonhi   Gisu      70      0.70     F  81.000000      False\n",
      "2  Sungsan    Una      88      0.88     B  83.333333       True\n",
      "3  Sungsan  Naeun      92      0.92     A  83.333333       True\n",
      "4  Sungsan   Ziho      70      0.70     F  83.333333      False\n"
     ]
    }
   ],
   "source": [
    "# 2. 데이터의 그룹 연산\n",
    "\n",
    "# GroupBy 객체를 그룹별 연산 및 변환: 학교별 수학 성적에 분할, 적용, 통합 연산 실행\n",
    "print(df), print('='*50)\n",
    "\n",
    "# transform() 메소드로 학점 연산하는 방법\n",
    "result = df.groupby('School')['Math_S'].transform('mean')\n",
    "print(result), print('='*50)\n",
    "\n",
    "df['Avg_S'] = result\n",
    "print(df), print('='*50)\n",
    "\n",
    "df['Above_Avg'] = df['Avg_S'] < df['Math_S']\n",
    "print(df)\n",
    "\n"
   ]
  },
  {
   "cell_type": "code",
   "execution_count": null,
   "metadata": {
    "id": "ERbVecBIheBb"
   },
   "outputs": [],
   "source": []
  }
 ],
 "metadata": {
  "colab": {
   "provenance": []
  },
  "kernelspec": {
   "display_name": "Python [conda env:base] *",
   "language": "python",
   "name": "conda-base-py"
  },
  "language_info": {
   "codemirror_mode": {
    "name": "ipython",
    "version": 3
   },
   "file_extension": ".py",
   "mimetype": "text/x-python",
   "name": "python",
   "nbconvert_exporter": "python",
   "pygments_lexer": "ipython3",
   "version": "3.12.7"
  }
 },
 "nbformat": 4,
 "nbformat_minor": 4
}
