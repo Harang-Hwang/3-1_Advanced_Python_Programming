{
  "cells": [
    {
      "cell_type": "code",
      "execution_count": null,
      "metadata": {
        "id": "p_vyb0nxGJjq"
      },
      "outputs": [],
      "source": [
        "a = numpy.array([1,2,3])\n",
        "print(b)\n",
        "\n",
        "import numpy as np"
      ]
    },
    {
      "cell_type": "code",
      "execution_count": null,
      "metadata": {
        "id": "ukR1mIPueQ2o",
        "outputId": "404d2ff1-3334-4c30-b5d0-19dadb1a901b"
      },
      "outputs": [
        {
          "name": "stdout",
          "output_type": "stream",
          "text": [
            "[12, 13, 14]\n",
            "(2, 5, 1)\n",
            "[12 13 14]\n",
            "[2 5 1]\n"
          ]
        }
      ],
      "source": [
        "# 1. list, tuple을 통한 array (배열) 생성\n",
        "a = [12, 13, 14]\n",
        "b = (2, 5, 1)\n",
        "\n",
        "arr1 = np.array(a)\n",
        "arr2 = np.array(b)\n",
        "\n",
        "print(a) # list와 tuple은 요소간 , 가 있다\n",
        "print(b)\n",
        "print(arr1) # array는 콤마가 없다\n",
        "print(arr2)"
      ]
    },
    {
      "cell_type": "code",
      "execution_count": null,
      "metadata": {
        "id": "kdYFX7gReQ2o",
        "outputId": "1509d467-7d66-4886-a921-3cb274ea7d49"
      },
      "outputs": [
        {
          "name": "stdout",
          "output_type": "stream",
          "text": [
            "[12 13 14]\n"
          ]
        }
      ],
      "source": [
        "a = np.array([12, 13, 14])\n",
        "print(a)"
      ]
    },
    {
      "cell_type": "code",
      "execution_count": null,
      "metadata": {
        "id": "-gu_65TJeQ2o",
        "outputId": "3ead7023-742e-4d83-d468-70ff41873b29"
      },
      "outputs": [
        {
          "name": "stdout",
          "output_type": "stream",
          "text": [
            "[[1 2 3]\n",
            " [2 3 4]]\n",
            "[12 13 14]\n"
          ]
        }
      ],
      "source": [
        "b = np.array([[1,2,3],[2,3,4]])\n",
        "print(b)\n",
        "print(a)"
      ]
    },
    {
      "cell_type": "markdown",
      "metadata": {
        "id": "gPiN6Tx1NXV5"
      },
      "source": [
        "#### numpy에서 자주 사용하는 메서드\n",
        "\n",
        "##### 1.배열 정보: .shape, .ndim, .dtype, .size\n",
        "##### 2.배열 변형: .reshape(), .ravel(), .flatten(), .T, .astype(), .squeeze()\n",
        "##### 3.수학 연산: .sum(), .mean(), .std(), .var(), .min(), .max(), .argmin(), .argmax(), .cumsum(), .cumprod()\n",
        "##### 4.배열 조작: .concatenate(), .stack(), .hstack(), .vstack(), .split(), .hsplit(), .vsplit(), .unique()\n",
        "##### 5.논리 연산: .where(), .any(), .all()\n",
        "##### 6.난수 생성: np.random.rand(), np.random.randn(), np.random.randint(), np.random.shuffle()"
      ]
    },
    {
      "cell_type": "markdown",
      "metadata": {
        "id": "KGh8E6jspHe2"
      },
      "source": [
        "### --------------------------------------------------------------------------------------------------------------------------------"
      ]
    },
    {
      "cell_type": "markdown",
      "metadata": {
        "id": "PHVZaGJINsWf"
      },
      "source": [
        "#### 1.배열 정보: .shape, .ndim, .dtype, .size, .itmesize\n",
        "\n",
        "###### .shape: 배열의 형태(차원의 크기)를 반환\n",
        "###### .ndim: 배열의 차원(축 개수) 반환\n",
        "###### .dtype: 배열의 데이터 타입(정수, 실수, 복소수, 문자열 등..) 확인\n",
        "###### .size: 배열의 총 원소 개수 반환\n",
        "###### .itemsize: 원소 하나의 크기(단위: byte)"
      ]
    },
    {
      "cell_type": "code",
      "execution_count": null,
      "metadata": {
        "colab": {
          "base_uri": "https://localhost:8080/"
        },
        "id": "rY_Bfd5KEKwU",
        "outputId": "a5ceeed0-35f1-41bf-f639-9702fcf8f479"
      },
      "outputs": [
        {
          "name": "stdout",
          "output_type": "stream",
          "text": [
            "[0.  2.  2.4 9. ]\n",
            "------------------------------\n",
            "type is: <class 'numpy.ndarray'>\n",
            "shape is: (4,)\n",
            "ndim is: 1\n",
            "dtype is: float64\n",
            "size is: 4\n",
            "itemsize is: 8\n"
          ]
        }
      ],
      "source": [
        "# array 생성1: numpy array로 1차원 벡터 생성\n",
        "\n",
        "arr1 = np.array([0, 2, 2.4, 9])\n",
        "\n",
        "print(arr1)\n",
        "print('-'*30)\n",
        "\n",
        "print(f'type is: {type(arr1)}') # type(자료형)은 파이썬에서 제공\n",
        "print(f'shape is: {arr1.shape}')\n",
        "print(f'ndim is: {arr1.ndim}')\n",
        "print(f'dtype is: {arr1.dtype}')\n",
        "print(f'size is: {arr1.size}')\n",
        "print(f'itemsize is: {arr1.itemsize}')"
      ]
    },
    {
      "cell_type": "code",
      "execution_count": null,
      "metadata": {
        "colab": {
          "base_uri": "https://localhost:8080/"
        },
        "id": "y_rqf09RGEN-",
        "outputId": "46fc55a2-3044-4fdf-97a2-d338faf7c5cc"
      },
      "outputs": [
        {
          "name": "stdout",
          "output_type": "stream",
          "text": [
            "[[1 2 3]\n",
            " [4 5 6]]\n",
            "------------------------------\n",
            "type is: <class 'numpy.ndarray'>\n",
            "shape is: (2, 3)\n",
            "ndim is: 2\n",
            "dtype is: int32\n",
            "size is: 6\n",
            "itemsize is: 8\n"
          ]
        }
      ],
      "source": [
        "# array 생성2: numpy array로 2차원 배열 생성\n",
        "\n",
        "# arr2 = np.array([[1, 2, 3], [4, 5, 6]])\n",
        "arr2 = np.array([[1, 2, 3],\n",
        "                 [4, 5, 6]])\n",
        "\n",
        "print(arr2)\n",
        "print('-'*30)\n",
        "\n",
        "print(f'type is: {type(arr2)}')\n",
        "print(f'shape is: {arr2.shape}')\n",
        "print(f'ndim is: {arr2.ndim}')\n",
        "print(f'dtype is: {arr2.dtype}')\n",
        "print(f'size is: {arr2.size}')\n",
        "print(f'itemsize is: {arr1.itemsize}')"
      ]
    },
    {
      "cell_type": "code",
      "execution_count": null,
      "metadata": {
        "colab": {
          "base_uri": "https://localhost:8080/"
        },
        "id": "BYEc9RGGGHZ9",
        "outputId": "cd6076b7-454c-4857-9299-121f3790f989"
      },
      "outputs": [
        {
          "name": "stdout",
          "output_type": "stream",
          "text": [
            "[0. 0. 0. 0. 0.]\n",
            "------------------------------\n",
            "type is: <class 'numpy.ndarray'>\n",
            "shape is: (5,)\n",
            "ndim is: 1\n",
            "dtype is: float64\n",
            "size is: 5\n",
            "itemsize is: 8\n",
            "==============================\n",
            "[[0. 0. 0.]\n",
            " [0. 0. 0.]]\n",
            "------------------------------\n",
            "type is: <class 'numpy.ndarray'>\n",
            "shape is: (2, 3)\n",
            "ndim is: 2\n",
            "dtype is: float64\n",
            "size is: 6\n",
            "itemsize is: 8\n",
            "==============================\n",
            "[[0. 0. 0. 0. 0.]]\n",
            "------------------------------\n",
            "type is: <class 'numpy.ndarray'>\n",
            "shape is: (1, 5)\n",
            "ndim is: 2\n",
            "dtype is: float64\n",
            "size is: 5\n",
            "itemsize is: 8\n"
          ]
        }
      ],
      "source": [
        "# array 생성 3: zeros()로 array 생성\n",
        "\n",
        "# a1과 a3를 비교하는게 중요\n",
        "a1 = np.zeros(5)       # shape = (5,)\n",
        "a2 = np.zeros((2,3))   # shape = (2,3)\n",
        "a3 = np.zeros((1,5))   # shape = (1,5)\n",
        "\n",
        "print(a1)\n",
        "print('-'*30)\n",
        "print(f'type is: {type(a1)}')\n",
        "print(f'shape is: {a1.shape}')\n",
        "print(f'ndim is: {a1.ndim}')\n",
        "print(f'dtype is: {a1.dtype}')\n",
        "print(f'size is: {a1.size}')\n",
        "print(f'itemsize is: {a1.itemsize}')\n",
        "print('='*30)\n",
        "\n",
        "print(a2)\n",
        "print('-'*30)\n",
        "print(f'type is: {type(a2)}')\n",
        "print(f'shape is: {a2.shape}')\n",
        "print(f'ndim is: {a2.ndim}')\n",
        "print(f'dtype is: {a2.dtype}')\n",
        "print(f'size is: {a2.size}')\n",
        "print(f'itemsize is: {a2.itemsize}')\n",
        "print('='*30)\n",
        "\n",
        "print(a3)\n",
        "print('-'*30)\n",
        "print(f'type is: {type(a3)}')\n",
        "print(f'shape is: {a3.shape}')\n",
        "print(f'ndim is: {a3.ndim}')\n",
        "print(f'dtype is: {a3.dtype}')\n",
        "print(f'size is: {a3.size}')\n",
        "print(f'itemsize is: {a3.itemsize}')"
      ]
    },
    {
      "cell_type": "code",
      "execution_count": null,
      "metadata": {
        "id": "eR3yOJxveQ2p",
        "outputId": "4d26fad4-f6b5-446a-dfd6-cc9c4bf81843"
      },
      "outputs": [
        {
          "name": "stdout",
          "output_type": "stream",
          "text": [
            "[[0.]\n",
            " [0.]\n",
            " [0.]]\n",
            "(3, 1)\n",
            "[[0. 0. 0.]]\n",
            "(1, 3)\n"
          ]
        }
      ],
      "source": [
        "aa = np.zeros((3,1))\n",
        "bb = np.zeros((1,3))\n",
        "print(aa)\n",
        "print(aa.shape)\n",
        "\n",
        "print(bb)\n",
        "print(bb.shape)"
      ]
    },
    {
      "cell_type": "code",
      "execution_count": null,
      "metadata": {
        "colab": {
          "base_uri": "https://localhost:8080/"
        },
        "id": "-HoswhOxzJ1L",
        "outputId": "64307b12-cb11-4be8-f283-d92b2a0d17b3"
      },
      "outputs": [
        {
          "name": "stdout",
          "output_type": "stream",
          "text": [
            "[[0. 0. 0.]\n",
            " [0. 0. 0.]]\n",
            "[[0. 0. 0.]\n",
            " [0. 0. 0.]]\n",
            "[[0. 0. 0.]\n",
            " [0. 0. 0.]]\n"
          ]
        }
      ],
      "source": [
        "a1 = np.zeros([2,3])\n",
        "a2 = np.zeros(shape=[2,3])\n",
        "a3 = np.zeros(shape=(2,3))\n",
        "print(a1)\n",
        "print(a2)\n",
        "print(a3)"
      ]
    },
    {
      "cell_type": "code",
      "execution_count": null,
      "metadata": {
        "colab": {
          "base_uri": "https://localhost:8080/"
        },
        "id": "Vf_F5PYPHzVR",
        "outputId": "5dbc1b26-fa84-41ef-e373-a3d04f124585"
      },
      "outputs": [
        {
          "name": "stdout",
          "output_type": "stream",
          "text": [
            "[[0. 0.]\n",
            " [0. 0.]\n",
            " [0. 0.]\n",
            " [0. 0.]\n",
            " [0. 0.]\n",
            " [0. 0.]]\n",
            "==============================\n",
            "[[0. 0.]\n",
            " [1. 1.]\n",
            " [2. 2.]\n",
            " [3. 3.]\n",
            " [4. 4.]\n",
            " [5. 5.]]\n",
            "2.0\n"
          ]
        }
      ],
      "source": [
        "arr = np.zeros(shape=(6,2))\n",
        "print(arr)\n",
        "print('='*30)\n",
        "\n",
        "for i in range(6):\n",
        "    arr[i] = (i,i) # arr[i]는 i번째 행\n",
        "\n",
        "print(arr)\n",
        "print(arr[2][1]) # arr의 2행 1열의 요소에 접근"
      ]
    },
    {
      "cell_type": "code",
      "execution_count": null,
      "metadata": {
        "colab": {
          "base_uri": "https://localhost:8080/"
        },
        "id": "nUwvB9BeICfq",
        "outputId": "9317065d-1984-44f3-8b8b-0c089828b557"
      },
      "outputs": [
        {
          "name": "stdout",
          "output_type": "stream",
          "text": [
            "[1. 1. 1. 1. 1.]\n",
            "------------------------------\n",
            "type is: <class 'numpy.ndarray'>\n",
            "shape is: (5,)\n",
            "ndim is: 1\n",
            "dtype is: float64\n",
            "size is: 5\n",
            "==============================\n",
            "[[1 1 1]\n",
            " [1 1 1]]\n",
            "------------------------------\n",
            "type is: <class 'numpy.ndarray'>\n",
            "shape is: (2, 3)\n",
            "ndim is: 2\n",
            "dtype is: int32\n",
            "size is: 6\n",
            "==============================\n",
            "[[1 1 1 1 1]]\n",
            "------------------------------\n",
            "type is: <class 'numpy.ndarray'>\n",
            "shape is: (1, 5)\n",
            "ndim is: 2\n",
            "dtype is: int32\n",
            "size is: 5\n",
            "==============================\n"
          ]
        }
      ],
      "source": [
        "# array 생성 4: ones()로 array 생성\n",
        "\n",
        "a1 = np.ones(5)\n",
        "a2 = np.ones((2, 3), dtype=np.int32)\n",
        "a3 = np.ones((1,5), dtype=int)\n",
        "\n",
        "print(a1)\n",
        "print('-'*30)\n",
        "print(f'type is: {type(a1)}')\n",
        "print(f'shape is: {a1.shape}')\n",
        "print(f'ndim is: {a1.ndim}')\n",
        "print(f'dtype is: {a1.dtype}')\n",
        "print(f'size is: {a1.size}')\n",
        "print('='*30)\n",
        "\n",
        "print(a2)\n",
        "print('-'*30)\n",
        "print(f'type is: {type(a2)}')\n",
        "print(f'shape is: {a2.shape}')\n",
        "print(f'ndim is: {a2.ndim}')\n",
        "print(f'dtype is: {a2.dtype}')\n",
        "print(f'size is: {a2.size}')\n",
        "print('='*30)\n",
        "\n",
        "print(a3)\n",
        "print('-'*30)\n",
        "print(f'type is: {type(a3)}')\n",
        "print(f'shape is: {a3.shape}')\n",
        "print(f'ndim is: {a3.ndim}')\n",
        "print(f'dtype is: {a3.dtype}')\n",
        "print(f'size is: {a3.size}')\n",
        "print('='*30)"
      ]
    },
    {
      "cell_type": "code",
      "execution_count": null,
      "metadata": {
        "colab": {
          "base_uri": "https://localhost:8080/"
        },
        "id": "15SsPH3yMWNe",
        "outputId": "dc47690a-36ec-4dec-b608-8644cb308c84"
      },
      "outputs": [
        {
          "name": "stdout",
          "output_type": "stream",
          "text": [
            "a is: [1. 1. 1. 1. 1.]\n",
            "dtype of a is: float64\n",
            "==============================\n",
            "b is: [1 1 1 1 1]\n",
            "dtype of b is: int32\n"
          ]
        }
      ],
      "source": [
        "a = np.ones(5)\n",
        "print(f'a is: {a}')\n",
        "print(f'dtype of a is: {a.dtype}')\n",
        "print('='*30)\n",
        "\n",
        "# 참고:교재에는 int로 되어있는데, np.int32로 바꿈\n",
        "b = np.ones(5, dtype=np.int32)\n",
        "#b = np.ones(5, dtype=int) # 위와 같은 결과임\n",
        "print(f'b is: {b}')\n",
        "print(f'dtype of b is: {b.dtype}')"
      ]
    },
    {
      "cell_type": "code",
      "execution_count": null,
      "metadata": {
        "colab": {
          "base_uri": "https://localhost:8080/"
        },
        "id": "ERIQwY_pNDUK",
        "outputId": "624aa988-4601-44e0-d3d2-160c4be09b75"
      },
      "outputs": [
        {
          "name": "stdout",
          "output_type": "stream",
          "text": [
            "a is: \n",
            "[[0.  2. ]\n",
            " [2.4 9. ]]\n",
            "dtype of a is: float64\n",
            "============================================================\n",
            "b is: [1 1 1 1 1]\n",
            "dtype of b is: int32\n"
          ]
        }
      ],
      "source": [
        "# array 생성 5: empty()로 array 생성\n",
        "\n",
        "a = np.empty((2,2))\n",
        "print(f'a is: \\n{a}')\n",
        "print(f'dtype of a is: {a.dtype}')\n",
        "print('='*60)\n",
        "\n",
        "b = np.empty(5, dtype=np.int32) # 32bit integer\n",
        "print(f'b is: {b}')\n",
        "print(f'dtype of b is: {b.dtype}')"
      ]
    },
    {
      "cell_type": "code",
      "execution_count": null,
      "metadata": {
        "id": "ZVVVdp5qeQ2q",
        "outputId": "52d3bb39-803e-41fe-a3fd-d039ff82bf0c"
      },
      "outputs": [
        {
          "name": "stdout",
          "output_type": "stream",
          "text": [
            "[[0.875124   0.46923076 0.97339353]\n",
            " [0.96668237 0.21117806 0.97642895]]\n",
            "[[0.33117297 0.54960733 0.11124454]\n",
            " [0.04626475 0.48385392 0.23210212]]\n"
          ]
        }
      ],
      "source": [
        "# 참고: random number와 empty 비교\n",
        "a = np.random.rand(2,3)\n",
        "print(a)\n",
        "\n",
        "b = np.random.random((2,3))\n",
        "print(b)"
      ]
    },
    {
      "cell_type": "code",
      "execution_count": null,
      "metadata": {
        "colab": {
          "base_uri": "https://localhost:8080/"
        },
        "id": "G-Z1CZUhNR6I",
        "outputId": "6a3a8fee-03b4-441b-cfc7-49d441153aa3"
      },
      "outputs": [
        {
          "name": "stdout",
          "output_type": "stream",
          "text": [
            "[[1 0 0]\n",
            " [0 1 0]\n",
            " [0 0 1]]\n",
            "====================\n",
            "[[0 1 0]\n",
            " [0 0 1]\n",
            " [0 0 0]]\n",
            "====================\n",
            "[[0 0 1]\n",
            " [0 0 0]\n",
            " [0 0 0]]\n",
            "====================\n",
            "[[0 0 0]\n",
            " [1 0 0]\n",
            " [0 1 0]]\n"
          ]
        }
      ],
      "source": [
        "# array 생성 6: eye()=I(identity matrix)로 array 생성\n",
        "\n",
        "a = np.eye(3, dtype=np.int32)\n",
        "print(a)\n",
        "print('='*20)\n",
        "\n",
        "b = np.eye(3, k=1, dtype=np.int32)\n",
        "print(b)\n",
        "print('='*20)\n",
        "\n",
        "c = np.eye(3, k=2, dtype=np.int32)\n",
        "print(c)\n",
        "print('='*20)\n",
        "\n",
        "d = np.eye(3, k=-1, dtype=np.int32)\n",
        "print(d)"
      ]
    },
    {
      "cell_type": "code",
      "execution_count": null,
      "metadata": {
        "colab": {
          "base_uri": "https://localhost:8080/"
        },
        "id": "Y_gIdnaSPHgf",
        "outputId": "f33cdec3-5f9b-48ff-840d-dd3ae36d181d"
      },
      "outputs": [
        {
          "name": "stdout",
          "output_type": "stream",
          "text": [
            "[2.   2.25 2.5  2.75 3.  ] \n",
            " ======================================== \n",
            "\n",
            "[2.   2.25 2.5  2.75 3.  ] \n",
            " ======================================== \n",
            "\n",
            "[2.   2.25 2.5  2.75 3.  ] \n",
            " ======================================== \n",
            "\n",
            "[2.  2.2 2.4 2.6 2.8] \n",
            " ======================================== \n",
            "\n",
            "(array([2.  , 2.25, 2.5 , 2.75, 3.  ]), 0.25)\n"
          ]
        }
      ],
      "source": [
        "# array 생성 7: linspace() 함수로 array 생성\n",
        "\n",
        "a = np.linspace(2, 3, 5) # 2와 3 사이를 5등분\n",
        "b = np.linspace(2, 3, num=5)\n",
        "c = np.linspace(2.0, 3.0, 5)\n",
        "d = np.linspace(2.0, 3.0, 5, endpoint=False)  # endpoint = False\n",
        "e = np.linspace(2.0, 3.0, 5, retstep=True)        # retstep = True (return step)\n",
        "\n",
        "print(a,'\\n','='*40, '\\n')\n",
        "print(b,'\\n','='*40, '\\n')\n",
        "print(c,'\\n','='*40, '\\n')\n",
        "print(d,'\\n','='*40, '\\n')\n",
        "print(e)"
      ]
    },
    {
      "cell_type": "code",
      "execution_count": null,
      "metadata": {
        "colab": {
          "base_uri": "https://localhost:8080/"
        },
        "id": "ikm5z2UJQWs3",
        "outputId": "354db432-b417-4f16-a559-27c9e86b0252"
      },
      "outputs": [
        {
          "name": "stdout",
          "output_type": "stream",
          "text": [
            "range(0, 5)\n",
            "type of a is: <class 'range'>\n",
            "========================================\n",
            "[0, 1, 2, 3, 4]\n",
            "type of b is: <class 'list'>\n",
            "========================================\n",
            "[0 1 2 3 4]\n",
            "type of c is: <class 'numpy.ndarray'>\n",
            "========================================\n"
          ]
        }
      ],
      "source": [
        "# array 생성 8: arange() 함수로 array 생성 1\n",
        "\n",
        "# range vs. arange\n",
        "\n",
        "a = range(5)\n",
        "print(a)\n",
        "print(f'type of a is: {type(a)}')\n",
        "print('='*40)\n",
        "\n",
        "b = list(range(5))\n",
        "print(b)\n",
        "print(f'type of b is: {type(b)}')\n",
        "print('='*40)\n",
        "\n",
        "c = np.arange(5)\n",
        "print(c)\n",
        "print(f'type of c is: {type(c)}')\n",
        "print('='*40)"
      ]
    },
    {
      "cell_type": "code",
      "execution_count": null,
      "metadata": {
        "colab": {
          "base_uri": "https://localhost:8080/"
        },
        "id": "ONss8mTsRBLR",
        "outputId": "4552d5eb-7c33-46a5-9dd9-84a8200c8ebf"
      },
      "outputs": [
        {
          "name": "stdout",
          "output_type": "stream",
          "text": [
            "[0 1 2 3 4]\n",
            "========================================\n",
            "[3 4 5 6]\n",
            "========================================\n",
            "[2 5 8]\n",
            "========================================\n"
          ]
        }
      ],
      "source": [
        "# array 생성 8: arange() 함수로 array 생성 2\n",
        "\n",
        "a = np.arange(5)\n",
        "print(a)\n",
        "print('='*40)\n",
        "\n",
        "b = np.arange(3, 7)\n",
        "print(b)\n",
        "print('='*40)\n",
        "\n",
        "c = np.arange(2,9,3)\n",
        "print(c)\n",
        "print('='*40)"
      ]
    },
    {
      "cell_type": "code",
      "execution_count": null,
      "metadata": {
        "colab": {
          "base_uri": "https://localhost:8080/",
          "height": 336
        },
        "id": "oiUOwaH2Rek5",
        "outputId": "aadfb68a-32c6-4241-f023-f2306b411113"
      },
      "outputs": [
        {
          "name": "stdout",
          "output_type": "stream",
          "text": [
            "[0 1 2 3 4]\n",
            "========================================\n",
            "[ 0  1 10  3  4]\n",
            "========================================\n",
            "[ 0  1 10 10  4]\n",
            "========================================\n"
          ]
        },
        {
          "ename": "ValueError",
          "evalue": "invalid literal for int() with base 10: 'onezero'",
          "output_type": "error",
          "traceback": [
            "\u001b[0;31m---------------------------------------------------------------------------\u001b[0m",
            "\u001b[0;31mValueError\u001b[0m                                Traceback (most recent call last)",
            "\u001b[0;32m<ipython-input-10-977d15e4a438>\u001b[0m in \u001b[0;36m<cell line: 0>\u001b[0;34m()\u001b[0m\n\u001b[1;32m     13\u001b[0m \u001b[0mprint\u001b[0m\u001b[0;34m(\u001b[0m\u001b[0;34m'='\u001b[0m\u001b[0;34m*\u001b[0m\u001b[0;36m40\u001b[0m\u001b[0;34m)\u001b[0m\u001b[0;34m\u001b[0m\u001b[0;34m\u001b[0m\u001b[0m\n\u001b[1;32m     14\u001b[0m \u001b[0;34m\u001b[0m\u001b[0m\n\u001b[0;32m---> 15\u001b[0;31m \u001b[0ma\u001b[0m\u001b[0;34m[\u001b[0m\u001b[0;36m4\u001b[0m\u001b[0;34m]\u001b[0m \u001b[0;34m=\u001b[0m \u001b[0;34m'onezero'\u001b[0m\u001b[0;34m\u001b[0m\u001b[0;34m\u001b[0m\u001b[0m\n\u001b[0m\u001b[1;32m     16\u001b[0m \u001b[0mprint\u001b[0m\u001b[0;34m(\u001b[0m\u001b[0ma\u001b[0m\u001b[0;34m)\u001b[0m\u001b[0;34m\u001b[0m\u001b[0;34m\u001b[0m\u001b[0m\n\u001b[1;32m     17\u001b[0m \u001b[0mprint\u001b[0m\u001b[0;34m(\u001b[0m\u001b[0;34m'='\u001b[0m\u001b[0;34m*\u001b[0m\u001b[0;36m40\u001b[0m\u001b[0;34m)\u001b[0m\u001b[0;34m\u001b[0m\u001b[0;34m\u001b[0m\u001b[0m\n",
            "\u001b[0;31mValueError\u001b[0m: invalid literal for int() with base 10: 'onezero'"
          ]
        }
      ],
      "source": [
        "# array 생성 8:  arange() 함수로 array 생성 3\n",
        "\n",
        "a = np.arange(5) # a = [0,1,2,3,4]\n",
        "print(a)\n",
        "print('='*40)\n",
        "\n",
        "a[2] = 10        # a = [0,1,10,3,4]\n",
        "print(a)\n",
        "print('='*40)\n",
        "\n",
        "a[3] = '10'      # a = [0,1,10,10,4]\n",
        "print(a)\n",
        "print('='*40)\n",
        "\n",
        "a[4] = 'onezero' # a = [0,1,10,10,'onezero'] :에러발생\n",
        "print(a)\n",
        "print('='*40)"
      ]
    },
    {
      "cell_type": "code",
      "execution_count": null,
      "metadata": {
        "id": "hBGDXw35eQ2q",
        "outputId": "102f25e2-0434-44e0-e4e1-6c5b368f7849"
      },
      "outputs": [
        {
          "name": "stdout",
          "output_type": "stream",
          "text": [
            "[[1 2 3]\n",
            " [4 5 6]] (2, 3)\n",
            "[[[[5 1 5 3 2]\n",
            "   [2 6 4 1 8]\n",
            "   [1 6 6 8 6]\n",
            "   [6 1 7 2 6]]\n",
            "\n",
            "  [[9 9 3 7 4]\n",
            "   [7 9 6 7 7]\n",
            "   [5 2 1 3 7]\n",
            "   [3 3 1 2 6]]\n",
            "\n",
            "  [[7 2 9 9 9]\n",
            "   [6 5 1 7 5]\n",
            "   [9 5 1 6 5]\n",
            "   [6 1 4 3 8]]]\n",
            "\n",
            "\n",
            " [[[9 2 8 3 2]\n",
            "   [1 7 5 1 7]\n",
            "   [9 8 1 9 6]\n",
            "   [8 3 7 2 2]]\n",
            "\n",
            "  [[2 3 7 7 6]\n",
            "   [1 6 4 6 3]\n",
            "   [8 2 1 3 1]\n",
            "   [8 6 5 8 1]]\n",
            "\n",
            "  [[5 1 8 6 8]\n",
            "   [2 6 1 1 5]\n",
            "   [2 8 3 2 2]\n",
            "   [5 2 9 1 1]]]]\n",
            "(2, 3, 4, 5)\n",
            "[[[[0 0 0 0 0]\n",
            "   [0 0 0 0 0]\n",
            "   [0 0 0 0 0]\n",
            "   [0 0 0 0 0]]\n",
            "\n",
            "  [[0 0 0 0 0]\n",
            "   [0 0 0 0 0]\n",
            "   [0 0 0 0 0]\n",
            "   [0 0 0 0 0]]\n",
            "\n",
            "  [[0 0 0 0 0]\n",
            "   [0 0 0 0 0]\n",
            "   [0 0 0 0 0]\n",
            "   [0 0 0 0 0]]]\n",
            "\n",
            "\n",
            " [[[0 0 0 0 0]\n",
            "   [0 0 0 0 0]\n",
            "   [0 0 0 0 0]\n",
            "   [0 0 0 0 0]]\n",
            "\n",
            "  [[0 0 0 0 0]\n",
            "   [0 0 0 0 0]\n",
            "   [0 0 0 0 0]\n",
            "   [0 0 0 0 0]]\n",
            "\n",
            "  [[0 0 0 0 0]\n",
            "   [0 0 0 0 0]\n",
            "   [0 0 0 0 0]\n",
            "   [0 0 0 0 0]]]]\n",
            "(2, 3, 4, 5)\n"
          ]
        }
      ],
      "source": [
        "# array 생성 9: zeros_like(), ones_like(), empty_like()\n",
        "\n",
        "a = np.array([[1,2,3],\n",
        "              [4,5,6]])\n",
        "print(a, a.shape)\n",
        "\n",
        "b = np.random.randint(1,10,(2,3,4,5))\n",
        "print(b)\n",
        "print(b.shape)\n",
        "\n",
        "c = np.zeros_like(b)\n",
        "print(c)\n",
        "print(c.shape)\n",
        "\n",
        "d = np.ones_like(b)\n",
        "e = np.empty_like(b)"
      ]
    },
    {
      "cell_type": "code",
      "execution_count": null,
      "metadata": {
        "id": "4ZWTrDIreQ2q",
        "outputId": "215ea089-91f9-4596-8e46-fe1ce65fe600"
      },
      "outputs": [
        {
          "name": "stdout",
          "output_type": "stream",
          "text": [
            "[[255. 255. 255.]\n",
            " [255. 255. 255.]\n",
            " [255. 255. 255.]]\n",
            "[[255 255 255]\n",
            " [255 255 255]\n",
            " [255 255 255]]\n",
            "(3, 3)\n"
          ]
        }
      ],
      "source": [
        "# array 생성 10: 특정값을 넣을 때\n",
        "\n",
        "a = 255*np.ones((3,3))\n",
        "print(a)\n",
        "\n",
        "b = np.full((3,3), 255)\n",
        "print(b)\n",
        "print(b.shape)"
      ]
    },
    {
      "cell_type": "markdown",
      "metadata": {
        "id": "VTULyuDMpZL9"
      },
      "source": [
        "### --------------------------------------------------------------------------------------------------------------------------------"
      ]
    },
    {
      "cell_type": "markdown",
      "metadata": {
        "id": "TBJnVc2iVMCb"
      },
      "source": [
        "#### 2.배열 변형: .reshape(), .ravel(), .flatten(), .T, .astype(), .squeeze()\n",
        "###### .reshape(): 배열의 형태 변경\n",
        "###### .ravel() or flatten(): 다차원 배열을 1차원으로 변환\n",
        "###### .T: 전치(transpose) (행과 열을 바꿈)\n",
        "###### .astype(): 데이터 타입 변환\n",
        "###### .squeeze(): 차원이 1인 축을 제거"
      ]
    },
    {
      "cell_type": "code",
      "execution_count": null,
      "metadata": {
        "id": "qpIewWf6eQ2q",
        "outputId": "5296faa8-2ed8-40c7-bd1e-d87b9137b4e9"
      },
      "outputs": [
        {
          "name": "stdout",
          "output_type": "stream",
          "text": [
            "[[[[1. 1.]\n",
            "   [1. 1.]]]\n",
            "\n",
            "\n",
            " [[[1. 1.]\n",
            "   [1. 1.]]]]\n",
            "(2, 1, 2, 2)\n",
            "[[[1. 1.]\n",
            "  [1. 1.]]\n",
            "\n",
            " [[1. 1.]\n",
            "  [1. 1.]]]\n",
            "(2, 2, 2)\n",
            "(2, 2)\n"
          ]
        }
      ],
      "source": [
        "# squeeze() 함수\n",
        "\n",
        "a = np.ones((2,1,2,2))\n",
        "print(a)\n",
        "print(a.shape)\n",
        "\n",
        "b = np.squeeze(a)\n",
        "print(b)\n",
        "print(b.shape)\n",
        "\n",
        "c = np.ones((2,1,1,2))\n",
        "d = np.squeeze(c)\n",
        "print(d.shape)"
      ]
    },
    {
      "cell_type": "code",
      "execution_count": null,
      "metadata": {
        "colab": {
          "base_uri": "https://localhost:8080/"
        },
        "id": "KN5Tb6gERv1V",
        "outputId": "c63f961c-f517-4c5b-a5c8-210fafdc357d"
      },
      "outputs": [
        {
          "name": "stdout",
          "output_type": "stream",
          "text": [
            "[ 0  1  2  3  4  5  6  7  8  9 10 11]\n",
            "shape of a is (12,) \n",
            " --------------------------------------------------\n",
            "[[ 0  1  2  3]\n",
            " [ 4  5  6  7]\n",
            " [ 8  9 10 11]]\n",
            "shape of b is (3, 4) \n",
            " --------------------------------------------------\n",
            "[[ 0  1  2  3]\n",
            " [ 4  5  6  7]\n",
            " [ 8  9 10 11]]\n",
            "shape of c is (3, 4) \n",
            " --------------------------------------------------\n",
            "[[ 0  1  2  3]\n",
            " [ 4  5  6  7]\n",
            " [ 8  9 10 11]]\n",
            "shape of d is (3, 4) \n",
            " --------------------------------------------------\n"
          ]
        }
      ],
      "source": [
        "# reshape() 함수 사용\n",
        "\n",
        "a = np.arange(12) # (12,) 1차원 벡터\n",
        "print(a)\n",
        "print(f'shape of a is {a.shape}', '\\n', '-'*50)\n",
        "\n",
        "b = np.arange(12).reshape(3,4) # (3,4) 2차원 행렬\n",
        "print(b)\n",
        "print(f'shape of b is {b.shape}', '\\n', '-'*50)\n",
        "\n",
        "c = np.arange(12).reshape(-1,4)\n",
        "print(c)\n",
        "print(f'shape of c is {c.shape}', '\\n', '-'*50)\n",
        "\n",
        "d = np.arange(12).reshape(3,-1)\n",
        "print(d)\n",
        "print(f'shape of d is {d.shape}', '\\n', '-'*50)"
      ]
    },
    {
      "cell_type": "code",
      "execution_count": null,
      "metadata": {
        "id": "YScLSwxseQ2r",
        "outputId": "8a595de6-652e-4e8a-b9cb-a1a4a2899907"
      },
      "outputs": [
        {
          "name": "stdout",
          "output_type": "stream",
          "text": [
            "(2000000, 5)\n",
            "(2000000, 5)\n"
          ]
        }
      ],
      "source": [
        "a = np.arange(10000000) #(천만,)\n",
        "b = a.reshape(int(10000000/5),5)\n",
        "print(b.shape)\n",
        "\n",
        "c = a.reshape(-1,5)\n",
        "print(c.shape)"
      ]
    },
    {
      "cell_type": "code",
      "execution_count": null,
      "metadata": {
        "colab": {
          "base_uri": "https://localhost:8080/"
        },
        "id": "78dSkIBrW3E7",
        "outputId": "540f2f22-e3d6-4377-b202-e982eccb478a"
      },
      "outputs": [
        {
          "name": "stdout",
          "output_type": "stream",
          "text": [
            "[[ 0  1  2  3]\n",
            " [ 4  5  6  7]\n",
            " [ 8  9 10 11]]\n",
            "shape of a is (3, 4) \n",
            " --------------------------------------------------\n",
            "[ 0  1  2  3  4  5  6  7  8  9 10 11]\n",
            "shape of b is (12,) \n",
            " --------------------------------------------------\n",
            "[ 0  1  2  3  4  5  6  7  8  9 10 11]\n",
            "shape of c is (12,) \n",
            " --------------------------------------------------\n",
            "[ 0  1  2  3  4  5  6  7  8  9 10 11]\n",
            "shape of d is (12,) \n",
            " --------------------------------------------------\n",
            "[[ 0  1  2  3  4  5  6  7  8  9 10 11]]\n",
            "shape of e is (1, 12) \n",
            " --------------------------------------------------\n",
            "[[ 0]\n",
            " [ 1]\n",
            " [ 2]\n",
            " [ 3]\n",
            " [ 4]\n",
            " [ 5]\n",
            " [ 6]\n",
            " [ 7]\n",
            " [ 8]\n",
            " [ 9]\n",
            " [10]\n",
            " [11]]\n",
            "shape of f is (12, 1) \n",
            " --------------------------------------------------\n"
          ]
        }
      ],
      "source": [
        "# reshape(-1) 함수, ravel(), flatten() 함수 사용\n",
        "\n",
        "a = np.arange(12).reshape(3,4)\n",
        "print(a)\n",
        "print(f'shape of a is {a.shape}', '\\n', '-'*50)\n",
        "\n",
        "b = a.ravel()\n",
        "print(b)\n",
        "print(f'shape of b is {b.shape}', '\\n', '-'*50)\n",
        "\n",
        "c = a.flatten()\n",
        "print(c)\n",
        "print(f'shape of c is {c.shape}', '\\n', '-'*50)\n",
        "\n",
        "d = a.reshape(-1)\n",
        "print(d)\n",
        "print(f'shape of d is {d.shape}', '\\n', '-'*50)\n",
        "\n",
        "e = a.reshape(1,-1)\n",
        "print(e)\n",
        "print(f'shape of e is {e.shape}', '\\n', '-'*50)\n",
        "\n",
        "f = a.reshape(-1,1)\n",
        "print(f)\n",
        "print(f'shape of f is {f.shape}', '\\n', '-'*50)"
      ]
    },
    {
      "cell_type": "code",
      "execution_count": null,
      "metadata": {
        "colab": {
          "base_uri": "https://localhost:8080/"
        },
        "id": "WlWDsEjJpaxm",
        "outputId": "cfbdbe66-99aa-4bc3-961e-2a7d9ee4b135"
      },
      "outputs": [
        {
          "name": "stdout",
          "output_type": "stream",
          "text": [
            "[[[ 0  1  2  3]\n",
            "  [ 4  5  6  7]\n",
            "  [ 8  9 10 11]]\n",
            "\n",
            " [[12 13 14 15]\n",
            "  [16 17 18 19]\n",
            "  [20 21 22 23]]]\n",
            "shape of a is (2, 3, 4) \n",
            " --------------------------------------------------\n"
          ]
        }
      ],
      "source": [
        "# 3차원 배열: 면,깊이(depth) x 행 x 열\n",
        "\n",
        "a = np.arange(24).reshape(2,3,4)\n",
        "print(a)\n",
        "print(f'shape of a is {a.shape}', '\\n', '-'*50)"
      ]
    },
    {
      "cell_type": "code",
      "execution_count": null,
      "metadata": {
        "id": "HeESewfOeQ2r",
        "outputId": "dbc0675d-649d-47f4-a9e4-cd333af24d50"
      },
      "outputs": [
        {
          "name": "stdout",
          "output_type": "stream",
          "text": [
            "[5, 7, 9]\n",
            "[5 7 9]\n"
          ]
        }
      ],
      "source": [
        "# numpy는 for문 없이 연산 가능\n",
        "\n",
        "a = [1, 2, 3]\n",
        "b = [4, 5, 6]\n",
        "\n",
        "c = []\n",
        "for i in range(len(a)):\n",
        "    tmp = a[i] + b[i]\n",
        "    c.append(tmp)\n",
        "\n",
        "print(c)\n",
        "\n",
        "a1 = np.array(a)\n",
        "b1 = np.array(b)\n",
        "c1 = a1 + b1\n",
        "print(c1)"
      ]
    },
    {
      "cell_type": "code",
      "execution_count": null,
      "metadata": {
        "id": "jBUhREUWeQ2r",
        "outputId": "3dcd5ca0-f484-46fe-a665-3474cac505d1"
      },
      "outputs": [
        {
          "name": "stdout",
          "output_type": "stream",
          "text": [
            "[[ 5  7  9]\n",
            " [ 6  8 10]\n",
            " [ 8 10 12]]\n"
          ]
        }
      ],
      "source": [
        "# numpy는 배열의 크기가 달라도 연산 가능\n",
        "# 리스트는 에러 발생\n",
        "a = [[1, 2, 3],[2, 3, 4],[4, 5, 6]]\n",
        "b = [4, 5, 6]\n",
        "'''\n",
        "c = []\n",
        "for i in range(len(a)):\n",
        "    tmp = a[i] + b[i]\n",
        "    c.append(tmp)\n",
        "\n",
        "print(c)\n",
        "'''\n",
        "\n",
        "a1 = np.array(a)\n",
        "b1 = np.array(b)\n",
        "c1 = a1 + b1\n",
        "print(c1)"
      ]
    },
    {
      "cell_type": "code",
      "execution_count": null,
      "metadata": {
        "colab": {
          "base_uri": "https://localhost:8080/"
        },
        "id": "Wge4vZY4pauV",
        "outputId": "2c2d6d33-a5ce-4d4e-fc42-487c5f6f4d69"
      },
      "outputs": [
        {
          "name": "stdout",
          "output_type": "stream",
          "text": [
            "datatype of arr_c is int32\n",
            "datatype of arr_f is int32\n",
            "==================================================\n",
            "[[1 2 3]\n",
            " [2 3 4]]\n",
            "itemsize of arr_c is 4\n",
            "C 스타일 strides: (12, 4)\n",
            "==================================================\n",
            "[[1 2 1]\n",
            " [3 4 4]]\n",
            "itemsize of arr_r is 4\n",
            "Fortran 스타일 strides: (4, 8)\n"
          ]
        }
      ],
      "source": [
        "# ndarray 내부 메모리 구조 확인\n",
        "\n",
        "arr_c = np.array([[1, 2, 3], [2, 3, 4]], order='C')\n",
        "arr_f = np.array([[1, 2, 1], [3, 4, 4]], order='F')\n",
        "\n",
        "print(f'datatype of arr_c is {arr_c.dtype}')\n",
        "print(f'datatype of arr_f is {arr_f.dtype}')\n",
        "print('='*50)\n",
        "\n",
        "print(arr_c)\n",
        "# (row_size x itemsize, itemsize) -> (16, 8)\n",
        "print(f'itemsize of arr_c is {arr_c.itemsize}')\n",
        "print(f'C 스타일 strides: {arr_c.strides}')\n",
        "print('='*50)\n",
        "\n",
        "print(arr_f)\n",
        "# (itemsize, col_size x itemsize) -> (8, 16)\n",
        "print(f'itemsize of arr_r is {arr_f.itemsize}')\n",
        "print(f'Fortran 스타일 strides: {arr_f.strides}')\n"
      ]
    },
    {
      "cell_type": "code",
      "execution_count": null,
      "metadata": {
        "colab": {
          "base_uri": "https://localhost:8080/"
        },
        "id": "bZmYB81P-fku",
        "outputId": "72a53fc7-9226-4e3e-d8d2-fb0aa20006b5"
      },
      "outputs": [
        {
          "name": "stdout",
          "output_type": "stream",
          "text": [
            "array is:\n",
            " [[[ 0  1  2  3]\n",
            "  [ 4  5  6  7]\n",
            "  [ 8  9 10 11]]\n",
            "\n",
            " [[12 13 14 15]\n",
            "  [16 17 18 19]\n",
            "  [20 21 22 23]]] \n",
            "\n",
            "type is: <class 'numpy.ndarray'> \n",
            "\n",
            "ndim(축의 개수) is: 3 \n",
            "\n",
            "shape is: (2, 3, 4) \n",
            "\n",
            "size is: 24 \n",
            "\n",
            "dtype is: int64 \n",
            "\n",
            "itemsize(요소의 bytes) is: 8 \n",
            "\n",
            "strides is: (96, 32, 8)\n"
          ]
        }
      ],
      "source": [
        "arr = np.array([[[0,  1,  2,  3],\n",
        "                 [4,  5,  6,  7],\n",
        "                 [8,  9, 10, 11]],\n",
        "                [[12, 13, 14, 15],\n",
        "                 [16, 17, 18, 19],\n",
        "                 [20, 21, 22, 23]]])\n",
        "\n",
        "print(f'array is:\\n {arr}','\\n')\n",
        "print(f'type is: {type(arr)}','\\n')\n",
        "print(f'ndim(축의 개수) is: {arr.ndim}','\\n')\n",
        "print(f'shape is: {arr.shape}','\\n')\n",
        "print(f'size is: {arr.size}','\\n')\n",
        "print(f'dtype is: {arr.dtype}','\\n')\n",
        "print(f'itemsize(요소의 bytes) is: {arr.itemsize}','\\n') # 책은 4바이트\n",
        "\n",
        "# 3d는 (depth, 행, 열)\n",
        "print(f'strides is: {arr.strides}')"
      ]
    },
    {
      "cell_type": "markdown",
      "metadata": {
        "id": "vGyeMd6YpbEf"
      },
      "source": [
        "### numpy.dtype의 적용  -------------------------------------------------------------------------------------------------"
      ]
    },
    {
      "cell_type": "code",
      "execution_count": null,
      "metadata": {
        "id": "YXfnzQRppcvN"
      },
      "outputs": [],
      "source": [
        "import numpy as np"
      ]
    },
    {
      "cell_type": "code",
      "execution_count": null,
      "metadata": {
        "colab": {
          "base_uri": "https://localhost:8080/"
        },
        "id": "s2jnOmXdpcsY",
        "outputId": "16ba59fe-7631-4230-ff88-40786eaf7f7e"
      },
      "outputs": [
        {
          "name": "stdout",
          "output_type": "stream",
          "text": [
            "int16\n"
          ]
        }
      ],
      "source": [
        "print(np.dtype(np.int16))"
      ]
    },
    {
      "cell_type": "code",
      "execution_count": null,
      "metadata": {
        "colab": {
          "base_uri": "https://localhost:8080/"
        },
        "id": "2Du211-HpcpQ",
        "outputId": "a3c5f11c-de21-4fb5-f412-94f709af9252"
      },
      "outputs": [
        {
          "name": "stdout",
          "output_type": "stream",
          "text": [
            "int32\n",
            "4\n"
          ]
        }
      ],
      "source": [
        "# 1. 데이터 타입 및 크기\n",
        "\n",
        "arr = np.array([1, 2, 3], dtype=np.int32)  # int32 타입의 배열\n",
        "print(arr.dtype)      # int32\n",
        "print(arr.itemsize)   # 각 원소가 4바이트(int32) 크기를 가짐"
      ]
    },
    {
      "cell_type": "code",
      "execution_count": null,
      "metadata": {
        "colab": {
          "base_uri": "https://localhost:8080/"
        },
        "id": "36a1nKzhpcmZ",
        "outputId": "b3662635-8928-4723-df47-2cbbf7108b69"
      },
      "outputs": [
        {
          "name": "stdout",
          "output_type": "stream",
          "text": [
            ">i4\n",
            "[1 2 3]\n",
            "int32\n",
            "[1 2 3]\n",
            "b'\\x00\\x00\\x00\\x01\\x00\\x00\\x00\\x02\\x00\\x00\\x00\\x03'\n",
            "b'\\x01\\x00\\x00\\x00\\x02\\x00\\x00\\x00\\x03\\x00\\x00\\x00'\n"
          ]
        }
      ],
      "source": [
        "# 2. 바이트 순서 (endian)\n",
        "\n",
        "arr1 = np.array([1, 2, 3], dtype='>i4')  # Big Endian 4-byte integer\n",
        "print(arr1.dtype)  # >i4\n",
        "print(arr1)\n",
        "\n",
        "arr2 = np.array([1, 2, 3], dtype='<i4')  # Little Endian 4-byte integer\n",
        "print(arr2.dtype)  # <i4\n",
        "print(arr2)\n",
        "\n",
        "print(arr.tobytes())   # Big Endian 바이트 출력\n",
        "print(arr2.tobytes())  # Little Endian 바이트 출력"
      ]
    }
  ],
  "metadata": {
    "colab": {
      "provenance": []
    },
    "kernelspec": {
      "display_name": "Python 3 (ipykernel)",
      "language": "python",
      "name": "python3"
    },
    "language_info": {
      "codemirror_mode": {
        "name": "ipython",
        "version": 3
      },
      "file_extension": ".py",
      "mimetype": "text/x-python",
      "name": "python",
      "nbconvert_exporter": "python",
      "pygments_lexer": "ipython3",
      "version": "3.12.7"
    }
  },
  "nbformat": 4,
  "nbformat_minor": 0
}