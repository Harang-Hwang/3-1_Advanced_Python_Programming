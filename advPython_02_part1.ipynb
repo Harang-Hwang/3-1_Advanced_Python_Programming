{
 "cells": [
  {
   "cell_type": "markdown",
   "metadata": {
    "id": "Y3gNKRBw6BFR"
   },
   "source": [
    "### 파이썬 코딩 도장: https://dojang.io/course/view.php?id=7\n",
    "### 점프 투 파이썬: https://wikidocs.net/book/1"
   ]
  },
  {
   "cell_type": "code",
   "execution_count": null,
   "metadata": {
    "colab": {
     "base_uri": "https://localhost:8080/"
    },
    "id": "2YoQkgqJbG7i",
    "outputId": "a6633b64-6e60-47dd-f3ca-c7157bb09d91"
   },
   "outputs": [
    {
     "name": "stdout",
     "output_type": "stream",
     "text": [
      "Hello python\n",
      "hello\n",
      "1\n"
     ]
    }
   ],
   "source": [
    "print(\"Hello python\")\n",
    "\n",
    "# 세미콜론: 한 줄에 여러 구문을 사용할 때 세미콜론으로 구분\n",
    "print('hello'); print('1')"
   ]
  },
  {
   "cell_type": "code",
   "execution_count": 4,
   "metadata": {},
   "outputs": [
    {
     "name": "stdout",
     "output_type": "stream",
     "text": [
      "(2, 1)\n",
      "2 1\n"
     ]
    }
   ],
   "source": [
    "print(divmod(5,2)) # 몫과 나머지를 튜플로 반환\n",
    "\n",
    "quotient, remainder = divmod(5,2)\n",
    "print(quotient, remainder)"
   ]
  },
  {
   "cell_type": "code",
   "execution_count": null,
   "metadata": {
    "colab": {
     "base_uri": "https://localhost:8080/"
    },
    "id": "i3atee7ih-Bw",
    "outputId": "c94668fa-961b-4a17-aa3d-db2834ed21fa"
   },
   "outputs": [
    {
     "name": "stdout",
     "output_type": "stream",
     "text": [
      "-1\n",
      "3\n",
      "2\n",
      "0.5\n",
      "8\n",
      "2\n",
      "1\n",
      "(2, 1)\n",
      "2 1\n",
      "3\n",
      "2\n",
      "10\n"
     ]
    }
   ],
   "source": [
    "# 숫자 계산\n",
    "print(1 - 2)\n",
    "print(1 + 2)\n",
    "print(1 * 2)\n",
    "print(1 / 2)\n",
    "\n",
    "print(2**3)    # 2^3 = 8\n",
    "\n",
    "\n",
    "print(5 // 2) # 나머지를 버리고, 몫만 취함\n",
    "print(5 % 2)  # 몫은 버리고, 나머지만 취함\n",
    "\n",
    "print(divmod(5,2)) # 몫과 나머지를 튜플로 반환\n",
    "\n",
    "quotient, remainder = divmod(5,2)\n",
    "print(quotient, remainder)\n",
    "\n",
    "\n",
    "print(int(3.3)) # 정수만 취함\n",
    "print(int(5/2))\n",
    "print(int('10'))  # '10': 정수로 된 문자열은 가능"
   ]
  },
  {
   "cell_type": "code",
   "execution_count": null,
   "metadata": {
    "colab": {
     "base_uri": "https://localhost:8080/"
    },
    "id": "3ju2K2q0idqD",
    "outputId": "571b3cf3-1929-41ed-abe3-fa5a38c88ca5"
   },
   "outputs": [
    {
     "name": "stdout",
     "output_type": "stream",
     "text": [
      "<class 'int'>\n",
      "<class 'float'>\n",
      "<class 'str'>\n"
     ]
    }
   ],
   "source": [
    "# 객체의 자료형\n",
    "print(type(1))\n",
    "print(type(1.0))\n",
    "print(type('1'))"
   ]
  },
  {
   "cell_type": "code",
   "execution_count": null,
   "metadata": {
    "colab": {
     "base_uri": "https://localhost:8080/"
    },
    "id": "W7_OuKJmjVJv",
    "outputId": "5ab4a628-c842-41e7-906f-9cd5eb5b3160"
   },
   "outputs": [
    {
     "name": "stdout",
     "output_type": "stream",
     "text": [
      "6\n",
      "9\n",
      "11\n"
     ]
    }
   ],
   "source": [
    "# 2진수, 8진수, 16진수\n",
    "\n",
    "# 2진수: 숫자 앞에 0b(binary, 2진수)를 붙이고, 숫자는 0 or 1\n",
    "print(0b110)\n",
    "\n",
    "# 8진수: 숫자 앞에 0o(octal, 8진수)를 붙이고, 숫자는 0~7까지 사용\n",
    "print(0o11)\n",
    "\n",
    "# 16진수: 숫자 앞에 0x(hexadecimal, 16진수)를 붙이고, 숫자는 0~9, A~F(a~f)까지 사용\n",
    "print(0xB)  # A: 10, B: 11, ... F: 15"
   ]
  },
  {
   "cell_type": "code",
   "execution_count": null,
   "metadata": {
    "id": "r4dZrgvNjVW5"
   },
   "outputs": [],
   "source": [
    "'''\n",
    "아파트에서 소음이 가장 심한 층수를 구하는 계산식은 아래와 같다.\n",
    "\n",
    "계산식: 소음이 가장 심한 층 = 0.2467 * 도로와의 거리(m) + 4.159\n",
    "\n",
    "도로와의 거리가 14m인 아파트에서 소음이 가장 심한 층수는?\n",
    "\n",
    "단, 층수를 출력할 때는 소수점 이하 자리는 버린다. (즉, 정수로 출력).\n",
    "'''"
   ]
  },
  {
   "cell_type": "code",
   "execution_count": 30,
   "metadata": {
    "id": "W25NIQENm6of"
   },
   "outputs": [
    {
     "name": "stdout",
     "output_type": "stream",
     "text": [
      "7.6128\n",
      "7\n",
      "8\n"
     ]
    }
   ],
   "source": [
    "h = 0.2467 * 14 + 4.159\n",
    "print(h)\n",
    "print(int(h))\n",
    "print(round(h)) # 반올림하는 함수 round()\n"
   ]
  },
  {
   "cell_type": "code",
   "execution_count": null,
   "metadata": {
    "id": "CoBiT9LQm6hc"
   },
   "outputs": [],
   "source": []
  },
  {
   "cell_type": "code",
   "execution_count": null,
   "metadata": {
    "id": "iP2sCftDm6er"
   },
   "outputs": [],
   "source": []
  },
  {
   "cell_type": "code",
   "execution_count": null,
   "metadata": {
    "id": "LJfqjhbDm5yx"
   },
   "outputs": [],
   "source": []
  },
  {
   "cell_type": "code",
   "execution_count": null,
   "metadata": {
    "id": "HdeTfOVpm5sX"
   },
   "outputs": [],
   "source": []
  },
  {
   "cell_type": "code",
   "execution_count": null,
   "metadata": {
    "id": "pEXRCtuLm5lz"
   },
   "outputs": [],
   "source": []
  },
  {
   "cell_type": "code",
   "execution_count": null,
   "metadata": {
    "id": "1mzekRF9m5f7"
   },
   "outputs": [],
   "source": []
  },
  {
   "cell_type": "code",
   "execution_count": null,
   "metadata": {
    "colab": {
     "base_uri": "https://localhost:8080/"
    },
    "id": "vItNAR1Kmx5r",
    "outputId": "45c073b5-8f95-49d4-bef4-df52712dcd63"
   },
   "outputs": [
    {
     "name": "stdout",
     "output_type": "stream",
     "text": [
      "7.6128\n",
      "7\n",
      "8\n"
     ]
    }
   ],
   "source": [
    "dist_road = 14\n",
    "h = 0.2467 * dist_road + 4.159\n",
    "print(h)\n",
    "print(int(h))\n",
    "print(round(h))"
   ]
  },
  {
   "cell_type": "code",
   "execution_count": 31,
   "metadata": {
    "colab": {
     "base_uri": "https://localhost:8080/"
    },
    "id": "HicN3PxQnCgB",
    "outputId": "3a515f95-aa57-4df4-9920-b13a4ccf3b85"
   },
   "outputs": [
    {
     "name": "stdout",
     "output_type": "stream",
     "text": [
      "10 <class 'int'>\n",
      "--------------------------------------------------\n",
      "hello <class 'str'>\n",
      "--------------------------------------------------\n",
      "2.6 <class 'float'>\n"
     ]
    }
   ],
   "source": [
    "# 변수 한번에 입력하기 1\n",
    "\n",
    "x, y, z = 10, 'hello', 2.6\n",
    "#x, y, z = (10, 'hello', 2.6)\n",
    "\n",
    "print(x, type(x))\n",
    "print('-'*50)\n",
    "print(y, type(y))\n",
    "print('-'*50)\n",
    "print(z, type(z))"
   ]
  },
  {
   "cell_type": "code",
   "execution_count": 33,
   "metadata": {
    "colab": {
     "base_uri": "https://localhost:8080/",
     "height": 219
    },
    "id": "Wq2lBwlEnU5B",
    "outputId": "d14e5c08-1f0e-41f0-ecf3-2d4679e38323"
   },
   "outputs": [
    {
     "ename": "TypeError",
     "evalue": "cannot unpack non-iterable int object",
     "output_type": "error",
     "traceback": [
      "\u001b[1;31m---------------------------------------------------------------------------\u001b[0m",
      "\u001b[1;31mTypeError\u001b[0m                                 Traceback (most recent call last)",
      "Cell \u001b[1;32mIn[33], line 3\u001b[0m\n\u001b[0;32m      1\u001b[0m \u001b[38;5;66;03m# 변수 한번에 입력하기 2\u001b[39;00m\n\u001b[1;32m----> 3\u001b[0m x, y, z \u001b[38;5;241m=\u001b[39m \u001b[38;5;241m10\u001b[39m   \u001b[38;5;66;03m# 에러 발생함\u001b[39;00m\n\u001b[0;32m      5\u001b[0m \u001b[38;5;28mprint\u001b[39m(x)\n\u001b[0;32m      6\u001b[0m \u001b[38;5;28mprint\u001b[39m(y)\n",
      "\u001b[1;31mTypeError\u001b[0m: cannot unpack non-iterable int object"
     ]
    }
   ],
   "source": [
    "# 변수 한번에 입력하기 2\n",
    "\n",
    "x, y, z = 10   # 에러 발생함\n",
    "\n",
    "print(x)\n",
    "print(y)\n",
    "print(z)"
   ]
  },
  {
   "cell_type": "code",
   "execution_count": 34,
   "metadata": {
    "colab": {
     "base_uri": "https://localhost:8080/"
    },
    "id": "mANdZM43nnQD",
    "outputId": "d29fe965-ad32-484a-b5ae-c221269d1977"
   },
   "outputs": [
    {
     "name": "stdout",
     "output_type": "stream",
     "text": [
      "10 10 10\n"
     ]
    }
   ],
   "source": [
    "# 변수 한번에 입력하기 3 (위의 방법 대신 이렇게 해야 함)\n",
    "\n",
    "x = y = z = 10\n",
    "\n",
    "print(x, y, z)"
   ]
  },
  {
   "cell_type": "code",
   "execution_count": null,
   "metadata": {
    "colab": {
     "base_uri": "https://localhost:8080/"
    },
    "id": "ic_AMBlWBUdN",
    "outputId": "a0b39aad-6fc9-4f88-8b55-f5280f6bd076"
   },
   "outputs": [
    {
     "name": "stdout",
     "output_type": "stream",
     "text": [
      "x is 10 , y is 10 , z is cat\n",
      "x is 10, y is 10, z is cat\n",
      "x is 10, y is 10, z is cat\n",
      "x is 10, y is 10, z is cat\n"
     ]
    }
   ],
   "source": [
    "# 문자열 포매팅\n",
    "\n",
    "x = y = 10\n",
    "z = 'cat'\n",
    "\n",
    "print(x, y, z)\n",
    "\n",
    "print('x is', x, ', y is', y, ', z is', z)\n",
    "print('x is {}, y is {}, z is {}'.format(x,y,z))\n",
    "print(f'x is {x}, y is {y}, z is {z}')\n",
    "print('x is %d, y is %d, z is %s' %(x,y,z)) # %formatting (old version)"
   ]
  },
  {
   "cell_type": "code",
   "execution_count": null,
   "metadata": {
    "colab": {
     "base_uri": "https://localhost:8080/"
    },
    "id": "isG2VlSZnysv",
    "outputId": "a46c1940-ccc8-4a51-c805-adf41ecce8db"
   },
   "outputs": [
    {
     "name": "stdout",
     "output_type": "stream",
     "text": [
      "20 10\n"
     ]
    }
   ],
   "source": [
    "# 변수 swap\n",
    "\n",
    "x, y = 10, 20\n",
    "x, y = y, x\n",
    "\n",
    "print(x, y)"
   ]
  },
  {
   "cell_type": "code",
   "execution_count": null,
   "metadata": {
    "colab": {
     "base_uri": "https://localhost:8080/"
    },
    "id": "O1bP7zu9CPGS",
    "outputId": "174ed996-64f8-4b86-b70e-dcf3c5f79913"
   },
   "outputs": [
    {
     "name": "stdout",
     "output_type": "stream",
     "text": [
      "20 10\n"
     ]
    }
   ],
   "source": [
    "# 파이썬과 같이 swap을 지원하지 않을 경우\n",
    "# 아래와 같은 방법으로 변수를 swap 함\n",
    "\n",
    "x, y = 10, 20\n",
    "tmp = x\n",
    "x = y\n",
    "y = tmp\n",
    "\n",
    "print(x,y)"
   ]
  },
  {
   "cell_type": "code",
   "execution_count": null,
   "metadata": {
    "colab": {
     "base_uri": "https://localhost:8080/",
     "height": 200
    },
    "id": "tKwKubq-n7Li",
    "outputId": "eb2fb270-bf17-4fd9-ccc2-f86b17427be0"
   },
   "outputs": [
    {
     "name": "stdout",
     "output_type": "stream",
     "text": [
      "(before del) x is 10\n"
     ]
    },
    {
     "ename": "NameError",
     "evalue": "name 'x' is not defined",
     "output_type": "error",
     "traceback": [
      "\u001b[0;31m---------------------------------------------------------------------------\u001b[0m",
      "\u001b[0;31mNameError\u001b[0m                                 Traceback (most recent call last)",
      "\u001b[0;32m<ipython-input-27-13d66dba704c>\u001b[0m in \u001b[0;36m<cell line: 0>\u001b[0;34m()\u001b[0m\n\u001b[1;32m      4\u001b[0m \u001b[0mprint\u001b[0m\u001b[0;34m(\u001b[0m\u001b[0;34mf'(before del) x is {x}'\u001b[0m\u001b[0;34m)\u001b[0m\u001b[0;34m\u001b[0m\u001b[0;34m\u001b[0m\u001b[0m\n\u001b[1;32m      5\u001b[0m \u001b[0;32mdel\u001b[0m \u001b[0mx\u001b[0m\u001b[0;34m\u001b[0m\u001b[0;34m\u001b[0m\u001b[0m\n\u001b[0;32m----> 6\u001b[0;31m \u001b[0mprint\u001b[0m\u001b[0;34m(\u001b[0m\u001b[0;34mf'(after del) x is {x}'\u001b[0m\u001b[0;34m)\u001b[0m\u001b[0;34m\u001b[0m\u001b[0;34m\u001b[0m\u001b[0m\n\u001b[0m",
      "\u001b[0;31mNameError\u001b[0m: name 'x' is not defined"
     ]
    }
   ],
   "source": [
    "# 변수 삭제\n",
    "\n",
    "x = 10\n",
    "print(f'(before del) x is {x}')\n",
    "\n",
    "del x\n",
    "\n",
    "print(f'(after del) x is {x}')  # 여기에서 에러 발생함"
   ]
  },
  {
   "cell_type": "code",
   "execution_count": null,
   "metadata": {
    "colab": {
     "base_uri": "https://localhost:8080/"
    },
    "id": "TFFGe1wsoKyf",
    "outputId": "a7afc597-8c40-4e34-89b2-f37629e3cc2e"
   },
   "outputs": [
    {
     "name": "stdout",
     "output_type": "stream",
     "text": [
      "None\n"
     ]
    }
   ],
   "source": [
    "# 빈 변수 만들기\n",
    "\n",
    "x = None\n",
    "print(x)"
   ]
  },
  {
   "cell_type": "code",
   "execution_count": null,
   "metadata": {
    "colab": {
     "base_uri": "https://localhost:8080/"
    },
    "id": "LgdKIxd5oaxu",
    "outputId": "c33ca64c-68de-4144-bc83-1ddf36577933"
   },
   "outputs": [
    {
     "name": "stdout",
     "output_type": "stream",
     "text": [
      "30\n",
      "40\n",
      "30\n",
      "300\n",
      "30.0\n",
      "3.0\n"
     ]
    }
   ],
   "source": [
    "# 산술 연산(+,-,*,/, //) 후 할당 연산자(=) 사용\n",
    "\n",
    "a = 10\n",
    "a = a + 20\n",
    "\n",
    "# a += 20  # a = a+20\n",
    "\n",
    "print(a)\n",
    "\n",
    "a += 10 # a = a + 10과 같음\n",
    "print(a)\n",
    "\n",
    "a -= 10 # a = a - 10과 같음\n",
    "print(a)\n",
    "\n",
    "a *= 10 # a = a * 10과 같음\n",
    "print(a)\n",
    "\n",
    "a /= 10 # a = a / 10과 같음\n",
    "print(a)\n",
    "\n",
    "a //= 10 # a = a // 10과 같음\n",
    "print(a)"
   ]
  },
  {
   "cell_type": "code",
   "execution_count": 26,
   "metadata": {},
   "outputs": [
    {
     "name": "stdin",
     "output_type": "stream",
     "text": [
      "숫자를 입력하시오: 1\n"
     ]
    },
    {
     "name": "stdout",
     "output_type": "stream",
     "text": [
      "<class 'str'>\n",
      "--------------------\n"
     ]
    },
    {
     "name": "stdin",
     "output_type": "stream",
     "text": [
      "숫자를 입력하시오: 1\n"
     ]
    },
    {
     "name": "stdout",
     "output_type": "stream",
     "text": [
      "<class 'int'>\n",
      "--------------------\n"
     ]
    }
   ],
   "source": [
    "x = input('숫자를 입력하시오:') # hello 입력\n",
    "print(type(x))\n",
    "print('-'*20)\n",
    "\n",
    "x = int(input('숫자를 입력하시오:')) # hello 입력\n",
    "print(type(x))\n",
    "print('-'*20)"
   ]
  },
  {
   "cell_type": "code",
   "execution_count": null,
   "metadata": {
    "colab": {
     "base_uri": "https://localhost:8080/"
    },
    "id": "GSXltaCOpD4Y",
    "outputId": "ccb4bea4-f27e-4cc2-b069-8576974ca3aa"
   },
   "outputs": [
    {
     "name": "stdout",
     "output_type": "stream",
     "text": [
      "hello\n",
      "<class 'str'>\n",
      "--------------------\n",
      "문자열을 입력하세요: hello\n",
      "<class 'str'>\n",
      "--------------------\n",
      "숫자를 입력하세요: 10\n",
      "<class 'str'>\n"
     ]
    }
   ],
   "source": [
    "# input 함수 1\n",
    "\n",
    "x = input() # hello 입력\n",
    "print(type(x))\n",
    "print('-'*20)\n",
    "\n",
    "x = input('문자열을 입력하세요: ') # hello 입력\n",
    "print(type(x))\n",
    "print('-'*20)\n",
    "\n",
    "x = input('숫자를 입력하세요: ') # 숫자 10 입력\n",
    "print(type(x))"
   ]
  },
  {
   "cell_type": "code",
   "execution_count": 37,
   "metadata": {
    "colab": {
     "base_uri": "https://localhost:8080/"
    },
    "id": "E0Ola9W6p8s5",
    "outputId": "a948e205-5c2d-4b21-8fde-1d1605bb5c91"
   },
   "outputs": [
    {
     "name": "stdin",
     "output_type": "stream",
     "text": [
      "첫 번째 숫자를 입력하세요:  1\n",
      "두 번째 숫자를 입력하세요:  2\n"
     ]
    },
    {
     "name": "stdout",
     "output_type": "stream",
     "text": [
      "12\n",
      "<class 'str'>\n"
     ]
    }
   ],
   "source": [
    "# input 함수 2\n",
    "\n",
    "a = input('첫 번째 숫자를 입력하세요: ')\n",
    "b = input('두 번째 숫자를 입력하세요: ')\n",
    "c = a + b\n",
    "\n",
    "print(c) # 여기의 출력은 3이 아니라 '12' 임 \n",
    "print(type(c))"
   ]
  },
  {
   "cell_type": "code",
   "execution_count": 38,
   "metadata": {
    "colab": {
     "base_uri": "https://localhost:8080/"
    },
    "id": "h-26AvOpqKGp",
    "outputId": "04558df3-bc71-43b9-f87b-63f25e16ab4d"
   },
   "outputs": [
    {
     "name": "stdin",
     "output_type": "stream",
     "text": [
      "첫 번째 숫자를 입력하세요:  1\n",
      "두 번째 숫자를 입력하세요:  2\n"
     ]
    },
    {
     "name": "stdout",
     "output_type": "stream",
     "text": [
      "3\n",
      "<class 'int'>\n"
     ]
    }
   ],
   "source": [
    "# input 함수 3 (숫자 입력을 input으로 받을 때, int를 사용하면 정수가 출력됨)\n",
    "\n",
    "a = int(input('첫 번째 숫자를 입력하세요: '))\n",
    "b = int(input('두 번째 숫자를 입력하세요: '))\n",
    "c = a + b\n",
    "\n",
    "print(c)\n",
    "print(type(c))"
   ]
  },
  {
   "cell_type": "code",
   "execution_count": 29,
   "metadata": {},
   "outputs": [],
   "source": [
    "### 논리 연산자에서 \n",
    "### 1 -> True (참)\n",
    "### 0 -> False (거짓)\n",
    "\n",
    "'''\n",
    "while True:\n",
    "    # 무한루프\n",
    "\n",
    "while 1:\n",
    "    # 무한루프\n",
    "'''"
   ]
  },
  {
   "cell_type": "code",
   "execution_count": 40,
   "metadata": {
    "colab": {
     "base_uri": "https://localhost:8080/"
    },
    "id": "Q9TiYS5tDDw7",
    "outputId": "e5f3f947-9ac6-4c20-d0c5-4b3f42d48ec1"
   },
   "outputs": [
    {
     "name": "stdout",
     "output_type": "stream",
     "text": [
      "True\n",
      "----------\n",
      "False\n",
      "----------\n",
      "False\n",
      "----------\n",
      "False\n",
      "----------\n",
      "1\n",
      "0\n"
     ]
    }
   ],
   "source": [
    "# 논리 연산자(and)\n",
    "\n",
    "print(True and True)\n",
    "print('-'*10)\n",
    "\n",
    "print(True and False)\n",
    "print('-'*10)\n",
    "\n",
    "print(False and True)\n",
    "print('-'*10)\n",
    "\n",
    "print(False and False)\n",
    "print('-'*10)\n",
    "\n",
    "print(1 and 1)\n",
    "print(1 and 0)"
   ]
  },
  {
   "cell_type": "code",
   "execution_count": null,
   "metadata": {
    "colab": {
     "base_uri": "https://localhost:8080/"
    },
    "id": "9g-W1fbPDPjR",
    "outputId": "f2213c9e-43ea-47a1-b048-161126a9bfb8"
   },
   "outputs": [
    {
     "name": "stdout",
     "output_type": "stream",
     "text": [
      "True\n",
      "----------\n",
      "True\n",
      "----------\n",
      "True\n",
      "----------\n",
      "False\n"
     ]
    }
   ],
   "source": [
    "# 논리 연산자(or)\n",
    "\n",
    "print(True or True)\n",
    "print('-'*10)\n",
    "\n",
    "print(True or False)\n",
    "print('-'*10)\n",
    "\n",
    "print(False or True)\n",
    "print('-'*10)\n",
    "\n",
    "print(False or False)"
   ]
  },
  {
   "cell_type": "code",
   "execution_count": null,
   "metadata": {
    "colab": {
     "base_uri": "https://localhost:8080/"
    },
    "id": "p5EKTfrfDS9d",
    "outputId": "6d378612-cf15-4cd7-d472-1cb03c77c1bb"
   },
   "outputs": [
    {
     "name": "stdout",
     "output_type": "stream",
     "text": [
      "False\n",
      "----------\n",
      "True\n"
     ]
    }
   ],
   "source": [
    "# 논리 연산자(not)\n",
    "\n",
    "print(not True)\n",
    "print('-'*10)\n",
    "\n",
    "print(not False)"
   ]
  },
  {
   "cell_type": "code",
   "execution_count": null,
   "metadata": {},
   "outputs": [],
   "source": [
    "print(10 == 10)  # true\n",
    "print(10 != 5)   # true"
   ]
  },
  {
   "cell_type": "code",
   "execution_count": null,
   "metadata": {
    "colab": {
     "base_uri": "https://localhost:8080/"
    },
    "id": "CLT0j_5oDZJi",
    "outputId": "832e5c6f-79eb-497e-fb52-9c757b6a592d"
   },
   "outputs": [
    {
     "name": "stdout",
     "output_type": "stream",
     "text": [
      "True\n",
      "----------\n",
      "True\n",
      "----------\n",
      "False\n",
      "----------\n"
     ]
    }
   ],
   "source": [
    "# 논리 연산자와 비교 연산자\n",
    "\n",
    "print(10 == 10 and 10 != 5)\n",
    "print('-'*10)\n",
    "\n",
    "print(10 > 5 or 10 < 3)\n",
    "print('-'*10)\n",
    "\n",
    "print(not 10 > 5)\n",
    "print('-'*10)\n"
   ]
  },
  {
   "cell_type": "code",
   "execution_count": null,
   "metadata": {
    "colab": {
     "base_uri": "https://localhost:8080/"
    },
    "id": "_eJHxjmdrQKx",
    "outputId": "a95a3be4-92e3-4bf5-f201-2b15ae318691"
   },
   "outputs": [
    {
     "name": "stdout",
     "output_type": "stream",
     "text": [
      "True\n",
      "False\n",
      "True\n",
      "--------------------------------------------------\n",
      "False\n",
      "True\n",
      "False\n",
      "--------------------------------------------------\n",
      "False\n",
      "False\n",
      "False\n",
      "False\n"
     ]
    }
   ],
   "source": [
    "# boolean : Ture / False\n",
    "\n",
    "# 정수 0, 실수 0.0, 복소수 0j 이외의 모든 숫자는 true\n",
    "print(bool(1))\n",
    "print(bool(0))\n",
    "print(bool(-1))\n",
    "print('-'*50)\n",
    "\n",
    "\n",
    "# 빈 문자열 '', \"\", None을 제외한 모든 문자열은 true\n",
    "print(bool(None))\n",
    "print(bool('st'))\n",
    "print(bool(''))\n",
    "print('-'*50)\n",
    "\n",
    "# 빈 리스트, 빈 튜플, 빈 딕셔너리, 빈 세트(집합)를 제외한 나머지는 true\n",
    "print(bool([]))\n",
    "print(bool(()))\n",
    "print(bool({}))\n",
    "print(bool(set()))"
   ]
  },
  {
   "cell_type": "code",
   "execution_count": null,
   "metadata": {
    "id": "waMyOZoqtLfm"
   },
   "outputs": [],
   "source": [
    "'''\n",
    "국어(kor), 영어(eng), 수학(math), 과학(sci) 점수가 있을 때 \n",
    "한 과목이라도 50점 미만이면 불합격이다.\n",
    "아래 조건에 대해서 합격이면 True, 불합격이면 False가 출력되게 만드시오.\n",
    "kor = 92\n",
    "eng = 47\n",
    "math = 86\n",
    "sci = 70\n",
    "'''"
   ]
  },
  {
   "cell_type": "code",
   "execution_count": 41,
   "metadata": {
    "id": "Ycrc5y23tm31"
   },
   "outputs": [
    {
     "name": "stdout",
     "output_type": "stream",
     "text": [
      "False\n"
     ]
    }
   ],
   "source": [
    "kor, eng, math, sci = 92, 47, 86, 70\n",
    "print(kor >= 50 and eng >= 50 and math >= 50 and sci >= 50)"
   ]
  },
  {
   "cell_type": "code",
   "execution_count": null,
   "metadata": {
    "id": "BHICUYH4tm1p"
   },
   "outputs": [],
   "source": []
  },
  {
   "cell_type": "code",
   "execution_count": null,
   "metadata": {
    "id": "vyEsYViBtmzP"
   },
   "outputs": [],
   "source": []
  },
  {
   "cell_type": "code",
   "execution_count": null,
   "metadata": {
    "id": "NPJF91QJtmw2"
   },
   "outputs": [],
   "source": []
  },
  {
   "cell_type": "code",
   "execution_count": null,
   "metadata": {
    "id": "yxXaJoDwtmuK"
   },
   "outputs": [],
   "source": []
  },
  {
   "cell_type": "code",
   "execution_count": null,
   "metadata": {
    "id": "9umzL1drtmrf"
   },
   "outputs": [],
   "source": []
  },
  {
   "cell_type": "code",
   "execution_count": null,
   "metadata": {
    "colab": {
     "base_uri": "https://localhost:8080/"
    },
    "id": "E5ElMP_atmj1",
    "outputId": "210657b1-77d8-4bce-973c-775d0c0388ec"
   },
   "outputs": [
    {
     "name": "stdout",
     "output_type": "stream",
     "text": [
      "False\n"
     ]
    }
   ],
   "source": [
    "kor = 92\n",
    "eng = 47\n",
    "math = 86\n",
    "sci = 70\n",
    "\n",
    "print(kor >= 50 and eng >= 50 and math >= 50 and sci >= 50)"
   ]
  },
  {
   "cell_type": "code",
   "execution_count": null,
   "metadata": {
    "colab": {
     "base_uri": "https://localhost:8080/",
     "height": 144
    },
    "id": "nlCNzal1t4FM",
    "outputId": "097c5b49-b874-4785-bc80-23d03bf00d81"
   },
   "outputs": [
    {
     "name": "stdout",
     "output_type": "stream",
     "text": [
      "[]\n",
      "<class 'list'>\n",
      "--------------------\n",
      "[1, 2, 3]\n",
      "<class 'list'>\n",
      "--------------------\n"
     ]
    },
    {
     "data": {
      "application/vnd.google.colaboratory.intrinsic+json": {
       "type": "string"
      },
      "text/plain": [
       "'\\nc = [1 2 3]\\nprint(c)\\nprint(type(c))\\n'"
      ]
     },
     "execution_count": 66,
     "metadata": {},
     "output_type": "execute_result"
    }
   ],
   "source": [
    "# 리스트 1: []로 데이터를 표현\n",
    "\n",
    "a = []        # 빈 리스트\n",
    "b = [1, 2, 3] # 각 값은 콤마로 구분\n",
    "\n",
    "print(a)\n",
    "print(type(a))\n",
    "print('-'*20)\n",
    "\n",
    "print(b)\n",
    "print(type(b))\n",
    "print('-'*20)\n",
    "\n",
    "''' \n",
    "# 아래는 에러 발생, 각 값을 콤마로 구분짓지 않아서\n",
    "c = [1 2 3]\n",
    "print(c)\n",
    "print(type(c))\n",
    "'''"
   ]
  },
  {
   "cell_type": "code",
   "execution_count": 43,
   "metadata": {},
   "outputs": [
    {
     "name": "stdout",
     "output_type": "stream",
     "text": [
      "[12, [123, 3], (12, 2)]\n"
     ]
    }
   ],
   "source": []
  },
  {
   "cell_type": "code",
   "execution_count": 44,
   "metadata": {
    "colab": {
     "base_uri": "https://localhost:8080/"
    },
    "id": "YRL1GH5YuBfW",
    "outputId": "35463b73-3c64-4097-cc44-f72f798bcc15"
   },
   "outputs": [
    {
     "name": "stdout",
     "output_type": "stream",
     "text": [
      "['james', 17, 175.3, True]\n",
      "['james', 17, 190, True]\n",
      "[12, [123, 3], (12, 2)]\n"
     ]
    }
   ],
   "source": [
    "# 리스트 2\n",
    "\n",
    "person = ['james', 17, 175.3, True] # 다양한 자료형을 저장\n",
    "print(person)\n",
    "\n",
    "person[2] = 190   # 값 변경 가능\n",
    "print(person)\n",
    "\n",
    "a = [12, [123, 3], (12,2)]\n",
    "print(a)"
   ]
  },
  {
   "cell_type": "code",
   "execution_count": 50,
   "metadata": {},
   "outputs": [
    {
     "name": "stdout",
     "output_type": "stream",
     "text": [
      "range(0, 5)\n",
      "a0 type is <class 'range'>\n",
      "------------------------------\n",
      "[0, 1, 2, 3, 4]\n",
      "------------------------------\n",
      "[1, 2, 3]\n",
      "------------------------------\n"
     ]
    }
   ],
   "source": [
    "# range(start=0, end, increment=1)\n",
    "# range(end)\n",
    "a0 = range(5) # iterable 객체\n",
    "print(a0)\n",
    "print(f'a0 type is {type(a0)}')\n",
    "print('-'*30)\n",
    "\n",
    "a = list(range(5)) # range(5) == range(0, 5, 1)\n",
    "print(a)\n",
    "print('-'*30)\n",
    "\n",
    "b = list(range(1,4))\n",
    "print(b)\n",
    "print('-'*30)\n"
   ]
  },
  {
   "cell_type": "code",
   "execution_count": null,
   "metadata": {
    "colab": {
     "base_uri": "https://localhost:8080/"
    },
    "id": "ueC-ax4buBbw",
    "outputId": "42e11af1-947f-40b3-f92b-d562b122e0c2"
   },
   "outputs": [
    {
     "name": "stdout",
     "output_type": "stream",
     "text": [
      "range(0, 10)\n",
      "------------------------------\n",
      "[0, 1, 2, 3, 4, 5, 6, 7, 8, 9]\n",
      "------------------------------\n",
      "[5, 6, 7, 8, 9, 10, 11]\n",
      "------------------------------\n",
      "[-4, -2, 0, 2, 4, 6, 8]\n",
      "------------------------------\n",
      "[10, 9, 8, 7, 6, 5, 4, 3, 2, 1]\n"
     ]
    }
   ],
   "source": [
    "# range와 list\n",
    "\n",
    "print(range(10))\n",
    "print('-'*30)\n",
    "\n",
    "print(list(range(10)))\n",
    "print('-'*30)\n",
    "\n",
    "print(list(range(5,12)))  # 시작, 끝\n",
    "print('-'*30)\n",
    "\n",
    "print(list(range(-4,10,2))) # 시작, 끝, 증가폭\n",
    "print('-'*30)\n",
    "\n",
    "print(list(range(10,0,-1)))"
   ]
  },
  {
   "cell_type": "code",
   "execution_count": 52,
   "metadata": {
    "colab": {
     "base_uri": "https://localhost:8080/"
    },
    "id": "YfiMI8_bup89",
    "outputId": "5ee4a82c-993b-4d0d-fd55-0b1c873d685b"
   },
   "outputs": [
    {
     "name": "stdout",
     "output_type": "stream",
     "text": [
      "()\n",
      "<class 'tuple'>\n",
      "--------------------\n",
      "(1, 2, 3)\n",
      "<class 'tuple'>\n",
      "--------------------\n",
      "(1,)\n",
      "<class 'tuple'>\n",
      "--------------------\n",
      "(2,)\n",
      "<class 'tuple'>\n",
      "--------------------\n",
      "1\n",
      "<class 'int'>\n"
     ]
    }
   ],
   "source": [
    "# 튜플 tuple 1: () 표현\n",
    "\n",
    "a = ()        # 빈 리스트\n",
    "\n",
    "b = (1, 2, 3) # 각 값은 콤마로 구분\n",
    "\n",
    "c = 1,        # 요소가 하나 들어있는 튜플\n",
    "\n",
    "d = (2,)      # 요소가 하나 들어있는 튜플\n",
    "\n",
    "e = 1         # 얘는 정수\n",
    "\n",
    "print(a)\n",
    "print(type(a))\n",
    "print('-'*20)\n",
    "\n",
    "print(b)\n",
    "print(type(b))\n",
    "print('-'*20)\n",
    "\n",
    "print(c)\n",
    "print(type(c))\n",
    "print('-'*20)\n",
    "\n",
    "print(d)\n",
    "print(type(d))\n",
    "print('-'*20)\n",
    "\n",
    "print(e)\n",
    "print(type(e))"
   ]
  },
  {
   "cell_type": "code",
   "execution_count": 53,
   "metadata": {
    "colab": {
     "base_uri": "https://localhost:8080/",
     "height": 219
    },
    "id": "ddfxEA8qu_Fr",
    "outputId": "4f71e6c8-68f7-4765-ff7d-6bbb7fde0082"
   },
   "outputs": [
    {
     "name": "stdout",
     "output_type": "stream",
     "text": [
      "('james', 17, 175.3, True)\n",
      "--------------------\n",
      "175.3\n"
     ]
    },
    {
     "ename": "TypeError",
     "evalue": "'tuple' object does not support item assignment",
     "output_type": "error",
     "traceback": [
      "\u001b[1;31m---------------------------------------------------------------------------\u001b[0m",
      "\u001b[1;31mTypeError\u001b[0m                                 Traceback (most recent call last)",
      "Cell \u001b[1;32mIn[53], line 9\u001b[0m\n\u001b[0;32m      5\u001b[0m \u001b[38;5;28mprint\u001b[39m(\u001b[38;5;124m'\u001b[39m\u001b[38;5;124m-\u001b[39m\u001b[38;5;124m'\u001b[39m\u001b[38;5;241m*\u001b[39m\u001b[38;5;241m20\u001b[39m)\n\u001b[0;32m      7\u001b[0m \u001b[38;5;28mprint\u001b[39m(person[\u001b[38;5;241m2\u001b[39m])\n\u001b[1;32m----> 9\u001b[0m person[\u001b[38;5;241m2\u001b[39m] \u001b[38;5;241m=\u001b[39m \u001b[38;5;241m190\u001b[39m   \u001b[38;5;66;03m# 튜플은 값 변경 불가능\u001b[39;00m\n\u001b[0;32m     10\u001b[0m \u001b[38;5;28mprint\u001b[39m(person)\n",
      "\u001b[1;31mTypeError\u001b[0m: 'tuple' object does not support item assignment"
     ]
    }
   ],
   "source": [
    "# 튜플 tuple 2\n",
    "\n",
    "person = ('james', 17, 175.3, True) # 다양한 자료형을 저장\n",
    "print(person)\n",
    "print('-'*20)\n",
    "\n",
    "print(person[2])\n",
    "\n",
    "person[2] = 190   # 튜플은 값 변경 불가능 (중요: 리스트와 차이점임 !!!)\n",
    "print(person)"
   ]
  },
  {
   "cell_type": "code",
   "execution_count": 55,
   "metadata": {
    "colab": {
     "base_uri": "https://localhost:8080/"
    },
    "id": "nc77vL-avPOb",
    "outputId": "743af4f4-ca06-48e0-f3c8-a7d887f0cd47"
   },
   "outputs": [
    {
     "name": "stdout",
     "output_type": "stream",
     "text": [
      "[1, 2, 3]\n",
      "(1, 2, 3)\n",
      "[1, 100, 3]\n",
      "(1, 100, 3)\n"
     ]
    }
   ],
   "source": [
    "# 리스트 -> 튜플 -> 리스트 -> 튜플 \n",
    "# 이걸(튜플 -> 리스트 -> 튜플) 이용해서 튜플 값을 변경할 수 있음\n",
    "\n",
    "a = [1, 2, 3]\n",
    "b = tuple(a)\n",
    "c = list(b)\n",
    "c[1] = 100\n",
    "d = tuple(c)\n",
    "\n",
    "print(a)\n",
    "print(b)\n",
    "print(c)\n",
    "print(d)"
   ]
  },
  {
   "cell_type": "code",
   "execution_count": 57,
   "metadata": {},
   "outputs": [
    {
     "name": "stdout",
     "output_type": "stream",
     "text": [
      "l\n"
     ]
    },
    {
     "ename": "TypeError",
     "evalue": "'str' object does not support item assignment",
     "output_type": "error",
     "traceback": [
      "\u001b[1;31m---------------------------------------------------------------------------\u001b[0m",
      "\u001b[1;31mTypeError\u001b[0m                                 Traceback (most recent call last)",
      "Cell \u001b[1;32mIn[57], line 6\u001b[0m\n\u001b[0;32m      3\u001b[0m hello \u001b[38;5;241m=\u001b[39m \u001b[38;5;124m'\u001b[39m\u001b[38;5;124mhello\u001b[39m\u001b[38;5;124m'\u001b[39m\n\u001b[0;32m      4\u001b[0m \u001b[38;5;28mprint\u001b[39m(hello[\u001b[38;5;241m2\u001b[39m])\n\u001b[1;32m----> 6\u001b[0m hello[\u001b[38;5;241m2\u001b[39m] \u001b[38;5;241m=\u001b[39m \u001b[38;5;124m'\u001b[39m\u001b[38;5;124mm\u001b[39m\u001b[38;5;124m'\u001b[39m\n\u001b[0;32m      7\u001b[0m \u001b[38;5;28mprint\u001b[39m(hello)\n",
      "\u001b[1;31mTypeError\u001b[0m: 'str' object does not support item assignment"
     ]
    }
   ],
   "source": [
    "# 문자열\n",
    "\n",
    "hello = 'hello'\n",
    "print(hello[2])\n",
    "\n",
    "hello[2] = 'm'  # error 발생\n",
    "print(hello)"
   ]
  },
  {
   "cell_type": "code",
   "execution_count": null,
   "metadata": {
    "colab": {
     "base_uri": "https://localhost:8080/"
    },
    "id": "t8Ls_kGnv0qE",
    "outputId": "4c41eec1-3236-4868-f954-68c93515d162"
   },
   "outputs": [
    {
     "name": "stdout",
     "output_type": "stream",
     "text": [
      "['h', 'e', 'l', 'l', 'o']\n",
      "('h', 'e', 'l', 'l', 'o')\n"
     ]
    }
   ],
   "source": [
    "# 문자열과 list, tuple\n",
    "\n",
    "hello = 'hello'\n",
    "\n",
    "print(list(hello))\n",
    "print(tuple(hello))"
   ]
  },
  {
   "cell_type": "code",
   "execution_count": null,
   "metadata": {
    "colab": {
     "base_uri": "https://localhost:8080/",
     "height": 219
    },
    "id": "jH8AtZ7aFTsK",
    "outputId": "bcb5783c-306f-4ae5-fa15-0c56623545d3"
   },
   "outputs": [
    {
     "ename": "TypeError",
     "evalue": "'str' object does not support item assignment",
     "output_type": "error",
     "traceback": [
      "\u001b[0;31m---------------------------------------------------------------------------\u001b[0m",
      "\u001b[0;31mTypeError\u001b[0m                                 Traceback (most recent call last)",
      "\u001b[0;32m<ipython-input-69-9b770e9c7aa1>\u001b[0m in \u001b[0;36m<cell line: 0>\u001b[0;34m()\u001b[0m\n\u001b[1;32m      2\u001b[0m \u001b[0;34m\u001b[0m\u001b[0m\n\u001b[1;32m      3\u001b[0m \u001b[0mhello\u001b[0m \u001b[0;34m=\u001b[0m \u001b[0;34m'hello'\u001b[0m\u001b[0;34m\u001b[0m\u001b[0;34m\u001b[0m\u001b[0m\n\u001b[0;32m----> 4\u001b[0;31m \u001b[0mhello\u001b[0m\u001b[0;34m[\u001b[0m\u001b[0;36m2\u001b[0m\u001b[0;34m]\u001b[0m \u001b[0;34m=\u001b[0m \u001b[0;34m'm'\u001b[0m\u001b[0;34m\u001b[0m\u001b[0;34m\u001b[0m\u001b[0m\n\u001b[0m\u001b[1;32m      5\u001b[0m \u001b[0;34m\u001b[0m\u001b[0m\n\u001b[1;32m      6\u001b[0m \u001b[0mprint\u001b[0m\u001b[0;34m(\u001b[0m\u001b[0mhello\u001b[0m\u001b[0;34m)\u001b[0m\u001b[0;34m\u001b[0m\u001b[0;34m\u001b[0m\u001b[0m\n",
      "\u001b[0;31mTypeError\u001b[0m: 'str' object does not support item assignment"
     ]
    }
   ],
   "source": [
    "# 문자열과 tuple\n",
    "\n",
    "hello = 'hello'\n",
    "hello[2] = 'm'\n",
    "\n",
    "print(hello)"
   ]
  },
  {
   "cell_type": "markdown",
   "metadata": {
    "id": "-cTbC4udFgKD"
   },
   "source": [
    "##### 시퀀스 자료형: 리스트, 튜플, range, 문자열(str) -> 값이 연속적으로 이어짐"
   ]
  },
  {
   "cell_type": "markdown",
   "metadata": {
    "id": "_l13HAixwk_E"
   },
   "source": [
    "![011001.png](data:image/png;base64,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)"
   ]
  },
  {
   "cell_type": "code",
   "execution_count": null,
   "metadata": {
    "colab": {
     "base_uri": "https://localhost:8080/"
    },
    "id": "O6teEXpbwXXS",
    "outputId": "219e6554-4577-4841-a6b9-50ab01b19f82"
   },
   "outputs": [
    {
     "name": "stdout",
     "output_type": "stream",
     "text": [
      "True\n",
      "False\n",
      "----------\n",
      "True\n",
      "False\n",
      "----------\n",
      "True\n",
      "False\n",
      "----------\n",
      "True\n",
      "False\n"
     ]
    }
   ],
   "source": [
    "# 시퀀스 자료형 1(특정 값이 있는지 확인)\n",
    "\n",
    "a = [0, 10, 20, 30, 40, 50, 60, 70, 80, 90] # 시퀀스 자료형\n",
    "print(30 in a)  # in: ~에 들어있는\n",
    "print(100 in a)\n",
    "print('-'*10)\n",
    "\n",
    "print(100 not in a) # not in: ~에 들어있지 않은\n",
    "print(30 not in a)\n",
    "print('-'*10)\n",
    "\n",
    "print(1 in range(10))   # range도 시퀀스 자료형\n",
    "print(11 in range(10))\n",
    "print('-'*10)\n",
    "\n",
    "print('p' in 'python')  # string도 시퀀스 자료형\n",
    "print('P' in 'python')"
   ]
  },
  {
   "cell_type": "code",
   "execution_count": 58,
   "metadata": {
    "colab": {
     "base_uri": "https://localhost:8080/"
    },
    "id": "n9h-kjyVxOfJ",
    "outputId": "16e7980e-a89b-4c6d-ab12-c3d8cf06dc54"
   },
   "outputs": [
    {
     "name": "stdout",
     "output_type": "stream",
     "text": [
      "[0, 10, 20, 30, 9, 8, 7, 6]\n",
      "------------------------------\n",
      "hellopython\n",
      "hello python\n"
     ]
    }
   ],
   "source": [
    "# 시퀀스 자료형 2-1 (시퀀스 객체 연결하기)\n",
    "\n",
    "a = [0, 10, 20, 30]\n",
    "b = [9, 8, 7, 6]\n",
    "print(a + b)\n",
    "print('-'*30)\n",
    "\n",
    "print('hello' + '' + 'python')\n",
    "print('hello' + ' ' + 'python')"
   ]
  },
  {
   "cell_type": "code",
   "execution_count": null,
   "metadata": {
    "colab": {
     "base_uri": "https://localhost:8080/",
     "height": 182
    },
    "id": "aMb5_-Z9xmxD",
    "outputId": "c96b39a4-e84f-43d7-a510-61bb12d894f5"
   },
   "outputs": [
    {
     "ename": "TypeError",
     "evalue": "unsupported operand type(s) for +: 'range' and 'range'",
     "output_type": "error",
     "traceback": [
      "\u001b[0;31m---------------------------------------------------------------------------\u001b[0m",
      "\u001b[0;31mTypeError\u001b[0m                                 Traceback (most recent call last)",
      "\u001b[0;32m<ipython-input-77-c1485d82832e>\u001b[0m in \u001b[0;36m<cell line: 0>\u001b[0;34m()\u001b[0m\n\u001b[1;32m      1\u001b[0m \u001b[0;31m# 시퀀스 자료형 2-2 (시퀀스 객체 연결하기)\u001b[0m\u001b[0;34m\u001b[0m\u001b[0;34m\u001b[0m\u001b[0m\n\u001b[1;32m      2\u001b[0m \u001b[0;34m\u001b[0m\u001b[0m\n\u001b[0;32m----> 3\u001b[0;31m \u001b[0mprint\u001b[0m\u001b[0;34m(\u001b[0m\u001b[0mrange\u001b[0m\u001b[0;34m(\u001b[0m\u001b[0;36m0\u001b[0m\u001b[0;34m,\u001b[0m \u001b[0;36m10\u001b[0m\u001b[0;34m)\u001b[0m \u001b[0;34m+\u001b[0m \u001b[0mrange\u001b[0m\u001b[0;34m(\u001b[0m\u001b[0;36m90\u001b[0m\u001b[0;34m,\u001b[0m \u001b[0;36m100\u001b[0m\u001b[0;34m)\u001b[0m\u001b[0;34m)\u001b[0m\u001b[0;34m\u001b[0m\u001b[0;34m\u001b[0m\u001b[0m\n\u001b[0m",
      "\u001b[0;31mTypeError\u001b[0m: unsupported operand type(s) for +: 'range' and 'range'"
     ]
    }
   ],
   "source": [
    "# 시퀀스 자료형 2-2 (시퀀스 객체 연결하기)\n",
    "\n",
    "print(range(0, 10) + range(90, 100))"
   ]
  },
  {
   "cell_type": "code",
   "execution_count": null,
   "metadata": {
    "id": "M_5jwoEUwXUK"
   },
   "outputs": [],
   "source": [
    "# 시퀀스 자료형 2-3 (시퀀스 객체 연결하기)\n",
    "\n",
    "# range는 리스트나 튜플로 만들어서 연결\n",
    "print(list(range(0, 10)) + list(range(90, 100)))"
   ]
  },
  {
   "cell_type": "code",
   "execution_count": null,
   "metadata": {
    "colab": {
     "base_uri": "https://localhost:8080/"
    },
    "id": "LlB-DXjtx5mV",
    "outputId": "753f62b3-19af-46a9-bd92-e894fc75d195"
   },
   "outputs": [
    {
     "name": "stdout",
     "output_type": "stream",
     "text": [
      "[1, 2, 3, 4, 1, 2, 3, 4, 1, 2, 3, 4]\n",
      "----------------------------------------------------------------------\n"
     ]
    }
   ],
   "source": [
    "# 시퀀스 자료형 3 (시퀀스 객체 반복하기)\n",
    "\n",
    "print([1, 2, 3, 4]*3)\n",
    "\n",
    "print('-'*70)"
   ]
  },
  {
   "cell_type": "code",
   "execution_count": null,
   "metadata": {
    "colab": {
     "base_uri": "https://localhost:8080/"
    },
    "id": "AxNxBppKx5jz",
    "outputId": "90cf57da-3b89-49bc-89a1-1d193b7913c4"
   },
   "outputs": [
    {
     "name": "stdout",
     "output_type": "stream",
     "text": [
      "10\n",
      "5\n",
      "----------\n",
      "5\n",
      "12\n"
     ]
    }
   ],
   "source": [
    "# 시퀀스 자료형 4 (리스트, 튜플, range의 숫자 생성, 요소 개수 구하기)\n",
    "\n",
    "a = [0, 10, 20, 30, 40, 50, 60, 70, 80, 90]\n",
    "print(len(a))\n",
    "\n",
    "b = (38, 76, 43, 62, 19)\n",
    "print(len(b))\n",
    "\n",
    "print('-'*10)\n",
    "\n",
    "print(len(range(0, 10, 2)))\n",
    "\n",
    "print(len('hello python'))"
   ]
  },
  {
   "cell_type": "code",
   "execution_count": 64,
   "metadata": {
    "colab": {
     "base_uri": "https://localhost:8080/"
    },
    "id": "qve7Re4TwXRV",
    "outputId": "5875c46f-b240-49b1-aff1-c6afd2d45444"
   },
   "outputs": [
    {
     "name": "stdout",
     "output_type": "stream",
     "text": [
      "38\n",
      "53\n",
      "19\n",
      "----------\n",
      "38\n",
      "53\n",
      "19\n",
      "----------\n",
      "0\n",
      "4\n",
      "8\n",
      "----------\n",
      "h\n",
      "----------\n",
      "19\n",
      "19\n",
      "53\n",
      "19\n",
      "----------\n",
      "8\n",
      "o\n"
     ]
    }
   ],
   "source": [
    "# 시퀀스 자료형 5 (인덱싱): 하나의 요소만 access함\n",
    "\n",
    "a = [38, 21, 53, 62, 19]\n",
    "print(a[0])\n",
    "print(a[2])\n",
    "print(a[4])\n",
    "print('-'*10)\n",
    "\n",
    "b = (38, 21, 53, 62, 19)\n",
    "print(b[0])\n",
    "print(b[2])\n",
    "print(b[4])\n",
    "print('-'*10)\n",
    "\n",
    "print(range(0, 10, 2)[0])\n",
    "print(range(0, 10, 2)[2])\n",
    "print(range(0, 10, 2)[4])\n",
    "print('-'*10)\n",
    "\n",
    "print('hello'[0])\n",
    "print('-'*10)\n",
    "\n",
    "a = [38, 21, 53, 62, 19]\n",
    "#    0,   1,  2,  3,  4  (+) 인덱스\n",
    "#    -5, -4, -3, -2, -1  (-) 인덱스\n",
    "\n",
    "print(a[len(a)-1])\n",
    "print(a[-1])\n",
    "print(a[-3])\n",
    "print(b[-1])\n",
    "print('-'*10)\n",
    "\n",
    "print(range(0, 10, 2)[-1])\n",
    "print('hello'[-1])"
   ]
  },
  {
   "cell_type": "code",
   "execution_count": null,
   "metadata": {
    "colab": {
     "base_uri": "https://localhost:8080/"
    },
    "id": "551MauulzIlq",
    "outputId": "c7cd6265-fd19-4b60-dcb6-416458baf755"
   },
   "outputs": [
    {
     "name": "stdout",
     "output_type": "stream",
     "text": [
      "[0, 10, 20, 30]\n",
      "------------------------------\n",
      "[10]\n",
      "------------------------------\n",
      "[0, 10, 20, 30, 40, 50, 60]\n",
      "------------------------------\n",
      "[70, 80, 90]\n",
      "------------------------------\n",
      "[0, 10, 20, 30, 40, 50, 60, 70, 80, 90]\n",
      "------------------------------\n",
      "[]\n",
      "------------------------------\n",
      "[20, 50]\n",
      "------------------------------\n",
      "[90, 80, 70, 60, 50, 40, 30, 20, 10, 0]\n"
     ]
    }
   ],
   "source": [
    "# 시퀀스 자료형 6 (슬라이싱) : 여러 개의 요소를 access함\n",
    "\n",
    "a = [0, 10, 20, 30, 40, 50, 60, 70, 80, 90]\n",
    "print(a[0:4])\n",
    "print('-'*30)\n",
    "\n",
    "print(a[1:2])\n",
    "print('-'*30)\n",
    "\n",
    "print(a[:7])  # 0번째 부터 (7-1)번째 까지\n",
    "print('-'*30)\n",
    "\n",
    "print(a[7:])  # 7번째 부터 끝까지 인덱싱\n",
    "print('-'*30)\n",
    "\n",
    "print(a[:])   # 모두 (all)\n",
    "print('-'*30)\n",
    "\n",
    "print(a[1:1]) # [] \n",
    "print('-'*30)\n",
    "\n",
    "print(a[2:8:3]) # 이오 요구르트\n",
    "print('-'*30)\n",
    "\n",
    "print(a[::-1])  # 역으로 접근 (거꾸로 모두 읽음)"
   ]
  },
  {
   "cell_type": "code",
   "execution_count": 65,
   "metadata": {
    "colab": {
     "base_uri": "https://localhost:8080/"
    },
    "id": "mxYZNCAi0Wos",
    "outputId": "7348e102-e893-4da4-a866-ae7f4a4f2647"
   },
   "outputs": [
    {
     "name": "stdout",
     "output_type": "stream",
     "text": [
      "{'a': 10, 'b': 20, 'c': 30, 'd': 40}\n",
      "dict_keys(['a', 'b', 'c', 'd'])\n",
      "dict_values([10, 20, 30, 40])\n",
      "10\n",
      "30\n",
      "------------------------------\n",
      "{4: 'four', 3: 'three', 2: 'two'}\n",
      "dict_keys([4, 3, 2])\n",
      "dict_values(['four', 'three', 'two'])\n",
      "four\n",
      "two\n"
     ]
    }
   ],
   "source": [
    "# 딕셔너리 1: {} 로 표현. {키 : 값} :을 기준으로 왼쪽은 키, 오른쪽은 값\n",
    "\n",
    "x = {'a': 10, 'b': 20, 'c': 30, 'd': 40}\n",
    "\n",
    "print(x)\n",
    "print(x.keys())\n",
    "print(x.values())\n",
    "print(x['a'])  # 키를 인덱싱하면 value를 알수있다\n",
    "print(x['c'])\n",
    "print('-'*30)\n",
    "\n",
    "y = {4: 'four', 3: 'three', 2: 'two'}\n",
    "print(y)\n",
    "print(y.keys())\n",
    "print(y.values())\n",
    "print(y[4])\n",
    "print(y[2])"
   ]
  },
  {
   "cell_type": "code",
   "execution_count": null,
   "metadata": {
    "colab": {
     "base_uri": "https://localhost:8080/",
     "height": 182
    },
    "id": "Rt2pI7ebFWx8",
    "outputId": "cc74ddad-c61f-4b5f-c32f-02429403dc59"
   },
   "outputs": [
    {
     "ename": "TypeError",
     "evalue": "unhashable type: 'dict'",
     "output_type": "error",
     "traceback": [
      "\u001b[0;31m---------------------------------------------------------------------------\u001b[0m",
      "\u001b[0;31mTypeError\u001b[0m                                 Traceback (most recent call last)",
      "\u001b[0;32m<ipython-input-4-ab5d1833a30c>\u001b[0m in \u001b[0;36m<cell line: 0>\u001b[0;34m()\u001b[0m\n\u001b[1;32m      2\u001b[0m \u001b[0;34m\u001b[0m\u001b[0m\n\u001b[1;32m      3\u001b[0m \u001b[0;31m#x = {[10, 20]: 100}\u001b[0m\u001b[0;34m\u001b[0m\u001b[0;34m\u001b[0m\u001b[0m\n\u001b[0;32m----> 4\u001b[0;31m \u001b[0mx\u001b[0m \u001b[0;34m=\u001b[0m \u001b[0;34m{\u001b[0m\u001b[0;34m{\u001b[0m\u001b[0;34m'a'\u001b[0m\u001b[0;34m:\u001b[0m \u001b[0;36m10\u001b[0m\u001b[0;34m}\u001b[0m\u001b[0;34m:\u001b[0m \u001b[0;36m100\u001b[0m\u001b[0;34m}\u001b[0m\u001b[0;34m\u001b[0m\u001b[0;34m\u001b[0m\u001b[0m\n\u001b[0m",
      "\u001b[0;31mTypeError\u001b[0m: unhashable type: 'dict'"
     ]
    }
   ],
   "source": [
    "# 딕셔너리 2-1: 키에는 리스트와 딕셔너리를 사용할 수 없음\n",
    "\n",
    "#x = {[10, 20]: 100}\n",
    "x = {{'a': 10}: 100}\n"
   ]
  },
  {
   "cell_type": "code",
   "execution_count": 68,
   "metadata": {},
   "outputs": [
    {
     "name": "stdout",
     "output_type": "stream",
     "text": [
      "{2: 100}\n",
      "dict_values([{2: 100}])\n"
     ]
    }
   ],
   "source": [
    "# 딕셔너리 2-2: 값에는 리스트와 딕셔너리를 사용할 수 있음\n",
    "\n",
    "#x = {3: [10, 20]}\n",
    "x = {1: {2:100}}\n",
    "print(x[1])\n",
    "print(x.values())"
   ]
  },
  {
   "cell_type": "code",
   "execution_count": 70,
   "metadata": {
    "colab": {
     "base_uri": "https://localhost:8080/"
    },
    "id": "TWGQzW71GA1G",
    "outputId": "fb28c8fe-5f87-4e99-e553-82ffaf546be6"
   },
   "outputs": [
    {
     "name": "stdout",
     "output_type": "stream",
     "text": [
      "{} <class 'dict'>\n",
      "{'a': 10, 'b': 20, 'c': 30}\n",
      "------------------------------\n",
      "{'a': 10, 'b': 20, 'c': 30}\n",
      "------------------------------\n",
      "{'a': 10, 'b': 20, 'c': 30}\n",
      "------------------------------\n",
      "{'a': 10, 'b': 20, 'c': 30}\n",
      "------------------------------\n",
      "{'a': 10, 'b': 20, 'c': 30}\n",
      "------------------------------\n",
      "True\n",
      "False\n",
      "------------------------------\n",
      "3\n"
     ]
    }
   ],
   "source": [
    "# 딕셔너리 3\n",
    "a = {}  # 빈 딕셔너리 : 빈 리스트 [], 빈 튜플 (), 빈 세트 a = set()\n",
    "print(a, type(a))\n",
    "\n",
    "# 딕셔너리 만들기1: dict(키1=값1, 키2=값2)\n",
    "dic = dict(a=10, b=20, c=30)\n",
    "print(dic)\n",
    "print('-'*30)\n",
    "\n",
    "# 딕셔너리 만들기2: dict(zip([키1, 키2], [값1, 값2]))\n",
    "dic2 = dict(zip(['a', 'b', 'c'], [10, 20, 30]))\n",
    "print(dic2)\n",
    "print('-'*30)\n",
    "\n",
    "# 딕셔너리 만들기3: dict([(키1, 값1), (키2, 값2)])\n",
    "dic3 = dict([('a', 10), ('b', 20), ('c', 30)])\n",
    "print(dic3)\n",
    "print('-'*30)\n",
    "\n",
    "# 딕셔너리 만들기4: dict({키1: 값1, 키2: 값2})\n",
    "dic4 = dict({'a': 10, 'b': 20, 'c': 30})\n",
    "print(dic4)\n",
    "print('-'*30)\n",
    "\n",
    "# 딕셔너리 만들기5: {키1: 값1, 키2: 값2}\n",
    "dic5 = {'a': 10, 'b': 20, 'c': 30}\n",
    "print(dic5)\n",
    "print('-'*30)\n",
    "\n",
    "print('a' in dic4)  # 딕셔너리 키 유무 확인\n",
    "print('d' in dic4)\n",
    "print('-'*30)\n",
    "\n",
    "print(len(dic4))  # 딕셔너리 키 개수"
   ]
  },
  {
   "cell_type": "code",
   "execution_count": null,
   "metadata": {
    "colab": {
     "base_uri": "https://localhost:8080/"
    },
    "id": "Q3ufhPMkHqhX",
    "outputId": "aff7e611-ec75-4c57-db45-a6ca0ebcd3ef"
   },
   "outputs": [
    {
     "name": "stdout",
     "output_type": "stream",
     "text": [
      "set() <class 'set'>\n",
      "--------------------\n",
      "{} <class 'dict'>\n",
      "--------------------\n",
      "{'p', 'e', 'a', 'l'}\n"
     ]
    }
   ],
   "source": [
    "# set 1: set 만들기\n",
    "\n",
    "a = set() # 빈 세트\n",
    "print(a, type(a))\n",
    "print('-'*20)\n",
    "\n",
    "b = {}\n",
    "print(b, type(b))\n",
    "print('-'*20)\n",
    "\n",
    "# set의 특징1: 중복 허용하지 않음\n",
    "c = set('apple') # 출력 결과가 a, p, p, l, e 가 아님\n",
    "print(c)"
   ]
  },
  {
   "cell_type": "code",
   "execution_count": 74,
   "metadata": {
    "colab": {
     "base_uri": "https://localhost:8080/"
    },
    "id": "f-WmNmuiGic0",
    "outputId": "0462bd5e-4066-4a40-f8f5-36c965fd2489"
   },
   "outputs": [
    {
     "name": "stdout",
     "output_type": "stream",
     "text": [
      "{'orange', 'grape', 'cherry', 'pineapple', 'strawberry'}\n",
      "--------------------------------------------------\n"
     ]
    },
    {
     "ename": "TypeError",
     "evalue": "'set' object is not subscriptable",
     "output_type": "error",
     "traceback": [
      "\u001b[1;31m---------------------------------------------------------------------------\u001b[0m",
      "\u001b[1;31mTypeError\u001b[0m                                 Traceback (most recent call last)",
      "Cell \u001b[1;32mIn[74], line 7\u001b[0m\n\u001b[0;32m      4\u001b[0m \u001b[38;5;28mprint\u001b[39m(fruits)\n\u001b[0;32m      5\u001b[0m \u001b[38;5;28mprint\u001b[39m(\u001b[38;5;124m'\u001b[39m\u001b[38;5;124m-\u001b[39m\u001b[38;5;124m'\u001b[39m\u001b[38;5;241m*\u001b[39m\u001b[38;5;241m50\u001b[39m)\n\u001b[1;32m----> 7\u001b[0m \u001b[38;5;28mprint\u001b[39m(fruits[\u001b[38;5;241m1\u001b[39m])\n",
      "\u001b[1;31mTypeError\u001b[0m: 'set' object is not subscriptable"
     ]
    }
   ],
   "source": [
    "# set 2: 특징2: 세트의 요소는 순서가 정해져 있지 않음 ==> 그래서 인덱싱을 할 수 없음\n",
    "\n",
    "fruits = {'strawberry', 'grape', 'orange', 'pineapple', 'cherry'}\n",
    "print(fruits)\n",
    "print('-'*50)\n",
    "\n",
    "print(fruits[1]) # grape일까?"
   ]
  },
  {
   "cell_type": "code",
   "execution_count": null,
   "metadata": {
    "colab": {
     "base_uri": "https://localhost:8080/"
    },
    "id": "NQlaDQdsHOfT",
    "outputId": "6f823f04-94e2-40e0-e95d-63fc72080943"
   },
   "outputs": [
    {
     "name": "stdout",
     "output_type": "stream",
     "text": [
      "True\n",
      "----------\n",
      "False\n",
      "----------\n",
      "True\n",
      "----------\n",
      "False\n"
     ]
    }
   ],
   "source": [
    "# set 3: 세트의 특정 요소가 있는지 확인하기\n",
    "\n",
    "fruits = {'strawberry', 'grape', 'orange', 'pineapple', 'cherry'}\n",
    "print('orange' in fruits)\n",
    "print('-'*10)\n",
    "\n",
    "print('peach' in fruits)\n",
    "print('-'*10)\n",
    "\n",
    "print('peach' not in fruits)\n",
    "print('-'*10)\n",
    "\n",
    "print('orange' not in fruits)"
   ]
  },
  {
   "cell_type": "code",
   "execution_count": null,
   "metadata": {
    "colab": {
     "base_uri": "https://localhost:8080/"
    },
    "id": "_gNRPhM8G2OH",
    "outputId": "27686fc4-3f80-453d-ff19-76a02a83d3c0"
   },
   "outputs": [
    {
     "name": "stdout",
     "output_type": "stream",
     "text": [
      "{'orange', 'strawberry'}\n"
     ]
    }
   ],
   "source": [
    "# set 4: 세트에 들어가는 요소는 중복되지 않음\n",
    "\n",
    "fruits = {'strawberry', 'orange', 'orange'}\n",
    "print(fruits)"
   ]
  },
  {
   "cell_type": "code",
   "execution_count": 77,
   "metadata": {
    "colab": {
     "base_uri": "https://localhost:8080/"
    },
    "id": "jQt_E5czHhr7",
    "outputId": "170954ef-19a0-42eb-956e-f99a150c8a70"
   },
   "outputs": [
    {
     "name": "stdout",
     "output_type": "stream",
     "text": [
      "10입니다\n",
      "aaa\n",
      "---------------\n",
      "aaa\n"
     ]
    }
   ],
   "source": [
    "# if 문 1\n",
    "\n",
    "# if 조건문:\n",
    "#    조건이 true일 때 실행할 코드 (앞 부분은 들여쓰기 되어 있음)\n",
    "\n",
    "a = 10\n",
    "if a == 10:\n",
    "    print('10입니다')\n",
    "    \n",
    "print('aaa')\n",
    "print('-'*15)\n",
    "\n",
    "a = 5\n",
    "if a == 10:\n",
    "    print('10입니다')\n",
    "    \n",
    "print('aaa')"
   ]
  },
  {
   "cell_type": "code",
   "execution_count": 78,
   "metadata": {
    "colab": {
     "base_uri": "https://localhost:8080/",
     "height": 110
    },
    "id": "d2D7kvLNjVnJ",
    "outputId": "3b35ecb3-ce05-4aa7-9472-da377dc6015e"
   },
   "outputs": [
    {
     "ename": "IndentationError",
     "evalue": "unexpected indent (3066235646.py, line 17)",
     "output_type": "error",
     "traceback": [
      "\u001b[1;36m  Cell \u001b[1;32mIn[78], line 17\u001b[1;36m\u001b[0m\n\u001b[1;33m    print('')\u001b[0m\n\u001b[1;37m    ^\u001b[0m\n\u001b[1;31mIndentationError\u001b[0m\u001b[1;31m:\u001b[0m unexpected indent\n"
     ]
    }
   ],
   "source": [
    "# 코드 블록:\n",
    "# - 특정한 동작을 위해서 코드가 모여 있는 상태\n",
    "# - 파이썬은 들여쓰기를 기준으로 코드 블록을 구성\n",
    "# - 같은 블록은 들여쓰기 칸 수가 같아야 하고, space와 tab을 섞어 쓰면 안됨\n",
    "\n",
    "a = 10\n",
    "\n",
    "if a == 10:\n",
    "    print('10입니다')\n",
    "    print('10입니다')\n",
    "    print('10입니다')\n",
    "    print('10입니다')\n",
    "    print('10입니다')\n",
    "    \n",
    "if a != 9:\n",
    "    print('9가 아닙니다')\n",
    "      print('')"
   ]
  },
  {
   "cell_type": "code",
   "execution_count": null,
   "metadata": {
    "colab": {
     "base_uri": "https://localhost:8080/"
    },
    "id": "rhJ-UyIXIHqI",
    "outputId": "e0b63981-c701-4f76-e030-22226699dc6d"
   },
   "outputs": [
    {
     "name": "stdout",
     "output_type": "stream",
     "text": [
      "10입니다\n"
     ]
    }
   ],
   "source": [
    "# if 문 2\n",
    "\n",
    "x = 5\n",
    "\n",
    "if x == 10:\n",
    "    print('x에 들어있는 숫자는')\n",
    "print('10입니다')\n",
    "\n",
    "if x == 10:\n",
    "    print('x에 들어있는 숫자는')\n",
    "    print('10입니다')"
   ]
  },
  {
   "cell_type": "code",
   "execution_count": null,
   "metadata": {
    "colab": {
     "base_uri": "https://localhost:8080/"
    },
    "id": "MiTlVS1zIt6Z",
    "outputId": "3694b0f5-d79f-4d14-fa34-bac70ed3102a"
   },
   "outputs": [
    {
     "name": "stdout",
     "output_type": "stream",
     "text": [
      "참\n"
     ]
    }
   ],
   "source": [
    "# if-else 구문\n",
    "\n",
    "x = 10\n",
    "y = 20\n",
    "\n",
    "if x == 10 and y == 20:  # x == 10 and y == 20 이 조건문\n",
    "    print('참')    # 조건문이 참이면 실행\n",
    "else:\n",
    "    print('거짓')  # 조건문이 거짓이면 실행"
   ]
  },
  {
   "cell_type": "code",
   "execution_count": null,
   "metadata": {
    "colab": {
     "base_uri": "https://localhost:8080/"
    },
    "id": "Zp-6bmpXKHNG",
    "outputId": "ec4bee89-7430-449e-d2eb-cee406363169"
   },
   "outputs": [
    {
     "name": "stdout",
     "output_type": "stream",
     "text": [
      "20보다 작은 양수입니다\n",
      "20보다 작은 양수입니다\n",
      "20보다 작은 양수입니다\n"
     ]
    }
   ],
   "source": [
    "# 중첩 if문과 논리 연산자\n",
    "\n",
    "x = 10\n",
    "\n",
    "if x > 0:\n",
    "    if x < 20:\n",
    "        print('20보다 작은 양수입니다')\n",
    "\n",
    "if x > 0 and x < 20:\n",
    "    print('20보다 작은 양수입니다')\n",
    "\n",
    "if 0 < x < 20:\n",
    "    print('20보다 작은 양수입니다')"
   ]
  },
  {
   "cell_type": "code",
   "execution_count": 79,
   "metadata": {
    "colab": {
     "base_uri": "https://localhost:8080/"
    },
    "id": "JKPwKjcuH6qn",
    "outputId": "0d141724-5e4c-400d-aec2-f3f01cfbd8f9"
   },
   "outputs": [],
   "source": [
    "# if 조건문에서 코드 생략하기\n",
    "\n",
    "a = 5\n",
    "\n",
    "if a == 10:\n",
    "    print('a는 10')\n",
    "else:\n",
    "    pass"
   ]
  },
  {
   "cell_type": "code",
   "execution_count": null,
   "metadata": {
    "id": "f2U-eWfnLqzz"
   },
   "outputs": [],
   "source": [
    "'''\n",
    "S기업의 입사시험은 필기시험(written_test) 점수가 80점 이상이면서 코딩시험(coding_test)을\n",
    "통과해야 합격이라고 한다. 코딩시험 통과 여부는 True, False로 구분한다.\n",
    "written_test = 85이고, coding_test = True일 때, 'pass', 'fail'을 판정하는 코드를\n",
    "작성하시오.\n",
    "'''"
   ]
  },
  {
   "cell_type": "code",
   "execution_count": 81,
   "metadata": {
    "id": "d6mGv_RgMBf2"
   },
   "outputs": [
    {
     "name": "stdout",
     "output_type": "stream",
     "text": [
      "pass\n"
     ]
    }
   ],
   "source": [
    "written_test = 85\n",
    "coding_test = True\n",
    "\n",
    "if (written_test >= 80 and coding_test):\n",
    "    print('pass')\n",
    "else:\n",
    "    print('fail')"
   ]
  },
  {
   "cell_type": "code",
   "execution_count": null,
   "metadata": {
    "id": "iVKvwviCMBXz"
   },
   "outputs": [],
   "source": []
  }
 ],
 "metadata": {
  "colab": {
   "provenance": []
  },
  "kernelspec": {
   "display_name": "Python [conda env:base] *",
   "language": "python",
   "name": "conda-base-py"
  },
  "language_info": {
   "codemirror_mode": {
    "name": "ipython",
    "version": 3
   },
   "file_extension": ".py",
   "mimetype": "text/x-python",
   "name": "python",
   "nbconvert_exporter": "python",
   "pygments_lexer": "ipython3",
   "version": "3.12.7"
  }
 },
 "nbformat": 4,
 "nbformat_minor": 4
}
