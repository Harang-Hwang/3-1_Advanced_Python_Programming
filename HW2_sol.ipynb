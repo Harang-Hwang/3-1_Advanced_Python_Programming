{
  "nbformat": 4,
  "nbformat_minor": 0,
  "metadata": {
    "colab": {
      "provenance": []
    },
    "kernelspec": {
      "name": "python3",
      "display_name": "Python 3"
    },
    "language_info": {
      "name": "python"
    }
  },
  "cells": [
    {
      "cell_type": "markdown",
      "source": [
        "### HW2-1"
      ],
      "metadata": {
        "id": "3GsI8qP_0U_l"
      }
    },
    {
      "cell_type": "code",
      "execution_count": 10,
      "metadata": {
        "colab": {
          "base_uri": "https://localhost:8080/"
        },
        "id": "DcZKA3c70RBT",
        "outputId": "7f66af2f-1792-46c9-bbb6-aac37f97f7fa"
      },
      "outputs": [
        {
          "output_type": "stream",
          "name": "stdout",
          "text": [
            "x = \n",
            "[[ 2.]\n",
            " [ 3.]\n",
            " [-1.]]\n",
            "x2 = \n",
            "[[ 2.]\n",
            " [ 3.]\n",
            " [-1.]]\n",
            "Ax = \n",
            "[[  8.]\n",
            " [-11.]\n",
            " [ -3.]]\n",
            "b = \n",
            "[[  8]\n",
            " [-11]\n",
            " [ -3]]\n"
          ]
        }
      ],
      "source": [
        "import numpy as np\n",
        "\n",
        "# 계수 행렬 A와 상수 벡터 b\n",
        "A = np.array([[2, 1, -1],\n",
        "              [-3, -1, 2],\n",
        "              [-2, 1, 2]])\n",
        "c = np.array([[8, -11, -3]])\n",
        "b = c.T\n",
        "\n",
        "# 조건1: np.linalg.solve()로 Ax = b 풀기\n",
        "x = np.linalg.solve(A, b)\n",
        "print(f\"x = \\n{x}\")\n",
        "\n",
        "# 조건2: np.linalg.inv()로 Ax = b 풀기\n",
        "x2 = np.linalg.inv(A)@b\n",
        "print(f\"x2 = \\n{x2}\")\n",
        "\n",
        "# 조건3: 검산\n",
        "print(f\"Ax = \\n{np.dot(A, x)}\")\n",
        "print(f\"b = \\n{b}\")\n"
      ]
    },
    {
      "cell_type": "markdown",
      "source": [
        "### HW2-2"
      ],
      "metadata": {
        "id": "9lliiY3V06m8"
      }
    },
    {
      "cell_type": "code",
      "source": [
        "import numpy as np\n",
        "import joblib\n",
        "\n",
        "# 배열 생성\n",
        "arr1 = np.random.randint(0,10,12).reshape(3, 4)\n",
        "arr2 = arr1*2\n",
        "\n",
        "# 조건1 .npy 저장\n",
        "np.save('arr1.npy', arr1)\n",
        "\n",
        "# 조건1 .npz 저장\n",
        "np.savez('arr_combined.npz', a=arr1, b=arr2)\n",
        "\n",
        "# 조건1 joblib 저장\n",
        "data = {'arr1': arr1, 'arr2': arr2}\n",
        "joblib.dump(data, 'arrays.joblib')\n",
        "\n",
        "# 조건2 로딩\n",
        "loaded_arr1 = np.load('arr1.npy')\n",
        "loaded_npz = np.load('arr_combined.npz')\n",
        "loaded_joblib = joblib.load('arrays.joblib')\n",
        "\n",
        "# 조건2 출력\n",
        "print(f\"npy: \\n{loaded_arr1}\"), print('-'*30)\n",
        "print(f\"npz['a']: \\n{loaded_npz['a']}\"), print('-'*30)\n",
        "print(f\"npz['b']: \\n{loaded_npz['b']}\"), print('-'*30)\n",
        "print(f\"joblib['arr1']: \\n{loaded_joblib['arr1']}\"), print('-'*30)\n",
        "print(f\"joblib['arr2']: \\n{loaded_joblib['arr2']}\")\n"
      ],
      "metadata": {
        "colab": {
          "base_uri": "https://localhost:8080/"
        },
        "id": "XKGY05cF1QJc",
        "outputId": "9e4865db-21ff-4583-c1c1-4b4a401d7d6e"
      },
      "execution_count": 11,
      "outputs": [
        {
          "output_type": "stream",
          "name": "stdout",
          "text": [
            "npy: \n",
            "[[3 3 4 6]\n",
            " [5 3 2 9]\n",
            " [7 7 0 7]]\n",
            "------------------------------\n",
            "npz['a']: \n",
            "[[3 3 4 6]\n",
            " [5 3 2 9]\n",
            " [7 7 0 7]]\n",
            "------------------------------\n",
            "npz['b']: \n",
            "[[ 6  6  8 12]\n",
            " [10  6  4 18]\n",
            " [14 14  0 14]]\n",
            "------------------------------\n",
            "joblib['arr1']: \n",
            "[[3 3 4 6]\n",
            " [5 3 2 9]\n",
            " [7 7 0 7]]\n",
            "------------------------------\n",
            "joblib['arr2']: \n",
            "[[ 6  6  8 12]\n",
            " [10  6  4 18]\n",
            " [14 14  0 14]]\n"
          ]
        }
      ]
    },
    {
      "cell_type": "markdown",
      "source": [
        "### HW2-3"
      ],
      "metadata": {
        "id": "irraXPnX5fbA"
      }
    },
    {
      "cell_type": "code",
      "source": [
        "import pandas as pd\n",
        "import numpy as np\n",
        "\n",
        "# 조건1. Series 객체 생성\n",
        "glucose_data = {\n",
        "    'subject_01': 98,\n",
        "    'subject_02': 110,\n",
        "    'subject_03': 87,\n",
        "    'subject_04': 145,\n",
        "    'subject_05': 132,\n",
        "    'subject_06': 120,\n",
        "}\n",
        "glucose = pd.Series(glucose_data)\n",
        "print(f\"조건1. 혈당 Series: \\n{glucose}\"), print('='*50)\n",
        "\n",
        "# 조건2. 평균 혈당 계산\n",
        "print(f\"조건2. 평균 혈당 수치: {np.mean(glucose)}\"), print('='*50)\n",
        "\n",
        "# 조건3. 혈당 125 이상인 참가자 추출\n",
        "high_glucose = glucose[glucose >= 125]\n",
        "print(f\"조건3. 혈당이 125 이상인 참가자: \\n{high_glucose}\"), print('='*50)\n",
        "\n",
        "# 조건4. 특정 구간 슬라이싱 (라벨 기반, 'subject_05' 포함됨)\n",
        "sliced = glucose['subject_02':'subject_05']\n",
        "print(f\"조건4. 'subject_02'부터 'subject_05'까지 참가자: \\n{sliced}\")\n"
      ],
      "metadata": {
        "colab": {
          "base_uri": "https://localhost:8080/"
        },
        "id": "IaIr-8wX5f3_",
        "outputId": "bde5e1f5-6588-46e5-8435-ad88b6d2fc9b"
      },
      "execution_count": 16,
      "outputs": [
        {
          "output_type": "stream",
          "name": "stdout",
          "text": [
            "조건1. 혈당 Series: \n",
            "subject_01     98\n",
            "subject_02    110\n",
            "subject_03     87\n",
            "subject_04    145\n",
            "subject_05    132\n",
            "subject_06    120\n",
            "dtype: int64\n",
            "==================================================\n",
            "조건2. 평균 혈당 수치: 115.33333333333333\n",
            "==================================================\n",
            "조건3. 혈당이 125 이상인 참가자: \n",
            "subject_04    145\n",
            "subject_05    132\n",
            "dtype: int64\n",
            "==================================================\n",
            "조건4. 'subject_02'부터 'subject_05'까지 참가자: \n",
            "subject_02    110\n",
            "subject_03     87\n",
            "subject_04    145\n",
            "subject_05    132\n",
            "dtype: int64\n"
          ]
        }
      ]
    }
  ]
}