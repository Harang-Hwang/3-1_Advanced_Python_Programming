{
  "nbformat": 4,
  "nbformat_minor": 0,
  "metadata": {
    "colab": {
      "provenance": []
    },
    "kernelspec": {
      "name": "python3",
      "display_name": "Python 3"
    },
    "language_info": {
      "name": "python"
    }
  },
  "cells": [
    {
      "cell_type": "code",
      "execution_count": 13,
      "metadata": {
        "colab": {
          "base_uri": "https://localhost:8080/"
        },
        "id": "P5BFtlUD4YJ_",
        "outputId": "f2c64d85-cebf-43cd-88b4-47dcd0d1fc5d"
      },
      "outputs": [
        {
          "output_type": "stream",
          "name": "stdout",
          "text": [
            "전체 평균 혈압: 133.75\n",
            "==================================================\n",
            "결측치 채운 결과: \n",
            "   ID     BP  BP_filled\n",
            "0  P1    NaN     133.75\n",
            "1  P2  150.0     150.00\n",
            "2  P3  120.0     120.00\n",
            "3  P4    NaN     133.75\n",
            "4  P5  130.0     130.00\n",
            "5  P6  135.0     135.00\n",
            "6  P7    NaN     133.75\n",
            "==================================================\n",
            "BP_Level 추가 결과:\n",
            "    ID     BP  BP_filled BP_Level\n",
            "0  P1    NaN     133.75   Normal\n",
            "1  P2  150.0     150.00     High\n",
            "2  P3  120.0     120.00   Normal\n",
            "3  P4    NaN     133.75   Normal\n",
            "4  P5  130.0     130.00   Normal\n",
            "5  P6  135.0     135.00     High\n",
            "6  P7    NaN     133.75   Normal\n"
          ]
        }
      ],
      "source": [
        "import pandas as pd\n",
        "import numpy as np\n",
        "\n",
        "df = pd.DataFrame({'ID': ['P1', 'P2', 'P3', 'P4', 'P5', 'P6', 'P7'],\n",
        "                   'BP': [np.nan, 150, 120, np.nan, 130, 135, np.nan]})\n",
        "\n",
        "# 1) 결측치를 제외한 BP의 평균 혈압을 구하여 출력하라.\n",
        "bp_mean = df['BP'].mean()\n",
        "print(f\"결측치를 제외한 평균 혈압: {bp_mean}\"), print('='*50)\n",
        "\n",
        "# 2) BP의 결측치를 1)에서 구한 평균 혈압으로 채워서 BP_filled 열을 추가하여 출력하라.\n",
        "df['BP_filled'] = df['BP'].fillna(bp_mean)\n",
        "print(f\"BP의 결측치 채운 결과: \\n{df}\"), print('='*50)\n",
        "\n",
        "# 3) 2)에서 구한 BP_filled 열에서 BP가 1)에서 구한 평균보다 높은 경우 'High',\n",
        "# 그렇지 않으면 'Normal'을 부여하는 BP_Level 열을 추가하여 출력하라.\n",
        "df['BP_Level'] = np.where(df['BP_filled'] > bp_mean, 'High', 'Normal')\n",
        "print(f\"BP_Level 추가 결과:\\n {df}\")"
      ]
    },
    {
      "cell_type": "code",
      "source": [
        "index = pd.MultiIndex.from_product(\n",
        "        [['Asan', 'Yeonsei'], pd.date_range('2025-05-23', periods=5)],\n",
        "        names=['Hospital', 'Date'])\n",
        "\n",
        "temp = [np.nan, 36.5, 38.0, np.nan, 37.5, np.nan, 38.0, 38.5, 38.5, np.nan]\n",
        "df = pd.DataFrame({'Temp': temp}, index=index)\n",
        "print(df), print('='*50)\n",
        "\n",
        "# 1) 병원별로 온도 결측치를 전일 값으로 채워서 출력하라.\n",
        "df_ffill = df.groupby('Hospital').fillna(method='ffill')\n",
        "print(f\"병원별 forward fill 결과: \\n{df_ffill}\"), print('='*50)\n",
        "\n",
        "# 2) 1)의 결과 데이터프레임에서 결측치를 제외한 병원별 온도 평균 구하여 출력하라.\n",
        "group_avg = df_ffill.groupby('Hospital')['Temp'].transform('mean')\n",
        "\n",
        "# 3) 1)의 결과에서 채우지 못한 결측치를 2)에서 구한 병원별 평균으로 채워서\n",
        "# Temp_filled 열을 추가하여 출력하라.\n",
        "df_ffill['Temp_filled'] = df_ffill['Temp'].fillna(group_avg)\n",
        "print(f\"평균으로 추가 채움: \\n{df_ffill}\")\n"
      ],
      "metadata": {
        "colab": {
          "base_uri": "https://localhost:8080/"
        },
        "id": "N_H9cro25T6V",
        "outputId": "0fef641a-6b46-4912-f4f7-ad7ca8a79c1a"
      },
      "execution_count": 18,
      "outputs": [
        {
          "output_type": "stream",
          "name": "stdout",
          "text": [
            "                     Temp\n",
            "Hospital Date            \n",
            "Asan     2025-05-23   NaN\n",
            "         2025-05-24  36.5\n",
            "         2025-05-25  38.0\n",
            "         2025-05-26   NaN\n",
            "         2025-05-27  37.5\n",
            "Yeonsei  2025-05-23   NaN\n",
            "         2025-05-24  38.0\n",
            "         2025-05-25  38.5\n",
            "         2025-05-26  38.5\n",
            "         2025-05-27   NaN\n",
            "==================================================\n",
            "병원별 forward fill 결과: \n",
            "                     Temp\n",
            "Hospital Date            \n",
            "Asan     2025-05-23   NaN\n",
            "         2025-05-24  36.5\n",
            "         2025-05-25  38.0\n",
            "         2025-05-26  38.0\n",
            "         2025-05-27  37.5\n",
            "Yeonsei  2025-05-23   NaN\n",
            "         2025-05-24  38.0\n",
            "         2025-05-25  38.5\n",
            "         2025-05-26  38.5\n",
            "         2025-05-27  38.5\n",
            "==================================================\n",
            "평균으로 추가 채움: \n",
            "                     Temp  Temp_filled\n",
            "Hospital Date                         \n",
            "Asan     2025-05-23   NaN       37.500\n",
            "         2025-05-24  36.5       36.500\n",
            "         2025-05-25  38.0       38.000\n",
            "         2025-05-26  38.0       38.000\n",
            "         2025-05-27  37.5       37.500\n",
            "Yeonsei  2025-05-23   NaN       38.375\n",
            "         2025-05-24  38.0       38.000\n",
            "         2025-05-25  38.5       38.500\n",
            "         2025-05-26  38.5       38.500\n",
            "         2025-05-27  38.5       38.500\n"
          ]
        },
        {
          "output_type": "stream",
          "name": "stderr",
          "text": [
            "<ipython-input-18-bdbd491d38dd>:10: FutureWarning: DataFrameGroupBy.fillna is deprecated and will be removed in a future version. Use obj.ffill() or obj.bfill() for forward or backward filling instead. If you want to fill with a single value, use DataFrame.fillna instead\n",
            "  df_ffill = df.groupby('Hospital').fillna(method='ffill')\n",
            "<ipython-input-18-bdbd491d38dd>:10: FutureWarning: DataFrame.fillna with 'method' is deprecated and will raise in a future version. Use obj.ffill() or obj.bfill() instead.\n",
            "  df_ffill = df.groupby('Hospital').fillna(method='ffill')\n"
          ]
        }
      ]
    }
  ]
}