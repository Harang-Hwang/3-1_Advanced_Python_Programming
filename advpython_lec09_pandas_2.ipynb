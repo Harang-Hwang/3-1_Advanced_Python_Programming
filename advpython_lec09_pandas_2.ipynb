{
  "nbformat": 4,
  "nbformat_minor": 0,
  "metadata": {
    "colab": {
      "provenance": []
    },
    "kernelspec": {
      "name": "python3",
      "display_name": "Python 3"
    },
    "language_info": {
      "name": "python"
    }
  },
  "cells": [
    {
      "cell_type": "markdown",
      "source": [
        "### 10주차 강의 Pandas 2"
      ],
      "metadata": {
        "id": "_p-R3qKPXo4X"
      }
    },
    {
      "cell_type": "code",
      "source": [
        "import numpy as np\n",
        "import pandas as pd"
      ],
      "metadata": {
        "id": "yMnKi8RQXqDQ"
      },
      "execution_count": null,
      "outputs": []
    },
    {
      "cell_type": "code",
      "source": [
        "# DataFrame\n",
        "\n",
        "# 데이터프레임 객체 생성 방법:\n",
        "# 1. 딕셔너리에서 데이터프레임 객체 생성\n",
        "\n",
        "# a. 기본 형태: 값으로 리스트 배열 사용\n",
        "data1 = {'이름': ['Wonyoung', 'Hayoung', 'Soyeon'],\n",
        "        '나이': [22, 29, 26],\n",
        "        '그룹': ['IVE', 'fromis_9', 'GIdle']}\n",
        "\n",
        "df1 = pd.DataFrame(data1)\n",
        "print(f'값으로 리스트 배열 사용: \\n{df1}'), print('='*50)\n",
        "\n",
        "# b. 기본 형태: 값으로 NumPy 배열 사용\n",
        "data2 = {'이름': np.array(['Wonyoung', 'Hayoung', 'Soyeon']),\n",
        "        '나이': np.array([22, 29, 26]),\n",
        "        '그룹': np.array(['IVE', 'fromis_9', 'GIdle'])}\n",
        "\n",
        "df2 = pd.DataFrame(data2)\n",
        "print(f'값으로 NumPy 배열 사용: \\n{df2}'), print('='*50)\n",
        "\n",
        "# c. 인덱스 명시하기\n",
        "df3 = pd.DataFrame(data2, index = ['top1', 'top2', 'top3'])\n",
        "print(f'인덱스 명시하기: \\n{df3}')"
      ],
      "metadata": {
        "colab": {
          "base_uri": "https://localhost:8080/"
        },
        "id": "1qJTlPFM5ofQ",
        "outputId": "3a0f0d79-6849-43bc-c9b7-e3573b6e6b46"
      },
      "execution_count": null,
      "outputs": [
        {
          "output_type": "stream",
          "name": "stdout",
          "text": [
            "값으로 리스트 배열 사용: \n",
            "         이름  나이        그룹\n",
            "0  Wonyoung  22       IVE\n",
            "1   Hayoung  29  fromis_9\n",
            "2    Soyeon  26     GIdle\n",
            "==================================================\n",
            "값으로 NumPy 배열 사용: \n",
            "         이름  나이        그룹\n",
            "0  Wonyoung  22       IVE\n",
            "1   Hayoung  29  fromis_9\n",
            "2    Soyeon  26     GIdle\n",
            "==================================================\n",
            "인덱스 명시하기: \n",
            "            이름  나이        그룹\n",
            "top1  Wonyoung  22       IVE\n",
            "top2   Hayoung  29  fromis_9\n",
            "top3    Soyeon  26     GIdle\n"
          ]
        }
      ]
    },
    {
      "cell_type": "code",
      "source": [
        "# DataFrame\n",
        "\n",
        "# 데이터프레임 객체 생성 방법:\n",
        "# 1. 딕셔너리에서 데이터프레임 객체 생성\n",
        "\n",
        "# d. 값으로 Series 객체의 딕셔너리 사용\n",
        "# 딕셔너리에서 인덱스로 생성한 데이터프레임은 여러 시리즈 인덱스들의 합집합 (union)임\n",
        "data3 = {'one': pd.Series([1, 2, 3], index=['a', 'b', 'c']),\n",
        "        'two': pd.Series([1, 2, 3, 4], index=['a', 'b', 'c', 'd'])}\n",
        "\n",
        "df4 = pd.DataFrame(data3)\n",
        "print(f'값으로 Series 객체 사용: \\n{df4}'), print('-'*50)\n",
        "\n",
        "print(df4.info()), print('-'*50)\n",
        "print(df4.dtypes), print('='*50)\n",
        "\n",
        "# 인덱스와 열 속성을 이용해 각 행과 열 라벨에 접근할 수 있음\n",
        "print(df4.index), print('-'*50)\n",
        "print(df4.columns), print('='*50)\n",
        "\n",
        "# 인덱스와 열 라벨 순서를 변경할 수 있음\n",
        "df5 = pd.DataFrame(data3, index = ['d', 'b', 'a'])\n",
        "print(df5), print('='*50)\n",
        "\n",
        "df6 = pd.DataFrame(data3, index = ['d', 'b', 'a'], columns = ['two', 'three'])\n",
        "print(df6)"
      ],
      "metadata": {
        "id": "eebNbtjXFAZ0",
        "colab": {
          "base_uri": "https://localhost:8080/"
        },
        "outputId": "9e65a202-e163-4b66-bfa1-8aded421dde9"
      },
      "execution_count": null,
      "outputs": [
        {
          "output_type": "stream",
          "name": "stdout",
          "text": [
            "값으로 Series 객체 사용: \n",
            "   one  two\n",
            "a  1.0    1\n",
            "b  2.0    2\n",
            "c  3.0    3\n",
            "d  NaN    4\n",
            "--------------------------------------------------\n",
            "<class 'pandas.core.frame.DataFrame'>\n",
            "Index: 4 entries, a to d\n",
            "Data columns (total 2 columns):\n",
            " #   Column  Non-Null Count  Dtype  \n",
            "---  ------  --------------  -----  \n",
            " 0   one     3 non-null      float64\n",
            " 1   two     4 non-null      int64  \n",
            "dtypes: float64(1), int64(1)\n",
            "memory usage: 96.0+ bytes\n",
            "None\n",
            "--------------------------------------------------\n",
            "one    float64\n",
            "two      int64\n",
            "dtype: object\n",
            "==================================================\n",
            "Index(['a', 'b', 'c', 'd'], dtype='object')\n",
            "--------------------------------------------------\n",
            "Index(['one', 'two'], dtype='object')\n",
            "==================================================\n",
            "   one  two\n",
            "d  NaN    4\n",
            "b  2.0    2\n",
            "a  1.0    1\n",
            "==================================================\n",
            "   two three\n",
            "d    4   NaN\n",
            "b    2   NaN\n",
            "a    1   NaN\n"
          ]
        }
      ]
    },
    {
      "cell_type": "code",
      "source": [
        "# DataFrame\n",
        "\n",
        "# df.dtypes vs. df.dtype\n",
        "\n",
        "# df.dtypes\n",
        "data = {'col1': [1, 2, 3],\n",
        "        'col2': [1.1, 2.2, 3.3],\n",
        "        'col3': ['a', 'b', 'c'],\n",
        "        'col4': [True, False, True]}\n",
        "\n",
        "df = pd.DataFrame(data)\n",
        "print(df), print('-'*30)\n",
        "print(df.dtypes), print('-'*30)\n",
        "print(f'df.dtypes 자료형: \\n{type(df.dtypes)}'),print('='*30)\n",
        "\n",
        "# df.dtype\n",
        "# DataFrame 객체에서 하나의 열을 선택한 후 dtype 확인\n",
        "print(df['col1'].dtype)"
      ],
      "metadata": {
        "colab": {
          "base_uri": "https://localhost:8080/"
        },
        "id": "wFitk1u3azW6",
        "outputId": "c3c29e67-5cd4-4ce2-94c6-008c903ccbdb"
      },
      "execution_count": null,
      "outputs": [
        {
          "output_type": "stream",
          "name": "stdout",
          "text": [
            "   col1  col2 col3   col4\n",
            "0     1   1.1    a   True\n",
            "1     2   2.2    b  False\n",
            "2     3   3.3    c   True\n",
            "------------------------------\n",
            "col1      int64\n",
            "col2    float64\n",
            "col3     object\n",
            "col4       bool\n",
            "dtype: object\n",
            "------------------------------\n",
            "df.dtypes 자료형: \n",
            "<class 'pandas.core.series.Series'>\n",
            "==============================\n",
            "int64\n"
          ]
        }
      ]
    },
    {
      "cell_type": "code",
      "source": [
        "# DataFrame\n",
        "\n",
        "# 데이터프레임 객체 생성 방법:\n",
        "# 2. 구조화된 배열 또는 레코드 배열에서 데이터프레임 객체 생성\n",
        "\n",
        "# 구조화된 배열의 데이터 타입 정의 및 구조화된 배열 생성\n",
        "dtype = np.dtype([('성', 'U10'), ('나이', 'i4'), ('키', 'f8')])\n",
        "data = np.array([('Jang', 22, 173.), ('Song', 29, 163.), ('Jeon', 28, 156.5)],\n",
        "                dtype=dtype)\n",
        "\n",
        "print(f\"구조화된 NumPy 배열: \\n{data}\"), print('-'*50)\n",
        "print(data.dtype), print('='*50)\n",
        "\n",
        "# 구조화된 배열로부터 DataFrame 생성\n",
        "df = pd.DataFrame(data)\n",
        "print(f\"DataFrame: \\n{df}\"), print('='*50)\n",
        "\n",
        "# 인덱스 명시하기 (index 파라미터)\n",
        "df2 = pd.DataFrame(data, index = ['first', 'second', 'third'])\n",
        "print(f\"DataFrame with index: \\n{df2}\"), print('='*50)\n",
        "\n",
        "# 열 순서 지정\n",
        "df3 = pd.DataFrame(data, columns = ['나이', '키', '성'])\n",
        "print(f\"DataFrame with changed columns: \\n{df3}\")"
      ],
      "metadata": {
        "colab": {
          "base_uri": "https://localhost:8080/"
        },
        "id": "WUWzGregbie5",
        "outputId": "3d98dfe1-2216-4392-c6d8-d61b9958af6b"
      },
      "execution_count": null,
      "outputs": [
        {
          "output_type": "stream",
          "name": "stdout",
          "text": [
            "구조화된 NumPy 배열: \n",
            "[('Jang', 22, 173. ) ('Song', 29, 163. ) ('Jeon', 28, 156.5)]\n",
            "--------------------------------------------------\n",
            "[('성', '<U10'), ('나이', '<i4'), ('키', '<f8')]\n",
            "==================================================\n",
            "DataFrame: \n",
            "      성  나이      키\n",
            "0  Jang  22  173.0\n",
            "1  Song  29  163.0\n",
            "2  Jeon  28  156.5\n",
            "==================================================\n",
            "DataFrame with index: \n",
            "           성  나이      키\n",
            "first   Jang  22  173.0\n",
            "second  Song  29  163.0\n",
            "third   Jeon  28  156.5\n",
            "==================================================\n",
            "DataFrame with changed columns: \n",
            "   나이      키     성\n",
            "0  22  173.0  Jang\n",
            "1  29  163.0  Song\n",
            "2  28  156.5  Jeon\n"
          ]
        }
      ]
    },
    {
      "cell_type": "code",
      "source": [
        "# DataFrame\n",
        "\n",
        "# 데이터프레임 객체 생성 방법:\n",
        "# 3. 딕셔너리를 요소로 갖는 리스트로 데이터프레임 객체 생성\n",
        "\n",
        "data = [{'그룹': 'AESPA', '멤버수': 4, '데뷔연도': '2020'},\n",
        "        {'그룹': 'KiiKii', '멤버수': 5, '데뷔연도': '2025'},\n",
        "        {'그룹': 'IVE', '멤버수': 6, '데뷔연도': '2021'}]\n",
        "\n",
        "df = pd.DataFrame(data)\n",
        "print(df), print('='*50)\n",
        "\n",
        "# 누락된 키 처리\n",
        "data2 = [{'그룹': 'AESPA', '멤버수': 4},            # 데뷔연도 누락됨\n",
        "         {'그룹': 'KiiKii', '데뷔연도': '2025'},    # 멤버수 누락됨\n",
        "         {'그룹': 'IVE', '멤버수': 6, '데뷔연도': '2021'}]\n",
        "\n",
        "df2 = pd.DataFrame(data2)\n",
        "print(df2)\n",
        "\n"
      ],
      "metadata": {
        "colab": {
          "base_uri": "https://localhost:8080/"
        },
        "id": "3B6bwg9Gdyie",
        "outputId": "f670a026-c4a5-4b11-aa7f-5629ee77ed6c"
      },
      "execution_count": null,
      "outputs": [
        {
          "output_type": "stream",
          "name": "stdout",
          "text": [
            "       그룹  멤버수  데뷔연도\n",
            "0   AESPA    4  2020\n",
            "1  KiiKii    5  2025\n",
            "2     IVE    6  2021\n",
            "==================================================\n",
            "       그룹  멤버수  데뷔연도\n",
            "0   AESPA  4.0   NaN\n",
            "1  KiiKii  NaN  2025\n",
            "2     IVE  6.0  2021\n"
          ]
        }
      ]
    },
    {
      "cell_type": "code",
      "source": [
        "# DataFrame\n",
        "\n",
        "# 데이터프레임 객체 생성 방법:\n",
        "# 4. 튜플을 키로 갖는 딕셔너리에서 데이터프레임 객체 생성\n",
        "\n",
        "# 튜플을 DataFrame의 열 이름으로 사용하는 경우\n",
        "data = {('a'): [1, 2, 3],\n",
        "        ('b'): [4, 5, 6],\n",
        "        ('c'): [7, 8, 9]}\n",
        "df = pd.DataFrame(data)\n",
        "print(df)"
      ],
      "metadata": {
        "colab": {
          "base_uri": "https://localhost:8080/"
        },
        "id": "kNMfNHBCRXx7",
        "outputId": "44122c8e-7681-442b-b7c7-d8c034a0a2b3"
      },
      "execution_count": null,
      "outputs": [
        {
          "output_type": "stream",
          "name": "stdout",
          "text": [
            "   a  b  c\n",
            "0  1  4  7\n",
            "1  2  5  8\n",
            "2  3  6  9\n"
          ]
        }
      ]
    },
    {
      "cell_type": "code",
      "source": [
        "# DataFrame\n",
        "\n",
        "# 데이터프레임 객체 생성 방법:\n",
        "# 4. 튜플을 키로 갖는 딕셔너리에서 데이터프레임 객체 생성\n",
        "\n",
        "# MultiIndex를 사용하는 경우\n",
        "# 튜플을 열 이름으로 사용하는 경우\n",
        "data_columns = {('IVE', 'Liz'): ['Jeju', 22],   # 각 열이 동일한 데이터 타입이 아님\n",
        "                ('IVE', 'Rei'): ['Nagoya', 23],\n",
        "                ('AESPA', 'Winter'): ['Busan', 26]}\n",
        "\n",
        "df_columns = pd.DataFrame(data_columns)\n",
        "print(f\"MultiIndex DataFrame: \\n{df_columns}\"), print('-'*50)\n",
        "print(df_columns.dtypes), print('='*50)\n",
        "\n",
        "###### 참고) 위에서.. ###########################################\n",
        "# 하나의 열에 여러 타입의 데이터가 섞여 있음\n",
        "# Pandas는 그 모든 데이터를 담을 수 있는 가장 일반적인 타입\n",
        "# (주로 object)으로 자동 변환(업캐스팅)하여 DataFrame을 생성\n",
        "# ojbect는 모든 파이썬 클래스의 최상위 부모 클래스임\n",
        "#################################################################\n",
        "\n",
        "\n",
        "# 튜플을 다중 인덱스의 레벨로 사용하는 경우 (Series의 딕셔너리 형태)\n",
        "data_index = {'Birthplace': pd.Series(['Jeju', 'Nagoya'],\n",
        "                                      index=[('IVE', 'Liz'), ('IVE', 'Rei')]),\n",
        "              'Age': pd.Series([22, 26], index=[('IVE', 'Liz'), ('AESPA', 'Winter')])}\n",
        "df_index = pd.DataFrame(data_index)\n",
        "print(\"튜플을 다중 인덱스의 레벨로 사용한 DataFrame:\")\n",
        "print(df_index), print('-'*50)\n",
        "print(df_index.dtypes)"
      ],
      "metadata": {
        "colab": {
          "base_uri": "https://localhost:8080/"
        },
        "id": "c3gL9FDyoeZH",
        "outputId": "56458905-6d3e-4184-90d5-bea08c97e22f"
      },
      "execution_count": null,
      "outputs": [
        {
          "output_type": "stream",
          "name": "stdout",
          "text": [
            "MultiIndex DataFrame: \n",
            "    IVE          AESPA\n",
            "    Liz     Rei Winter\n",
            "0  Jeju  Nagoya  Busan\n",
            "1    22      23     26\n",
            "--------------------------------------------------\n",
            "IVE    Liz       object\n",
            "       Rei       object\n",
            "AESPA  Winter    object\n",
            "dtype: object\n",
            "==================================================\n",
            "튜플을 다중 인덱스의 레벨로 사용한 DataFrame:\n",
            "                Birthplace   Age\n",
            "(AESPA, Winter)        NaN  26.0\n",
            "(IVE, Liz)            Jeju  22.0\n",
            "(IVE, Rei)          Nagoya   NaN\n",
            "--------------------------------------------------\n",
            "Birthplace     object\n",
            "Age           float64\n",
            "dtype: object\n"
          ]
        }
      ]
    },
    {
      "cell_type": "code",
      "source": [
        "# DataFrame\n",
        "\n",
        "# 데이터프레임 객체 생성 방법:\n",
        "# 4. 튜플을 키로 갖는 딕셔너리에서 데이터프레임 객체 생성\n",
        "\n",
        "# MultiIndex를 사용하는 경우 (교재의 예시)\n",
        "data2 = {('a', 'x'): [1, 2, 3],\n",
        "        ('a', 'y'): [4, 5, 6],\n",
        "        ('b', 'z'): [7, 8, 9]}\n",
        "\n",
        "df2 = pd.DataFrame(data2)\n",
        "print(df2), print('='*50)\n",
        "\n",
        "df3 = pd.DataFrame({('a', 'b'): {('A', 'B'): 1, ('A', 'C'): 2},\n",
        "                    ('a', 'a'): {('A', 'C'): 3, ('A', 'B'): 4},\n",
        "                    ('a', 'c'): {('A', 'B'): 5, ('A', 'C'): 6},\n",
        "                    ('b', 'a'): {('A', 'C'): 7, ('A', 'B'): 8},\n",
        "                    ('b', 'b'): {('A', 'D'): 9, ('A', 'B'): 10}})\n",
        "\n",
        "print(df3), print('-'*50)\n",
        "print(df3.index), print('-'*50)\n",
        "print(df3.columns)"
      ],
      "metadata": {
        "colab": {
          "base_uri": "https://localhost:8080/"
        },
        "id": "GnZDZIirSg1s",
        "outputId": "40c7c149-c5a4-4129-ddf6-3afea78c36a8"
      },
      "execution_count": null,
      "outputs": [
        {
          "output_type": "stream",
          "name": "stdout",
          "text": [
            "   a     b\n",
            "   x  y  z\n",
            "0  1  4  7\n",
            "1  2  5  8\n",
            "2  3  6  9\n",
            "==================================================\n",
            "       a              b      \n",
            "       b    a    c    a     b\n",
            "A B  1.0  4.0  5.0  8.0  10.0\n",
            "  C  2.0  3.0  6.0  7.0   NaN\n",
            "  D  NaN  NaN  NaN  NaN   9.0\n",
            "--------------------------------------------------\n",
            "MultiIndex([('A', 'B'),\n",
            "            ('A', 'C'),\n",
            "            ('A', 'D')],\n",
            "           )\n",
            "--------------------------------------------------\n",
            "MultiIndex([('a', 'b'),\n",
            "            ('a', 'a'),\n",
            "            ('a', 'c'),\n",
            "            ('b', 'a'),\n",
            "            ('b', 'b')],\n",
            "           )\n"
          ]
        }
      ]
    },
    {
      "cell_type": "code",
      "source": [
        "# DataFrame\n",
        "\n",
        "# 데이터프레임 객체 생성 방법:\n",
        "# 5-1. 데이터프레임 생성자로부터 객체 생성 (DataFrame.from_dict 생성자)\n",
        "data1 = {'이름': ['Wonyoung', 'Hayoung', 'Soyeon'],\n",
        "        '나이': [22, 29, 26],\n",
        "        '그룹': ['IVE', 'fromis_9', 'GIdle']}\n",
        "\n",
        "df0 = pd.DataFrame.from_dict(data1)\n",
        "df1 = pd.DataFrame.from_dict(data1, orient='columns')   # orinet='columns' 기본값\n",
        "print(df0), print('-'*50)\n",
        "print(df1), print('='*50)\n",
        "\n",
        "# orient='index': 딕셔너리의 키를 행 인덱스(라벨)로, 값을 행 데이터로 해석\n",
        "df2 = pd.DataFrame.from_dict(data1, orient='index')\n",
        "print(df2), print('='*50)\n",
        "\n",
        "# orient='index'에서 columns에는 원하는 열 이름을 리스트로 지정\n",
        "df3 = pd.DataFrame.from_dict(data1, orient='index', columns=['one','two','three'])\n",
        "print(df3)"
      ],
      "metadata": {
        "colab": {
          "base_uri": "https://localhost:8080/"
        },
        "id": "MGVonleOweC5",
        "outputId": "3f50a93e-8af7-4e2c-b32b-e967c5ff644b"
      },
      "execution_count": null,
      "outputs": [
        {
          "output_type": "stream",
          "name": "stdout",
          "text": [
            "         이름  나이        그룹\n",
            "0  Wonyoung  22       IVE\n",
            "1   Hayoung  29  fromis_9\n",
            "2    Soyeon  26     GIdle\n",
            "--------------------------------------------------\n",
            "         이름  나이        그룹\n",
            "0  Wonyoung  22       IVE\n",
            "1   Hayoung  29  fromis_9\n",
            "2    Soyeon  26     GIdle\n",
            "==================================================\n",
            "           0         1       2\n",
            "이름  Wonyoung   Hayoung  Soyeon\n",
            "나이        22        29      26\n",
            "그룹       IVE  fromis_9   GIdle\n",
            "==================================================\n",
            "         one       two   three\n",
            "이름  Wonyoung   Hayoung  Soyeon\n",
            "나이        22        29      26\n",
            "그룹       IVE  fromis_9   GIdle\n"
          ]
        }
      ]
    },
    {
      "cell_type": "code",
      "source": [
        "# DataFrame\n",
        "\n",
        "# 데이터프레임 객체 생성 방법:\n",
        "# 5-2. 데이터프레임 생성자로부터 객체 생성 (DataFrame.from_records 생성자)\n",
        "dtype = np.dtype([('성', 'U10'), ('나이', 'i4'), ('키', 'f8')])\n",
        "data4 = np.array([('Jang', 22, 173.), ('Song', 29, 163.), ('Jeon', 28, 156.5)],\n",
        "                 dtype=dtype)\n",
        "print(data4), print('='*30)\n",
        "\n",
        "df4 = pd.DataFrame.from_records(data4)\n",
        "print(df4), print('='*30)\n",
        "\n",
        "df5 = pd.DataFrame.from_records(data4, index = ['top1','top2','top3'])\n",
        "print(df5), print('='*30)\n",
        "\n",
        "df6 = pd.DataFrame.from_records(data4, index = '성')\n",
        "print(df6)"
      ],
      "metadata": {
        "colab": {
          "base_uri": "https://localhost:8080/"
        },
        "id": "Id8vaxJuTEhR",
        "outputId": "09f11805-ca0f-46bf-86ff-2f90fd097180"
      },
      "execution_count": null,
      "outputs": [
        {
          "output_type": "stream",
          "name": "stdout",
          "text": [
            "[('Jang', 22, 173. ) ('Song', 29, 163. ) ('Jeon', 28, 156.5)]\n",
            "==============================\n",
            "      성  나이      키\n",
            "0  Jang  22  173.0\n",
            "1  Song  29  163.0\n",
            "2  Jeon  28  156.5\n",
            "==============================\n",
            "         성  나이      키\n",
            "top1  Jang  22  173.0\n",
            "top2  Song  29  163.0\n",
            "top3  Jeon  28  156.5\n",
            "==============================\n",
            "      나이      키\n",
            "성              \n",
            "Jang  22  173.0\n",
            "Song  29  163.0\n",
            "Jeon  28  156.5\n"
          ]
        }
      ]
    },
    {
      "cell_type": "code",
      "source": [
        "# 행과 열의 기본 처리\n",
        "\n",
        "# 열 선택\n",
        "d = {'one': pd.Series([1., 2., 3.], index = ['a', 'b', 'c']),\n",
        "     'two': pd.Series([1., 2., 3., 4.], index = ['a', 'b', 'c', 'd'])}\n",
        "\n",
        "df = pd.DataFrame(d)\n",
        "print(df), print('='*30)\n",
        "\n",
        "# 단일 열 선택\n",
        "print(df['one']), print('='*30)\n",
        "\n",
        "# 여러 열 선택 (대괄호 주의): 열 이름들을 리스트 형태로 묶음\n",
        "print(df[['one','two']]), print('='*30)\n",
        "#print(df['one','two']), print('='*30)"
      ],
      "metadata": {
        "colab": {
          "base_uri": "https://localhost:8080/"
        },
        "id": "dIQK9CXQ252J",
        "outputId": "7a4a55e4-c0c6-46ba-e5f5-5a544bea6fc3"
      },
      "execution_count": null,
      "outputs": [
        {
          "output_type": "stream",
          "name": "stdout",
          "text": [
            "   one  two\n",
            "a  1.0  1.0\n",
            "b  2.0  2.0\n",
            "c  3.0  3.0\n",
            "d  NaN  4.0\n",
            "==============================\n",
            "a    1.0\n",
            "b    2.0\n",
            "c    3.0\n",
            "d    NaN\n",
            "Name: one, dtype: float64\n",
            "==============================\n",
            "   one  two\n",
            "a  1.0  1.0\n",
            "b  2.0  2.0\n",
            "c  3.0  3.0\n",
            "d  NaN  4.0\n",
            "==============================\n",
            "   one  two  three\n",
            "a  1.0  1.0    1.0\n",
            "b  2.0  2.0    4.0\n",
            "c  3.0  3.0    9.0\n",
            "d  NaN  4.0    NaN\n",
            "==============================\n",
            "   one  two  three   flag\n",
            "a  1.0  1.0    1.0  False\n",
            "b  2.0  2.0    4.0  False\n",
            "c  3.0  3.0    9.0   True\n",
            "d  NaN  4.0    NaN  False\n",
            "========================================\n",
            "   one  two  three   flag  truncated_one\n",
            "a  1.0  1.0    1.0  False            1.0\n",
            "b  2.0  2.0    4.0  False            2.0\n",
            "c  3.0  3.0    9.0   True            NaN\n",
            "d  NaN  4.0    NaN  False            NaN\n"
          ]
        }
      ]
    },
    {
      "cell_type": "code",
      "source": [
        "# 행과 열의 기본 처리\n",
        "\n",
        "# 행 선택\n",
        "\n",
        "# DataFrame.loc[] 속성 vs. DataFrame.iloc[] 속성\n",
        "data = {'A': [10, 20, 30],\n",
        "        'B': [100, 200, 300]}\n",
        "index=['x', 'y', 'z']\n",
        "\n",
        "df = pd.DataFrame(data, index = index)\n",
        "\n",
        "# DataFrame.loc[] 속성\n",
        "print(df), print('-'*30)\n",
        "print(df.loc['x']), print('-'*30)       # index 라벨이 'x'인 행 반환\n",
        "print(df.loc['x':'y']), print('-'*30)   # 'x'부터 'y'까지 ('y'까지 포함)\n",
        "print(df.loc['x', 'B']), print('='*30)  # 'x'행, 'B'열 값 선택 -> 100\n",
        "\n",
        "# DataFrame.iloc[] 속성\n",
        "print(df.iloc[0]), print('-'*30)        # 0번째 행 반환\n",
        "print(df.iloc[0:2]), print('-'*30)      # 0~1번째 행 (2번째는 제외)\n",
        "print(df.iloc[0, 1])                    # 0행 1열 -> 100"
      ],
      "metadata": {
        "colab": {
          "base_uri": "https://localhost:8080/"
        },
        "id": "j9HBB4sI4N3n",
        "outputId": "76395171-f2f1-48c2-df8d-883ef04eb9dc"
      },
      "execution_count": null,
      "outputs": [
        {
          "output_type": "stream",
          "name": "stdout",
          "text": [
            "    A    B\n",
            "x  10  100\n",
            "y  20  200\n",
            "z  30  300\n",
            "------------------------------\n",
            "A     10\n",
            "B    100\n",
            "Name: x, dtype: int64\n",
            "------------------------------\n",
            "    A    B\n",
            "x  10  100\n",
            "y  20  200\n",
            "------------------------------\n",
            "100\n",
            "==============================\n",
            "A     10\n",
            "B    100\n",
            "Name: x, dtype: int64\n",
            "------------------------------\n",
            "    A    B\n",
            "x  10  100\n",
            "y  20  200\n",
            "------------------------------\n",
            "100\n"
          ]
        }
      ]
    },
    {
      "cell_type": "code",
      "source": [
        "# 행과 열의 기본 처리\n",
        "\n",
        "# 행 선택\n",
        "\n",
        "# DataFrame.loc[] 속성 vs. DataFrame.iloc[] 속성\n",
        "df = pd.DataFrame({'name': ['A', 'B', 'C', 'D'],\n",
        "                    'age': [23, 35, 19, 42]})\n",
        "print(df), print('='*30)\n",
        "\n",
        "# DataFrame.loc[] 속성 : 라벨 기반이지만, 조건이 들어가면\n",
        "#               Boolean Series를 받아 해당하는 행만 선택\n",
        "print(df.loc[df['age'] >= 30])  # age가 30 이상인 행만 선택\n",
        "print('='*30)\n",
        "\n",
        "# DataFrame.iloc[] 속성 : Boolean 배열을 사용할 수 있지만,\n",
        "#                        정수 위치 기준의 Boolean 배열이어야 함\n",
        "mask = [False, True, False, True] # df에서 1번과 3번 행만 True로 설정\n",
        "print(df.iloc[mask])"
      ],
      "metadata": {
        "colab": {
          "base_uri": "https://localhost:8080/"
        },
        "id": "MbrjPhyQDeGH",
        "outputId": "23fb9b6a-314e-47ab-d1d0-0237c6d754c4"
      },
      "execution_count": null,
      "outputs": [
        {
          "output_type": "stream",
          "name": "stdout",
          "text": [
            "  name  age\n",
            "0    A   23\n",
            "1    B   35\n",
            "2    C   19\n",
            "3    D   42\n",
            "==============================\n",
            "  name  age\n",
            "1    B   35\n",
            "3    D   42\n",
            "==============================\n",
            "  name  age\n",
            "1    B   35\n",
            "3    D   42\n"
          ]
        }
      ]
    },
    {
      "cell_type": "code",
      "source": [
        "# 행과 열의 기본 처리\n",
        "\n",
        "# 행 또는 열 추가\n",
        "# 열 추가\n",
        "d = {'one': pd.Series([1., 2., 3.], index = ['a', 'b', 'c']),\n",
        "     'two': pd.Series([1., 2., 3., 4.], index = ['a', 'b', 'c', 'd'])}\n",
        "\n",
        "df = pd.DataFrame(d)\n",
        "print(df), print('='*30)\n",
        "\n",
        "df['three'] = df['one'] * df['two']\n",
        "print(df), print('='*30)\n",
        "\n",
        "# 열 추가\n",
        "df['flag'] = df['one'] > 2\n",
        "print(df), print('='*40)\n",
        "\n",
        "# 데이터프레임과 다른 인덱스를 가진 시리즈를 삽입할 때는 데이터프레임의 인덱스에 맞춤\n",
        "df['truncated_one'] = df['one'][:2]   # df['one'][:2]는 시리즈 객체 타입임\n",
        "print(df)\n",
        "\n",
        "# 데이터프레임에 스칼라 값을 동적할당하면 브로드캐스팅으로 열을 채움\n",
        "df['ha'] = 'hiho'\n",
        "print(df)"
      ],
      "metadata": {
        "colab": {
          "base_uri": "https://localhost:8080/"
        },
        "id": "LYavpeXGXSf-",
        "outputId": "bb046787-1de9-479b-a14a-fc325fb840d9"
      },
      "execution_count": null,
      "outputs": [
        {
          "output_type": "stream",
          "name": "stdout",
          "text": [
            "   one  two\n",
            "a  1.0  1.0\n",
            "b  2.0  2.0\n",
            "c  3.0  3.0\n",
            "d  NaN  4.0\n",
            "==============================\n",
            "   one  two  three\n",
            "a  1.0  1.0    1.0\n",
            "b  2.0  2.0    4.0\n",
            "c  3.0  3.0    9.0\n",
            "d  NaN  4.0    NaN\n",
            "==============================\n",
            "   one  two  three   flag\n",
            "a  1.0  1.0    1.0  False\n",
            "b  2.0  2.0    4.0  False\n",
            "c  3.0  3.0    9.0   True\n",
            "d  NaN  4.0    NaN  False\n",
            "========================================\n",
            "   one  two  three   flag  truncated_one\n",
            "a  1.0  1.0    1.0  False            1.0\n",
            "b  2.0  2.0    4.0  False            2.0\n",
            "c  3.0  3.0    9.0   True            NaN\n",
            "d  NaN  4.0    NaN  False            NaN\n",
            "   one  two  three   flag  truncated_one    ha\n",
            "a  1.0  1.0    1.0  False            1.0  hiho\n",
            "b  2.0  2.0    4.0  False            2.0  hiho\n",
            "c  3.0  3.0    9.0   True            NaN  hiho\n",
            "d  NaN  4.0    NaN  False            NaN  hiho\n"
          ]
        }
      ]
    },
    {
      "cell_type": "code",
      "source": [
        "# 행과 열의 기본 처리\n",
        "\n",
        "# DataFrame.insert() 메소드: 특정 위치에 열을 삽입\n",
        "print(df), print('='*50)\n",
        "\n",
        "# 1: 1번째 열\n",
        "# 'hi': 삽입할 열 라벨\n",
        "# df['one']: 삽입할 값(시리즈 형)\n",
        "df.insert(1, 'hi', df['one'])\n",
        "print(df)"
      ],
      "metadata": {
        "colab": {
          "base_uri": "https://localhost:8080/"
        },
        "id": "3Hauk9tlgXOT",
        "outputId": "c1114c56-6a34-4621-9ad1-260a624dec99"
      },
      "execution_count": null,
      "outputs": [
        {
          "output_type": "stream",
          "name": "stdout",
          "text": [
            "   one  two  three   flag  truncated_one    ha\n",
            "a  1.0  1.0    1.0  False            1.0  hiho\n",
            "b  2.0  2.0    4.0  False            2.0  hiho\n",
            "c  3.0  3.0    9.0   True            NaN  hiho\n",
            "d  NaN  4.0    NaN  False            NaN  hiho\n",
            "==================================================\n",
            "   one   hi  two  three   flag  truncated_one    ha\n",
            "a  1.0  1.0  1.0    1.0  False            1.0  hiho\n",
            "b  2.0  2.0  2.0    4.0  False            2.0  hiho\n",
            "c  3.0  3.0  3.0    9.0   True            NaN  hiho\n",
            "d  NaN  NaN  4.0    NaN  False            NaN  hiho\n"
          ]
        }
      ]
    },
    {
      "cell_type": "code",
      "source": [
        "# 행과 열의 기본 처리\n",
        "\n",
        "# 행 또는 열 추가\n",
        "# 행 추가\n",
        "d = {'one': pd.Series([1., 2., 3.], index=['a', 'b', 'c']),\n",
        "     'two': pd.Series([1., 2., 3., 4.], index=['a', 'b', 'c', 'd'])}\n",
        "\n",
        "df = pd.DataFrame(d)\n",
        "\n",
        "df['three'] = df['one'] * df['two']\n",
        "print(f\"원본 DataFrame: \\n{df}\"), print('='*30)\n",
        "\n",
        "# 새로운 행 'e' 추가 (모든 기존 열에 값 지정)\n",
        "df.loc['e'] = [4.0, 5.0, 6.0]\n",
        "print(f\"e 행 추가: \\n{df}\"), print('='*30)\n",
        "\n",
        "# 새로운 행 'f' 추가 (기존 열 중 일부에만 값 지정, 나머지는 NaN)\n",
        "df.loc['f'] = {'one': 5.0, 'two': 6.0}\n",
        "print(f\"f 행 추가: \\n{df}\"), print('='*30)\n",
        "\n",
        "# iloc[]는 에러 발생\n",
        "df.iloc[6] = {'one': 5.0, 'two': 6.0}\n",
        "print(f\"g 행 추가: \\n{df}\"), print('='*30)"
      ],
      "metadata": {
        "colab": {
          "base_uri": "https://localhost:8080/",
          "height": 807
        },
        "id": "-zLE6kMyaLYk",
        "outputId": "9428f9fb-7eee-4bd9-f191-2073e99402c7"
      },
      "execution_count": null,
      "outputs": [
        {
          "output_type": "stream",
          "name": "stdout",
          "text": [
            "원본 DataFrame: \n",
            "   one  two  three\n",
            "a  1.0  1.0    1.0\n",
            "b  2.0  2.0    4.0\n",
            "c  3.0  3.0    9.0\n",
            "d  NaN  4.0    NaN\n",
            "==============================\n",
            "e 행 추가: \n",
            "   one  two  three\n",
            "a  1.0  1.0    1.0\n",
            "b  2.0  2.0    4.0\n",
            "c  3.0  3.0    9.0\n",
            "d  NaN  4.0    NaN\n",
            "e  4.0  5.0    6.0\n",
            "==============================\n",
            "f 행 추가: \n",
            "   one  two  three\n",
            "a  1.0  1.0    1.0\n",
            "b  2.0  2.0    4.0\n",
            "c  3.0  3.0    9.0\n",
            "d  NaN  4.0    NaN\n",
            "e  4.0  5.0    6.0\n",
            "f  5.0  6.0    NaN\n",
            "==============================\n"
          ]
        },
        {
          "output_type": "error",
          "ename": "IndexError",
          "evalue": "iloc cannot enlarge its target object",
          "traceback": [
            "\u001b[0;31m---------------------------------------------------------------------------\u001b[0m",
            "\u001b[0;31mIndexError\u001b[0m                                Traceback (most recent call last)",
            "\u001b[0;32m<ipython-input-26-6ebf6c397ace>\u001b[0m in \u001b[0;36m<cell line: 0>\u001b[0;34m()\u001b[0m\n\u001b[1;32m     19\u001b[0m \u001b[0mprint\u001b[0m\u001b[0;34m(\u001b[0m\u001b[0;34mf\"f 행 추가: \\n{df}\"\u001b[0m\u001b[0;34m)\u001b[0m\u001b[0;34m,\u001b[0m \u001b[0mprint\u001b[0m\u001b[0;34m(\u001b[0m\u001b[0;34m'='\u001b[0m\u001b[0;34m*\u001b[0m\u001b[0;36m30\u001b[0m\u001b[0;34m)\u001b[0m\u001b[0;34m\u001b[0m\u001b[0;34m\u001b[0m\u001b[0m\n\u001b[1;32m     20\u001b[0m \u001b[0;34m\u001b[0m\u001b[0m\n\u001b[0;32m---> 21\u001b[0;31m \u001b[0mdf\u001b[0m\u001b[0;34m.\u001b[0m\u001b[0miloc\u001b[0m\u001b[0;34m[\u001b[0m\u001b[0;36m6\u001b[0m\u001b[0;34m]\u001b[0m \u001b[0;34m=\u001b[0m \u001b[0;34m{\u001b[0m\u001b[0;34m'one'\u001b[0m\u001b[0;34m:\u001b[0m \u001b[0;36m5.0\u001b[0m\u001b[0;34m,\u001b[0m \u001b[0;34m'two'\u001b[0m\u001b[0;34m:\u001b[0m \u001b[0;36m6.0\u001b[0m\u001b[0;34m}\u001b[0m\u001b[0;34m\u001b[0m\u001b[0;34m\u001b[0m\u001b[0m\n\u001b[0m\u001b[1;32m     22\u001b[0m \u001b[0mprint\u001b[0m\u001b[0;34m(\u001b[0m\u001b[0;34mf\"g 행 추가: \\n{df}\"\u001b[0m\u001b[0;34m)\u001b[0m\u001b[0;34m,\u001b[0m \u001b[0mprint\u001b[0m\u001b[0;34m(\u001b[0m\u001b[0;34m'='\u001b[0m\u001b[0;34m*\u001b[0m\u001b[0;36m30\u001b[0m\u001b[0;34m)\u001b[0m\u001b[0;34m\u001b[0m\u001b[0;34m\u001b[0m\u001b[0m\n",
            "\u001b[0;32m/usr/local/lib/python3.11/dist-packages/pandas/core/indexing.py\u001b[0m in \u001b[0;36m__setitem__\u001b[0;34m(self, key, value)\u001b[0m\n\u001b[1;32m    906\u001b[0m             \u001b[0mkey\u001b[0m \u001b[0;34m=\u001b[0m \u001b[0mself\u001b[0m\u001b[0;34m.\u001b[0m\u001b[0m_check_deprecated_callable_usage\u001b[0m\u001b[0;34m(\u001b[0m\u001b[0mkey\u001b[0m\u001b[0;34m,\u001b[0m \u001b[0mmaybe_callable\u001b[0m\u001b[0;34m)\u001b[0m\u001b[0;34m\u001b[0m\u001b[0;34m\u001b[0m\u001b[0m\n\u001b[1;32m    907\u001b[0m         \u001b[0mindexer\u001b[0m \u001b[0;34m=\u001b[0m \u001b[0mself\u001b[0m\u001b[0;34m.\u001b[0m\u001b[0m_get_setitem_indexer\u001b[0m\u001b[0;34m(\u001b[0m\u001b[0mkey\u001b[0m\u001b[0;34m)\u001b[0m\u001b[0;34m\u001b[0m\u001b[0;34m\u001b[0m\u001b[0m\n\u001b[0;32m--> 908\u001b[0;31m         \u001b[0mself\u001b[0m\u001b[0;34m.\u001b[0m\u001b[0m_has_valid_setitem_indexer\u001b[0m\u001b[0;34m(\u001b[0m\u001b[0mkey\u001b[0m\u001b[0;34m)\u001b[0m\u001b[0;34m\u001b[0m\u001b[0;34m\u001b[0m\u001b[0m\n\u001b[0m\u001b[1;32m    909\u001b[0m \u001b[0;34m\u001b[0m\u001b[0m\n\u001b[1;32m    910\u001b[0m         \u001b[0miloc\u001b[0m \u001b[0;34m=\u001b[0m \u001b[0mself\u001b[0m \u001b[0;32mif\u001b[0m \u001b[0mself\u001b[0m\u001b[0;34m.\u001b[0m\u001b[0mname\u001b[0m \u001b[0;34m==\u001b[0m \u001b[0;34m\"iloc\"\u001b[0m \u001b[0;32melse\u001b[0m \u001b[0mself\u001b[0m\u001b[0;34m.\u001b[0m\u001b[0mobj\u001b[0m\u001b[0;34m.\u001b[0m\u001b[0miloc\u001b[0m\u001b[0;34m\u001b[0m\u001b[0;34m\u001b[0m\u001b[0m\n",
            "\u001b[0;32m/usr/local/lib/python3.11/dist-packages/pandas/core/indexing.py\u001b[0m in \u001b[0;36m_has_valid_setitem_indexer\u001b[0;34m(self, indexer)\u001b[0m\n\u001b[1;32m   1644\u001b[0m             \u001b[0;32melif\u001b[0m \u001b[0mis_integer\u001b[0m\u001b[0;34m(\u001b[0m\u001b[0mi\u001b[0m\u001b[0;34m)\u001b[0m\u001b[0;34m:\u001b[0m\u001b[0;34m\u001b[0m\u001b[0;34m\u001b[0m\u001b[0m\n\u001b[1;32m   1645\u001b[0m                 \u001b[0;32mif\u001b[0m \u001b[0mi\u001b[0m \u001b[0;34m>=\u001b[0m \u001b[0mlen\u001b[0m\u001b[0;34m(\u001b[0m\u001b[0max\u001b[0m\u001b[0;34m)\u001b[0m\u001b[0;34m:\u001b[0m\u001b[0;34m\u001b[0m\u001b[0;34m\u001b[0m\u001b[0m\n\u001b[0;32m-> 1646\u001b[0;31m                     \u001b[0;32mraise\u001b[0m \u001b[0mIndexError\u001b[0m\u001b[0;34m(\u001b[0m\u001b[0;34m\"iloc cannot enlarge its target object\"\u001b[0m\u001b[0;34m)\u001b[0m\u001b[0;34m\u001b[0m\u001b[0;34m\u001b[0m\u001b[0m\n\u001b[0m\u001b[1;32m   1647\u001b[0m             \u001b[0;32melif\u001b[0m \u001b[0misinstance\u001b[0m\u001b[0;34m(\u001b[0m\u001b[0mi\u001b[0m\u001b[0;34m,\u001b[0m \u001b[0mdict\u001b[0m\u001b[0;34m)\u001b[0m\u001b[0;34m:\u001b[0m\u001b[0;34m\u001b[0m\u001b[0;34m\u001b[0m\u001b[0m\n\u001b[1;32m   1648\u001b[0m                 \u001b[0;32mraise\u001b[0m \u001b[0mIndexError\u001b[0m\u001b[0;34m(\u001b[0m\u001b[0;34m\"iloc cannot enlarge its target object\"\u001b[0m\u001b[0;34m)\u001b[0m\u001b[0;34m\u001b[0m\u001b[0;34m\u001b[0m\u001b[0m\n",
            "\u001b[0;31mIndexError\u001b[0m: iloc cannot enlarge its target object"
          ]
        }
      ]
    },
    {
      "cell_type": "code",
      "source": [
        "# 행과 열의 기본 처리\n",
        "\n",
        "# del 키워드\n",
        "del df['two']\n",
        "print(df), print('='*50)\n",
        "\n",
        "# pandas.DataFrame.pop 메소드: 열을 추출하고 그 요소를 시리즈로 반환\n",
        "three = df.pop('three')\n",
        "\n",
        "print(three), print('-'*50)\n",
        "print(three.values), print('-'*50)\n",
        "print(type(three)), print('='*50)"
      ],
      "metadata": {
        "colab": {
          "base_uri": "https://localhost:8080/"
        },
        "id": "t-xm-TgyxjOc",
        "outputId": "821d915b-0569-4b40-d1b5-fc19c3ddff16"
      },
      "execution_count": null,
      "outputs": [
        {
          "output_type": "stream",
          "name": "stdout",
          "text": [
            "   one  three\n",
            "a  1.0    1.0\n",
            "b  2.0    4.0\n",
            "c  3.0    9.0\n",
            "d  NaN    NaN\n",
            "e  4.0    6.0\n",
            "f  5.0    NaN\n",
            "==================================================\n",
            "a    1.0\n",
            "b    4.0\n",
            "c    9.0\n",
            "d    NaN\n",
            "e    6.0\n",
            "f    NaN\n",
            "Name: three, dtype: float64\n",
            "--------------------------------------------------\n",
            "[ 1.  4.  9. nan  6. nan]\n",
            "--------------------------------------------------\n",
            "<class 'pandas.core.series.Series'>\n",
            "==================================================\n"
          ]
        },
        {
          "output_type": "execute_result",
          "data": {
            "text/plain": [
              "(None, None)"
            ]
          },
          "metadata": {},
          "execution_count": 27
        }
      ]
    },
    {
      "cell_type": "code",
      "source": [
        "# 행과 열의 기본 처리\n",
        "\n",
        "# pandas.Series.drop 함수:\n",
        "# 인덱스 라벨을 기준으로 시리즈의 요소를 제거하며, 요소를 제거한 시리즈 객체를 결과로 반환\n",
        "s1 = pd.Series(data = np.arange(3), index = ['A', 'B', 'C'])\n",
        "print(s1), print('-'*30)\n",
        "\n",
        "s2 = s1.drop(['B', 'C'])\n",
        "print(s2), print('='*30)\n",
        "\n",
        "# pandas.DataFrame.drop:\n",
        "# 라벨 이름과 축을 입력하거나 직접 인덱스나 열 이름을 입력해 행이나 열을 제거\n",
        "df1 = pd.DataFrame(np.arange(12).reshape(3, 4), columns = ['A', 'B', 'C', 'D'])\n",
        "print(df1), print('-'*30)\n",
        "\n",
        "df2 = df1.drop(['B', 'C'], axis = 1)  # 라벨 이름과 축으로 열 제거\n",
        "print(df2), print('='*30)\n",
        "\n",
        "df3 = df1.drop([0, 1])  # 인덱스로 행 제거 (axis=0이 기본값)\n",
        "print(df3)"
      ],
      "metadata": {
        "colab": {
          "base_uri": "https://localhost:8080/"
        },
        "id": "H0XpYIiY_YQS",
        "outputId": "5586b486-6dea-4e08-d695-a90c960cd529"
      },
      "execution_count": null,
      "outputs": [
        {
          "output_type": "stream",
          "name": "stdout",
          "text": [
            "A    0\n",
            "B    1\n",
            "C    2\n",
            "dtype: int64\n",
            "------------------------------\n",
            "A    0\n",
            "dtype: int64\n",
            "==============================\n",
            "   A  B   C   D\n",
            "0  0  1   2   3\n",
            "1  4  5   6   7\n",
            "2  8  9  10  11\n",
            "------------------------------\n",
            "   A   D\n",
            "0  0   3\n",
            "1  4   7\n",
            "2  8  11\n",
            "==============================\n",
            "   A  B   C   D\n",
            "2  8  9  10  11\n"
          ]
        }
      ]
    },
    {
      "cell_type": "code",
      "source": [
        "# 행과 열의 기본 처리\n",
        "\n",
        "# 데이터 정렬 및 산술 연산\n",
        "df = pd.DataFrame(np.random.randn(5, 4), columns = ['A', 'B', 'C', 'D'])\n",
        "\n",
        "df2 = pd.DataFrame(np.random.randn(3, 3), columns = ['A', 'B', 'C'])\n",
        "\n",
        "print(df), print('='*50)\n",
        "print(df2), print('='*50)\n",
        "\n",
        "# 데이터프레임 객체 간 연산을 실행하면, 행과 열 기준으로 자동 정렬됨\n",
        "print(df + df2), print('='*50)\n",
        "\n",
        "\n",
        "# 데이트프레임과 시리즈 간 연산을 실행하면, 데이터프레임 열에 시리즈 인덱스를 정렬\n",
        "print(df - df.iloc[0]) # 행 방향으로 브로드캐스팅하는 것과 같음\n",
        "\n",
        "\n",
        "# 데이트프레임과 스칼라 간 연산\n",
        "print(df*10 + 2)"
      ],
      "metadata": {
        "colab": {
          "base_uri": "https://localhost:8080/"
        },
        "id": "DIBR7dNoEBgv",
        "outputId": "b3bbcd1d-fdb8-43f5-a083-fbf7af1ae521"
      },
      "execution_count": null,
      "outputs": [
        {
          "output_type": "stream",
          "name": "stdout",
          "text": [
            "          A         B         C         D\n",
            "0  0.884647  1.854421 -1.516236 -0.414904\n",
            "1  0.322282 -0.059016 -0.408056 -1.354552\n",
            "2 -0.530595 -0.590024 -0.967021  0.044444\n",
            "3 -0.083054  0.828482 -0.047571 -0.603019\n",
            "4 -0.931594  0.159271  1.527698  1.665925\n",
            "==================================================\n",
            "          A         B         C\n",
            "0  0.909141  0.698673  0.763569\n",
            "1 -0.476303 -2.137070 -1.113817\n",
            "2  0.493049 -1.104463 -1.802996\n",
            "==================================================\n",
            "          A         B         C   D\n",
            "0  1.793787  2.553095 -0.752667 NaN\n",
            "1 -0.154021 -2.196085 -1.521873 NaN\n",
            "2 -0.037546 -1.694487 -2.770017 NaN\n",
            "3       NaN       NaN       NaN NaN\n",
            "4       NaN       NaN       NaN NaN\n",
            "==================================================\n",
            "          A         B         C         D\n",
            "0  0.000000  0.000000  0.000000  0.000000\n",
            "1 -0.562365 -1.913437  1.108180 -0.939648\n",
            "2 -1.415242 -2.444446  0.549215  0.459348\n",
            "3 -0.967701 -1.025939  1.468665 -0.188116\n",
            "4 -1.816241 -1.695150  3.043935  2.080829\n",
            "           A          B          C          D\n",
            "0  10.846465  20.544213 -13.162361  -2.149036\n",
            "1   5.222818   1.409842  -2.080561 -11.545518\n",
            "2  -3.305955  -3.900242  -7.670207   2.444443\n",
            "3   1.169460  10.284824   1.524291  -4.030194\n",
            "4  -7.315942   3.592708  17.276985  18.659249\n"
          ]
        }
      ]
    },
    {
      "cell_type": "code",
      "source": [
        "# 행과 열의 기본 처리\n",
        "\n",
        "# 데이터 정렬 및 산술 연산 (불리언 연산자)\n",
        "df1 = pd.DataFrame({'a': [1, 0, 1], 'b': [0, 1, 1]}, dtype = bool)\n",
        "df2 = pd.DataFrame({'a': [0, 1, 1], 'b': [1, 1, 0]}, dtype = bool)\n",
        "\n",
        "print(df1), print('='*50)\n",
        "print(df2), print('='*50)\n",
        "\n",
        "print(df1 & df2), print('='*50)\n",
        "print(df1 | df2), print('='*50)\n",
        "print(df1 ^ df2), print('='*50)\n",
        "print(-df1), print('='*50)\n",
        "print(~df1)"
      ],
      "metadata": {
        "colab": {
          "base_uri": "https://localhost:8080/"
        },
        "id": "HJz5nJhGGEzO",
        "outputId": "f1035165-4f19-4884-f292-8772a5398bb6"
      },
      "execution_count": null,
      "outputs": [
        {
          "output_type": "stream",
          "name": "stdout",
          "text": [
            "       a      b\n",
            "0   True  False\n",
            "1  False   True\n",
            "2   True   True\n",
            "==================================================\n",
            "       a      b\n",
            "0  False   True\n",
            "1   True   True\n",
            "2   True  False\n",
            "==================================================\n",
            "       a      b\n",
            "0  False  False\n",
            "1  False   True\n",
            "2   True  False\n",
            "==================================================\n",
            "      a     b\n",
            "0  True  True\n",
            "1  True  True\n",
            "2  True  True\n",
            "==================================================\n",
            "       a      b\n",
            "0   True   True\n",
            "1   True  False\n",
            "2  False   True\n",
            "==================================================\n",
            "       a      b\n",
            "0  False   True\n",
            "1   True  False\n",
            "2  False  False\n",
            "==================================================\n",
            "       a      b\n",
            "0  False   True\n",
            "1   True  False\n",
            "2  False  False\n"
          ]
        }
      ]
    },
    {
      "cell_type": "code",
      "source": [
        "# 행과 열의 기본 처리\n",
        "\n",
        "# 데이터 정렬 및 산술 연산 (전치)\n",
        "df = pd.DataFrame(np.arange(12).reshape(3,4), columns = ['A', 'B', 'C', 'D'])\n",
        "\n",
        "print(df), print('='*50)\n",
        "print(df.T), print('='*50)\n",
        "\n",
        "print(df[:2]), print('='*50)\n",
        "print(df[:2].T)"
      ],
      "metadata": {
        "colab": {
          "base_uri": "https://localhost:8080/"
        },
        "id": "VVy1HmMiGzWh",
        "outputId": "6d9c7c90-e560-4017-b004-1c493c556908"
      },
      "execution_count": null,
      "outputs": [
        {
          "output_type": "stream",
          "name": "stdout",
          "text": [
            "   A  B   C   D\n",
            "0  0  1   2   3\n",
            "1  4  5   6   7\n",
            "2  8  9  10  11\n",
            "==================================================\n",
            "   0  1   2\n",
            "A  0  4   8\n",
            "B  1  5   9\n",
            "C  2  6  10\n",
            "D  3  7  11\n",
            "==================================================\n",
            "   A  B  C  D\n",
            "0  0  1  2  3\n",
            "1  4  5  6  7\n",
            "==================================================\n",
            "   0  1\n",
            "A  0  4\n",
            "B  1  5\n",
            "C  2  6\n",
            "D  3  7\n"
          ]
        }
      ]
    },
    {
      "cell_type": "code",
      "source": [
        "# 행과 열의 기본 처리\n",
        "\n",
        "# 데이터 정렬 및 산술 연산 (넘파이 함수들과 데이터프레임 연동)\n",
        "\n",
        "df3 = pd.DataFrame(np.arange(12).reshape(3,4), columns = ['A', 'B', 'C', 'D'])\n",
        "print(df3), print('='*50)\n",
        "\n",
        "print(np.exp(df3)), print('='*50)\n",
        "\n",
        "np3 = np.asarray(df3)\n",
        "print(np3)"
      ],
      "metadata": {
        "colab": {
          "base_uri": "https://localhost:8080/"
        },
        "id": "nbAtOXKvHUvi",
        "outputId": "1cbbf195-d617-44ee-d6e1-410de1215e26"
      },
      "execution_count": null,
      "outputs": [
        {
          "output_type": "stream",
          "name": "stdout",
          "text": [
            "   A  B   C   D\n",
            "0  0  1   2   3\n",
            "1  4  5   6   7\n",
            "2  8  9  10  11\n",
            "==================================================\n",
            "             A            B             C             D\n",
            "0     1.000000     2.718282      7.389056     20.085537\n",
            "1    54.598150   148.413159    403.428793   1096.633158\n",
            "2  2980.957987  8103.083928  22026.465795  59874.141715\n",
            "==================================================\n",
            "[[ 0  1  2  3]\n",
            " [ 4  5  6  7]\n",
            " [ 8  9 10 11]]\n"
          ]
        }
      ]
    },
    {
      "cell_type": "code",
      "source": [
        "# 인덱스 관련 객체\n",
        "\n",
        "# 인덱스 객체\n",
        "# Index 생성자를 사용하여 정수 리스트를 기반으로 ind라는 Index 객체를 생성\n",
        "ind = pd.Index([1, 3, 5, 7, 9, 11])\n",
        "\n",
        "print(ind), print('='*50)       # 생성된 Index 객체 출력\n",
        "print(ind[1]), print('='*50)    # Index 객체의 특정 요소 접근 (NumPy 배열과 유사하게 인덱싱)\n",
        "print(ind[::2]), print('='*50)  # Index 객체 슬라이싱 (NumPy 배열과 동일한 슬라이싱 방식)\n",
        "print(ind.size, ind.shape, ind.ndim, ind.dtype) # Index 객체의 속성 확인"
      ],
      "metadata": {
        "colab": {
          "base_uri": "https://localhost:8080/"
        },
        "id": "95sXlQ0qH3Y3",
        "outputId": "3ff0e4f0-c98e-4bb5-ddf7-899677329416"
      },
      "execution_count": null,
      "outputs": [
        {
          "output_type": "stream",
          "name": "stdout",
          "text": [
            "Index([3, 3, 5, 7, 9, 11], dtype='int64')\n",
            "==================================================\n",
            "3\n",
            "==================================================\n",
            "Index([3, 5, 9], dtype='int64')\n",
            "==================================================\n",
            "6 (6,) 1 int64\n"
          ]
        }
      ]
    },
    {
      "cell_type": "code",
      "source": [
        "# 인덱스 관련 객체\n",
        "\n",
        "# 참고: Index는 중복된 값을 가질 수 있음\n",
        "s = pd.Series([10, 20, 30, 40, 50], index=[1, 1, 3, 5, 5])\n",
        "print(s)\n",
        "print(s[1])  # 인덱스 1을 가진 모든 행 반환"
      ],
      "metadata": {
        "colab": {
          "base_uri": "https://localhost:8080/"
        },
        "id": "xxZQtDedj_mB",
        "outputId": "1c751cc4-20ad-476d-d643-7c08595f98be"
      },
      "execution_count": null,
      "outputs": [
        {
          "output_type": "stream",
          "name": "stdout",
          "text": [
            "1    10\n",
            "1    20\n",
            "3    30\n",
            "5    40\n",
            "5    50\n",
            "dtype: int64\n",
            "1    10\n",
            "1    20\n",
            "dtype: int64\n"
          ]
        }
      ]
    },
    {
      "cell_type": "code",
      "source": [
        "# 인덱스 관련 객체\n",
        "\n",
        "# pandas.Index 클래스\n",
        "indA = pd.Index([1, 3, 5])\n",
        "print(indA), print('='*50)\n",
        "\n",
        "indB = pd.Index(list('abc'))\n",
        "print(indB), print('='*50)\n",
        "\n",
        "indC = indA.append(indB)\n",
        "print(indC), print('='*50)\n",
        "\n",
        "indD = indA.difference(indB)\n",
        "print(indD)"
      ],
      "metadata": {
        "colab": {
          "base_uri": "https://localhost:8080/"
        },
        "id": "clHd4ZDcIv30",
        "outputId": "9d2a349c-2aa0-480e-e353-6bf40bfbca9b"
      },
      "execution_count": null,
      "outputs": [
        {
          "output_type": "stream",
          "name": "stdout",
          "text": [
            "Index([1, 3, 5], dtype='int64')\n",
            "==================================================\n",
            "Index(['a', 'b', 'c'], dtype='object')\n",
            "==================================================\n",
            "Index([1, 3, 5, 'a', 'b', 'c'], dtype='object')\n",
            "==================================================\n",
            "Index([1, 3, 5], dtype='int64')\n"
          ]
        }
      ]
    },
    {
      "cell_type": "code",
      "source": [
        "# 인덱스 관련 객체\n",
        "\n",
        "# pandas.RangeIndex 클래스\n",
        "df = pd.DataFrame(np.arange(12).reshape(2,6), columns = list('ABCDEF'))\n",
        "\n",
        "print(df), print('='*50)\n",
        "\n",
        "# df.index는 명시적인 인덱스가 제공되지 않았기 때문에\n",
        "# Pandas가 자동으로 생성한 RangeIndex 객체를 보여줌\n",
        "print(df.index)"
      ],
      "metadata": {
        "colab": {
          "base_uri": "https://localhost:8080/"
        },
        "id": "J7rE2se0JbUl",
        "outputId": "8c00d4c9-a301-4b0e-f7bd-90afd7aeae64"
      },
      "execution_count": null,
      "outputs": [
        {
          "output_type": "stream",
          "name": "stdout",
          "text": [
            "   A  B  C  D   E   F\n",
            "0  0  1  2  3   4   5\n",
            "1  6  7  8  9  10  11\n",
            "==================================================\n",
            "RangeIndex(start=0, stop=2, step=1)\n"
          ]
        }
      ]
    },
    {
      "cell_type": "code",
      "source": [
        "# 인덱스 관련 객체\n",
        "\n",
        "# pandas.CategoricalIndex 클래스\n",
        "s1 = pd.Series(['ha', 'hi']*1000)\n",
        "\n",
        "print(s1), print('='*50)\n",
        "# 각 문자열 'ha'와 'hi'는 여러 번 반복되어 저장되므로 메모리 사용량이 큼\n",
        "print(s1.nbytes), print('='*50)\n",
        "\n",
        "s2 = s1.astype('category')\n",
        "print(s2), print('='*50)\n",
        "# s2의 각 요소는 'ha','hi' 대신 해당 범주를 가리키는 짧은 정수 코드(0 또는 1)를 저장\n",
        "print(s2.nbytes)"
      ],
      "metadata": {
        "colab": {
          "base_uri": "https://localhost:8080/"
        },
        "id": "G9EZcOJuJ5-4",
        "outputId": "36def8fc-ca5a-4c1e-92c5-6645dfd86c6b"
      },
      "execution_count": null,
      "outputs": [
        {
          "output_type": "stream",
          "name": "stdout",
          "text": [
            "0       ha\n",
            "1       hi\n",
            "2       ha\n",
            "3       hi\n",
            "4       ha\n",
            "        ..\n",
            "1995    hi\n",
            "1996    ha\n",
            "1997    hi\n",
            "1998    ha\n",
            "1999    hi\n",
            "Length: 2000, dtype: object\n",
            "==================================================\n",
            "16000\n",
            "==================================================\n",
            "0       ha\n",
            "1       hi\n",
            "2       ha\n",
            "3       hi\n",
            "4       ha\n",
            "        ..\n",
            "1995    hi\n",
            "1996    ha\n",
            "1997    hi\n",
            "1998    ha\n",
            "1999    hi\n",
            "Length: 2000, dtype: category\n",
            "Categories (2, object): ['ha', 'hi']\n",
            "==================================================\n",
            "2016\n"
          ]
        }
      ]
    },
    {
      "cell_type": "code",
      "source": [
        "# 인덱스 관련 객체\n",
        "\n",
        "# pandas.Categorical 클래스\n",
        "s1 = pd.Categorical([1, 2, 3, 1, 2, 3])\n",
        "\n",
        "print(s1), print('='*50)\n",
        "print(type(s1), s1.dtype)\n",
        "\n",
        "s2 = pd.Categorical(['a', 'b', 'c', 'a', 'b', 'c'])\n",
        "\n",
        "print(s2), print('='*50)\n",
        "print(type(s2), s2.dtype)\n",
        "\n",
        "# ordered=True: 범주 순서에 따라 정렬되며 최소값과 최대값을 가질 수 있음\n",
        "s3 = pd.Categorical(['a','b','c','a','b','c'],\n",
        "                    ordered = True)\n",
        "\n",
        "print(s3), print('='*50)\n",
        "print(s3.min(), s3.max())\n",
        "\n",
        "s4 = pd.Categorical(['a','b','c','a','b','c'],\n",
        "                    ordered = True, categories = ['c','b','a'])\n",
        "\n",
        "print(s4), print('='*50)\n",
        "print(s4.min(), s4.max())"
      ],
      "metadata": {
        "colab": {
          "base_uri": "https://localhost:8080/"
        },
        "id": "vD5dl07sKYxk",
        "outputId": "ea72c866-e84f-443f-ffe3-ab7c7a3c8425"
      },
      "execution_count": null,
      "outputs": [
        {
          "output_type": "stream",
          "name": "stdout",
          "text": [
            "[1, 2, 3, 1, 2, 3]\n",
            "Categories (3, int64): [1, 2, 3]\n",
            "==================================================\n",
            "<class 'pandas.core.arrays.categorical.Categorical'> category\n",
            "['a', 'b', 'c', 'a', 'b', 'c']\n",
            "Categories (3, object): ['a', 'b', 'c']\n",
            "==================================================\n",
            "<class 'pandas.core.arrays.categorical.Categorical'> category\n",
            "['a', 'b', 'c', 'a', 'b', 'c']\n",
            "Categories (3, object): ['a' < 'b' < 'c']\n",
            "==================================================\n",
            "a c\n",
            "['a', 'b', 'c', 'a', 'b', 'c']\n",
            "Categories (3, object): ['c' < 'b' < 'a']\n",
            "==================================================\n",
            "c a\n"
          ]
        }
      ]
    },
    {
      "cell_type": "code",
      "source": [
        "# 인덱스 관련 객체\n",
        "\n",
        "# 범주를 가지는 시리즈나 데이터프레임의 열에서 범주형 데이터를 생성하는 방법\n",
        "# 1. 시리즈를 구성할 때 dtype = 'category'를 명시하는 방법\n",
        "s1 = pd.Series(['a','b','c','a'], dtype='category')\n",
        "print(s1), print('='*50)\n",
        "\n",
        "\n",
        "# 2. 데이터프레임 생성자에 dtype = 'category'를 명시하는 방법\n",
        "df2 = pd.DataFrame({'A': list('abca'), 'B': list('bccd')}, dtype='category')\n",
        "print(df2.dtypes), print('-'*50)\n",
        "print(df2), print('-'*50)\n",
        "print(df2['A']), print('-'*50)\n",
        "print(df2['B']), print('='*50)\n",
        "\n",
        "\n",
        "# 3. 시리즈나 데이터프레임의 열을 category dtype으로 변환하는 방법\n",
        "df = pd.DataFrame({'A': ['a','b','c','a']})\n",
        "\n",
        "print(df), print('-'*50)\n",
        "df['B'] = df['A'].astype('category')\n",
        "print(df.dtypes), print('-'*50)\n",
        "print(df), print('='*50)\n",
        "\n",
        "\n",
        "# 4. DataFrame.astype()을 사용하여 데이터프레임의 모든 열을 한꺼번에 범주형으로 변환하는 방법\n",
        "df3 = pd.DataFrame({'A': list('abca'), 'B': list('bccd')})\n",
        "df_cat = df3.astype('category')\n",
        "\n",
        "print(df_cat.dtypes), print('-'*50)\n",
        "print(df_cat)"
      ],
      "metadata": {
        "colab": {
          "base_uri": "https://localhost:8080/"
        },
        "id": "6Tf_Z5-NN5a5",
        "outputId": "e592476b-4c66-40ee-b98e-3cbb8f918c34"
      },
      "execution_count": null,
      "outputs": [
        {
          "output_type": "stream",
          "name": "stdout",
          "text": [
            "0    a\n",
            "1    b\n",
            "2    c\n",
            "3    a\n",
            "dtype: category\n",
            "Categories (3, object): ['a', 'b', 'c']\n",
            "==================================================\n",
            "A    category\n",
            "B    category\n",
            "dtype: object\n",
            "--------------------------------------------------\n",
            "   A  B\n",
            "0  a  b\n",
            "1  b  c\n",
            "2  c  c\n",
            "3  a  d\n",
            "--------------------------------------------------\n",
            "0    a\n",
            "1    b\n",
            "2    c\n",
            "3    a\n",
            "Name: A, dtype: category\n",
            "Categories (3, object): ['a', 'b', 'c']\n",
            "--------------------------------------------------\n",
            "0    b\n",
            "1    c\n",
            "2    c\n",
            "3    d\n",
            "Name: B, dtype: category\n",
            "Categories (3, object): ['b', 'c', 'd']\n",
            "==================================================\n",
            "   A\n",
            "0  a\n",
            "1  b\n",
            "2  c\n",
            "3  a\n",
            "--------------------------------------------------\n",
            "A      object\n",
            "B    category\n",
            "dtype: object\n",
            "--------------------------------------------------\n",
            "   A  B\n",
            "0  a  a\n",
            "1  b  b\n",
            "2  c  c\n",
            "3  a  a\n",
            "==================================================\n",
            "A    category\n",
            "B    category\n",
            "dtype: object\n",
            "--------------------------------------------------\n",
            "   A  B\n",
            "0  a  b\n",
            "1  b  c\n",
            "2  c  c\n",
            "3  a  d\n"
          ]
        }
      ]
    },
    {
      "cell_type": "code",
      "source": [
        "# 인덱스 관련 객체\n",
        "\n",
        "# MultiIndex 생성 방법 1: MultiIndex.from_arrays(arrays)\n",
        "# 각 인덱스 레벨에 해당하는 배열 (리스트, NumPy 배열, Series)의 리스트를 입력으로 받음\n",
        "\n",
        "arrays = [['IVE', 'IVE', 'AESPA', 'AESPA'],\n",
        "          ['Wonyoung', 'Liz', 'Winter', 'Karina']]\n",
        "\n",
        "multi_index_arrays = pd.MultiIndex.from_arrays(arrays, names=['그룹', '이름'])\n",
        "print(multi_index_arrays)"
      ],
      "metadata": {
        "colab": {
          "base_uri": "https://localhost:8080/"
        },
        "id": "Fpq6X-aNUUGm",
        "outputId": "198ff981-d0b6-49bd-f9b4-8938949ee54c"
      },
      "execution_count": null,
      "outputs": [
        {
          "output_type": "stream",
          "name": "stdout",
          "text": [
            "MultiIndex([(  'IVE', 'Wonyoung'),\n",
            "            (  'IVE',      'Liz'),\n",
            "            ('AESPA',   'Winter'),\n",
            "            ('AESPA',   'Karina')],\n",
            "           names=['그룹', '이름'])\n"
          ]
        }
      ]
    },
    {
      "cell_type": "code",
      "source": [
        "# 인덱스 관련 객체\n",
        "\n",
        "# MultiIndex 생성 방법 2: MultiIndex.from_product(iterables)\n",
        "# 각 인덱스 레벨에 사용할 반복 가능한 객체 (리스트, 튜플 등)의 리스트를 입력으로 받음\n",
        "\n",
        "groups = ['IVE', 'AESPA']\n",
        "names = ['Wonyoung', 'Liz', 'Winter', 'Karina']\n",
        "multi_index_product = pd.MultiIndex.from_product([groups, names], names=['그룹', '이름'])\n",
        "print(multi_index_product)"
      ],
      "metadata": {
        "colab": {
          "base_uri": "https://localhost:8080/"
        },
        "id": "c10kIkW4Uq3F",
        "outputId": "635abddf-03ed-40f6-8a31-06a841b2c198"
      },
      "execution_count": null,
      "outputs": [
        {
          "output_type": "stream",
          "name": "stdout",
          "text": [
            "MultiIndex([(  'IVE', 'Wonyoung'),\n",
            "            (  'IVE',      'Liz'),\n",
            "            (  'IVE',   'Winter'),\n",
            "            (  'IVE',   'Karina'),\n",
            "            ('AESPA', 'Wonyoung'),\n",
            "            ('AESPA',      'Liz'),\n",
            "            ('AESPA',   'Winter'),\n",
            "            ('AESPA',   'Karina')],\n",
            "           names=['그룹', '이름'])\n"
          ]
        }
      ]
    },
    {
      "cell_type": "code",
      "source": [
        "# 인덱스 관련 객체\n",
        "\n",
        "# MultiIndex 생성 방법 3: MultiIndex.from_tuples(tuples)\n",
        "# MultiIndex를 구성할 튜플의 리스트를 직접 입력으로 받음\n",
        "\n",
        "tuples = [('IVE', 'Wonyoung'), ('IVE', 'Liz'), ('AESPA', 'Winter'), ('AESPA', 'Karina')]\n",
        "multi_index_tuples = pd.MultiIndex.from_tuples(tuples, names=['그룹', '이름'])\n",
        "print(multi_index_tuples)"
      ],
      "metadata": {
        "colab": {
          "base_uri": "https://localhost:8080/"
        },
        "id": "ItaHQB5XZMSR",
        "outputId": "e9fee65b-7daa-43cf-cc87-8d30ccccf35e"
      },
      "execution_count": null,
      "outputs": [
        {
          "output_type": "stream",
          "name": "stdout",
          "text": [
            "MultiIndex([(  'IVE', 'Wonyoung'),\n",
            "            (  'IVE',      'Liz'),\n",
            "            ('AESPA',   'Winter'),\n",
            "            ('AESPA',   'Karina')],\n",
            "           names=['그룹', '이름'])\n"
          ]
        }
      ]
    },
    {
      "cell_type": "code",
      "source": [
        "# 인덱스 관련 객체\n",
        "\n",
        "# pandas.MultiIndex 클래스\n",
        "arr = [[1, 1, 2, 2], ['red', 'blue', 'red', 'blue']]\n",
        "\n",
        "mi_arr = pd.MultiIndex.from_arrays(arr, names=('number', 'color'))\n",
        "print(mi_arr), print('='*50)\n",
        "\n",
        "# 인덱스 생성자로 튜플의 리스트를 전달해 멀티인덱스를 반환\n",
        "arr2 = [['ha','ha','hi','hi','ho','ho'], ['one','two','one','two','one','two']]\n",
        "\n",
        "tuples = list(zip(*arr2))\n",
        "print(tuples), print('-'*50)\n",
        "\n",
        "mi_tuples = pd.MultiIndex.from_tuples(tuples, names=['first', 'second'])\n",
        "print(mi_tuples)"
      ],
      "metadata": {
        "colab": {
          "base_uri": "https://localhost:8080/"
        },
        "id": "2q6Sl0rhRckb",
        "outputId": "246a00b5-0a5f-4d92-fed8-8fcae7652bf1"
      },
      "execution_count": null,
      "outputs": [
        {
          "output_type": "stream",
          "name": "stdout",
          "text": [
            "MultiIndex([(1,  'red'),\n",
            "            (1, 'blue'),\n",
            "            (2,  'red'),\n",
            "            (2, 'blue')],\n",
            "           names=['number', 'color'])\n",
            "==================================================\n",
            "[('ha', 'one'), ('ha', 'two'), ('hi', 'one'), ('hi', 'two'), ('ho', 'one'), ('ho', 'two')]\n",
            "--------------------------------------------------\n",
            "MultiIndex([('ha', 'one'),\n",
            "            ('ha', 'two'),\n",
            "            ('hi', 'one'),\n",
            "            ('hi', 'two'),\n",
            "            ('ho', 'one'),\n",
            "            ('ho', 'two')],\n",
            "           names=['first', 'second'])\n",
            "==================================================\n",
            "1     1.324938\n",
            "3    -0.953207\n",
            "5     2.220743\n",
            "7    -0.002817\n",
            "9    -1.050837\n",
            "11    1.777364\n",
            "dtype: float64\n"
          ]
        }
      ]
    },
    {
      "cell_type": "code",
      "source": [
        "# 인덱스 관련 객체\n",
        "\n",
        "# pandas.MultiIndex 클래스\n",
        "# 시리즈나 데이터프레임에 배열의 리스트를 직접 전달하면 멀티인덱스를 자동 생성할 수 있음\n",
        "arr = [np.array(['ha','ha','hi','hi','ho','ho']),\n",
        "       np.array(['one','two','one','two','one','two'])]\n",
        "\n",
        "ser = pd.Series(np.random.randn(6), index=arr)\n",
        "print(ser), print('='*50)\n",
        "\n",
        "df = pd.DataFrame(np.random.randn(6, 4), index=arr)\n",
        "print(df), print('-'*50)\n",
        "print(df.index), print('='*50)\n",
        "\n",
        "# 튜플을 축의 행 라벨로 사용할 수도 있음\n",
        "arr2 = [['ha','ha','hi','hi','ho','ho'], ['one','two','one','two','one','two']]\n",
        "tuples = list(zip(*arr2))\n",
        "print(tuples), print('-'*50)\n",
        "\n",
        "ser2 = pd.Series(np.random.randn(6), index=tuples)\n",
        "print(ser2)"
      ],
      "metadata": {
        "colab": {
          "base_uri": "https://localhost:8080/"
        },
        "id": "_EyLyyaRTfpj",
        "outputId": "65a97c5f-3772-4504-f7f6-321168f2260b"
      },
      "execution_count": null,
      "outputs": [
        {
          "output_type": "stream",
          "name": "stdout",
          "text": [
            "ha  one   -0.055870\n",
            "    two    1.118636\n",
            "hi  one   -1.595272\n",
            "    two   -2.828893\n",
            "ho  one   -0.277178\n",
            "    two    2.413206\n",
            "dtype: float64\n",
            "==================================================\n",
            "               0         1         2         3\n",
            "ha one  0.271772  0.123002  1.695759  0.905411\n",
            "   two -0.214389 -1.543959  0.519001  0.835049\n",
            "hi one  0.138213  0.946325  0.704107 -1.885888\n",
            "   two -1.033682  0.591992  0.582039 -0.549700\n",
            "ho one  0.384705  0.792180 -1.206690 -0.998811\n",
            "   two -0.079801  0.059513 -0.776677  0.491232\n",
            "--------------------------------------------------\n",
            "MultiIndex([('ha', 'one'),\n",
            "            ('ha', 'two'),\n",
            "            ('hi', 'one'),\n",
            "            ('hi', 'two'),\n",
            "            ('ho', 'one'),\n",
            "            ('ho', 'two')],\n",
            "           )\n",
            "==================================================\n",
            "[('ha', 'one'), ('ha', 'two'), ('hi', 'one'), ('hi', 'two'), ('ho', 'one'), ('ho', 'two')]\n",
            "--------------------------------------------------\n",
            "(ha, one)    0.902970\n",
            "(ha, two)    1.707262\n",
            "(hi, one)   -0.168082\n",
            "(hi, two)    0.132189\n",
            "(ho, one)    0.585904\n",
            "(ho, two)    1.448381\n",
            "dtype: float64\n"
          ]
        }
      ]
    },
    {
      "cell_type": "markdown",
      "source": [
        "### 2. 판다스의 주요 기능"
      ],
      "metadata": {
        "id": "ZeWQk06UCu5o"
      }
    },
    {
      "cell_type": "code",
      "source": [
        "# head()와 tail() 메소드의 적용\n",
        "\n",
        "s1 = pd.Series(np.random.randn(1000))\n",
        "\n",
        "print(s1.head()), print('-'*30)\n",
        "print(s1.tail()), print('='*30)\n",
        "'''\n",
        "# 모든 행을 출력하도록 설정\n",
        "pd.set_option('display.max_rows', None)\n",
        "print(s1)\n",
        "\n",
        "# 설정을 다시 기본값으로 되돌리고 싶다면..\n",
        "# 최대 60개의 행까지만 화면에 표시\n",
        "# 만약 데이터가 60행을 초과하면, 처음 몇 행과 마지막 몇 행만 보여주고\n",
        "# 중간 부분은 생략 부호(...)로 표시\n",
        "pd.set_option('display.max_rows', 60)\n",
        "print(s1)\n",
        "'''\n",
        "\n",
        "ind = pd.date_range('1/1/2021', periods = 5)\n",
        "df = pd.DataFrame(np.random.randn(5,3), index=ind, columns=['A','B','C'])\n",
        "\n",
        "print(df.shape), print('-'*40)\n",
        "print(df), print('='*40)\n",
        "print(df[:2])"
      ],
      "metadata": {
        "colab": {
          "base_uri": "https://localhost:8080/"
        },
        "id": "iRSSX4cGCyDp",
        "outputId": "5334d0b8-833d-4926-c119-04606cbf92cf"
      },
      "execution_count": null,
      "outputs": [
        {
          "output_type": "stream",
          "name": "stdout",
          "text": [
            "0    0.456521\n",
            "1   -0.706182\n",
            "2    0.507156\n",
            "3    0.635036\n",
            "4   -0.125591\n",
            "dtype: float64\n",
            "------------------------------\n",
            "995   -0.508586\n",
            "996   -0.113238\n",
            "997   -0.713856\n",
            "998    0.694662\n",
            "999    0.909094\n",
            "dtype: float64\n",
            "==============================\n",
            "(5, 3)\n",
            "----------------------------------------\n",
            "                   A         B         C\n",
            "2021-01-01 -0.931134  0.537763  1.103203\n",
            "2021-01-02 -0.301499  0.452362  0.413956\n",
            "2021-01-03  0.203763 -0.042650 -1.306968\n",
            "2021-01-04 -1.665733 -1.472674 -1.574723\n",
            "2021-01-05  0.140433  0.671429 -1.209706\n",
            "========================================\n",
            "                   A         B         C\n",
            "2021-01-01 -0.931134  0.537763  1.103203\n",
            "2021-01-02 -0.301499  0.452362  0.413956\n"
          ]
        }
      ]
    },
    {
      "cell_type": "code",
      "source": [
        "# 판다스 객체 이진 연산\n",
        "\n",
        "df2 = pd.DataFrame({'angles':[0, 3, 4], 'degrees':[360, 180, 360]},\n",
        "                   index = ['circle', 'triangle', 'rectangle'])\n",
        "print(df2), print('='*50)\n",
        "\n",
        "# scalar 1을 더함\n",
        "print(df2 + 1), print('='*50)\n",
        "print(df2 - [1, 2]), print('='*50)\n",
        "print(df2.sub([1, 2], axis='columns'))"
      ],
      "metadata": {
        "colab": {
          "base_uri": "https://localhost:8080/"
        },
        "id": "gU6GVVZwgESG",
        "outputId": "aa48b09a-3b96-481d-bde5-c77b2e54f408"
      },
      "execution_count": null,
      "outputs": [
        {
          "output_type": "stream",
          "name": "stdout",
          "text": [
            "           angles  degrees\n",
            "circle          0      360\n",
            "triangle        3      180\n",
            "rectangle       4      360\n",
            "==================================================\n",
            "           angles  degrees\n",
            "circle          1      361\n",
            "triangle        4      181\n",
            "rectangle       5      361\n",
            "==================================================\n",
            "           angles  degrees\n",
            "circle         -1      358\n",
            "triangle        2      178\n",
            "rectangle       3      358\n",
            "==================================================\n",
            "           angles  degrees\n",
            "circle         -1      358\n",
            "triangle        2      178\n",
            "rectangle       3      358\n"
          ]
        }
      ]
    },
    {
      "cell_type": "code",
      "source": [
        "# 판다스 객체 이진 연산\n",
        "\n",
        "df = pd.DataFrame({'one': pd.Series(np.random.randn(2), index=['a','b']),\n",
        "                   'two': pd.Series(np.random.randn(3), index=['a','b','c']),\n",
        "                   'three': pd.Series(np.random.randn(2), index=['b','c'])})\n",
        "\n",
        "print(df), print('-'*30)\n",
        "print(df.iloc[1]), print('-'*30)\n",
        "print(df['two']), print('='*30)\n",
        "\n",
        "row = df.iloc[1]\n",
        "col = df['two']\n",
        "\n",
        "# 축의 값을 다르게 하여 sub()메소드 적용\n",
        "# 'one' 열: df['one'] - row['one'], 'two' 열: df['two'] - row['two']\n",
        "print(df.sub(row, axis='columns')), print('-'*30) # axis=1과 같음\n",
        "# 'a' 행: df.loc['a'] - col['a'], 'b' 행: df.loc['b'] - col['b']\n",
        "print(df.sub(col, axis='index'))    # axis=0과 같음"
      ],
      "metadata": {
        "colab": {
          "base_uri": "https://localhost:8080/"
        },
        "id": "iKAHT5zYGXH6",
        "outputId": "dd2f847c-ca10-4c02-d358-b114b884a89c"
      },
      "execution_count": null,
      "outputs": [
        {
          "output_type": "stream",
          "name": "stdout",
          "text": [
            "        one       two     three\n",
            "a  1.197873  0.965821       NaN\n",
            "b -0.358699 -1.202268  0.338031\n",
            "c       NaN  0.020510  0.564431\n",
            "------------------------------\n",
            "one     -0.358699\n",
            "two     -1.202268\n",
            "three    0.338031\n",
            "Name: b, dtype: float64\n",
            "------------------------------\n",
            "a    0.965821\n",
            "b   -1.202268\n",
            "c    0.020510\n",
            "Name: two, dtype: float64\n",
            "==============================\n",
            "        one       two   three\n",
            "a  1.556571  2.168088     NaN\n",
            "b  0.000000  0.000000  0.0000\n",
            "c       NaN  1.222777  0.2264\n",
            "------------------------------\n",
            "        one  two     three\n",
            "a  0.232052  0.0       NaN\n",
            "b  0.843569  0.0  1.540299\n",
            "c       NaN  0.0  0.543921\n"
          ]
        }
      ]
    },
    {
      "cell_type": "code",
      "source": [
        "# 판다스 객체 이진 연산\n",
        "\n",
        "# 손실값 대체\n",
        "d = {'one': [1., 2., np.nan], 'two': [3., 2., 1.], 'three': [np.nan, 1., 1.]}\n",
        "df = pd.DataFrame(d, index = list('abc'))\n",
        "print(df), print('='*50)\n",
        "\n",
        "d1 = {'one': pd.Series([1., 2.], index = ['a','b']),\n",
        "      'two': pd.Series([1., 1., 1.], index = ['a','b','c']),\n",
        "      'three': pd.Series([2., 2., 2.], index = ['a','b','c'])}\n",
        "df1 = pd.DataFrame(d1)\n",
        "print(df1), print('='*50)\n",
        "\n",
        "# 위의 df와 df1을 더할 때 두 데이터프레임에 손실 값이 있으면 손실 값을\n",
        "# 0으로 바꾸어 연산 가능.\n",
        "# 또한 fillna()를 사용하여 손실 값을 다른 값으로 변경 가능\n",
        "print(df + df1), print('='*50)\n",
        "print(df.add(df1, fill_value=0))"
      ],
      "metadata": {
        "colab": {
          "base_uri": "https://localhost:8080/"
        },
        "id": "c6G5Ju5IJaR_",
        "outputId": "a5b2a1cd-62af-49c1-d718-277d03a7ea07"
      },
      "execution_count": null,
      "outputs": [
        {
          "output_type": "stream",
          "name": "stdout",
          "text": [
            "   one  two  three\n",
            "a  1.0  3.0    NaN\n",
            "b  2.0  2.0    1.0\n",
            "c  NaN  1.0    1.0\n",
            "==================================================\n",
            "   one  two  three\n",
            "a  1.0  1.0    2.0\n",
            "b  2.0  1.0    2.0\n",
            "c  NaN  1.0    2.0\n",
            "==================================================\n",
            "   one  two  three\n",
            "a  2.0  4.0    NaN\n",
            "b  4.0  3.0    3.0\n",
            "c  NaN  2.0    3.0\n",
            "==================================================\n",
            "   one  two  three\n",
            "a  2.0  4.0    2.0\n",
            "b  4.0  3.0    3.0\n",
            "c  NaN  2.0    3.0\n"
          ]
        }
      ]
    },
    {
      "cell_type": "code",
      "source": [
        "# 요약과 통계 연산\n",
        "\n",
        "d = {'one': [1., 2., np.nan], 'two': [3., 2., 1.], 'three': [np.nan, 1., 1.]}\n",
        "df = pd.DataFrame(d, index = list('abc'))\n",
        "print(df), print('='*20)\n",
        "\n",
        "print(df.mean(axis=0)), print('-'*20)\n",
        "print(df.mean(1)), print('='*20)\n",
        "\n",
        "# skipna 옵션: 손실 데이터를 배제할지 결정하는 옵션. 기본값은 True\n",
        "print(df.sum(0, skipna=False)), print('-'*20)\n",
        "# print(df.sum(axis=0, skipna=False)), print('-'*20) 위와 같음\n",
        "print(df.sum(1, skipna=True))"
      ],
      "metadata": {
        "colab": {
          "base_uri": "https://localhost:8080/"
        },
        "id": "OJFSg-7-MtG5",
        "outputId": "21fae933-6364-476b-b414-6ba678050267"
      },
      "execution_count": null,
      "outputs": [
        {
          "output_type": "stream",
          "name": "stdout",
          "text": [
            "   one  two  three\n",
            "a  1.0  3.0    NaN\n",
            "b  2.0  2.0    1.0\n",
            "c  NaN  1.0    1.0\n",
            "====================\n",
            "one      1.5\n",
            "two      2.0\n",
            "three    1.0\n",
            "dtype: float64\n",
            "--------------------\n",
            "a    2.000000\n",
            "b    1.666667\n",
            "c    1.000000\n",
            "dtype: float64\n",
            "====================\n",
            "one      NaN\n",
            "two      6.0\n",
            "three    NaN\n",
            "dtype: float64\n",
            "--------------------\n",
            "a    4.0\n",
            "b    5.0\n",
            "c    2.0\n",
            "dtype: float64\n"
          ]
        }
      ]
    },
    {
      "cell_type": "code",
      "source": [
        "# 요약과 통계 연산\n",
        "\n",
        "# mean(), std(), sum()과 같은 넘파이 함수들은 시리즈 입력값에 있는 손실 값을 기본으로 제외\n",
        "print(df), print('-'*20)\n",
        "print(np.mean(df['one']))"
      ],
      "metadata": {
        "colab": {
          "base_uri": "https://localhost:8080/"
        },
        "id": "GbruPElFQIfb",
        "outputId": "4517c375-5a4e-40a4-c53b-0f1b01773ecd"
      },
      "execution_count": null,
      "outputs": [
        {
          "output_type": "stream",
          "name": "stdout",
          "text": [
            "   one  two  three\n",
            "a  1.0  3.0    NaN\n",
            "b  2.0  2.0    1.0\n",
            "c  NaN  1.0    1.0\n",
            "--------------------\n",
            "1.5\n"
          ]
        }
      ]
    },
    {
      "cell_type": "code",
      "source": [
        "# 요약과 통계 연산\n",
        "print(df), print('='*20)\n",
        "\n",
        "# std()의 인수 ddof: 데이터프레임에서의 ddof 기본값=1, 넘파이에서의 ddof 기본값=0\n",
        "print(df.std()), print('-'*20)\n",
        "print(df.std(axis=1)), print('-'*20)        # 데이터프레임에서의 기본값 ddof=1\n",
        "print(np.std(df, axis=1)), print('-'*20)    # 넘파이에서의 기본값 ddof=0\n",
        "print(np.std(df, ddof=1, axis=1)), print('-'*20)\n",
        "print(df[['one', 'two', 'three']].std())"
      ],
      "metadata": {
        "colab": {
          "base_uri": "https://localhost:8080/"
        },
        "id": "ZHNIw9PGPUyq",
        "outputId": "3457e1b7-68b9-48f4-9217-17dc5937b669"
      },
      "execution_count": null,
      "outputs": [
        {
          "output_type": "stream",
          "name": "stdout",
          "text": [
            "   one  two  three\n",
            "a  1.0  3.0    NaN\n",
            "b  2.0  2.0    1.0\n",
            "c  NaN  1.0    1.0\n",
            "====================\n",
            "one      0.707107\n",
            "two      1.000000\n",
            "three    0.000000\n",
            "dtype: float64\n",
            "--------------------\n",
            "a    1.414214\n",
            "b    0.577350\n",
            "c    0.000000\n",
            "dtype: float64\n",
            "--------------------\n",
            "a    1.000000\n",
            "b    0.471405\n",
            "c    0.000000\n",
            "dtype: float64\n",
            "--------------------\n",
            "a    1.414214\n",
            "b    0.577350\n",
            "c    0.000000\n",
            "dtype: float64\n",
            "--------------------\n",
            "one      0.707107\n",
            "two      1.000000\n",
            "three    0.000000\n",
            "dtype: float64\n"
          ]
        }
      ]
    },
    {
      "cell_type": "code",
      "source": [
        "# 요약과 통계 연산\n",
        "\n",
        "# 누적 합을 계산하는 cumsum() 메소드는 아래와 같이 적용\n",
        "print(df), print('-'*20)\n",
        "print(df.cumsum())"
      ],
      "metadata": {
        "colab": {
          "base_uri": "https://localhost:8080/"
        },
        "id": "esufgvzYPeN7",
        "outputId": "edaa9363-8fd7-4d24-8d28-9cd815da7aee"
      },
      "execution_count": null,
      "outputs": [
        {
          "output_type": "stream",
          "name": "stdout",
          "text": [
            "   one  two  three\n",
            "a  1.0  3.0    NaN\n",
            "b  2.0  2.0    1.0\n",
            "c  NaN  1.0    1.0\n",
            "--------------------\n",
            "   one  two  three\n",
            "a  1.0  3.0    NaN\n",
            "b  3.0  5.0    1.0\n",
            "c  NaN  6.0    2.0\n"
          ]
        }
      ]
    },
    {
      "cell_type": "code",
      "source": [
        "# 요약과 통계 연산\n",
        "\n",
        "# Series.nunique()\n",
        "s1 = pd.Series(np.random.randn(500))\n",
        "s1[20:500] = np.nan\n",
        "s1[10:20] = 5\n",
        "print(s1.nunique())\n",
        "\n",
        "# 모든 행을 출력하도록 설정\n",
        "pd.set_option('display.max_rows', None)\n",
        "print(s1)\n",
        "\n",
        "# 설정을 다시 기본값으로 되돌리고 싶다면\n",
        "# pd.set_option('display.max_rows', 60)"
      ],
      "metadata": {
        "colab": {
          "base_uri": "https://localhost:8080/"
        },
        "id": "rWa-LgOLQsv4",
        "outputId": "d9946db0-b8ee-4ef4-c439-292e5dd23ac5"
      },
      "execution_count": null,
      "outputs": [
        {
          "output_type": "stream",
          "name": "stdout",
          "text": [
            "11\n",
            "0      0.964076\n",
            "1      0.075410\n",
            "2     -1.250127\n",
            "3      0.787937\n",
            "4     -1.939244\n",
            "5     -0.239285\n",
            "6      1.237872\n",
            "7      0.413716\n",
            "8      0.981545\n",
            "9      0.551829\n",
            "10     5.000000\n",
            "11     5.000000\n",
            "12     5.000000\n",
            "13     5.000000\n",
            "14     5.000000\n",
            "15     5.000000\n",
            "16     5.000000\n",
            "17     5.000000\n",
            "18     5.000000\n",
            "19     5.000000\n",
            "20          NaN\n",
            "21          NaN\n",
            "22          NaN\n",
            "23          NaN\n",
            "24          NaN\n",
            "25          NaN\n",
            "26          NaN\n",
            "27          NaN\n",
            "28          NaN\n",
            "29          NaN\n",
            "30          NaN\n",
            "31          NaN\n",
            "32          NaN\n",
            "33          NaN\n",
            "34          NaN\n",
            "35          NaN\n",
            "36          NaN\n",
            "37          NaN\n",
            "38          NaN\n",
            "39          NaN\n",
            "40          NaN\n",
            "41          NaN\n",
            "42          NaN\n",
            "43          NaN\n",
            "44          NaN\n",
            "45          NaN\n",
            "46          NaN\n",
            "47          NaN\n",
            "48          NaN\n",
            "49          NaN\n",
            "50          NaN\n",
            "51          NaN\n",
            "52          NaN\n",
            "53          NaN\n",
            "54          NaN\n",
            "55          NaN\n",
            "56          NaN\n",
            "57          NaN\n",
            "58          NaN\n",
            "59          NaN\n",
            "60          NaN\n",
            "61          NaN\n",
            "62          NaN\n",
            "63          NaN\n",
            "64          NaN\n",
            "65          NaN\n",
            "66          NaN\n",
            "67          NaN\n",
            "68          NaN\n",
            "69          NaN\n",
            "70          NaN\n",
            "71          NaN\n",
            "72          NaN\n",
            "73          NaN\n",
            "74          NaN\n",
            "75          NaN\n",
            "76          NaN\n",
            "77          NaN\n",
            "78          NaN\n",
            "79          NaN\n",
            "80          NaN\n",
            "81          NaN\n",
            "82          NaN\n",
            "83          NaN\n",
            "84          NaN\n",
            "85          NaN\n",
            "86          NaN\n",
            "87          NaN\n",
            "88          NaN\n",
            "89          NaN\n",
            "90          NaN\n",
            "91          NaN\n",
            "92          NaN\n",
            "93          NaN\n",
            "94          NaN\n",
            "95          NaN\n",
            "96          NaN\n",
            "97          NaN\n",
            "98          NaN\n",
            "99          NaN\n",
            "100         NaN\n",
            "101         NaN\n",
            "102         NaN\n",
            "103         NaN\n",
            "104         NaN\n",
            "105         NaN\n",
            "106         NaN\n",
            "107         NaN\n",
            "108         NaN\n",
            "109         NaN\n",
            "110         NaN\n",
            "111         NaN\n",
            "112         NaN\n",
            "113         NaN\n",
            "114         NaN\n",
            "115         NaN\n",
            "116         NaN\n",
            "117         NaN\n",
            "118         NaN\n",
            "119         NaN\n",
            "120         NaN\n",
            "121         NaN\n",
            "122         NaN\n",
            "123         NaN\n",
            "124         NaN\n",
            "125         NaN\n",
            "126         NaN\n",
            "127         NaN\n",
            "128         NaN\n",
            "129         NaN\n",
            "130         NaN\n",
            "131         NaN\n",
            "132         NaN\n",
            "133         NaN\n",
            "134         NaN\n",
            "135         NaN\n",
            "136         NaN\n",
            "137         NaN\n",
            "138         NaN\n",
            "139         NaN\n",
            "140         NaN\n",
            "141         NaN\n",
            "142         NaN\n",
            "143         NaN\n",
            "144         NaN\n",
            "145         NaN\n",
            "146         NaN\n",
            "147         NaN\n",
            "148         NaN\n",
            "149         NaN\n",
            "150         NaN\n",
            "151         NaN\n",
            "152         NaN\n",
            "153         NaN\n",
            "154         NaN\n",
            "155         NaN\n",
            "156         NaN\n",
            "157         NaN\n",
            "158         NaN\n",
            "159         NaN\n",
            "160         NaN\n",
            "161         NaN\n",
            "162         NaN\n",
            "163         NaN\n",
            "164         NaN\n",
            "165         NaN\n",
            "166         NaN\n",
            "167         NaN\n",
            "168         NaN\n",
            "169         NaN\n",
            "170         NaN\n",
            "171         NaN\n",
            "172         NaN\n",
            "173         NaN\n",
            "174         NaN\n",
            "175         NaN\n",
            "176         NaN\n",
            "177         NaN\n",
            "178         NaN\n",
            "179         NaN\n",
            "180         NaN\n",
            "181         NaN\n",
            "182         NaN\n",
            "183         NaN\n",
            "184         NaN\n",
            "185         NaN\n",
            "186         NaN\n",
            "187         NaN\n",
            "188         NaN\n",
            "189         NaN\n",
            "190         NaN\n",
            "191         NaN\n",
            "192         NaN\n",
            "193         NaN\n",
            "194         NaN\n",
            "195         NaN\n",
            "196         NaN\n",
            "197         NaN\n",
            "198         NaN\n",
            "199         NaN\n",
            "200         NaN\n",
            "201         NaN\n",
            "202         NaN\n",
            "203         NaN\n",
            "204         NaN\n",
            "205         NaN\n",
            "206         NaN\n",
            "207         NaN\n",
            "208         NaN\n",
            "209         NaN\n",
            "210         NaN\n",
            "211         NaN\n",
            "212         NaN\n",
            "213         NaN\n",
            "214         NaN\n",
            "215         NaN\n",
            "216         NaN\n",
            "217         NaN\n",
            "218         NaN\n",
            "219         NaN\n",
            "220         NaN\n",
            "221         NaN\n",
            "222         NaN\n",
            "223         NaN\n",
            "224         NaN\n",
            "225         NaN\n",
            "226         NaN\n",
            "227         NaN\n",
            "228         NaN\n",
            "229         NaN\n",
            "230         NaN\n",
            "231         NaN\n",
            "232         NaN\n",
            "233         NaN\n",
            "234         NaN\n",
            "235         NaN\n",
            "236         NaN\n",
            "237         NaN\n",
            "238         NaN\n",
            "239         NaN\n",
            "240         NaN\n",
            "241         NaN\n",
            "242         NaN\n",
            "243         NaN\n",
            "244         NaN\n",
            "245         NaN\n",
            "246         NaN\n",
            "247         NaN\n",
            "248         NaN\n",
            "249         NaN\n",
            "250         NaN\n",
            "251         NaN\n",
            "252         NaN\n",
            "253         NaN\n",
            "254         NaN\n",
            "255         NaN\n",
            "256         NaN\n",
            "257         NaN\n",
            "258         NaN\n",
            "259         NaN\n",
            "260         NaN\n",
            "261         NaN\n",
            "262         NaN\n",
            "263         NaN\n",
            "264         NaN\n",
            "265         NaN\n",
            "266         NaN\n",
            "267         NaN\n",
            "268         NaN\n",
            "269         NaN\n",
            "270         NaN\n",
            "271         NaN\n",
            "272         NaN\n",
            "273         NaN\n",
            "274         NaN\n",
            "275         NaN\n",
            "276         NaN\n",
            "277         NaN\n",
            "278         NaN\n",
            "279         NaN\n",
            "280         NaN\n",
            "281         NaN\n",
            "282         NaN\n",
            "283         NaN\n",
            "284         NaN\n",
            "285         NaN\n",
            "286         NaN\n",
            "287         NaN\n",
            "288         NaN\n",
            "289         NaN\n",
            "290         NaN\n",
            "291         NaN\n",
            "292         NaN\n",
            "293         NaN\n",
            "294         NaN\n",
            "295         NaN\n",
            "296         NaN\n",
            "297         NaN\n",
            "298         NaN\n",
            "299         NaN\n",
            "300         NaN\n",
            "301         NaN\n",
            "302         NaN\n",
            "303         NaN\n",
            "304         NaN\n",
            "305         NaN\n",
            "306         NaN\n",
            "307         NaN\n",
            "308         NaN\n",
            "309         NaN\n",
            "310         NaN\n",
            "311         NaN\n",
            "312         NaN\n",
            "313         NaN\n",
            "314         NaN\n",
            "315         NaN\n",
            "316         NaN\n",
            "317         NaN\n",
            "318         NaN\n",
            "319         NaN\n",
            "320         NaN\n",
            "321         NaN\n",
            "322         NaN\n",
            "323         NaN\n",
            "324         NaN\n",
            "325         NaN\n",
            "326         NaN\n",
            "327         NaN\n",
            "328         NaN\n",
            "329         NaN\n",
            "330         NaN\n",
            "331         NaN\n",
            "332         NaN\n",
            "333         NaN\n",
            "334         NaN\n",
            "335         NaN\n",
            "336         NaN\n",
            "337         NaN\n",
            "338         NaN\n",
            "339         NaN\n",
            "340         NaN\n",
            "341         NaN\n",
            "342         NaN\n",
            "343         NaN\n",
            "344         NaN\n",
            "345         NaN\n",
            "346         NaN\n",
            "347         NaN\n",
            "348         NaN\n",
            "349         NaN\n",
            "350         NaN\n",
            "351         NaN\n",
            "352         NaN\n",
            "353         NaN\n",
            "354         NaN\n",
            "355         NaN\n",
            "356         NaN\n",
            "357         NaN\n",
            "358         NaN\n",
            "359         NaN\n",
            "360         NaN\n",
            "361         NaN\n",
            "362         NaN\n",
            "363         NaN\n",
            "364         NaN\n",
            "365         NaN\n",
            "366         NaN\n",
            "367         NaN\n",
            "368         NaN\n",
            "369         NaN\n",
            "370         NaN\n",
            "371         NaN\n",
            "372         NaN\n",
            "373         NaN\n",
            "374         NaN\n",
            "375         NaN\n",
            "376         NaN\n",
            "377         NaN\n",
            "378         NaN\n",
            "379         NaN\n",
            "380         NaN\n",
            "381         NaN\n",
            "382         NaN\n",
            "383         NaN\n",
            "384         NaN\n",
            "385         NaN\n",
            "386         NaN\n",
            "387         NaN\n",
            "388         NaN\n",
            "389         NaN\n",
            "390         NaN\n",
            "391         NaN\n",
            "392         NaN\n",
            "393         NaN\n",
            "394         NaN\n",
            "395         NaN\n",
            "396         NaN\n",
            "397         NaN\n",
            "398         NaN\n",
            "399         NaN\n",
            "400         NaN\n",
            "401         NaN\n",
            "402         NaN\n",
            "403         NaN\n",
            "404         NaN\n",
            "405         NaN\n",
            "406         NaN\n",
            "407         NaN\n",
            "408         NaN\n",
            "409         NaN\n",
            "410         NaN\n",
            "411         NaN\n",
            "412         NaN\n",
            "413         NaN\n",
            "414         NaN\n",
            "415         NaN\n",
            "416         NaN\n",
            "417         NaN\n",
            "418         NaN\n",
            "419         NaN\n",
            "420         NaN\n",
            "421         NaN\n",
            "422         NaN\n",
            "423         NaN\n",
            "424         NaN\n",
            "425         NaN\n",
            "426         NaN\n",
            "427         NaN\n",
            "428         NaN\n",
            "429         NaN\n",
            "430         NaN\n",
            "431         NaN\n",
            "432         NaN\n",
            "433         NaN\n",
            "434         NaN\n",
            "435         NaN\n",
            "436         NaN\n",
            "437         NaN\n",
            "438         NaN\n",
            "439         NaN\n",
            "440         NaN\n",
            "441         NaN\n",
            "442         NaN\n",
            "443         NaN\n",
            "444         NaN\n",
            "445         NaN\n",
            "446         NaN\n",
            "447         NaN\n",
            "448         NaN\n",
            "449         NaN\n",
            "450         NaN\n",
            "451         NaN\n",
            "452         NaN\n",
            "453         NaN\n",
            "454         NaN\n",
            "455         NaN\n",
            "456         NaN\n",
            "457         NaN\n",
            "458         NaN\n",
            "459         NaN\n",
            "460         NaN\n",
            "461         NaN\n",
            "462         NaN\n",
            "463         NaN\n",
            "464         NaN\n",
            "465         NaN\n",
            "466         NaN\n",
            "467         NaN\n",
            "468         NaN\n",
            "469         NaN\n",
            "470         NaN\n",
            "471         NaN\n",
            "472         NaN\n",
            "473         NaN\n",
            "474         NaN\n",
            "475         NaN\n",
            "476         NaN\n",
            "477         NaN\n",
            "478         NaN\n",
            "479         NaN\n",
            "480         NaN\n",
            "481         NaN\n",
            "482         NaN\n",
            "483         NaN\n",
            "484         NaN\n",
            "485         NaN\n",
            "486         NaN\n",
            "487         NaN\n",
            "488         NaN\n",
            "489         NaN\n",
            "490         NaN\n",
            "491         NaN\n",
            "492         NaN\n",
            "493         NaN\n",
            "494         NaN\n",
            "495         NaN\n",
            "496         NaN\n",
            "497         NaN\n",
            "498         NaN\n",
            "499         NaN\n",
            "dtype: float64\n"
          ]
        }
      ]
    },
    {
      "cell_type": "code",
      "source": [
        "# 요약과 통계 연산\n",
        "\n",
        "# describe()\n",
        "s2 = pd.Series(np.random.randn(1000))\n",
        "s2[::2] = np.nan\n",
        "print(s2.describe()), print('-'*30)\n",
        "\n",
        "df = pd.DataFrame(np.random.randn(1000,4), columns=['a','b','c','d'])\n",
        "df.iloc[::2] = np.nan\n",
        "print(df.describe()), print('-'*30)\n",
        "\n",
        "# 출력에 포함할 특정 백분위수를 선택할 수 있음\n",
        "print(s2.describe(percentiles=[0.05, 0.25, 0.75, 0.95]))"
      ],
      "metadata": {
        "colab": {
          "base_uri": "https://localhost:8080/"
        },
        "id": "TRxLZVL3TPXW",
        "outputId": "8ab24134-4add-4be9-f2c5-180b5bb9ae5e"
      },
      "execution_count": null,
      "outputs": [
        {
          "output_type": "stream",
          "name": "stdout",
          "text": [
            "count    500.000000\n",
            "mean      -0.023498\n",
            "std        0.999061\n",
            "min       -3.359483\n",
            "25%       -0.698030\n",
            "50%       -0.080115\n",
            "75%        0.745869\n",
            "max        2.687528\n",
            "dtype: float64\n",
            "------------------------------\n",
            "                a           b           c           d\n",
            "count  500.000000  500.000000  500.000000  500.000000\n",
            "mean    -0.053265   -0.086127    0.004521   -0.063966\n",
            "std      0.999191    0.940253    1.006886    0.995312\n",
            "min     -3.259231   -2.765092   -4.357936   -3.761679\n",
            "25%     -0.768429   -0.720298   -0.608466   -0.702297\n",
            "50%     -0.036965   -0.052279    0.006832   -0.064997\n",
            "75%      0.633947    0.564432    0.672154    0.634819\n",
            "max      2.574205    2.342424    3.107050    2.975626\n",
            "------------------------------\n",
            "count    500.000000\n",
            "mean      -0.023498\n",
            "std        0.999061\n",
            "min       -3.359483\n",
            "5%        -1.684938\n",
            "25%       -0.698030\n",
            "50%       -0.080115\n",
            "75%        0.745869\n",
            "95%        1.623334\n",
            "max        2.687528\n",
            "dtype: float64\n",
            "------------------------------\n"
          ]
        },
        {
          "output_type": "execute_result",
          "data": {
            "text/plain": [
              "(None, None)"
            ]
          },
          "metadata": {},
          "execution_count": 43
        }
      ]
    },
    {
      "cell_type": "code",
      "source": [
        "# 요약과 통계 연산\n",
        "\n",
        "# describe()\n",
        "# 수치가 아닌 객체에 describe() 메소드를 적용하면, 유일값 수와 가장 빈번히 발생하는 값 요약\n",
        "s3 = pd.Series(['a','a','b','c','c',np.nan,'c','d'])\n",
        "print(s3.describe()), print('-'*30)\n",
        "\n",
        "# 범주형과 수치가 혼합된 타입의 데이터프레임 객체에 describe() 메소드를 적용하면 수치로 이루어진 열만 반환\n",
        "df = pd.DataFrame({'a': ['Yes','Yes','No','No'], 'b': range(4)})\n",
        "print(df.describe()), print('-'*30)\n",
        "\n",
        "# describe()에 include와 exclude (적용하지 않을 열 전달) 인수 적용 가능\n",
        "print(df.describe(include=['object'])), print('-'*30)\n",
        "print(df.describe(include=['number'])), print('-'*30)\n",
        "print(df.describe(include='all'))"
      ],
      "metadata": {
        "colab": {
          "base_uri": "https://localhost:8080/"
        },
        "id": "SjRUPh6BVjAn",
        "outputId": "af80618c-8bda-492c-87a9-85434dcf3fda"
      },
      "execution_count": null,
      "outputs": [
        {
          "output_type": "stream",
          "name": "stdout",
          "text": [
            "count     7\n",
            "unique    4\n",
            "top       c\n",
            "freq      3\n",
            "dtype: object\n",
            "------------------------------\n",
            "              b\n",
            "count  4.000000\n",
            "mean   1.500000\n",
            "std    1.290994\n",
            "min    0.000000\n",
            "25%    0.750000\n",
            "50%    1.500000\n",
            "75%    2.250000\n",
            "max    3.000000\n",
            "------------------------------\n",
            "          a\n",
            "count     4\n",
            "unique    2\n",
            "top     Yes\n",
            "freq      2\n",
            "------------------------------\n",
            "              b\n",
            "count  4.000000\n",
            "mean   1.500000\n",
            "std    1.290994\n",
            "min    0.000000\n",
            "25%    0.750000\n",
            "50%    1.500000\n",
            "75%    2.250000\n",
            "max    3.000000\n",
            "------------------------------\n",
            "          a         b\n",
            "count     4  4.000000\n",
            "unique    2       NaN\n",
            "top     Yes       NaN\n",
            "freq      2       NaN\n",
            "mean    NaN  1.500000\n",
            "std     NaN  1.290994\n",
            "min     NaN  0.000000\n",
            "25%     NaN  0.750000\n",
            "50%     NaN  1.500000\n",
            "75%     NaN  2.250000\n",
            "max     NaN  3.000000\n"
          ]
        }
      ]
    },
    {
      "cell_type": "code",
      "source": [
        "# 요약과 통계 연산\n",
        "\n",
        "# idxmax()와 idxmin() 메소드\n",
        "s1 = pd.Series(np.random.randn(5))\n",
        "print(s1), print('-'*20)\n",
        "\n",
        "print(s1.idxmin(), s1.idxmax())\n",
        "\n",
        "df = pd.DataFrame(np.random.randn(4,3), columns=['A', 'B', 'C'])\n",
        "print(df), print('-'*30)\n",
        "print(df.idxmin(axis=0)), print('-'*30)\n",
        "print(df.idxmin()), print('-'*30)\n",
        "print(df.idxmax(axis=1)), print('='*30)\n",
        "\n",
        "# 최소값과 최대값에 일치하는 행이나 열이 다수라면 첫 번째로 일치하는 인덱스 반환\n",
        "df1 = pd.DataFrame([2, 1, 1, 3, np.nan], columns=['A'], index=list('edcba'))\n",
        "print(df1), print('-'*30)\n",
        "\n",
        "print(df1['A'].idxmin())"
      ],
      "metadata": {
        "colab": {
          "base_uri": "https://localhost:8080/"
        },
        "id": "IxrSFGy9VoFM",
        "outputId": "7eefd38c-4616-43fc-b056-c7d353369d37"
      },
      "execution_count": null,
      "outputs": [
        {
          "output_type": "stream",
          "name": "stdout",
          "text": [
            "0   -0.746161\n",
            "1    0.074425\n",
            "2   -0.025729\n",
            "3    0.663635\n",
            "4    1.731401\n",
            "dtype: float64\n",
            "--------------------\n",
            "0 4\n",
            "          A         B         C\n",
            "0 -1.248322 -1.619103  0.471988\n",
            "1 -1.662002  1.227801  1.003069\n",
            "2  0.569126  1.077331  1.275057\n",
            "3  1.123960  0.861832 -0.173069\n",
            "------------------------------\n",
            "A    1\n",
            "B    0\n",
            "C    3\n",
            "dtype: int64\n",
            "------------------------------\n",
            "A    1\n",
            "B    0\n",
            "C    3\n",
            "dtype: int64\n",
            "------------------------------\n",
            "0    C\n",
            "1    B\n",
            "2    C\n",
            "3    A\n",
            "dtype: object\n",
            "==============================\n",
            "     A\n",
            "e  2.0\n",
            "d  1.0\n",
            "c  1.0\n",
            "b  3.0\n",
            "a  NaN\n",
            "------------------------------\n",
            "d\n"
          ]
        }
      ]
    },
    {
      "cell_type": "code",
      "source": [
        "# 요약과 통계 연산\n",
        "\n",
        "# value_counts() 메소드\n",
        "data = np.random.randint(0, 7, size=30)\n",
        "print(data), print('-'*60)\n",
        "\n",
        "s1 = pd.Series(data)\n",
        "print(s1.value_counts()), print('-'*30)\n",
        "\n",
        "print(pd.value_counts(data))\n"
      ],
      "metadata": {
        "colab": {
          "base_uri": "https://localhost:8080/"
        },
        "id": "H9quu6gMYFGT",
        "outputId": "01e19006-b1b1-404b-bb29-c3d38108ce7e"
      },
      "execution_count": null,
      "outputs": [
        {
          "output_type": "stream",
          "name": "stdout",
          "text": [
            "[5 3 5 5 5 0 4 2 4 5 4 5 2 5 5 4 3 2 2 3 4 5 1 3 2 6 1 6 5 4]\n",
            "------------------------------------------------------------\n",
            "5    10\n",
            "4     6\n",
            "2     5\n",
            "3     4\n",
            "1     2\n",
            "6     2\n",
            "0     1\n",
            "Name: count, dtype: int64\n",
            "------------------------------\n",
            "5    10\n",
            "4     6\n",
            "2     5\n",
            "3     4\n",
            "1     2\n",
            "6     2\n",
            "0     1\n",
            "Name: count, dtype: int64\n",
            "------------------------------\n"
          ]
        },
        {
          "output_type": "stream",
          "name": "stderr",
          "text": [
            "<ipython-input-50-cba9d4e31caa>:9: FutureWarning: pandas.value_counts is deprecated and will be removed in a future version. Use pd.Series(obj).value_counts() instead.\n",
            "  print(pd.value_counts(data)), print('-'*30)\n"
          ]
        },
        {
          "output_type": "execute_result",
          "data": {
            "text/plain": [
              "(None, None)"
            ]
          },
          "metadata": {},
          "execution_count": 50
        }
      ]
    },
    {
      "cell_type": "code",
      "source": [
        "# 요약과 통계 연산\n",
        "\n",
        "# cut() 함수\n",
        "print(pd.cut(np.array([1, 7, 5, 4, 6, 3]), bins=3)), print('='*80)\n",
        "\n",
        "# 인수 retbins=True는 구간 값을 반환\n",
        "print(pd.cut(np.array([1, 7, 5, 4, 6, 3]), 3, retbins=True)), print('='*80)\n",
        "\n",
        "# 구간에 특정 라벨 ('bad', 'medium', 'good')을 할당하여 labels 범주를 반환하는 예\n",
        "print(pd.cut(np.array([1, 7, 5, 4, 6, 3]), 3, labels=['bad','medium','good'])), print('='*80)\n",
        "\n",
        "# labels=False를 입력하면 범주형 시리즈나 정수 배열을 반환\n",
        "print(pd.cut([0, 1, 1, 2], bins=4)), print('='*80)\n",
        "print(pd.cut([0, 1, 1, 2], bins=4, labels=False)), print('='*80)\n",
        "\n",
        "# cut()함수에 시리즈를 입력하면 categorical dtype인 시리즈를 반환\n",
        "s1 = pd.Series(np.array([2,4,6,8,10]), index=['a','b','c','d','e'])\n",
        "print(pd.cut(s1, bins=3))"
      ],
      "metadata": {
        "colab": {
          "base_uri": "https://localhost:8080/"
        },
        "id": "L4fsLz1cZSV2",
        "outputId": "474621b8-090d-418a-e588-4e98fb6605fe"
      },
      "execution_count": null,
      "outputs": [
        {
          "output_type": "stream",
          "name": "stdout",
          "text": [
            "[(0.994, 3.0], (5.0, 7.0], (3.0, 5.0], (3.0, 5.0], (5.0, 7.0], (0.994, 3.0]]\n",
            "Categories (3, interval[float64, right]): [(0.994, 3.0] < (3.0, 5.0] < (5.0, 7.0]]\n",
            "================================================================================\n",
            "([(0.994, 3.0], (5.0, 7.0], (3.0, 5.0], (3.0, 5.0], (5.0, 7.0], (0.994, 3.0]]\n",
            "Categories (3, interval[float64, right]): [(0.994, 3.0] < (3.0, 5.0] < (5.0, 7.0]], array([0.994, 3.   , 5.   , 7.   ]))\n",
            "================================================================================\n",
            "['bad', 'good', 'medium', 'medium', 'good', 'bad']\n",
            "Categories (3, object): ['bad' < 'medium' < 'good']\n",
            "================================================================================\n",
            "[(-0.002, 0.5], (0.5, 1.0], (0.5, 1.0], (1.5, 2.0]]\n",
            "Categories (4, interval[float64, right]): [(-0.002, 0.5] < (0.5, 1.0] < (1.0, 1.5] < (1.5, 2.0]]\n",
            "================================================================================\n",
            "[0 1 1 3]\n",
            "================================================================================\n",
            "a    (1.992, 4.667]\n",
            "b    (1.992, 4.667]\n",
            "c    (4.667, 7.333]\n",
            "d     (7.333, 10.0]\n",
            "e     (7.333, 10.0]\n",
            "dtype: category\n",
            "Categories (3, interval[float64, right]): [(1.992, 4.667] < (4.667, 7.333] < (7.333, 10.0]]\n"
          ]
        }
      ]
    },
    {
      "cell_type": "code",
      "source": [
        "# 요약과 통계 연산\n",
        "\n",
        "# qcut() 함수\n",
        "print(pd.qcut(range(5),4)), print('-'*70)\n",
        "\n",
        "print(pd.qcut(range(5), 3, labels=['good','medium','bad'])), print('-'*70)\n",
        "\n",
        "print(pd.qcut(range(5), 4, labels=False))"
      ],
      "metadata": {
        "colab": {
          "base_uri": "https://localhost:8080/"
        },
        "id": "P53N8wYTbhfR",
        "outputId": "efd1c832-bda2-4a0b-bb7d-232d0902639f"
      },
      "execution_count": null,
      "outputs": [
        {
          "output_type": "stream",
          "name": "stdout",
          "text": [
            "[(-0.001, 1.0], (-0.001, 1.0], (1.0, 2.0], (2.0, 3.0], (3.0, 4.0]]\n",
            "Categories (4, interval[float64, right]): [(-0.001, 1.0] < (1.0, 2.0] < (2.0, 3.0] < (3.0, 4.0]]\n",
            "----------------------------------------------------------------------\n",
            "['good', 'good', 'medium', 'bad', 'bad']\n",
            "Categories (3, object): ['good' < 'medium' < 'bad']\n",
            "----------------------------------------------------------------------\n",
            "[0 0 1 2 3]\n"
          ]
        }
      ]
    },
    {
      "cell_type": "code",
      "source": [
        "# 요약과 통계 연산\n",
        "\n",
        "# cut()과 qcut() 함수 차이\n",
        "random_sample = np.random.randn(25)\n",
        "print(pd.cut(random_sample, 5).value_counts())\n",
        "\n",
        "print(pd.qcut(random_sample, 5).value_counts())"
      ],
      "metadata": {
        "colab": {
          "base_uri": "https://localhost:8080/"
        },
        "id": "EELdEECUceQE",
        "outputId": "d0e1d5f9-7e55-4fd1-ecd5-be52d4baf1ac"
      },
      "execution_count": null,
      "outputs": [
        {
          "output_type": "stream",
          "name": "stdout",
          "text": [
            "(-1.738, -1.1]     1\n",
            "(-1.1, -0.466]     0\n",
            "(-0.466, 0.169]    3\n",
            "(0.169, 0.804]     0\n",
            "(0.804, 1.439]     1\n",
            "Name: count, dtype: int64\n",
            "(-1.736, -0.436]    2\n",
            "(-0.436, -0.105]    1\n",
            "(-0.105, 0.122]     1\n",
            "(0.122, 1.439]      1\n",
            "Name: count, dtype: int64\n"
          ]
        }
      ]
    }
  ]
}