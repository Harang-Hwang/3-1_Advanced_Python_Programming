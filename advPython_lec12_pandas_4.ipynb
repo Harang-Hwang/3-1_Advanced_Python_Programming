{
  "nbformat": 4,
  "nbformat_minor": 0,
  "metadata": {
    "colab": {
      "provenance": []
    },
    "kernelspec": {
      "name": "python3",
      "display_name": "Python 3"
    },
    "language_info": {
      "name": "python"
    }
  },
  "cells": [
    {
      "cell_type": "markdown",
      "source": [
        "### 12주차 강의"
      ],
      "metadata": {
        "id": "5IDLlppdN5h5"
      }
    },
    {
      "cell_type": "code",
      "source": [
        "import numpy as np\n",
        "import pandas as pd"
      ],
      "metadata": {
        "id": "FttxjvOeMCdq"
      },
      "execution_count": null,
      "outputs": []
    },
    {
      "cell_type": "code",
      "source": [
        "# 3. 데이터 처리\n",
        "\n",
        "# 손실 데이터 처리\n",
        "d = {'one': [1.5, 2.2, -3.0], 'two': [1.0, -1.2, 5.0], 'three': [-1.1, 2.0, 4.0]}\n",
        "df = pd.DataFrame(d, index = ['a', 'c', 'f'])\n",
        "df['four'] = 'ha'\n",
        "df['five'] = df['one'] > 0\n",
        "print(df), print('='*30)\n",
        "\n",
        "df1 = df.reindex(['a', 'b', 'c', 'd', 'e', 'f'])\n",
        "print(df1), print('='*30)\n",
        "\n",
        "print(df1['one']), print('='*30)\n",
        "\n",
        "# 결측치 여부를 Boolean 마스크로 반환\n",
        "print(pd.isna(df1['one'])), print('='*30)\n",
        "\n",
        "print(df1['four'].notna()), print('='*30)\n",
        "\n",
        "print(None == None) # None은 파이썬 내장 상수로 하나만 존재함\n",
        "\n",
        "print(np.nan == np.nan) # NaN는 그 어떤 값과도 같지 않도록 정의됨"
      ],
      "metadata": {
        "colab": {
          "base_uri": "https://localhost:8080/"
        },
        "id": "PAfrOGtPEVNz",
        "outputId": "cd91b514-ce2f-494b-b99f-f5f1664c495a"
      },
      "execution_count": null,
      "outputs": [
        {
          "output_type": "stream",
          "name": "stdout",
          "text": [
            "   one  two  three four   five\n",
            "a  1.5  1.0   -1.1   ha   True\n",
            "c  2.2 -1.2    2.0   ha   True\n",
            "f -3.0  5.0    4.0   ha  False\n",
            "==============================\n",
            "   one  two  three four   five\n",
            "a  1.5  1.0   -1.1   ha   True\n",
            "b  NaN  NaN    NaN  NaN    NaN\n",
            "c  2.2 -1.2    2.0   ha   True\n",
            "d  NaN  NaN    NaN  NaN    NaN\n",
            "e  NaN  NaN    NaN  NaN    NaN\n",
            "f -3.0  5.0    4.0   ha  False\n",
            "==============================\n",
            "a    1.5\n",
            "b    NaN\n",
            "c    2.2\n",
            "d    NaN\n",
            "e    NaN\n",
            "f   -3.0\n",
            "Name: one, dtype: float64\n",
            "==============================\n",
            "a    False\n",
            "b     True\n",
            "c    False\n",
            "d     True\n",
            "e     True\n",
            "f    False\n",
            "Name: one, dtype: bool\n",
            "==============================\n",
            "a     True\n",
            "b    False\n",
            "c     True\n",
            "d    False\n",
            "e    False\n",
            "f     True\n",
            "Name: four, dtype: bool\n",
            "==============================\n",
            "True\n",
            "False\n"
          ]
        }
      ]
    },
    {
      "cell_type": "code",
      "source": [
        "# 3. 데이터 처리\n",
        "\n",
        "# 손실 데이터 처리: reindexed (1)\n",
        "df = pd.DataFrame({'col1': [1, 2], 'col2': [3, 4]}, index=['row1', 'row2'])\n",
        "print(\"원본 DataFrame: \\n\", df), print('='*50)\n",
        "\n",
        "# 새로운 인덱스 및 컬럼으로 재인덱싱\n",
        "new_index = ['row1', 'row3', 'row2', 'row4']\n",
        "new_columns = ['col2', 'col3', 'col1']\n",
        "df2 = df.reindex(index=new_index, columns=new_columns)\n",
        "print(\"\\n새로운 인덱스 및 컬럼으로 재인덱싱: \\n\", df2), print('='*50)\n",
        "\n",
        "# fill_value로 누락된 값 채우기\n",
        "df2_filled = df2.reindex(index=new_index, columns=new_columns, fill_value=1e6)\n",
        "print(\"\\nfill_value로 채우기: \\n\", df2_filled)"
      ],
      "metadata": {
        "colab": {
          "base_uri": "https://localhost:8080/"
        },
        "id": "mFb63MK4HwSS",
        "outputId": "0451974f-f82c-493c-87b8-1ce85aac6933"
      },
      "execution_count": null,
      "outputs": [
        {
          "output_type": "stream",
          "name": "stdout",
          "text": [
            "원본 DataFrame: \n",
            "       col1  col2\n",
            "row1     1     3\n",
            "row2     2     4\n",
            "==================================================\n",
            "\n",
            "새로운 인덱스 및 컬럼으로 재인덱싱: \n",
            "       col2  col3  col1\n",
            "row1   3.0   NaN   1.0\n",
            "row3   NaN   NaN   NaN\n",
            "row2   4.0   NaN   2.0\n",
            "row4   NaN   NaN   NaN\n",
            "==================================================\n",
            "\n",
            "fill_value로 채우기: \n",
            "       col2  col3  col1\n",
            "row1   3.0   NaN   1.0\n",
            "row3   NaN   NaN   NaN\n",
            "row2   4.0   NaN   2.0\n",
            "row4   NaN   NaN   NaN\n"
          ]
        }
      ]
    },
    {
      "cell_type": "code",
      "source": [
        "# 3. 데이터 처리\n",
        "\n",
        "# 손실 데이터 처리: reindexed (2)\n",
        "# 행 방향으로 method='bfill' (backward fill, 다음 유효값) 적용\n",
        "# 참고: method='backfill'과 같음\n",
        "df3 = pd.DataFrame({'price': [10, 11, np.nan, 12]}, index=[1, 2, 3, 4])\n",
        "print(\"\\ndf3: \\n\", df3), print('='*50)\n",
        "\n",
        "df3_bfill = df3.reindex(range(6), method='bfill')\n",
        "print(\"\\n행 방향으로 method='bfill' 적용: \\n\", df3_bfill), print('='*50)\n",
        "\n",
        "# 행 방향으로 method='ffill' (forward fill, 이전 유효값) 적용\n",
        "# 참고: method='pad'와 같음\n",
        "df3_ffill = df3.reindex(range(6), method='ffill')\n",
        "print(\"\\n행 방향으로 method='ffill' 적용: \\n\", df3_ffill)"
      ],
      "metadata": {
        "colab": {
          "base_uri": "https://localhost:8080/"
        },
        "id": "4mFtJjyvrrNP",
        "outputId": "2d1be23a-0c48-475a-b871-9ca5a4c78a21"
      },
      "execution_count": null,
      "outputs": [
        {
          "output_type": "stream",
          "name": "stdout",
          "text": [
            "\n",
            "df3: \n",
            "    price\n",
            "1   10.0\n",
            "2   11.0\n",
            "3    NaN\n",
            "4   12.0\n",
            "==================================================\n",
            "\n",
            "행 방향으로 method='bfill' 적용: \n",
            "    price\n",
            "0   10.0\n",
            "1   10.0\n",
            "2   11.0\n",
            "3    NaN\n",
            "4   12.0\n",
            "5    NaN\n",
            "==================================================\n",
            "\n",
            "행 방향으로 method='ffill' 적용: \n",
            "    price\n",
            "0    NaN\n",
            "1   10.0\n",
            "2   11.0\n",
            "3    NaN\n",
            "4   12.0\n",
            "5   12.0\n"
          ]
        }
      ]
    },
    {
      "cell_type": "code",
      "source": [
        "# 3. 데이터 처리\n",
        "\n",
        "# 손실 데이터 처리: 손실 데이터 계산\n",
        "df1 = pd.DataFrame({'one':[1.0, 2.0, 3.0], 'two':[4.0, 5.0, 6.0]}, index=['a','b','c'])\n",
        "df2 = df1.copy()\n",
        "df2.loc['d'] = np.nan\n",
        "df2['three'] = 2.0\n",
        "df2.iloc[1:2, 1:2] = np.nan\n",
        "\n",
        "print(df1), print('='*50)\n",
        "print(df2), print('='*50)\n",
        "# DataFrame간 산술 연산은 인덱스와 컬럼 라벨을 정렬 후, 대응하는 라벨에 대해 연산\n",
        "print(f'df1 + df2: \\n{df1 + df2}'), print('='*50)\n",
        "\n",
        "# groupby에서 NaN는 자동으로 제외됨\n",
        "# 'two' 컬럼의 값을 기준으로 df2를 그룹화\n",
        "print(df2.groupby('two').mean()), print('='*50)\n",
        "\n",
        "# 값이 비어있거나 모두 NaN인 시리즈의 합은 0이고 곱은 1임\n",
        "print(pd.Series([np.nan]).sum()), print('='*50)\n",
        "print(pd.Series([], dtype=object).sum()), print('='*50)\n",
        "\n",
        "print(pd.Series([np.nan]).prod()), print('='*50)\n",
        "print(pd.Series([], dtype=object).prod())"
      ],
      "metadata": {
        "colab": {
          "base_uri": "https://localhost:8080/"
        },
        "id": "09JGKGc4Mg19",
        "outputId": "c65bb52f-a3d9-4aec-f3a1-6e587019e721"
      },
      "execution_count": null,
      "outputs": [
        {
          "output_type": "stream",
          "name": "stdout",
          "text": [
            "   one  two\n",
            "a  1.0  4.0\n",
            "b  2.0  5.0\n",
            "c  3.0  6.0\n",
            "==================================================\n",
            "   one  two  three\n",
            "a  1.0  4.0    2.0\n",
            "b  2.0  NaN    2.0\n",
            "c  3.0  6.0    2.0\n",
            "d  NaN  NaN    2.0\n",
            "==================================================\n",
            "df1 + df2: \n",
            "   one  three   two\n",
            "a  2.0    NaN   8.0\n",
            "b  4.0    NaN   NaN\n",
            "c  6.0    NaN  12.0\n",
            "d  NaN    NaN   NaN\n",
            "==================================================\n",
            "     one  three\n",
            "two            \n",
            "4.0  1.0    2.0\n",
            "6.0  3.0    2.0\n",
            "==================================================\n",
            "0.0\n",
            "==================================================\n",
            "0\n",
            "==================================================\n",
            "1.0\n",
            "==================================================\n",
            "1\n"
          ]
        }
      ]
    },
    {
      "cell_type": "code",
      "source": [
        "# 3. 데이터 처리\n",
        "\n",
        "# 손실 데이터 처리: 손실 데이터 채우기 (1)\n",
        "df2 = pd.DataFrame({'one':[1.0, 2.0, 3.0], 'two':[4.0, 5.0, 6.0]}, index=['a','b','c'])\n",
        "df2.loc['d'] = np.nan\n",
        "df2['three'] = 2\n",
        "df2.iloc[1:2, 1:2] = np.nan\n",
        "print(df2), print('='*50)\n",
        "\n",
        "print(df2.fillna(0)), print('='*50)\n",
        "\n",
        "print(df2['one'].fillna('missing')), print('='*50)\n",
        "\n",
        "print(df2.mean()), print('='*50)\n",
        "\n",
        "print(df2.fillna(df2.mean())), print('='*50)\n",
        "\n",
        "# 'pad'는 'ffill'과 같이 바로 이전의 유효한 값으로 채움\n",
        "print(df2.fillna(method='pad')), print('='*50)  # FutureWarning\n",
        "\n",
        "df2.loc['c', 'three'] = np.nan\n",
        "print(df2)\n",
        "\n"
      ],
      "metadata": {
        "colab": {
          "base_uri": "https://localhost:8080/"
        },
        "id": "V5RH2_EFMjfh",
        "outputId": "76c52115-ed03-4335-c235-1da983e6878e"
      },
      "execution_count": null,
      "outputs": [
        {
          "output_type": "stream",
          "name": "stdout",
          "text": [
            "   one  two  three\n",
            "a  1.0  4.0      2\n",
            "b  2.0  NaN      2\n",
            "c  3.0  6.0      2\n",
            "d  NaN  NaN      2\n",
            "==================================================\n",
            "   one  two  three\n",
            "a  1.0  4.0      2\n",
            "b  2.0  0.0      2\n",
            "c  3.0  6.0      2\n",
            "d  0.0  0.0      2\n",
            "==================================================\n",
            "a        1.0\n",
            "b        2.0\n",
            "c        3.0\n",
            "d    missing\n",
            "Name: one, dtype: object\n",
            "==================================================\n",
            "one      2.0\n",
            "two      5.0\n",
            "three    2.0\n",
            "dtype: float64\n",
            "==================================================\n",
            "   one  two  three\n",
            "a  1.0  4.0      2\n",
            "b  2.0  5.0      2\n",
            "c  3.0  6.0      2\n",
            "d  2.0  5.0      2\n",
            "==================================================\n",
            "   one  two  three\n",
            "a  1.0  4.0      2\n",
            "b  2.0  4.0      2\n",
            "c  3.0  6.0      2\n",
            "d  3.0  6.0      2\n",
            "==================================================\n",
            "   one  two  three\n",
            "a  1.0  4.0    2.0\n",
            "b  2.0  NaN    2.0\n",
            "c  3.0  6.0    NaN\n",
            "d  NaN  NaN    2.0\n"
          ]
        },
        {
          "output_type": "stream",
          "name": "stderr",
          "text": [
            "<ipython-input-6-3c9349d61f0e>:19: FutureWarning: DataFrame.fillna with 'method' is deprecated and will raise in a future version. Use obj.ffill() or obj.bfill() instead.\n",
            "  print(df2.fillna(method='pad')), print('='*50)  # FutureWarning\n"
          ]
        }
      ]
    },
    {
      "cell_type": "code",
      "source": [
        "# 3. 데이터 처리\n",
        "\n",
        "# 손실 데이터 처리: 손실 데이터 채우기 (2)\n",
        "data=[[np.nan, 2, 0, np.nan], [3, 4, np.nan, 1], [np.nan, 5, np.nan, 2], [np.nan, 1, 2, 3]]\n",
        "df = pd.DataFrame(data, columns=list('ABCD'))\n",
        "print(df), print('='*50)\n",
        "\n",
        "print(df.fillna(method='ffill')), print('='*50) # FutureWarning\n",
        "\n",
        "val = {'A': 0, 'B': 1, 'C': 2, 'D': 3}\n",
        "print(df.fillna(value=val)), print('='*50)\n",
        "\n",
        "# limit=1 파라미터 때문에 각 컬럼별로 최대 1개의 결측치만 채움\n",
        "print(df.fillna(value=val, limit=1))\n"
      ],
      "metadata": {
        "colab": {
          "base_uri": "https://localhost:8080/"
        },
        "id": "T1CodYL2Q0cE",
        "outputId": "567de49b-7193-4f6e-b67f-dd16c02fafcd"
      },
      "execution_count": null,
      "outputs": [
        {
          "output_type": "stream",
          "name": "stdout",
          "text": [
            "     A  B    C    D\n",
            "0  NaN  2  0.0  NaN\n",
            "1  3.0  4  NaN  1.0\n",
            "2  NaN  5  NaN  2.0\n",
            "3  NaN  1  2.0  3.0\n",
            "==================================================\n",
            "     A  B    C    D\n",
            "0  NaN  2  0.0  NaN\n",
            "1  3.0  4  0.0  1.0\n",
            "2  3.0  5  0.0  2.0\n",
            "3  3.0  1  2.0  3.0\n",
            "==================================================\n",
            "     A  B    C    D\n",
            "0  0.0  2  0.0  3.0\n",
            "1  3.0  4  2.0  1.0\n",
            "2  0.0  5  2.0  2.0\n",
            "3  0.0  1  2.0  3.0\n",
            "==================================================\n",
            "     A  B    C    D\n",
            "0  0.0  2  0.0  3.0\n",
            "1  3.0  4  2.0  1.0\n",
            "2  NaN  5  NaN  2.0\n",
            "3  NaN  1  2.0  3.0\n"
          ]
        },
        {
          "output_type": "stream",
          "name": "stderr",
          "text": [
            "<ipython-input-52-1c9676f4307b>:8: FutureWarning: DataFrame.fillna with 'method' is deprecated and will raise in a future version. Use obj.ffill() or obj.bfill() instead.\n",
            "  print(df.fillna(method='ffill')), print('='*50)\n"
          ]
        }
      ]
    },
    {
      "cell_type": "code",
      "source": [
        "# 3. 데이터 처리\n",
        "\n",
        "# 손실 데이터 처리: 손실 데이터 채우기 (3)\n",
        "df2 = pd.DataFrame({'one':[1.0, 2.0, 3.0], 'two':[4.0, 5.0, 6.0]}, index=['a','b','c'])\n",
        "df2.loc['d'] = np.nan\n",
        "df2['three'] = 2.0\n",
        "df2.iloc[1:2, 1:2] = np.nan\n",
        "print(df2), print('='*50)\n",
        "\n",
        "# dropna() 메소드 -> 결측치가 있는 행 또는 열 제거\n",
        "print(df2.dropna(axis=0)), print('='*50)\n",
        "\n",
        "print(df2.dropna(axis=1)), print('='*50)\n",
        "\n",
        "print(df2['two'].dropna())"
      ],
      "metadata": {
        "colab": {
          "base_uri": "https://localhost:8080/"
        },
        "id": "zxsm_nVBbFdp",
        "outputId": "c0abed47-5d97-4d6f-b1f6-96b9207ada08"
      },
      "execution_count": null,
      "outputs": [
        {
          "output_type": "stream",
          "name": "stdout",
          "text": [
            "   one  two  three\n",
            "a  1.0  4.0    2.0\n",
            "b  2.0  NaN    2.0\n",
            "c  3.0  6.0    2.0\n",
            "d  NaN  NaN    2.0\n",
            "==================================================\n",
            "   one  two  three\n",
            "a  1.0  4.0    2.0\n",
            "c  3.0  6.0    2.0\n",
            "==================================================\n",
            "   three\n",
            "a    2.0\n",
            "b    2.0\n",
            "c    2.0\n",
            "d    2.0\n",
            "==================================================\n",
            "a    4.0\n",
            "c    6.0\n",
            "Name: two, dtype: float64\n"
          ]
        }
      ]
    },
    {
      "cell_type": "code",
      "source": [
        "# 3. 데이터 처리\n",
        "\n",
        "# 손실 데이터 처리: 손실 데이터 채우기 (4)\n",
        "# NaT(Not a Time): 시계열 데이터의 결측치\n",
        "df = pd.DataFrame({ 'name': ['haena', 'suho', 'naeun'],\n",
        "                    'hobby': ['jogging', 'reading', np.nan],\n",
        "                    'born': [pd.NaT, pd.Timestamp('2001-01-01'), pd.NaT]})\n",
        "                   #'born': [np.nan, pd.Timestamp('2001-01-01'), np.nan]})\n",
        "print(df), print('='*50)\n",
        "\n",
        "print(df.dropna()), print('='*50)   # 행 제거\n",
        "print(df.dropna(axis='columns')), print('='*50) # 열 제거\n",
        "\n",
        "# how='any' (default): 하나라도 결측치가 있으면 해당 행 또는 열을 제거\n",
        "# how='all': 행 또는 열의 모든 값이 결측치여야 해당 행 또는 열을 제거\n",
        "print(df.dropna(how='all')), print('='*50)\n",
        "\n",
        "# 결측치가 아닌 값의 개수가 최소 2개 이상인 행만 남김\n",
        "print(df.dropna(thresh=2)), print('='*50)\n",
        "print(df.dropna(subset=['name', 'born'])), print('='*50)\n",
        "print(df.dropna(subset=['hobby'])), print('='*50)\n",
        "\n",
        "# 결측치가 있는 행을 제거하고 그 결과를 원본 df에 직접 반영\n",
        "# inplace=True이므로 새로운 DataFrame을 반환하지 않고 None을 반환\n",
        "print(df.dropna(inplace=True)), print('='*50)\n",
        "print(df)"
      ],
      "metadata": {
        "colab": {
          "base_uri": "https://localhost:8080/"
        },
        "id": "XpUdePUpRBL6",
        "outputId": "0ef8f57f-d74e-4881-c2c9-246fb77f1370"
      },
      "execution_count": null,
      "outputs": [
        {
          "output_type": "stream",
          "name": "stdout",
          "text": [
            "    name    hobby       born\n",
            "0  haena  jogging        NaT\n",
            "1   suho  reading 2001-01-01\n",
            "2  naeun      NaN        NaT\n",
            "==================================================\n",
            "   name    hobby       born\n",
            "1  suho  reading 2001-01-01\n",
            "==================================================\n",
            "    name\n",
            "0  haena\n",
            "1   suho\n",
            "2  naeun\n",
            "==================================================\n",
            "    name    hobby       born\n",
            "0  haena  jogging        NaT\n",
            "1   suho  reading 2001-01-01\n",
            "2  naeun      NaN        NaT\n",
            "==================================================\n",
            "    name    hobby       born\n",
            "0  haena  jogging        NaT\n",
            "1   suho  reading 2001-01-01\n",
            "==================================================\n",
            "   name    hobby       born\n",
            "1  suho  reading 2001-01-01\n",
            "==================================================\n",
            "    name    hobby       born\n",
            "0  haena  jogging        NaT\n",
            "1   suho  reading 2001-01-01\n",
            "==================================================\n",
            "None\n",
            "==================================================\n",
            "   name    hobby       born\n",
            "1  suho  reading 2001-01-01\n"
          ]
        }
      ]
    },
    {
      "cell_type": "code",
      "source": [
        "# 3. 데이터 처리\n",
        "\n",
        "# 손실 데이터 처리: 손실 데이터 채우기 (5)\n",
        "ser = pd.Series([0, np.nan, 2, 3, 5])\n",
        "print(ser), print('='*50)\n",
        "\n",
        "# ser.replace(치환할 값, 대체할 값, inplace=False)\n",
        "# 치환할 값: 스칼라, 리스트, 딕셔너리{old_value : new_value}\n",
        "# 대체할 값: 스칼라, 리스트, 딕셔너리{old_value : new_value}\n",
        "print(ser.replace(np.nan, 1.0)), print('='*50)\n",
        "\n",
        "print(ser.replace({np.nan: 1, 5: 4})), print('='*50)\n",
        "\n",
        "print(ser.replace([0, 2], 1)), print('='*50)\n",
        "\n",
        "print(ser.replace([np.nan, 5], [1, np.nan])) # 같은 위치의 값으로 순서대로"
      ],
      "metadata": {
        "colab": {
          "base_uri": "https://localhost:8080/"
        },
        "id": "8IxsCkjaRHvK",
        "outputId": "31d18770-1fe1-4394-d590-48a31d6c1bc4"
      },
      "execution_count": null,
      "outputs": [
        {
          "output_type": "stream",
          "name": "stdout",
          "text": [
            "0    0.0\n",
            "1    NaN\n",
            "2    2.0\n",
            "3    3.0\n",
            "4    5.0\n",
            "dtype: float64\n",
            "==================================================\n",
            "0    0.0\n",
            "1    1.0\n",
            "2    2.0\n",
            "3    3.0\n",
            "4    5.0\n",
            "dtype: float64\n",
            "==================================================\n",
            "0    0.0\n",
            "1    1.0\n",
            "2    2.0\n",
            "3    3.0\n",
            "4    4.0\n",
            "dtype: float64\n",
            "==================================================\n",
            "0    1.0\n",
            "1    NaN\n",
            "2    1.0\n",
            "3    3.0\n",
            "4    5.0\n",
            "dtype: float64\n",
            "==================================================\n",
            "0    0.0\n",
            "1    1.0\n",
            "2    2.0\n",
            "3    3.0\n",
            "4    NaN\n",
            "dtype: float64\n"
          ]
        }
      ]
    },
    {
      "cell_type": "code",
      "source": [
        "# 3. 데이터 처리\n",
        "\n",
        "# 멀티인덱스: 객체 생성 (1) from_arrays\n",
        "arrays = [['IVE', 'IVE', 'AESPA', 'AESPA'],         # 레벨0\n",
        "          ['Wonyoung', 'Liz', 'Winter', 'Karina']]  # 레벨1\n",
        "\n",
        "multi_index_arrays = pd.MultiIndex.from_arrays(arrays, names=['그룹', '이름'])\n",
        "print(multi_index_arrays), print('='*50)\n",
        "\n",
        "arr = [np.array(['ha', 'ha', 'hi', 'hi', 'ho', 'ho']),        # 레벨0\n",
        "       np.array(['one', 'two', 'one', 'two', 'one', 'two'])]  # 레벨1\n",
        "print(arr), print('='*50)\n",
        "\n",
        "ser = pd.Series(np.random.randn(6), index=arr)\n",
        "print(ser), print('='*50)\n",
        "\n",
        "df = pd.DataFrame(np.random.randn(6, 3), index=arr)\n",
        "print(df), print('='*50)\n",
        "\n",
        "df = pd.DataFrame(np.random.randn(3, 6), index=['A', 'B', 'C'], columns=arr)\n",
        "print(df)"
      ],
      "metadata": {
        "colab": {
          "base_uri": "https://localhost:8080/"
        },
        "id": "PJonaqruhnAF",
        "outputId": "f42a0fe7-5e2a-4041-ac59-14e446aedfac"
      },
      "execution_count": null,
      "outputs": [
        {
          "output_type": "stream",
          "name": "stdout",
          "text": [
            "MultiIndex([(  'IVE', 'Wonyoung'),\n",
            "            (  'IVE',      'Liz'),\n",
            "            ('AESPA',   'Winter'),\n",
            "            ('AESPA',   'Karina')],\n",
            "           names=['그룹', '이름'])\n",
            "==================================================\n",
            "[array(['ha', 'ha', 'hi', 'hi', 'ho', 'ho'], dtype='<U2'), array(['one', 'two', 'one', 'two', 'one', 'two'], dtype='<U3')]\n",
            "==================================================\n",
            "ha  one   -1.444844\n",
            "    two   -1.264154\n",
            "hi  one    0.796867\n",
            "    two   -0.507451\n",
            "ho  one   -2.273680\n",
            "    two   -1.697755\n",
            "dtype: float64\n",
            "==================================================\n",
            "               0         1         2\n",
            "ha one  0.051049  0.302227  0.716449\n",
            "   two  1.030459 -1.078690 -2.461462\n",
            "hi one -0.893698 -0.594784 -0.695074\n",
            "   two  0.705596  0.509806  1.932706\n",
            "ho one -0.305488 -1.606211 -0.517545\n",
            "   two  0.377620  0.442207  1.119286\n",
            "==================================================\n",
            "         ha                  hi                  ho          \n",
            "        one       two       one       two       one       two\n",
            "A -0.100395 -1.260629 -0.953000 -0.502841 -0.873240 -0.205307\n",
            "B  0.122393 -0.432748 -0.304985  0.358943 -0.602972  0.163765\n",
            "C -0.635100 -0.019974  0.488372  1.666418  1.638031 -1.263082\n"
          ]
        }
      ]
    },
    {
      "cell_type": "code",
      "source": [
        "# 3. 데이터 처리\n",
        "\n",
        "# 멀티인덱스: 객체 생성 (2) from_frame\n",
        "df = pd.DataFrame([['ha', 'one'], ['ha', 'two'], ['ho', 'one'], ['ho', 'two']],columns=['1st', '2nd'])\n",
        "print(df), print('='*30)\n",
        "\n",
        "pd.MultiIndex.from_frame(df)"
      ],
      "metadata": {
        "colab": {
          "base_uri": "https://localhost:8080/"
        },
        "id": "kSKwwBNuh7Dg",
        "outputId": "2402591d-e816-4489-ca5b-09cb4b73bb8c"
      },
      "execution_count": null,
      "outputs": [
        {
          "output_type": "stream",
          "name": "stdout",
          "text": [
            "  1st  2nd\n",
            "0  ha  one\n",
            "1  ha  two\n",
            "2  ho  one\n",
            "3  ho  two\n",
            "==============================\n"
          ]
        },
        {
          "output_type": "execute_result",
          "data": {
            "text/plain": [
              "MultiIndex([('ha', 'one'),\n",
              "            ('ha', 'two'),\n",
              "            ('ho', 'one'),\n",
              "            ('ho', 'two')],\n",
              "           names=['1st', '2nd'])"
            ]
          },
          "metadata": {},
          "execution_count": 11
        }
      ]
    },
    {
      "cell_type": "code",
      "source": [
        "# 3. 데이터 처리\n",
        "\n",
        "# 멀티인덱스: 객체 생성 (3) from_tuples\n",
        "tuples = [('IVE', 'Wonyoung'), ('IVE', 'Liz'), ('AESPA', 'Winter'), ('AESPA', 'Karina')]\n",
        "print(tuples), print('='*80)\n",
        "\n",
        "multi_index_tuples = pd.MultiIndex.from_tuples(tuples, names=['그룹', '이름'])\n",
        "print(multi_index_tuples), print('='*80)\n",
        "\n",
        "\n",
        "li = [['ha', 'ha', 'hi', 'hi', 'ho', 'ho'], ['one', 'two', 'one', 'two', 'one', 'two']]\n",
        "li1 = list(zip(*li))  # *는 언패킹(unpacking) 연산자, zip()은 같은 위치에 있는 요소들끼리 짝지어 튜플을 만듦\n",
        "print(li1), print('='*80)\n",
        "\n",
        "ind = pd.MultiIndex.from_tuples(li1, names=['1st', '2nd'])\n",
        "print(ind), print('='*80)\n",
        "\n",
        "ser = pd.Series(np.random.randn(6), index=ind)\n",
        "print(ser)"
      ],
      "metadata": {
        "colab": {
          "base_uri": "https://localhost:8080/"
        },
        "id": "6Wi761-ph7IK",
        "outputId": "a64ded9b-d626-4041-ae5c-973a86d46006"
      },
      "execution_count": null,
      "outputs": [
        {
          "output_type": "stream",
          "name": "stdout",
          "text": [
            "[('IVE', 'Wonyoung'), ('IVE', 'Liz'), ('AESPA', 'Winter'), ('AESPA', 'Karina')]\n",
            "================================================================================\n",
            "MultiIndex([(  'IVE', 'Wonyoung'),\n",
            "            (  'IVE',      'Liz'),\n",
            "            ('AESPA',   'Winter'),\n",
            "            ('AESPA',   'Karina')],\n",
            "           names=['그룹', '이름'])\n",
            "================================================================================\n",
            "[('ha', 'one'), ('ha', 'two'), ('hi', 'one'), ('hi', 'two'), ('ho', 'one'), ('ho', 'two')]\n",
            "================================================================================\n",
            "MultiIndex([('ha', 'one'),\n",
            "            ('ha', 'two'),\n",
            "            ('hi', 'one'),\n",
            "            ('hi', 'two'),\n",
            "            ('ho', 'one'),\n",
            "            ('ho', 'two')],\n",
            "           names=['1st', '2nd'])\n",
            "================================================================================\n",
            "1st  2nd\n",
            "ha   one    0.436787\n",
            "     two   -0.145452\n",
            "hi   one   -0.935653\n",
            "     two    1.410856\n",
            "ho   one   -0.607751\n",
            "     two    1.115869\n",
            "dtype: float64\n"
          ]
        }
      ]
    },
    {
      "cell_type": "code",
      "source": [
        "# 3. 데이터 처리\n",
        "\n",
        "# 멀티인덱스: 객체 생성 (4) from_product\n",
        "groups = ['IVE', 'AESPA']                           # 레벨0\n",
        "names = ['Wonyoung', 'Liz', 'Winter', 'Karina']     # 레벨1\n",
        "multi_index_product = pd.MultiIndex.from_product([groups, names], names=['그룹', '이름'])\n",
        "print(multi_index_product), print('='*80)\n",
        "\n",
        "iter = [['ha', 'hi', 'ho'], ['one', 'two']]\n",
        "print(pd.MultiIndex.from_product(iter, names=['1st', '2nd']))"
      ],
      "metadata": {
        "colab": {
          "base_uri": "https://localhost:8080/"
        },
        "id": "l4LuxiwRh7GA",
        "outputId": "05000127-187f-4ee2-e30f-862aaca30fe0"
      },
      "execution_count": null,
      "outputs": [
        {
          "output_type": "stream",
          "name": "stdout",
          "text": [
            "MultiIndex([(  'IVE', 'Wonyoung'),\n",
            "            (  'IVE',      'Liz'),\n",
            "            (  'IVE',   'Winter'),\n",
            "            (  'IVE',   'Karina'),\n",
            "            ('AESPA', 'Wonyoung'),\n",
            "            ('AESPA',      'Liz'),\n",
            "            ('AESPA',   'Winter'),\n",
            "            ('AESPA',   'Karina')],\n",
            "           names=['그룹', '이름'])\n",
            "================================================================================\n",
            "MultiIndex([('ha', 'one'),\n",
            "            ('ha', 'two'),\n",
            "            ('hi', 'one'),\n",
            "            ('hi', 'two'),\n",
            "            ('ho', 'one'),\n",
            "            ('ho', 'two')],\n",
            "           names=['1st', '2nd'])\n"
          ]
        }
      ]
    },
    {
      "cell_type": "code",
      "source": [
        "# 3. 데이터 처리\n",
        "\n",
        "# 멀티인덱스: 인덱싱 (1)\n",
        "arr = [np.array(['ha', 'ha', 'hi', 'hi', 'ho', 'ho']),        # 레벨0\n",
        "       np.array(['one', 'two', 'one', 'two', 'one', 'two'])]  # 레벨1\n",
        "print(arr), print('='*50)\n",
        "\n",
        "df = pd.DataFrame(np.random.randn(3, 6), index=['A', 'B', 'C'], columns=arr)\n",
        "print(df), print('='*50)\n",
        "\n",
        "print(df['ha']), print('='*50)\n",
        "\n",
        "print(df['ha']['one']), print('='*50)\n",
        "\n",
        "\n",
        "ser = pd.Series(np.random.randn(6), index=arr)\n",
        "print(ser), print('='*50)\n",
        "\n",
        "print(ser.reindex([('ho', 'one'), ('ha', 'two')]))"
      ],
      "metadata": {
        "colab": {
          "base_uri": "https://localhost:8080/"
        },
        "id": "Nz-elbbwh69k",
        "outputId": "81679a23-3b13-455e-d81f-2fc9e13398fd"
      },
      "execution_count": null,
      "outputs": [
        {
          "output_type": "stream",
          "name": "stdout",
          "text": [
            "[array(['ha', 'ha', 'hi', 'hi', 'ho', 'ho'], dtype='<U2'), array(['one', 'two', 'one', 'two', 'one', 'two'], dtype='<U3')]\n",
            "==================================================\n",
            "         ha                  hi                  ho          \n",
            "        one       two       one       two       one       two\n",
            "A  0.486212 -1.500578  1.338625  1.064739 -0.861161 -0.048550\n",
            "B  1.014602  0.576160  0.718637 -1.196733 -2.920774  0.246061\n",
            "C  0.488492 -0.951324  1.618496 -1.112683  1.294821  0.194799\n",
            "==================================================\n",
            "        one       two\n",
            "A  0.486212 -1.500578\n",
            "B  1.014602  0.576160\n",
            "C  0.488492 -0.951324\n",
            "==================================================\n",
            "A    0.486212\n",
            "B    1.014602\n",
            "C    0.488492\n",
            "Name: one, dtype: float64\n",
            "==================================================\n",
            "ha  one   -0.770134\n",
            "    two   -0.846643\n",
            "hi  one    0.691360\n",
            "    two   -1.568186\n",
            "ho  one   -0.609667\n",
            "    two    0.790820\n",
            "dtype: float64\n",
            "==================================================\n",
            "ho  one   -0.609667\n",
            "ha  two   -0.846643\n",
            "dtype: float64\n"
          ]
        }
      ]
    },
    {
      "cell_type": "code",
      "source": [
        "# 3. 데이터 처리\n",
        "\n",
        "# 멀티인덱스: 인덱싱 (2)\n",
        "df = pd.DataFrame(np.random.randn(3, 6), index=['A', 'B', 'C'], columns=arr)\n",
        "print(df), print('='*50)\n",
        "\n",
        "df = df.T\n",
        "print(df), print('='*50)\n",
        "\n",
        "print(df.loc[('ha', 'two')]), print('='*50)\n",
        "print(df.loc[('ha', 'two'), 'A']), print('='*50)\n",
        "print(df.loc['ha']), print('='*50)\n",
        "print(df.loc['ha':'hi']), print('='*50)\n",
        "print(df.loc[('hi', 'two'):('ho', 'one')]), print('='*50)\n",
        "print(df.loc[('hi', 'two'):'ho']), print('='*50)\n",
        "print(df.loc[[('ha', 'two'), ('ho', 'one')]])"
      ],
      "metadata": {
        "colab": {
          "base_uri": "https://localhost:8080/"
        },
        "id": "P2Dluu63h66m",
        "outputId": "69609e45-4643-4a37-8672-b4c442d47e75"
      },
      "execution_count": null,
      "outputs": [
        {
          "output_type": "stream",
          "name": "stdout",
          "text": [
            "         ha                  hi                  ho          \n",
            "        one       two       one       two       one       two\n",
            "A  0.186847 -1.184557  1.250534 -1.283592  0.009752 -0.835926\n",
            "B  0.195396 -1.376633  0.677585 -0.154793 -0.846654 -0.680803\n",
            "C  0.899658  1.289674  0.820775  1.070275  0.103825  0.091563\n",
            "==================================================\n",
            "               A         B         C\n",
            "ha one  0.186847  0.195396  0.899658\n",
            "   two -1.184557 -1.376633  1.289674\n",
            "hi one  1.250534  0.677585  0.820775\n",
            "   two -1.283592 -0.154793  1.070275\n",
            "ho one  0.009752 -0.846654  0.103825\n",
            "   two -0.835926 -0.680803  0.091563\n",
            "==================================================\n",
            "A   -1.184557\n",
            "B   -1.376633\n",
            "C    1.289674\n",
            "Name: (ha, two), dtype: float64\n",
            "==================================================\n",
            "-1.1845568498145098\n",
            "==================================================\n",
            "            A         B         C\n",
            "one  0.186847  0.195396  0.899658\n",
            "two -1.184557 -1.376633  1.289674\n",
            "==================================================\n",
            "               A         B         C\n",
            "ha one  0.186847  0.195396  0.899658\n",
            "   two -1.184557 -1.376633  1.289674\n",
            "hi one  1.250534  0.677585  0.820775\n",
            "   two -1.283592 -0.154793  1.070275\n",
            "==================================================\n",
            "               A         B         C\n",
            "hi two -1.283592 -0.154793  1.070275\n",
            "ho one  0.009752 -0.846654  0.103825\n",
            "==================================================\n",
            "               A         B         C\n",
            "hi two -1.283592 -0.154793  1.070275\n",
            "ho one  0.009752 -0.846654  0.103825\n",
            "   two -0.835926 -0.680803  0.091563\n",
            "==================================================\n",
            "               A         B         C\n",
            "ha two -1.184557 -1.376633  1.289674\n",
            "ho one  0.009752 -0.846654  0.103825\n"
          ]
        }
      ]
    },
    {
      "cell_type": "code",
      "source": [
        "# 3. 데이터 처리\n",
        "\n",
        "# 멀티인덱스: 순서 정렬\n",
        "li = [['ha', 'ha', 'hi', 'hi', 'ho', 'ho'], ['one', 'two', 'one', 'two', 'one', 'two']]\n",
        "li1 = list(zip(*li))  # *는 언패킹(unpacking) 연산자, zip()은 같은 위치에 있는 요소들끼리 짝지어 튜플을 만듦\n",
        "print(li1), print('='*50)\n",
        "\n",
        "np.random.shuffle(li1)\n",
        "print(li1), print('='*50)\n",
        "\n",
        "ser = pd.Series(np.random.randn(6), index=pd.MultiIndex.from_tuples(li1))\n",
        "print(ser), print('='*50)\n",
        "\n",
        "print(ser.sort_index()), print('='*50)\n",
        "\n",
        "print(ser.sort_index(level=0)), print('='*50)\n",
        "print(ser.sort_index(level=1)), print('='*50)\n",
        "\n",
        "ser.index.set_names(['1st', '2nd'], inplace=True)\n",
        "print(ser.sort_index(level='1st')), print('='*50)\n",
        "print(ser.sort_index(level='2nd')), print('='*50)\n",
        "\n",
        "print(df), print('='*50)\n",
        "print(df.T.sort_index(axis=1, level=1))"
      ],
      "metadata": {
        "colab": {
          "base_uri": "https://localhost:8080/"
        },
        "id": "qyASJWttpdus",
        "outputId": "c848cd5d-5e4a-4c14-8b1d-94d296d47bec"
      },
      "execution_count": null,
      "outputs": [
        {
          "output_type": "stream",
          "name": "stdout",
          "text": [
            "[('ha', 'one'), ('ha', 'two'), ('hi', 'one'), ('hi', 'two'), ('ho', 'one'), ('ho', 'two')]\n",
            "==================================================\n",
            "[('hi', 'two'), ('ha', 'two'), ('ho', 'one'), ('hi', 'one'), ('ha', 'one'), ('ho', 'two')]\n",
            "==================================================\n",
            "hi  two   -1.532188\n",
            "ha  two   -0.173921\n",
            "ho  one   -0.446655\n",
            "hi  one   -0.932865\n",
            "ha  one    0.830245\n",
            "ho  two   -0.945872\n",
            "dtype: float64\n",
            "==================================================\n",
            "ha  one    0.830245\n",
            "    two   -0.173921\n",
            "hi  one   -0.932865\n",
            "    two   -1.532188\n",
            "ho  one   -0.446655\n",
            "    two   -0.945872\n",
            "dtype: float64\n",
            "==================================================\n",
            "ha  one    0.830245\n",
            "    two   -0.173921\n",
            "hi  one   -0.932865\n",
            "    two   -1.532188\n",
            "ho  one   -0.446655\n",
            "    two   -0.945872\n",
            "dtype: float64\n",
            "==================================================\n",
            "ha  one    0.830245\n",
            "hi  one   -0.932865\n",
            "ho  one   -0.446655\n",
            "ha  two   -0.173921\n",
            "hi  two   -1.532188\n",
            "ho  two   -0.945872\n",
            "dtype: float64\n",
            "==================================================\n",
            "1st  2nd\n",
            "ha   one    0.830245\n",
            "     two   -0.173921\n",
            "hi   one   -0.932865\n",
            "     two   -1.532188\n",
            "ho   one   -0.446655\n",
            "     two   -0.945872\n",
            "dtype: float64\n",
            "==================================================\n",
            "1st  2nd\n",
            "ha   one    0.830245\n",
            "hi   one   -0.932865\n",
            "ho   one   -0.446655\n",
            "ha   two   -0.173921\n",
            "hi   two   -1.532188\n",
            "ho   two   -0.945872\n",
            "dtype: float64\n",
            "==================================================\n",
            "         ha                  hi                  ho          \n",
            "        one       two       one       two       one       two\n",
            "A  0.486212 -1.500578  1.338625  1.064739 -0.861161 -0.048550\n",
            "B  1.014602  0.576160  0.718637 -1.196733 -2.920774  0.246061\n",
            "C  0.488492 -0.951324  1.618496 -1.112683  1.294821  0.194799\n",
            "==================================================\n",
            "               A         B         C\n",
            "ha one  0.486212  1.014602  0.488492\n",
            "   two -1.500578  0.576160 -0.951324\n",
            "hi one  1.338625  0.718637  1.618496\n",
            "   two  1.064739 -1.196733 -1.112683\n",
            "ho one -0.861161 -2.920774  1.294821\n",
            "   two -0.048550  0.246061  0.194799\n"
          ]
        }
      ]
    },
    {
      "cell_type": "code",
      "source": [
        "# 4. 데이터 타입과 입출력\n",
        "\n",
        "# 텍스트 파일: CSV 파일\n",
        "data = {'name': ['haena', 'naeun', 'una', 'bum', 'suho'],\n",
        "        'age': [30, 27, 28, 23, 18],\n",
        "        'address': ['dogok', 'suwon', 'mapo', 'ilsan', 'yeoyi'],\n",
        "        'grade': ['A', 'B', 'C', 'B', 'A'],\n",
        "        'score': [100, 88, 73, 83, 95]}\n",
        "\n",
        "df = pd.DataFrame(data, columns=['name', 'age', 'address', 'score', 'grade'])\n",
        "print(df), print('='*40)\n",
        "\n",
        "df.to_csv('./student_grade.csv')\n",
        "df.to_csv('./student_grade_noIndex.csv', index=False)\n",
        "\n",
        "# OS가 windows일 경우,\n",
        "!type student_grade.csv\n",
        "!more student_grade.csv\n",
        "\n",
        "# OS가 UNIX, macOS일 경우,\n",
        "!cat student_grade.csv"
      ],
      "metadata": {
        "colab": {
          "base_uri": "https://localhost:8080/"
        },
        "id": "OQegRRuttA3y",
        "outputId": "2a48d9b9-34cd-41be-a968-494c4eeff56f"
      },
      "execution_count": null,
      "outputs": [
        {
          "output_type": "stream",
          "name": "stdout",
          "text": [
            "    name  age address  score grade\n",
            "0  haena   30   dogok    100     A\n",
            "1  naeun   27   suwon     88     B\n",
            "2    una   28    mapo     73     C\n",
            "3    bum   23   ilsan     83     B\n",
            "4   suho   18   yeoyi     95     A\n",
            "========================================\n",
            "/bin/bash: line 1: type: student_grade.csv: not found\n",
            ",name,age,address,score,grade\n",
            "0,haena,30,dogok,100,A\n",
            "1,naeun,27,suwon,88,B\n",
            "2,una,28,mapo,73,C\n",
            "3,bum,23,ilsan,83,B\n",
            "4,suho,18,yeoyi,95,A\n",
            ",name,age,address,score,grade\n",
            "0,haena,30,dogok,100,A\n",
            "1,naeun,27,suwon,88,B\n",
            "2,una,28,mapo,73,C\n",
            "3,bum,23,ilsan,83,B\n",
            "4,suho,18,yeoyi,95,A\n"
          ]
        }
      ]
    },
    {
      "cell_type": "code",
      "source": [
        "# 4. 데이터 타입과 입출력\n",
        "\n",
        "# 텍스트 파일: CSV 파일\n",
        "df_basic = pd.read_csv('student_grade.csv')\n",
        "print(df_basic), print('='*50)\n",
        "\n",
        "df_basic2 = pd.read_csv('student_grade_noIndex.csv')\n",
        "print(df_basic2), print('='*50)\n",
        "\n",
        "df_sep = pd.read_csv('student_grade.csv', sep=',')\n",
        "print(df_sep)"
      ],
      "metadata": {
        "colab": {
          "base_uri": "https://localhost:8080/"
        },
        "id": "O-XCy3JhwuhB",
        "outputId": "97e1d2f3-8723-410d-f11b-663191b1a4c3"
      },
      "execution_count": null,
      "outputs": [
        {
          "output_type": "stream",
          "name": "stdout",
          "text": [
            "   Unnamed: 0   name  age address  score grade\n",
            "0           0  haena   30   dogok    100     A\n",
            "1           1  naeun   27   suwon     88     B\n",
            "2           2    una   28    mapo     73     C\n",
            "3           3    bum   23   ilsan     83     B\n",
            "4           4   suho   18   yeoyi     95     A\n",
            "==================================================\n",
            "    name  age address  score grade\n",
            "0  haena   30   dogok    100     A\n",
            "1  naeun   27   suwon     88     B\n",
            "2    una   28    mapo     73     C\n",
            "3    bum   23   ilsan     83     B\n",
            "4   suho   18   yeoyi     95     A\n",
            "==================================================\n",
            "   Unnamed: 0   name  age address  score grade\n",
            "0           0  haena   30   dogok    100     A\n",
            "1           1  naeun   27   suwon     88     B\n",
            "2           2    una   28    mapo     73     C\n",
            "3           3    bum   23   ilsan     83     B\n",
            "4           4   suho   18   yeoyi     95     A\n"
          ]
        }
      ]
    },
    {
      "cell_type": "code",
      "source": [
        "# 4. 데이터 타입과 입출력\n",
        "\n",
        "# 텍스트 파일: CSV 파일\n",
        "# Unnamed: 0 -> 인덱스(index) 정보가 첫 번째 열로 저장\n",
        "# Unnamed: 0 열 제거 방법1\n",
        "df_slicing = df1.iloc[0:, 1:]\n",
        "print(df_slicing), print('='*40)\n",
        "\n",
        "# Unnamed: 0 열 제거 방법2: 파일을 읽어면서 첫 번째 열을 인덱스로 사용\n",
        "df_index_col = pd.read_csv('student_grade.csv', index_col=0)\n",
        "print(df_index_col), print('='*40)\n",
        "\n",
        "df_index_col2 = pd.read_csv('student_grade.csv', index_col=['name'])\n",
        "print(df_index_col2)"
      ],
      "metadata": {
        "colab": {
          "base_uri": "https://localhost:8080/"
        },
        "id": "PeNn2LsdeuSx",
        "outputId": "8a57c376-7791-49cf-fab1-ad0af86eb244"
      },
      "execution_count": null,
      "outputs": [
        {
          "output_type": "stream",
          "name": "stdout",
          "text": [
            "    name  age address  score grade\n",
            "0  haena   30   dogok    100     A\n",
            "1  naeun   27   suwon     88     B\n",
            "2    una   28    mapo     73     C\n",
            "3    bum   23   ilsan     83     B\n",
            "4   suho   18   yeoyi     95     A\n",
            "========================================\n",
            "    name  age address  score grade\n",
            "0  haena   30   dogok    100     A\n",
            "1  naeun   27   suwon     88     B\n",
            "2    una   28    mapo     73     C\n",
            "3    bum   23   ilsan     83     B\n",
            "4   suho   18   yeoyi     95     A\n",
            "========================================\n",
            "       Unnamed: 0  age address  score grade\n",
            "name                                       \n",
            "haena           0   30   dogok    100     A\n",
            "naeun           1   27   suwon     88     B\n",
            "una             2   28    mapo     73     C\n",
            "bum             3   23   ilsan     83     B\n",
            "suho            4   18   yeoyi     95     A\n"
          ]
        }
      ]
    },
    {
      "cell_type": "code",
      "source": [
        "# 4. 데이터 타입과 입출력\n",
        "\n",
        "# 텍스트 파일: CSV 파일\n",
        "# usecols에 필요한 컬럼 인덱스만 지정\n",
        "df_usecols = pd.read_csv('student_grade.csv',\n",
        "                         usecols=['name', 'age', 'address', 'grade', 'score'])\n",
        "print(df_usecols), print('='*40)\n",
        "\n",
        "df_usecols2 = pd.read_csv('student_grade.csv', index_col=['name'],\n",
        "                         usecols=['name', 'age', 'address', 'grade', 'score'])\n",
        "print(df_usecols2), print('='*40)\n",
        "\n",
        "# 컬럼이 아주 많을 때, 슬라이싱이나 아래의 drop으로 Unnamed: 0 열 제거\n",
        "df_drop = pd.read_csv('student_grade.csv').drop(columns=['Unnamed: 0'])\n",
        "print(df_drop)"
      ],
      "metadata": {
        "colab": {
          "base_uri": "https://localhost:8080/"
        },
        "id": "BcnG8Ty5j__R",
        "outputId": "fffa6620-941b-4f0e-df56-513ebd945e51"
      },
      "execution_count": null,
      "outputs": [
        {
          "output_type": "stream",
          "name": "stdout",
          "text": [
            "    name  age address  score grade\n",
            "0  haena   30   dogok    100     A\n",
            "1  naeun   27   suwon     88     B\n",
            "2    una   28    mapo     73     C\n",
            "3    bum   23   ilsan     83     B\n",
            "4   suho   18   yeoyi     95     A\n",
            "========================================\n",
            "       age address  score grade\n",
            "name                           \n",
            "haena   30   dogok    100     A\n",
            "naeun   27   suwon     88     B\n",
            "una     28    mapo     73     C\n",
            "bum     23   ilsan     83     B\n",
            "suho    18   yeoyi     95     A\n",
            "========================================\n",
            "    name  age address  score grade\n",
            "0  haena   30   dogok    100     A\n",
            "1  naeun   27   suwon     88     B\n",
            "2    una   28    mapo     73     C\n",
            "3    bum   23   ilsan     83     B\n",
            "4   suho   18   yeoyi     95     A\n"
          ]
        }
      ]
    },
    {
      "cell_type": "code",
      "source": [
        "# 4. 데이터 타입과 입출력\n",
        "\n",
        "# 텍스트 파일: CSV 파일\n",
        "\n",
        "# header = None -> 컬럼 이름이 있는 상태에서 None으로 두면,\n",
        "#                  컬럼 이름이 0번째 행으로 이동 (주의!!!)\n",
        "df_header = pd.read_csv('student_grade.csv', header=None)\n",
        "print(df_header), print('='*40)\n",
        "\n",
        "# nrows (읽을 행의 수 제한)\n",
        "df_nrows = pd.read_csv('student_grade.csv', nrows=3)\n",
        "print(df_nrows), print('='*40)\n",
        "\n",
        "df_nrows2 = pd.read_csv('student_grade.csv', header=None, nrows=3, index_col=0)\n",
        "print(df_nrows2), print('='*40)\n",
        "\n",
        "df6 = pd.read_csv('student_grade.csv',\n",
        "                  names=['No','name','age','address','score','grade'], nrows=3)\n",
        "print(df6)"
      ],
      "metadata": {
        "colab": {
          "base_uri": "https://localhost:8080/"
        },
        "id": "5wty3leqzfOh",
        "outputId": "c107e699-06e3-491b-8ad4-e10530d22915"
      },
      "execution_count": null,
      "outputs": [
        {
          "output_type": "stream",
          "name": "stdout",
          "text": [
            "     0      1    2        3      4      5\n",
            "0  NaN   name  age  address  score  grade\n",
            "1  0.0  haena   30    dogok    100      A\n",
            "2  1.0  naeun   27    suwon     88      B\n",
            "3  2.0    una   28     mapo     73      C\n",
            "4  3.0    bum   23    ilsan     83      B\n",
            "5  4.0   suho   18    yeoyi     95      A\n",
            "========================================\n",
            "   Unnamed: 0   name  age address  score grade\n",
            "0           0  haena   30   dogok    100     A\n",
            "1           1  naeun   27   suwon     88     B\n",
            "2           2    una   28    mapo     73     C\n",
            "========================================\n",
            "         1    2        3      4      5\n",
            "0                                     \n",
            "NaN   name  age  address  score  grade\n",
            "0.0  haena   30    dogok    100      A\n",
            "1.0  naeun   27    suwon     88      B\n",
            "========================================\n",
            "    No   name  age  address  score  grade\n",
            "0  NaN   name  age  address  score  grade\n",
            "1  0.0  haena   30    dogok    100      A\n",
            "2  1.0  naeun   27    suwon     88      B\n"
          ]
        }
      ]
    },
    {
      "cell_type": "code",
      "source": [
        "# 4. 데이터 타입과 입출력\n",
        "\n",
        "# 텍스트 파일: CSV 파일\n",
        "# na_values: 결측치로 인식할 값 지정\n",
        "# 'address' 컬럼에서는 값 'mapo'와 'NA'를 결측치로 간주\n",
        "# 'score' 컬럼에서는 값 83을 결측치로 간주\n",
        "to_na = {'address': ['mapo', 'NA'], 'score': [83]}\n",
        "df_na_values = pd.read_csv('student_grade.csv', na_values=to_na)\n",
        "print(df_na_values), print('='*40)\n",
        "\n",
        "# skiprows: 특정 행 건너뛰기\n",
        "df_skiprows = pd.read_csv('student_grade.csv', skiprows=3)\n",
        "print(df_skiprows)"
      ],
      "metadata": {
        "colab": {
          "base_uri": "https://localhost:8080/"
        },
        "id": "lhkglGUx1FLv",
        "outputId": "1a12e66a-ed22-40b1-9c35-385b61069919"
      },
      "execution_count": null,
      "outputs": [
        {
          "output_type": "stream",
          "name": "stdout",
          "text": [
            "   Unnamed: 0   name  age address  score grade\n",
            "0           0  haena   30   dogok  100.0     A\n",
            "1           1  naeun   27   suwon   88.0     B\n",
            "2           2    una   28     NaN   73.0     C\n",
            "3           3    bum   23   ilsan    NaN     B\n",
            "4           4   suho   18   yeoyi   95.0     A\n",
            "========================================\n",
            "   2   una  28   mapo  73  C\n",
            "0  3   bum  23  ilsan  83  B\n",
            "1  4  suho  18  yeoyi  95  A\n",
            "========================================\n"
          ]
        },
        {
          "output_type": "execute_result",
          "data": {
            "text/plain": [
              "(None, None)"
            ]
          },
          "metadata": {},
          "execution_count": 23
        }
      ]
    },
    {
      "cell_type": "code",
      "source": [
        "# 4. 데이터 타입과 입출력\n",
        "\n",
        "# 텍스트 파일: JSON 파일\n",
        "# filePath=None 으로 설정하면, JSON 형식의 문자열을 반환\n",
        "dfj = pd.DataFrame([['a', 'b'], ['c', 'd']],\n",
        "                   index=['row1', 'row2'], columns=['col1', 'col2'])\n",
        "print(dfj), print('='*40)\n",
        "dfj.to_json()\n",
        "print(dfj.to_json())\n",
        "\n",
        "# filePath 지정하면 파일이 저장됨\n",
        "dfj.to_json('my_data.json')"
      ],
      "metadata": {
        "colab": {
          "base_uri": "https://localhost:8080/"
        },
        "id": "NFpxHIhK6er8",
        "outputId": "e01a1a2b-953b-4e91-a986-72027c3d2c96"
      },
      "execution_count": null,
      "outputs": [
        {
          "output_type": "stream",
          "name": "stdout",
          "text": [
            "     col1 col2\n",
            "row1    a    b\n",
            "row2    c    d\n",
            "========================================\n",
            "{\"col1\":{\"row1\":\"a\",\"row2\":\"c\"},\"col2\":{\"row1\":\"b\",\"row2\":\"d\"}}\n"
          ]
        }
      ]
    },
    {
      "cell_type": "code",
      "source": [
        "# 'columns' (기본값 for DataFrame):\n",
        "# 컬럼 이름이 키(key)가 되고, 각 컬럼의 값이 배열(리스트)이 됨\n",
        "# {column -> {index -> values}}와 같은 딕셔너리형이 됨\n",
        "dfj.to_json(orient='columns')"
      ],
      "metadata": {
        "colab": {
          "base_uri": "https://localhost:8080/",
          "height": 36
        },
        "id": "q3kvmQFP7AMa",
        "outputId": "2dd20ca6-3ff4-496e-ac80-664e16b2d9fc"
      },
      "execution_count": null,
      "outputs": [
        {
          "output_type": "execute_result",
          "data": {
            "text/plain": [
              "'{\"col1\":{\"row1\":\"a\",\"row2\":\"c\"},\"col2\":{\"row1\":\"b\",\"row2\":\"d\"}}'"
            ],
            "application/vnd.google.colaboratory.intrinsic+json": {
              "type": "string"
            }
          },
          "metadata": {},
          "execution_count": 4
        }
      ]
    },
    {
      "cell_type": "code",
      "source": [
        "# 'index': 인덱스(index)가 키(key)가 되고,\n",
        "# 각 인덱스에 해당하는 행의 값이 객체(딕셔너리)가 됨\n",
        "# {index -> {column -> value}}와 같은 딕셔너리형이 됨\n",
        "dfj.to_json(orient='index')"
      ],
      "metadata": {
        "colab": {
          "base_uri": "https://localhost:8080/",
          "height": 36
        },
        "id": "2Q-XHzhl6-H7",
        "outputId": "318a817e-8f9e-4001-a121-2611056a647a"
      },
      "execution_count": null,
      "outputs": [
        {
          "output_type": "execute_result",
          "data": {
            "text/plain": [
              "'{\"row1\":{\"col1\":\"a\",\"col2\":\"b\"},\"row2\":{\"col1\":\"c\",\"col2\":\"d\"}}'"
            ],
            "application/vnd.google.colaboratory.intrinsic+json": {
              "type": "string"
            }
          },
          "metadata": {},
          "execution_count": 5
        }
      ]
    },
    {
      "cell_type": "code",
      "source": [
        "# 'split': 딕셔너리에 columns, index, data 키가 포함됨\n",
        "dfj.to_json(orient='split')"
      ],
      "metadata": {
        "colab": {
          "base_uri": "https://localhost:8080/",
          "height": 36
        },
        "id": "ONUkjL3L6zrb",
        "outputId": "a6aa8a8d-26e9-4062-84ca-3f729a2b41c4"
      },
      "execution_count": null,
      "outputs": [
        {
          "output_type": "execute_result",
          "data": {
            "text/plain": [
              "'{\"columns\":[\"col1\",\"col2\"],\"index\":[\"row1\",\"row2\"],\"data\":[[\"a\",\"b\"],[\"c\",\"d\"]]}'"
            ],
            "application/vnd.google.colaboratory.intrinsic+json": {
              "type": "string"
            }
          },
          "metadata": {},
          "execution_count": 6
        }
      ]
    },
    {
      "cell_type": "code",
      "source": [
        "# 'records': 각 행이 하나의 JSON 객체가 되고,\n",
        "# 이 객체들이 배열(리스트) 안에 포함됨\n",
        "# 이 형식이 웹 API에서 가장 흔하게 사용됨\n",
        "dfj.to_json(orient='records')"
      ],
      "metadata": {
        "colab": {
          "base_uri": "https://localhost:8080/",
          "height": 36
        },
        "id": "XmMZi5iO65kD",
        "outputId": "58662f0e-4f2b-41b0-f67b-f97bd4878185"
      },
      "execution_count": null,
      "outputs": [
        {
          "output_type": "execute_result",
          "data": {
            "text/plain": [
              "'[{\"col1\":\"a\",\"col2\":\"b\"},{\"col1\":\"c\",\"col2\":\"d\"}]'"
            ],
            "application/vnd.google.colaboratory.intrinsic+json": {
              "type": "string"
            }
          },
          "metadata": {},
          "execution_count": 7
        }
      ]
    },
    {
      "cell_type": "code",
      "source": [
        "# 'values': DataFrame/Series의 값들만 포함된 중첩된 배열(리스트)이 됨\n",
        "# 인덱스나 컬럼 이름은 포함되지 않음\n",
        "dfj.to_json(orient='values')"
      ],
      "metadata": {
        "colab": {
          "base_uri": "https://localhost:8080/",
          "height": 36
        },
        "id": "a-JIrC_J7Cql",
        "outputId": "ca53c1da-9572-4737-8783-214a6f43e429"
      },
      "execution_count": null,
      "outputs": [
        {
          "output_type": "execute_result",
          "data": {
            "text/plain": [
              "'[[\"a\",\"b\"],[\"c\",\"d\"]]'"
            ],
            "application/vnd.google.colaboratory.intrinsic+json": {
              "type": "string"
            }
          },
          "metadata": {},
          "execution_count": 8
        }
      ]
    },
    {
      "cell_type": "code",
      "source": [
        "# 'table': JSON Table Schema 형식을 따름\n",
        "dfj.to_json(orient='table')"
      ],
      "metadata": {
        "colab": {
          "base_uri": "https://localhost:8080/",
          "height": 73
        },
        "id": "Wn0uNYUP7HUF",
        "outputId": "7d998a8e-281b-4056-ce27-2cd91d64090b"
      },
      "execution_count": null,
      "outputs": [
        {
          "output_type": "execute_result",
          "data": {
            "text/plain": [
              "'{\"schema\":{\"fields\":[{\"name\":\"index\",\"type\":\"string\"},{\"name\":\"col1\",\"type\":\"string\"},{\"name\":\"col2\",\"type\":\"string\"}],\"primaryKey\":[\"index\"],\"pandas_version\":\"1.4.0\"},\"data\":[{\"index\":\"row1\",\"col1\":\"a\",\"col2\":\"b\"},{\"index\":\"row2\",\"col1\":\"c\",\"col2\":\"d\"}]}'"
            ],
            "application/vnd.google.colaboratory.intrinsic+json": {
              "type": "string"
            }
          },
          "metadata": {},
          "execution_count": 9
        }
      ]
    },
    {
      "cell_type": "code",
      "source": [
        "# 4. 데이터 타입과 입출력\n",
        "\n",
        "# 텍스트 파일: JSON 파일\n",
        "df = pd.DataFrame({\n",
        "    'col1': [1, 2, 3],\n",
        "    'col2': ['A', 'B', 'C'],\n",
        "    'date_col': pd.to_datetime(['2023-01-01', '2023-01-02', '2023-01-03'])\n",
        "}, index=['idx1', 'idx2', 'idx3'])\n",
        "\n",
        "print(f\"원본 DataFrame: \\n{df}\"), print(\"-\" * 30)\n",
        "\n",
        "# 1. 기본 저장 (orient='columns'이 DataFrame의 기본값)\n",
        "# 파일로 저장하지 않고 문자열로 반환\n",
        "json_str_columns = df.to_json() # indent=None (기본값): 들여쓰기 없이 한 줄로 출력\n",
        "#json_str_columns = df.to_json(indent=2)\n",
        "print(f\"orient='columns' (기본값): \\n{json_str_columns}\"), print(\"-\" * 30)\n",
        "\n",
        "# 2. orient='records' (웹 API에서 흔히 사용)\n",
        "json_str_records = df.to_json(orient='records', indent=2) # indent로 가독성 높이기\n",
        "print(f\"orient='records' (indent=2): \\n{json_str_records}\"), print(\"-\" * 30)\n",
        "\n",
        "# 3. orient='index'\n",
        "json_str_index = df.to_json(orient='index', indent=2)\n",
        "print(f\"orient='index' (indent=2): \\n{json_str_index}\"), print(\"-\" * 30)\n",
        "\n",
        "# 4. orient='values'\n",
        "json_str_values = df.to_json(orient='values', indent=2)\n",
        "print(f\"orient='values' (indent=2): \\n{json_str_values}\"), print(\"-\" * 30)\n",
        "\n",
        "# 5. orient='split'\n",
        "json_str_split = df.to_json(orient='split', indent=2)\n",
        "print(f\"orient='split' (indent=2): \\n{json_str_split}\"), print(\"-\" * 30)\n",
        "\n",
        "# 6. orient='table'\n",
        "json_str_table = df.to_json(orient='table', indent=2)\n",
        "print(f\"orient='table' (indent=2): \\n{json_str_table}\")\n"
      ],
      "metadata": {
        "colab": {
          "base_uri": "https://localhost:8080/"
        },
        "id": "_FpuvjbzQDH7",
        "outputId": "7adeabad-dd37-45ca-ee57-a02060df667d"
      },
      "execution_count": null,
      "outputs": [
        {
          "output_type": "stream",
          "name": "stdout",
          "text": [
            "원본 DataFrame: \n",
            "      col1 col2   date_col\n",
            "idx1     1    A 2023-01-01\n",
            "idx2     2    B 2023-01-02\n",
            "idx3     3    C 2023-01-03\n",
            "------------------------------\n",
            "orient='columns' (기본값): \n",
            "{\"col1\":{\"idx1\":1,\"idx2\":2,\"idx3\":3},\"col2\":{\"idx1\":\"A\",\"idx2\":\"B\",\"idx3\":\"C\"},\"date_col\":{\"idx1\":1672531200000,\"idx2\":1672617600000,\"idx3\":1672704000000}}\n",
            "------------------------------\n",
            "orient='records' (indent=2): \n",
            "[\n",
            "    {\n",
            "        \"col1\":1,\n",
            "        \"col2\":\"A\",\n",
            "        \"date_col\":1672531200000\n",
            "    },\n",
            "    {\n",
            "        \"col1\":2,\n",
            "        \"col2\":\"B\",\n",
            "        \"date_col\":1672617600000\n",
            "    },\n",
            "    {\n",
            "        \"col1\":3,\n",
            "        \"col2\":\"C\",\n",
            "        \"date_col\":1672704000000\n",
            "    }\n",
            "]\n",
            "------------------------------\n",
            "orient='index' (indent=2): \n",
            "{\n",
            "  \"idx1\":{\n",
            "    \"col1\":1,\n",
            "    \"col2\":\"A\",\n",
            "    \"date_col\":1672531200000\n",
            "  },\n",
            "  \"idx2\":{\n",
            "    \"col1\":2,\n",
            "    \"col2\":\"B\",\n",
            "    \"date_col\":1672617600000\n",
            "  },\n",
            "  \"idx3\":{\n",
            "    \"col1\":3,\n",
            "    \"col2\":\"C\",\n",
            "    \"date_col\":1672704000000\n",
            "  }\n",
            "}\n",
            "------------------------------\n",
            "orient='values' (indent=2): \n",
            "[\n",
            "  [\n",
            "    1,\n",
            "    \"A\",\n",
            "    1672531200000\n",
            "  ],\n",
            "  [\n",
            "    2,\n",
            "    \"B\",\n",
            "    1672617600000\n",
            "  ],\n",
            "  [\n",
            "    3,\n",
            "    \"C\",\n",
            "    1672704000000\n",
            "  ]\n",
            "]\n",
            "------------------------------\n",
            "orient='split' (indent=2): \n",
            "{\n",
            "  \"columns\":[\n",
            "    \"col1\",\n",
            "    \"col2\",\n",
            "    \"date_col\"\n",
            "  ],\n",
            "  \"index\":[\n",
            "    \"idx1\",\n",
            "    \"idx2\",\n",
            "    \"idx3\"\n",
            "  ],\n",
            "  \"data\":[\n",
            "    [\n",
            "      1,\n",
            "      \"A\",\n",
            "      1672531200000\n",
            "    ],\n",
            "    [\n",
            "      2,\n",
            "      \"B\",\n",
            "      1672617600000\n",
            "    ],\n",
            "    [\n",
            "      3,\n",
            "      \"C\",\n",
            "      1672704000000\n",
            "    ]\n",
            "  ]\n",
            "}\n",
            "------------------------------\n",
            "orient='table' (indent=2): \n",
            "{\n",
            "  \"schema\":{\n",
            "    \"fields\":[\n",
            "      {\n",
            "        \"name\":\"index\",\n",
            "        \"type\":\"string\"\n",
            "      },\n",
            "      {\n",
            "        \"name\":\"col1\",\n",
            "        \"type\":\"integer\"\n",
            "      },\n",
            "      {\n",
            "        \"name\":\"col2\",\n",
            "        \"type\":\"string\"\n",
            "      },\n",
            "      {\n",
            "        \"name\":\"date_col\",\n",
            "        \"type\":\"datetime\"\n",
            "      }\n",
            "    ],\n",
            "    \"primaryKey\":[\n",
            "      \"index\"\n",
            "    ],\n",
            "    \"pandas_version\":\"1.4.0\"\n",
            "  },\n",
            "  \"data\":[\n",
            "    {\n",
            "      \"index\":\"idx1\",\n",
            "      \"col1\":1,\n",
            "      \"col2\":\"A\",\n",
            "      \"date_col\":\"2023-01-01T00:00:00.000\"\n",
            "    },\n",
            "    {\n",
            "      \"index\":\"idx2\",\n",
            "      \"col1\":2,\n",
            "      \"col2\":\"B\",\n",
            "      \"date_col\":\"2023-01-02T00:00:00.000\"\n",
            "    },\n",
            "    {\n",
            "      \"index\":\"idx3\",\n",
            "      \"col1\":3,\n",
            "      \"col2\":\"C\",\n",
            "      \"date_col\":\"2023-01-03T00:00:00.000\"\n",
            "    }\n",
            "  ]\n",
            "}\n"
          ]
        }
      ]
    },
    {
      "cell_type": "code",
      "source": [
        "# 4. 데이터 타입과 입출력\n",
        "\n",
        "# 텍스트 파일: JSON 파일\n",
        "data = {'name': ['haena', 'naeun', 'una', 'bum', 'suho'],\n",
        "        'age': [30, 27, 28, 23, 18],\n",
        "        'address': ['dogok', 'suwon', 'mapo', 'ilsan', 'yeoyi'],\n",
        "        'grade': ['A', 'B', 'C', 'B', 'A'],\n",
        "        'score': [100, 88, 73, 83, 95]}\n",
        "\n",
        "df = pd.DataFrame(data, columns=['name', 'age', 'address', 'score', 'grade'])\n",
        "df.to_json('student_grade.json', indent=2)\n",
        "\n",
        "pd.read_json('student_grade.json')"
      ],
      "metadata": {
        "id": "3-LtY3S37I-F",
        "colab": {
          "base_uri": "https://localhost:8080/",
          "height": 206
        },
        "outputId": "d28fff1d-bf58-4de8-ba4a-a1ce480deec5"
      },
      "execution_count": null,
      "outputs": [
        {
          "output_type": "execute_result",
          "data": {
            "text/plain": [
              "    name  age address  score grade\n",
              "0  haena   30   dogok    100     A\n",
              "1  naeun   27   suwon     88     B\n",
              "2    una   28    mapo     73     C\n",
              "3    bum   23   ilsan     83     B\n",
              "4   suho   18   yeoyi     95     A"
            ],
            "text/html": [
              "\n",
              "  <div id=\"df-3f47d87f-2a5f-4b2b-a35e-fed8109b70ec\" class=\"colab-df-container\">\n",
              "    <div>\n",
              "<style scoped>\n",
              "    .dataframe tbody tr th:only-of-type {\n",
              "        vertical-align: middle;\n",
              "    }\n",
              "\n",
              "    .dataframe tbody tr th {\n",
              "        vertical-align: top;\n",
              "    }\n",
              "\n",
              "    .dataframe thead th {\n",
              "        text-align: right;\n",
              "    }\n",
              "</style>\n",
              "<table border=\"1\" class=\"dataframe\">\n",
              "  <thead>\n",
              "    <tr style=\"text-align: right;\">\n",
              "      <th></th>\n",
              "      <th>name</th>\n",
              "      <th>age</th>\n",
              "      <th>address</th>\n",
              "      <th>score</th>\n",
              "      <th>grade</th>\n",
              "    </tr>\n",
              "  </thead>\n",
              "  <tbody>\n",
              "    <tr>\n",
              "      <th>0</th>\n",
              "      <td>haena</td>\n",
              "      <td>30</td>\n",
              "      <td>dogok</td>\n",
              "      <td>100</td>\n",
              "      <td>A</td>\n",
              "    </tr>\n",
              "    <tr>\n",
              "      <th>1</th>\n",
              "      <td>naeun</td>\n",
              "      <td>27</td>\n",
              "      <td>suwon</td>\n",
              "      <td>88</td>\n",
              "      <td>B</td>\n",
              "    </tr>\n",
              "    <tr>\n",
              "      <th>2</th>\n",
              "      <td>una</td>\n",
              "      <td>28</td>\n",
              "      <td>mapo</td>\n",
              "      <td>73</td>\n",
              "      <td>C</td>\n",
              "    </tr>\n",
              "    <tr>\n",
              "      <th>3</th>\n",
              "      <td>bum</td>\n",
              "      <td>23</td>\n",
              "      <td>ilsan</td>\n",
              "      <td>83</td>\n",
              "      <td>B</td>\n",
              "    </tr>\n",
              "    <tr>\n",
              "      <th>4</th>\n",
              "      <td>suho</td>\n",
              "      <td>18</td>\n",
              "      <td>yeoyi</td>\n",
              "      <td>95</td>\n",
              "      <td>A</td>\n",
              "    </tr>\n",
              "  </tbody>\n",
              "</table>\n",
              "</div>\n",
              "    <div class=\"colab-df-buttons\">\n",
              "\n",
              "  <div class=\"colab-df-container\">\n",
              "    <button class=\"colab-df-convert\" onclick=\"convertToInteractive('df-3f47d87f-2a5f-4b2b-a35e-fed8109b70ec')\"\n",
              "            title=\"Convert this dataframe to an interactive table.\"\n",
              "            style=\"display:none;\">\n",
              "\n",
              "  <svg xmlns=\"http://www.w3.org/2000/svg\" height=\"24px\" viewBox=\"0 -960 960 960\">\n",
              "    <path d=\"M120-120v-720h720v720H120Zm60-500h600v-160H180v160Zm220 220h160v-160H400v160Zm0 220h160v-160H400v160ZM180-400h160v-160H180v160Zm440 0h160v-160H620v160ZM180-180h160v-160H180v160Zm440 0h160v-160H620v160Z\"/>\n",
              "  </svg>\n",
              "    </button>\n",
              "\n",
              "  <style>\n",
              "    .colab-df-container {\n",
              "      display:flex;\n",
              "      gap: 12px;\n",
              "    }\n",
              "\n",
              "    .colab-df-convert {\n",
              "      background-color: #E8F0FE;\n",
              "      border: none;\n",
              "      border-radius: 50%;\n",
              "      cursor: pointer;\n",
              "      display: none;\n",
              "      fill: #1967D2;\n",
              "      height: 32px;\n",
              "      padding: 0 0 0 0;\n",
              "      width: 32px;\n",
              "    }\n",
              "\n",
              "    .colab-df-convert:hover {\n",
              "      background-color: #E2EBFA;\n",
              "      box-shadow: 0px 1px 2px rgba(60, 64, 67, 0.3), 0px 1px 3px 1px rgba(60, 64, 67, 0.15);\n",
              "      fill: #174EA6;\n",
              "    }\n",
              "\n",
              "    .colab-df-buttons div {\n",
              "      margin-bottom: 4px;\n",
              "    }\n",
              "\n",
              "    [theme=dark] .colab-df-convert {\n",
              "      background-color: #3B4455;\n",
              "      fill: #D2E3FC;\n",
              "    }\n",
              "\n",
              "    [theme=dark] .colab-df-convert:hover {\n",
              "      background-color: #434B5C;\n",
              "      box-shadow: 0px 1px 3px 1px rgba(0, 0, 0, 0.15);\n",
              "      filter: drop-shadow(0px 1px 2px rgba(0, 0, 0, 0.3));\n",
              "      fill: #FFFFFF;\n",
              "    }\n",
              "  </style>\n",
              "\n",
              "    <script>\n",
              "      const buttonEl =\n",
              "        document.querySelector('#df-3f47d87f-2a5f-4b2b-a35e-fed8109b70ec button.colab-df-convert');\n",
              "      buttonEl.style.display =\n",
              "        google.colab.kernel.accessAllowed ? 'block' : 'none';\n",
              "\n",
              "      async function convertToInteractive(key) {\n",
              "        const element = document.querySelector('#df-3f47d87f-2a5f-4b2b-a35e-fed8109b70ec');\n",
              "        const dataTable =\n",
              "          await google.colab.kernel.invokeFunction('convertToInteractive',\n",
              "                                                    [key], {});\n",
              "        if (!dataTable) return;\n",
              "\n",
              "        const docLinkHtml = 'Like what you see? Visit the ' +\n",
              "          '<a target=\"_blank\" href=https://colab.research.google.com/notebooks/data_table.ipynb>data table notebook</a>'\n",
              "          + ' to learn more about interactive tables.';\n",
              "        element.innerHTML = '';\n",
              "        dataTable['output_type'] = 'display_data';\n",
              "        await google.colab.output.renderOutput(dataTable, element);\n",
              "        const docLink = document.createElement('div');\n",
              "        docLink.innerHTML = docLinkHtml;\n",
              "        element.appendChild(docLink);\n",
              "      }\n",
              "    </script>\n",
              "  </div>\n",
              "\n",
              "\n",
              "    <div id=\"df-b87d02f5-55c5-4a97-b7d1-1e1b7340a1c8\">\n",
              "      <button class=\"colab-df-quickchart\" onclick=\"quickchart('df-b87d02f5-55c5-4a97-b7d1-1e1b7340a1c8')\"\n",
              "                title=\"Suggest charts\"\n",
              "                style=\"display:none;\">\n",
              "\n",
              "<svg xmlns=\"http://www.w3.org/2000/svg\" height=\"24px\"viewBox=\"0 0 24 24\"\n",
              "     width=\"24px\">\n",
              "    <g>\n",
              "        <path d=\"M19 3H5c-1.1 0-2 .9-2 2v14c0 1.1.9 2 2 2h14c1.1 0 2-.9 2-2V5c0-1.1-.9-2-2-2zM9 17H7v-7h2v7zm4 0h-2V7h2v10zm4 0h-2v-4h2v4z\"/>\n",
              "    </g>\n",
              "</svg>\n",
              "      </button>\n",
              "\n",
              "<style>\n",
              "  .colab-df-quickchart {\n",
              "      --bg-color: #E8F0FE;\n",
              "      --fill-color: #1967D2;\n",
              "      --hover-bg-color: #E2EBFA;\n",
              "      --hover-fill-color: #174EA6;\n",
              "      --disabled-fill-color: #AAA;\n",
              "      --disabled-bg-color: #DDD;\n",
              "  }\n",
              "\n",
              "  [theme=dark] .colab-df-quickchart {\n",
              "      --bg-color: #3B4455;\n",
              "      --fill-color: #D2E3FC;\n",
              "      --hover-bg-color: #434B5C;\n",
              "      --hover-fill-color: #FFFFFF;\n",
              "      --disabled-bg-color: #3B4455;\n",
              "      --disabled-fill-color: #666;\n",
              "  }\n",
              "\n",
              "  .colab-df-quickchart {\n",
              "    background-color: var(--bg-color);\n",
              "    border: none;\n",
              "    border-radius: 50%;\n",
              "    cursor: pointer;\n",
              "    display: none;\n",
              "    fill: var(--fill-color);\n",
              "    height: 32px;\n",
              "    padding: 0;\n",
              "    width: 32px;\n",
              "  }\n",
              "\n",
              "  .colab-df-quickchart:hover {\n",
              "    background-color: var(--hover-bg-color);\n",
              "    box-shadow: 0 1px 2px rgba(60, 64, 67, 0.3), 0 1px 3px 1px rgba(60, 64, 67, 0.15);\n",
              "    fill: var(--button-hover-fill-color);\n",
              "  }\n",
              "\n",
              "  .colab-df-quickchart-complete:disabled,\n",
              "  .colab-df-quickchart-complete:disabled:hover {\n",
              "    background-color: var(--disabled-bg-color);\n",
              "    fill: var(--disabled-fill-color);\n",
              "    box-shadow: none;\n",
              "  }\n",
              "\n",
              "  .colab-df-spinner {\n",
              "    border: 2px solid var(--fill-color);\n",
              "    border-color: transparent;\n",
              "    border-bottom-color: var(--fill-color);\n",
              "    animation:\n",
              "      spin 1s steps(1) infinite;\n",
              "  }\n",
              "\n",
              "  @keyframes spin {\n",
              "    0% {\n",
              "      border-color: transparent;\n",
              "      border-bottom-color: var(--fill-color);\n",
              "      border-left-color: var(--fill-color);\n",
              "    }\n",
              "    20% {\n",
              "      border-color: transparent;\n",
              "      border-left-color: var(--fill-color);\n",
              "      border-top-color: var(--fill-color);\n",
              "    }\n",
              "    30% {\n",
              "      border-color: transparent;\n",
              "      border-left-color: var(--fill-color);\n",
              "      border-top-color: var(--fill-color);\n",
              "      border-right-color: var(--fill-color);\n",
              "    }\n",
              "    40% {\n",
              "      border-color: transparent;\n",
              "      border-right-color: var(--fill-color);\n",
              "      border-top-color: var(--fill-color);\n",
              "    }\n",
              "    60% {\n",
              "      border-color: transparent;\n",
              "      border-right-color: var(--fill-color);\n",
              "    }\n",
              "    80% {\n",
              "      border-color: transparent;\n",
              "      border-right-color: var(--fill-color);\n",
              "      border-bottom-color: var(--fill-color);\n",
              "    }\n",
              "    90% {\n",
              "      border-color: transparent;\n",
              "      border-bottom-color: var(--fill-color);\n",
              "    }\n",
              "  }\n",
              "</style>\n",
              "\n",
              "      <script>\n",
              "        async function quickchart(key) {\n",
              "          const quickchartButtonEl =\n",
              "            document.querySelector('#' + key + ' button');\n",
              "          quickchartButtonEl.disabled = true;  // To prevent multiple clicks.\n",
              "          quickchartButtonEl.classList.add('colab-df-spinner');\n",
              "          try {\n",
              "            const charts = await google.colab.kernel.invokeFunction(\n",
              "                'suggestCharts', [key], {});\n",
              "          } catch (error) {\n",
              "            console.error('Error during call to suggestCharts:', error);\n",
              "          }\n",
              "          quickchartButtonEl.classList.remove('colab-df-spinner');\n",
              "          quickchartButtonEl.classList.add('colab-df-quickchart-complete');\n",
              "        }\n",
              "        (() => {\n",
              "          let quickchartButtonEl =\n",
              "            document.querySelector('#df-b87d02f5-55c5-4a97-b7d1-1e1b7340a1c8 button');\n",
              "          quickchartButtonEl.style.display =\n",
              "            google.colab.kernel.accessAllowed ? 'block' : 'none';\n",
              "        })();\n",
              "      </script>\n",
              "    </div>\n",
              "\n",
              "    </div>\n",
              "  </div>\n"
            ],
            "application/vnd.google.colaboratory.intrinsic+json": {
              "type": "dataframe",
              "summary": "{\n  \"name\": \"pd\",\n  \"rows\": 5,\n  \"fields\": [\n    {\n      \"column\": \"name\",\n      \"properties\": {\n        \"dtype\": \"string\",\n        \"num_unique_values\": 5,\n        \"samples\": [\n          \"naeun\",\n          \"suho\",\n          \"una\"\n        ],\n        \"semantic_type\": \"\",\n        \"description\": \"\"\n      }\n    },\n    {\n      \"column\": \"age\",\n      \"properties\": {\n        \"dtype\": \"number\",\n        \"std\": 4,\n        \"min\": 18,\n        \"max\": 30,\n        \"num_unique_values\": 5,\n        \"samples\": [\n          27,\n          18,\n          28\n        ],\n        \"semantic_type\": \"\",\n        \"description\": \"\"\n      }\n    },\n    {\n      \"column\": \"address\",\n      \"properties\": {\n        \"dtype\": \"string\",\n        \"num_unique_values\": 5,\n        \"samples\": [\n          \"suwon\",\n          \"yeoyi\",\n          \"mapo\"\n        ],\n        \"semantic_type\": \"\",\n        \"description\": \"\"\n      }\n    },\n    {\n      \"column\": \"score\",\n      \"properties\": {\n        \"dtype\": \"number\",\n        \"std\": 10,\n        \"min\": 73,\n        \"max\": 100,\n        \"num_unique_values\": 5,\n        \"samples\": [\n          88,\n          95,\n          73\n        ],\n        \"semantic_type\": \"\",\n        \"description\": \"\"\n      }\n    },\n    {\n      \"column\": \"grade\",\n      \"properties\": {\n        \"dtype\": \"string\",\n        \"num_unique_values\": 3,\n        \"samples\": [\n          \"A\",\n          \"B\",\n          \"C\"\n        ],\n        \"semantic_type\": \"\",\n        \"description\": \"\"\n      }\n    }\n  ]\n}"
            }
          },
          "metadata": {},
          "execution_count": 16
        }
      ]
    },
    {
      "cell_type": "code",
      "source": [
        "# 4. 데이터 타입과 입출력\n",
        "\n",
        "# 텍스트 파일: JSON 파일\n",
        "df = pd.DataFrame({'ha': [1, 2, 3, 4],\n",
        "                   'hi': ['a', 'b', 'c', 'd'],\n",
        "                   'ho': pd.date_range('2021-09-01', freq='d', periods=4),\n",
        "                   'hu': pd.Categorical(['a', 'b', 'c', 'd'])},\n",
        "index = pd.Index(range(4), name='ind'))\n",
        "print(df), print('='*40)\n",
        "\n",
        "print(df.dtypes), print('='*40)\n",
        "\n",
        "df.to_json('hello.json', orient='table')\n",
        "\n",
        "dfj = pd.read_json('hello.json', orient='table')\n",
        "# 구조가 달라서 읽을 때 오류 발생\n",
        "#dfj = pd.read_json('hello.json', orient='index')\n",
        "print(dfj), print('='*40)\n",
        "print(dfj.dtypes)"
      ],
      "metadata": {
        "colab": {
          "base_uri": "https://localhost:8080/"
        },
        "id": "JvCSO9H_7gOd",
        "outputId": "f9ff4725-c202-4ab4-83e2-dad83029c650"
      },
      "execution_count": null,
      "outputs": [
        {
          "output_type": "stream",
          "name": "stdout",
          "text": [
            "     ha hi         ho hu\n",
            "ind                     \n",
            "0     1  a 2021-09-01  a\n",
            "1     2  b 2021-09-02  b\n",
            "2     3  c 2021-09-03  c\n",
            "3     4  d 2021-09-04  d\n",
            "========================================\n",
            "ha             int64\n",
            "hi            object\n",
            "ho    datetime64[ns]\n",
            "hu          category\n",
            "dtype: object\n",
            "========================================\n",
            "     ha hi         ho hu\n",
            "ind                     \n",
            "0     1  a 2021-09-01  a\n",
            "1     2  b 2021-09-02  b\n",
            "2     3  c 2021-09-03  c\n",
            "3     4  d 2021-09-04  d\n",
            "========================================\n",
            "ha             int64\n",
            "hi            object\n",
            "ho    datetime64[ns]\n",
            "hu          category\n",
            "dtype: object\n"
          ]
        }
      ]
    },
    {
      "cell_type": "code",
      "source": [
        "# 4. 데이터 타입과 입출력\n",
        "\n",
        "# 이진 데이터: 엑셀 파일\n",
        "df = pd.read_excel('shoppingcenter.xlsx')\n",
        "print(df), print('='*100)\n",
        "\n",
        "df1 = pd.read_excel('shoppingcenter.xlsx', sheet_name='2018년 하반기 업력현황')\n",
        "print(df1), print('='*100)\n",
        "\n",
        "df2 = pd.read_excel('shoppingcenter.xlsx', sheet_name=None)\n",
        "print(df2)\n",
        "\n",
        "df.to_excel('shoppingcenter_sheet1.xlsx', sheet_name='Sheet1')"
      ],
      "metadata": {
        "colab": {
          "base_uri": "https://localhost:8080/"
        },
        "id": "uiDNfUip8G3b",
        "outputId": "031c00c7-7476-4388-8519-3da8b5ca3279"
      },
      "execution_count": null,
      "outputs": [
        {
          "output_type": "stream",
          "name": "stdout",
          "text": [
            "          광역시도   시군구     업종대분류         업종중분류  1년미만  1~2년  2~3년  3~5년  5년 이상\n",
            "0        서울특별시   종로구  관광/여가/오락      연극/영화/극장   1.0   2.0  42.0  39.0   16.0\n",
            "1        서울특별시   종로구  관광/여가/오락         전시/관람   0.0   6.0  18.0  35.0   44.0\n",
            "2        서울특별시   종로구  관광/여가/오락  PC/오락/당구/볼링등   0.0   5.0  12.0  86.0   20.0\n",
            "3        서울특별시   종로구  관광/여가/오락    경마/경륜/성인오락   0.0   1.0   1.0   1.0    2.0\n",
            "4        서울특별시   종로구  관광/여가/오락        스포츠/운동   0.0   0.0   1.0   0.0    0.0\n",
            "...        ...   ...       ...           ...   ...   ...   ...   ...    ...\n",
            "20620  제주특별자치도  서귀포시     학문/교육     학원-예능취미체육   5.0   1.0   1.0   0.0   22.0\n",
            "20621  제주특별자치도  서귀포시     학문/교육     학원-보습교습입시   6.0   2.0   3.0  47.0   18.0\n",
            "20622  제주특별자치도  서귀포시     학문/교육          학원기타   8.0   1.0  17.0  53.0   28.0\n",
            "20623  제주특별자치도  서귀포시     학문/교육          유아교육   0.0   1.0   7.0   5.0  115.0\n",
            "20624  제주특별자치도  서귀포시     학문/교육        특수교육기관   0.0   1.0   0.0   0.0    3.0\n",
            "\n",
            "[20625 rows x 9 columns]\n",
            "====================================================================================================\n",
            "          광역시도   시군구     업종대분류         업종중분류  1년미만  1~2년  2~3년  3~5년  5년 이상\n",
            "0        서울특별시   종로구  관광/여가/오락      연극/영화/극장     1     1    16    64     19\n",
            "1        서울특별시   종로구  관광/여가/오락         전시/관람     0     0    13    45     46\n",
            "2        서울특별시   종로구  관광/여가/오락  PC/오락/당구/볼링등     0     3     9    68     43\n",
            "3        서울특별시   종로구  관광/여가/오락    경마/경륜/성인오락     0     1     2     0      3\n",
            "4        서울특별시   종로구  관광/여가/오락        스포츠/운동     0     0     1     0      0\n",
            "...        ...   ...       ...           ...   ...   ...   ...   ...    ...\n",
            "20620  제주특별자치도  서귀포시     학문/교육     학원-예능취미체육     2     3     1     1     22\n",
            "20621  제주특별자치도  서귀포시     학문/교육     학원-보습교습입시     3     4     3    47     18\n",
            "20622  제주특별자치도  서귀포시     학문/교육          학원기타     4     4     6    64     28\n",
            "20623  제주특별자치도  서귀포시     학문/교육          유아교육     0     0     3     9    115\n",
            "20624  제주특별자치도  서귀포시     학문/교육        특수교육기관     0     0     1     0      3\n",
            "\n",
            "[20625 rows x 9 columns]\n",
            "====================================================================================================\n",
            "{'2018년 상반기 업력현황':           광역시도   시군구     업종대분류         업종중분류  1년미만  1~2년  2~3년  3~5년  5년 이상\n",
            "0        서울특별시   종로구  관광/여가/오락      연극/영화/극장   1.0   2.0  42.0  39.0   16.0\n",
            "1        서울특별시   종로구  관광/여가/오락         전시/관람   0.0   6.0  18.0  35.0   44.0\n",
            "2        서울특별시   종로구  관광/여가/오락  PC/오락/당구/볼링등   0.0   5.0  12.0  86.0   20.0\n",
            "3        서울특별시   종로구  관광/여가/오락    경마/경륜/성인오락   0.0   1.0   1.0   1.0    2.0\n",
            "4        서울특별시   종로구  관광/여가/오락        스포츠/운동   0.0   0.0   1.0   0.0    0.0\n",
            "...        ...   ...       ...           ...   ...   ...   ...   ...    ...\n",
            "20620  제주특별자치도  서귀포시     학문/교육     학원-예능취미체육   5.0   1.0   1.0   0.0   22.0\n",
            "20621  제주특별자치도  서귀포시     학문/교육     학원-보습교습입시   6.0   2.0   3.0  47.0   18.0\n",
            "20622  제주특별자치도  서귀포시     학문/교육          학원기타   8.0   1.0  17.0  53.0   28.0\n",
            "20623  제주특별자치도  서귀포시     학문/교육          유아교육   0.0   1.0   7.0   5.0  115.0\n",
            "20624  제주특별자치도  서귀포시     학문/교육        특수교육기관   0.0   1.0   0.0   0.0    3.0\n",
            "\n",
            "[20625 rows x 9 columns], '2018년 하반기 업력현황':           광역시도   시군구     업종대분류         업종중분류  1년미만  1~2년  2~3년  3~5년  5년 이상\n",
            "0        서울특별시   종로구  관광/여가/오락      연극/영화/극장     1     1    16    64     19\n",
            "1        서울특별시   종로구  관광/여가/오락         전시/관람     0     0    13    45     46\n",
            "2        서울특별시   종로구  관광/여가/오락  PC/오락/당구/볼링등     0     3     9    68     43\n",
            "3        서울특별시   종로구  관광/여가/오락    경마/경륜/성인오락     0     1     2     0      3\n",
            "4        서울특별시   종로구  관광/여가/오락        스포츠/운동     0     0     1     0      0\n",
            "...        ...   ...       ...           ...   ...   ...   ...   ...    ...\n",
            "20620  제주특별자치도  서귀포시     학문/교육     학원-예능취미체육     2     3     1     1     22\n",
            "20621  제주특별자치도  서귀포시     학문/교육     학원-보습교습입시     3     4     3    47     18\n",
            "20622  제주특별자치도  서귀포시     학문/교육          학원기타     4     4     6    64     28\n",
            "20623  제주특별자치도  서귀포시     학문/교육          유아교육     0     0     3     9    115\n",
            "20624  제주특별자치도  서귀포시     학문/교육        특수교육기관     0     0     1     0      3\n",
            "\n",
            "[20625 rows x 9 columns]}\n"
          ]
        }
      ]
    },
    {
      "cell_type": "code",
      "source": [
        "# 4. 데이터 타입과 입출력\n",
        "\n",
        "# 이진 데이터: HDF5 파일\n",
        "import tensorflow as tf\n",
        "from tensorflow import keras\n",
        "import numpy as np\n",
        "\n",
        "# 예시 모델 생성 및 학습\n",
        "model = keras.Sequential([\n",
        "    keras.layers.Dense(10, activation='relu', input_shape=(5,)),\n",
        "    keras.layers.Dense(1)\n",
        "])\n",
        "model.compile(optimizer='adam', loss='mse')\n",
        "x = np.random.rand(100, 5)\n",
        "y = np.random.rand(100, 1)\n",
        "model.fit(x, y, epochs=2)\n",
        "\n",
        "# 모델 전체를 .h5 파일로 저장\n",
        "model.save('my_model.h5')\n",
        "\n",
        "# 저장된 모델을 다시 로드\n",
        "loaded_model = keras.models.load_model('my_model.h5')\n",
        "\n",
        "# 결과 확인 (동일한 입력에 대해 동일한 예측)\n",
        "print(np.allclose(model.predict(x), loaded_model.predict(x)))"
      ],
      "metadata": {
        "id": "ebGto2guDdSp"
      },
      "execution_count": null,
      "outputs": []
    },
    {
      "cell_type": "code",
      "source": [
        "# 4. 데이터 타입과 입출력\n",
        "\n",
        "# 이진 데이터: .keras 파일\n",
        "model.save('my_model.keras')\n",
        "loaded_model = tf.keras.models.load_model('my_model.keras')"
      ],
      "metadata": {
        "id": "VAYD-k-bDffz"
      },
      "execution_count": null,
      "outputs": []
    },
    {
      "cell_type": "code",
      "source": [
        "# 4. 데이터 타입과 입출력\n",
        "\n",
        "# 이진 데이터: .pt, .pth 파일\n",
        "import torch\n",
        "import torch.nn as nn\n",
        "\n",
        "# 예시 모델 정의\n",
        "class SimpleModel(nn.Module):\n",
        "    def __init__(self):\n",
        "        super(SimpleModel, self).__init__()\n",
        "        self.fc = nn.Linear(4, 2)\n",
        "    def forward(self, x):\n",
        "        return self.fc(x)\n",
        "\n",
        "model = SimpleModel()\n",
        "\n",
        "# 모델 전체 저장\n",
        "torch.save(model, 'model.pt')  # 또는 'model.pth'\n",
        "\n",
        "# 모델 전체 로딩\n",
        "loaded_model = torch.load('model.pt')\n",
        "loaded_model.eval()  # 추론 시에는 eval() 호출\n",
        "\n",
        "# 파라미터만 저장\n",
        "torch.save(model.state_dict(), 'model_state_dict.pth')\n",
        "\n",
        "# 파라미터만 로딩\n",
        "model2 = SimpleModel()  # 동일한 구조의 모델 인스턴스 필요\n",
        "model2.load_state_dict(torch.load('model_state_dict.pth'))\n",
        "model2.eval()  # 추론 시에는 eval() 호출"
      ],
      "metadata": {
        "id": "Li_dUSp7D30U"
      },
      "execution_count": null,
      "outputs": []
    },
    {
      "cell_type": "code",
      "source": [],
      "metadata": {
        "id": "yIAS3QnzEFI0"
      },
      "execution_count": null,
      "outputs": []
    },
    {
      "cell_type": "code",
      "source": [],
      "metadata": {
        "id": "cJZ0EcvrEFEc"
      },
      "execution_count": null,
      "outputs": []
    },
    {
      "cell_type": "markdown",
      "source": [
        "## 판다스 고급"
      ],
      "metadata": {
        "id": "RZMHMbpyinz6"
      }
    },
    {
      "cell_type": "markdown",
      "source": [
        "### 데이터 가공"
      ],
      "metadata": {
        "id": "tLBbUQYziphP"
      }
    },
    {
      "cell_type": "code",
      "source": [
        "# 1. 데이터 가공\n",
        "\n",
        "# 데이터 이어 붙이기(pd.concat())\n",
        "df1 = pd.DataFrame({'A': ['A0', 'A1', 'A2'],\n",
        "                    'B': ['B0', 'B1', 'B2'],\n",
        "                    'C': ['C0', 'C1', 'C2']}, index=[0, 1, 2])\n",
        "df2 = pd.DataFrame({'A': ['A3', 'A4', 'A5'],\n",
        "                    'B': ['B3', 'B4', 'B5'],\n",
        "                    'C': ['C3', 'C4', 'C5']}, index=[3, 4, 5])\n",
        "df3 = pd.DataFrame({'A': ['A6', 'A7', 'A8'],\n",
        "                    'B': ['B6', 'B7', 'B8'],\n",
        "                    'C': ['C6', 'C7', 'C8']}, index=[6, 7, 8])\n",
        "frames = [df1, df2, df3]\n",
        "\n",
        "# axis 매개변수가 지정되지 않았으므로 기본값인 axis=0\n",
        "# (행을 기준으로 위아래로 이어 붙이기)이 적용\n",
        "result = pd.concat(frames)\n",
        "result1 = pd.concat(frames, keys=['x', 'y', 'z']) # 멀티 인덱스\n",
        "\n",
        "print(result), print('='*50)\n",
        "print(result1), print('='*50)\n",
        "print(result1.loc['z'])"
      ],
      "metadata": {
        "colab": {
          "base_uri": "https://localhost:8080/"
        },
        "id": "laUXpBkGEE7J",
        "outputId": "921eda42-79a1-4148-9e90-70a596bb24d2"
      },
      "execution_count": null,
      "outputs": [
        {
          "output_type": "stream",
          "name": "stdout",
          "text": [
            "    A   B   C\n",
            "0  A0  B0  C0\n",
            "1  A1  B1  C1\n",
            "2  A2  B2  C2\n",
            "3  A3  B3  C3\n",
            "4  A4  B4  C4\n",
            "5  A5  B5  C5\n",
            "6  A6  B6  C6\n",
            "7  A7  B7  C7\n",
            "8  A8  B8  C8\n",
            "==================================================\n",
            "      A   B   C\n",
            "x 0  A0  B0  C0\n",
            "  1  A1  B1  C1\n",
            "  2  A2  B2  C2\n",
            "y 3  A3  B3  C3\n",
            "  4  A4  B4  C4\n",
            "  5  A5  B5  C5\n",
            "z 6  A6  B6  C6\n",
            "  7  A7  B7  C7\n",
            "  8  A8  B8  C8\n",
            "==================================================\n",
            "    A   B   C\n",
            "6  A6  B6  C6\n",
            "7  A7  B7  C7\n",
            "8  A8  B8  C8\n"
          ]
        }
      ]
    },
    {
      "cell_type": "code",
      "source": [
        "# 1. 데이터 가공\n",
        "\n",
        "# 데이터 이어 붙이기(pd.concat()): 축의 로직 설정으로 이어 붙이기\n",
        "df1 = pd.DataFrame({'A': ['A0', 'A1', 'A2'],\n",
        "                    'B': ['B0', 'B1', 'B2'],\n",
        "                    'C': ['C0', 'C1', 'C2']}, index=[0, 1, 2])\n",
        "\n",
        "df4 = pd.DataFrame({'B': ['B2', 'B6', 'B7'],\n",
        "                    'C': ['C2', 'C6', 'C7'],\n",
        "                    'E': ['E2', 'E6', 'E7']}, index=[2, 6, 7])\n",
        "\n",
        "# axis=1: 데이터를 열(column)을 기준으로 결합. 즉, 두 옆으로 이어 붙임\n",
        "# sort=False: 원래 DataFrame의 열 순서로 정렬하지 않고 유지\n",
        "# 열을 기준으로 결합할 때는 두 DataFrame의 인덱스를 기준으로 align\n",
        "# 인덱스가 일치하지 않는 부분은 NaN으로 채워짐\n",
        "result = pd.concat([df1, df4], axis=1, sort=False)\n",
        "print(result), print('='*50)\n",
        "\n",
        "# join='inner': 두 DataFrame에서 모두 존재하는 인덱스(또는 열)의 교집합만 결과에 포함시킴\n",
        "result1 = pd.concat([df1, df4], axis=1, join='inner')\n",
        "print(result1), print('='*50)\n",
        "\n",
        "# join='outer' (기본값): 두 DataFrame의 모든 인덱스(또는 열)의 합집합을 결과에 포함시킴\n",
        "# 일치하지 않는 부분은 NaN으로 채움\n",
        "result2 = pd.concat([df1, df4], axis=1, join='outer')\n",
        "print(result2)"
      ],
      "metadata": {
        "colab": {
          "base_uri": "https://localhost:8080/"
        },
        "id": "oKiI3SoTES2-",
        "outputId": "13642166-9016-4241-c2fb-85f7622ce6a9"
      },
      "execution_count": null,
      "outputs": [
        {
          "output_type": "stream",
          "name": "stdout",
          "text": [
            "     A    B    C    B    C    E\n",
            "0   A0   B0   C0  NaN  NaN  NaN\n",
            "1   A1   B1   C1  NaN  NaN  NaN\n",
            "2   A2   B2   C2   B2   C2   E2\n",
            "6  NaN  NaN  NaN   B6   C6   E6\n",
            "7  NaN  NaN  NaN   B7   C7   E7\n",
            "==================================================\n",
            "    A   B   C   B   C   E\n",
            "2  A2  B2  C2  B2  C2  E2\n",
            "==================================================\n",
            "     A    B    C    B    C    E\n",
            "0   A0   B0   C0  NaN  NaN  NaN\n",
            "1   A1   B1   C1  NaN  NaN  NaN\n",
            "2   A2   B2   C2   B2   C2   E2\n",
            "6  NaN  NaN  NaN   B6   C6   E6\n",
            "7  NaN  NaN  NaN   B7   C7   E7\n"
          ]
        }
      ]
    },
    {
      "cell_type": "code",
      "source": [
        "# 1. 데이터 가공\n",
        "\n",
        "# 데이터 이어 붙이기(pd.concat()): 축의 로직 설정으로 이어 붙이기\n",
        "\n",
        "# reindex: DataFrame의 인덱스를 재정렬하거나 변경할 때 사용\n",
        "# df1의 index를 기준으로 결합\n",
        "result = pd.concat([df1, df4], axis=1).reindex(df1.index)\n",
        "print(result), print('='*50)\n",
        "\n",
        "# ignore_index=True: 원본 인덱스를 무시하고 결합된 결과 DataFrame에\n",
        "# 새로운 정수 인덱스(0부터 시작)를 자동으로 생성\n",
        "# 인덱스가 중복되는 경우 무시할 수 있음\n",
        "result2 = pd.concat([df1, df4], ignore_index=True)\n",
        "print(result2)"
      ],
      "metadata": {
        "colab": {
          "base_uri": "https://localhost:8080/"
        },
        "id": "GH15gThjmolh",
        "outputId": "4f36686d-53fe-4551-bb78-ff53f90b097b"
      },
      "execution_count": null,
      "outputs": [
        {
          "output_type": "stream",
          "name": "stdout",
          "text": [
            "    A   B   C    B    C    E\n",
            "0  A0  B0  C0  NaN  NaN  NaN\n",
            "1  A1  B1  C1  NaN  NaN  NaN\n",
            "2  A2  B2  C2   B2   C2   E2\n",
            "==================================================\n",
            "     A   B   C    E\n",
            "0   A0  B0  C0  NaN\n",
            "1   A1  B1  C1  NaN\n",
            "2   A2  B2  C2  NaN\n",
            "3  NaN  B2  C2   E2\n",
            "4  NaN  B6  C6   E6\n",
            "5  NaN  B7  C7   E7\n"
          ]
        }
      ]
    },
    {
      "cell_type": "code",
      "source": [
        "print(pd.__version__)"
      ],
      "metadata": {
        "colab": {
          "base_uri": "https://localhost:8080/"
        },
        "id": "PgRP2DupqHiy",
        "outputId": "0abe1b89-342e-44af-cda7-f9b0bf1bc50f"
      },
      "execution_count": null,
      "outputs": [
        {
          "output_type": "stream",
          "name": "stdout",
          "text": [
            "2.2.2\n"
          ]
        }
      ]
    },
    {
      "cell_type": "code",
      "source": [
        "# Pandas 2.0 이상 버전에서는 DataFrame.append()와 Series.append() 메소드가\n",
        "# 공식적으로 제거(removed) 되었\n",
        "result = df1.append(df2)\n",
        "print(result), print('='*50)"
      ],
      "metadata": {
        "colab": {
          "base_uri": "https://localhost:8080/",
          "height": 335
        },
        "id": "j4gF0OBNmq9I",
        "outputId": "0ef29148-d332-4596-f916-6e4cd174685d"
      },
      "execution_count": null,
      "outputs": [
        {
          "output_type": "error",
          "ename": "AttributeError",
          "evalue": "'DataFrame' object has no attribute 'append'",
          "traceback": [
            "\u001b[0;31m---------------------------------------------------------------------------\u001b[0m",
            "\u001b[0;31mAttributeError\u001b[0m                            Traceback (most recent call last)",
            "\u001b[0;32m<ipython-input-50-b544df983630>\u001b[0m in \u001b[0;36m<cell line: 0>\u001b[0;34m()\u001b[0m\n\u001b[1;32m      6\u001b[0m                     'C': ['C3', 'C4', 'C5']}, index=[3, 4, 5])\n\u001b[1;32m      7\u001b[0m \u001b[0;34m\u001b[0m\u001b[0m\n\u001b[0;32m----> 8\u001b[0;31m \u001b[0mresult\u001b[0m \u001b[0;34m=\u001b[0m \u001b[0mdf1\u001b[0m\u001b[0;34m.\u001b[0m\u001b[0mappend\u001b[0m\u001b[0;34m(\u001b[0m\u001b[0mdf2\u001b[0m\u001b[0;34m)\u001b[0m\u001b[0;34m\u001b[0m\u001b[0;34m\u001b[0m\u001b[0m\n\u001b[0m\u001b[1;32m      9\u001b[0m \u001b[0mprint\u001b[0m\u001b[0;34m(\u001b[0m\u001b[0mresult\u001b[0m\u001b[0;34m)\u001b[0m\u001b[0;34m,\u001b[0m \u001b[0mprint\u001b[0m\u001b[0;34m(\u001b[0m\u001b[0;34m'='\u001b[0m\u001b[0;34m*\u001b[0m\u001b[0;36m50\u001b[0m\u001b[0;34m)\u001b[0m\u001b[0;34m\u001b[0m\u001b[0;34m\u001b[0m\u001b[0m\n",
            "\u001b[0;32m/usr/local/lib/python3.11/dist-packages/pandas/core/generic.py\u001b[0m in \u001b[0;36m__getattr__\u001b[0;34m(self, name)\u001b[0m\n\u001b[1;32m   6297\u001b[0m         ):\n\u001b[1;32m   6298\u001b[0m             \u001b[0;32mreturn\u001b[0m \u001b[0mself\u001b[0m\u001b[0;34m[\u001b[0m\u001b[0mname\u001b[0m\u001b[0;34m]\u001b[0m\u001b[0;34m\u001b[0m\u001b[0;34m\u001b[0m\u001b[0m\n\u001b[0;32m-> 6299\u001b[0;31m         \u001b[0;32mreturn\u001b[0m \u001b[0mobject\u001b[0m\u001b[0;34m.\u001b[0m\u001b[0m__getattribute__\u001b[0m\u001b[0;34m(\u001b[0m\u001b[0mself\u001b[0m\u001b[0;34m,\u001b[0m \u001b[0mname\u001b[0m\u001b[0;34m)\u001b[0m\u001b[0;34m\u001b[0m\u001b[0;34m\u001b[0m\u001b[0m\n\u001b[0m\u001b[1;32m   6300\u001b[0m \u001b[0;34m\u001b[0m\u001b[0m\n\u001b[1;32m   6301\u001b[0m     \u001b[0;34m@\u001b[0m\u001b[0mfinal\u001b[0m\u001b[0;34m\u001b[0m\u001b[0;34m\u001b[0m\u001b[0m\n",
            "\u001b[0;31mAttributeError\u001b[0m: 'DataFrame' object has no attribute 'append'"
          ]
        }
      ]
    },
    {
      "cell_type": "code",
      "source": [
        "# 1. 데이터 가공\n",
        "\n",
        "# 데이터 이어 붙이기(pd.concat()): 차원이 다른 시리즈와 데이터프레임 이어 붙이기\n",
        "df1 = pd.DataFrame({'A': ['A0', 'A1', 'A2'],\n",
        "                    'B': ['B0', 'B1', 'B2'],\n",
        "                    'C': ['C0', 'C1', 'C2']}, index=[0, 1, 2])\n",
        "\n",
        "s2 = pd.Series(['Z0', 'Z1', 'Z2', 'Z3'], name='Z')\n",
        "result = pd.concat([df1, s2], axis=1)\n",
        "print(result), print('='*30)\n",
        "\n",
        "s3 = pd.Series(['*0', '*1', '*2'])\n",
        "result2 = pd.concat([df1, s3, s3, s3], axis=1)\n",
        "print(result2)"
      ],
      "metadata": {
        "colab": {
          "base_uri": "https://localhost:8080/"
        },
        "id": "U2Jj1cxKqTOO",
        "outputId": "8f67fda5-0318-42ed-a290-324efa07293e"
      },
      "execution_count": null,
      "outputs": [
        {
          "output_type": "stream",
          "name": "stdout",
          "text": [
            "     A    B    C   Z\n",
            "0   A0   B0   C0  Z0\n",
            "1   A1   B1   C1  Z1\n",
            "2   A2   B2   C2  Z2\n",
            "3  NaN  NaN  NaN  Z3\n",
            "==============================\n",
            "    A   B   C   0   1   2\n",
            "0  A0  B0  C0  *0  *0  *0\n",
            "1  A1  B1  C1  *1  *1  *1\n",
            "2  A2  B2  C2  *2  *2  *2\n"
          ]
        }
      ]
    },
    {
      "cell_type": "code",
      "source": [
        "# 1. 데이터 가공\n",
        "\n",
        "# 데이터 이어 붙이기(pd.concat()): 그룹 키로 이어 붙이기\n",
        "s4 = pd.Series([0, 1, 2, 3], name='J')\n",
        "s5 = pd.Series([0, 1, 2, 3])\n",
        "s6 = pd.Series([0, 1, 4, 5])\n",
        "\n",
        "result3 = pd.concat([s4, s5, s6], axis=1)\n",
        "print(result3), print('='*30)\n",
        "\n",
        "# keys = [ ]: DataFrame의 컬럼 이름을 명시적으로 지정\n",
        "result4 = pd.concat([s4, s5, s6], axis=1, keys=['ha', 'hi', 'ho'])\n",
        "print(result4)"
      ],
      "metadata": {
        "colab": {
          "base_uri": "https://localhost:8080/"
        },
        "id": "UIr7oK5gmtKB",
        "outputId": "cd891caf-5069-4c74-ac8f-28353e0379b0"
      },
      "execution_count": null,
      "outputs": [
        {
          "output_type": "stream",
          "name": "stdout",
          "text": [
            "   J  0  1\n",
            "0  0  0  0\n",
            "1  1  1  1\n",
            "2  2  2  4\n",
            "3  3  3  5\n",
            "==============================\n",
            "   ha  hi  ho\n",
            "0   0   0   0\n",
            "1   1   1   1\n",
            "2   2   2   4\n",
            "3   3   3   5\n"
          ]
        }
      ]
    },
    {
      "cell_type": "code",
      "source": [
        "# 1. 데이터 가공\n",
        "\n",
        "# 데이터 이어 붙이기(pd.concat()): 그룹 키로 이어 붙이기\n",
        "df1 = pd.DataFrame({'A': ['A0', 'A1', 'A2'],\n",
        "                    'B': ['B0', 'B1', 'B2'],\n",
        "                    'C': ['C0', 'C1', 'C2']}, index=[0, 1, 2])\n",
        "df2 = pd.DataFrame({'A': ['A3', 'A4', 'A5'],\n",
        "                    'B': ['B3', 'B4', 'B5'],\n",
        "                    'C': ['C3', 'C4', 'C5']}, index=[3, 4, 5])\n",
        "df3 = pd.DataFrame({'A': ['A6', 'A7', 'A8'],\n",
        "                    'B': ['B6', 'B7', 'B8'],\n",
        "                    'C': ['C6', 'C7', 'C8']}, index=[6, 7, 8])\n",
        "frames = [df1, df2, df3]\n",
        "\n",
        "result = pd.concat(frames, keys=['ha', 'hi', 'ho'])\n",
        "print(result), print('='*50)\n",
        "\n",
        "# DataFrame들을 딕셔너리 형태로 준비\n",
        "# 딕셔너리의 키('ha', 'hi', 'ho')는 해당 DataFrame의 상위 레벨 인덱스가 됨\n",
        "pic = {'ha': df1, 'hi': df2, 'ho': df3}\n",
        "result1 = pd.concat(pic)\n",
        "print(result1), print('='*50)\n",
        "\n",
        "# 딕셔너리의 키들 중 특정 키만 선택하여 포함하고, 그 순서도 재정렬\n",
        "result2 = pd.concat(pic, keys=['ho', 'hi'])\n",
        "print(result2)"
      ],
      "metadata": {
        "colab": {
          "base_uri": "https://localhost:8080/"
        },
        "id": "lp1gUozVmyo1",
        "outputId": "ce13f9b1-6639-4cbb-efaa-cc05eb94f832"
      },
      "execution_count": null,
      "outputs": [
        {
          "output_type": "stream",
          "name": "stdout",
          "text": [
            "       A   B   C\n",
            "ha 0  A0  B0  C0\n",
            "   1  A1  B1  C1\n",
            "   2  A2  B2  C2\n",
            "hi 3  A3  B3  C3\n",
            "   4  A4  B4  C4\n",
            "   5  A5  B5  C5\n",
            "ho 6  A6  B6  C6\n",
            "   7  A7  B7  C7\n",
            "   8  A8  B8  C8\n",
            "==================================================\n",
            "       A   B   C\n",
            "ha 0  A0  B0  C0\n",
            "   1  A1  B1  C1\n",
            "   2  A2  B2  C2\n",
            "hi 3  A3  B3  C3\n",
            "   4  A4  B4  C4\n",
            "   5  A5  B5  C5\n",
            "ho 6  A6  B6  C6\n",
            "   7  A7  B7  C7\n",
            "   8  A8  B8  C8\n",
            "==================================================\n",
            "       A   B   C\n",
            "ho 6  A6  B6  C6\n",
            "   7  A7  B7  C7\n",
            "   8  A8  B8  C8\n",
            "hi 3  A3  B3  C3\n",
            "   4  A4  B4  C4\n",
            "   5  A5  B5  C5\n"
          ]
        }
      ]
    },
    {
      "cell_type": "code",
      "source": [],
      "metadata": {
        "id": "qO-dkn2Pm0f2"
      },
      "execution_count": null,
      "outputs": []
    }
  ]
}