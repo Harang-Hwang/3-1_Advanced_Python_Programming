{
 "cells": [
  {
   "cell_type": "markdown",
   "metadata": {
    "id": "j3Dn5Pdc5Gn8"
   },
   "source": [
    "### 7주차 강의"
   ]
  },
  {
   "cell_type": "code",
   "execution_count": null,
   "metadata": {
    "id": "CwXCDary6UHj"
   },
   "outputs": [],
   "source": [
    "import numpy as np"
   ]
  },
  {
   "cell_type": "code",
   "execution_count": null,
   "metadata": {
    "colab": {
     "base_uri": "https://localhost:8080/"
    },
    "id": "r6GeoND_U6Du",
    "outputId": "d9edc766-287e-47f0-827d-e09f9564e871"
   },
   "outputs": [
    {
     "name": "stdout",
     "output_type": "stream",
     "text": [
      "-3.0\n",
      "==============================\n",
      "[[0. 1. 2.]\n",
      " [3. 4. 5.]\n",
      " [6. 7. 8.]]\n",
      "------------------------------\n",
      "[0. 1. 2.]\n",
      "------------------------------\n",
      "[[0. 0. 0.]\n",
      " [3. 3. 3.]\n",
      " [6. 6. 6.]]\n"
     ]
    }
   ],
   "source": [
    "# 유용한 ufunc (1)\n",
    "\n",
    "# np.subtract\n",
    "print(np.subtract(1.0, 4.0))\n",
    "print('='*30)\n",
    "\n",
    "arr1 = np.arange(9.0).reshape((3, 3)) # shape (3,3)\n",
    "arr2 = np.arange(3.0)                 # shape (3,)\n",
    "print(arr1), print('-'*30)\n",
    "print(arr2), print('-'*30)\n",
    "\n",
    "print(np.subtract(arr1, arr2))"
   ]
  },
  {
   "cell_type": "code",
   "execution_count": null,
   "metadata": {
    "colab": {
     "base_uri": "https://localhost:8080/"
    },
    "id": "5pRjmxkDWwmx",
    "outputId": "67a80f74-45f1-4d3e-b2fb-c094c3129640"
   },
   "outputs": [
    {
     "name": "stdout",
     "output_type": "stream",
     "text": [
      "[0, 1, 2, 3, 4, 5]\n",
      "------------------------------\n",
      "[  0   1   8  27  64 125]\n",
      "==============================\n",
      "[0, 1, 2, 3, 4, 5]\n",
      "------------------------------\n",
      "[1.0, 2.0, 3.0, 3.0, 2.0, 1.0]\n",
      "------------------------------\n",
      "[ 0.  1.  8. 27. 16.  5.]\n",
      "==============================\n",
      "[[1 2 3 3 2 1]\n",
      " [1 2 3 3 2 1]]\n",
      "------------------------------\n",
      "[[ 0  1  8 27 16  5]\n",
      " [ 0  1  8 27 16  5]]\n"
     ]
    }
   ],
   "source": [
    "# 유용한 ufunc (2)\n",
    "\n",
    "# np.power\n",
    "arr1 = range(6)\n",
    "a = np.power(arr1, 3)\n",
    "print(list(arr1)), print('-'*30)\n",
    "print(a), print('='*30)\n",
    "\n",
    "arr2 = [1.0, 2.0, 3.0, 3.0, 2.0, 1.0]\n",
    "b = np.power(arr1, arr2)\n",
    "print(list(arr1)), print('-'*30)\n",
    "print(arr2), print('-'*30)\n",
    "print(b), print('='*30)\n",
    "\n",
    "# 유니버셜 함수에 브로드캐스팅을 적용할 수 있음\n",
    "arr3 = np.array([[1, 2, 3, 3, 2, 1],\n",
    "                 [1, 2, 3, 3, 2, 1]])\n",
    "c = np.power(arr1, arr3)\n",
    "print(arr3), print('-'*30)\n",
    "print(c)"
   ]
  },
  {
   "cell_type": "code",
   "execution_count": null,
   "metadata": {
    "colab": {
     "base_uri": "https://localhost:8080/"
    },
    "id": "j6nI8B02YSE8",
    "outputId": "1ad81dab-f728-4181-c9a0-c31d14def03d"
   },
   "outputs": [
    {
     "name": "stdout",
     "output_type": "stream",
     "text": [
      "np.sin(np.pi/2): 1.0\n",
      "np.cos(np.pi): -1.0\n",
      "------------------------------------------------------------\n",
      "np.sin(np.deg2rad(0)): 0.0\n",
      "np.tan(np.deg2rad(90)): 1.633123935319537e+16\n",
      "------------------------------------------------------------\n",
      "np.cos(np.rad2deg(np.pi)): -0.5984600690578581\n",
      "------------------------------------------------------------\n",
      "[0.         0.5        0.70710678 0.8660254  1.        ]\n"
     ]
    }
   ],
   "source": [
    "# 유용한 ufunc (3)\n",
    "\n",
    "# 삼각 함수 (입력이 radian 이어야 함)\n",
    "\n",
    "# np.sin, np.cos, np.tan\n",
    "print(f'np.sin(np.pi/2): {np.sin(np.pi/2)}')\n",
    "print(f'np.cos(np.pi): {np.cos(np.pi)}')\n",
    "print('-'*60)\n",
    "\n",
    "# deg2rad -> 각도를 라디안으로 바꿔주는 함수. 기억 안나면 공식 써도 됨\n",
    "print(f'np.sin(np.deg2rad(0)): {np.sin(np.deg2rad(0))}')\n",
    "print(f'np.tan(np.deg2rad(90)): {np.tan(np.deg2rad(90))}') # 무한대\n",
    "print('-'*60)\n",
    "\n",
    "# rad2deg (예상했던 결과는 -1인데...) -> 라디안을 각도로 변환\n",
    "print(f'np.cos(np.rad2deg(np.pi)): {np.cos(np.rad2deg(np.pi))}') # 실수할 수 있는 부분 / 각도가 들어가면 안되는데, 들어가서 예상 결과와 다름.\n",
    "print('-'*60)\n",
    "\n",
    "print(np.sin(np.array((0., 30., 45., 60., 90.))*np.pi/180.)) # 180도에 해당하는 것 = pi / 비례식 관련 공식 생각해보기"
   ]
  },
  {
   "cell_type": "code",
   "execution_count": null,
   "metadata": {
    "colab": {
     "base_uri": "https://localhost:8080/"
    },
    "id": "WHgM8EMPbwbb",
    "outputId": "dc92695c-6b10-490c-c4e3-bf707a5e39b2"
   },
   "outputs": [
    {
     "name": "stdout",
     "output_type": "stream",
     "text": [
      "a: 1, b: 29, c: 28\n",
      "--------------------\n",
      "10001\n",
      "00010001\n",
      "--------------------\n",
      "[12  1]\n"
     ]
    }
   ],
   "source": [
    "# 유용한 ufunc (4)\n",
    "\n",
    "# binary 연산 - 2개의 숫자(0 또는 1)로 이루어진 연산 / 연산자 계산법 다시 보기\n",
    "\n",
    "# 13 : 0000 1101\n",
    "# 17 : 0001 0001\n",
    "a = np.bitwise_and(13, 17)  # 1   -> and 연산 => 1로 나옴 (이진수로 바뀌어 나옴; 0000 0001 = 1)\n",
    "b = np.bitwise_or(13, 17)   # 29  -> or 연산 => 0001 1101 = 29\n",
    "c = np.bitwise_xor(13, 17)  # 28  -> xor 연산 => 0001 1100 = 28\n",
    "print(f'a: {a}, b: {b}, c: {c}')\n",
    "print('-'*20)\n",
    "\n",
    "# binary_repr (representation)은 10진수를 2진수로 변환\n",
    "# 비트 수(width)를 지정하지 않으면 가장 짧은 형태로 표현\n",
    "print(np.binary_repr(17)) # repr : 어떤 역할인지만 알아두면 됨, 잘 안나옴 (10진수 -> 2진수 변환)\n",
    "print(np.binary_repr(17, width=8))\n",
    "print('-'*20)\n",
    "\n",
    "# 14 : 0000 1110\n",
    "# 3  : 0000 0011\n",
    "# 13 : 0000 1101\n",
    "print(np.bitwise_and([14, 3], 13)) # 브로트캐스팅 14 & 13, 3 & 13\n",
    "#((2, ), (scolar)) = np.bitwise_and([14, 3], 13))"
   ]
  },
  {
   "cell_type": "code",
   "execution_count": null,
   "metadata": {
    "colab": {
     "base_uri": "https://localhost:8080/"
    },
    "id": "fjbHK4YdazUO",
    "outputId": "cd41fb31-4a94-4f4c-b103-1a9a50a96d47"
   },
   "outputs": [
    {
     "name": "stdout",
     "output_type": "stream",
     "text": [
      "b : [99  2  3  4]\n",
      "a : [99  2  3  4]\n"
     ]
    }
   ],
   "source": [
    "# 뷰 (view) (1)\n",
    "\n",
    "# 메모리 공유\n",
    "a = np.array([1, 2, 3, 4])\n",
    "b = a.view()  # b는 a의 view\n",
    "\n",
    "b[0] = 99\n",
    "print(f'b : {b}')\n",
    "print(f'a : {a}') # [99  2  3  4] -> 원본도 바뀜!\n"
   ]
  },
  {
   "cell_type": "code",
   "execution_count": null,
   "metadata": {
    "colab": {
     "base_uri": "https://localhost:8080/"
    },
    "id": "nYYE5DsvbP0U",
    "outputId": "9725aacc-deec-49e1-e512-014a9c780b9e"
   },
   "outputs": [
    {
     "name": "stdout",
     "output_type": "stream",
     "text": [
      "[0 1 2 3 4 5 6 7 8 9]\n",
      "--------------------\n",
      "[1]\n",
      "--------------------\n",
      "[2]\n",
      "--------------------\n",
      "[0 2 2 3 4 5 6 7 8 9]\n",
      "====================\n",
      "[2 4 7]\n",
      "--------------------\n",
      "[ 2  4 10]\n",
      "--------------------\n",
      "[ 0  2  2  3  4  5  6 10  8  9]\n"
     ]
    }
   ],
   "source": [
    "# 뷰 (view) (2)\n",
    "\n",
    "# 뷰 생성 방법(1) : 슬라이싱\n",
    "arr = np.arange(10) # [0 1 2 3 4 5 6 7 8 9]\n",
    "print(arr), print('-'*20)\n",
    "\n",
    "# v1 & v2는 arr의 view 임\n",
    "v1 = arr[1:2]\n",
    "print(v1), print('-'*20)  # [1]\n",
    "arr[1] = 2\n",
    "print(v1), print('-'*20)  # [2]\n",
    "print(arr), print('='*20) # [0 2 2 3 4 5 6 7 8 9]\n",
    "\n",
    "v2 = arr[1::3]\n",
    "print(v2), print('-'*20)  # [2 4 7]\n",
    "arr[7] = 10\n",
    "print(v2), print('-'*20)  # [2 4 10]\n",
    "print(arr)      # [0 2 2 3 4 5 6 10 8 9]"
   ]
  },
  {
   "cell_type": "code",
   "execution_count": null,
   "metadata": {
    "colab": {
     "base_uri": "https://localhost:8080/"
    },
    "id": "rvBtGxozeB7w",
    "outputId": "5580044b-d7b4-4227-9e77-917fd343bce6"
   },
   "outputs": [
    {
     "name": "stdout",
     "output_type": "stream",
     "text": [
      "arr1: [0 0], uint16\n",
      "arr2: [0 0 0 0], uint8\n",
      "arr3: [0], uint32\n",
      "arr4: [0 0], uint8\n",
      "arr5: [0 0], uint32\n"
     ]
    }
   ],
   "source": [
    "# 뷰 (view) (3)\n",
    "\n",
    "# 뷰 생성 방법(2) : dtype을 변경하는 dtype view로 생성\n",
    "arr1 = np.zeros(2, dtype=np.uint16)\n",
    "arr2 = arr1.view(np.uint8)\n",
    "arr3 = arr1.view(np.uint32)\n",
    "\n",
    "print(f'arr1: {arr1}, {arr1.dtype}')  # [0 0] uint16\n",
    "\n",
    "# 바이트 단위로 쪼개져서 출력됨\n",
    "print(f'arr2: {arr2}, {arr2.dtype}')  # [0 0 0 0] uint8\n",
    "\n",
    "# 바이트 단위로 합쳐서 출력됨\n",
    "print(f'arr3: {arr3}, {arr3.dtype}')  # [0] uint32\n",
    "\n",
    "\n",
    "# 참고) astype을 이용한 복사\n",
    "arr4 = arr1.astype(np.uint8)\n",
    "arr5 = arr1.astype(np.uint32)\n",
    "print(f'arr4: {arr4}, {arr4.dtype}')  # [0 0] uint8\n",
    "print(f'arr5: {arr5}, {arr5.dtype}')  # [0 0] uint32"
   ]
  },
  {
   "cell_type": "code",
   "execution_count": null,
   "metadata": {
    "colab": {
     "base_uri": "https://localhost:8080/"
    },
    "id": "4vtCFfoAfuX3",
    "outputId": "db2f7087-b320-4f26-f59c-f54d80ae053c"
   },
   "outputs": [
    {
     "name": "stdout",
     "output_type": "stream",
     "text": [
      "[[0 1]\n",
      " [2 3]]\n",
      "--------------------\n",
      "[[0 0 1 0]\n",
      " [2 0 3 0]]\n",
      "--------------------\n",
      "[[  0   0 100   0]\n",
      " [200   0  44   1]]\n"
     ]
    }
   ],
   "source": [
    "# 뷰 (view) (4)\n",
    "\n",
    "# 배열 요소의 타입이 작은 타입 <-> 큰 타입으로 변경 (1)\n",
    "arr = np.arange(4, dtype=np.uint16).reshape(2, 2)\n",
    "print(arr), print('-'*20)   # [[0 1], [2 3]]\n",
    "\n",
    "print(arr.view(np.uint8))   # [[0 0 1 0], [2 0 3 0]]\n",
    "print('-'*20)\n",
    "\n",
    "print((arr*100).view(np.uint8)) # [[0 0 100 0], [200 0 44 1]]"
   ]
  },
  {
   "cell_type": "code",
   "execution_count": null,
   "metadata": {
    "colab": {
     "base_uri": "https://localhost:8080/"
    },
    "id": "1B_69FQ6pWJ2",
    "outputId": "cd785d42-01c0-495c-a5ab-eb64719993e7"
   },
   "outputs": [
    {
     "name": "stdout",
     "output_type": "stream",
     "text": [
      "0x12c\n"
     ]
    }
   ],
   "source": [
    "decimal_number = 300\n",
    "hexadecimal_number = hex(decimal_number)\n",
    "print(hexadecimal_number)  # 0x12c"
   ]
  },
  {
   "cell_type": "code",
   "execution_count": null,
   "metadata": {
    "colab": {
     "base_uri": "https://localhost:8080/"
    },
    "id": "GPV-F0EsvmGT",
    "outputId": "4f53bc4b-4632-47d8-827a-f6d22f2c78dc"
   },
   "outputs": [
    {
     "name": "stdout",
     "output_type": "stream",
     "text": [
      "[[0 1]\n",
      " [2 3]]\n",
      "(4, 2)\n"
     ]
    }
   ],
   "source": [
    "# 뷰 (view) (5)\n",
    "\n",
    "# strides\n",
    "arr = np.arange(4, dtype=np.uint16).reshape(2, 2)\n",
    "print(arr)          # [[0 1], [2 3]]\n",
    "print(arr.strides)  # (4, 2)\n"
   ]
  },
  {
   "cell_type": "code",
   "execution_count": null,
   "metadata": {
    "colab": {
     "base_uri": "https://localhost:8080/"
    },
    "id": "xyZkhGZ7wJ31",
    "outputId": "eb7ecd33-4d03-4a0e-a002-41b6e2278aef"
   },
   "outputs": [
    {
     "name": "stdout",
     "output_type": "stream",
     "text": [
      "[[-3 -2 -1  0]\n",
      " [ 1  2  3  4]\n",
      " [ 5  6  7  8]]\n",
      "------------------------------------------------------------\n",
      "[1 2 3 4 5 6 7 8]\n",
      "------------------------------------------------------------\n",
      "[0 0 0 0 0 0 0 0]\n",
      "------------------------------------------------------------\n",
      "[[-3 -2 -1  0]\n",
      " [ 1  2  3  4]\n",
      " [ 5  6  7  8]]\n",
      "============================================================\n",
      "False\n",
      "[[0 0 0 0]\n",
      " [0 0 0 0]\n",
      " [0 0 0 0]]\n",
      "True\n",
      "[0 0 0 0]\n",
      "------------------------------------------------------------\n",
      "[0 0 0 0]\n",
      "------------------------------------------------------------\n",
      "[[0 0 0 0]\n",
      " [0 0 0 0]\n",
      " [0 0 0 0]]\n"
     ]
    }
   ],
   "source": [
    "# 복사 (copy) (1)\n",
    "\n",
    "# Boolean indexing\n",
    "arr = np.arange(12).reshape(3, 4) - 3\n",
    "print(arr), print('-'*60)\n",
    "\n",
    "arr1 = arr[arr>0] # boolean indexing\n",
    "print(arr1)       # [1 2 3 4 5 6 7 8]\n",
    "print('-'*60)\n",
    "\n",
    "arr1[:] = 0       # [:]은 원칙적으로 슬라이싱으로 view 반환.\n",
    "                  # 그러나 1차원 배열에서는 copy 반환\n",
    "print(arr1)       # [0 0 0 0 0 0 0 0]\n",
    "print('-'*60)\n",
    "print(arr), print('='*60)\n",
    "print(np.may_share_memory(arr, arr1))\n",
    "\n",
    "# arr2 = arr[:]\n",
    "# arr2[:] = 0\n",
    "# print(arr)\n",
    "# print(np.may_share_memory(arr, arr2))\n",
    "\n",
    "# Slicing\n",
    "arr3 = arr[0, :]\n",
    "print(arr3), print('-'*60)  # [-3 -2 -1  0]\n",
    "arr3[:] = 0\n",
    "print(arr3), print('-'*60)  # [0 0 0 0]\n",
    "print(arr)  # [[0 0 0 0], [1 2 3 4], [5 6 7 8]]"
   ]
  },
  {
   "cell_type": "code",
   "execution_count": null,
   "metadata": {
    "colab": {
     "base_uri": "https://localhost:8080/"
    },
    "id": "xMie-QBGzXF9",
    "outputId": "ebf141df-554c-4b95-9885-b1ed1b99222c"
   },
   "outputs": [
    {
     "name": "stdout",
     "output_type": "stream",
     "text": [
      "[[ 0  1  2  3]\n",
      " [ 4  5  6  7]\n",
      " [ 8  9 10 11]]\n",
      "------------------------------------------------------------\n",
      "[0 1 2 3]\n",
      "============================================================\n",
      "[0 1 2 3]\n",
      "------------------------------------------------------------\n",
      "[0 0 0 0]\n"
     ]
    }
   ],
   "source": [
    "# 복사 (copy) (2)\n",
    "\n",
    "# view vs. copy\n",
    "arr = np.arange(12).reshape(3, 4)\n",
    "print(arr), print('-'*60)\n",
    "\n",
    "# view\n",
    "arr1 = arr[0, :]\n",
    "print(arr1), print('='*60)  # [0 1 2 3]\n",
    "\n",
    "# copy\n",
    "arr2 = arr1[:].copy()\n",
    "arr2[:] = 0\n",
    "print(arr1), print('-'*60)  # [0 1 2 3]\n",
    "print(arr2)                 # [0 0 0 0]"
   ]
  },
  {
   "cell_type": "code",
   "execution_count": null,
   "metadata": {
    "colab": {
     "base_uri": "https://localhost:8080/"
    },
    "id": "uMEMB_1GM8Gh",
    "outputId": "26564685-1137-4d2e-d4f1-273c7e3a07d2"
   },
   "outputs": [
    {
     "name": "stdout",
     "output_type": "stream",
     "text": [
      "[[ 0  1  2  3]\n",
      " [ 4  5  6  7]\n",
      " [ 8  9 10 11]]\n",
      "----------------------------------------\n",
      "[ 0  1  2  3  4  5  6  7  8  9 10 11]\n",
      "----------------------------------------\n",
      "[ 0  4  8  1  5  9  2  6 10  3  7 11]\n",
      "========================================\n",
      "[[ 0  1  2  3  4  5]\n",
      " [ 6  7  8  9 10 11]]\n",
      "----------------------------------------\n",
      "[[ 0  4  8  1  5  9]\n",
      " [ 2  6 10  3  7 11]]\n",
      "========================================\n",
      "[[ 0  4  8]\n",
      " [ 1  5  9]\n",
      " [ 2  6 10]\n",
      " [ 3  7 11]]\n",
      "----------------------------------------\n",
      "[ 0  4  8  1  5  9  2  6 10  3  7 11]\n",
      "----------------------------------------\n",
      "[ 0  1  2  3  4  5  6  7  8  9 10 11]\n"
     ]
    }
   ],
   "source": [
    "# 배열 조작과 정렬(array manipulation and alignment)\n",
    "\n",
    "# C우선 배치와 F우선 배치 (1)\n",
    "\n",
    "arr = np.arange(12).reshape(3,4)\n",
    "\n",
    "print(arr), print('-'*40)\n",
    "print(arr.ravel(order='C')), print('-'*40)\n",
    "print(arr.ravel(order='F')), print('='*40)\n",
    "\n",
    "print(arr.reshape(2, 6)), print('-'*40)\n",
    "print(arr.ravel(order='F').reshape(2, 6)), print('='*40)\n",
    "\n",
    "arrT = arr.T\n",
    "print(arrT), print('-'*40)\n",
    "print(arrT.ravel(order='C')), print('-'*40)\n",
    "print(arrT.ravel(order='F'))"
   ]
  },
  {
   "cell_type": "code",
   "execution_count": null,
   "metadata": {
    "colab": {
     "base_uri": "https://localhost:8080/"
    },
    "id": "ri2-Q3SsVsZC",
    "outputId": "6b708190-aeb2-4867-f43d-c22dfab1b2a3"
   },
   "outputs": [
    {
     "name": "stdout",
     "output_type": "stream",
     "text": [
      "[0 1 2 3 4 5]\n",
      "------------------------------\n",
      "[[0 1 2]\n",
      " [3 4 5]]\n",
      "------------------------------\n",
      "[0 1 2 3 4 5]\n",
      "[[0 1 2]\n",
      " [3 4 5]]\n",
      "==============================\n",
      "[[0 2 4]\n",
      " [1 3 5]]\n",
      "------------------------------\n",
      "[0 1 2 3 4 5]\n",
      "[[0 2 4]\n",
      " [1 3 5]]\n"
     ]
    }
   ],
   "source": [
    "# 배열 조작과 정렬(array manipulation and alignment)\n",
    "\n",
    "# C우선 배치와 F우선 배치 (2)\n",
    "\n",
    "arr = np.arange(6)\n",
    "print(arr), print('-'*30)\n",
    "\n",
    "# C 우선 배치\n",
    "print(np.reshape(arr, (2, 3))), print('-'*30)\n",
    "\n",
    "# C 우선 ravel() 적용 후 C 우선 reshape() 적용\n",
    "print(np.ravel(arr))\n",
    "print(np.reshape(np.ravel(arr), (2, 3))), print('='*30)\n",
    "\n",
    "# F 우선 배치\n",
    "print(np.reshape(arr, (2,3), order='F')), print('-'*30)\n",
    "\n",
    "# F 우선 ravel() 적용 후 F 우선 reshape() 적용\n",
    "print(np.ravel(arr, order='F'))\n",
    "print(np.reshape(np.ravel(arr, order='F'), (2, 3), order='F'))\n"
   ]
  },
  {
   "cell_type": "code",
   "execution_count": null,
   "metadata": {
    "colab": {
     "base_uri": "https://localhost:8080/"
    },
    "id": "w2cMYrWjYD4W",
    "outputId": "01733f9a-06b5-4551-b6fd-99ef1cb4d17a"
   },
   "outputs": [
    {
     "name": "stdout",
     "output_type": "stream",
     "text": [
      "[[1 2]\n",
      " [3 4]]\n",
      "------------------------------\n",
      "[[5 6]]\n",
      "------------------------------\n",
      "arr1 shape: (2, 2)\n",
      "arr2 shape: (1, 2)\n",
      "------------------------------\n",
      "arr_axis0: \n",
      " [[1 2]\n",
      " [3 4]\n",
      " [5 6]]\n",
      "------------------------------\n",
      "arr_axis1: \n",
      " [[1 2 5]\n",
      " [3 4 6]]\n",
      "------------------------------\n",
      "arr_axisNone: \n",
      " [1 2 3 4 5 6]\n"
     ]
    }
   ],
   "source": [
    "# 배열 조작과 정렬(array manipulation and alignment)\n",
    "\n",
    "# np.concatenate()\n",
    "\n",
    "arr1 = np.array([[1, 2], [3, 4]])\n",
    "arr2 = np.array([[5, 6]])\n",
    "print(arr1), print('-'*30)\n",
    "print(arr2), print('-'*30)\n",
    "print(f'arr1 shape: {arr1.shape}')\n",
    "print(f'arr2 shape: {arr2.shape}'), print('-'*30)\n",
    "\n",
    "arr_axis0 = np.concatenate((arr1, arr2), axis=0)\n",
    "arr_axis1 = np.concatenate((arr1, arr2.T), axis=1)\n",
    "print(f'arr_axis0: \\n {arr_axis0}'), print('-'*30)\n",
    "print(f'arr_axis1: \\n {arr_axis1}'), print('-'*30)\n",
    "\n",
    "# 두 배열을 1차원으로 flatten 한 뒤, 단순히 concatenate\n",
    "arr_axisNone = np.concatenate((arr1, arr2), axis=None)\n",
    "print(f'arr_axisNone: \\n {arr_axisNone}')"
   ]
  },
  {
   "cell_type": "code",
   "execution_count": null,
   "metadata": {
    "colab": {
     "base_uri": "https://localhost:8080/"
    },
    "id": "DLzxQUQqSFIJ",
    "outputId": "26116f31-f2d8-4730-add1-609f23d237e2"
   },
   "outputs": [
    {
     "name": "stdout",
     "output_type": "stream",
     "text": [
      "[[[0.7163033  0.24640273 0.58277461 0.18720079]\n",
      "  [0.28570761 0.25987033 0.67619577 0.45892556]\n",
      "  [0.12677065 0.19172686 0.33286629 0.52341994]]\n",
      "\n",
      " [[0.11689602 0.06991695 0.70444514 0.82919225]\n",
      "  [0.73652079 0.15229665 0.68163837 0.12234761]\n",
      "  [0.55429646 0.02113269 0.7716156  0.71626986]]]\n",
      "------------------------------------------------------------\n",
      "[[[-0.72788424  1.53868993  0.4088704  -0.11344969]\n",
      "  [ 1.06137626  1.72968516 -1.08032053  1.73449908]\n",
      "  [ 0.08343583 -0.5883127  -0.32098887  0.46851055]]\n",
      "\n",
      " [[-0.69596468 -0.39641027  1.27374458 -0.07969525]\n",
      "  [-0.97463916  1.13858701 -1.79700403 -0.73398791]\n",
      "  [-0.71757147 -1.83829972 -1.28684745  0.46937347]]]\n",
      "------------------------------------------------------------\n",
      "arr1 shape: (2, 3, 4)\n",
      "arr2 shape: (2, 3, 4)\n",
      "------------------------------------------------------------\n",
      "arr_axis0 shape: (4, 3, 4)\n",
      "arr_axis0: \n",
      " [[[ 0.7163033   0.24640273  0.58277461  0.18720079]\n",
      "  [ 0.28570761  0.25987033  0.67619577  0.45892556]\n",
      "  [ 0.12677065  0.19172686  0.33286629  0.52341994]]\n",
      "\n",
      " [[ 0.11689602  0.06991695  0.70444514  0.82919225]\n",
      "  [ 0.73652079  0.15229665  0.68163837  0.12234761]\n",
      "  [ 0.55429646  0.02113269  0.7716156   0.71626986]]\n",
      "\n",
      " [[-0.72788424  1.53868993  0.4088704  -0.11344969]\n",
      "  [ 1.06137626  1.72968516 -1.08032053  1.73449908]\n",
      "  [ 0.08343583 -0.5883127  -0.32098887  0.46851055]]\n",
      "\n",
      " [[-0.69596468 -0.39641027  1.27374458 -0.07969525]\n",
      "  [-0.97463916  1.13858701 -1.79700403 -0.73398791]\n",
      "  [-0.71757147 -1.83829972 -1.28684745  0.46937347]]]\n",
      "------------------------------------------------------------\n",
      "arr_axis1 shape: (2, 6, 4)\n",
      "arr_axis1: \n",
      " [[[ 0.7163033   0.24640273  0.58277461  0.18720079]\n",
      "  [ 0.28570761  0.25987033  0.67619577  0.45892556]\n",
      "  [ 0.12677065  0.19172686  0.33286629  0.52341994]\n",
      "  [-0.72788424  1.53868993  0.4088704  -0.11344969]\n",
      "  [ 1.06137626  1.72968516 -1.08032053  1.73449908]\n",
      "  [ 0.08343583 -0.5883127  -0.32098887  0.46851055]]\n",
      "\n",
      " [[ 0.11689602  0.06991695  0.70444514  0.82919225]\n",
      "  [ 0.73652079  0.15229665  0.68163837  0.12234761]\n",
      "  [ 0.55429646  0.02113269  0.7716156   0.71626986]\n",
      "  [-0.69596468 -0.39641027  1.27374458 -0.07969525]\n",
      "  [-0.97463916  1.13858701 -1.79700403 -0.73398791]\n",
      "  [-0.71757147 -1.83829972 -1.28684745  0.46937347]]]\n",
      "------------------------------------------------------------\n",
      "arr_axis2 shape: (2, 3, 8)\n",
      "arr_axis2: \n",
      " [[[ 0.7163033   0.24640273  0.58277461  0.18720079 -0.72788424\n",
      "    1.53868993  0.4088704  -0.11344969]\n",
      "  [ 0.28570761  0.25987033  0.67619577  0.45892556  1.06137626\n",
      "    1.72968516 -1.08032053  1.73449908]\n",
      "  [ 0.12677065  0.19172686  0.33286629  0.52341994  0.08343583\n",
      "   -0.5883127  -0.32098887  0.46851055]]\n",
      "\n",
      " [[ 0.11689602  0.06991695  0.70444514  0.82919225 -0.69596468\n",
      "   -0.39641027  1.27374458 -0.07969525]\n",
      "  [ 0.73652079  0.15229665  0.68163837  0.12234761 -0.97463916\n",
      "    1.13858701 -1.79700403 -0.73398791]\n",
      "  [ 0.55429646  0.02113269  0.7716156   0.71626986 -0.71757147\n",
      "   -1.83829972 -1.28684745  0.46937347]]]\n",
      "------------------------------------------------------------\n",
      "arr_axisNone: \n",
      " [ 0.7163033   0.24640273  0.58277461  0.18720079  0.28570761  0.25987033\n",
      "  0.67619577  0.45892556  0.12677065  0.19172686  0.33286629  0.52341994\n",
      "  0.11689602  0.06991695  0.70444514  0.82919225  0.73652079  0.15229665\n",
      "  0.68163837  0.12234761  0.55429646  0.02113269  0.7716156   0.71626986\n",
      " -0.72788424  1.53868993  0.4088704  -0.11344969  1.06137626  1.72968516\n",
      " -1.08032053  1.73449908  0.08343583 -0.5883127  -0.32098887  0.46851055\n",
      " -0.69596468 -0.39641027  1.27374458 -0.07969525 -0.97463916  1.13858701\n",
      " -1.79700403 -0.73398791 -0.71757147 -1.83829972 -1.28684745  0.46937347]\n"
     ]
    }
   ],
   "source": [
    "# 배열 조작과 정렬(array manipulation and alignment)\n",
    "\n",
    "# np.concatenate()\n",
    "\n",
    "arr1 = np.random.rand(2,3,4)\n",
    "arr2 = np.random.randn(2,3,4)\n",
    "print(arr1), print('-'*60)\n",
    "print(arr2), print('-'*60)\n",
    "print(f'arr1 shape: {arr1.shape}')\n",
    "print(f'arr2 shape: {arr2.shape}'), print('-'*60)\n",
    "\n",
    "arr_axis0 = np.concatenate((arr1, arr2), axis=0)\n",
    "print(f'arr_axis0 shape: {arr_axis0.shape}')\n",
    "print(f'arr_axis0: \\n {arr_axis0}'), print('-'*60)\n",
    "arr_axis1 = np.concatenate((arr1, arr2), axis=1)\n",
    "print(f'arr_axis1 shape: {arr_axis1.shape}')\n",
    "print(f'arr_axis1: \\n {arr_axis1}'), print('-'*60)\n",
    "arr_axis2 = np.concatenate((arr1, arr2), axis=2)\n",
    "print(f'arr_axis2 shape: {arr_axis2.shape}')\n",
    "print(f'arr_axis2: \\n {arr_axis2}'), print('-'*60)"
   ]
  },
  {
   "cell_type": "code",
   "execution_count": null,
   "metadata": {
    "colab": {
     "base_uri": "https://localhost:8080/"
    },
    "id": "TPHZYqdDrhel",
    "outputId": "2ce3d4d4-eb39-4ec3-e9ca-ca1b70f4392a"
   },
   "outputs": [
    {
     "name": "stdout",
     "output_type": "stream",
     "text": [
      "[[1 2]\n",
      " [3 4]\n",
      " [5 6]]\n",
      "----------\n",
      "[[1 2 3]\n",
      " [2 3 4]]\n",
      "----------\n",
      "[[1]\n",
      " [2]\n",
      " [3]\n",
      " [2]\n",
      " [3]\n",
      " [4]]\n"
     ]
    }
   ],
   "source": [
    "# 배열 조작과 정렬(array manipulation and alignment)\n",
    "\n",
    "# np.vstack() => np.concatenate()의 axis=0과 같음\n",
    "arr1 = np.array([[1, 2], [3, 4]])\n",
    "arr2 = np.array([[5, 6]])\n",
    "\n",
    "arr_vstack = np.vstack((arr1, arr2))\n",
    "print(arr_vstack), print('-'*10)\n",
    "\n",
    "arr3 = np.array([1, 2, 3])  # shape (3,)\n",
    "arr4 = np.array([2, 3, 4])  # shape (3,)\n",
    "print(np.vstack((arr3, arr4)))  # shape이 (1,3)으로 변형한 후, vstack\n",
    "print('-'*10)\n",
    "\n",
    "arr5 = np.array([[1], [2], [3]])  # shape (3,1)\n",
    "arr6 = np.array([[2], [3], [4]])  # shape (3,1)\n",
    "print(np.vstack((arr5, arr6)))"
   ]
  },
  {
   "cell_type": "code",
   "execution_count": null,
   "metadata": {
    "colab": {
     "base_uri": "https://localhost:8080/"
    },
    "id": "px1HiaVMsKJM",
    "outputId": "46fab98b-9d10-4021-bd79-ea804f666d09"
   },
   "outputs": [
    {
     "name": "stdout",
     "output_type": "stream",
     "text": [
      "[[1 2 5]\n",
      " [3 4 6]]\n",
      "--------------------\n",
      "[1 2 3 2 3 4]\n",
      "--------------------\n",
      "[[1 2]\n",
      " [2 3]\n",
      " [3 4]]\n"
     ]
    }
   ],
   "source": [
    "# 배열 조작과 정렬(array manipulation and alignment)\n",
    "\n",
    "# np.hstack() => np.concatenate()의 axis=1과 같음\n",
    "arr1 = np.array([[1, 2], [3, 4]])\n",
    "arr2 = np.array([[5, 6]])\n",
    "\n",
    "arr_hstack = np.hstack((arr1, arr2.T))\n",
    "print(arr_hstack), print('-'*20)\n",
    "\n",
    "arr3 = np.array((1, 2, 3))      # shape (3,)\n",
    "arr4 = np.array((2, 3, 4))      # shape (3,)\n",
    "print(np.hstack((arr3, arr4))), print('-'*20)\n",
    "\n",
    "arr5 = np.array([[1], [2], [3]])  # shape (3,1)\n",
    "arr6 = np.array([[2], [3], [4]])  # shape (3,1)\n",
    "print(np.hstack((arr5, arr6)))"
   ]
  },
  {
   "cell_type": "code",
   "execution_count": null,
   "metadata": {
    "colab": {
     "base_uri": "https://localhost:8080/"
    },
    "id": "w0naoOMAsyVK",
    "outputId": "c560ccef-c54c-4b89-933d-a4f1fa569dda"
   },
   "outputs": [
    {
     "name": "stdout",
     "output_type": "stream",
     "text": [
      "10\n",
      "[array([[ 0.05500868, -0.44126099, -0.28434629, -1.59485079],\n",
      "       [ 0.25340565, -1.71095623, -1.52385382,  2.05347195],\n",
      "       [-0.54090259,  0.76074009, -2.06247063,  0.94614696]]), array([[ 1.96820299,  2.0509924 , -0.69253228, -0.69525867],\n",
      "       [ 0.03381723, -1.18035386, -2.03811435,  0.287061  ],\n",
      "       [ 0.1726885 , -0.30585635, -0.44407464,  1.48971249]]), array([[-0.18973902,  0.7280194 , -0.16500139,  0.03034546],\n",
      "       [-0.26154428, -0.41200995,  0.59955097,  1.26640997],\n",
      "       [ 0.52628333, -0.28557081, -0.32421311,  0.18080907]]), array([[-1.15723303, -0.17574001, -0.37457803,  1.01894208],\n",
      "       [-0.99033123, -0.14680634,  0.40009626,  0.60181747],\n",
      "       [ 0.43196274,  0.64686338,  0.3831276 ,  0.29858084]]), array([[ 0.21828432,  1.48918914, -0.24372045, -1.80616201],\n",
      "       [ 0.69759287,  0.40348247,  0.58905186, -2.02188316],\n",
      "       [-1.88081836,  0.67172452,  1.78322494, -1.0879974 ]]), array([[ 0.23074455,  0.84064709,  0.02917547,  1.04580839],\n",
      "       [ 1.34474083, -2.65411565, -0.83058354, -0.25199052],\n",
      "       [ 0.30054086,  1.83418652, -0.657116  ,  0.53948377]]), array([[ 0.33409548, -0.26345907,  0.66011567,  0.52707043],\n",
      "       [ 1.03764519, -1.16246072,  0.34398336, -0.41646172],\n",
      "       [-0.76414984,  1.22972389, -0.29858327, -0.33209109]]), array([[-0.34931768,  1.08648021,  0.26105872,  0.79568703],\n",
      "       [-1.22672549, -0.45117935, -0.83527829, -0.12206106],\n",
      "       [-0.97089207,  1.78702115,  0.88193483, -2.31376578]]), array([[ 1.28227597, -1.24752697,  0.07937577, -0.08105629],\n",
      "       [ 0.67036256,  1.26926462, -0.00755993,  1.44216752],\n",
      "       [ 0.2940109 ,  1.76861141, -0.28065956, -0.06373214]]), array([[-0.73130696,  2.84202749,  2.02566459, -0.68783942],\n",
      "       [-0.37453453,  0.76358955,  0.50057543, -0.44801263],\n",
      "       [-1.08235948, -0.10619747,  0.3971129 , -1.04515589]])]\n",
      "[[ 0.05500868 -0.44126099 -0.28434629 -1.59485079]\n",
      " [ 0.25340565 -1.71095623 -1.52385382  2.05347195]\n",
      " [-0.54090259  0.76074009 -2.06247063  0.94614696]]\n",
      "(10, 3, 4)\n",
      "[[[ 0.05500868 -0.44126099 -0.28434629 -1.59485079]\n",
      "  [ 0.25340565 -1.71095623 -1.52385382  2.05347195]\n",
      "  [-0.54090259  0.76074009 -2.06247063  0.94614696]]\n",
      "\n",
      " [[ 1.96820299  2.0509924  -0.69253228 -0.69525867]\n",
      "  [ 0.03381723 -1.18035386 -2.03811435  0.287061  ]\n",
      "  [ 0.1726885  -0.30585635 -0.44407464  1.48971249]]\n",
      "\n",
      " [[-0.18973902  0.7280194  -0.16500139  0.03034546]\n",
      "  [-0.26154428 -0.41200995  0.59955097  1.26640997]\n",
      "  [ 0.52628333 -0.28557081 -0.32421311  0.18080907]]\n",
      "\n",
      " [[-1.15723303 -0.17574001 -0.37457803  1.01894208]\n",
      "  [-0.99033123 -0.14680634  0.40009626  0.60181747]\n",
      "  [ 0.43196274  0.64686338  0.3831276   0.29858084]]\n",
      "\n",
      " [[ 0.21828432  1.48918914 -0.24372045 -1.80616201]\n",
      "  [ 0.69759287  0.40348247  0.58905186 -2.02188316]\n",
      "  [-1.88081836  0.67172452  1.78322494 -1.0879974 ]]\n",
      "\n",
      " [[ 0.23074455  0.84064709  0.02917547  1.04580839]\n",
      "  [ 1.34474083 -2.65411565 -0.83058354 -0.25199052]\n",
      "  [ 0.30054086  1.83418652 -0.657116    0.53948377]]\n",
      "\n",
      " [[ 0.33409548 -0.26345907  0.66011567  0.52707043]\n",
      "  [ 1.03764519 -1.16246072  0.34398336 -0.41646172]\n",
      "  [-0.76414984  1.22972389 -0.29858327 -0.33209109]]\n",
      "\n",
      " [[-0.34931768  1.08648021  0.26105872  0.79568703]\n",
      "  [-1.22672549 -0.45117935 -0.83527829 -0.12206106]\n",
      "  [-0.97089207  1.78702115  0.88193483 -2.31376578]]\n",
      "\n",
      " [[ 1.28227597 -1.24752697  0.07937577 -0.08105629]\n",
      "  [ 0.67036256  1.26926462 -0.00755993  1.44216752]\n",
      "  [ 0.2940109   1.76861141 -0.28065956 -0.06373214]]\n",
      "\n",
      " [[-0.73130696  2.84202749  2.02566459 -0.68783942]\n",
      "  [-0.37453453  0.76358955  0.50057543 -0.44801263]\n",
      "  [-1.08235948 -0.10619747  0.3971129  -1.04515589]]]\n",
      "(3, 10, 4)\n",
      "(3, 4, 10)\n",
      "[[1 2 3]\n",
      " [2 3 4]]\n",
      "[[1 2]\n",
      " [2 3]\n",
      " [3 4]]\n"
     ]
    }
   ],
   "source": [
    "# 배열 조작과 정렬(array manipulation and alignment)\n",
    "\n",
    "# numpy.stack(arrays, axis=0) 함수\n",
    "#     arrays : 같은 shape을 가지는 배열들의 리스트/튜플\n",
    "#     axis : 새로운 축을 생성하면서 쌓은 (기본은 axis=0)\n",
    "\n",
    "arrays = [np.random.randn(3, 4) for _ in range(10)]\n",
    "print(len(arrays))\n",
    "print(arrays)\n",
    "print(arrays[0])\n",
    "\n",
    "stack_axis0 = np.stack(arrays, axis=0) # 각 배열을 0번 축으로 쌓기\n",
    "print(stack_axis0.shape)\n",
    "\n",
    "stack_axis1 = np.stack(arrays, axis=1) # 각 배열을 1번 축으로 쌓기\n",
    "print(stack_axis1.shape)\n",
    "\n",
    "stack_axis2 = np.stack(arrays, axis=2) # 각 배열을 2번 축으로 쌓기\n",
    "print(stack_axis2.shape)\n",
    "\n",
    "arr1 = np.array([1, 2, 3])  # shape (3,)\n",
    "arr2 = np.array([2, 3, 4])  # shape (3,)\n",
    "print(np.stack((arr1, arr2)))           # default: axis=0\n",
    "print(np.stack((arr1, arr2), axis=-1))  # axis=-1은 마지막 축. axis=1과 동일\n"
   ]
  },
  {
   "cell_type": "code",
   "execution_count": null,
   "metadata": {
    "colab": {
     "base_uri": "https://localhost:8080/"
    },
    "id": "XS-i6_ki3mhh",
    "outputId": "e7b3e302-5590-44fb-fe1c-0cadb98d085c"
   },
   "outputs": [
    {
     "name": "stdout",
     "output_type": "stream",
     "text": [
      "[[1 4]\n",
      " [3 1]]\n",
      "------------------------------\n",
      "[[1 4]\n",
      " [1 3]]\n",
      "------------------------------\n",
      "[[1 4]\n",
      " [1 3]]\n",
      "------------------------------\n",
      "[1 1 3 4]\n",
      "------------------------------\n",
      "[[1 3]\n",
      " [1 4]]\n",
      "------------------------------\n",
      "[[1 3]\n",
      " [1 4]]\n"
     ]
    }
   ],
   "source": [
    "# 배열 조작과 정렬(array manipulation and alignment)\n",
    "\n",
    "# 정렬 np.sort(a, axis=-1, kind= 'quicksort', order=None)\n",
    "#   axis : 정렬할 축 (-1은 마지막 축, None 이면 전체를 1D로 정렬)\n",
    "#   order : 구조화 배열일 때, 정렬 기준 필드 이름\n",
    "\n",
    "arr = np.array([[1, 4], [3, 1]])\n",
    "print(arr), print('-'*30)\n",
    "\n",
    "# default는 axis=-1, 마지막 축을 따라 정렬\n",
    "print(np.sort(arr)), print('-'*30)  # [[1 4], [1 3]]\n",
    "arr.sort()\n",
    "print(arr), print('-'*30)           # [[1 4], [1 3]]\n",
    "\n",
    "# 배열 전체를 flatten한 후 정렬\n",
    "print(np.sort(arr, axis=None)), print('-'*30)\n",
    "# arr.sort(axis=None) ==> 에러 발생\n",
    "\n",
    "# 첫 번째 축을 따라 정렬\n",
    "print(np.sort(arr, axis=0)) # [[1 3], [1 4]]\n",
    "print('-'*30)\n",
    "arr.sort(axis=0)\n",
    "print(arr)                  # [[1 3], [1 4]]"
   ]
  },
  {
   "cell_type": "code",
   "execution_count": null,
   "metadata": {
    "colab": {
     "base_uri": "https://localhost:8080/"
    },
    "id": "dgJQTOhr5dma",
    "outputId": "80a30d67-2614-43ed-c0e7-c6ea619bb083"
   },
   "outputs": [
    {
     "name": "stdout",
     "output_type": "stream",
     "text": [
      "[(b'Haha', 169., 47) (b'Liz', 171., 22) (b'Vickie', 173., 22)]\n",
      "----------------------------------------------------------------------\n",
      "[(b'Liz', 171., 22) (b'Vickie', 173., 22) (b'Haha', 169., 47)]\n"
     ]
    }
   ],
   "source": [
    "# 배열 조작과 정렬(array manipulation and alignment)\n",
    "\n",
    "# 정렬\n",
    "\n",
    "# 구조화된 배열 정렬 ==> order 키워드로 정렬할 필드 지정\n",
    "dtype = [('name', 'S10'), ('height', float), ('age',int)]\n",
    "values = [('Liz', 171, 22), ('Vickie', 173, 22), ('Haha', 169, 47)]\n",
    "arr = np.array(values, dtype=dtype)   # 구조화된 배열 생성\n",
    "\n",
    "print(np.sort(arr, order='height')), print('-'*70)\n",
    "\n",
    "# age가 같을 경우, height를 기준으로 정렬\n",
    "print(np.sort(arr, order=['age', 'height']))"
   ]
  },
  {
   "cell_type": "code",
   "execution_count": null,
   "metadata": {
    "colab": {
     "base_uri": "https://localhost:8080/"
    },
    "id": "Ik1iCxc37_oY",
    "outputId": "6818b061-9944-45ce-e24c-e0370a28c9fb"
   },
   "outputs": [
    {
     "name": "stdout",
     "output_type": "stream",
     "text": [
      "[1 2 0]\n",
      "1\n",
      "2\n",
      "3\n",
      "==========\n",
      "[[0 3]\n",
      " [2 2]]\n",
      "----------\n",
      "[[0 1]\n",
      " [1 0]]\n",
      "----------\n",
      "[[0 1]\n",
      " [0 1]]\n"
     ]
    }
   ],
   "source": [
    "# 배열 조작과 정렬(array manipulation and alignment)\n",
    "\n",
    "# 정렬\n",
    "\n",
    "# numpy.argsort(): 1차원 배열\n",
    "arr = np.array([3, 1, 2])\n",
    "sorted_by_index = np.argsort(arr)\n",
    "print(sorted_by_index)\n",
    "\n",
    "for i in sorted_by_index:\n",
    "  print(arr[i])\n",
    "\n",
    "print('='*10)\n",
    "\n",
    "# numpy.argsort(): 2차원 배열\n",
    "arr = np.array([[0, 3], [2, 2]])\n",
    "print(arr), print('-'*10)\n",
    "print(np.argsort(arr, axis=0))   # 첫 번째 축을 따라 정렬\n",
    "print('-'*10)\n",
    "print(np.argsort(arr, axis=1))   # 마지막 축을 따라 정렬\n"
   ]
  },
  {
   "cell_type": "code",
   "execution_count": null,
   "metadata": {
    "colab": {
     "base_uri": "https://localhost:8080/"
    },
    "id": "dPwauaWN-Nxb",
    "outputId": "cbd7c0ff-8f3d-4008-ba9d-877b660d280e"
   },
   "outputs": [
    {
     "name": "stdout",
     "output_type": "stream",
     "text": [
      "(2,)\n",
      "--------------------\n",
      "[1 0]\n",
      "--------------------\n",
      "[1 0]\n",
      "--------------------\n",
      "[0 1]\n",
      "==============================\n",
      "[2 0 4 6 5 3 1]\n"
     ]
    }
   ],
   "source": [
    "# 배열 조작과 정렬(array manipulation and alignment)\n",
    "\n",
    "# 정렬\n",
    "\n",
    "# 구조화된 배열의 order 키워드로 배열 정렬\n",
    "\n",
    "# arr은 2개의 필드('x','y')를 가지는 1차원 튜플\n",
    "# arr[0]=(x=1, y=0), arr[1]=(x=0, y=1) 구조와 같음\n",
    "arr = np.array([(1,0), (0,1)], dtype=[('x', '<i4'), ('y','<i4')])\n",
    "print(arr), print('-'*20)\n",
    "\n",
    "# order를 명시하지 않았기 때문에, 구조화 배열의 첫 번째 필드('x') 기준으로 정렬\n",
    "print(np.argsort(arr)), print('-'*20)\n",
    "\n",
    "# x 값 기준 정렬하고 x 값이 같으면 y 기준으로 정렬\n",
    "print(np.argsort(arr, order=('x','y'))), print('-'*20)\n",
    "\n",
    "# y 값 기준 정렬하고 y 값이 같으면 x 기준으로 정렬\n",
    "print(np.argsort(arr, order=('y','x')))\n",
    "print('='*30)\n",
    "\n",
    "\n",
    "arr = np.array([(1, 9), (5, 4), (1, 0), (4, 4),(3, 0), (4,2), (4, 1)],\n",
    "                dtype = np.dtype([('x', int), ('y', int)]))\n",
    "print(np.argsort(arr))     # 또는 np.argsort(arr, order=('x','y'))\n"
   ]
  },
  {
   "cell_type": "code",
   "execution_count": null,
   "metadata": {
    "colab": {
     "base_uri": "https://localhost:8080/"
    },
    "id": "-sdsCgvq_wwr",
    "outputId": "62e48316-6673-4a2f-a267-e62324befafb"
   },
   "outputs": [
    {
     "name": "stdout",
     "output_type": "stream",
     "text": [
      "[3 2 0 1]\n",
      "--------------------------------------------------\n",
      "[0 2 3 1]\n",
      "--------------------------------------------------\n",
      "['Jang,Wonyoung', 'Lee,Chaeyoung', 'Lee,Seo', 'Song,Hayoung']\n",
      "--------------------------------------------------\n",
      "[2 0 4 6 5 3 1]\n",
      "--------------------------------------------------\n",
      "[(1, 0), (1, 9), (3, 0), (4, 1), (4, 2), (4, 4), (5, 4)]\n",
      "[(1, 9), (1, 0), (3, 0), (4, 4), (4, 1), (4, 2), (5, 4)]\n"
     ]
    }
   ],
   "source": [
    "# 배열 조작과 정렬(array manipulation and alignment)\n",
    "\n",
    "# 정렬\n",
    "\n",
    "# numpy.lexsort( )\n",
    "arr1 = np.array([3, 4, 2, 1])   # 보조키\n",
    "arr2 = np.array([2, 2, 1, 1])   # 우선키 (2,3,0,1): 2,3과 0,1의 키가 같음\n",
    "arr = np.lexsort((arr1, arr2))\n",
    "print(arr), print('-'*50)\n",
    "\n",
    "# 첫 번째로 성, 그 다음은 이름으로 정렬\n",
    "surnames = ('Jang','Song','Lee', 'Lee')\n",
    "first_names = ('Wonyoung','Hayoung','Chaeyoung','Seo')\n",
    "ind = np.lexsort((first_names, surnames))\n",
    "print(ind), print('-'*50)\n",
    "\n",
    "print([surnames[i] + \",\" + first_names[i] for i in ind])\n",
    "print('-'*50)\n",
    "\n",
    "# 숫자들로 구성된 a와 b를 인수로 정렬\n",
    "a = [1, 5, 1, 4, 3, 4, 4]     # 첫 번째 열\n",
    "b = [9, 4, 0, 4, 0, 2, 1]     # 두 번째 열\n",
    "ind = np.lexsort((b, a))      # a에 의해 정렬한 다음 b에 의해 정렬\n",
    "print(ind), print('-'*50)\n",
    "print([(a[i], b[i]) for i in ind])\n",
    "\n",
    "print([(a[i], b[i]) for i in np.argsort(a)])\n"
   ]
  },
  {
   "cell_type": "code",
   "execution_count": null,
   "metadata": {
    "colab": {
     "base_uri": "https://localhost:8080/",
     "height": 526
    },
    "id": "QA4z7jbKB-S7",
    "outputId": "cf47606f-9da5-4c3f-8901-4c9ccbee6e46"
   },
   "outputs": [
    {
     "name": "stdout",
     "output_type": "stream",
     "text": [
      "(array([5, 3, 4, 2, 1]), array([  0,  20,  40,  60,  80, 100]))\n",
      "[5 3 4 2 1]\n",
      "[  0  20  40  60  80 100]\n"
     ]
    },
    {
     "data": {
      "image/png": "[encoded data removed]",
      "text/plain": [
       "<Figure size 640x480 with 1 Axes>"
      ]
     },
     "metadata": {},
     "output_type": "display_data"
    }
   ],
   "source": [
    "# 배열 조작과 정렬(array manipulation and alignment)\n",
    "\n",
    "# histogram\n",
    "import matplotlib.pyplot as plt\n",
    "import numpy as np\n",
    "\n",
    "arr = np.array([15,16,16,17,19,20,22,35,43,45,55,59,60,75,88])\n",
    "print(np.histogram(arr, bins=[0,20,40,60,80,100]))\n",
    "\n",
    "a, b = np.histogram(arr, bins=[0,20,40,60,80,100])\n",
    "print(a)\n",
    "print(b)\n",
    "\n",
    "plt.figure()\n",
    "plt.hist(arr, bins=[0, 20, 40, 60, 80, 100])\n",
    "plt.title('numbers depending on age')\n",
    "plt.xlabel('age'), plt.ylabel('frequency')\n",
    "plt.show()"
   ]
  },
  {
   "cell_type": "code",
   "execution_count": null,
   "metadata": {
    "colab": {
     "base_uri": "https://localhost:8080/"
    },
    "id": "GaxKE8E680co",
    "outputId": "316a6d6e-ecad-4379-b47c-f83d86c27b60"
   },
   "outputs": [
    {
     "name": "stdout",
     "output_type": "stream",
     "text": [
      "[[1 2 3]\n",
      " [4 5 6]]\n",
      "[5 7 9]\n",
      "[ 6 15]\n",
      "==============================\n",
      "[[[ 0  1  2  3]\n",
      "  [ 4  5  6  7]]\n",
      "\n",
      " [[ 8  9 10 11]\n",
      "  [12 13 14 15]]\n",
      "\n",
      " [[16 17 18 19]\n",
      "  [20 21 22 23]]]\n",
      "------------------------------\n",
      "(3, 2, 4)\n",
      "------------------------------\n",
      "[[24 27 30 33]\n",
      " [36 39 42 45]]\n",
      "------------------------------\n",
      "[[ 4  6  8 10]\n",
      " [20 22 24 26]\n",
      " [36 38 40 42]]\n",
      "------------------------------\n",
      "[[ 6 22]\n",
      " [38 54]\n",
      " [70 86]]\n"
     ]
    }
   ],
   "source": [
    "# 배열 연산 (array operation)\n",
    "\n",
    "# 다차원 배열 연산\n",
    "\n",
    "# 2차원 배열 연산\n",
    "arr1 = np.array([[1, 2, 3], [4, 5, 6]], dtype=np.int32)\n",
    "print(arr1)\n",
    "print(arr1.sum(axis=0))\n",
    "print(arr1.sum(axis=1)), print('='*30)\n",
    "\n",
    "# 3차원 배열 연산\n",
    "arr2 = np.arange(24).reshape(3, 2, 4)\n",
    "print(arr2), print('-'*30)\n",
    "print(arr2.shape), print('-'*30)\n",
    "print(arr2.sum(axis=0)), print('-'*30)\n",
    "print(arr2.sum(axis=1)), print('-'*30)\n",
    "print(arr2.sum(axis=2))\n",
    "\n"
   ]
  },
  {
   "cell_type": "code",
   "execution_count": null,
   "metadata": {
    "colab": {
     "base_uri": "https://localhost:8080/"
    },
    "id": "UPbRZadgAYHy",
    "outputId": "abd279a8-01fb-460b-e08f-aaf5ca4de6c1"
   },
   "outputs": [
    {
     "name": "stdout",
     "output_type": "stream",
     "text": [
      "(1000000,)\n",
      "67.6 ms ± 583 µs per loop (mean ± std. dev. of 7 runs, 10 loops each)\n",
      "1.04 ms ± 200 µs per loop (mean ± std. dev. of 7 runs, 1000 loops each)\n",
      "7.3 ms ± 1.04 ms per loop (mean ± std. dev. of 7 runs, 100 loops each)\n",
      "372 µs ± 94.7 µs per loop (mean ± std. dev. of 7 runs, 1000 loops each)\n",
      "================================================================================\n",
      "59.4 ms ± 12.7 ms per loop (mean ± std. dev. of 3 runs, 100 loops each)\n",
      "653 µs ± 84 µs per loop (mean ± std. dev. of 3 runs, 100 loops each)\n",
      "4.58 ms ± 44.4 µs per loop (mean ± std. dev. of 3 runs, 100 loops each)\n",
      "226 µs ± 11.6 µs per loop (mean ± std. dev. of 3 runs, 100 loops each)\n"
     ]
    }
   ],
   "source": [
    "# 배열 연산 (array operation)\n",
    "\n",
    "# 넘파이와 리스트의 배열 연산 실행 속도 비교\n",
    "\n",
    "import numpy as np\n",
    "import random\n",
    "\n",
    "n = 1000000\n",
    "\n",
    "a = [random.random() for i in range(n)]\n",
    "b = [random.random() for i in range(n)]\n",
    "\n",
    "arr1 = np.array(a)\n",
    "arr2 = np.array(b)\n",
    "print(arr1.shape)\n",
    "\n",
    "%timeit [a[j] + b[j] for j in range(n)] # 리스트 연산\n",
    "%timeit arr1 + arr2   # 넘파이 연산\n",
    "\n",
    "%timeit sum(a)        # 파이썬 sum() 함수\n",
    "%timeit np.sum(arr1)  # 넘파이 np.sum() 함수\n",
    "print('='*80)\n",
    "\n",
    "# 100번 반복하고, 3세트 실행할 때\n",
    "%timeit -n 100 -r 3 [a[j] + b[j] for j in range(n)] # 리스트 연산\n",
    "%timeit -n 100 -r 3 arr1 + arr2   # 넘파이 연산\n",
    "\n",
    "%timeit -n 100 -r 3 sum(a)        # 파이썬 sum() 함수\n",
    "%timeit -n 100 -r 3 np.sum(arr1)  # 넘파이 np.sum() 함수\n"
   ]
  },
  {
   "cell_type": "code",
   "execution_count": null,
   "metadata": {
    "colab": {
     "base_uri": "https://localhost:8080/"
    },
    "id": "c4HS0X2WGhYG",
    "outputId": "5b14ce2b-af00-4575-b5da-5530179490f5"
   },
   "outputs": [
    {
     "name": "stdout",
     "output_type": "stream",
     "text": [
      "1\n",
      "3\n",
      "5\n",
      "7\n",
      "----------\n",
      "arr : \n",
      " [[0 1]\n",
      " [2 3]\n",
      " [4 5]\n",
      " [6 7]]\n",
      "[0 1]\n",
      "[2 3]\n",
      "[4 5]\n",
      "[6 7]\n",
      "----------\n",
      "0\n",
      "6\n",
      "20\n",
      "42\n"
     ]
    }
   ],
   "source": [
    "# 배열 연산 (array operation)\n",
    "\n",
    "# 배열 반복\n",
    "# 1차원 배열\n",
    "arr = np.array([1, 3, 5, 7])\n",
    "for i in arr:\n",
    "  print(i)\n",
    "print('-'*10)\n",
    "\n",
    "# 2차원 배열\n",
    "arr = np.arange(8).reshape(4, 2)\n",
    "print(f'arr : \\n {arr}')\n",
    "for i in arr:\n",
    "  print(i)\n",
    "print('-'*10)\n",
    "\n",
    "# 곱셈 연산 배열\n",
    "arr = np.arange(8).reshape(4, 2)\n",
    "for (a, b) in arr:\n",
    "  print(a*b)\n"
   ]
  },
  {
   "cell_type": "code",
   "execution_count": null,
   "metadata": {
    "colab": {
     "base_uri": "https://localhost:8080/"
    },
    "id": "uq2vvb_vHqF3",
    "outputId": "31ad9aa1-5bfd-4047-b222-a825d790ca9c"
   },
   "outputs": [
    {
     "name": "stdout",
     "output_type": "stream",
     "text": [
      "[[0.34487371 0.28440841]\n",
      " [0.53735507 0.16803239]\n",
      " [0.55981496 0.34984067]]\n",
      "==============================\n",
      "[1 0 1 1 1 0 0 0 0 1]\n",
      "------------------------------\n",
      "[4 2 2 2 1 0 1 1 1 4]\n",
      "------------------------------\n",
      "[[4 3 4 0]\n",
      " [0 3 4 4]]\n",
      "==============================\n",
      "[1 3 0]\n",
      "------------------------------\n",
      "[2 3 3]\n",
      "==============================\n",
      "[0 0 9 0 1 0 7 3 7 5]\n",
      "------------------------------\n",
      "[ 8  6  2 10  0  3  1 11  5  7]\n",
      "==============================\n",
      "['Karina' 'Karina' 'Karina' 'Karina' 'Winter']\n",
      "==============================\n",
      "1.5658695935435938\n",
      "[-0.09901488 -0.13443923  0.06840746  0.24325299  0.21143179]\n",
      "[[-0.38030175 -0.00703493]\n",
      " [-2.37645283 -0.65246344]\n",
      " [-1.1150246   0.52433353]]\n",
      "==============================\n",
      "[ 0.94041398 -0.74636866  1.0839804   2.34487219 -1.6148873 ]\n",
      "[[117.04714331  99.15720521 107.27899851]\n",
      " [ 90.71065695 102.90127745  91.65978494]\n",
      " [ 96.33841466  90.1192818  106.8297241 ]]\n"
     ]
    }
   ],
   "source": [
    "# 배열 연산 (array operation)\n",
    "\n",
    "# random number generator\n",
    "\n",
    "# np.random.rand()\n",
    "a = np.random.rand(3, 2) # [0,1) 안에서 임의의 값 생성\n",
    "print(a), print('='*30)\n",
    "\n",
    "# np.random.randint()\n",
    "b = np.random.randint(2, size=10)\n",
    "c = np.random.randint(5, size=10)\n",
    "d = np.random.randint(5, size=(2, 4))\n",
    "print(b), print('-'*30)\n",
    "print(c), print('-'*30)\n",
    "print(d), print('='*30)\n",
    "\n",
    "# np.random.choice()\n",
    "e = np.random.choice(5, 3)  # [0,5)에서 임의의 샘플 추출\n",
    "f = np.random.choice(5, 3, p=[0.1, 0, 0.3, 0.6, 0])\n",
    "print(e), print('-'*30)\n",
    "print(f), print('='*30)\n",
    "\n",
    "arr = np.arange(12)\n",
    "g = np.random.choice(arr, size=10, replace=True)  # 복원 추출\n",
    "h = np.random.choice(arr, size=10, replace=False)\n",
    "print(g), print('-'*30)\n",
    "print(h), print('='*30)\n",
    "\n",
    "arr_like = ['Karina','Winter','Giselle','Ningning']\n",
    "i = np.random.choice(arr_like, 5, p=[0.4, 0.4, 0.15, 0.05])\n",
    "print(i), print('='*30)\n",
    "\n",
    "# np.random.randn(d0, d1, ..., dn)\n",
    "# 표준 정규분포: 평균(mean) = 0, 표준편차(std) = 1\n",
    "# 형태: 지정된 형태(shape)의 배열을 반환\n",
    "print(np.random.randn())      # 스칼라 하나\n",
    "print(np.random.randn(5))     # 1차원 배열\n",
    "print(np.random.randn(3, 2))  # 2차원 배열\n",
    "print('='*30)\n",
    "\n",
    "# np.random.normal(loc=0.0, scale=1.0, size=None)\n",
    "# loc : 정규 분포의 중심 위치 (평균)\n",
    "# scale : 정규 분포의 표준 편차 (분포의 폭, 퍼짐 정도)\n",
    "# size : 생성할 난수 개수 (예: 10) or shape (예: (3,4))\n",
    "print(np.random.normal(0, 1, 5))\n",
    "print(np.random.normal(100, 10, (3, 3)))"
   ]
  },
  {
   "cell_type": "code",
   "execution_count": 3,
   "metadata": {
    "colab": {
     "base_uri": "https://localhost:8080/"
    },
    "id": "oSSvyLtthx_-",
    "outputId": "e779b087-681a-40ee-94d1-ef380bc0b9bd"
   },
   "outputs": [
    {
     "name": "stdout",
     "output_type": "stream",
     "text": [
      "[[72.86579357 67.50156048 65.68246198]\n",
      " [71.59682853 59.56234406 57.49195626]\n",
      " [71.09143945 79.25918602 59.77140039]\n",
      " [70.47699738 59.67174367 44.80295739]\n",
      " [70.28025597 67.45541297 58.24725733]]\n",
      "--------------------------------------------------\n",
      "[71.26226298 66.69004944 57.19920667]\n",
      "--------------------------------------------------\n",
      "[[  1.60353059   0.81151104   8.48325531]\n",
      " [  0.33456555  -7.12770538   0.29274959]\n",
      " [ -0.17082353  12.56913658   2.57219372]\n",
      " [ -0.7852656   -7.01830577 -12.39624928]\n",
      " [ -0.98200701   0.76536353   1.04805066]]\n",
      "--------------------------------------------------\n",
      "[68.68327201 62.88370961 70.04067529 58.31723281 65.32764209]\n",
      "[[68.68327201]\n",
      " [62.88370961]\n",
      " [70.04067529]\n",
      " [58.31723281]\n",
      " [65.32764209]]\n",
      "--------------------------------------------------\n",
      "[[  4.18252156  -1.18171153  -3.00081003]\n",
      " [  8.71311891  -3.32136556  -5.39175336]\n",
      " [  1.05076416   9.21851073 -10.2692749 ]\n",
      " [ 12.15976457   1.35451085 -13.51427542]\n",
      " [  4.95261388   2.12777088  -7.08038476]]\n"
     ]
    }
   ],
   "source": [
    "# 브로드캐스팅 연산\n",
    "\n",
    "# 우리나라 수능고사의 학력 분석 예시\n",
    "arr = np.random.normal(loc=[70., 67., 59.],\n",
    "                       scale = [5., 7., 9.], size = (5, 3))\n",
    "\n",
    "print(arr), print('-'*50)\n",
    "\n",
    "# shape (5, 3)인 arr에서 shape (3,)인 arr_avc를 뺀다.\n",
    "arr_avc = arr.mean(axis = 0)\n",
    "print(arr_avc), print('-'*50)\n",
    "\n",
    "arr2 = arr - arr_avc\n",
    "print(arr2), print('-'*50)\n",
    "\n",
    "arr_avr = arr.mean(axis = 1)\n",
    "print(arr_avr)\n",
    "\n",
    "# 연산이 가능하도록 shape (5,)인 arr_avr의 차원을 (5, 1)로 늘려줌\n",
    "print(arr_avr[:, np.newaxis]), print('-'*50)\n",
    "arr3 = arr - arr_avr[:, np.newaxis]\n",
    "print(arr3)"
   ]
  },
  {
   "cell_type": "code",
   "execution_count": null,
   "metadata": {
    "colab": {
     "base_uri": "https://localhost:8080/"
    },
    "id": "ngzvDmnMOIGX",
    "outputId": "a32d7a3a-b629-49a5-e1c1-c6ca055529c3"
   },
   "outputs": [
    {
     "name": "stdout",
     "output_type": "stream",
     "text": [
      "[[ 3.42857143]\n",
      " [ 1.57142857]\n",
      " [-2.85714286]]\n",
      "==============================\n",
      "[2. 3.]\n"
     ]
    }
   ],
   "source": [
    "# 선형 대수 (linear algebra)\n",
    "\n",
    "# np.linalg.solve( ) 함수\n",
    "# Ax = b 문제 풀기\n",
    "a = np.array([[1, 2, 3], [2, 0, 1], [1, -1, 1]])\n",
    "c = np.array([[-2, 4, -1]])\n",
    "b = c.T\n",
    "x = np.linalg.solve(a, b)\n",
    "print(x), print('='*30)\n",
    "\n",
    "# 3*x0 + x1 = 9와 x0 + 2*x1 = 8의 연립 방정식 풀기\n",
    "a = np.array([[3, 1], [1, 2]])\n",
    "b = np.array([9, 8])\n",
    "x = np.linalg.solve(a, b)\n",
    "print(x)\n"
   ]
  },
  {
   "cell_type": "code",
   "execution_count": null,
   "metadata": {
    "colab": {
     "base_uri": "https://localhost:8080/"
    },
    "id": "WdNRfB2iOerq",
    "outputId": "4ce9248e-a7e4-47e3-c031-72630ee0366c"
   },
   "outputs": [
    {
     "name": "stdout",
     "output_type": "stream",
     "text": [
      "32\n",
      "==============================\n",
      "[[16 19]\n",
      " [36 43]]\n",
      "[[16 19]\n",
      " [36 43]]\n",
      "==============================\n",
      "[ 4 10]\n",
      "[ 4 10]\n"
     ]
    }
   ],
   "source": [
    "# 선형 대수 (linear algebra)\n",
    "\n",
    "# dot product\n",
    "# 1차원 벡터의 dot product\n",
    "a = np.array([1, 2, 3])\n",
    "b = np.array([4, 5, 6])\n",
    "print(np.dot(a, b)), print('='*30)\n",
    "\n",
    "\n",
    "# 2차원 이상의 배열의 dot product\n",
    "arr1 = np.array([[1, 2], [3, 4]])\n",
    "arr2 = np.array([[4, 5], [6, 7]])\n",
    "print(np.dot(arr1, arr2))\n",
    "print(np.matmul(arr1, arr2)), print('='*30)\n",
    "\n",
    "# 2차원 배열과 1차원 벡터의 dot product\n",
    "c = np.array([2,1])\n",
    "print(np.dot(arr1, c))\n",
    "print(np.matmul(arr1, c))"
   ]
  },
  {
   "cell_type": "code",
   "execution_count": null,
   "metadata": {
    "colab": {
     "base_uri": "https://localhost:8080/"
    },
    "id": "j6TyVNiGSrN0",
    "outputId": "cb97f742-4e34-4a95-8bbd-90de611d855a"
   },
   "outputs": [
    {
     "data": {
      "text/plain": [
       "array([[ 0,  1,  2,  3],\n",
       "       [ 4,  5,  6,  7],\n",
       "       [ 8,  9, 10, 11]])"
      ]
     },
     "execution_count": 30,
     "metadata": {},
     "output_type": "execute_result"
    }
   ],
   "source": [
    "# input / output\n",
    "\n",
    "# numpy.save() / numpy.load()\n",
    "arr = np.arange(12).reshape(3, 4)\n",
    "np.save('save_arr', arr)\n",
    "\n",
    "np.load('save_arr.npy')\n"
   ]
  },
  {
   "cell_type": "code",
   "execution_count": null,
   "metadata": {
    "colab": {
     "base_uri": "https://localhost:8080/"
    },
    "id": "H59eTjwiTBuf",
    "outputId": "cd5a0938-b22b-4739-949f-eaab43d944a0"
   },
   "outputs": [
    {
     "name": "stdout",
     "output_type": "stream",
     "text": [
      "NpzFile 'savez_arr.npz' with keys: a, b\n",
      "----------------------------------------\n",
      "[[ 0.   1.1  2.2  3.3]\n",
      " [ 4.4  5.5  6.6  7.7]\n",
      " [ 8.8  9.9 11.  12.1]]\n",
      "[[ 0  1  2  3]\n",
      " [ 4  5  6  7]\n",
      " [ 8  9 10 11]]\n"
     ]
    }
   ],
   "source": [
    "# input / output\n",
    "\n",
    "# numpy.savez()\n",
    "arr1 = np.arange(12).reshape(3, 4)\n",
    "arr2 = arr1 * 1.1\n",
    "np.savez('savez_arr', a = arr2, b = arr1)\n",
    "\n",
    "np.load('savez_arr.npz')\n",
    "arr_zp = np.load('savez_arr.npz')\n",
    "print(arr_zp), print('-'*40)\n",
    "print(arr_zp['a'])\n",
    "print(arr_zp['b'])\n"
   ]
  },
  {
   "cell_type": "code",
   "execution_count": null,
   "metadata": {
    "colab": {
     "base_uri": "https://localhost:8080/"
    },
    "id": "2k3ZlUuUTz_c",
    "outputId": "d39a9d92-31ef-443e-8dae-c4526a519c8c"
   },
   "outputs": [
    {
     "name": "stdout",
     "output_type": "stream",
     "text": [
      "[[0. 1. 2.]\n",
      " [3. 4. 5.]]\n",
      "[[0. 1. 2.]\n",
      " [3. 4. 5.]]\n"
     ]
    }
   ],
   "source": [
    "# input / output\n",
    "\n",
    "# StringIO\n",
    "import numpy as np\n",
    "from io import StringIO\n",
    "\n",
    "# 문자열을 파일처럼 읽기\n",
    "f1 = StringIO(\"0 1 2\\n3 4 5\")\n",
    "\n",
    "# 공백을 기준으로 구분된 숫자를 로딩\n",
    "print(np.loadtxt(f1))\n",
    "\n",
    "# 콤마로 구분된 숫자 로딩\n",
    "f2 = StringIO(\"0, 1, 2\\n3, 4, 5\")\n",
    "print(np.loadtxt(f2, delimiter=','))\n"
   ]
  },
  {
   "cell_type": "code",
   "execution_count": null,
   "metadata": {
    "colab": {
     "base_uri": "https://localhost:8080/"
    },
    "id": "C164t8pzWmpc",
    "outputId": "c4dff7ac-92c6-44f0-9f57-ec3b0bd5cc48"
   },
   "outputs": [
    {
     "name": "stdout",
     "output_type": "stream",
     "text": [
      "[0. 1. 2. 3. 4.]\n",
      "----------------------------------------\n",
      "[[0. 1. 2. 3. 4.]\n",
      " [0. 1. 2. 3. 4.]\n",
      " [0. 1. 2. 3. 4.]]\n",
      "----------------------------------------\n",
      "[0. 1. 2. 3. 4.]\n"
     ]
    }
   ],
   "source": [
    "# input / output\n",
    "\n",
    "# 배열을 텍스트 파일로 저장\n",
    "arr1 = arr2 = arr3 = np.arange(0.0, 5.0, 1.0)\n",
    "np.savetxt('test1.txt', arr1, delimiter=',')  # arr1은 배열\n",
    "np.savetxt('test2.txt', (arr1,arr2,arr3))     # 동일 크기의 2D 배열\n",
    "np.savetxt('test3.txt', arr1, fmt='%1.4e')    # 지수 표기\n",
    "\n",
    "print(np.loadtxt('test1.txt')), print('-'*40)\n",
    "print(np.loadtxt('test2.txt')), print('-'*40)\n",
    "print(np.loadtxt('test3.txt'))\n"
   ]
  },
  {
   "cell_type": "code",
   "execution_count": null,
   "metadata": {
    "colab": {
     "base_uri": "https://localhost:8080/"
    },
    "id": "qt481NnOXgAx",
    "outputId": "8af04ef6-efc9-477c-d59e-6ae684be9b79"
   },
   "outputs": [
    {
     "name": "stdout",
     "output_type": "stream",
     "text": [
      "[[ 1.  2.  3.  4.  5.]\n",
      " [ 6.  7.  8.  9. 10.]\n",
      " [11. 12. 13. 14. 15.]]\n",
      "========================================\n",
      "[( 1.,  2.,  3.) ( 6.,  7.,  8.) (11., 12., 13.)]\n",
      "----------------------------------------\n",
      "(1.0, 2.0, 3.0)\n",
      "----------------------------------------\n",
      "[('no1', '<f8'), ('no2', '<f8'), ('no3', '<f8')]\n",
      "========================================\n",
      "[( 6.,  7.,  8.,  9., 10.) (11., 12., 13., 14., 15.)]\n"
     ]
    }
   ],
   "source": [
    "# input / output\n",
    "\n",
    "# genfromtxt( ) 함수를 사용하여 데이터 파일을 읽어들임\n",
    "arr1 = np.genfromtxt('./datafile.csv', delimiter=',')\n",
    "print(arr1), print('='*40)\n",
    "\n",
    "# 데이터 3개 열에 이름을 no1, no2, no3로 각각 붙여서 처리 하는 경우\n",
    "arr2 = np.genfromtxt('./datafile.csv',\n",
    "                     names=['no1','no2','no3'], delimiter=',')\n",
    "\n",
    "print(arr2), print('-'*40)\n",
    "print(arr2[0]), print('-'*40)\n",
    "print(arr2.dtype), print('='*40)\n",
    "\n",
    "# names 옵션을 사용하는 경우\n",
    "arr3 = np.genfromtxt('./datafile.csv', names=True, delimiter=',')\n",
    "print(arr3)\n"
   ]
  }
 ],
 "metadata": {
  "colab": {
   "provenance": []
  },
  "kernelspec": {
   "display_name": "Python 3 (ipykernel)",
   "language": "python",
   "name": "python3"
  },
  "language_info": {
   "codemirror_mode": {
    "name": "ipython",
    "version": 3
   },
   "file_extension": ".py",
   "mimetype": "text/x-python",
   "name": "python",
   "nbconvert_exporter": "python",
   "pygments_lexer": "ipython3",
   "version": "3.12.7"
  }
 },
 "nbformat": 4,
 "nbformat_minor": 0
}
