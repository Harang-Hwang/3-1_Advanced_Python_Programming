{
  "nbformat": 4,
  "nbformat_minor": 0,
  "metadata": {
    "colab": {
      "provenance": []
    },
    "kernelspec": {
      "name": "python3",
      "display_name": "Python 3"
    },
    "language_info": {
      "name": "python"
    }
  },
  "cells": [
    {
      "cell_type": "markdown",
      "source": [
        "### 13주차 강의"
      ],
      "metadata": {
        "id": "kXJ2hfi8B0RD"
      }
    },
    {
      "cell_type": "markdown",
      "source": [
        "## 판다스 고급"
      ],
      "metadata": {
        "id": "RZMHMbpyinz6"
      }
    },
    {
      "cell_type": "markdown",
      "source": [
        "### 데이터 가공"
      ],
      "metadata": {
        "id": "tLBbUQYziphP"
      }
    },
    {
      "cell_type": "code",
      "source": [
        "import numpy as np\n",
        "import pandas as pd"
      ],
      "metadata": {
        "id": "N00U1Tf6B3Mk"
      },
      "execution_count": null,
      "outputs": []
    },
    {
      "cell_type": "code",
      "source": [
        "# 1. 데이터 가공\n",
        "\n",
        "# 데이터 이어 붙이기(pd.concat())\n",
        "df1 = pd.DataFrame({'A': ['A0', 'A1', 'A2'],\n",
        "                    'B': ['B0', 'B1', 'B2'],\n",
        "                    'C': ['C0', 'C1', 'C2']}, index=[0, 1, 2])\n",
        "df2 = pd.DataFrame({'A': ['A3', 'A4', 'A5'],\n",
        "                    'B': ['B3', 'B4', 'B5'],\n",
        "                    'C': ['C3', 'C4', 'C5']}, index=[3, 4, 5])\n",
        "df3 = pd.DataFrame({'A': ['A6', 'A7', 'A8'],\n",
        "                    'B': ['B6', 'B7', 'B8'],\n",
        "                    'C': ['C6', 'C7', 'C8']}, index=[6, 7, 8])\n",
        "\n",
        "frames = [df1, df2, df3] # 연결할 객체들이 리스트에 담겨있음\n",
        "\n",
        "# axis 매개변수가 지정되지 않았으므로 기본값인 axis=0\n",
        "# (axis=0 -> 행을 기준으로 위아래로 이어 붙이기)\n",
        "result = pd.concat(frames)\n",
        "print(result), print('='*50)\n",
        "\n",
        "# 합쳐진 결과 DataFrame에 새로운 인덱스 레벨을 추가\n",
        "result1 = pd.concat(frames, keys=['x', 'y', 'z']) # 멀티 인덱스\n",
        "print(result1), print('='*50)\n",
        "\n",
        "print(result1.loc['z'])"
      ],
      "metadata": {
        "colab": {
          "base_uri": "https://localhost:8080/"
        },
        "id": "laUXpBkGEE7J",
        "outputId": "afdc6775-2a98-4748-9049-622049b1f3e7"
      },
      "execution_count": null,
      "outputs": [
        {
          "output_type": "stream",
          "name": "stdout",
          "text": [
            "    A   B   C\n",
            "0  A0  B0  C0\n",
            "1  A1  B1  C1\n",
            "2  A2  B2  C2\n",
            "3  A3  B3  C3\n",
            "4  A4  B4  C4\n",
            "5  A5  B5  C5\n",
            "6  A6  B6  C6\n",
            "7  A7  B7  C7\n",
            "8  A8  B8  C8\n",
            "==================================================\n",
            "      A   B   C\n",
            "x 0  A0  B0  C0\n",
            "  1  A1  B1  C1\n",
            "  2  A2  B2  C2\n",
            "y 3  A3  B3  C3\n",
            "  4  A4  B4  C4\n",
            "  5  A5  B5  C5\n",
            "z 6  A6  B6  C6\n",
            "  7  A7  B7  C7\n",
            "  8  A8  B8  C8\n",
            "==================================================\n",
            "    A   B   C\n",
            "6  A6  B6  C6\n",
            "7  A7  B7  C7\n",
            "8  A8  B8  C8\n"
          ]
        }
      ]
    },
    {
      "cell_type": "code",
      "source": [
        "# 1. 데이터 가공\n",
        "\n",
        "# 데이터 이어 붙이기(pd.concat()): 축의 로직 설정으로 이어 붙이기\n",
        "df4 = pd.DataFrame({'A': ['A0', 'A1', 'A2'],\n",
        "                    'B': ['B0', 'B1', 'B2'],\n",
        "                    'C': ['C0', 'C1', 'C2']}, index=[0, 2, 3])\n",
        "\n",
        "df5 = pd.DataFrame({'B': ['B2', 'B6', 'B7'],\n",
        "                    'C': ['C2', 'C6', 'C7'],\n",
        "                    'E': ['E2', 'E6', 'E7']}, index=[2, 6, 7])\n",
        "\n",
        "print(df4), print('='*50)\n",
        "print(df5), print('='*50)\n",
        "\n",
        "# axis=1: 데이터를 열(column)을 기준으로 결합. 즉, 두 옆으로 이어 붙임\n",
        "# join='outer' (default)\n",
        "# sort=False: 원래 DataFrame의 열 순서로 정렬하지 않고 유지\n",
        "# (axis=1 -> 인덱스를 기준으로 좌우로 이어 붙이기)\n",
        "# 인덱스가 일치하지 않는 부분은 NaN으로 채워짐\n",
        "result = pd.concat([df4, df5], axis=1, sort=False)\n",
        "#result = pd.concat([df4, df5], axis=1, sort=True)\n",
        "print(result), print('='*50)\n",
        "\n",
        "# join='inner': DataFrame들에 존재하는 인덱스(또는 열)의 교집합만 결과에 포함시킴\n",
        "result1 = pd.concat([df4, df5], axis=1, join='inner')\n",
        "print(result1), print('='*50)\n",
        "\n",
        "# join='outer' (기본값): DataFrame들에 존재하는 인덱스(또는 열)의 합집합을 결과에 포함시킴\n",
        "# 일치하지 않는 부분은 NaN으로 채움\n",
        "result2 = pd.concat([df4, df5], axis=1, join='outer')\n",
        "print(result2)"
      ],
      "metadata": {
        "colab": {
          "base_uri": "https://localhost:8080/"
        },
        "id": "oKiI3SoTES2-",
        "outputId": "5c17e672-7d3d-446f-82e4-78589ae844d9"
      },
      "execution_count": null,
      "outputs": [
        {
          "output_type": "stream",
          "name": "stdout",
          "text": [
            "    A   B   C\n",
            "0  A0  B0  C0\n",
            "2  A1  B1  C1\n",
            "3  A2  B2  C2\n",
            "==================================================\n",
            "    B   C   E\n",
            "2  B2  C2  E2\n",
            "6  B6  C6  E6\n",
            "7  B7  C7  E7\n",
            "==================================================\n",
            "     A    B    C    B    C    E\n",
            "0   A0   B0   C0  NaN  NaN  NaN\n",
            "2   A1   B1   C1   B2   C2   E2\n",
            "3   A2   B2   C2  NaN  NaN  NaN\n",
            "6  NaN  NaN  NaN   B6   C6   E6\n",
            "7  NaN  NaN  NaN   B7   C7   E7\n",
            "==================================================\n",
            "    A   B   C   B   C   E\n",
            "2  A1  B1  C1  B2  C2  E2\n",
            "==================================================\n",
            "     A    B    C    B    C    E\n",
            "0   A0   B0   C0  NaN  NaN  NaN\n",
            "2   A1   B1   C1   B2   C2   E2\n",
            "3   A2   B2   C2  NaN  NaN  NaN\n",
            "6  NaN  NaN  NaN   B6   C6   E6\n",
            "7  NaN  NaN  NaN   B7   C7   E7\n"
          ]
        }
      ]
    },
    {
      "cell_type": "code",
      "source": [
        "# 1. 데이터 가공\n",
        "\n",
        "# 데이터 이어 붙이기(pd.concat()): 축의 로직 설정으로 이어 붙이기\n",
        "print(df4), print('='*50)\n",
        "print(df5), print('='*50)\n",
        "\n",
        "result = pd.concat([df4, df5], axis=1)\n",
        "print(result), print('='*50)\n",
        "\n",
        "# reindex: DataFrame의 인덱스를 재정렬하거나 변경할 때 사용\n",
        "# df1의 index를 기준으로 결합\n",
        "result3 = pd.concat([df4, df5], axis=1).reindex(df4.index)\n",
        "print(result3)"
      ],
      "metadata": {
        "colab": {
          "base_uri": "https://localhost:8080/"
        },
        "id": "GH15gThjmolh",
        "outputId": "acad9733-e5e1-4547-9b20-6ab52e9e48b3"
      },
      "execution_count": null,
      "outputs": [
        {
          "output_type": "stream",
          "name": "stdout",
          "text": [
            "    A   B   C\n",
            "0  A0  B0  C0\n",
            "2  A1  B1  C1\n",
            "3  A2  B2  C2\n",
            "==================================================\n",
            "    B   C   E\n",
            "2  B2  C2  E2\n",
            "6  B6  C6  E6\n",
            "7  B7  C7  E7\n",
            "==================================================\n",
            "     A    B    C    B    C    E\n",
            "0   A0   B0   C0  NaN  NaN  NaN\n",
            "2   A1   B1   C1   B2   C2   E2\n",
            "3   A2   B2   C2  NaN  NaN  NaN\n",
            "6  NaN  NaN  NaN   B6   C6   E6\n",
            "7  NaN  NaN  NaN   B7   C7   E7\n",
            "==================================================\n",
            "    A   B   C    B    C    E\n",
            "0  A0  B0  C0  NaN  NaN  NaN\n",
            "2  A1  B1  C1   B2   C2   E2\n",
            "3  A2  B2  C2  NaN  NaN  NaN\n"
          ]
        }
      ]
    },
    {
      "cell_type": "code",
      "source": [
        "# 1. 데이터 가공\n",
        "\n",
        "# 데이터 이어 붙이기(pd.concat()): 축의 로직 설정으로 이어 붙이기\n",
        "print(df4), print('='*50)\n",
        "print(df5), print('='*50)\n",
        "\n",
        "result4 = pd.concat([df4, df5])\n",
        "print(result4), print('='*50)\n",
        "\n",
        "# ignore_index=True: 원본 인덱스를 무시하고 결합된 결과 DataFrame에\n",
        "# 새로운 정수 인덱스(0부터 시작)를 자동으로 생성\n",
        "# 인덱스가 중복되는 경우 무시할 수 있음\n",
        "result5 = pd.concat([df4, df5], ignore_index=True)\n",
        "print(result5)"
      ],
      "metadata": {
        "colab": {
          "base_uri": "https://localhost:8080/"
        },
        "id": "L_DL7U9GJLAV",
        "outputId": "226f5acc-cd7f-49c9-ff8f-d1e80a6a4fc6"
      },
      "execution_count": null,
      "outputs": [
        {
          "output_type": "stream",
          "name": "stdout",
          "text": [
            "    A   B   C\n",
            "0  A0  B0  C0\n",
            "2  A1  B1  C1\n",
            "3  A2  B2  C2\n",
            "==================================================\n",
            "    B   C   E\n",
            "2  B2  C2  E2\n",
            "6  B6  C6  E6\n",
            "7  B7  C7  E7\n",
            "==================================================\n",
            "     A   B   C    E\n",
            "0   A0  B0  C0  NaN\n",
            "2   A1  B1  C1  NaN\n",
            "3   A2  B2  C2  NaN\n",
            "2  NaN  B2  C2   E2\n",
            "6  NaN  B6  C6   E6\n",
            "7  NaN  B7  C7   E7\n",
            "==================================================\n",
            "     A   B   C    E\n",
            "0   A0  B0  C0  NaN\n",
            "1   A1  B1  C1  NaN\n",
            "2   A2  B2  C2  NaN\n",
            "3  NaN  B2  C2   E2\n",
            "4  NaN  B6  C6   E6\n",
            "5  NaN  B7  C7   E7\n"
          ]
        }
      ]
    },
    {
      "cell_type": "code",
      "source": [
        "print(pd.__version__)"
      ],
      "metadata": {
        "colab": {
          "base_uri": "https://localhost:8080/"
        },
        "id": "PgRP2DupqHiy",
        "outputId": "0abe1b89-342e-44af-cda7-f9b0bf1bc50f"
      },
      "execution_count": null,
      "outputs": [
        {
          "output_type": "stream",
          "name": "stdout",
          "text": [
            "2.2.2\n"
          ]
        }
      ]
    },
    {
      "cell_type": "code",
      "source": [
        "# Pandas 2.0 이상 버전에서는 DataFrame.append()와 Series.append() 메소드가\n",
        "# 공식적으로 제거(removed) 되었음\n",
        "result = df1.append(df2)\n",
        "print(result), print('='*50)"
      ],
      "metadata": {
        "colab": {
          "base_uri": "https://localhost:8080/",
          "height": 335
        },
        "id": "j4gF0OBNmq9I",
        "outputId": "0ef29148-d332-4596-f916-6e4cd174685d"
      },
      "execution_count": null,
      "outputs": [
        {
          "output_type": "error",
          "ename": "AttributeError",
          "evalue": "'DataFrame' object has no attribute 'append'",
          "traceback": [
            "\u001b[0;31m---------------------------------------------------------------------------\u001b[0m",
            "\u001b[0;31mAttributeError\u001b[0m                            Traceback (most recent call last)",
            "\u001b[0;32m<ipython-input-50-b544df983630>\u001b[0m in \u001b[0;36m<cell line: 0>\u001b[0;34m()\u001b[0m\n\u001b[1;32m      6\u001b[0m                     'C': ['C3', 'C4', 'C5']}, index=[3, 4, 5])\n\u001b[1;32m      7\u001b[0m \u001b[0;34m\u001b[0m\u001b[0m\n\u001b[0;32m----> 8\u001b[0;31m \u001b[0mresult\u001b[0m \u001b[0;34m=\u001b[0m \u001b[0mdf1\u001b[0m\u001b[0;34m.\u001b[0m\u001b[0mappend\u001b[0m\u001b[0;34m(\u001b[0m\u001b[0mdf2\u001b[0m\u001b[0;34m)\u001b[0m\u001b[0;34m\u001b[0m\u001b[0;34m\u001b[0m\u001b[0m\n\u001b[0m\u001b[1;32m      9\u001b[0m \u001b[0mprint\u001b[0m\u001b[0;34m(\u001b[0m\u001b[0mresult\u001b[0m\u001b[0;34m)\u001b[0m\u001b[0;34m,\u001b[0m \u001b[0mprint\u001b[0m\u001b[0;34m(\u001b[0m\u001b[0;34m'='\u001b[0m\u001b[0;34m*\u001b[0m\u001b[0;36m50\u001b[0m\u001b[0;34m)\u001b[0m\u001b[0;34m\u001b[0m\u001b[0;34m\u001b[0m\u001b[0m\n",
            "\u001b[0;32m/usr/local/lib/python3.11/dist-packages/pandas/core/generic.py\u001b[0m in \u001b[0;36m__getattr__\u001b[0;34m(self, name)\u001b[0m\n\u001b[1;32m   6297\u001b[0m         ):\n\u001b[1;32m   6298\u001b[0m             \u001b[0;32mreturn\u001b[0m \u001b[0mself\u001b[0m\u001b[0;34m[\u001b[0m\u001b[0mname\u001b[0m\u001b[0;34m]\u001b[0m\u001b[0;34m\u001b[0m\u001b[0;34m\u001b[0m\u001b[0m\n\u001b[0;32m-> 6299\u001b[0;31m         \u001b[0;32mreturn\u001b[0m \u001b[0mobject\u001b[0m\u001b[0;34m.\u001b[0m\u001b[0m__getattribute__\u001b[0m\u001b[0;34m(\u001b[0m\u001b[0mself\u001b[0m\u001b[0;34m,\u001b[0m \u001b[0mname\u001b[0m\u001b[0;34m)\u001b[0m\u001b[0;34m\u001b[0m\u001b[0;34m\u001b[0m\u001b[0m\n\u001b[0m\u001b[1;32m   6300\u001b[0m \u001b[0;34m\u001b[0m\u001b[0m\n\u001b[1;32m   6301\u001b[0m     \u001b[0;34m@\u001b[0m\u001b[0mfinal\u001b[0m\u001b[0;34m\u001b[0m\u001b[0;34m\u001b[0m\u001b[0m\n",
            "\u001b[0;31mAttributeError\u001b[0m: 'DataFrame' object has no attribute 'append'"
          ]
        }
      ]
    },
    {
      "cell_type": "code",
      "source": [
        "# 1. 데이터 가공\n",
        "\n",
        "# 데이터 이어 붙이기(pd.concat()): 차원이 다른 시리즈와 데이터프레임 이어 붙이기\n",
        "df1 = pd.DataFrame({'A': ['A0', 'A1', 'A2'],\n",
        "                    'B': ['B0', 'B1', 'B2'],\n",
        "                    'C': ['C0', 'C1', 'C2']}, index=[0, 1, 2])\n",
        "\n",
        "s2 = pd.Series(['Z0', 'Z1', 'Z2', 'Z3'], name='Z')\n",
        "\n",
        "print(df1), print('='*30)\n",
        "print(s2), print('='*30)\n",
        "\n",
        "result = pd.concat([df1, s2], axis=1)\n",
        "print(result), print('='*30)\n",
        "\n",
        "s3 = pd.Series(['*0', '*1', '*2'])  # 컬럼 이름이 없음\n",
        "print(s3), print('='*30)\n",
        "\n",
        "result2 = pd.concat([df1, s3, s3, s3], axis=1)\n",
        "print(result2)"
      ],
      "metadata": {
        "colab": {
          "base_uri": "https://localhost:8080/"
        },
        "id": "U2Jj1cxKqTOO",
        "outputId": "850fe32d-c6c4-42d4-dc72-be2ba63b0344"
      },
      "execution_count": null,
      "outputs": [
        {
          "output_type": "stream",
          "name": "stdout",
          "text": [
            "    A   B   C\n",
            "0  A0  B0  C0\n",
            "1  A1  B1  C1\n",
            "2  A2  B2  C2\n",
            "==============================\n",
            "0    Z0\n",
            "1    Z1\n",
            "2    Z2\n",
            "3    Z3\n",
            "Name: Z, dtype: object\n",
            "==============================\n",
            "     A    B    C   Z\n",
            "0   A0   B0   C0  Z0\n",
            "1   A1   B1   C1  Z1\n",
            "2   A2   B2   C2  Z2\n",
            "3  NaN  NaN  NaN  Z3\n",
            "==============================\n",
            "0    *0\n",
            "1    *1\n",
            "2    *2\n",
            "dtype: object\n",
            "==============================\n",
            "    A   B   C   0   1   2\n",
            "0  A0  B0  C0  *0  *0  *0\n",
            "1  A1  B1  C1  *1  *1  *1\n",
            "2  A2  B2  C2  *2  *2  *2\n"
          ]
        }
      ]
    },
    {
      "cell_type": "code",
      "source": [
        "# 1. 데이터 가공\n",
        "\n",
        "# 데이터 이어 붙이기(pd.concat()): 그룹 키로 이어 붙이기\n",
        "s4 = pd.Series([0, 1, 2, 3], name='J')  # 컬럼 이름 J\n",
        "s5 = pd.Series([0, 1, 2, 3])            # 컬럼 이름이 없음\n",
        "s6 = pd.Series([0, 1, 4, 5])            # 컬럼 이름이 없음\n",
        "\n",
        "result3 = pd.concat([s4, s5, s6], axis=1)\n",
        "print(result3), print('='*30)\n",
        "\n",
        "# keys = []: DataFrame의 컬럼 이름을 명시적으로 지정\n",
        "result4 = pd.concat([s4, s5, s6], axis=1, keys=['ha', 'hi', 'ho'])\n",
        "print(result4)"
      ],
      "metadata": {
        "colab": {
          "base_uri": "https://localhost:8080/"
        },
        "id": "UIr7oK5gmtKB",
        "outputId": "a32f827c-1d3c-437e-8abd-a2a228b56f10"
      },
      "execution_count": null,
      "outputs": [
        {
          "output_type": "stream",
          "name": "stdout",
          "text": [
            "   J  0  1\n",
            "0  0  0  0\n",
            "1  1  1  1\n",
            "2  2  2  4\n",
            "3  3  3  5\n",
            "==============================\n",
            "   ha  hi  ho\n",
            "0   0   0   0\n",
            "1   1   1   1\n",
            "2   2   2   4\n",
            "3   3   3   5\n"
          ]
        }
      ]
    },
    {
      "cell_type": "code",
      "source": [
        "# 1. 데이터 가공\n",
        "\n",
        "# 데이터 이어 붙이기(pd.concat()): 그룹 키로 이어 붙이기\n",
        "df1 = pd.DataFrame({'A': ['A0', 'A1', 'A2'],\n",
        "                    'B': ['B0', 'B1', 'B2'],\n",
        "                    'C': ['C0', 'C1', 'C2']}, index=[0, 1, 2])\n",
        "df2 = pd.DataFrame({'A': ['A3', 'A4', 'A5'],\n",
        "                    'B': ['B3', 'B4', 'B5'],\n",
        "                    'C': ['C3', 'C4', 'C5']}, index=[3, 4, 5])\n",
        "df3 = pd.DataFrame({'A': ['A6', 'A7', 'A8'],\n",
        "                    'B': ['B6', 'B7', 'B8'],\n",
        "                    'C': ['C6', 'C7', 'C8']}, index=[6, 7, 8])\n",
        "frames = [df1, df2, df3]\n",
        "\n",
        "print(df1), print('='*30)\n",
        "print(df2), print('='*30)\n",
        "print(df3), print('='*30)\n",
        "\n",
        "result = pd.concat(frames, keys=['ha', 'hi', 'ho'])\n",
        "print(result), print('='*50)\n",
        "\n",
        "# DataFrame들을 딕셔너리 형태로 준비\n",
        "# 딕셔너리로 objs를 전달할 경우 딕셔너리의 키가 keys 역할을 함\n",
        "# 즉, 딕셔너리의 키('ha', 'hi', 'ho')가 해당 DataFrame의 상위 레벨 인덱스가 됨\n",
        "pic = {'ha': df1, 'hi': df2, 'ho': df3}\n",
        "result1 = pd.concat(pic)\n",
        "print(result1), print('='*50)\n",
        "\n",
        "# 딕셔너리의 키들 중 특정 키만 선택하여 포함하고, 그 순서도 재정렬\n",
        "result2 = pd.concat(pic, keys=['ho', 'hi'])\n",
        "print(result2)"
      ],
      "metadata": {
        "colab": {
          "base_uri": "https://localhost:8080/"
        },
        "id": "lp1gUozVmyo1",
        "outputId": "8cb3da55-0fc9-4fec-e5ab-faa02db71560"
      },
      "execution_count": null,
      "outputs": [
        {
          "output_type": "stream",
          "name": "stdout",
          "text": [
            "    A   B   C\n",
            "0  A0  B0  C0\n",
            "1  A1  B1  C1\n",
            "2  A2  B2  C2\n",
            "==============================\n",
            "    A   B   C\n",
            "3  A3  B3  C3\n",
            "4  A4  B4  C4\n",
            "5  A5  B5  C5\n",
            "==============================\n",
            "    A   B   C\n",
            "6  A6  B6  C6\n",
            "7  A7  B7  C7\n",
            "8  A8  B8  C8\n",
            "==============================\n",
            "       A   B   C\n",
            "ha 0  A0  B0  C0\n",
            "   1  A1  B1  C1\n",
            "   2  A2  B2  C2\n",
            "hi 3  A3  B3  C3\n",
            "   4  A4  B4  C4\n",
            "   5  A5  B5  C5\n",
            "ho 6  A6  B6  C6\n",
            "   7  A7  B7  C7\n",
            "   8  A8  B8  C8\n",
            "==================================================\n",
            "       A   B   C\n",
            "ha 0  A0  B0  C0\n",
            "   1  A1  B1  C1\n",
            "   2  A2  B2  C2\n",
            "hi 3  A3  B3  C3\n",
            "   4  A4  B4  C4\n",
            "   5  A5  B5  C5\n",
            "ho 6  A6  B6  C6\n",
            "   7  A7  B7  C7\n",
            "   8  A8  B8  C8\n",
            "==================================================\n",
            "       A   B   C\n",
            "ho 6  A6  B6  C6\n",
            "   7  A7  B7  C7\n",
            "   8  A8  B8  C8\n",
            "hi 3  A3  B3  C3\n",
            "   4  A4  B4  C4\n",
            "   5  A5  B5  C5\n"
          ]
        }
      ]
    },
    {
      "cell_type": "code",
      "source": [],
      "metadata": {
        "id": "qO-dkn2Pm0f2"
      },
      "execution_count": null,
      "outputs": []
    },
    {
      "cell_type": "code",
      "source": [
        "# 1. 데이터 가공\n",
        "\n",
        "# 데이터베이스 타입의 데이터프레임 또는 시리즈 합치기: merge()\n",
        "df1 = pd.DataFrame({'key_name': ['A', 'B', 'C', 'D'], 'value': np.random.randn(4)})\n",
        "df2 = pd.DataFrame({'key_name': ['B', 'D', 'D', 'E'], 'value': np.random.randn(4)})\n",
        "print(df1), print('='*30)\n",
        "print(df2), print('='*30)\n",
        "\n",
        "# how 매개변수가 지정되지 않았으므로, pd.merge()는 기본값인 how='inner' (내부 조인) 사용\n",
        "# 내부 조인은 on으로 지정된 키('key_name')가 양쪽 DataFrame에 모두 존재하는 경우에만\n",
        "# 해당 행들을 결과에 포함.\n",
        "# 조인 키('key_name')를 제외하고 이름이 중복되는 컬럼에 대해 자동으로 접미사(_x와 _y)를 붙여 구분\n",
        "print(pd.merge(df1, df2, on='key_name'))"
      ],
      "metadata": {
        "id": "yVGdAOklm1g-",
        "colab": {
          "base_uri": "https://localhost:8080/"
        },
        "outputId": "c1d5e405-8a27-4a04-9142-80853aacbe66"
      },
      "execution_count": null,
      "outputs": [
        {
          "output_type": "stream",
          "name": "stdout",
          "text": [
            "  key_name     value\n",
            "0        A -1.557818\n",
            "1        B  0.524327\n",
            "2        C  0.105372\n",
            "3        D -0.489903\n",
            "==============================\n",
            "  key_name     value\n",
            "0        B  1.525080\n",
            "1        D  0.055619\n",
            "2        D -0.979631\n",
            "3        E -0.281685\n",
            "==============================\n",
            "  key_name   value_x   value_y\n",
            "0        B  0.524327  1.525080\n",
            "1        D -0.489903  0.055619\n",
            "2        D -0.489903 -0.979631\n"
          ]
        }
      ]
    },
    {
      "cell_type": "code",
      "source": [
        "# 1. 데이터 가공\n",
        "\n",
        "# 데이터베이스 타입의 데이터프레임 또는 시리즈 합치기: merge()\n",
        "left = pd.merge(df1, df2, on='key_name', how='left')\n",
        "print(left), print('='*30)\n",
        "\n",
        "right = pd.merge(df1, df2, on='key_name', how='right')\n",
        "print(right), print('='*30)\n",
        "\n",
        "outer = pd.merge(df1, df2, on='key_name', how='outer')\n",
        "print(outer), print('='*30)\n",
        "\n",
        "inner = pd.merge(df1, df2, on='key_name', how='inner')  # how='inner'가 기본값\n",
        "print(inner)"
      ],
      "metadata": {
        "id": "KFVX5D3om2eO",
        "colab": {
          "base_uri": "https://localhost:8080/"
        },
        "outputId": "4cc4c93b-1e3c-44de-d0e4-5dc21bf31c2d"
      },
      "execution_count": null,
      "outputs": [
        {
          "output_type": "stream",
          "name": "stdout",
          "text": [
            "  key_name   value_x   value_y\n",
            "0        A -1.557818       NaN\n",
            "1        B  0.524327  1.525080\n",
            "2        C  0.105372       NaN\n",
            "3        D -0.489903  0.055619\n",
            "4        D -0.489903 -0.979631\n",
            "==============================\n",
            "  key_name   value_x   value_y\n",
            "0        B  0.524327  1.525080\n",
            "1        D -0.489903  0.055619\n",
            "2        D -0.489903 -0.979631\n",
            "3        E       NaN -0.281685\n",
            "==============================\n",
            "  key_name   value_x   value_y\n",
            "0        A -1.557818       NaN\n",
            "1        B  0.524327  1.525080\n",
            "2        C  0.105372       NaN\n",
            "3        D -0.489903  0.055619\n",
            "4        D -0.489903 -0.979631\n",
            "5        E       NaN -0.281685\n",
            "==============================\n",
            "  key_name   value_x   value_y\n",
            "0        B  0.524327  1.525080\n",
            "1        D -0.489903  0.055619\n",
            "2        D -0.489903 -0.979631\n"
          ]
        }
      ]
    },
    {
      "cell_type": "code",
      "source": [
        "# 1. 데이터 가공\n",
        "\n",
        "# 데이터베이스 타입의 데이터프레임 또는 시리즈 합치기: merge()\n",
        "left = pd.DataFrame({'key1': ['Z0', 'Z0', 'Z1', 'Z2'],\n",
        "                     'key2': ['Z0', 'Z1', 'Z0', 'Z1'],\n",
        "                     'A': ['A0', 'A1', 'A2', 'A3'],\n",
        "                     'B': ['B0', 'B1', 'B2', 'B3']})\n",
        "right = pd.DataFrame({'key1': ['Z0', 'Z1', 'Z1', 'Z2'],\n",
        "                      'key2': ['Z0', 'Z0', 'Z0', 'Z0'],\n",
        "                      'A': ['C0', 'C1', 'C2', 'C3'],\n",
        "                      'D': ['D0', 'D1', 'D2', 'D3']})\n",
        "\n",
        "print(left), print('='*30)\n",
        "print(right), print('='*30)\n",
        "\n",
        "# left DataFrame의 ('key1','key2') 조합 : ('Z0','Z0'), ('Z0','Z1'), ('Z1','Z0'), ('Z2','Z1')\n",
        "# right DataFrame의 ('key1','key2') 조합: ('Z0','Z0'), ('Z1','Z0'), ('Z1','Z0'), ('Z2','Z0')\n",
        "result = pd.merge(left, right, on=['key1', 'key2']) # how='inner'가 기본값\n",
        "print(result)"
      ],
      "metadata": {
        "id": "ObFt4agdm5Xg",
        "colab": {
          "base_uri": "https://localhost:8080/"
        },
        "outputId": "cf003858-4efc-4924-e52c-756143413192"
      },
      "execution_count": null,
      "outputs": [
        {
          "output_type": "stream",
          "name": "stdout",
          "text": [
            "  key1 key2   A   B\n",
            "0   Z0   Z0  A0  B0\n",
            "1   Z0   Z1  A1  B1\n",
            "2   Z1   Z0  A2  B2\n",
            "3   Z2   Z1  A3  B3\n",
            "==============================\n",
            "  key1 key2   A   D\n",
            "0   Z0   Z0  C0  D0\n",
            "1   Z1   Z0  C1  D1\n",
            "2   Z1   Z0  C2  D2\n",
            "3   Z2   Z0  C3  D3\n",
            "==============================\n",
            "  key1 key2 A_x   B A_y   D\n",
            "0   Z0   Z0  A0  B0  C0  D0\n",
            "1   Z1   Z0  A2  B2  C1  D1\n",
            "2   Z1   Z0  A2  B2  C2  D2\n"
          ]
        }
      ]
    },
    {
      "cell_type": "code",
      "source": [
        "# 1. 데이터 가공\n",
        "\n",
        "# 데이터베이스 타입의 데이터프레임 또는 시리즈 합치기: merge()\n",
        "print(left), print('='*30)\n",
        "print(right), print('='*30)\n",
        "\n",
        "# left DataFrame의 ('key1','key2') 조합 : ('Z0','Z0'), ('Z0','Z1'), ('Z1','Z0'), ('Z2','Z1')\n",
        "# right DataFrame의 ('key1','key2') 조합: ('Z0','Z0'), ('Z1','Z0'), ('Z1','Z0'), ('Z2','Z0')\n",
        "result = pd.merge(left, right, how='left', on=['key1', 'key2'])\n",
        "print(result), print('='*30)\n",
        "\n",
        "result = pd.merge(left, right, how='right', on=['key1', 'key2'])\n",
        "print(result), print('='*30)\n",
        "\n",
        "result = pd.merge(left, right, how='outer', on=['key1', 'key2'])\n",
        "print(result)"
      ],
      "metadata": {
        "id": "XYWVRlcZm6gz",
        "colab": {
          "base_uri": "https://localhost:8080/"
        },
        "outputId": "d461f493-6c79-4b0e-b054-6f3e5dd92195"
      },
      "execution_count": null,
      "outputs": [
        {
          "output_type": "stream",
          "name": "stdout",
          "text": [
            "  key1 key2   A   B\n",
            "0   Z0   Z0  A0  B0\n",
            "1   Z0   Z1  A1  B1\n",
            "2   Z1   Z0  A2  B2\n",
            "3   Z2   Z1  A3  B3\n",
            "==============================\n",
            "  key1 key2   A   D\n",
            "0   Z0   Z0  C0  D0\n",
            "1   Z1   Z0  C1  D1\n",
            "2   Z1   Z0  C2  D2\n",
            "3   Z2   Z0  C3  D3\n",
            "==============================\n",
            "  key1 key2 A_x   B  A_y    D\n",
            "0   Z0   Z0  A0  B0   C0   D0\n",
            "1   Z0   Z1  A1  B1  NaN  NaN\n",
            "2   Z1   Z0  A2  B2   C1   D1\n",
            "3   Z1   Z0  A2  B2   C2   D2\n",
            "4   Z2   Z1  A3  B3  NaN  NaN\n",
            "==============================\n",
            "  key1 key2  A_x    B A_y   D\n",
            "0   Z0   Z0   A0   B0  C0  D0\n",
            "1   Z1   Z0   A2   B2  C1  D1\n",
            "2   Z1   Z0   A2   B2  C2  D2\n",
            "3   Z2   Z0  NaN  NaN  C3  D3\n",
            "==============================\n",
            "  key1 key2  A_x    B  A_y    D\n",
            "0   Z0   Z0   A0   B0   C0   D0\n",
            "1   Z0   Z1   A1   B1  NaN  NaN\n",
            "2   Z1   Z0   A2   B2   C1   D1\n",
            "3   Z1   Z0   A2   B2   C2   D2\n",
            "4   Z2   Z0  NaN  NaN   C3   D3\n",
            "5   Z2   Z1   A3   B3  NaN  NaN\n"
          ]
        }
      ]
    },
    {
      "cell_type": "code",
      "source": [
        "# 1. 데이터 가공\n",
        "\n",
        "# 데이터베이스 타입의 데이터프레임 또는 시리즈 합치기: join() 메소드\n",
        "left = pd.DataFrame({'A': ['A0', 'A1', 'A2'],\n",
        "                     'B': ['B0', 'B1', 'B2']}, index=['Z0', 'Z1', 'Z2'])\n",
        "right = pd.DataFrame({'C': ['C0', 'C2', 'C3'],\n",
        "                      'D': ['D0', 'D2', 'D3']}, index=['Z0', 'Z2', 'Z3'])\n",
        "\n",
        "print(left), print('='*30)\n",
        "print(right), print('='*30)\n",
        "\n",
        "result = left.join(right)\n",
        "#result = left.join(right, how='left')\n",
        "print(result), print('='*30)\n",
        "\n",
        "result = left.join(right, how='outer')\n",
        "print(result)"
      ],
      "metadata": {
        "id": "Eape109Am9MA",
        "colab": {
          "base_uri": "https://localhost:8080/"
        },
        "outputId": "e55ec04a-e573-4202-88c7-c996411b1080"
      },
      "execution_count": null,
      "outputs": [
        {
          "output_type": "stream",
          "name": "stdout",
          "text": [
            "     A   B\n",
            "Z0  A0  B0\n",
            "Z1  A1  B1\n",
            "Z2  A2  B2\n",
            "==============================\n",
            "     C   D\n",
            "Z0  C0  D0\n",
            "Z2  C2  D2\n",
            "Z3  C3  D3\n",
            "==============================\n",
            "     A   B    C    D\n",
            "Z0  A0  B0   C0   D0\n",
            "Z1  A1  B1  NaN  NaN\n",
            "Z2  A2  B2   C2   D2\n",
            "==============================\n",
            "      A    B    C    D\n",
            "Z0   A0   B0   C0   D0\n",
            "Z1   A1   B1  NaN  NaN\n",
            "Z2   A2   B2   C2   D2\n",
            "Z3  NaN  NaN   C3   D3\n"
          ]
        }
      ]
    },
    {
      "cell_type": "code",
      "source": [
        "# 1. 데이터 가공\n",
        "\n",
        "# 데이터베이스 타입의 데이터프레임 또는 시리즈 합치기: join() 메소드\n",
        "print(left), print('='*30)\n",
        "print(right), print('='*30)\n",
        "\n",
        "result = left.join(right, how='right')\n",
        "print(result), print('='*30)\n",
        "\n",
        "result = left.join(right, how='inner')\n",
        "print(result)"
      ],
      "metadata": {
        "id": "uiGqggw0m-Jd",
        "colab": {
          "base_uri": "https://localhost:8080/"
        },
        "outputId": "43a79513-7794-48e0-a0d1-4f386cdb0a8b"
      },
      "execution_count": null,
      "outputs": [
        {
          "output_type": "stream",
          "name": "stdout",
          "text": [
            "     A   B\n",
            "Z0  A0  B0\n",
            "Z1  A1  B1\n",
            "Z2  A2  B2\n",
            "==============================\n",
            "     C   D\n",
            "Z0  C0  D0\n",
            "Z2  C2  D2\n",
            "Z3  C3  D3\n",
            "==============================\n",
            "      A    B   C   D\n",
            "Z0   A0   B0  C0  D0\n",
            "Z2   A2   B2  C2  D2\n",
            "Z3  NaN  NaN  C3  D3\n",
            "==============================\n",
            "     A   B   C   D\n",
            "Z0  A0  B0  C0  D0\n",
            "Z2  A2  B2  C2  D2\n"
          ]
        }
      ]
    },
    {
      "cell_type": "code",
      "source": [
        "# 1. 데이터 가공\n",
        "\n",
        "# 데이터베이스 타입의 데이터프레임 또는 시리즈 합치기: join() 메소드\n",
        "left = pd.DataFrame({'A': ['A0', 'A1', 'A2', 'A3'],\n",
        "                     'B': ['B0', 'B1', 'B2', 'B3'],\n",
        "                     'key': ['Z0', 'Z1', 'Z0', 'Z1']})\n",
        "right = pd.DataFrame({'C': ['C0', 'C1'],\n",
        "                      'D': ['D0', 'D1']}, index=['Z0', 'Z1'])\n",
        "#                       'D': ['D0', 'D1']}, index=['Z3', 'Z4'])\n",
        "print(left), print('='*30)\n",
        "print(right), print('='*30)\n",
        "\n",
        "# join() 메소드는 how='left' (왼쪽 조인)를 사용\n",
        "# 즉,left DataFrame의 모든 행을 유지하고, right DataFrame에서 매칭되는 행을 추가\n",
        "result = left.join(right, on='key')\n",
        "#result = left.join(right, on='key', how='left')\n",
        "print(result)"
      ],
      "metadata": {
        "id": "4onUB2j7nAOt",
        "colab": {
          "base_uri": "https://localhost:8080/"
        },
        "outputId": "87439530-540e-4a0e-c850-fd9e8ed642f7"
      },
      "execution_count": null,
      "outputs": [
        {
          "output_type": "stream",
          "name": "stdout",
          "text": [
            "    A   B key\n",
            "0  A0  B0  Z0\n",
            "1  A1  B1  Z1\n",
            "2  A2  B2  Z0\n",
            "3  A3  B3  Z1\n",
            "==============================\n",
            "     C   D\n",
            "Z0  C0  D0\n",
            "Z1  C1  D1\n",
            "==============================\n",
            "    A   B key   C   D\n",
            "0  A0  B0  Z0  C0  D0\n",
            "1  A1  B1  Z1  C1  D1\n",
            "2  A2  B2  Z0  C0  D0\n",
            "3  A3  B3  Z1  C1  D1\n"
          ]
        }
      ]
    },
    {
      "cell_type": "code",
      "source": [
        "# 1. 데이터 가공\n",
        "\n",
        "# 데이터베이스 타입의 데이터프레임 또는 시리즈 합치기: 멀티인덱스 객체 합치기\n",
        "left = pd.DataFrame({'A': ['A0', 'A1', 'A2', 'A3'],\n",
        "                     'B': ['B0', 'B1', 'B2', 'B3'],\n",
        "                     'key1': ['Z0', 'Z0', 'Z1', 'Z2'],\n",
        "                     'key2': ['Z0', 'Z1', 'Z0', 'Z1']})\n",
        "\n",
        "ind = pd.MultiIndex.from_tuples([('Z0', 'Z0'), ('Z1', 'Z0'), ('Z2', 'Z0'), ('Z2', 'Z1')])\n",
        "right = pd.DataFrame({'C': ['C0', 'C1', 'C2', 'C3'],\n",
        "                      'D': ['D0', 'D1', 'D2', 'D3']}, index=ind)\n",
        "\n",
        "print(left), print('='*30)\n",
        "print(right), print('='*30)\n",
        "\n",
        "# left DataFrame의 ('key1','key2') 조합 : ('Z0','Z0'), ('Z0','Z1'), ('Z1','Z0'), ('Z2','Z1')\n",
        "result = left.join(right, on=['key1', 'key2'])\n",
        "print(result)"
      ],
      "metadata": {
        "id": "AgMcqf1YnBIj",
        "colab": {
          "base_uri": "https://localhost:8080/"
        },
        "outputId": "08c537eb-10a2-4984-ae1c-211e05c14821"
      },
      "execution_count": null,
      "outputs": [
        {
          "output_type": "stream",
          "name": "stdout",
          "text": [
            "    A   B key1 key2\n",
            "0  A0  B0   Z0   Z0\n",
            "1  A1  B1   Z0   Z1\n",
            "2  A2  B2   Z1   Z0\n",
            "3  A3  B3   Z2   Z1\n",
            "==============================\n",
            "        C   D\n",
            "Z0 Z0  C0  D0\n",
            "Z1 Z0  C1  D1\n",
            "Z2 Z0  C2  D2\n",
            "   Z1  C3  D3\n",
            "==============================\n",
            "    A   B key1 key2    C    D\n",
            "0  A0  B0   Z0   Z0   C0   D0\n",
            "1  A1  B1   Z0   Z1  NaN  NaN\n",
            "2  A2  B2   Z1   Z0   C1   D1\n",
            "3  A3  B3   Z2   Z1   C3   D3\n"
          ]
        }
      ]
    },
    {
      "cell_type": "code",
      "source": [
        "# 1. 데이터 가공\n",
        "\n",
        "# 데이터베이스 타입의 데이터프레임 또는 시리즈 합치기: 멀티인덱스 객체 합치기\n",
        "left = pd.DataFrame({'A': ['A0', 'A1', 'A2'],\n",
        "                     'B': ['B0', 'B1', 'B2']},\n",
        "                     index=pd.Index(['Z0', 'Z1', 'Z2'], name='key'))\n",
        "\n",
        "ind = pd.MultiIndex.from_tuples([('Z0','Y0'),('Z1','Y1'),('Z2','Y2'),('Z2','Y3')],\n",
        "                                names=['key', 'Y'])\n",
        "right = pd.DataFrame({'C':['C0', 'C1', 'C2', 'C3'],\n",
        "                      'D':['D0', 'D1', 'D2', 'D3']},index=ind)\n",
        "\n",
        "print(left), print('='*30)\n",
        "print(right), print('='*30)\n",
        "\n",
        "# 멀티인덱스를 가지는 데이터프레임을 하나의 인덱스를 가지는 데이터프레임과 합칠 수 있음\n",
        "# 이때 레벨은 하나의 인덱스를 가지는 데이터프레임의 인덱스 이름을 기준으로 결정\n",
        "result = left.join(right, how='inner')\n",
        "#result = left.join(right, how='left') # how='left' 기본값\n",
        "print(result)"
      ],
      "metadata": {
        "id": "DdCDmuP3nCMo",
        "colab": {
          "base_uri": "https://localhost:8080/"
        },
        "outputId": "3d187167-bffd-440b-eda0-1705a63d6558"
      },
      "execution_count": null,
      "outputs": [
        {
          "output_type": "stream",
          "name": "stdout",
          "text": [
            "      A   B\n",
            "key        \n",
            "Z0   A0  B0\n",
            "Z1   A1  B1\n",
            "Z2   A2  B2\n",
            "==============================\n",
            "         C   D\n",
            "key Y         \n",
            "Z0  Y0  C0  D0\n",
            "Z1  Y1  C1  D1\n",
            "Z2  Y2  C2  D2\n",
            "    Y3  C3  D3\n",
            "==============================\n",
            "         A   B   C   D\n",
            "key Y                 \n",
            "Z0  Y0  A0  B0  C0  D0\n",
            "Z1  Y1  A1  B1  C1  D1\n",
            "Z2  Y2  A2  B2  C2  D2\n",
            "    Y3  A2  B2  C3  D3\n"
          ]
        }
      ]
    },
    {
      "cell_type": "code",
      "source": [
        "# 1. 데이터 가공\n",
        "\n",
        "# 데이터베이스 타입의 데이터프레임 또는 시리즈 합치기: 멀티인덱스 객체 합치기\n",
        "\n",
        "# 위 셀과 같은 결과임\n",
        "result = pd.merge(left.reset_index(), right.reset_index(),\n",
        "                  on=['key'], how='inner').set_index(['key', 'Y'])\n",
        "\n",
        "print(left.reset_index()), print('='*30)\n",
        "print(right.reset_index()), print('='*30)\n",
        "print(result)"
      ],
      "metadata": {
        "id": "l8o5AG0FnC7j",
        "colab": {
          "base_uri": "https://localhost:8080/"
        },
        "outputId": "e559b380-6acc-4259-b43a-a4f0e53e2cfd"
      },
      "execution_count": null,
      "outputs": [
        {
          "output_type": "stream",
          "name": "stdout",
          "text": [
            "  key   A   B\n",
            "0  Z0  A0  B0\n",
            "1  Z1  A1  B1\n",
            "2  Z2  A2  B2\n",
            "==============================\n",
            "  key   Y   C   D\n",
            "0  Z0  Y0  C0  D0\n",
            "1  Z1  Y1  C1  D1\n",
            "2  Z2  Y2  C2  D2\n",
            "3  Z2  Y3  C3  D3\n",
            "==============================\n",
            "         A   B   C   D\n",
            "key Y                 \n",
            "Z0  Y0  A0  B0  C0  D0\n",
            "Z1  Y1  A1  B1  C1  D1\n",
            "Z2  Y2  A2  B2  C2  D2\n",
            "    Y3  A2  B2  C3  D3\n"
          ]
        }
      ]
    },
    {
      "cell_type": "code",
      "source": [
        "# 1. 데이터 가공\n",
        "\n",
        "# 데이터베이스 타입의 데이터프레임 또는 시리즈 합치기: 멀티인덱스 객체 합치기\n",
        "l_ind = pd.MultiIndex.from_product([list('abc'), list('xy'), [1, 2]],\n",
        "                                   names=['abc', 'xy', 'num'])\n",
        "left = pd.DataFrame({'z1': range(12)}, index=l_ind)\n",
        "\n",
        "r_ind = pd.MultiIndex.from_product([list('abc'), list('xy')], names=['abc','xy'])\n",
        "right = pd.DataFrame({'z2': [100 * i for i in range(1, 7)]}, index=r_ind)\n",
        "\n",
        "print(left), print('='*30)\n",
        "print(right), print('='*30)\n",
        "\n",
        "result = left.join(right, on=['abc', 'xy'], how='inner')\n",
        "print(result)"
      ],
      "metadata": {
        "id": "7mgLjox4nDuy",
        "colab": {
          "base_uri": "https://localhost:8080/"
        },
        "outputId": "4f939bbe-4486-4514-b3ae-f3afec26fbdb"
      },
      "execution_count": null,
      "outputs": [
        {
          "output_type": "stream",
          "name": "stdout",
          "text": [
            "            z1\n",
            "abc xy num    \n",
            "a   x  1     0\n",
            "       2     1\n",
            "    y  1     2\n",
            "       2     3\n",
            "b   x  1     4\n",
            "       2     5\n",
            "    y  1     6\n",
            "       2     7\n",
            "c   x  1     8\n",
            "       2     9\n",
            "    y  1    10\n",
            "       2    11\n",
            "==============================\n",
            "         z2\n",
            "abc xy     \n",
            "a   x   100\n",
            "    y   200\n",
            "b   x   300\n",
            "    y   400\n",
            "c   x   500\n",
            "    y   600\n",
            "==============================\n",
            "            z1   z2\n",
            "abc xy num         \n",
            "a   x  1     0  100\n",
            "       2     1  100\n",
            "    y  1     2  200\n",
            "       2     3  200\n",
            "b   x  1     4  300\n",
            "       2     5  300\n",
            "    y  1     6  400\n",
            "       2     7  400\n",
            "c   x  1     8  500\n",
            "       2     9  500\n",
            "    y  1    10  600\n",
            "       2    11  600\n"
          ]
        }
      ]
    },
    {
      "cell_type": "code",
      "source": [
        "# 1. 데이터 가공\n",
        "\n",
        "# 데이터베이스 타입의 데이터프레임 또는 시리즈 합치기: 열과 인덱스 레벨을 조합해 합치기\n",
        "l_ind = pd.Index(['Z0', 'Z0', 'Z1', 'Z2'], name='key1')\n",
        "left = pd.DataFrame({'A': ['A0', 'A1', 'A2', 'A3'],\n",
        "                     'B': ['B0', 'B1', 'B2', 'B3'],\n",
        "                     'key2': ['Z0', 'Z1', 'Z0', 'Z1']}, index=l_ind)\n",
        "\n",
        "r_ind = pd.Index(['Z0', 'Z1', 'Z2', 'Z2'], name='key1')\n",
        "right = pd.DataFrame({'C': ['C0', 'C1', 'C2', 'C3'],\n",
        "                      'D': ['D0', 'D1', 'D2', 'D3'],\n",
        "                      'key2': ['Z0', 'Z0', 'Z0', 'Z1']}, index=r_ind)\n",
        "\n",
        "print(left), print('='*30)\n",
        "print(right), print('='*30)\n",
        "\n",
        "# left DataFrame의 ('key1','key2') 조합 : ('Z0','Z0'), ('Z0','Z1'), ('Z1','Z0'), ('Z2','Z1')\n",
        "# right DataFrame의 ('key1','key2') 조합: ('Z0','Z0'), ('Z1','Z0'), ('Z2','Z0'), ('Z2','Z1')\n",
        "# how='inner' (기본값)이므로 on으로 지정된 모든 조인 키(key1, key2의 조합)가\n",
        "# 양쪽 DataFrame에 모두 존재하는 경우에만 해당 행들을 결과에 포함\n",
        "result = left.merge(right, on=['key1', 'key2'])\n",
        "print(result), print('='*30)\n",
        "\n",
        "result1 = pd.merge(left, right, on=['key1', 'key2']) # 위와 같은 결과임\n",
        "print(result1)"
      ],
      "metadata": {
        "id": "Vytq9y_3nG2y",
        "colab": {
          "base_uri": "https://localhost:8080/"
        },
        "outputId": "be6b0825-71ba-44c9-91a3-93804a00dad6"
      },
      "execution_count": null,
      "outputs": [
        {
          "output_type": "stream",
          "name": "stdout",
          "text": [
            "       A   B key2\n",
            "key1             \n",
            "Z0    A0  B0   Z0\n",
            "Z0    A1  B1   Z1\n",
            "Z1    A2  B2   Z0\n",
            "Z2    A3  B3   Z1\n",
            "==============================\n",
            "       C   D key2\n",
            "key1             \n",
            "Z0    C0  D0   Z0\n",
            "Z1    C1  D1   Z0\n",
            "Z2    C2  D2   Z0\n",
            "Z2    C3  D3   Z1\n",
            "==============================\n",
            "       A   B key2   C   D\n",
            "key1                     \n",
            "Z0    A0  B0   Z0  C0  D0\n",
            "Z1    A2  B2   Z0  C1  D1\n",
            "Z2    A3  B3   Z1  C3  D3\n",
            "==============================\n",
            "       A   B key2   C   D\n",
            "key1                     \n",
            "Z0    A0  B0   Z0  C0  D0\n",
            "Z1    A2  B2   Z0  C1  D1\n",
            "Z2    A3  B3   Z1  C3  D3\n"
          ]
        }
      ]
    },
    {
      "cell_type": "code",
      "source": [
        "# 1. 데이터 가공\n",
        "\n",
        "# 데이터베이스 타입의 데이터프레임 또는 시리즈 합치기: 중복되는 열 처리하기\n",
        "left = pd.DataFrame({'z': ['Z0', 'Z1', 'Z2'], 'v': [1, 2, 3]})\n",
        "right = pd.DataFrame({'z': ['Z0', 'Z0', 'Z3'], 'v': [4, 5, 6]})\n",
        "\n",
        "print(left), print('='*30)\n",
        "print(right), print('='*30)\n",
        "\n",
        "result = pd.merge(left, right, on='z') # how='inner'\n",
        "result1 = pd.merge(left, right, on='z', suffixes=['_l', '_r']) # how='inner'\n",
        "print(result), print('='*30)\n",
        "print(result1)"
      ],
      "metadata": {
        "id": "XV-mj1aanH33",
        "colab": {
          "base_uri": "https://localhost:8080/"
        },
        "outputId": "a51a805a-24da-4e36-be66-2a8001398cb7"
      },
      "execution_count": null,
      "outputs": [
        {
          "output_type": "stream",
          "name": "stdout",
          "text": [
            "    z  v\n",
            "0  Z0  1\n",
            "1  Z1  2\n",
            "2  Z2  3\n",
            "==============================\n",
            "    z  v\n",
            "0  Z0  4\n",
            "1  Z0  5\n",
            "2  Z3  6\n",
            "==============================\n",
            "    z  v_x  v_y\n",
            "0  Z0    1    4\n",
            "1  Z0    1    5\n",
            "==============================\n",
            "    z  v_l  v_r\n",
            "0  Z0    1    4\n",
            "1  Z0    1    5\n"
          ]
        }
      ]
    },
    {
      "cell_type": "code",
      "source": [
        "# 1. 데이터 가공\n",
        "\n",
        "# 데이터베이스 타입의 데이터프레임 또는 시리즈 합치기: 중복되는 열 처리하기\n",
        "print(left), print('='*30)\n",
        "print(right), print('='*30)\n",
        "\n",
        "left = left.set_index('v')\n",
        "right = right.set_index('v')\n",
        "\n",
        "print(left), print('='*30)\n",
        "print(right), print('='*30)\n",
        "\n",
        "result = left.join(right, lsuffix='_l', rsuffix='_r')\n",
        "print(result)"
      ],
      "metadata": {
        "colab": {
          "base_uri": "https://localhost:8080/"
        },
        "id": "STcKlN20Hjer",
        "outputId": "239a007c-d430-4a55-a85a-8923ea2e506e"
      },
      "execution_count": null,
      "outputs": [
        {
          "output_type": "stream",
          "name": "stdout",
          "text": [
            "    z  v\n",
            "0  Z0  1\n",
            "1  Z1  2\n",
            "2  Z2  3\n",
            "==============================\n",
            "    z  v\n",
            "0  Z0  4\n",
            "1  Z0  5\n",
            "2  Z3  6\n",
            "==============================\n",
            "    z\n",
            "v    \n",
            "1  Z0\n",
            "2  Z1\n",
            "3  Z2\n",
            "==============================\n",
            "    z\n",
            "v    \n",
            "4  Z0\n",
            "5  Z0\n",
            "6  Z3\n",
            "==============================\n",
            "  z_l  z_r\n",
            "v         \n",
            "1  Z0  NaN\n",
            "2  Z1  NaN\n",
            "3  Z2  NaN\n"
          ]
        }
      ]
    },
    {
      "cell_type": "code",
      "source": [
        "# 1. 데이터 가공\n",
        "\n",
        "# 데이터베이스 타입의 데이터프레임 또는 시리즈 합치기: 시리즈나 데이터프레임의 열 안에서 값을 합치기\n",
        "df1 = pd.DataFrame([[np.nan, 3., 5.], [-4.6, np.nan, np.nan], [np.nan, 7., np.nan]])\n",
        "df2 = pd.DataFrame([[-2.6, np.nan, -8.2], [-5., 1.6, 4]], index=[1, 2])\n",
        "\n",
        "print(df1), print('='*30)\n",
        "print(df2), print('='*30)\n",
        "\n",
        "result1 = df1.combine_first(df2)\n",
        "result2 = df2.combine_first(df1)\n",
        "print(result1), print('='*30)\n",
        "print(result2), print('='*30)\n",
        "\n",
        "df1.update(df2) # df2.combine_first(df1)과 결과가 같음\n",
        "print(df1)"
      ],
      "metadata": {
        "id": "wlw2W6H0nKmZ",
        "colab": {
          "base_uri": "https://localhost:8080/"
        },
        "outputId": "96555986-1418-4ac1-fb43-d49a536323d1"
      },
      "execution_count": null,
      "outputs": [
        {
          "output_type": "stream",
          "name": "stdout",
          "text": [
            "     0    1    2\n",
            "0  NaN  3.0  5.0\n",
            "1 -4.6  NaN  NaN\n",
            "2  NaN  7.0  NaN\n",
            "==============================\n",
            "     0    1    2\n",
            "1 -2.6  NaN -8.2\n",
            "2 -5.0  1.6  4.0\n",
            "==============================\n",
            "     0    1    2\n",
            "0  NaN  3.0  5.0\n",
            "1 -4.6  NaN -8.2\n",
            "2 -5.0  7.0  4.0\n",
            "==============================\n",
            "     0    1    2\n",
            "0  NaN  3.0  5.0\n",
            "1 -2.6  NaN -8.2\n",
            "2 -5.0  1.6  4.0\n",
            "==============================\n",
            "     0    1    2\n",
            "0  NaN  3.0  5.0\n",
            "1 -2.6  NaN -8.2\n",
            "2 -5.0  1.6  4.0\n"
          ]
        }
      ]
    },
    {
      "cell_type": "code",
      "source": [
        "# 데이터 가공\n",
        "\n",
        "# 데이터 재형성하기: 데이터프레임 객체 피벗 pivot()\n",
        "data = {'name': ['haena', 'naeun', 'una', 'bum', 'suho'],\n",
        "        'type': ['tennis', 'tennis', 'swim', 'swim', 'tennis'],\n",
        "        'records': ['A', 'B', 'C', 'A', 'B'],\n",
        "        'sex': ['F', 'F', 'F', 'M', 'M'],\n",
        "        'period': [3, 3, 1, 5, 2]}\n",
        "\n",
        "df = pd.DataFrame(data)\n",
        "print(df), print('='*50)\n",
        "\n",
        "dfp = df.pivot(index='name', columns='type', values=['records', 'sex'])\n",
        "print(dfp), print('='*50)\n",
        "\n",
        "dfp2 = df.pivot(index='name', columns='type')\n",
        "print(dfp2)"
      ],
      "metadata": {
        "id": "k27hFy5WnNtO",
        "colab": {
          "base_uri": "https://localhost:8080/"
        },
        "outputId": "b31e1b18-731b-45fb-f7a8-d0e19e3c0515"
      },
      "execution_count": null,
      "outputs": [
        {
          "output_type": "stream",
          "name": "stdout",
          "text": [
            "    name    type records sex  period\n",
            "0  haena  tennis       A   F       3\n",
            "1  naeun  tennis       B   F       3\n",
            "2    una    swim       C   F       1\n",
            "3    bum    swim       A   M       5\n",
            "4   suho  tennis       B   M       2\n",
            "==================================================\n",
            "      records         sex       \n",
            "type     swim tennis swim tennis\n",
            "name                            \n",
            "bum         A    NaN    M    NaN\n",
            "haena     NaN      A  NaN      F\n",
            "naeun     NaN      B  NaN      F\n",
            "suho      NaN      B  NaN      M\n",
            "una         C    NaN    F    NaN\n",
            "==================================================\n",
            "      records         sex        period       \n",
            "type     swim tennis swim tennis   swim tennis\n",
            "name                                          \n",
            "bum         A    NaN    M    NaN    5.0    NaN\n",
            "haena     NaN      A  NaN      F    NaN    3.0\n",
            "naeun     NaN      B  NaN      F    NaN    3.0\n",
            "suho      NaN      B  NaN      M    NaN    2.0\n",
            "una         C    NaN    F    NaN    1.0    NaN\n"
          ]
        }
      ]
    },
    {
      "cell_type": "code",
      "source": [
        "# 데이터 가공\n",
        "\n",
        "# 데이터 재형성하기: 데이터프레임 객체 피벗 pivot_table()\n",
        "print(df), print('='*50)\n",
        "\n",
        "dfp = df.pivot_table(index='type', columns='records', values='period', aggfunc=np.max)\n",
        "print(dfp)"
      ],
      "metadata": {
        "id": "4fLZzcGgnPeo",
        "colab": {
          "base_uri": "https://localhost:8080/"
        },
        "outputId": "9ef20efb-7a41-4bdd-cb98-9ed54bfe78b3"
      },
      "execution_count": null,
      "outputs": [
        {
          "output_type": "stream",
          "name": "stdout",
          "text": [
            "    name    type records sex  period\n",
            "0  haena  tennis       A   F       3\n",
            "1  naeun  tennis       B   F       3\n",
            "2    una    swim       C   F       1\n",
            "3    bum    swim       A   M       5\n",
            "4   suho  tennis       B   M       2\n",
            "==================================================\n",
            "records    A    B    C\n",
            "type                  \n",
            "swim     5.0  NaN  1.0\n",
            "tennis   3.0  3.0  NaN\n"
          ]
        },
        {
          "output_type": "stream",
          "name": "stderr",
          "text": [
            "<ipython-input-40-ae73fac17e49>:6: FutureWarning: The provided callable <function max at 0x7ebdacfb93a0> is currently using DataFrameGroupBy.max. In a future version of pandas, the provided callable will be used directly. To keep current behavior pass the string \"max\" instead.\n",
            "  dfp = df.pivot_table(index='type', columns='records', values='period', aggfunc=np.max)\n"
          ]
        }
      ]
    },
    {
      "cell_type": "code",
      "source": [
        "# 데이터 가공\n",
        "\n",
        "# 데이터 재형성하기: 데이터프레임 객체 피벗 pivot_table()\n",
        "import datetime\n",
        "df = pd.DataFrame({'A': ['one', 'one', 'two', 'three'] * 2,\n",
        "                   'B': ['x', 'y'] * 4,\n",
        "                   'C': ['ha', 'ha', 'ha', 'hi', 'hi', 'hi', 'ha', 'hi'],\n",
        "                   'D': np.arange(8),\n",
        "                   'E': [datetime.datetime(2021, i, 1) for i in range(1, 9)]})\n",
        "\n",
        "print(df), print('='*50)\n",
        "\n",
        "dfp = df.pivot_table(values='D', index=['A', 'B'], columns=['C']) # aggfunc='mean' (기본값)\n",
        "print(dfp), print('='*50)\n",
        "\n",
        "dfp2 = pd.pivot_table(df, values='D', index=['B'], columns=['A','C'], aggfunc=np.sum)\n",
        "print(dfp2), print('='*50)\n",
        "\n",
        "str_df = dfp2.to_string(na_rep='')\n",
        "print(str_df)"
      ],
      "metadata": {
        "id": "c9ZvgiTsnRk1",
        "colab": {
          "base_uri": "https://localhost:8080/"
        },
        "outputId": "d6b3077d-72b3-4090-870a-3c362f513aef"
      },
      "execution_count": null,
      "outputs": [
        {
          "output_type": "stream",
          "name": "stdout",
          "text": [
            "       A  B   C  D          E\n",
            "0    one  x  ha  0 2021-01-01\n",
            "1    one  y  ha  1 2021-02-01\n",
            "2    two  x  ha  2 2021-03-01\n",
            "3  three  y  hi  3 2021-04-01\n",
            "4    one  x  hi  4 2021-05-01\n",
            "5    one  y  hi  5 2021-06-01\n",
            "6    two  x  ha  6 2021-07-01\n",
            "7  three  y  hi  7 2021-08-01\n",
            "==================================================\n",
            "C         ha   hi\n",
            "A     B          \n",
            "one   x  0.0  4.0\n",
            "      y  1.0  5.0\n",
            "three y  NaN  5.0\n",
            "two   x  4.0  NaN\n",
            "==================================================\n",
            "A  one      three  two\n",
            "C   ha   hi    hi   ha\n",
            "B                     \n",
            "x  0.0  4.0   NaN  8.0\n",
            "y  1.0  5.0  10.0  NaN\n",
            "==================================================\n",
            "A  one      three  two\n",
            "C   ha   hi    hi   ha\n",
            "B                     \n",
            "x  0.0  4.0        8.0\n",
            "y  1.0  5.0  10.0     \n"
          ]
        },
        {
          "output_type": "stream",
          "name": "stderr",
          "text": [
            "<ipython-input-41-3a06daabe38f>:16: FutureWarning: The provided callable <function sum at 0x7ebdacfb8cc0> is currently using DataFrameGroupBy.sum. In a future version of pandas, the provided callable will be used directly. To keep current behavior pass the string \"sum\" instead.\n",
            "  dfp2 = pd.pivot_table(df, values='D', index=['B'], columns=['A','C'], aggfunc=np.sum)\n"
          ]
        }
      ]
    },
    {
      "cell_type": "code",
      "source": [
        "# 데이터 가공\n",
        "\n",
        "# 데이터 재형성하기: 교차표 crosstab()\n",
        "ha, hi, top, down, one, two = 'ha', 'hi', 'top', 'down', 'one', 'two'\n",
        "a = np.array([ha,  ha,   hi,  hi,  ha,  ha], dtype=object)\n",
        "b = np.array([one, one, two,  one, two, one], dtype=object)\n",
        "c = np.array([top, top, down, top, top, down], dtype=object)\n",
        "\n",
        "dfc = pd.crosstab(a, [b, c], rownames=['a'], colnames=['b', 'c'])\n",
        "print(dfc)"
      ],
      "metadata": {
        "id": "AfNRmTd2nU65",
        "colab": {
          "base_uri": "https://localhost:8080/"
        },
        "outputId": "d4bce8e7-94d5-4f75-d5ed-ecdb1f354c0f"
      },
      "execution_count": null,
      "outputs": [
        {
          "output_type": "stream",
          "name": "stdout",
          "text": [
            "b   one      two    \n",
            "c  down top down top\n",
            "a                   \n",
            "ha    1   2    0   1\n",
            "hi    0   1    1   0\n"
          ]
        }
      ]
    },
    {
      "cell_type": "code",
      "source": [
        "# 데이터 가공\n",
        "\n",
        "# 데이터 재형성하기: 교차표 crosstab()\n",
        "df = pd.DataFrame({'A': [1, 2, 2, 2, 2], 'B': [3, 3, 7, 7, 7], 'C': [1, 1, np.nan, 1, 1]})\n",
        "print(df), print('='*20)\n",
        "\n",
        "dfc = pd.crosstab(df.A, df.B)\n",
        "print(dfc), print('='*20)\n",
        "\n",
        "dfc2 = pd.crosstab(df.A, df.B, normalize=True)\n",
        "print(dfc2), print('='*20)\n",
        "\n",
        "dfc2 = pd.crosstab(df.A, df.B, normalize='columns')\n",
        "print(dfc2), print('='*20)\n",
        "\n",
        "dfc2 = pd.crosstab(df.A, df.B, normalize='index')\n",
        "print(dfc2)"
      ],
      "metadata": {
        "id": "PUEeX3XfnWHS",
        "colab": {
          "base_uri": "https://localhost:8080/"
        },
        "outputId": "2cc1439d-9253-4a18-87bc-6e4140187a81"
      },
      "execution_count": null,
      "outputs": [
        {
          "output_type": "stream",
          "name": "stdout",
          "text": [
            "   A  B    C\n",
            "0  1  3  1.0\n",
            "1  2  3  1.0\n",
            "2  2  7  NaN\n",
            "3  2  7  1.0\n",
            "4  2  7  1.0\n",
            "====================\n",
            "B  3  7\n",
            "A      \n",
            "1  1  0\n",
            "2  1  3\n",
            "====================\n",
            "B    3    7\n",
            "A          \n",
            "1  0.2  0.0\n",
            "2  0.2  0.6\n",
            "====================\n",
            "B    3    7\n",
            "A          \n",
            "1  0.5  0.0\n",
            "2  0.5  1.0\n",
            "====================\n",
            "B     3     7\n",
            "A            \n",
            "1  1.00  0.00\n",
            "2  0.25  0.75\n"
          ]
        }
      ]
    },
    {
      "cell_type": "code",
      "source": [
        "# 데이터 가공\n",
        "\n",
        "# 데이터 재형성하기: 교차표 crosstab()\n",
        "df = pd.DataFrame({'A': [1, 2, 2, 2, 2], 'B': [3, 3, 7, 7, 7], 'C': [1, 1, np.nan, 1, 1]})\n",
        "print(df), print('='*20)\n",
        "\n",
        "dfc = pd.crosstab(df.A, df.B, values=df.C, aggfunc=np.sum)\n",
        "print(dfc), print('='*20)\n",
        "\n",
        "dfc2 = pd.crosstab(df.A, df.B, values=df.C, aggfunc=np.sum, margins=True)\n",
        "print(dfc2), print('='*20)\n",
        "\n",
        "dfc3 = pd.crosstab(df.A, df.B, values=df.C, aggfunc=np.sum, normalize=True, margins=True)\n",
        "print(dfc3)"
      ],
      "metadata": {
        "id": "aCMh2ErRnZmy",
        "colab": {
          "base_uri": "https://localhost:8080/"
        },
        "outputId": "eebf0c32-a5a1-48b7-de30-2b0cbdf91b2d"
      },
      "execution_count": null,
      "outputs": [
        {
          "output_type": "stream",
          "name": "stdout",
          "text": [
            "   A  B    C\n",
            "0  1  3  1.0\n",
            "1  2  3  1.0\n",
            "2  2  7  NaN\n",
            "3  2  7  1.0\n",
            "4  2  7  1.0\n",
            "====================\n",
            "B    3    7\n",
            "A          \n",
            "1  1.0  NaN\n",
            "2  1.0  2.0\n",
            "====================\n",
            "B      3    7  All\n",
            "A                 \n",
            "1    1.0  NaN  1.0\n",
            "2    1.0  2.0  3.0\n",
            "All  2.0  2.0  4.0\n",
            "====================\n",
            "B       3    7   All\n",
            "A                   \n",
            "1    0.25  0.0  0.25\n",
            "2    0.25  0.5  0.75\n",
            "All  0.50  0.5  1.00\n"
          ]
        },
        {
          "output_type": "stream",
          "name": "stderr",
          "text": [
            "<ipython-input-64-0db1b58b1d10>:7: FutureWarning: The provided callable <function sum at 0x7bd258ff8cc0> is currently using DataFrameGroupBy.sum. In a future version of pandas, the provided callable will be used directly. To keep current behavior pass the string \"sum\" instead.\n",
            "  dfc = pd.crosstab(df.A, df.B, values=df.C, aggfunc=np.sum)\n",
            "<ipython-input-64-0db1b58b1d10>:10: FutureWarning: The provided callable <function sum at 0x7bd258ff8cc0> is currently using DataFrameGroupBy.sum. In a future version of pandas, the provided callable will be used directly. To keep current behavior pass the string \"sum\" instead.\n",
            "  dfc2 = pd.crosstab(df.A, df.B, values=df.C, aggfunc=np.sum, margins=True)\n",
            "<ipython-input-64-0db1b58b1d10>:10: FutureWarning: The provided callable <function sum at 0x7bd258ff8cc0> is currently using DataFrameGroupBy.sum. In a future version of pandas, the provided callable will be used directly. To keep current behavior pass the string \"sum\" instead.\n",
            "  dfc2 = pd.crosstab(df.A, df.B, values=df.C, aggfunc=np.sum, margins=True)\n",
            "<ipython-input-64-0db1b58b1d10>:10: FutureWarning: The provided callable <function sum at 0x7bd258ff8cc0> is currently using DataFrameGroupBy.sum. In a future version of pandas, the provided callable will be used directly. To keep current behavior pass the string \"sum\" instead.\n",
            "  dfc2 = pd.crosstab(df.A, df.B, values=df.C, aggfunc=np.sum, margins=True)\n",
            "<ipython-input-64-0db1b58b1d10>:13: FutureWarning: The provided callable <function sum at 0x7bd258ff8cc0> is currently using DataFrameGroupBy.sum. In a future version of pandas, the provided callable will be used directly. To keep current behavior pass the string \"sum\" instead.\n",
            "  dfc3 = pd.crosstab(df.A, df.B, values=df.C, aggfunc=np.sum, normalize=True, margins=True)\n",
            "<ipython-input-64-0db1b58b1d10>:13: FutureWarning: The provided callable <function sum at 0x7bd258ff8cc0> is currently using DataFrameGroupBy.sum. In a future version of pandas, the provided callable will be used directly. To keep current behavior pass the string \"sum\" instead.\n",
            "  dfc3 = pd.crosstab(df.A, df.B, values=df.C, aggfunc=np.sum, normalize=True, margins=True)\n",
            "<ipython-input-64-0db1b58b1d10>:13: FutureWarning: The provided callable <function sum at 0x7bd258ff8cc0> is currently using DataFrameGroupBy.sum. In a future version of pandas, the provided callable will be used directly. To keep current behavior pass the string \"sum\" instead.\n",
            "  dfc3 = pd.crosstab(df.A, df.B, values=df.C, aggfunc=np.sum, normalize=True, margins=True)\n"
          ]
        }
      ]
    },
    {
      "cell_type": "code",
      "source": [],
      "metadata": {
        "id": "tub2SK_Qrwjk"
      },
      "execution_count": null,
      "outputs": []
    },
    {
      "cell_type": "code",
      "source": [],
      "metadata": {
        "id": "NMXXp_g4rwgk"
      },
      "execution_count": null,
      "outputs": []
    },
    {
      "cell_type": "code",
      "source": [
        "import numpy as np\n",
        "import pandas as pd"
      ],
      "metadata": {
        "id": "bIB-DQycrwdK"
      },
      "execution_count": null,
      "outputs": []
    },
    {
      "cell_type": "code",
      "source": [
        "# 2. 데이터의 그룹 연산\n",
        "\n",
        "# 데이터 객체를 그룹 연산: GroupBy 객체 속성\n",
        "df = pd.DataFrame({'A': ['ha', 'hi', 'ho', 'ha', 'ho'],\n",
        "                   'B': ['one', 'two', 'one', 'one', 'two'],\n",
        "                   'Data1': np.random.randn(5),\n",
        "                   'Data2': np.random.randn(5)})\n",
        "print(df), print('='*50)\n",
        "\n",
        "grouped1 = df.groupby('A')\n",
        "\n",
        "# grouped1은 DataFrameGroupBy 객체임\n",
        "# 그룹들의 속성은 키가 반영된 단일 그룹임\n",
        "print(grouped1)\n",
        "gr_dict = dict(list(grouped1))\n",
        "print(dict(list(grouped1))), print('='*50)\n",
        "\n",
        "print(grouped1.groups)\n",
        "# print(grouped1.mean())"
      ],
      "metadata": {
        "colab": {
          "base_uri": "https://localhost:8080/"
        },
        "id": "mFnEiLPCrwaB",
        "outputId": "cd967a3c-95b3-4f89-d573-726d81137cfb"
      },
      "execution_count": null,
      "outputs": [
        {
          "output_type": "stream",
          "name": "stdout",
          "text": [
            "    A    B     Data1     Data2\n",
            "0  ha  one -0.790777 -1.323456\n",
            "1  hi  two  0.119117 -1.630244\n",
            "2  ho  one  0.692038 -0.464918\n",
            "3  ha  one  0.350813 -0.763992\n",
            "4  ho  two -1.439306 -0.575059\n",
            "==================================================\n",
            "<pandas.core.groupby.generic.DataFrameGroupBy object at 0x7851720eb910>\n",
            "{'ha':     A    B     Data1     Data2\n",
            "0  ha  one -0.790777 -1.323456\n",
            "3  ha  one  0.350813 -0.763992, 'hi':     A    B     Data1     Data2\n",
            "1  hi  two  0.119117 -1.630244, 'ho':     A    B     Data1     Data2\n",
            "2  ho  one  0.692038 -0.464918\n",
            "4  ho  two -1.439306 -0.575059}\n",
            "==================================================\n",
            "{'ha': [0, 3], 'hi': [1], 'ho': [2, 4]}\n"
          ]
        }
      ]
    },
    {
      "cell_type": "code",
      "source": [
        "# 2. 데이터의 그룹 연산\n",
        "\n",
        "# 데이터 객체를 그룹 연산: GroupBy 객체 속성\n",
        "\n",
        "# 특정 그룹 (예: 'ho')은 선택해 해당 데이터를 구하는 방법1\n",
        "print(gr_dict['ho']), print('='*50)\n",
        "\n",
        "# 특정 그룹 (예: 'ho')은 선택해 해당 데이터를 구하는 방법2\n",
        "print(grouped1.get_group('ho'))\n"
      ],
      "metadata": {
        "colab": {
          "base_uri": "https://localhost:8080/"
        },
        "id": "oI3M8bTlsqlM",
        "outputId": "be4733eb-a6e3-49d6-f3dc-f578cd80cb04"
      },
      "execution_count": null,
      "outputs": [
        {
          "output_type": "stream",
          "name": "stdout",
          "text": [
            "    A    B     Data1     Data2\n",
            "2  ho  one  1.217197  1.095655\n",
            "4  ho  two  0.273442 -0.497081\n",
            "==================================================\n",
            "    A    B     Data1     Data2\n",
            "2  ho  one  1.217197  1.095655\n",
            "4  ho  two  0.273442 -0.497081\n"
          ]
        }
      ]
    },
    {
      "cell_type": "code",
      "source": [
        "# 2. 데이터의 그룹 연산\n",
        "\n",
        "# 데이터 객체를 그룹 연산: GroupBy 객체 속성\n",
        "print(df), print('='*50)\n",
        "\n",
        "grouped2 = df['Data2'].groupby(df['A'])\n",
        "print(grouped2.mean()), print('='*50)\n",
        "\n",
        "grouped3 = df['Data1'].groupby([df['A'], df['B']])\n",
        "print(grouped3.groups), print('='*50)\n",
        "print(grouped3.mean())"
      ],
      "metadata": {
        "colab": {
          "base_uri": "https://localhost:8080/"
        },
        "id": "IbTjP_k4sr0E",
        "outputId": "f930ea34-b563-4ab8-a27b-05eca6d43ee2"
      },
      "execution_count": null,
      "outputs": [
        {
          "output_type": "stream",
          "name": "stdout",
          "text": [
            "    A    B     Data1     Data2\n",
            "0  ha  one -0.790777 -1.323456\n",
            "1  hi  two  0.119117 -1.630244\n",
            "2  ho  one  0.692038 -0.464918\n",
            "3  ha  one  0.350813 -0.763992\n",
            "4  ho  two -1.439306 -0.575059\n",
            "==================================================\n",
            "A\n",
            "ha   -1.043724\n",
            "hi   -1.630244\n",
            "ho   -0.519988\n",
            "Name: Data2, dtype: float64\n",
            "==================================================\n",
            "{('ha', 'one'): [0, 3], ('hi', 'two'): [1], ('ho', 'one'): [2], ('ho', 'two'): [4]}\n",
            "==================================================\n",
            "A   B  \n",
            "ha  one   -0.219982\n",
            "hi  two    0.119117\n",
            "ho  one    0.692038\n",
            "    two   -1.439306\n",
            "Name: Data1, dtype: float64\n"
          ]
        }
      ]
    }
  ]
}