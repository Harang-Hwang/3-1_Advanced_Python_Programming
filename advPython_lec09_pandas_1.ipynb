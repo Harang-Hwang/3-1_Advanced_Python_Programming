{
 "cells": [
  {
   "cell_type": "code",
   "execution_count": 1,
   "metadata": {
    "id": "KOsjS8Mvkmp4"
   },
   "outputs": [],
   "source": [
    "import numpy as np\n",
    "import pandas as pd"
   ]
  },
  {
   "cell_type": "markdown",
   "metadata": {
    "id": "OQNXTMefC0gN"
   },
   "source": [
    "### 1. 판다스 데이터 구조"
   ]
  },
  {
   "cell_type": "code",
   "execution_count": null,
   "metadata": {
    "colab": {
     "base_uri": "https://localhost:8080/"
    },
    "id": "FXC7Dh4o5_nC",
    "outputId": "c2e4b077-f31b-42b5-969f-5240d12db880"
   },
   "outputs": [
    {
     "name": "stdout",
     "output_type": "stream",
     "text": [
      "a   -0.228686\n",
      "b    0.561790\n",
      "c    0.865264\n",
      "d    0.735201\n",
      "dtype: float64\n",
      "--------------------------------------------------\n",
      "[-0.22868575  0.56179042  0.86526394  0.73520063]\n",
      "Index(['a', 'b', 'c', 'd'], dtype='object')\n",
      "0.5617904163127239\n",
      "==================================================\n",
      "0    100\n",
      "1    200\n",
      "2    300\n",
      "dtype: int64\n",
      "[100 200 300]\n",
      "RangeIndex(start=0, stop=3, step=1)\n",
      "200\n"
     ]
    }
   ],
   "source": [
    "# Series\n",
    "\n",
    "# 시리즈 객체 생성 방법: 1. ndarray에서 시리즈 객체 생성\n",
    "s1 = pd.Series(np.random.randn(4), index=['a', 'b', 'c', 'd'])\n",
    "\n",
    "print(s1), print('-'*50)\n",
    "\n",
    "# 클래스 객체인 pandas.Series의 속성 values와 index를 이용해 각 값을 구할 수 있음\n",
    "print(s1.values)\n",
    "print(s1.index)\n",
    "\n",
    "print(s1['b'])  # 라벨 'b'를 사용하여 값에 접근 (행 라벨로 접근)\n",
    "print('='*50)\n",
    "\n",
    "## 인덱스 미지정 (기본 정수 인덱스)\n",
    "s2 = pd.Series([100, 200, 300])\n",
    "print(s2)\n",
    "print(s2.values)\n",
    "print(s2.index)\n",
    "print(s2[1])  # 기본 정수 인덱스 (행 라벨)를 사용하여 값에 접근"
   ]
  },
  {
   "cell_type": "code",
   "execution_count": null,
   "metadata": {
    "colab": {
     "base_uri": "https://localhost:8080/"
    },
    "id": "gEROvErCyjRG",
    "outputId": "7bc306ff-dc24-4ddf-d74f-b166189f6ec8"
   },
   "outputs": [
    {
     "name": "stdout",
     "output_type": "stream",
     "text": [
      "seoul      2000\n",
      "busan      2500\n",
      "daejeon    3000\n",
      "dtype: int64\n",
      "====================\n",
      "a    0.0\n",
      "b    1.0\n",
      "c    2.0\n",
      "dtype: float64\n",
      "====================\n",
      "b    1.0\n",
      "c    2.0\n",
      "d    NaN\n",
      "a    0.0\n",
      "dtype: float64\n",
      "[ 1.  2. nan  0.]\n",
      "Index(['b', 'c', 'd', 'a'], dtype='object')\n"
     ]
    }
   ],
   "source": [
    "# Series\n",
    "\n",
    "# 시리즈 객체 생성 방법: 2. dictionary 데이터에서 시리즈 객체 생성\n",
    "dict_data = {'seoul': 2000, 'busan': 2500, 'daejeon': 3000}\n",
    "\n",
    "s1 = pd.Series(dict_data)\n",
    "print(s1), print('='*20)\n",
    "\n",
    "# 인덱스 순서 지정\n",
    "dict_data2 = {'a': 0., 'b': 1., 'c': 2.}\n",
    "index_order = ['c', 'a', 'b']  # 원하는 인덱스 순서\n",
    "\n",
    "series = pd.Series(dict_data2, index=index_order)\n",
    "print(s2), print('='*20)\n",
    "\n",
    "# 인덱스 'd'는 없는 인덱스 -> NaN (Not a Number, 표준 손실 값 표시자)로 표현됨\n",
    "s3 = pd.Series(dict_data2, index=['b', 'c', 'd', 'a'])\n",
    "print(s3)\n",
    "print(s3.values)\n",
    "print(s3.index)"
   ]
  },
  {
   "cell_type": "code",
   "execution_count": null,
   "metadata": {
    "colab": {
     "base_uri": "https://localhost:8080/"
    },
    "id": "5UacNCzT5_Jl",
    "outputId": "d567813b-eb12-426b-f135-bac1977e9bb5"
   },
   "outputs": [
    {
     "name": "stdout",
     "output_type": "stream",
     "text": [
      "a    10\n",
      "b    10\n",
      "c    10\n",
      "dtype: int64\n",
      "==================================================\n",
      "1    apple\n",
      "2    apple\n",
      "3    apple\n",
      "4    apple\n",
      "dtype: object\n",
      "first     True\n",
      "second    True\n",
      "dtype: bool\n"
     ]
    }
   ],
   "source": [
    "# Series\n",
    "\n",
    "# 시리즈 객체 생성 방법: 3. 스칼라 값에서 시리즈 객체 생성\n",
    "\n",
    "# 숫자 스칼라 값\n",
    "scalar_value = 10\n",
    "index_labels = ['a', 'b', 'c']\n",
    "series = pd.Series(scalar_value, index=index_labels)\n",
    "print(series), print('='*50)\n",
    "\n",
    "# 문자열 스칼라 값\n",
    "series2 = pd.Series('apple', index=[1, 2, 3, 4])\n",
    "print(series2), print('='*50)\n",
    "\n",
    "# 불리언 스칼라 값\n",
    "scalar_value = True\n",
    "index_labels = ['first', 'second']\n",
    "series3 = pd.Series(scalar_value, index=index_labels)\n",
    "print(series3)"
   ]
  },
  {
   "cell_type": "code",
   "execution_count": 5,
   "metadata": {
    "colab": {
     "base_uri": "https://localhost:8080/"
    },
    "id": "bxsn87hS-hda",
    "outputId": "46ee9386-2c25-44b0-f602-79cd046d3e05"
   },
   "outputs": [
    {
     "name": "stdout",
     "output_type": "stream",
     "text": [
      "a   -2.342135\n",
      "b    0.699945\n",
      "c   -0.092563\n",
      "d    0.368495\n",
      "e   -0.933173\n",
      "dtype: float64\n",
      "====================\n",
      "s1[0] : \n",
      "-2.3421350722674865\n",
      "====================\n",
      "s1[:3] : \n",
      "a   -2.342135\n",
      "b    0.699945\n",
      "c   -0.092563\n",
      "dtype: float64\n",
      "====================\n",
      "s1[s1 > s1.median()] : \n",
      "b    0.699945\n",
      "d    0.368495\n",
      "dtype: float64\n",
      "====================\n",
      "s1[[4, 3, 1]] : \n",
      "e   -0.933173\n",
      "d    0.368495\n",
      "b    0.699945\n",
      "dtype: float64\n",
      "====================\n",
      "np.exp(s1) : \n",
      "a    0.096122\n",
      "b    2.013643\n",
      "c    0.911591\n",
      "d    1.445558\n",
      "e    0.393304\n",
      "dtype: float64\n"
     ]
    },
    {
     "name": "stderr",
     "output_type": "stream",
     "text": [
      "C:\\Users\\User\\AppData\\Local\\Temp\\ipykernel_23720\\2646069006.py:7: FutureWarning: Series.__getitem__ treating keys as positions is deprecated. In a future version, integer keys will always be treated as labels (consistent with DataFrame behavior). To access a value by position, use `ser.iloc[pos]`\n",
      "  print(f's1[0] : \\n{s1[0]}')\n",
      "C:\\Users\\User\\AppData\\Local\\Temp\\ipykernel_23720\\2646069006.py:16: FutureWarning: Series.__getitem__ treating keys as positions is deprecated. In a future version, integer keys will always be treated as labels (consistent with DataFrame behavior). To access a value by position, use `ser.iloc[pos]`\n",
      "  print(f's1[[4, 3, 1]] : \\n{s1[[4, 3, 1]]}')\n"
     ]
    }
   ],
   "source": [
    "# Series\n",
    "\n",
    "# ndarray와의 유사성\n",
    "s1 = pd.Series(np.random.randn(5), index=['a', 'b', 'c', 'd', 'e'])\n",
    "print(s1), print('='*20)\n",
    "\n",
    "print(f's1[0] : \\n{s1[0]}')\n",
    "print('='*20)\n",
    "\n",
    "print(f's1[:3] : \\n{s1[:3]}')\n",
    "print('='*20)\n",
    "\n",
    "print(f's1[s1 > s1.median()] : \\n{s1[s1 > s1.median()]}')\n",
    "print('='*20)\n",
    "\n",
    "print(f's1[[4, 3, 1]] : \\n{s1[[4, 3, 1]]}')\n",
    "print('='*20)\n",
    "\n",
    "print(f'np.exp(s1) : \\n{np.exp(s1)}')"
   ]
  },
  {
   "cell_type": "code",
   "execution_count": null,
   "metadata": {
    "colab": {
     "base_uri": "https://localhost:8080/"
    },
    "id": "D2iEbsHQ-td-",
    "outputId": "c2b0cfbf-2b1a-4780-bb96-3961b491aab3"
   },
   "outputs": [
    {
     "name": "stdout",
     "output_type": "stream",
     "text": [
      "a    10\n",
      "b    20\n",
      "c    30\n",
      "dtype: int64\n",
      "------------------------------\n",
      "Value at index 'b': 20\n",
      "------------------------------\n",
      "Series after changing value at 'b': \n",
      "a    10\n",
      "b    50\n",
      "c    30\n",
      "dtype: int64\n",
      "------------------------------\n",
      "Series after adding a new element: \n",
      "a    10\n",
      "b    50\n",
      "c    30\n",
      "d    40\n",
      "dtype: int64\n"
     ]
    }
   ],
   "source": [
    "# Series\n",
    "\n",
    "# dictionary와의 유사성\n",
    "\n",
    "# 딕셔너리로 Series 객체 생성\n",
    "data = {'a': 10, 'b': 20, 'c': 30}\n",
    "series = pd.Series(data)\n",
    "print(series), print(\"-\"*30)\n",
    "\n",
    "# 인덱스 라벨을 사용하여 값 얻기\n",
    "value_b = series['b']\n",
    "print(f\"Value at index 'b': {value_b}\"), print(\"-\"*30)\n",
    "\n",
    "# 인덱스 라벨을 사용하여 값 변경\n",
    "series['b'] = 50\n",
    "print(f\"Series after changing value at 'b': \\n{series}\")\n",
    "print(\"-\"*30)\n",
    "\n",
    "# 새로운 인덱스 라벨과 값 동적 할당 (크기 확장)\n",
    "series['d'] = 40\n",
    "print(f\"Series after adding a new element: \\n{series}\")"
   ]
  },
  {
   "cell_type": "code",
   "execution_count": 7,
   "metadata": {
    "colab": {
     "base_uri": "https://localhost:8080/"
    },
    "id": "FOKktLeSAzg4",
    "outputId": "1150ae38-d2c0-4dd0-99a8-b3bd23615ce1"
   },
   "outputs": [
    {
     "name": "stdout",
     "output_type": "stream",
     "text": [
      "s1 : \n",
      "a    0\n",
      "b    2\n",
      "c    3\n",
      "d    4\n",
      "e    1\n",
      "dtype: int32\n",
      "==============================\n",
      "s2 : \n",
      "a    12\n",
      "d    14\n",
      "c    12\n",
      "e    10\n",
      "b    12\n",
      "dtype: int32\n",
      "==============================\n",
      "s1*2 : \n",
      "a    0\n",
      "b    4\n",
      "c    6\n",
      "d    8\n",
      "e    2\n",
      "dtype: int32\n",
      "==============================\n",
      "s1 + s2 : \n",
      "a    12\n",
      "b    14\n",
      "c    15\n",
      "d    18\n",
      "e    11\n",
      "dtype: int32\n",
      "==============================\n",
      "a    NaN\n",
      "b    4.0\n",
      "c    6.0\n",
      "d    8.0\n",
      "e    NaN\n",
      "dtype: float64\n"
     ]
    }
   ],
   "source": [
    "# Series\n",
    "\n",
    "# 넘파이와의 유사성\n",
    "s1 = pd.Series(np.random.randint(0,5,5), index=['a', 'b', 'c', 'd', 'e'])\n",
    "\n",
    "# 주의: 인덱스의 순서가 s1과 조금 다름\n",
    "s2 = pd.Series(np.random.randint(10,15,5), index=['a', 'd', 'c', 'e', 'b'])\n",
    "\n",
    "print(f's1 : \\n{s1}'), print('='*30)\n",
    "print(f's2 : \\n{s2}'), print('='*30)\n",
    "\n",
    "print(f's1*2 : \\n{s1*2}'), print('='*30)\n",
    "\n",
    "# 시리즈를 연산하면 라벨에 기반해 데이터를 자동 정렬한다는 점에서 ndarray와 차이가 있음\n",
    "print(f's1 + s2 : \\n{s1 + s2}'), print('='*30)\n",
    "\n",
    "# 시리즈들을 연산할 때 한 시리즈나 다른 시리즈에서 라벨이 발견되지 않으면 결과는 NaN으로 표시\n",
    "print(s1[1:] + s1[:-1])"
   ]
  },
  {
   "cell_type": "code",
   "execution_count": null,
   "metadata": {
    "colab": {
     "base_uri": "https://localhost:8080/"
    },
    "id": "bYkd20n9CiuN",
    "outputId": "9a0f195d-971f-476a-cd6f-86406469d523"
   },
   "outputs": [
    {
     "name": "stdout",
     "output_type": "stream",
     "text": [
      "a    10\n",
      "b    20\n",
      "c    30\n",
      "dtype: int64\n",
      "------------------------------\n",
      "Series name: None\n",
      "==============================\n",
      "a    10\n",
      "b    20\n",
      "c    30\n",
      "Name: sample_data, dtype: int64\n",
      "------------------------------\n",
      "Series name: sample_data\n",
      "==============================\n",
      "a    10\n",
      "b    20\n",
      "c    30\n",
      "Name: new_data, dtype: int64\n",
      "------------------------------\n",
      "New series name: new_data\n",
      "Original series name: sample_data\n"
     ]
    }
   ],
   "source": [
    "# Series\n",
    "\n",
    "# 시리즈 이름 설정과 변경\n",
    "\n",
    "# name 속성을 이용한 시리즈 이름 설정 및 확인\n",
    "data = [10, 20, 30]\n",
    "index = ['a', 'b', 'c']\n",
    "s1 = pd.Series(data, index=index)\n",
    "print(s1), print('-'*30)\n",
    "print(f\"Series name: {s1.name}\")  # 초기에는 None\n",
    "print('='*30)\n",
    "\n",
    "# name 속성을 사용하여 이름 설정\n",
    "s1.name = 'sample_data'\n",
    "print(s1), print('-'*30)\n",
    "print(f\"Series name: {s1.name}\")\n",
    "print('='*30)\n",
    "\n",
    "# rename() 메소드를 이용한 시리즈 이름 변경\n",
    "s2 = s1.rename('new_data')\n",
    "print(s2), print('-'*30)\n",
    "print(f\"New series name: {s2.name}\")\n",
    "print(f\"Original series name: {s1.name}\") # 원본 Series 이름은 그대로"
   ]
  },
  {
   "cell_type": "code",
   "execution_count": null,
   "metadata": {
    "colab": {
     "base_uri": "https://localhost:8080/"
    },
    "id": "1qJTlPFM5ofQ",
    "outputId": "3f8abbda-0cfc-48bd-d2dd-210173d05beb"
   },
   "outputs": [
    {
     "name": "stdout",
     "output_type": "stream",
     "text": [
      "         이름  나이        그룹\n",
      "0  Wonyoung  22       IVE\n",
      "1   Hayoung  29  fromis_9\n",
      "2    Soyeon  26     GIdle\n",
      "==================================================\n",
      "         이름  나이        그룹\n",
      "0  Wonyoung  22       IVE\n",
      "1   Hayoung  29  fromis_9\n",
      "2    Soyeon  26     GIdle\n",
      "==================================================\n",
      "            이름  나이        그룹\n",
      "top1  Wonyoung  22       IVE\n",
      "top2   Hayoung  29  fromis_9\n",
      "top3    Soyeon  26     GIdle\n"
     ]
    }
   ],
   "source": [
    "# DataFrame\n",
    "\n",
    "# 데이터프레임 객체 생성 방법:\n",
    "# 1. 딕셔너리에서 데이터프레임 객체 생성\n",
    "\n",
    "# a. 기본 형태: 값으로 리스트 배열 사용\n",
    "data1 = {'이름': ['Wonyoung', 'Hayoung', 'Soyeon'],\n",
    "        '나이': [22, 29, 26],\n",
    "        '그룹': ['IVE', 'fromis_9', 'GIdle']}\n",
    "\n",
    "df1 = pd.DataFrame(data1)\n",
    "print(df1), print('='*50)\n",
    "\n",
    "# b. 기본 형태: 값으로 NumPy 배열 사용\n",
    "data2 = {'이름': np.array(['Wonyoung', 'Hayoung', 'Soyeon']),\n",
    "        '나이': np.array([22, 29, 26]),\n",
    "        '그룹': np.array(['IVE', 'fromis_9', 'GIdle'])}\n",
    "\n",
    "df2 = pd.DataFrame(data2)\n",
    "print(df2), print('='*50)\n",
    "\n",
    "# c. 인덱스 명시하기\n",
    "df3 = pd.DataFrame(data2, index = ['top1', 'top2', 'top3'])\n",
    "print(df3)"
   ]
  },
  {
   "cell_type": "code",
   "execution_count": null,
   "metadata": {
    "colab": {
     "base_uri": "https://localhost:8080/"
    },
    "id": "eebNbtjXFAZ0",
    "outputId": "129ed5f9-62dd-4a4f-cbc3-3c9b06e6bd1e"
   },
   "outputs": [
    {
     "name": "stdout",
     "output_type": "stream",
     "text": [
      "   one  two\n",
      "a  1.0    1\n",
      "b  2.0    2\n",
      "c  3.0    3\n",
      "d  NaN    4\n",
      "==================================================\n",
      "<class 'pandas.core.frame.DataFrame'>\n",
      "Index: 4 entries, a to d\n",
      "Data columns (total 2 columns):\n",
      " #   Column  Non-Null Count  Dtype  \n",
      "---  ------  --------------  -----  \n",
      " 0   one     3 non-null      float64\n",
      " 1   two     4 non-null      int64  \n",
      "dtypes: float64(1), int64(1)\n",
      "memory usage: 96.0+ bytes\n",
      "None\n",
      "--------------------------------------------------\n",
      "one    float64\n",
      "two      int64\n",
      "dtype: object\n",
      "--------------------------------------------------\n",
      "Index(['a', 'b', 'c', 'd'], dtype='object')\n",
      "==================================================\n",
      "Index(['one', 'two'], dtype='object')\n",
      "   one  two\n",
      "d  NaN    4\n",
      "b  2.0    2\n",
      "a  1.0    1\n",
      "==================================================\n",
      "   two three\n",
      "d    4   NaN\n",
      "b    2   NaN\n",
      "a    1   NaN\n"
     ]
    }
   ],
   "source": [
    "# DataFrame\n",
    "\n",
    "# 데이터프레임 객체 생성 방법:\n",
    "# 1. 딕셔너리에서 데이터프레임 객체 생성\n",
    "\n",
    "# d. 값으로 Series 객체의 딕셔너리 사용\n",
    "# 딕셔너리에서 인덱스로 생성한 데이터프레임은 여러 시리즈 인덱스들의 합집합 (union)임\n",
    "data3 = {'one': pd.Series([1, 2, 3], index=['a', 'b', 'c']),\n",
    "        'two': pd.Series([1, 2, 3, 4], index=['a', 'b', 'c', 'd'])}\n",
    "\n",
    "df4 = pd.DataFrame(data3)\n",
    "print(df4), print('='*50)\n",
    "\n",
    "print(df4.info()), print('-'*50)\n",
    "print(df4.dtypes), print('-'*50)\n",
    "\n",
    "# 인덱스와 열 속성을 이용해 각 행과 열 라벨에 접근할 수 있음\n",
    "print(df4.index), print('='*50)\n",
    "print(df4.columns)\n",
    "\n",
    "# 인덱스와 열 라벨 순서를 변경할 수 있음\n",
    "df5 = pd.DataFrame(data3, index = ['d', 'b', 'a'])\n",
    "print(df5), print('='*50)\n",
    "\n",
    "df6 = pd.DataFrame(data3, index = ['d', 'b', 'a'], columns = ['two', 'three'])\n",
    "print(df6)"
   ]
  },
  {
   "cell_type": "code",
   "execution_count": null,
   "metadata": {
    "colab": {
     "base_uri": "https://localhost:8080/"
    },
    "id": "wFitk1u3azW6",
    "outputId": "ad9b6ae2-bb5d-4b61-9c04-c07e381a7ebd"
   },
   "outputs": [
    {
     "name": "stdout",
     "output_type": "stream",
     "text": [
      "   col1  col2 col3   col4\n",
      "0     1   1.1    a   True\n",
      "1     2   2.2    b  False\n",
      "2     3   3.3    c   True\n",
      "------------------------------\n",
      "col1      int64\n",
      "col2    float64\n",
      "col3     object\n",
      "col4       bool\n",
      "dtype: object\n",
      "int64\n"
     ]
    }
   ],
   "source": [
    "# DataFrame\n",
    "\n",
    "# df.dtypes vs. df.dtype\n",
    "\n",
    "# df.dtypes\n",
    "data = {'col1': [1, 2, 3],\n",
    "        'col2': [1.1, 2.2, 3.3],\n",
    "        'col3': ['a', 'b', 'c'],\n",
    "        'col4': [True, False, True]}\n",
    "df = pd.DataFrame(data)\n",
    "print(df), print('-'*30)\n",
    "print(df.dtypes), print('='*30)\n",
    "\n",
    "# df.dtype\n",
    "data2 = {'col1': [1, 2, 3]}\n",
    "df_single_col = pd.DataFrame(data2)\n",
    "# 해당 열을 Series로 선택한 후 dtype 확인\n",
    "print(df_single_col['col1'].dtype)"
   ]
  },
  {
   "cell_type": "code",
   "execution_count": null,
   "metadata": {
    "colab": {
     "base_uri": "https://localhost:8080/"
    },
    "id": "WUWzGregbie5",
    "outputId": "7af84a0f-a692-4200-b927-73c753bfd20e"
   },
   "outputs": [
    {
     "name": "stdout",
     "output_type": "stream",
     "text": [
      "구조화된 NumPy 배열: [('Jang', 22, 173. ) ('Song', 29, 163. ) ('Jeon', 28, 156.5)]\n",
      "[('성', '<U10'), ('나이', '<i4'), ('키', '<f8')]\n",
      "==================================================\n",
      "생성된 DataFrame: \n",
      "      성  나이      키\n",
      "0  Jang  22  173.0\n",
      "1  Song  29  163.0\n",
      "2  Jeon  28  156.5\n",
      "==================================================\n",
      "DataFrame with index: \n",
      "           성  나이      키\n",
      "first   Jang  22  173.0\n",
      "second  Song  29  163.0\n",
      "third   Jeon  28  156.5\n",
      "==================================================\n",
      "DataFrame with changed columns: \n",
      "   나이      키     성\n",
      "0  22  173.0  Jang\n",
      "1  29  163.0  Song\n",
      "2  28  156.5  Jeon\n"
     ]
    }
   ],
   "source": [
    "# DataFrame\n",
    "\n",
    "# 데이터프레임 객체 생성 방법:\n",
    "# 2. 구조화된 배열 또는 레코드 배열에서 데이터프레임 객체 생성\n",
    "\n",
    "# 구조화된 배열의 데이터 타입 정의 및 구조화된 배열 생성\n",
    "dtype = np.dtype([('성', 'U10'), ('나이', 'i4'), ('키', 'f8')])\n",
    "data = np.array([('Jang',22,173.), ('Song',29,163.), ('Jeon',28,156.5)], dtype=dtype)\n",
    "\n",
    "print(f\"구조화된 NumPy 배열: {data}\")\n",
    "print(data.dtype), print('='*50)\n",
    "\n",
    "# 구조화된 배열로부터 DataFrame 생성\n",
    "df = pd.DataFrame(data)\n",
    "print(f\"생성된 DataFrame: \\n{df}\"), print('='*50)\n",
    "\n",
    "# 인덱스 명시하기 (index 파라미터)\n",
    "df2 = pd.DataFrame(data, index = ['first', 'second', 'third'])\n",
    "print(f\"DataFrame with index: \\n{df2}\"), print('='*50)\n",
    "\n",
    "# 열 순서 지정\n",
    "df3 = pd.DataFrame(data, columns = ['나이', '키', '성'])\n",
    "print(f\"DataFrame with changed columns: \\n{df3}\")"
   ]
  },
  {
   "cell_type": "code",
   "execution_count": null,
   "metadata": {
    "colab": {
     "base_uri": "https://localhost:8080/"
    },
    "id": "3B6bwg9Gdyie",
    "outputId": "b2b47cc6-9496-4c2a-943d-20b7fb9b4ae5"
   },
   "outputs": [
    {
     "name": "stdout",
     "output_type": "stream",
     "text": [
      "       그룹  멤버수  데뷔연도\n",
      "0   AESPA    4  2020\n",
      "1  KiiKii    5  2025\n",
      "2     IVE    6  2021\n",
      "==================================================\n",
      "       그룹  멤버수  데뷔연도\n",
      "0   AESPA  4.0   NaN\n",
      "1  KiiKii  NaN  2025\n",
      "2     IVE  6.0  2021\n"
     ]
    }
   ],
   "source": [
    "# DataFrame\n",
    "\n",
    "# 데이터프레임 객체 생성 방법:\n",
    "# 3. 딕셔너리를 요소로 갖는 리스트로 데이터프레임 객체 생성\n",
    "\n",
    "data = [{'그룹': 'AESPA', '멤버수': 4, '데뷔연도': '2020'},\n",
    "        {'그룹': 'KiiKii', '멤버수': 5, '데뷔연도': '2025'},\n",
    "        {'그룹': 'IVE', '멤버수': 6, '데뷔연도': '2021'}]\n",
    "\n",
    "df = pd.DataFrame(data)\n",
    "print(df), print('='*50)\n",
    "\n",
    "# 누락된 키 처리\n",
    "data2 = [{'그룹': 'AESPA', '멤버수': 4},\n",
    "         {'그룹': 'KiiKii', '데뷔연도': '2025'},\n",
    "         {'그룹': 'IVE', '멤버수': 6, '데뷔연도': '2021'}]\n",
    "\n",
    "df2 = pd.DataFrame(data2)\n",
    "print(df2)\n",
    "\n"
   ]
  },
  {
   "cell_type": "code",
   "execution_count": null,
   "metadata": {
    "colab": {
     "base_uri": "https://localhost:8080/"
    },
    "id": "c3gL9FDyoeZH",
    "outputId": "a2d2562e-9b56-48b9-9d39-b0fe56124e58"
   },
   "outputs": [
    {
     "name": "stdout",
     "output_type": "stream",
     "text": [
      "   a     b\n",
      "   x  y  z\n",
      "0  1  4  7\n",
      "1  2  5  8\n",
      "2  3  6  9\n",
      "==================================================\n",
      "       a              b      \n",
      "       b    a    c    a     b\n",
      "A B  1.0  4.0  5.0  8.0  10.0\n",
      "  C  2.0  3.0  6.0  7.0   NaN\n",
      "  D  NaN  NaN  NaN  NaN   9.0\n",
      "--------------------------------------------------\n",
      "MultiIndex([('A', 'B'),\n",
      "            ('A', 'C'),\n",
      "            ('A', 'D')],\n",
      "           )\n",
      "--------------------------------------------------\n",
      "MultiIndex([('a', 'b'),\n",
      "            ('a', 'a'),\n",
      "            ('a', 'c'),\n",
      "            ('b', 'a'),\n",
      "            ('b', 'b')],\n",
      "           )\n"
     ]
    }
   ],
   "source": [
    "# DataFrame\n",
    "\n",
    "# 데이터프레임 객체 생성 방법:\n",
    "# 4. 튜플의 딕셔너리에서 데이터프레임 객체 생성\n",
    "\n",
    "# 튜플을 DataFrame의 열 이름으로 사용하는 경우\n",
    "data = {('a', 'x'): [1, 2, 3],\n",
    "        ('a', 'y'): [4, 5, 6],\n",
    "        ('b', 'z'): [7, 8, 9]}\n",
    "\n",
    "df = pd.DataFrame(data)\n",
    "print(df), print('='*50)\n",
    "\n",
    "\n",
    "df2 = pd.DataFrame({('a', 'b'): {('A', 'B'): 1, ('A', 'C'): 2},\n",
    "                    ('a', 'a'): {('A', 'C'): 3, ('A', 'B'): 4},\n",
    "                    ('a', 'c'): {('A', 'B'): 5, ('A', 'C'): 6},\n",
    "                    ('b', 'a'): {('A', 'C'): 7, ('A', 'B'): 8},\n",
    "                    ('b', 'b'): {('A', 'D'): 9, ('A', 'B'): 10}})\n",
    "\n",
    "print(df2), print('-'*50)\n",
    "print(df2.index), print('-'*50)\n",
    "print(df2.columns)"
   ]
  },
  {
   "cell_type": "code",
   "execution_count": null,
   "metadata": {
    "colab": {
     "base_uri": "https://localhost:8080/"
    },
    "id": "MGVonleOweC5",
    "outputId": "842025f5-221f-4ac9-cb5f-88ab2c4a325a"
   },
   "outputs": [
    {
     "name": "stdout",
     "output_type": "stream",
     "text": [
      "         이름  나이        그룹\n",
      "0  Wonyoung  22       IVE\n",
      "1   Hayoung  29  fromis_9\n",
      "2    Soyeon  26     GIdle\n",
      "==================================================\n",
      "           0         1       2\n",
      "이름  Wonyoung   Hayoung  Soyeon\n",
      "나이        22        29      26\n",
      "그룹       IVE  fromis_9   GIdle\n",
      "==================================================\n",
      "         one       two   three\n",
      "이름  Wonyoung   Hayoung  Soyeon\n",
      "나이        22        29      26\n",
      "그룹       IVE  fromis_9   GIdle\n",
      "==================================================\n",
      "      성  나이      키\n",
      "0  Jang  22  173.0\n",
      "1  Song  29  163.0\n",
      "2  Jeon  28  156.5\n",
      "         성  나이      키\n",
      "top1  Jang  22  173.0\n",
      "top2  Song  29  163.0\n",
      "top3  Jeon  28  156.5\n",
      "==================================================\n",
      "      나이      키\n",
      "성              \n",
      "Jang  22  173.0\n",
      "Song  29  163.0\n",
      "Jeon  28  156.5\n"
     ]
    }
   ],
   "source": [
    "# DataFrame\n",
    "\n",
    "# 데이터프레임 객체 생성 방법:\n",
    "# 5-1. 데이터프레임 생성자로부터 객체 생성 (DataFrame.from_dict 생성자)\n",
    "data1 = {'이름': ['Wonyoung', 'Hayoung', 'Soyeon'],\n",
    "        '나이': [22, 29, 26],\n",
    "        '그룹': ['IVE', 'fromis_9', 'GIdle']}\n",
    "\n",
    "df1 = pd.DataFrame.from_dict(data1)\n",
    "print(df1), print('='*50)\n",
    "\n",
    "# orient='index': 딕셔너리의 키를 행 인덱스(라벨)로, 값을 행 데이터로 해석\n",
    "df2 = pd.DataFrame.from_dict(data1, orient='index')\n",
    "print(df2), print('='*50)\n",
    "\n",
    "# columns에는 원하는 열 이름을 리스트로 지정\n",
    "df3 = pd.DataFrame.from_dict(data1, orient='index', columns=['one','two','three'])\n",
    "print(df3), print('='*50)\n",
    "\n",
    "\n",
    "\n",
    "# 5-2. 데이터프레임 생성자로부터 객체 생성 (DataFrame.from_records 생성자)\n",
    "dtype = np.dtype([('성', 'U10'), ('나이', 'i4'), ('키', 'f8')])\n",
    "data4 = np.array([('Jang',22,173.), ('Song',29,163.), ('Jeon',28,156.5)], dtype=dtype)\n",
    "\n",
    "df4 = pd.DataFrame.from_records(data4)\n",
    "print(df4)\n",
    "\n",
    "df5 = pd.DataFrame.from_records(data4, index = ['top1','top2','top3'])\n",
    "print(df5), print('='*50)\n",
    "\n",
    "df6 = pd.DataFrame.from_records(data4, index = '성')\n",
    "print(df6)"
   ]
  },
  {
   "cell_type": "code",
   "execution_count": null,
   "metadata": {
    "colab": {
     "base_uri": "https://localhost:8080/"
    },
    "id": "dIQK9CXQ252J",
    "outputId": "a99c10c9-db0a-4ac7-9be4-8e566b941b6d"
   },
   "outputs": [
    {
     "name": "stdout",
     "output_type": "stream",
     "text": [
      "   one  two\n",
      "a  1.0  1.0\n",
      "b  2.0  2.0\n",
      "c  3.0  3.0\n",
      "d  NaN  4.0\n",
      "==================================================\n",
      "a    1.0\n",
      "b    2.0\n",
      "c    3.0\n",
      "d    NaN\n",
      "Name: one, dtype: float64\n",
      "==================================================\n",
      "   one  two\n",
      "a  1.0  1.0\n",
      "b  2.0  2.0\n",
      "c  3.0  3.0\n",
      "d  NaN  4.0\n",
      "==================================================\n",
      "   one  two  three\n",
      "a  1.0  1.0    1.0\n",
      "b  2.0  2.0    4.0\n",
      "c  3.0  3.0    9.0\n",
      "d  NaN  4.0    NaN\n",
      "==================================================\n",
      "   one  two  three   flag\n",
      "a  1.0  1.0    1.0  False\n",
      "b  2.0  2.0    4.0  False\n",
      "c  3.0  3.0    9.0   True\n",
      "d  NaN  4.0    NaN  False\n",
      "==================================================\n",
      "   one  three   flag\n",
      "a  1.0    1.0  False\n",
      "b  2.0    4.0  False\n",
      "c  3.0    9.0   True\n",
      "d  NaN    NaN  False\n",
      "==================================================\n",
      "a    1.0\n",
      "b    4.0\n",
      "c    9.0\n",
      "d    NaN\n",
      "Name: three, dtype: float64\n",
      "[ 1.  4.  9. nan]\n",
      "<class 'pandas.core.series.Series'>\n",
      "   one   flag    ha\n",
      "a  1.0  False  hiho\n",
      "b  2.0  False  hiho\n",
      "c  3.0   True  hiho\n",
      "d  NaN  False  hiho\n"
     ]
    }
   ],
   "source": [
    "# 행과 열의 기본 처리\n",
    "\n",
    "# 행 또는 열 선택, 추가\n",
    "d = {'one': pd.Series([1., 2., 3.], index = ['a', 'b', 'c']),\n",
    "     'two': pd.Series([1., 2., 3., 4.], index = ['a', 'b', 'c', 'd'])}\n",
    "\n",
    "df = pd.DataFrame(d)\n",
    "print(df), print('='*50)\n",
    "\n",
    "# 단일 열 선택\n",
    "print(df['one']), print('='*50)\n",
    "\n",
    "# 여러 열 선택 (대괄호 주의)\n",
    "print(df[['one','two']]), print('='*50)\n",
    "\n",
    "df['three'] = df['one'] * df['two']\n",
    "print(df), print('='*50)\n",
    "\n",
    "df['flag'] = df['one'] > 2\n",
    "print(df), print('='*50)\n",
    "\n",
    "\n",
    "# 행 또는 열 삭제 (del)\n",
    "del df['two']\n",
    "print(df), print('='*50)\n",
    "\n",
    "# pandas.DataFrame.pop 메소드는 열을 추출하고 그 요소를 시리즈로 반환\n",
    "three = df.pop('three')\n",
    "\n",
    "print(three)\n",
    "print(three.values)\n",
    "print(type(three))\n",
    "\n",
    "# 데이터프레임에 스칼라 값을 동적할당하면 브로드캐스팅으로 열을 채움\n",
    "df['ha'] = 'hiho'\n",
    "\n",
    "print(df)"
   ]
  },
  {
   "cell_type": "code",
   "execution_count": null,
   "metadata": {
    "colab": {
     "base_uri": "https://localhost:8080/"
    },
    "id": "2i9WYaTn77YG",
    "outputId": "be78e80d-2824-4103-edab-c2325c0ab2a9"
   },
   "outputs": [
    {
     "name": "stdout",
     "output_type": "stream",
     "text": [
      "   one   flag    ha\n",
      "a  1.0  False  hiho\n",
      "b  2.0  False  hiho\n",
      "c  3.0   True  hiho\n",
      "d  NaN  False  hiho\n",
      "==================================================\n",
      "   one   flag    ha  truncated_one\n",
      "a  1.0  False  hiho            1.0\n",
      "b  2.0  False  hiho            2.0\n",
      "c  3.0   True  hiho            NaN\n",
      "d  NaN  False  hiho            NaN\n"
     ]
    }
   ],
   "source": [
    "# 행과 열의 기본 처리\n",
    "\n",
    "# 데이터프레임과 다른 인덱스를 가진 시리즈를 삽입할 때는 데이터프레임의 인덱스에 맞춤\n",
    "print(df), print('='*50)\n",
    "\n",
    "df['truncated_one'] = df['one'][:2]   # df['one'][:2]는 시리즈 객체 타입임\n",
    "print(df)"
   ]
  },
  {
   "cell_type": "code",
   "execution_count": null,
   "metadata": {
    "colab": {
     "base_uri": "https://localhost:8080/"
    },
    "id": "jxC0HsKg9Qlu",
    "outputId": "449b9d46-cf74-4c8c-a623-bf24e7db1834"
   },
   "outputs": [
    {
     "name": "stdout",
     "output_type": "stream",
     "text": [
      "   one   flag    ha  truncated_one\n",
      "a  1.0  False  hiho            1.0\n",
      "b  2.0  False  hiho            2.0\n",
      "c  3.0   True  hiho            NaN\n",
      "d  NaN  False  hiho            NaN\n",
      "==================================================\n",
      "   one   hi   flag    ha  truncated_one\n",
      "a  1.0  1.0  False  hiho            1.0\n",
      "b  2.0  2.0  False  hiho            2.0\n",
      "c  3.0  3.0   True  hiho            NaN\n",
      "d  NaN  NaN  False  hiho            NaN\n"
     ]
    }
   ],
   "source": [
    "# 행과 열의 기본 처리\n",
    "\n",
    "# DataFrame.insert 함수: 특정 위치에 열을 삽입\n",
    "print(df), print('='*50)\n",
    "\n",
    "# 1: 1번째 열, 'hi': 삽입할 열 라벨, df['one']: 삽입할 값(시리즈 형)\n",
    "df.insert(1, 'hi', df['one'])\n",
    "print(df)"
   ]
  },
  {
   "cell_type": "code",
   "execution_count": null,
   "metadata": {
    "colab": {
     "base_uri": "https://localhost:8080/"
    },
    "id": "H0XpYIiY_YQS",
    "outputId": "b03c33ff-8b9c-4492-db17-6bacae7ca288"
   },
   "outputs": [
    {
     "name": "stdout",
     "output_type": "stream",
     "text": [
      "A    0\n",
      "B    1\n",
      "C    2\n",
      "dtype: int64\n",
      "==================================================\n",
      "A    0\n",
      "dtype: int64\n",
      "==================================================\n",
      "   A  B   C   D\n",
      "0  0  1   2   3\n",
      "1  4  5   6   7\n",
      "2  8  9  10  11\n",
      "==================================================\n",
      "   A   D\n",
      "0  0   3\n",
      "1  4   7\n",
      "2  8  11\n",
      "==================================================\n",
      "   A  B   C   D\n",
      "2  8  9  10  11\n"
     ]
    }
   ],
   "source": [
    "# 행과 열의 기본 처리\n",
    "\n",
    "# pandas.Series.drop 함수:\n",
    "# 인덱스 라벨을 기준으로 시리즈의 요소를 제거하며, 요소를 제거한 시리즈 객체를 결과로 반환\n",
    "ser = pd.Series(data = np.arange(3), index = ['A', 'B', 'C'])\n",
    "print(ser), print('='*50)\n",
    "\n",
    "ser2 = ser.drop(['B', 'C'])\n",
    "print(ser2), print('='*50)\n",
    "\n",
    "# pandas.DataFrame.drop:\n",
    "# 라벨 이름과 축을 입력하거나 직접 인덱스나 열 이름을 입력해 행이나 열을 제거\n",
    "df1 = pd.DataFrame(np.arange(12).reshape(3, 4), columns = ['A', 'B', 'C', 'D'])\n",
    "print(df1), print('='*50)\n",
    "\n",
    "df2 = df1.drop(['B', 'C'], axis = 1)  # 라벨 이름과 축으로 열 제거\n",
    "print(df2), print('='*50)\n",
    "\n",
    "df3 = df1.drop([0, 1])  # 인덱스로 행 제거\n",
    "print(df3)"
   ]
  }
 ],
 "metadata": {
  "colab": {
   "provenance": []
  },
  "kernelspec": {
   "display_name": "Python [conda env:base] *",
   "language": "python",
   "name": "conda-base-py"
  },
  "language_info": {
   "codemirror_mode": {
    "name": "ipython",
    "version": 3
   },
   "file_extension": ".py",
   "mimetype": "text/x-python",
   "name": "python",
   "nbconvert_exporter": "python",
   "pygments_lexer": "ipython3",
   "version": "3.12.7"
  }
 },
 "nbformat": 4,
 "nbformat_minor": 4
}
